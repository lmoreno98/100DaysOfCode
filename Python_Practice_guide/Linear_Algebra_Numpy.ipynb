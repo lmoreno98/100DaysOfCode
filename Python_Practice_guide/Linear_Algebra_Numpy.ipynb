{
 "cells": [
  {
   "cell_type": "code",
   "execution_count": 1,
   "id": "1f1abf5e",
   "metadata": {},
   "outputs": [],
   "source": [
    "import numpy as np\n",
    "import string"
   ]
  },
  {
   "cell_type": "markdown",
   "id": "257ea98e",
   "metadata": {},
   "source": [
    "## Exercise 1:\n",
    "Define the matrices below using NumPy. Use the np.array() method.\n",
    "<img src=https://img-c.udemycdn.com/redactor/raw/article_lecture/2020-10-30_01-20-10-843e77c1e2bc2929177b77ea963fa835.png>\n",
    "Reminder: we can notice that the matrices B and C are square matrices, since the number of rows is equal to the number of columns.\n"
   ]
  },
  {
   "cell_type": "code",
   "execution_count": 2,
   "id": "1d4e5dcb",
   "metadata": {},
   "outputs": [
    {
     "data": {
      "text/plain": [
       "array([[ 1,  2,  3],\n",
       "       [ 2,  1, -1]])"
      ]
     },
     "execution_count": 2,
     "metadata": {},
     "output_type": "execute_result"
    }
   ],
   "source": [
    "ex1A = np.array([[1,2,3],[2,1,-1]])\n",
    "ex1A"
   ]
  },
  {
   "cell_type": "code",
   "execution_count": 3,
   "id": "9c0a1bc2",
   "metadata": {},
   "outputs": [
    {
     "data": {
      "text/plain": [
       "array([[ 1, -2,  0],\n",
       "       [ 3,  0,  1],\n",
       "       [ 4,  5,  6]])"
      ]
     },
     "execution_count": 3,
     "metadata": {},
     "output_type": "execute_result"
    }
   ],
   "source": [
    "ex1B = np.array([[1,-2,0],[3,0,1],[4,5,6]])\n",
    "ex1B"
   ]
  },
  {
   "cell_type": "code",
   "execution_count": 4,
   "id": "10a620f9",
   "metadata": {},
   "outputs": [
    {
     "data": {
      "text/plain": [
       "array([[1, 2, 3],\n",
       "       [4, 5, 6],\n",
       "       [7, 8, 9]])"
      ]
     },
     "execution_count": 4,
     "metadata": {},
     "output_type": "execute_result"
    }
   ],
   "source": [
    "ex1C = np.array([[1,2,3],[4,5,6],[7,8,9]])\n",
    "ex1C"
   ]
  },
  {
   "cell_type": "code",
   "execution_count": 5,
   "id": "d4b9c94e",
   "metadata": {},
   "outputs": [
    {
     "data": {
      "text/plain": [
       "array([[ 1],\n",
       "       [ 4],\n",
       "       [-3]])"
      ]
     },
     "execution_count": 5,
     "metadata": {},
     "output_type": "execute_result"
    }
   ],
   "source": [
    "ex1D = np.array([[1],[4],[-3]])\n",
    "ex1D"
   ]
  },
  {
   "cell_type": "markdown",
   "id": "e134df71",
   "metadata": {},
   "source": [
    "----------------------------------------------------------------------------------------------------------------------------\n",
    "## Exercise 2:\n",
    "Define the matrices below using NumPy. Use the np.array() method.\n",
    "<img src = https://img-c.udemycdn.com/redactor/raw/article_lecture/2020-10-30_01-22-51-956b3852646c780d0f9399eec5e56ed6.png>"
   ]
  },
  {
   "cell_type": "code",
   "execution_count": 6,
   "id": "7cf49eb5",
   "metadata": {},
   "outputs": [
    {
     "data": {
      "text/plain": [
       "array([[1],\n",
       "       [2],\n",
       "       [3],\n",
       "       [4],\n",
       "       [5],\n",
       "       [6]])"
      ]
     },
     "execution_count": 6,
     "metadata": {},
     "output_type": "execute_result"
    }
   ],
   "source": [
    "ex2A = np.array([[1],[2],[3],[4],[5],[6]])\n",
    "ex2A"
   ]
  },
  {
   "cell_type": "code",
   "execution_count": 7,
   "id": "7844e7ff",
   "metadata": {},
   "outputs": [
    {
     "data": {
      "text/plain": [
       "array([  1,   0,   3, -10])"
      ]
     },
     "execution_count": 7,
     "metadata": {},
     "output_type": "execute_result"
    }
   ],
   "source": [
    "ex2B = np.array([1,0,3,-10])\n",
    "ex2B"
   ]
  },
  {
   "cell_type": "code",
   "execution_count": 8,
   "id": "ac932a90",
   "metadata": {},
   "outputs": [
    {
     "data": {
      "text/plain": [
       "array([1, 2, 3, 4, 5])"
      ]
     },
     "execution_count": 8,
     "metadata": {},
     "output_type": "execute_result"
    }
   ],
   "source": [
    "ex2B = np.array([1,2,3,4,5])\n",
    "ex2B"
   ]
  },
  {
   "cell_type": "markdown",
   "id": "210d9a05",
   "metadata": {},
   "source": [
    "----------------------------------------------------------------------------------------------------------------------------\n",
    "## Exercise 3:\n",
    "Define the matrices below using NumPy. Use the np.array() method.\n",
    "<img src = https://img-c.udemycdn.com/redactor/raw/article_lecture/2020-10-30_01-26-29-eae8695f549702e05763a13a7f5f3400.png>\n",
    "The matrices I2, I3, I6 are called as Squared Identities Matrices, where each aij = 1 to every i = j and aij = 0 to every i different from j. So, we know that the main diagonal will be filled with 1 and the other positions on the matrix will have 0."
   ]
  },
  {
   "cell_type": "code",
   "execution_count": 9,
   "id": "537f4c07",
   "metadata": {},
   "outputs": [
    {
     "data": {
      "text/plain": [
       "array([[0, 0],\n",
       "       [0, 0]])"
      ]
     },
     "execution_count": 9,
     "metadata": {},
     "output_type": "execute_result"
    }
   ],
   "source": [
    "ex3A = np.zeros((2,2), dtype = int)\n",
    "ex3A"
   ]
  },
  {
   "cell_type": "code",
   "execution_count": 10,
   "id": "df59a63c",
   "metadata": {},
   "outputs": [
    {
     "data": {
      "text/plain": [
       "array([[0, 0, 0, 0, 0],\n",
       "       [0, 0, 0, 0, 0],\n",
       "       [0, 0, 0, 0, 0]])"
      ]
     },
     "execution_count": 10,
     "metadata": {},
     "output_type": "execute_result"
    }
   ],
   "source": [
    "ex3B = np.zeros((3,5), dtype = int)\n",
    "ex3B"
   ]
  },
  {
   "cell_type": "code",
   "execution_count": 11,
   "id": "4ac8aee2",
   "metadata": {},
   "outputs": [
    {
     "data": {
      "text/plain": [
       "array([[1, 1, 1, 1, 1],\n",
       "       [1, 1, 1, 1, 1],\n",
       "       [1, 1, 1, 1, 1],\n",
       "       [1, 1, 1, 1, 1],\n",
       "       [1, 1, 1, 1, 1]])"
      ]
     },
     "execution_count": 11,
     "metadata": {},
     "output_type": "execute_result"
    }
   ],
   "source": [
    "ex3C = np.ones((5,5), dtype = int)\n",
    "ex3C"
   ]
  },
  {
   "cell_type": "code",
   "execution_count": 12,
   "id": "37d0e2e5",
   "metadata": {},
   "outputs": [
    {
     "data": {
      "text/plain": [
       "array([[1, 0],\n",
       "       [0, 1]])"
      ]
     },
     "execution_count": 12,
     "metadata": {},
     "output_type": "execute_result"
    }
   ],
   "source": [
    "ex4D =  np.eye(2, dtype = int)\n",
    "ex4D"
   ]
  },
  {
   "cell_type": "code",
   "execution_count": 13,
   "id": "3f40d5aa",
   "metadata": {},
   "outputs": [
    {
     "data": {
      "text/plain": [
       "array([[1, 0, 0],\n",
       "       [0, 1, 0],\n",
       "       [0, 0, 1]])"
      ]
     },
     "execution_count": 13,
     "metadata": {},
     "output_type": "execute_result"
    }
   ],
   "source": [
    "ex4E =  np.eye(3, dtype = int)\n",
    "ex4E"
   ]
  },
  {
   "cell_type": "code",
   "execution_count": 14,
   "id": "268bfa9f",
   "metadata": {},
   "outputs": [
    {
     "data": {
      "text/plain": [
       "array([[1, 0, 0, 0, 0, 0],\n",
       "       [0, 1, 0, 0, 0, 0],\n",
       "       [0, 0, 1, 0, 0, 0],\n",
       "       [0, 0, 0, 1, 0, 0],\n",
       "       [0, 0, 0, 0, 1, 0],\n",
       "       [0, 0, 0, 0, 0, 1]])"
      ]
     },
     "execution_count": 14,
     "metadata": {},
     "output_type": "execute_result"
    }
   ],
   "source": [
    "ex4F =  np.eye(6, dtype = int)\n",
    "ex4F"
   ]
  },
  {
   "cell_type": "markdown",
   "id": "9206059e",
   "metadata": {},
   "source": [
    "----------------------------------------------------------------------------------------------------------------------------\n",
    "## Exercise 4:\n",
    "Define the triangular matrices below using the NumPy. Use the np.triu() and np.tril() methods.\n",
    "<img src = https://img-c.udemycdn.com/redactor/raw/article_lecture/2020-10-30_01-29-42-de11c3da6bb33565896430b2409dac25.png>\n"
   ]
  },
  {
   "cell_type": "code",
   "execution_count": 15,
   "id": "3bd08ebb",
   "metadata": {},
   "outputs": [
    {
     "data": {
      "text/plain": [
       "array([[1, 2, 3],\n",
       "       [0, 5, 6],\n",
       "       [0, 0, 9]])"
      ]
     },
     "execution_count": 15,
     "metadata": {},
     "output_type": "execute_result"
    }
   ],
   "source": [
    "ex4A = np.array(range(1,10)).reshape(3,3)\n",
    "np.triu(ex4A)"
   ]
  },
  {
   "cell_type": "code",
   "execution_count": 16,
   "id": "14410062",
   "metadata": {},
   "outputs": [
    {
     "data": {
      "text/plain": [
       "array([[1, 0, 0],\n",
       "       [4, 5, 0],\n",
       "       [7, 8, 9]])"
      ]
     },
     "execution_count": 16,
     "metadata": {},
     "output_type": "execute_result"
    }
   ],
   "source": [
    "ex4B = np.array(range(1,10)).reshape(3,3)\n",
    "np.tril(ex4A)"
   ]
  },
  {
   "cell_type": "code",
   "execution_count": 17,
   "id": "da2ca944",
   "metadata": {},
   "outputs": [
    {
     "data": {
      "text/plain": [
       "array([[100, 101, 102, 103, 104],\n",
       "       [  0, 106, 107, 108, 109],\n",
       "       [  0,   0, 112, 113, 114],\n",
       "       [  0,   0,   0, 118, 119],\n",
       "       [  0,   0,   0,   0, 124]])"
      ]
     },
     "execution_count": 17,
     "metadata": {},
     "output_type": "execute_result"
    }
   ],
   "source": [
    "ex4A = np.array(range(100,125)).reshape(5,5)\n",
    "np.triu(ex4A)"
   ]
  },
  {
   "cell_type": "markdown",
   "id": "bff1be67",
   "metadata": {},
   "source": [
    "----------------------------------------------------------------------------------------------------------------------------\n",
    "## Exercise 5:\n",
    "Define the matrices below using NumPy. Use the np.diag() and np.array() methods.\n",
    "<img src = https://img-c.udemycdn.com/redactor/raw/article_lecture/2020-10-30_01-31-51-fba26c0136181c2dc66e0bdd9893ae3d.png>"
   ]
  },
  {
   "cell_type": "code",
   "execution_count": 18,
   "id": "10886f55",
   "metadata": {},
   "outputs": [
    {
     "data": {
      "text/plain": [
       "array([[ 7,  0,  0],\n",
       "       [ 0,  1,  0],\n",
       "       [ 0,  0, -1]])"
      ]
     },
     "execution_count": 18,
     "metadata": {},
     "output_type": "execute_result"
    }
   ],
   "source": [
    "ex5A = np.ones((3,3),dtype = int)\n",
    "values = [7,1,-1]\n",
    "for i in range(0,3):\n",
    "    ex5A[i] = ex5A[i] * values[i]\n",
    "np.diag(np.diag(ex5A))"
   ]
  },
  {
   "cell_type": "code",
   "execution_count": 19,
   "id": "c2508d3b",
   "metadata": {},
   "outputs": [
    {
     "data": {
      "text/plain": [
       "array([[3, 0, 0, 0],\n",
       "       [0, 3, 0, 0],\n",
       "       [0, 0, 3, 0],\n",
       "       [0, 0, 0, 3]])"
      ]
     },
     "execution_count": 19,
     "metadata": {},
     "output_type": "execute_result"
    }
   ],
   "source": [
    "ex5B = np.ones((4,4), dtype = int)*3\n",
    "np.diag(np.diag(ex5B))"
   ]
  },
  {
   "cell_type": "code",
   "execution_count": 20,
   "id": "8781dc91",
   "metadata": {},
   "outputs": [
    {
     "data": {
      "text/plain": [
       "array([[-5,  0,  0,  0,  0],\n",
       "       [ 0, -4,  0,  0,  0],\n",
       "       [ 0,  0, -3,  0,  0],\n",
       "       [ 0,  0,  0, -2,  0],\n",
       "       [ 0,  0,  0,  0, -1]])"
      ]
     },
     "execution_count": 20,
     "metadata": {},
     "output_type": "execute_result"
    }
   ],
   "source": [
    "ex5A = np.ones((5,5),dtype = int)\n",
    "values = [-5,-4,-3,-2,-1]\n",
    "for i in range(0,5):\n",
    "    ex5A[i] = ex5A[i] * values[i]\n",
    "np.diag(np.diag(ex5A))"
   ]
  },
  {
   "cell_type": "markdown",
   "id": "9fd58ac6",
   "metadata": {},
   "source": [
    "---\n",
    "## Exercise 6:\n",
    "Define the matrices A and B given below and obtain A+B.\n",
    "\n",
    "<img src = https://img-c.udemycdn.com/redactor/raw/article_lecture/2020-10-30_01-33-56-855511f2f4dea3bd2ef789ca0560463a.png>"
   ]
  },
  {
   "cell_type": "code",
   "execution_count": 21,
   "id": "9045c4e6",
   "metadata": {},
   "outputs": [
    {
     "data": {
      "text/plain": [
       "array([[10, 11],\n",
       "       [ 5,  1],\n",
       "       [-1,  4]])"
      ]
     },
     "execution_count": 21,
     "metadata": {},
     "output_type": "execute_result"
    }
   ],
   "source": [
    "ex6A = np.array(([10,11],[5,1],[-1,4]))\n",
    "ex6A"
   ]
  },
  {
   "cell_type": "code",
   "execution_count": 22,
   "id": "b7a65d60",
   "metadata": {},
   "outputs": [
    {
     "data": {
      "text/plain": [
       "array([[  1,  25],\n",
       "       [  3,   4],\n",
       "       [  0, -10]])"
      ]
     },
     "execution_count": 22,
     "metadata": {},
     "output_type": "execute_result"
    }
   ],
   "source": [
    "ex6B = np.array(([1,25],[3,4],[0,-10]))\n",
    "ex6B"
   ]
  },
  {
   "cell_type": "code",
   "execution_count": 23,
   "id": "c8221521",
   "metadata": {},
   "outputs": [
    {
     "data": {
      "text/plain": [
       "array([[11, 36],\n",
       "       [ 8,  5],\n",
       "       [-1, -6]])"
      ]
     },
     "execution_count": 23,
     "metadata": {},
     "output_type": "execute_result"
    }
   ],
   "source": [
    "ex6_sum = ex6A + ex6B\n",
    "ex6_sum"
   ]
  },
  {
   "cell_type": "markdown",
   "id": "8a4f9bfc",
   "metadata": {},
   "source": [
    "---\n",
    "## Exercise 7:\n",
    "To the matrices below,\n",
    "<img src = https://img-c.udemycdn.com/redactor/raw/article_lecture/2020-10-30_01-42-53-b5c02f8d2e1d95efa6f6d5f623395052.png>\n",
    "Check the Matrix Addition properties:\n",
    "\n",
    "    1)A+B = B+A (commutativity)\n",
    "\n",
    "    2)A+(B+C) = (A+B)+C (association)\n",
    "\n",
    "    3)A+0 = A, where 0 denotes the null matrix of m x n\n"
   ]
  },
  {
   "cell_type": "code",
   "execution_count": 41,
   "id": "5dd7a787",
   "metadata": {},
   "outputs": [],
   "source": [
    "ex7A = np.array([[10,11],[5,1],[-2,4]])\n",
    "ex7B = np.array([[1,25],[3,4],[0,-10]])\n",
    "ex7C = np.array([[7,3],[6,1],[0,0]])"
   ]
  },
  {
   "cell_type": "code",
   "execution_count": 42,
   "id": "80ed8358",
   "metadata": {},
   "outputs": [
    {
     "name": "stdout",
     "output_type": "stream",
     "text": [
      "                   --1--\n",
      "ex7A+ex7B:\n",
      "[[11 36]\n",
      " [ 8  5]\n",
      " [-2 -6]]:\n",
      "\n",
      "ex7B+ex7A:\n",
      "[[11 36]\n",
      " [ 8  5]\n",
      " [-2 -6]]\n"
     ]
    }
   ],
   "source": [
    "print(\"                   --1--\")\n",
    "print(f\"ex7A+ex7B:\")\n",
    "print(f\"{ex7A+ex7B}:\")\n",
    "print()\n",
    "print(f\"ex7B+ex7A:\")\n",
    "print(f\"{ex7B+ex7A}\")"
   ]
  },
  {
   "cell_type": "code",
   "execution_count": 43,
   "id": "71bd506d",
   "metadata": {},
   "outputs": [
    {
     "name": "stdout",
     "output_type": "stream",
     "text": [
      "                   --2--\n",
      "ex7A+(ex7B+ex7C):\n",
      "[[18 39]\n",
      " [14  6]\n",
      " [-2 -6]]:\n",
      "\n",
      "(ex7A+ex7B)+ex7C:\n",
      "[[18 39]\n",
      " [14  6]\n",
      " [-2 -6]]\n"
     ]
    }
   ],
   "source": [
    "print(\"                   --2--\")\n",
    "print(f\"ex7A+(ex7B+ex7C):\")\n",
    "print(f\"{ex7A+(ex7B+ex7C)}:\")\n",
    "print()\n",
    "print(f\"(ex7A+ex7B)+ex7C:\")\n",
    "print(f\"{(ex7A+ex7B)+ex7C}\")"
   ]
  },
  {
   "cell_type": "code",
   "execution_count": 44,
   "id": "ef15e46f",
   "metadata": {},
   "outputs": [
    {
     "name": "stdout",
     "output_type": "stream",
     "text": [
      "                   --3--\n",
      "ex7A+null_matrix:\n",
      "[[10 11]\n",
      " [ 5  1]\n",
      " [-2  4]]:\n"
     ]
    }
   ],
   "source": [
    "print(\"                   --3--\")\n",
    "null_matrix = np.zeros((3,2),dtype = int)\n",
    "print(f\"ex7A+null_matrix:\")\n",
    "print(f\"{ex7A+null_matrix}:\")"
   ]
  },
  {
   "cell_type": "markdown",
   "id": "378f6f7a",
   "metadata": {},
   "source": [
    "---\n",
    "## Exercise 8:\n",
    "With the matrices defined below, let's calculate what is requested next.\n",
    "<img src = https://img-c.udemycdn.com/redactor/raw/article_lecture/2020-10-30_01-45-44-4e209918faa4da451557fb38df6280f3.png>\n",
    "    \n",
    "    1)A+B\n",
    "\n",
    "    2)A.C (matrix multiplication)\n",
    "\n",
    "    3)B.C\n",
    "\n",
    "    4)C.D\n",
    "\n",
    "    5)D.A\n",
    "\n",
    "    6)D.B\n",
    "\n",
    "    7)-A\n",
    "\n",
    "    8)-D\n",
    "\n",
    "    9)2A+3B"
   ]
  },
  {
   "cell_type": "code",
   "execution_count": 55,
   "id": "472092b2",
   "metadata": {},
   "outputs": [],
   "source": [
    "ex8A = np.array([[1,2,3],[2,1,-1]])\n",
    "ex8B = np.array([[-2,0,1],[3,0,1]])\n",
    "ex8C = np.array([[-1],[2],[4]])\n",
    "ex8D = np.array([[2,1]])"
   ]
  },
  {
   "cell_type": "code",
   "execution_count": 58,
   "id": "10c238a3",
   "metadata": {},
   "outputs": [
    {
     "name": "stdout",
     "output_type": "stream",
     "text": [
      "              --1--\n",
      "[[-1  2  4]\n",
      " [ 5  1  0]]\n",
      "\n",
      "              --2--\n",
      "[[15]\n",
      " [-4]]\n",
      "\n",
      "              --3--\n",
      "[[6]\n",
      " [1]]\n",
      "\n",
      "              --4--\n",
      "[[-2 -1]\n",
      " [ 4  2]\n",
      " [ 8  4]]\n",
      "\n",
      "              --5--\n",
      "[[4 5 5]]\n",
      "\n",
      "              --6--\n",
      "[[-1  0  3]]\n",
      "\n",
      "              --7--\n",
      "[[-1 -2 -3]\n",
      " [-2 -1  1]]\n",
      "\n",
      "              --8--\n",
      "[[-2 -1]]\n",
      "\n",
      "              --9--\n",
      "[[-4  4  9]\n",
      " [13  2  1]]\n"
     ]
    }
   ],
   "source": [
    "print(\"              --1--\")\n",
    "print(ex8A + ex8B)\n",
    "print()\n",
    "print(\"              --2--\")\n",
    "print(ex8A.dot(ex8C))\n",
    "print()\n",
    "print(\"              --3--\")\n",
    "print(ex8B.dot(ex8C))\n",
    "print()\n",
    "print(\"              --4--\")\n",
    "print(ex8C.dot(ex8D))\n",
    "print()\n",
    "print(\"              --5--\")\n",
    "print(ex8D.dot(ex8A))\n",
    "print()\n",
    "print(\"              --6--\")\n",
    "print(ex8D.dot(ex8B))\n",
    "print()\n",
    "print(\"              --7--\")\n",
    "print((-1)*ex8A)\n",
    "print()\n",
    "print(\"              --8--\")\n",
    "print((-1)*ex8D)\n",
    "print()\n",
    "print(\"              --9--\")\n",
    "print(ex8A*2 + ex8B*3)\n",
    "\n"
   ]
  },
  {
   "cell_type": "markdown",
   "id": "40996c09",
   "metadata": {},
   "source": [
    "---\n",
    "## Exercise 9: \n",
    "Being the matrices A, B and C. Show that:\n",
    "<img src = https://img-c.udemycdn.com/redactor/raw/article_lecture/2020-10-30_01-47-27-3683ce7af41e5d2637a15fdc043f711c.png>"
   ]
  },
  {
   "cell_type": "code",
   "execution_count": 60,
   "id": "91d69b3d",
   "metadata": {},
   "outputs": [],
   "source": [
    "ex9A = np.array([[1,-3,2],[2,1,-3],[4,-3,-1]])\n",
    "ex9B = np.array([[1,4,1,0],[2,1,1,1],[1,-2,1,2]])\n",
    "ex9C = np.array([[2,1,-1,-2],[3,-2,-1,-1],[2,-5,-1,0]])"
   ]
  },
  {
   "cell_type": "code",
   "execution_count": 61,
   "id": "bd80e4aa",
   "metadata": {},
   "outputs": [
    {
     "name": "stdout",
     "output_type": "stream",
     "text": [
      "[[ True  True  True  True]\n",
      " [ True  True  True  True]\n",
      " [ True  True  True  True]]\n"
     ]
    }
   ],
   "source": [
    "print(ex9A.dot(ex9B) == ex9A.dot(ex9C))"
   ]
  },
  {
   "cell_type": "markdown",
   "id": "bac9727d",
   "metadata": {},
   "source": [
    "---\n",
    "## Exercise 9:\n",
    "We can obtain the transposition of a matrix by exchanging the rows for the columns of the same index (so, what is a row becomes a column and what is a column becomes a row). Obtain the Matrix transposed from the following matrices:\n",
    "\n",
    "<img src = https://img-c.udemycdn.com/redactor/raw/article_lecture/2020-10-30_01-48-51-99a081e662d45d7bc4714b806c78a5f8.png>\n",
    "\n",
    "Example: With the matrix A defined below, we can obtain its transposition as it follows:\n",
    "<img src = https://img-c.udemycdn.com/redactor/raw/article_lecture/2020-10-30_01-49-33-e0a8d729ce539950d91e7c17fc0529a2.png>\n"
   ]
  },
  {
   "cell_type": "code",
   "execution_count": 66,
   "id": "9e704f8d",
   "metadata": {},
   "outputs": [
    {
     "data": {
      "text/plain": [
       "array([[ 1,  2,  4],\n",
       "       [-3,  1, -3],\n",
       "       [-2, -3, -1]])"
      ]
     },
     "execution_count": 66,
     "metadata": {},
     "output_type": "execute_result"
    }
   ],
   "source": [
    "ex9A = np.array([[1,-3,-2],[2,1,-3],[4,-3,-1]]).transpose()\n",
    "ex9A"
   ]
  },
  {
   "cell_type": "code",
   "execution_count": 67,
   "id": "d67955af",
   "metadata": {},
   "outputs": [
    {
     "data": {
      "text/plain": [
       "array([[ 1, -7, 25],\n",
       "       [ 0,  5,  9],\n",
       "       [ 4,  5, 11]])"
      ]
     },
     "execution_count": 67,
     "metadata": {},
     "output_type": "execute_result"
    }
   ],
   "source": [
    "ex9B = np.array([[1,0,4],[-7,5,5],[25,9,11]]).transpose()\n",
    "ex9B"
   ]
  },
  {
   "cell_type": "markdown",
   "id": "1ec991ad",
   "metadata": {},
   "source": [
    "---\n",
    "## Exercise10: \n",
    "Obtain the determinant of the following matrices. Use the np.linalg.det() method.\n",
    "<img src = https://img-c.udemycdn.com/redactor/raw/article_lecture/2020-10-30_01-52-40-551b73b187133edfd4befc1602077c5d.png>"
   ]
  },
  {
   "cell_type": "code",
   "execution_count": 75,
   "id": "a90fdcbe",
   "metadata": {},
   "outputs": [],
   "source": [
    "ex10A = np.array([[5]])\n",
    "ex10B = np.array([[1,2],[3,4]])\n",
    "ex10C = np.array([[-3,-8],[-5,-2]])\n",
    "ex10D = np.array([[1,0],[0,1]])"
   ]
  },
  {
   "cell_type": "code",
   "execution_count": 76,
   "id": "723bb940",
   "metadata": {},
   "outputs": [
    {
     "name": "stdout",
     "output_type": "stream",
     "text": [
      "                 A \n",
      "4.999999999999999\n",
      "                 B \n",
      "-2.0000000000000004\n",
      "                 C \n",
      "-34.00000000000001\n",
      "                 D \n",
      "1.0\n"
     ]
    }
   ],
   "source": [
    "print(\"                 A \")\n",
    "print(np.linalg.det(ex10A))\n",
    "print(\"                 B \")\n",
    "print(np.linalg.det(ex10B))\n",
    "print(\"                 C \")\n",
    "print(np.linalg.det(ex10C))\n",
    "print(\"                 D \")\n",
    "print(np.linalg.det(ex10D))"
   ]
  },
  {
   "cell_type": "markdown",
   "id": "92303d8a",
   "metadata": {},
   "source": [
    "---\n",
    "## Exercise 11: \n",
    "Obtain the determinant of the following matrices. Use the np.linalg.det() method.\n",
    "<img src = https://img-c.udemycdn.com/redactor/raw/article_lecture/2020-10-30_01-54-13-52681bd434d74d95eae658e5ba7d7d89.png>"
   ]
  },
  {
   "cell_type": "code",
   "execution_count": 83,
   "id": "7b63005a",
   "metadata": {},
   "outputs": [],
   "source": [
    "ex11A = np.array([[3,1,4],[10,7,5],[1,4,4]])\n",
    "ex11B = np.diag([1,1,1])\n",
    "ex11C = np.diag([5,10,2])\n",
    "ex11D = np.diag([3,7,11,2])\n",
    "ex11E = np.array([[5,0,13,13],[1,-1,25,7],[6,2,1,20],[11,4,0,-9]])"
   ]
  },
  {
   "cell_type": "code",
   "execution_count": 84,
   "id": "4a778b8b",
   "metadata": {},
   "outputs": [
    {
     "name": "stdout",
     "output_type": "stream",
     "text": [
      "                 A \n",
      "121.00000000000003\n",
      "                 B \n",
      "1.0\n",
      "                 C \n",
      "100.00000000000004\n",
      "                 D \n",
      "461.9999999999999\n",
      "                 E \n",
      "7045.999999999998\n"
     ]
    }
   ],
   "source": [
    "print(\"                 A \")\n",
    "print(np.linalg.det(ex11A))\n",
    "print(\"                 B \")\n",
    "print(np.linalg.det(ex11B))\n",
    "print(\"                 C \")\n",
    "print(np.linalg.det(ex11C))\n",
    "print(\"                 D \")\n",
    "print(np.linalg.det(ex11D))\n",
    "print(\"                 E \")\n",
    "print(np.linalg.det(ex11E))"
   ]
  },
  {
   "cell_type": "markdown",
   "id": "5a27f157",
   "metadata": {},
   "source": [
    "---\n",
    "## Exercise 12:\n",
    "With the matrices A and B, calculate:\n",
    "\n",
    "    1)detA+detB\n",
    "\n",
    "\n",
    "    2)det(A+B)\n",
    "    \n",
    "<img src = https://img-c.udemycdn.com/redactor/raw/article_lecture/2020-10-30_01-55-17-ccdc9264322b7592a0cfb82e835b0721.png>"
   ]
  },
  {
   "cell_type": "code",
   "execution_count": 87,
   "id": "28075804",
   "metadata": {},
   "outputs": [],
   "source": [
    "ex12A = np.array([[1,2],[1,0]])\n",
    "ex12B = np.array([[3,-1],[0,1]])"
   ]
  },
  {
   "cell_type": "code",
   "execution_count": 91,
   "id": "907977fb",
   "metadata": {},
   "outputs": [
    {
     "name": "stdout",
     "output_type": "stream",
     "text": [
      "                 1 \n",
      "122.00000000000003\n",
      "                 2 \n",
      "163.00000000000014\n"
     ]
    }
   ],
   "source": [
    "print(\"                 1 \")\n",
    "print(np.linalg.det(ex11A) + np.linalg.det(ex11B))\n",
    "print(\"                 2 \")\n",
    "print(np.linalg.det(ex11A + ex11B))"
   ]
  },
  {
   "cell_type": "markdown",
   "id": "d5e9fbd3",
   "metadata": {},
   "source": [
    "---\n",
    "## Exercise 13:\n",
    "Find the inverse of the matrices below. Use the np.linalg.inv() method.\n",
    "<img src = https://img-c.udemycdn.com/redactor/raw/article_lecture/2020-10-30_01-56-19-2bb0297265e22d4683f934a474974408.png>"
   ]
  },
  {
   "cell_type": "code",
   "execution_count": 94,
   "id": "4686066f",
   "metadata": {},
   "outputs": [],
   "source": [
    "ex13A = np.array([[1,2],[3,4]])\n",
    "ex13B = np.array([[-1,3],[5,4]])"
   ]
  },
  {
   "cell_type": "code",
   "execution_count": 96,
   "id": "9c037653",
   "metadata": {},
   "outputs": [
    {
     "name": "stdout",
     "output_type": "stream",
     "text": [
      "                    A\n",
      "[[-2.   1. ]\n",
      " [ 1.5 -0.5]]\n",
      "                    B\n",
      "[[-0.21052632  0.15789474]\n",
      " [ 0.26315789  0.05263158]]\n"
     ]
    }
   ],
   "source": [
    "print(\"                    A\")\n",
    "print(np.linalg.inv(ex13A))\n",
    "print(\"                    B\")\n",
    "print(np.linalg.inv(ex13B))"
   ]
  },
  {
   "attachments": {},
   "cell_type": "markdown",
   "id": "b911942a",
   "metadata": {},
   "source": [
    "---\n",
    "## Exercise 14:\n",
    "Find the inverse of matrix A:\n",
    "<img src = https://img-c.udemycdn.com/redactor/raw/article_lecture/2020-10-30_01-57-32-8dce2007fcfb5213355533f0f781608e.png>"
   ]
  },
  {
   "cell_type": "code",
   "execution_count": 97,
   "id": "0cbbe67b",
   "metadata": {},
   "outputs": [
    {
     "data": {
      "text/plain": [
       "array([[ 4, -1,  2, -2],\n",
       "       [ 3, -1,  0,  0],\n",
       "       [ 2,  3,  1,  0],\n",
       "       [ 0,  7,  1,  1]])"
      ]
     },
     "execution_count": 97,
     "metadata": {},
     "output_type": "execute_result"
    }
   ],
   "source": [
    "ex14 = np.array([[4,-1,2,-2],[3,-1,0,0],[2,3,1,0],[0,7,1,1]])\n",
    "ex14"
   ]
  },
  {
   "cell_type": "code",
   "execution_count": 98,
   "id": "fb20af0a",
   "metadata": {},
   "outputs": [
    {
     "data": {
      "text/plain": [
       "array([[ -1.,  -1.,   4.,  -2.],\n",
       "       [ -3.,  -4.,  12.,  -6.],\n",
       "       [ 11.,  14., -43.,  22.],\n",
       "       [ 10.,  14., -41.,  21.]])"
      ]
     },
     "execution_count": 98,
     "metadata": {},
     "output_type": "execute_result"
    }
   ],
   "source": [
    "np.linalg.inv(ex14)"
   ]
  },
  {
   "cell_type": "markdown",
   "id": "0f21e9e9",
   "metadata": {},
   "source": [
    "---\n",
    "## Exercise 15:\n",
    "Find the inverse of matrix A:\n",
    "<img src = https://img-c.udemycdn.com/redactor/raw/article_lecture/2020-10-30_01-58-42-e0b96fa6902b4910e962c0e0fc447fa6.png>"
   ]
  },
  {
   "cell_type": "code",
   "execution_count": 99,
   "id": "a45e8f8c",
   "metadata": {},
   "outputs": [
    {
     "data": {
      "text/plain": [
       "array([[ 7,  0,  0,  0,  0,  0,  0,  0],\n",
       "       [ 0,  8,  0,  0,  0,  0,  0,  0],\n",
       "       [ 0,  0, 11,  0,  0,  0,  0,  0],\n",
       "       [ 0,  0,  0,  2,  0,  0,  0,  0],\n",
       "       [ 0,  0,  0,  0,  4,  0,  0,  0],\n",
       "       [ 0,  0,  0,  0,  0,  5,  0,  0],\n",
       "       [ 0,  0,  0,  0,  0,  0,  1,  0],\n",
       "       [ 0,  0,  0,  0,  0,  0,  0,  3]])"
      ]
     },
     "execution_count": 99,
     "metadata": {},
     "output_type": "execute_result"
    }
   ],
   "source": [
    "ex15 = np.diag([7,8,11,2,4,5,1,3])\n",
    "ex15"
   ]
  },
  {
   "cell_type": "code",
   "execution_count": 100,
   "id": "4447c596",
   "metadata": {},
   "outputs": [
    {
     "data": {
      "text/plain": [
       "array([[0.14285714, 0.        , 0.        , 0.        , 0.        ,\n",
       "        0.        , 0.        , 0.        ],\n",
       "       [0.        , 0.125     , 0.        , 0.        , 0.        ,\n",
       "        0.        , 0.        , 0.        ],\n",
       "       [0.        , 0.        , 0.09090909, 0.        , 0.        ,\n",
       "        0.        , 0.        , 0.        ],\n",
       "       [0.        , 0.        , 0.        , 0.5       , 0.        ,\n",
       "        0.        , 0.        , 0.        ],\n",
       "       [0.        , 0.        , 0.        , 0.        , 0.25      ,\n",
       "        0.        , 0.        , 0.        ],\n",
       "       [0.        , 0.        , 0.        , 0.        , 0.        ,\n",
       "        0.2       , 0.        , 0.        ],\n",
       "       [0.        , 0.        , 0.        , 0.        , 0.        ,\n",
       "        0.        , 1.        , 0.        ],\n",
       "       [0.        , 0.        , 0.        , 0.        , 0.        ,\n",
       "        0.        , 0.        , 0.33333333]])"
      ]
     },
     "execution_count": 100,
     "metadata": {},
     "output_type": "execute_result"
    }
   ],
   "source": [
    "np.linalg.inv(ex15)"
   ]
  },
  {
   "cell_type": "markdown",
   "id": "9ae886d8",
   "metadata": {},
   "source": [
    "---\n",
    "## Exercise16:\n",
    "Solve the following linear systems. Use the np.linalg.solve() method.\n",
    "<img src = https://img-c.udemycdn.com/redactor/raw/article_lecture/2020-10-30_01-59-52-12f4cbc61567b6e0b6e8ad78c20e1f17.png>"
   ]
  },
  {
   "cell_type": "code",
   "execution_count": 110,
   "id": "1b17d7a9",
   "metadata": {},
   "outputs": [
    {
     "name": "stdout",
     "output_type": "stream",
     "text": [
      "ex16A\n",
      "[[ 2  3]\n",
      " [ 1 -1]]\n",
      "solvA\n",
      "[[6]\n",
      " [8]]\n",
      "\n",
      "ex16B\n",
      "[[3 1]\n",
      " [1 2]]\n",
      "solvB\n",
      "[[9]\n",
      " [8]]\n"
     ]
    }
   ],
   "source": [
    "ex16A = np.array([[2,3],[1,-1]])\n",
    "solvA = np.array([[6],[8]])\n",
    "print(\"ex16A\")\n",
    "print(ex16A)\n",
    "print(\"solvA\")\n",
    "print(solvA)\n",
    "print()\n",
    "ex16B = np.array([[3,1],[1,2]])\n",
    "solvB = np.array([[9],[8]])\n",
    "print(\"ex16B\")\n",
    "print(ex16B)\n",
    "print(\"solvB\")\n",
    "print(solvB)"
   ]
  },
  {
   "cell_type": "code",
   "execution_count": 111,
   "id": "6f2b65e1",
   "metadata": {},
   "outputs": [
    {
     "data": {
      "text/plain": [
       "array([[ 6.],\n",
       "       [-2.]])"
      ]
     },
     "execution_count": 111,
     "metadata": {},
     "output_type": "execute_result"
    }
   ],
   "source": [
    "np.linalg.solve(ex16A, solvA)"
   ]
  },
  {
   "cell_type": "code",
   "execution_count": 112,
   "id": "3316299a",
   "metadata": {},
   "outputs": [
    {
     "data": {
      "text/plain": [
       "array([[2.],\n",
       "       [3.]])"
      ]
     },
     "execution_count": 112,
     "metadata": {},
     "output_type": "execute_result"
    }
   ],
   "source": [
    "np.linalg.solve(ex16B, solvB)"
   ]
  },
  {
   "cell_type": "code",
   "execution_count": null,
   "id": "338d464e",
   "metadata": {},
   "outputs": [],
   "source": []
  }
 ],
 "metadata": {
  "kernelspec": {
   "display_name": "Python 3",
   "language": "python",
   "name": "python3"
  },
  "language_info": {
   "codemirror_mode": {
    "name": "ipython",
    "version": 3
   },
   "file_extension": ".py",
   "mimetype": "text/x-python",
   "name": "python",
   "nbconvert_exporter": "python",
   "pygments_lexer": "ipython3",
   "version": "3.8.8"
  }
 },
 "nbformat": 4,
 "nbformat_minor": 5
}
