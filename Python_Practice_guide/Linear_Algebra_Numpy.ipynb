{
 "cells": [
  {
   "cell_type": "code",
   "execution_count": 1,
   "id": "1f1abf5e",
   "metadata": {},
   "outputs": [],
   "source": [
    "import numpy as np\n",
    "import string"
   ]
  },
  {
   "cell_type": "markdown",
   "id": "257ea98e",
   "metadata": {},
   "source": [
    "## Exercise 1:\n",
    "Define the matrices below using NumPy. Use the np.array() method.\n",
    "<img src=https://img-c.udemycdn.com/redactor/raw/article_lecture/2020-10-30_01-20-10-843e77c1e2bc2929177b77ea963fa835.png>\n",
    "Reminder: we can notice that the matrices B and C are square matrices, since the number of rows is equal to the number of columns.\n"
   ]
  },
  {
   "cell_type": "code",
   "execution_count": 2,
   "id": "1d4e5dcb",
   "metadata": {},
   "outputs": [
    {
     "data": {
      "text/plain": [
       "array([[ 1,  2,  3],\n",
       "       [ 2,  1, -1]])"
      ]
     },
     "execution_count": 2,
     "metadata": {},
     "output_type": "execute_result"
    }
   ],
   "source": [
    "ex1A = np.array([[1,2,3],[2,1,-1]])\n",
    "ex1A"
   ]
  },
  {
   "cell_type": "code",
   "execution_count": 3,
   "id": "9c0a1bc2",
   "metadata": {},
   "outputs": [
    {
     "data": {
      "text/plain": [
       "array([[ 1, -2,  0],\n",
       "       [ 3,  0,  1],\n",
       "       [ 4,  5,  6]])"
      ]
     },
     "execution_count": 3,
     "metadata": {},
     "output_type": "execute_result"
    }
   ],
   "source": [
    "ex1B = np.array([[1,-2,0],[3,0,1],[4,5,6]])\n",
    "ex1B"
   ]
  },
  {
   "cell_type": "code",
   "execution_count": 4,
   "id": "10a620f9",
   "metadata": {},
   "outputs": [
    {
     "data": {
      "text/plain": [
       "array([[1, 2, 3],\n",
       "       [4, 5, 6],\n",
       "       [7, 8, 9]])"
      ]
     },
     "execution_count": 4,
     "metadata": {},
     "output_type": "execute_result"
    }
   ],
   "source": [
    "ex1C = np.array([[1,2,3],[4,5,6],[7,8,9]])\n",
    "ex1C"
   ]
  },
  {
   "cell_type": "code",
   "execution_count": 5,
   "id": "d4b9c94e",
   "metadata": {},
   "outputs": [
    {
     "data": {
      "text/plain": [
       "array([[ 1],\n",
       "       [ 4],\n",
       "       [-3]])"
      ]
     },
     "execution_count": 5,
     "metadata": {},
     "output_type": "execute_result"
    }
   ],
   "source": [
    "ex1D = np.array([[1],[4],[-3]])\n",
    "ex1D"
   ]
  },
  {
   "cell_type": "markdown",
   "id": "e134df71",
   "metadata": {},
   "source": [
    "----------------------------------------------------------------------------------------------------------------------------\n",
    "## Exercise 2:\n",
    "Define the matrices below using NumPy. Use the np.array() method.\n",
    "<img src = https://img-c.udemycdn.com/redactor/raw/article_lecture/2020-10-30_01-22-51-956b3852646c780d0f9399eec5e56ed6.png>"
   ]
  },
  {
   "cell_type": "code",
   "execution_count": 6,
   "id": "7cf49eb5",
   "metadata": {},
   "outputs": [
    {
     "data": {
      "text/plain": [
       "array([[1],\n",
       "       [2],\n",
       "       [3],\n",
       "       [4],\n",
       "       [5],\n",
       "       [6]])"
      ]
     },
     "execution_count": 6,
     "metadata": {},
     "output_type": "execute_result"
    }
   ],
   "source": [
    "ex2A = np.array([[1],[2],[3],[4],[5],[6]])\n",
    "ex2A"
   ]
  },
  {
   "cell_type": "code",
   "execution_count": 7,
   "id": "7844e7ff",
   "metadata": {},
   "outputs": [
    {
     "data": {
      "text/plain": [
       "array([  1,   0,   3, -10])"
      ]
     },
     "execution_count": 7,
     "metadata": {},
     "output_type": "execute_result"
    }
   ],
   "source": [
    "ex2B = np.array([1,0,3,-10])\n",
    "ex2B"
   ]
  },
  {
   "cell_type": "code",
   "execution_count": 8,
   "id": "ac932a90",
   "metadata": {},
   "outputs": [
    {
     "data": {
      "text/plain": [
       "array([1, 2, 3, 4, 5])"
      ]
     },
     "execution_count": 8,
     "metadata": {},
     "output_type": "execute_result"
    }
   ],
   "source": [
    "ex2B = np.array([1,2,3,4,5])\n",
    "ex2B"
   ]
  },
  {
   "cell_type": "markdown",
   "id": "210d9a05",
   "metadata": {},
   "source": [
    "----------------------------------------------------------------------------------------------------------------------------\n",
    "## Exercise 3:\n",
    "Define the matrices below using NumPy. Use the np.array() method.\n",
    "<img src = https://img-c.udemycdn.com/redactor/raw/article_lecture/2020-10-30_01-26-29-eae8695f549702e05763a13a7f5f3400.png>\n",
    "The matrices I2, I3, I6 are called as Squared Identities Matrices, where each aij = 1 to every i = j and aij = 0 to every i different from j. So, we know that the main diagonal will be filled with 1 and the other positions on the matrix will have 0."
   ]
  },
  {
   "cell_type": "code",
   "execution_count": 9,
   "id": "537f4c07",
   "metadata": {},
   "outputs": [
    {
     "data": {
      "text/plain": [
       "array([[0, 0],\n",
       "       [0, 0]])"
      ]
     },
     "execution_count": 9,
     "metadata": {},
     "output_type": "execute_result"
    }
   ],
   "source": [
    "ex3A = np.zeros((2,2), dtype = int)\n",
    "ex3A"
   ]
  },
  {
   "cell_type": "code",
   "execution_count": 10,
   "id": "df59a63c",
   "metadata": {},
   "outputs": [
    {
     "data": {
      "text/plain": [
       "array([[0, 0, 0, 0, 0],\n",
       "       [0, 0, 0, 0, 0],\n",
       "       [0, 0, 0, 0, 0]])"
      ]
     },
     "execution_count": 10,
     "metadata": {},
     "output_type": "execute_result"
    }
   ],
   "source": [
    "ex3B = np.zeros((3,5), dtype = int)\n",
    "ex3B"
   ]
  },
  {
   "cell_type": "code",
   "execution_count": 11,
   "id": "4ac8aee2",
   "metadata": {},
   "outputs": [
    {
     "data": {
      "text/plain": [
       "array([[1, 1, 1, 1, 1],\n",
       "       [1, 1, 1, 1, 1],\n",
       "       [1, 1, 1, 1, 1],\n",
       "       [1, 1, 1, 1, 1],\n",
       "       [1, 1, 1, 1, 1]])"
      ]
     },
     "execution_count": 11,
     "metadata": {},
     "output_type": "execute_result"
    }
   ],
   "source": [
    "ex3C = np.ones((5,5), dtype = int)\n",
    "ex3C"
   ]
  },
  {
   "cell_type": "code",
   "execution_count": 12,
   "id": "37d0e2e5",
   "metadata": {},
   "outputs": [
    {
     "data": {
      "text/plain": [
       "array([[1, 0],\n",
       "       [0, 1]])"
      ]
     },
     "execution_count": 12,
     "metadata": {},
     "output_type": "execute_result"
    }
   ],
   "source": [
    "ex4D =  np.eye(2, dtype = int)\n",
    "ex4D"
   ]
  },
  {
   "cell_type": "code",
   "execution_count": 13,
   "id": "3f40d5aa",
   "metadata": {},
   "outputs": [
    {
     "data": {
      "text/plain": [
       "array([[1, 0, 0],\n",
       "       [0, 1, 0],\n",
       "       [0, 0, 1]])"
      ]
     },
     "execution_count": 13,
     "metadata": {},
     "output_type": "execute_result"
    }
   ],
   "source": [
    "ex4E =  np.eye(3, dtype = int)\n",
    "ex4E"
   ]
  },
  {
   "cell_type": "code",
   "execution_count": 14,
   "id": "268bfa9f",
   "metadata": {},
   "outputs": [
    {
     "data": {
      "text/plain": [
       "array([[1, 0, 0, 0, 0, 0],\n",
       "       [0, 1, 0, 0, 0, 0],\n",
       "       [0, 0, 1, 0, 0, 0],\n",
       "       [0, 0, 0, 1, 0, 0],\n",
       "       [0, 0, 0, 0, 1, 0],\n",
       "       [0, 0, 0, 0, 0, 1]])"
      ]
     },
     "execution_count": 14,
     "metadata": {},
     "output_type": "execute_result"
    }
   ],
   "source": [
    "ex4F =  np.eye(6, dtype = int)\n",
    "ex4F"
   ]
  },
  {
   "cell_type": "markdown",
   "id": "9206059e",
   "metadata": {},
   "source": [
    "----------------------------------------------------------------------------------------------------------------------------\n",
    "## Exercise 4:\n",
    "Define the triangular matrices below using the NumPy. Use the np.triu() and np.tril() methods.\n",
    "<img src = https://img-c.udemycdn.com/redactor/raw/article_lecture/2020-10-30_01-29-42-de11c3da6bb33565896430b2409dac25.png>\n"
   ]
  },
  {
   "cell_type": "code",
   "execution_count": 15,
   "id": "3bd08ebb",
   "metadata": {},
   "outputs": [
    {
     "data": {
      "text/plain": [
       "array([[1, 2, 3],\n",
       "       [0, 5, 6],\n",
       "       [0, 0, 9]])"
      ]
     },
     "execution_count": 15,
     "metadata": {},
     "output_type": "execute_result"
    }
   ],
   "source": [
    "ex4A = np.array(range(1,10)).reshape(3,3)\n",
    "np.triu(ex4A)"
   ]
  },
  {
   "cell_type": "code",
   "execution_count": 16,
   "id": "14410062",
   "metadata": {},
   "outputs": [
    {
     "data": {
      "text/plain": [
       "array([[1, 0, 0],\n",
       "       [4, 5, 0],\n",
       "       [7, 8, 9]])"
      ]
     },
     "execution_count": 16,
     "metadata": {},
     "output_type": "execute_result"
    }
   ],
   "source": [
    "ex4B = np.array(range(1,10)).reshape(3,3)\n",
    "np.tril(ex4A)"
   ]
  },
  {
   "cell_type": "code",
   "execution_count": 17,
   "id": "da2ca944",
   "metadata": {},
   "outputs": [
    {
     "data": {
      "text/plain": [
       "array([[100, 101, 102, 103, 104],\n",
       "       [  0, 106, 107, 108, 109],\n",
       "       [  0,   0, 112, 113, 114],\n",
       "       [  0,   0,   0, 118, 119],\n",
       "       [  0,   0,   0,   0, 124]])"
      ]
     },
     "execution_count": 17,
     "metadata": {},
     "output_type": "execute_result"
    }
   ],
   "source": [
    "ex4A = np.array(range(100,125)).reshape(5,5)\n",
    "np.triu(ex4A)"
   ]
  },
  {
   "cell_type": "markdown",
   "id": "bff1be67",
   "metadata": {},
   "source": [
    "----------------------------------------------------------------------------------------------------------------------------\n",
    "## Exercise 5:\n",
    "Define the matrices below using NumPy. Use the np.diag() and np.array() methods.\n",
    "<img src = https://img-c.udemycdn.com/redactor/raw/article_lecture/2020-10-30_01-31-51-fba26c0136181c2dc66e0bdd9893ae3d.png>"
   ]
  },
  {
   "cell_type": "code",
   "execution_count": 18,
   "id": "10886f55",
   "metadata": {},
   "outputs": [
    {
     "data": {
      "text/plain": [
       "array([[ 7,  0,  0],\n",
       "       [ 0,  1,  0],\n",
       "       [ 0,  0, -1]])"
      ]
     },
     "execution_count": 18,
     "metadata": {},
     "output_type": "execute_result"
    }
   ],
   "source": [
    "ex5A = np.ones((3,3),dtype = int)\n",
    "values = [7,1,-1]\n",
    "for i in range(0,3):\n",
    "    ex5A[i] = ex5A[i] * values[i]\n",
    "np.diag(np.diag(ex5A))"
   ]
  },
  {
   "cell_type": "code",
   "execution_count": 19,
   "id": "c2508d3b",
   "metadata": {},
   "outputs": [
    {
     "data": {
      "text/plain": [
       "array([[3, 0, 0, 0],\n",
       "       [0, 3, 0, 0],\n",
       "       [0, 0, 3, 0],\n",
       "       [0, 0, 0, 3]])"
      ]
     },
     "execution_count": 19,
     "metadata": {},
     "output_type": "execute_result"
    }
   ],
   "source": [
    "ex5B = np.ones((4,4), dtype = int)*3\n",
    "np.diag(np.diag(ex5B))"
   ]
  },
  {
   "cell_type": "code",
   "execution_count": 20,
   "id": "8781dc91",
   "metadata": {},
   "outputs": [
    {
     "data": {
      "text/plain": [
       "array([[-5,  0,  0,  0,  0],\n",
       "       [ 0, -4,  0,  0,  0],\n",
       "       [ 0,  0, -3,  0,  0],\n",
       "       [ 0,  0,  0, -2,  0],\n",
       "       [ 0,  0,  0,  0, -1]])"
      ]
     },
     "execution_count": 20,
     "metadata": {},
     "output_type": "execute_result"
    }
   ],
   "source": [
    "ex5A = np.ones((5,5),dtype = int)\n",
    "values = [-5,-4,-3,-2,-1]\n",
    "for i in range(0,5):\n",
    "    ex5A[i] = ex5A[i] * values[i]\n",
    "np.diag(np.diag(ex5A))"
   ]
  },
  {
   "cell_type": "markdown",
   "id": "9fd58ac6",
   "metadata": {},
   "source": [
    "---\n",
    "## Exercise 6:\n",
    "Define the matrices A and B given below and obtain A+B.\n",
    "\n",
    "<img src = https://img-c.udemycdn.com/redactor/raw/article_lecture/2020-10-30_01-33-56-855511f2f4dea3bd2ef789ca0560463a.png>"
   ]
  },
  {
   "cell_type": "code",
   "execution_count": 21,
   "id": "9045c4e6",
   "metadata": {},
   "outputs": [
    {
     "data": {
      "text/plain": [
       "array([[10, 11],\n",
       "       [ 5,  1],\n",
       "       [-1,  4]])"
      ]
     },
     "execution_count": 21,
     "metadata": {},
     "output_type": "execute_result"
    }
   ],
   "source": [
    "ex6A = np.array(([10,11],[5,1],[-1,4]))\n",
    "ex6A"
   ]
  },
  {
   "cell_type": "code",
   "execution_count": 22,
   "id": "b7a65d60",
   "metadata": {},
   "outputs": [
    {
     "data": {
      "text/plain": [
       "array([[  1,  25],\n",
       "       [  3,   4],\n",
       "       [  0, -10]])"
      ]
     },
     "execution_count": 22,
     "metadata": {},
     "output_type": "execute_result"
    }
   ],
   "source": [
    "ex6B = np.array(([1,25],[3,4],[0,-10]))\n",
    "ex6B"
   ]
  },
  {
   "cell_type": "code",
   "execution_count": 25,
   "id": "c8221521",
   "metadata": {},
   "outputs": [
    {
     "data": {
      "text/plain": [
       "array([[11, 36],\n",
       "       [ 8,  5],\n",
       "       [-1, -6]])"
      ]
     },
     "execution_count": 25,
     "metadata": {},
     "output_type": "execute_result"
    }
   ],
   "source": [
    "ex6_sum = ex6A + ex6B\n",
    "ex6_sum"
   ]
  },
  {
   "cell_type": "code",
   "execution_count": null,
   "id": "66606cd7",
   "metadata": {},
   "outputs": [],
   "source": []
  }
 ],
 "metadata": {
  "kernelspec": {
   "display_name": "Python 3",
   "language": "python",
   "name": "python3"
  },
  "language_info": {
   "codemirror_mode": {
    "name": "ipython",
    "version": 3
   },
   "file_extension": ".py",
   "mimetype": "text/x-python",
   "name": "python",
   "nbconvert_exporter": "python",
   "pygments_lexer": "ipython3",
   "version": "3.8.8"
  }
 },
 "nbformat": 4,
 "nbformat_minor": 5
}
