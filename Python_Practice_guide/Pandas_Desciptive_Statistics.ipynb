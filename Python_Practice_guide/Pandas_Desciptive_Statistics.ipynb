{
 "cells": [
  {
   "cell_type": "code",
   "execution_count": 129,
   "id": "a036ed51",
   "metadata": {},
   "outputs": [],
   "source": [
    "import pandas as pd\n",
    "import numpy as np\n",
    "import seaborn as sns\n",
    "import matplotlib.pyplot as plt"
   ]
  },
  {
   "cell_type": "markdown",
   "id": "5f4fb05e",
   "metadata": {},
   "source": [
    "---\n",
    "## Exercise 1:\n",
    "The data below refer to the amount of permanent tillages produced in Brazil, between 2017 and 2019. Build the DataFrame below and then do:\n",
    "\n",
    "\n",
    "a) obtain the total amount produced by tillages in each year;\n",
    "\n",
    "b) obtain the total amount produced by each tillage over time;\n",
    "\n",
    "c) show a summary of the descriptive statistics;\n",
    "\n",
    "d) convert the database to csv.\n",
    "\n",
    "\n",
    "\n",
    "Avocado | Açaí | Banana | Cocoa | Orange | Apple | Papaya | Mango\n",
    "<img src = https://img-c.udemycdn.com/redactor/raw/article_lecture/2020-12-22_17-11-32-d6f7a0599a3b53ebdaf4d6f400bf9056.png>\n",
    "\n",
    "Use the data dictionary:\n",
    "\n",
    "    dados = {\n",
    "        'Abacate':{\n",
    "            2017: 212873,\n",
    "            2018: 236177,\n",
    "            2019: 242932\n",
    "        },    \n",
    "        'Açaí':{\n",
    "            2017:1335040,\n",
    "            2018:1301472,\n",
    "            2019:1398328\n",
    "        },\n",
    "        'Banana':{\n",
    "            2017:6584967,\n",
    "            2018:6723590,\n",
    "            2019:6812708\n",
    "        },    \n",
    "        'Cacau':{\n",
    "            2017:235809,\n",
    "            2018:239318,\n",
    "            2019:259425\n",
    "        },    \n",
    "        'Laranja':{\n",
    "            2017:17492882,\n",
    "            2018:16841549,\n",
    "            2019:17073593\n",
    "        },    \n",
    "        'Maçã':{\n",
    "            2017:1307642,\n",
    "            2018:1203007,\n",
    "            2019:1222970\n",
    "        },\n",
    "        'Mamão':{\n",
    "            2017:1058487,\n",
    "            2018:1065421,\n",
    "            2019:1161808\n",
    "        },    \n",
    "        'Manga':{\n",
    "            2017:1089882,\n",
    "            2018:1320458,\n",
    "            2019:1414338\n",
    "        },\n",
    "     \n",
    "    }\n"
   ]
  },
  {
   "cell_type": "code",
   "execution_count": 2,
   "id": "51d7ea78",
   "metadata": {},
   "outputs": [
    {
     "data": {
      "text/html": [
       "<div>\n",
       "<style scoped>\n",
       "    .dataframe tbody tr th:only-of-type {\n",
       "        vertical-align: middle;\n",
       "    }\n",
       "\n",
       "    .dataframe tbody tr th {\n",
       "        vertical-align: top;\n",
       "    }\n",
       "\n",
       "    .dataframe thead th {\n",
       "        text-align: right;\n",
       "    }\n",
       "</style>\n",
       "<table border=\"1\" class=\"dataframe\">\n",
       "  <thead>\n",
       "    <tr style=\"text-align: right;\">\n",
       "      <th></th>\n",
       "      <th>Abacate</th>\n",
       "      <th>Açaí</th>\n",
       "      <th>Banana</th>\n",
       "      <th>Cacau</th>\n",
       "      <th>Laranja</th>\n",
       "      <th>Maçã</th>\n",
       "      <th>Mamão</th>\n",
       "      <th>Manga</th>\n",
       "    </tr>\n",
       "  </thead>\n",
       "  <tbody>\n",
       "    <tr>\n",
       "      <th>2017</th>\n",
       "      <td>212873</td>\n",
       "      <td>1335040</td>\n",
       "      <td>6584967</td>\n",
       "      <td>235809</td>\n",
       "      <td>17492882</td>\n",
       "      <td>1307642</td>\n",
       "      <td>1058487</td>\n",
       "      <td>1089882</td>\n",
       "    </tr>\n",
       "    <tr>\n",
       "      <th>2018</th>\n",
       "      <td>236177</td>\n",
       "      <td>1301472</td>\n",
       "      <td>6723590</td>\n",
       "      <td>239318</td>\n",
       "      <td>16841549</td>\n",
       "      <td>1203007</td>\n",
       "      <td>1065421</td>\n",
       "      <td>1320458</td>\n",
       "    </tr>\n",
       "    <tr>\n",
       "      <th>2019</th>\n",
       "      <td>242932</td>\n",
       "      <td>1398328</td>\n",
       "      <td>6812708</td>\n",
       "      <td>259425</td>\n",
       "      <td>17073593</td>\n",
       "      <td>1222970</td>\n",
       "      <td>1161808</td>\n",
       "      <td>1414338</td>\n",
       "    </tr>\n",
       "  </tbody>\n",
       "</table>\n",
       "</div>"
      ],
      "text/plain": [
       "      Abacate     Açaí   Banana   Cacau   Laranja     Maçã    Mamão    Manga\n",
       "2017   212873  1335040  6584967  235809  17492882  1307642  1058487  1089882\n",
       "2018   236177  1301472  6723590  239318  16841549  1203007  1065421  1320458\n",
       "2019   242932  1398328  6812708  259425  17073593  1222970  1161808  1414338"
      ]
     },
     "execution_count": 2,
     "metadata": {},
     "output_type": "execute_result"
    }
   ],
   "source": [
    "datos = {\n",
    "    'Abacate':{\n",
    "        2017: 212873,\n",
    "        2018: 236177,\n",
    "        2019: 242932\n",
    "    },    \n",
    "    'Açaí':{\n",
    "        2017:1335040,\n",
    "        2018:1301472,\n",
    "        2019:1398328\n",
    "    },\n",
    "    'Banana':{\n",
    "        2017:6584967,\n",
    "        2018:6723590,\n",
    "        2019:6812708\n",
    "    },    \n",
    "    'Cacau':{\n",
    "        2017:235809,\n",
    "        2018:239318,\n",
    "        2019:259425\n",
    "    },    \n",
    "    'Laranja':{\n",
    "        2017:17492882,\n",
    "        2018:16841549,\n",
    "        2019:17073593\n",
    "    },    \n",
    "    'Maçã':{\n",
    "        2017:1307642,\n",
    "        2018:1203007,\n",
    "        2019:1222970\n",
    "    },\n",
    "    'Mamão':{\n",
    "        2017:1058487,\n",
    "        2018:1065421,\n",
    "        2019:1161808\n",
    "    },    \n",
    "    'Manga':{\n",
    "        2017:1089882,\n",
    "        2018:1320458,\n",
    "        2019:1414338\n",
    "    },\n",
    "\n",
    "}\n",
    "ex1 = pd.DataFrame(datos)\n",
    "ex1"
   ]
  },
  {
   "cell_type": "code",
   "execution_count": 35,
   "id": "eb1d47ef",
   "metadata": {},
   "outputs": [
    {
     "data": {
      "text/plain": [
       "Int64Index([2017, 2018, 2019], dtype='int64')"
      ]
     },
     "execution_count": 35,
     "metadata": {},
     "output_type": "execute_result"
    }
   ],
   "source": [
    "ex1.index"
   ]
  },
  {
   "cell_type": "code",
   "execution_count": 45,
   "id": "f71d7cea",
   "metadata": {},
   "outputs": [
    {
     "name": "stdout",
     "output_type": "stream",
     "text": [
      "Total producido en 2017: 29317582\n",
      "Total producido en 2018: 28930992\n",
      "Total producido en 2019: 29586102\n"
     ]
    }
   ],
   "source": [
    "#1\n",
    "for index, leng in zip(ex1.index, range(ex1.shape[0])):\n",
    "    print(f\"Total producido en {index}: {ex1.iloc[leng].sum()}\")"
   ]
  },
  {
   "cell_type": "code",
   "execution_count": 31,
   "id": "f61a5ddc",
   "metadata": {},
   "outputs": [
    {
     "name": "stdout",
     "output_type": "stream",
     "text": [
      "Total producido en Abacate: 691982\n",
      "Total producido en Açaí: 4034840\n",
      "Total producido en Banana: 20121265\n",
      "Total producido en Cacau: 734552\n",
      "Total producido en Laranja: 51408024\n",
      "Total producido en Maçã: 3733619\n",
      "Total producido en Mamão: 3285716\n",
      "Total producido en Manga: 3824678\n"
     ]
    }
   ],
   "source": [
    "#2\n",
    "for col in ex1.columns:\n",
    "    print(f\"Total producido en {col}: {ex1[col].sum()}\")"
   ]
  },
  {
   "cell_type": "code",
   "execution_count": 32,
   "id": "3c60f319",
   "metadata": {},
   "outputs": [
    {
     "data": {
      "text/html": [
       "<div>\n",
       "<style scoped>\n",
       "    .dataframe tbody tr th:only-of-type {\n",
       "        vertical-align: middle;\n",
       "    }\n",
       "\n",
       "    .dataframe tbody tr th {\n",
       "        vertical-align: top;\n",
       "    }\n",
       "\n",
       "    .dataframe thead th {\n",
       "        text-align: right;\n",
       "    }\n",
       "</style>\n",
       "<table border=\"1\" class=\"dataframe\">\n",
       "  <thead>\n",
       "    <tr style=\"text-align: right;\">\n",
       "      <th></th>\n",
       "      <th>Abacate</th>\n",
       "      <th>Açaí</th>\n",
       "      <th>Banana</th>\n",
       "      <th>Cacau</th>\n",
       "      <th>Laranja</th>\n",
       "      <th>Maçã</th>\n",
       "      <th>Mamão</th>\n",
       "      <th>Manga</th>\n",
       "    </tr>\n",
       "  </thead>\n",
       "  <tbody>\n",
       "    <tr>\n",
       "      <th>count</th>\n",
       "      <td>3.000000</td>\n",
       "      <td>3.000000e+00</td>\n",
       "      <td>3.000000e+00</td>\n",
       "      <td>3.000000</td>\n",
       "      <td>3.000000e+00</td>\n",
       "      <td>3.000000e+00</td>\n",
       "      <td>3.000000e+00</td>\n",
       "      <td>3.000000e+00</td>\n",
       "    </tr>\n",
       "    <tr>\n",
       "      <th>mean</th>\n",
       "      <td>230660.666667</td>\n",
       "      <td>1.344947e+06</td>\n",
       "      <td>6.707088e+06</td>\n",
       "      <td>244850.666667</td>\n",
       "      <td>1.713601e+07</td>\n",
       "      <td>1.244540e+06</td>\n",
       "      <td>1.095239e+06</td>\n",
       "      <td>1.274893e+06</td>\n",
       "    </tr>\n",
       "    <tr>\n",
       "      <th>std</th>\n",
       "      <td>15770.488906</td>\n",
       "      <td>4.918209e+04</td>\n",
       "      <td>1.147638e+05</td>\n",
       "      <td>12743.102618</td>\n",
       "      <td>3.301218e+05</td>\n",
       "      <td>5.555231e+04</td>\n",
       "      <td>5.775489e+04</td>\n",
       "      <td>1.669583e+05</td>\n",
       "    </tr>\n",
       "    <tr>\n",
       "      <th>min</th>\n",
       "      <td>212873.000000</td>\n",
       "      <td>1.301472e+06</td>\n",
       "      <td>6.584967e+06</td>\n",
       "      <td>235809.000000</td>\n",
       "      <td>1.684155e+07</td>\n",
       "      <td>1.203007e+06</td>\n",
       "      <td>1.058487e+06</td>\n",
       "      <td>1.089882e+06</td>\n",
       "    </tr>\n",
       "    <tr>\n",
       "      <th>25%</th>\n",
       "      <td>224525.000000</td>\n",
       "      <td>1.318256e+06</td>\n",
       "      <td>6.654278e+06</td>\n",
       "      <td>237563.500000</td>\n",
       "      <td>1.695757e+07</td>\n",
       "      <td>1.212988e+06</td>\n",
       "      <td>1.061954e+06</td>\n",
       "      <td>1.205170e+06</td>\n",
       "    </tr>\n",
       "    <tr>\n",
       "      <th>50%</th>\n",
       "      <td>236177.000000</td>\n",
       "      <td>1.335040e+06</td>\n",
       "      <td>6.723590e+06</td>\n",
       "      <td>239318.000000</td>\n",
       "      <td>1.707359e+07</td>\n",
       "      <td>1.222970e+06</td>\n",
       "      <td>1.065421e+06</td>\n",
       "      <td>1.320458e+06</td>\n",
       "    </tr>\n",
       "    <tr>\n",
       "      <th>75%</th>\n",
       "      <td>239554.500000</td>\n",
       "      <td>1.366684e+06</td>\n",
       "      <td>6.768149e+06</td>\n",
       "      <td>249371.500000</td>\n",
       "      <td>1.728324e+07</td>\n",
       "      <td>1.265306e+06</td>\n",
       "      <td>1.113614e+06</td>\n",
       "      <td>1.367398e+06</td>\n",
       "    </tr>\n",
       "    <tr>\n",
       "      <th>max</th>\n",
       "      <td>242932.000000</td>\n",
       "      <td>1.398328e+06</td>\n",
       "      <td>6.812708e+06</td>\n",
       "      <td>259425.000000</td>\n",
       "      <td>1.749288e+07</td>\n",
       "      <td>1.307642e+06</td>\n",
       "      <td>1.161808e+06</td>\n",
       "      <td>1.414338e+06</td>\n",
       "    </tr>\n",
       "  </tbody>\n",
       "</table>\n",
       "</div>"
      ],
      "text/plain": [
       "             Abacate          Açaí        Banana          Cacau       Laranja  \\\n",
       "count       3.000000  3.000000e+00  3.000000e+00       3.000000  3.000000e+00   \n",
       "mean   230660.666667  1.344947e+06  6.707088e+06  244850.666667  1.713601e+07   \n",
       "std     15770.488906  4.918209e+04  1.147638e+05   12743.102618  3.301218e+05   \n",
       "min    212873.000000  1.301472e+06  6.584967e+06  235809.000000  1.684155e+07   \n",
       "25%    224525.000000  1.318256e+06  6.654278e+06  237563.500000  1.695757e+07   \n",
       "50%    236177.000000  1.335040e+06  6.723590e+06  239318.000000  1.707359e+07   \n",
       "75%    239554.500000  1.366684e+06  6.768149e+06  249371.500000  1.728324e+07   \n",
       "max    242932.000000  1.398328e+06  6.812708e+06  259425.000000  1.749288e+07   \n",
       "\n",
       "               Maçã         Mamão         Manga  \n",
       "count  3.000000e+00  3.000000e+00  3.000000e+00  \n",
       "mean   1.244540e+06  1.095239e+06  1.274893e+06  \n",
       "std    5.555231e+04  5.775489e+04  1.669583e+05  \n",
       "min    1.203007e+06  1.058487e+06  1.089882e+06  \n",
       "25%    1.212988e+06  1.061954e+06  1.205170e+06  \n",
       "50%    1.222970e+06  1.065421e+06  1.320458e+06  \n",
       "75%    1.265306e+06  1.113614e+06  1.367398e+06  \n",
       "max    1.307642e+06  1.161808e+06  1.414338e+06  "
      ]
     },
     "execution_count": 32,
     "metadata": {},
     "output_type": "execute_result"
    }
   ],
   "source": [
    "#3\n",
    "ex1.describe()"
   ]
  },
  {
   "cell_type": "code",
   "execution_count": 33,
   "id": "57c854ca",
   "metadata": {},
   "outputs": [],
   "source": [
    "ex1.to_csv(\"Brazil_Database.csv\", sep=\";\")"
   ]
  },
  {
   "cell_type": "markdown",
   "id": "71340c3d",
   "metadata": {},
   "source": [
    "---\n",
    "## Exercise 2:\n",
    "Based on the previous dataset, obtain:\n",
    "\n",
    "\n",
    "a) average of the total amount produced from the respective tillages in 2017, 2018 and 2019;\n",
    "\n",
    "b) average of the quantity produced from each tillage between the selected period;\n",
    "\n",
    "c) standard deviation of the total amount produced from the respective tillages in 2017, 2018 and 2019;\n",
    "\n",
    "d) standard deviation of the quantity produced for each tillage between the selected period;\n",
    "\n",
    "e) variance in the total amount produced from the respective tillages in 2017, 2018 and 2019;\n",
    "\n",
    "f) variance of the quantity produced for each tillage between the selected period."
   ]
  },
  {
   "cell_type": "code",
   "execution_count": 47,
   "id": "1fb085c3",
   "metadata": {},
   "outputs": [
    {
     "name": "stdout",
     "output_type": "stream",
     "text": [
      "Total producido en 2017: 3664697.75\n",
      "Total producido en 2018: 3616374.0\n",
      "Total producido en 2019: 3698262.75\n"
     ]
    }
   ],
   "source": [
    "for index, leng in zip(ex1.index, range(ex1.shape[0])):\n",
    "    print(f\"Total producido en {index}: {ex1.iloc[leng].mean()}\")"
   ]
  },
  {
   "cell_type": "markdown",
   "id": "c46a1b98",
   "metadata": {},
   "source": [
    "---\n",
    "## Exercise 3\n",
    "The following data represents the daily sales of a hypothetical product.\n",
    "<img src = https://img-c.udemycdn.com/redactor/raw/article_lecture/2021-05-24_13-14-31-4d22a61c304820490c2c7d43acc251a7.png>\n",
    "Calculate and print on the screen:\n",
    "\n",
    "\n",
    "a) average daily sales;\n",
    "\n",
    "b) standard deviation;\n",
    "\n",
    "c) variance;\n",
    "\n",
    "d) mode;\n",
    "\n",
    "e) total quantity sold in the period;\n",
    "\n",
    "f) maximum sales value and the respective day;\n",
    "\n",
    "g) minimum sales amount and the respective day."
   ]
  },
  {
   "cell_type": "code",
   "execution_count": 48,
   "id": "0cdaa0b0",
   "metadata": {},
   "outputs": [
    {
     "data": {
      "text/html": [
       "<div>\n",
       "<style scoped>\n",
       "    .dataframe tbody tr th:only-of-type {\n",
       "        vertical-align: middle;\n",
       "    }\n",
       "\n",
       "    .dataframe tbody tr th {\n",
       "        vertical-align: top;\n",
       "    }\n",
       "\n",
       "    .dataframe thead th {\n",
       "        text-align: right;\n",
       "    }\n",
       "</style>\n",
       "<table border=\"1\" class=\"dataframe\">\n",
       "  <thead>\n",
       "    <tr style=\"text-align: right;\">\n",
       "      <th></th>\n",
       "      <th>Daily Sales</th>\n",
       "    </tr>\n",
       "  </thead>\n",
       "  <tbody>\n",
       "    <tr>\n",
       "      <th>2020-12-01</th>\n",
       "      <td>10</td>\n",
       "    </tr>\n",
       "    <tr>\n",
       "      <th>2020-12-02</th>\n",
       "      <td>38</td>\n",
       "    </tr>\n",
       "    <tr>\n",
       "      <th>2020-12-03</th>\n",
       "      <td>47</td>\n",
       "    </tr>\n",
       "    <tr>\n",
       "      <th>2020-12-04</th>\n",
       "      <td>9</td>\n",
       "    </tr>\n",
       "    <tr>\n",
       "      <th>2020-12-05</th>\n",
       "      <td>11</td>\n",
       "    </tr>\n",
       "    <tr>\n",
       "      <th>2020-12-06</th>\n",
       "      <td>9</td>\n",
       "    </tr>\n",
       "    <tr>\n",
       "      <th>2020-12-07</th>\n",
       "      <td>21</td>\n",
       "    </tr>\n",
       "    <tr>\n",
       "      <th>2020-12-08</th>\n",
       "      <td>49</td>\n",
       "    </tr>\n",
       "    <tr>\n",
       "      <th>2020-12-09</th>\n",
       "      <td>17</td>\n",
       "    </tr>\n",
       "    <tr>\n",
       "      <th>2020-12-10</th>\n",
       "      <td>29</td>\n",
       "    </tr>\n",
       "  </tbody>\n",
       "</table>\n",
       "</div>"
      ],
      "text/plain": [
       "            Daily Sales\n",
       "2020-12-01           10\n",
       "2020-12-02           38\n",
       "2020-12-03           47\n",
       "2020-12-04            9\n",
       "2020-12-05           11\n",
       "2020-12-06            9\n",
       "2020-12-07           21\n",
       "2020-12-08           49\n",
       "2020-12-09           17\n",
       "2020-12-10           29"
      ]
     },
     "execution_count": 48,
     "metadata": {},
     "output_type": "execute_result"
    }
   ],
   "source": [
    "data = {\"Daily Sales\" : [10,38,47,9,11,9,21,49,17,29]}\n",
    "\n",
    "ex3 = pd.DataFrame(data, index = pd.date_range(\"2020-12-01\", end = \"2020-12-10\"))\n",
    "ex3"
   ]
  },
  {
   "cell_type": "code",
   "execution_count": 51,
   "id": "a50905ce",
   "metadata": {},
   "outputs": [
    {
     "data": {
      "text/plain": [
       "24.0"
      ]
     },
     "execution_count": 51,
     "metadata": {},
     "output_type": "execute_result"
    }
   ],
   "source": [
    "ex3[\"Daily Sales\"].mean()"
   ]
  },
  {
   "cell_type": "code",
   "execution_count": 52,
   "id": "1e58b6d0",
   "metadata": {},
   "outputs": [
    {
     "data": {
      "text/plain": [
       "15.804359454839597"
      ]
     },
     "execution_count": 52,
     "metadata": {},
     "output_type": "execute_result"
    }
   ],
   "source": [
    "ex3[\"Daily Sales\"].std()"
   ]
  },
  {
   "cell_type": "code",
   "execution_count": 53,
   "id": "8ffee301",
   "metadata": {},
   "outputs": [
    {
     "data": {
      "text/plain": [
       "249.77777777777777"
      ]
     },
     "execution_count": 53,
     "metadata": {},
     "output_type": "execute_result"
    }
   ],
   "source": [
    "ex3[\"Daily Sales\"].var()"
   ]
  },
  {
   "cell_type": "code",
   "execution_count": 56,
   "id": "751dcff9",
   "metadata": {},
   "outputs": [
    {
     "data": {
      "text/plain": [
       "9"
      ]
     },
     "execution_count": 56,
     "metadata": {},
     "output_type": "execute_result"
    }
   ],
   "source": [
    "ex3[\"Daily Sales\"].mode()[0]"
   ]
  },
  {
   "cell_type": "code",
   "execution_count": 57,
   "id": "8c14cd8f",
   "metadata": {},
   "outputs": [
    {
     "data": {
      "text/plain": [
       "240"
      ]
     },
     "execution_count": 57,
     "metadata": {},
     "output_type": "execute_result"
    }
   ],
   "source": [
    "ex3[\"Daily Sales\"].sum()"
   ]
  },
  {
   "cell_type": "code",
   "execution_count": 66,
   "id": "e8da5fa7",
   "metadata": {},
   "outputs": [
    {
     "name": "stdout",
     "output_type": "stream",
     "text": [
      "Maximun value:  Day 2020,12,08 Value 49\n"
     ]
    }
   ],
   "source": [
    "print(f\"Maximun value:  Day {ex3.idxmax()[0].strftime('%Y,%m,%d')} Value {ex3['Daily Sales'].max()}\")"
   ]
  },
  {
   "cell_type": "code",
   "execution_count": 67,
   "id": "75928bd3",
   "metadata": {},
   "outputs": [
    {
     "name": "stdout",
     "output_type": "stream",
     "text": [
      "Maximun value:  Day 2020,12,04 Value 9\n"
     ]
    }
   ],
   "source": [
    "print(f\"Maximun value:  Day {ex3.idxmin()[0].strftime('%Y,%m,%d')} Value {ex3['Daily Sales'].min()}\")"
   ]
  },
  {
   "cell_type": "markdown",
   "id": "6452e28a",
   "metadata": {},
   "source": [
    "## Exercise 4:\n",
    "The purpose of this exercise is to identify the profile of each treadmill consumer of the company CardioGoodFitness.\n",
    "\n",
    "\n",
    "Meaning of the columns:\n",
    "\n",
    "\n",
    "    Product: products purchased;\n",
    "\n",
    "    Age: age of customers, in years;\n",
    "\n",
    "    Gender;\n",
    "\n",
    "    Education: education in years;\n",
    "\n",
    "    MaritalStatus: civil status;\n",
    "\n",
    "    Usage: average number of times the customer plans to use the treadmill per week;\n",
    "\n",
    "    Fitness: fitness self-assessment index, on a scale of 1 to 5, with 1 showing bad shape and 5 showing excellent shape;\n",
    "\n",
    "    Income: annual family income;\n",
    "\n",
    "    Miles: average number of miles each customer expects to walk/run per week.\n",
    "\n",
    "\n",
    "Download the dataset attached in this class.\n",
    "\n",
    "Based on this information:\n",
    "\n",
    "    Read the dataset and store it in a variable;\n",
    "\n",
    "    Show the first 3 lines of the dataset;\n",
    "\n",
    "    Show the last two lines of the dataset;\n",
    "\n",
    "    Show the shape of the dataset;\n",
    "\n",
    "    Get information from the columns with the info() method;\n",
    "\n",
    "    Show descriptive statistics for numeric columns;\n",
    "\n",
    "    Show the data type of each column;\n",
    "\n",
    "    Convert the dtype of the Income column to float."
   ]
  },
  {
   "cell_type": "code",
   "execution_count": 71,
   "id": "bc68211e",
   "metadata": {},
   "outputs": [
    {
     "data": {
      "text/html": [
       "<div>\n",
       "<style scoped>\n",
       "    .dataframe tbody tr th:only-of-type {\n",
       "        vertical-align: middle;\n",
       "    }\n",
       "\n",
       "    .dataframe tbody tr th {\n",
       "        vertical-align: top;\n",
       "    }\n",
       "\n",
       "    .dataframe thead th {\n",
       "        text-align: right;\n",
       "    }\n",
       "</style>\n",
       "<table border=\"1\" class=\"dataframe\">\n",
       "  <thead>\n",
       "    <tr style=\"text-align: right;\">\n",
       "      <th></th>\n",
       "      <th>Product</th>\n",
       "      <th>Age</th>\n",
       "      <th>Gender</th>\n",
       "      <th>Education</th>\n",
       "      <th>MaritalStatus</th>\n",
       "      <th>Usage</th>\n",
       "      <th>Fitness</th>\n",
       "      <th>Income</th>\n",
       "      <th>Miles</th>\n",
       "    </tr>\n",
       "  </thead>\n",
       "  <tbody>\n",
       "    <tr>\n",
       "      <th>0</th>\n",
       "      <td>TM195</td>\n",
       "      <td>18</td>\n",
       "      <td>Male</td>\n",
       "      <td>14</td>\n",
       "      <td>Single</td>\n",
       "      <td>3</td>\n",
       "      <td>4</td>\n",
       "      <td>29562</td>\n",
       "      <td>112</td>\n",
       "    </tr>\n",
       "    <tr>\n",
       "      <th>1</th>\n",
       "      <td>TM195</td>\n",
       "      <td>19</td>\n",
       "      <td>Male</td>\n",
       "      <td>15</td>\n",
       "      <td>Single</td>\n",
       "      <td>2</td>\n",
       "      <td>3</td>\n",
       "      <td>31836</td>\n",
       "      <td>75</td>\n",
       "    </tr>\n",
       "    <tr>\n",
       "      <th>2</th>\n",
       "      <td>TM195</td>\n",
       "      <td>19</td>\n",
       "      <td>Female</td>\n",
       "      <td>14</td>\n",
       "      <td>Partnered</td>\n",
       "      <td>4</td>\n",
       "      <td>3</td>\n",
       "      <td>30699</td>\n",
       "      <td>66</td>\n",
       "    </tr>\n",
       "  </tbody>\n",
       "</table>\n",
       "</div>"
      ],
      "text/plain": [
       "  Product  Age  Gender  Education MaritalStatus  Usage  Fitness  Income  Miles\n",
       "0   TM195   18    Male         14        Single      3        4   29562    112\n",
       "1   TM195   19    Male         15        Single      2        3   31836     75\n",
       "2   TM195   19  Female         14     Partnered      4        3   30699     66"
      ]
     },
     "execution_count": 71,
     "metadata": {},
     "output_type": "execute_result"
    }
   ],
   "source": [
    "cardio = pd.read_csv(\"Datasets/CardioGoodFitness.csv\")\n",
    "cardio.head(3)"
   ]
  },
  {
   "cell_type": "code",
   "execution_count": 72,
   "id": "7051dc38",
   "metadata": {},
   "outputs": [
    {
     "data": {
      "text/html": [
       "<div>\n",
       "<style scoped>\n",
       "    .dataframe tbody tr th:only-of-type {\n",
       "        vertical-align: middle;\n",
       "    }\n",
       "\n",
       "    .dataframe tbody tr th {\n",
       "        vertical-align: top;\n",
       "    }\n",
       "\n",
       "    .dataframe thead th {\n",
       "        text-align: right;\n",
       "    }\n",
       "</style>\n",
       "<table border=\"1\" class=\"dataframe\">\n",
       "  <thead>\n",
       "    <tr style=\"text-align: right;\">\n",
       "      <th></th>\n",
       "      <th>Product</th>\n",
       "      <th>Age</th>\n",
       "      <th>Gender</th>\n",
       "      <th>Education</th>\n",
       "      <th>MaritalStatus</th>\n",
       "      <th>Usage</th>\n",
       "      <th>Fitness</th>\n",
       "      <th>Income</th>\n",
       "      <th>Miles</th>\n",
       "    </tr>\n",
       "  </thead>\n",
       "  <tbody>\n",
       "    <tr>\n",
       "      <th>178</th>\n",
       "      <td>TM798</td>\n",
       "      <td>47</td>\n",
       "      <td>Male</td>\n",
       "      <td>18</td>\n",
       "      <td>Partnered</td>\n",
       "      <td>4</td>\n",
       "      <td>5</td>\n",
       "      <td>104581</td>\n",
       "      <td>120</td>\n",
       "    </tr>\n",
       "    <tr>\n",
       "      <th>179</th>\n",
       "      <td>TM798</td>\n",
       "      <td>48</td>\n",
       "      <td>Male</td>\n",
       "      <td>18</td>\n",
       "      <td>Partnered</td>\n",
       "      <td>4</td>\n",
       "      <td>5</td>\n",
       "      <td>95508</td>\n",
       "      <td>180</td>\n",
       "    </tr>\n",
       "  </tbody>\n",
       "</table>\n",
       "</div>"
      ],
      "text/plain": [
       "    Product  Age Gender  Education MaritalStatus  Usage  Fitness  Income  \\\n",
       "178   TM798   47   Male         18     Partnered      4        5  104581   \n",
       "179   TM798   48   Male         18     Partnered      4        5   95508   \n",
       "\n",
       "     Miles  \n",
       "178    120  \n",
       "179    180  "
      ]
     },
     "execution_count": 72,
     "metadata": {},
     "output_type": "execute_result"
    }
   ],
   "source": [
    "cardio.tail(2)"
   ]
  },
  {
   "cell_type": "code",
   "execution_count": 73,
   "id": "6ecd0f4f",
   "metadata": {},
   "outputs": [
    {
     "data": {
      "text/plain": [
       "(180, 9)"
      ]
     },
     "execution_count": 73,
     "metadata": {},
     "output_type": "execute_result"
    }
   ],
   "source": [
    "cardio.shape"
   ]
  },
  {
   "cell_type": "code",
   "execution_count": 74,
   "id": "55ea0e40",
   "metadata": {},
   "outputs": [
    {
     "name": "stdout",
     "output_type": "stream",
     "text": [
      "<class 'pandas.core.frame.DataFrame'>\n",
      "RangeIndex: 180 entries, 0 to 179\n",
      "Data columns (total 9 columns):\n",
      " #   Column         Non-Null Count  Dtype \n",
      "---  ------         --------------  ----- \n",
      " 0   Product        180 non-null    object\n",
      " 1   Age            180 non-null    int64 \n",
      " 2   Gender         180 non-null    object\n",
      " 3   Education      180 non-null    int64 \n",
      " 4   MaritalStatus  180 non-null    object\n",
      " 5   Usage          180 non-null    int64 \n",
      " 6   Fitness        180 non-null    int64 \n",
      " 7   Income         180 non-null    int64 \n",
      " 8   Miles          180 non-null    int64 \n",
      "dtypes: int64(6), object(3)\n",
      "memory usage: 12.8+ KB\n"
     ]
    }
   ],
   "source": [
    "cardio.info()"
   ]
  },
  {
   "cell_type": "code",
   "execution_count": 75,
   "id": "dd651eea",
   "metadata": {},
   "outputs": [
    {
     "data": {
      "text/html": [
       "<div>\n",
       "<style scoped>\n",
       "    .dataframe tbody tr th:only-of-type {\n",
       "        vertical-align: middle;\n",
       "    }\n",
       "\n",
       "    .dataframe tbody tr th {\n",
       "        vertical-align: top;\n",
       "    }\n",
       "\n",
       "    .dataframe thead th {\n",
       "        text-align: right;\n",
       "    }\n",
       "</style>\n",
       "<table border=\"1\" class=\"dataframe\">\n",
       "  <thead>\n",
       "    <tr style=\"text-align: right;\">\n",
       "      <th></th>\n",
       "      <th>Age</th>\n",
       "      <th>Education</th>\n",
       "      <th>Usage</th>\n",
       "      <th>Fitness</th>\n",
       "      <th>Income</th>\n",
       "      <th>Miles</th>\n",
       "    </tr>\n",
       "  </thead>\n",
       "  <tbody>\n",
       "    <tr>\n",
       "      <th>count</th>\n",
       "      <td>180.000000</td>\n",
       "      <td>180.000000</td>\n",
       "      <td>180.000000</td>\n",
       "      <td>180.000000</td>\n",
       "      <td>180.000000</td>\n",
       "      <td>180.000000</td>\n",
       "    </tr>\n",
       "    <tr>\n",
       "      <th>mean</th>\n",
       "      <td>28.788889</td>\n",
       "      <td>15.572222</td>\n",
       "      <td>3.455556</td>\n",
       "      <td>3.311111</td>\n",
       "      <td>53719.577778</td>\n",
       "      <td>103.194444</td>\n",
       "    </tr>\n",
       "    <tr>\n",
       "      <th>std</th>\n",
       "      <td>6.943498</td>\n",
       "      <td>1.617055</td>\n",
       "      <td>1.084797</td>\n",
       "      <td>0.958869</td>\n",
       "      <td>16506.684226</td>\n",
       "      <td>51.863605</td>\n",
       "    </tr>\n",
       "    <tr>\n",
       "      <th>min</th>\n",
       "      <td>18.000000</td>\n",
       "      <td>12.000000</td>\n",
       "      <td>2.000000</td>\n",
       "      <td>1.000000</td>\n",
       "      <td>29562.000000</td>\n",
       "      <td>21.000000</td>\n",
       "    </tr>\n",
       "    <tr>\n",
       "      <th>25%</th>\n",
       "      <td>24.000000</td>\n",
       "      <td>14.000000</td>\n",
       "      <td>3.000000</td>\n",
       "      <td>3.000000</td>\n",
       "      <td>44058.750000</td>\n",
       "      <td>66.000000</td>\n",
       "    </tr>\n",
       "    <tr>\n",
       "      <th>50%</th>\n",
       "      <td>26.000000</td>\n",
       "      <td>16.000000</td>\n",
       "      <td>3.000000</td>\n",
       "      <td>3.000000</td>\n",
       "      <td>50596.500000</td>\n",
       "      <td>94.000000</td>\n",
       "    </tr>\n",
       "    <tr>\n",
       "      <th>75%</th>\n",
       "      <td>33.000000</td>\n",
       "      <td>16.000000</td>\n",
       "      <td>4.000000</td>\n",
       "      <td>4.000000</td>\n",
       "      <td>58668.000000</td>\n",
       "      <td>114.750000</td>\n",
       "    </tr>\n",
       "    <tr>\n",
       "      <th>max</th>\n",
       "      <td>50.000000</td>\n",
       "      <td>21.000000</td>\n",
       "      <td>7.000000</td>\n",
       "      <td>5.000000</td>\n",
       "      <td>104581.000000</td>\n",
       "      <td>360.000000</td>\n",
       "    </tr>\n",
       "  </tbody>\n",
       "</table>\n",
       "</div>"
      ],
      "text/plain": [
       "              Age   Education       Usage     Fitness         Income  \\\n",
       "count  180.000000  180.000000  180.000000  180.000000     180.000000   \n",
       "mean    28.788889   15.572222    3.455556    3.311111   53719.577778   \n",
       "std      6.943498    1.617055    1.084797    0.958869   16506.684226   \n",
       "min     18.000000   12.000000    2.000000    1.000000   29562.000000   \n",
       "25%     24.000000   14.000000    3.000000    3.000000   44058.750000   \n",
       "50%     26.000000   16.000000    3.000000    3.000000   50596.500000   \n",
       "75%     33.000000   16.000000    4.000000    4.000000   58668.000000   \n",
       "max     50.000000   21.000000    7.000000    5.000000  104581.000000   \n",
       "\n",
       "            Miles  \n",
       "count  180.000000  \n",
       "mean   103.194444  \n",
       "std     51.863605  \n",
       "min     21.000000  \n",
       "25%     66.000000  \n",
       "50%     94.000000  \n",
       "75%    114.750000  \n",
       "max    360.000000  "
      ]
     },
     "execution_count": 75,
     "metadata": {},
     "output_type": "execute_result"
    }
   ],
   "source": [
    "cardio.describe()"
   ]
  },
  {
   "cell_type": "code",
   "execution_count": 76,
   "id": "aba02fdd",
   "metadata": {},
   "outputs": [
    {
     "data": {
      "text/plain": [
       "Product          object\n",
       "Age               int64\n",
       "Gender           object\n",
       "Education         int64\n",
       "MaritalStatus    object\n",
       "Usage             int64\n",
       "Fitness           int64\n",
       "Income            int64\n",
       "Miles             int64\n",
       "dtype: object"
      ]
     },
     "execution_count": 76,
     "metadata": {},
     "output_type": "execute_result"
    }
   ],
   "source": [
    "cardio.dtypes"
   ]
  },
  {
   "cell_type": "code",
   "execution_count": 77,
   "id": "d7bc3f9b",
   "metadata": {},
   "outputs": [],
   "source": [
    "cardio[\"Income\"] = cardio[\"Income\"].astype(\"float\")"
   ]
  },
  {
   "cell_type": "code",
   "execution_count": 78,
   "id": "03d5dde6",
   "metadata": {},
   "outputs": [
    {
     "data": {
      "text/plain": [
       "Product           object\n",
       "Age                int64\n",
       "Gender            object\n",
       "Education          int64\n",
       "MaritalStatus     object\n",
       "Usage              int64\n",
       "Fitness            int64\n",
       "Income           float64\n",
       "Miles              int64\n",
       "dtype: object"
      ]
     },
     "execution_count": 78,
     "metadata": {},
     "output_type": "execute_result"
    }
   ],
   "source": [
    "cardio.dtypes"
   ]
  },
  {
   "cell_type": "markdown",
   "id": "fa6055f1",
   "metadata": {},
   "source": [
    "---\n",
    "## Exercise 5:\n",
    "Check for missing data in the dataset from the previous exercise."
   ]
  },
  {
   "cell_type": "code",
   "execution_count": 80,
   "id": "fd125f87",
   "metadata": {},
   "outputs": [
    {
     "data": {
      "text/plain": [
       "Product          0\n",
       "Age              0\n",
       "Gender           0\n",
       "Education        0\n",
       "MaritalStatus    0\n",
       "Usage            0\n",
       "Fitness          0\n",
       "Income           0\n",
       "Miles            0\n",
       "dtype: int64"
      ]
     },
     "execution_count": 80,
     "metadata": {},
     "output_type": "execute_result"
    }
   ],
   "source": [
    "cardio.isna().sum()"
   ]
  },
  {
   "cell_type": "markdown",
   "id": "6bcbc756",
   "metadata": {},
   "source": [
    "---\n",
    "## Exercise 6:\n",
    "    What is the age distribution of customers (use the value_counts() function)?\n",
    "\n",
    "    What is the average and standard deviation of age by gender?\n",
    "\n",
    "    What is the proportion of men and women?\n",
    "\n",
    "    What is the distribution of marital status between men and women?\n",
    "\n",
    "    What is the level of education by gender?"
   ]
  },
  {
   "cell_type": "code",
   "execution_count": 86,
   "id": "c9b52075",
   "metadata": {
    "scrolled": true
   },
   "outputs": [
    {
     "data": {
      "text/plain": [
       "25    25\n",
       "23    18\n",
       "24    12\n",
       "26    12\n",
       "28     9\n",
       "35     8\n",
       "33     8\n",
       "30     7\n",
       "38     7\n",
       "21     7\n",
       "22     7\n",
       "27     7\n",
       "31     6\n",
       "34     6\n",
       "29     6\n",
       "20     5\n",
       "40     5\n",
       "32     4\n",
       "19     4\n",
       "48     2\n",
       "37     2\n",
       "47     2\n",
       "45     2\n",
       "44     1\n",
       "46     1\n",
       "18     1\n",
       "43     1\n",
       "42     1\n",
       "41     1\n",
       "39     1\n",
       "36     1\n",
       "50     1\n",
       "Name: Age, dtype: int64"
      ]
     },
     "execution_count": 86,
     "metadata": {},
     "output_type": "execute_result"
    }
   ],
   "source": [
    "cardio[\"Age\"].value_counts()"
   ]
  },
  {
   "cell_type": "code",
   "execution_count": 104,
   "id": "fa74123f",
   "metadata": {},
   "outputs": [
    {
     "data": {
      "text/plain": [
       "Gender\n",
       "Female    28.565789\n",
       "Male      28.951923\n",
       "Name: Age, dtype: float64"
      ]
     },
     "execution_count": 104,
     "metadata": {},
     "output_type": "execute_result"
    }
   ],
   "source": [
    "cardio.groupby(\"Gender\").mean()[\"Age\"]"
   ]
  },
  {
   "cell_type": "code",
   "execution_count": 120,
   "id": "584e1e11",
   "metadata": {},
   "outputs": [
    {
     "data": {
      "text/html": [
       "<div>\n",
       "<style scoped>\n",
       "    .dataframe tbody tr th:only-of-type {\n",
       "        vertical-align: middle;\n",
       "    }\n",
       "\n",
       "    .dataframe tbody tr th {\n",
       "        vertical-align: top;\n",
       "    }\n",
       "\n",
       "    .dataframe thead th {\n",
       "        text-align: right;\n",
       "    }\n",
       "</style>\n",
       "<table border=\"1\" class=\"dataframe\">\n",
       "  <thead>\n",
       "    <tr style=\"text-align: right;\">\n",
       "      <th></th>\n",
       "      <th></th>\n",
       "      <th>Education</th>\n",
       "      <th>Usage</th>\n",
       "      <th>Fitness</th>\n",
       "      <th>Income</th>\n",
       "      <th>Miles</th>\n",
       "    </tr>\n",
       "    <tr>\n",
       "      <th>Gender</th>\n",
       "      <th>Age</th>\n",
       "      <th></th>\n",
       "      <th></th>\n",
       "      <th></th>\n",
       "      <th></th>\n",
       "      <th></th>\n",
       "    </tr>\n",
       "  </thead>\n",
       "  <tbody>\n",
       "    <tr>\n",
       "      <th rowspan=\"23\" valign=\"top\">Female</th>\n",
       "      <th>19</th>\n",
       "      <td>NaN</td>\n",
       "      <td>NaN</td>\n",
       "      <td>NaN</td>\n",
       "      <td>NaN</td>\n",
       "      <td>NaN</td>\n",
       "    </tr>\n",
       "    <tr>\n",
       "      <th>20</th>\n",
       "      <td>0.000000</td>\n",
       "      <td>0.000000</td>\n",
       "      <td>0.000000</td>\n",
       "      <td>803.980410</td>\n",
       "      <td>28.284271</td>\n",
       "    </tr>\n",
       "    <tr>\n",
       "      <th>21</th>\n",
       "      <td>0.577350</td>\n",
       "      <td>1.527525</td>\n",
       "      <td>0.577350</td>\n",
       "      <td>1736.796188</td>\n",
       "      <td>76.374079</td>\n",
       "    </tr>\n",
       "    <tr>\n",
       "      <th>22</th>\n",
       "      <td>1.154701</td>\n",
       "      <td>0.577350</td>\n",
       "      <td>0.577350</td>\n",
       "      <td>656.447256</td>\n",
       "      <td>5.196152</td>\n",
       "    </tr>\n",
       "    <tr>\n",
       "      <th>23</th>\n",
       "      <td>1.397276</td>\n",
       "      <td>1.069045</td>\n",
       "      <td>0.755929</td>\n",
       "      <td>6846.028421</td>\n",
       "      <td>28.093382</td>\n",
       "    </tr>\n",
       "    <tr>\n",
       "      <th>24</th>\n",
       "      <td>0.816497</td>\n",
       "      <td>0.894427</td>\n",
       "      <td>1.224745</td>\n",
       "      <td>4473.301272</td>\n",
       "      <td>54.800243</td>\n",
       "    </tr>\n",
       "    <tr>\n",
       "      <th>25</th>\n",
       "      <td>1.349897</td>\n",
       "      <td>1.197219</td>\n",
       "      <td>0.942809</td>\n",
       "      <td>6358.281589</td>\n",
       "      <td>47.876693</td>\n",
       "    </tr>\n",
       "    <tr>\n",
       "      <th>26</th>\n",
       "      <td>2.345208</td>\n",
       "      <td>0.516398</td>\n",
       "      <td>0.516398</td>\n",
       "      <td>11238.679400</td>\n",
       "      <td>22.114852</td>\n",
       "    </tr>\n",
       "    <tr>\n",
       "      <th>27</th>\n",
       "      <td>0.000000</td>\n",
       "      <td>0.707107</td>\n",
       "      <td>0.707107</td>\n",
       "      <td>0.000000</td>\n",
       "      <td>7.071068</td>\n",
       "    </tr>\n",
       "    <tr>\n",
       "      <th>28</th>\n",
       "      <td>1.673320</td>\n",
       "      <td>1.643168</td>\n",
       "      <td>0.894427</td>\n",
       "      <td>18548.467044</td>\n",
       "      <td>52.448070</td>\n",
       "    </tr>\n",
       "    <tr>\n",
       "      <th>29</th>\n",
       "      <td>1.154701</td>\n",
       "      <td>1.000000</td>\n",
       "      <td>0.577350</td>\n",
       "      <td>2366.854241</td>\n",
       "      <td>32.624122</td>\n",
       "    </tr>\n",
       "    <tr>\n",
       "      <th>30</th>\n",
       "      <td>1.527525</td>\n",
       "      <td>1.527525</td>\n",
       "      <td>1.154701</td>\n",
       "      <td>22990.452591</td>\n",
       "      <td>110.857266</td>\n",
       "    </tr>\n",
       "    <tr>\n",
       "      <th>31</th>\n",
       "      <td>2.000000</td>\n",
       "      <td>0.000000</td>\n",
       "      <td>1.000000</td>\n",
       "      <td>10161.445517</td>\n",
       "      <td>21.656408</td>\n",
       "    </tr>\n",
       "    <tr>\n",
       "      <th>32</th>\n",
       "      <td>NaN</td>\n",
       "      <td>NaN</td>\n",
       "      <td>NaN</td>\n",
       "      <td>NaN</td>\n",
       "      <td>NaN</td>\n",
       "    </tr>\n",
       "    <tr>\n",
       "      <th>33</th>\n",
       "      <td>1.032796</td>\n",
       "      <td>1.169045</td>\n",
       "      <td>1.032796</td>\n",
       "      <td>18749.071373</td>\n",
       "      <td>54.601893</td>\n",
       "    </tr>\n",
       "    <tr>\n",
       "      <th>34</th>\n",
       "      <td>0.000000</td>\n",
       "      <td>1.414214</td>\n",
       "      <td>0.707107</td>\n",
       "      <td>8843.784512</td>\n",
       "      <td>20.506097</td>\n",
       "    </tr>\n",
       "    <tr>\n",
       "      <th>35</th>\n",
       "      <td>1.632993</td>\n",
       "      <td>0.000000</td>\n",
       "      <td>0.577350</td>\n",
       "      <td>7794.879281</td>\n",
       "      <td>18.814888</td>\n",
       "    </tr>\n",
       "    <tr>\n",
       "      <th>37</th>\n",
       "      <td>0.000000</td>\n",
       "      <td>0.707107</td>\n",
       "      <td>0.000000</td>\n",
       "      <td>8039.804102</td>\n",
       "      <td>0.000000</td>\n",
       "    </tr>\n",
       "    <tr>\n",
       "      <th>38</th>\n",
       "      <td>1.414214</td>\n",
       "      <td>1.414214</td>\n",
       "      <td>0.000000</td>\n",
       "      <td>5627.862871</td>\n",
       "      <td>20.506097</td>\n",
       "    </tr>\n",
       "    <tr>\n",
       "      <th>40</th>\n",
       "      <td>0.000000</td>\n",
       "      <td>0.000000</td>\n",
       "      <td>0.000000</td>\n",
       "      <td>2411.941231</td>\n",
       "      <td>0.000000</td>\n",
       "    </tr>\n",
       "    <tr>\n",
       "      <th>44</th>\n",
       "      <td>NaN</td>\n",
       "      <td>NaN</td>\n",
       "      <td>NaN</td>\n",
       "      <td>NaN</td>\n",
       "      <td>NaN</td>\n",
       "    </tr>\n",
       "    <tr>\n",
       "      <th>46</th>\n",
       "      <td>NaN</td>\n",
       "      <td>NaN</td>\n",
       "      <td>NaN</td>\n",
       "      <td>NaN</td>\n",
       "      <td>NaN</td>\n",
       "    </tr>\n",
       "    <tr>\n",
       "      <th>50</th>\n",
       "      <td>NaN</td>\n",
       "      <td>NaN</td>\n",
       "      <td>NaN</td>\n",
       "      <td>NaN</td>\n",
       "      <td>NaN</td>\n",
       "    </tr>\n",
       "    <tr>\n",
       "      <th rowspan=\"28\" valign=\"top\">Male</th>\n",
       "      <th>18</th>\n",
       "      <td>NaN</td>\n",
       "      <td>NaN</td>\n",
       "      <td>NaN</td>\n",
       "      <td>NaN</td>\n",
       "      <td>NaN</td>\n",
       "    </tr>\n",
       "    <tr>\n",
       "      <th>19</th>\n",
       "      <td>1.527525</td>\n",
       "      <td>0.577350</td>\n",
       "      <td>0.000000</td>\n",
       "      <td>656.447256</td>\n",
       "      <td>10.503968</td>\n",
       "    </tr>\n",
       "    <tr>\n",
       "      <th>20</th>\n",
       "      <td>0.577350</td>\n",
       "      <td>1.000000</td>\n",
       "      <td>0.577350</td>\n",
       "      <td>2861.387251</td>\n",
       "      <td>26.153394</td>\n",
       "    </tr>\n",
       "    <tr>\n",
       "      <th>21</th>\n",
       "      <td>1.825742</td>\n",
       "      <td>1.414214</td>\n",
       "      <td>0.957427</td>\n",
       "      <td>1088.594622</td>\n",
       "      <td>44.417527</td>\n",
       "    </tr>\n",
       "    <tr>\n",
       "      <th>22</th>\n",
       "      <td>1.914854</td>\n",
       "      <td>0.577350</td>\n",
       "      <td>1.154701</td>\n",
       "      <td>7710.979331</td>\n",
       "      <td>50.268446</td>\n",
       "    </tr>\n",
       "    <tr>\n",
       "      <th>23</th>\n",
       "      <td>0.934199</td>\n",
       "      <td>0.522233</td>\n",
       "      <td>1.078720</td>\n",
       "      <td>6348.146145</td>\n",
       "      <td>26.746962</td>\n",
       "    </tr>\n",
       "    <tr>\n",
       "      <th>24</th>\n",
       "      <td>1.834848</td>\n",
       "      <td>1.048809</td>\n",
       "      <td>1.264911</td>\n",
       "      <td>7144.201369</td>\n",
       "      <td>37.437949</td>\n",
       "    </tr>\n",
       "    <tr>\n",
       "      <th>25</th>\n",
       "      <td>1.851640</td>\n",
       "      <td>1.242118</td>\n",
       "      <td>0.910259</td>\n",
       "      <td>12143.881645</td>\n",
       "      <td>54.637594</td>\n",
       "    </tr>\n",
       "    <tr>\n",
       "      <th>26</th>\n",
       "      <td>0.000000</td>\n",
       "      <td>1.048809</td>\n",
       "      <td>0.752773</td>\n",
       "      <td>6736.962592</td>\n",
       "      <td>45.858115</td>\n",
       "    </tr>\n",
       "    <tr>\n",
       "      <th>27</th>\n",
       "      <td>2.645751</td>\n",
       "      <td>0.000000</td>\n",
       "      <td>1.140175</td>\n",
       "      <td>20983.470523</td>\n",
       "      <td>38.836838</td>\n",
       "    </tr>\n",
       "    <tr>\n",
       "      <th>28</th>\n",
       "      <td>2.309401</td>\n",
       "      <td>1.825742</td>\n",
       "      <td>1.154701</td>\n",
       "      <td>17578.853022</td>\n",
       "      <td>35.350625</td>\n",
       "    </tr>\n",
       "    <tr>\n",
       "      <th>29</th>\n",
       "      <td>2.309401</td>\n",
       "      <td>2.000000</td>\n",
       "      <td>1.154701</td>\n",
       "      <td>16815.642281</td>\n",
       "      <td>107.741976</td>\n",
       "    </tr>\n",
       "    <tr>\n",
       "      <th>30</th>\n",
       "      <td>2.309401</td>\n",
       "      <td>0.957427</td>\n",
       "      <td>0.816497</td>\n",
       "      <td>29589.459480</td>\n",
       "      <td>33.575785</td>\n",
       "    </tr>\n",
       "    <tr>\n",
       "      <th>31</th>\n",
       "      <td>1.154701</td>\n",
       "      <td>2.081666</td>\n",
       "      <td>1.527525</td>\n",
       "      <td>20932.137261</td>\n",
       "      <td>111.727347</td>\n",
       "    </tr>\n",
       "    <tr>\n",
       "      <th>32</th>\n",
       "      <td>1.154701</td>\n",
       "      <td>0.577350</td>\n",
       "      <td>0.000000</td>\n",
       "      <td>4304.612526</td>\n",
       "      <td>21.939310</td>\n",
       "    </tr>\n",
       "    <tr>\n",
       "      <th>33</th>\n",
       "      <td>2.121320</td>\n",
       "      <td>0.707107</td>\n",
       "      <td>0.707107</td>\n",
       "      <td>1607.960820</td>\n",
       "      <td>53.033009</td>\n",
       "    </tr>\n",
       "    <tr>\n",
       "      <th>34</th>\n",
       "      <td>0.500000</td>\n",
       "      <td>0.957427</td>\n",
       "      <td>0.957427</td>\n",
       "      <td>17736.853336</td>\n",
       "      <td>43.706407</td>\n",
       "    </tr>\n",
       "    <tr>\n",
       "      <th>35</th>\n",
       "      <td>0.000000</td>\n",
       "      <td>0.577350</td>\n",
       "      <td>1.258306</td>\n",
       "      <td>20217.995153</td>\n",
       "      <td>142.298688</td>\n",
       "    </tr>\n",
       "    <tr>\n",
       "      <th>36</th>\n",
       "      <td>NaN</td>\n",
       "      <td>NaN</td>\n",
       "      <td>NaN</td>\n",
       "      <td>NaN</td>\n",
       "      <td>NaN</td>\n",
       "    </tr>\n",
       "    <tr>\n",
       "      <th>38</th>\n",
       "      <td>1.414214</td>\n",
       "      <td>1.095445</td>\n",
       "      <td>0.894427</td>\n",
       "      <td>23241.514553</td>\n",
       "      <td>36.855122</td>\n",
       "    </tr>\n",
       "    <tr>\n",
       "      <th>39</th>\n",
       "      <td>NaN</td>\n",
       "      <td>NaN</td>\n",
       "      <td>NaN</td>\n",
       "      <td>NaN</td>\n",
       "      <td>NaN</td>\n",
       "    </tr>\n",
       "    <tr>\n",
       "      <th>40</th>\n",
       "      <td>2.886751</td>\n",
       "      <td>1.732051</td>\n",
       "      <td>1.154701</td>\n",
       "      <td>11850.792477</td>\n",
       "      <td>70.500591</td>\n",
       "    </tr>\n",
       "    <tr>\n",
       "      <th>41</th>\n",
       "      <td>NaN</td>\n",
       "      <td>NaN</td>\n",
       "      <td>NaN</td>\n",
       "      <td>NaN</td>\n",
       "      <td>NaN</td>\n",
       "    </tr>\n",
       "    <tr>\n",
       "      <th>42</th>\n",
       "      <td>NaN</td>\n",
       "      <td>NaN</td>\n",
       "      <td>NaN</td>\n",
       "      <td>NaN</td>\n",
       "      <td>NaN</td>\n",
       "    </tr>\n",
       "    <tr>\n",
       "      <th>43</th>\n",
       "      <td>NaN</td>\n",
       "      <td>NaN</td>\n",
       "      <td>NaN</td>\n",
       "      <td>NaN</td>\n",
       "      <td>NaN</td>\n",
       "    </tr>\n",
       "    <tr>\n",
       "      <th>45</th>\n",
       "      <td>0.000000</td>\n",
       "      <td>2.121320</td>\n",
       "      <td>2.121320</td>\n",
       "      <td>25675.047225</td>\n",
       "      <td>83.438600</td>\n",
       "    </tr>\n",
       "    <tr>\n",
       "      <th>47</th>\n",
       "      <td>1.414214</td>\n",
       "      <td>0.000000</td>\n",
       "      <td>1.414214</td>\n",
       "      <td>33750.913773</td>\n",
       "      <td>18.384776</td>\n",
       "    </tr>\n",
       "    <tr>\n",
       "      <th>48</th>\n",
       "      <td>1.414214</td>\n",
       "      <td>1.414214</td>\n",
       "      <td>1.414214</td>\n",
       "      <td>26531.353537</td>\n",
       "      <td>82.024387</td>\n",
       "    </tr>\n",
       "  </tbody>\n",
       "</table>\n",
       "</div>"
      ],
      "text/plain": [
       "            Education     Usage   Fitness        Income       Miles\n",
       "Gender Age                                                         \n",
       "Female 19         NaN       NaN       NaN           NaN         NaN\n",
       "       20    0.000000  0.000000  0.000000    803.980410   28.284271\n",
       "       21    0.577350  1.527525  0.577350   1736.796188   76.374079\n",
       "       22    1.154701  0.577350  0.577350    656.447256    5.196152\n",
       "       23    1.397276  1.069045  0.755929   6846.028421   28.093382\n",
       "       24    0.816497  0.894427  1.224745   4473.301272   54.800243\n",
       "       25    1.349897  1.197219  0.942809   6358.281589   47.876693\n",
       "       26    2.345208  0.516398  0.516398  11238.679400   22.114852\n",
       "       27    0.000000  0.707107  0.707107      0.000000    7.071068\n",
       "       28    1.673320  1.643168  0.894427  18548.467044   52.448070\n",
       "       29    1.154701  1.000000  0.577350   2366.854241   32.624122\n",
       "       30    1.527525  1.527525  1.154701  22990.452591  110.857266\n",
       "       31    2.000000  0.000000  1.000000  10161.445517   21.656408\n",
       "       32         NaN       NaN       NaN           NaN         NaN\n",
       "       33    1.032796  1.169045  1.032796  18749.071373   54.601893\n",
       "       34    0.000000  1.414214  0.707107   8843.784512   20.506097\n",
       "       35    1.632993  0.000000  0.577350   7794.879281   18.814888\n",
       "       37    0.000000  0.707107  0.000000   8039.804102    0.000000\n",
       "       38    1.414214  1.414214  0.000000   5627.862871   20.506097\n",
       "       40    0.000000  0.000000  0.000000   2411.941231    0.000000\n",
       "       44         NaN       NaN       NaN           NaN         NaN\n",
       "       46         NaN       NaN       NaN           NaN         NaN\n",
       "       50         NaN       NaN       NaN           NaN         NaN\n",
       "Male   18         NaN       NaN       NaN           NaN         NaN\n",
       "       19    1.527525  0.577350  0.000000    656.447256   10.503968\n",
       "       20    0.577350  1.000000  0.577350   2861.387251   26.153394\n",
       "       21    1.825742  1.414214  0.957427   1088.594622   44.417527\n",
       "       22    1.914854  0.577350  1.154701   7710.979331   50.268446\n",
       "       23    0.934199  0.522233  1.078720   6348.146145   26.746962\n",
       "       24    1.834848  1.048809  1.264911   7144.201369   37.437949\n",
       "       25    1.851640  1.242118  0.910259  12143.881645   54.637594\n",
       "       26    0.000000  1.048809  0.752773   6736.962592   45.858115\n",
       "       27    2.645751  0.000000  1.140175  20983.470523   38.836838\n",
       "       28    2.309401  1.825742  1.154701  17578.853022   35.350625\n",
       "       29    2.309401  2.000000  1.154701  16815.642281  107.741976\n",
       "       30    2.309401  0.957427  0.816497  29589.459480   33.575785\n",
       "       31    1.154701  2.081666  1.527525  20932.137261  111.727347\n",
       "       32    1.154701  0.577350  0.000000   4304.612526   21.939310\n",
       "       33    2.121320  0.707107  0.707107   1607.960820   53.033009\n",
       "       34    0.500000  0.957427  0.957427  17736.853336   43.706407\n",
       "       35    0.000000  0.577350  1.258306  20217.995153  142.298688\n",
       "       36         NaN       NaN       NaN           NaN         NaN\n",
       "       38    1.414214  1.095445  0.894427  23241.514553   36.855122\n",
       "       39         NaN       NaN       NaN           NaN         NaN\n",
       "       40    2.886751  1.732051  1.154701  11850.792477   70.500591\n",
       "       41         NaN       NaN       NaN           NaN         NaN\n",
       "       42         NaN       NaN       NaN           NaN         NaN\n",
       "       43         NaN       NaN       NaN           NaN         NaN\n",
       "       45    0.000000  2.121320  2.121320  25675.047225   83.438600\n",
       "       47    1.414214  0.000000  1.414214  33750.913773   18.384776\n",
       "       48    1.414214  1.414214  1.414214  26531.353537   82.024387"
      ]
     },
     "execution_count": 120,
     "metadata": {},
     "output_type": "execute_result"
    }
   ],
   "source": [
    "cardio.groupby([\"Gender\",\"Age\"]).std()"
   ]
  },
  {
   "cell_type": "code",
   "execution_count": 95,
   "id": "ab6279ce",
   "metadata": {},
   "outputs": [
    {
     "data": {
      "text/plain": [
       "Male      104\n",
       "Female     76\n",
       "Name: Gender, dtype: int64"
      ]
     },
     "execution_count": 95,
     "metadata": {},
     "output_type": "execute_result"
    }
   ],
   "source": [
    "cardio[\"Gender\"].value_counts()"
   ]
  },
  {
   "cell_type": "code",
   "execution_count": 117,
   "id": "1fb9f411",
   "metadata": {},
   "outputs": [
    {
     "data": {
      "text/plain": [
       "Gender  MaritalStatus\n",
       "Female  Partnered        46\n",
       "        Single           30\n",
       "Male    Partnered        61\n",
       "        Single           43\n",
       "Name: Age, dtype: int64"
      ]
     },
     "execution_count": 117,
     "metadata": {},
     "output_type": "execute_result"
    }
   ],
   "source": [
    "cardio.groupby([\"Gender\",\"MaritalStatus\"]).count()[\"Age\"]"
   ]
  },
  {
   "cell_type": "code",
   "execution_count": 122,
   "id": "222526cd",
   "metadata": {},
   "outputs": [
    {
     "data": {
      "text/html": [
       "<div>\n",
       "<style scoped>\n",
       "    .dataframe tbody tr th:only-of-type {\n",
       "        vertical-align: middle;\n",
       "    }\n",
       "\n",
       "    .dataframe tbody tr th {\n",
       "        vertical-align: top;\n",
       "    }\n",
       "\n",
       "    .dataframe thead th {\n",
       "        text-align: right;\n",
       "    }\n",
       "</style>\n",
       "<table border=\"1\" class=\"dataframe\">\n",
       "  <thead>\n",
       "    <tr style=\"text-align: right;\">\n",
       "      <th></th>\n",
       "      <th></th>\n",
       "      <th>Age</th>\n",
       "      <th>Usage</th>\n",
       "      <th>Fitness</th>\n",
       "      <th>Income</th>\n",
       "      <th>Miles</th>\n",
       "    </tr>\n",
       "    <tr>\n",
       "      <th>Education</th>\n",
       "      <th>Gender</th>\n",
       "      <th></th>\n",
       "      <th></th>\n",
       "      <th></th>\n",
       "      <th></th>\n",
       "      <th></th>\n",
       "    </tr>\n",
       "  </thead>\n",
       "  <tbody>\n",
       "    <tr>\n",
       "      <th>12</th>\n",
       "      <th>Male</th>\n",
       "      <td>25.333333</td>\n",
       "      <td>3.000000</td>\n",
       "      <td>2.666667</td>\n",
       "      <td>36763.000000</td>\n",
       "      <td>77.333333</td>\n",
       "    </tr>\n",
       "    <tr>\n",
       "      <th rowspan=\"2\" valign=\"top\">13</th>\n",
       "      <th>Female</th>\n",
       "      <td>30.000000</td>\n",
       "      <td>4.000000</td>\n",
       "      <td>3.000000</td>\n",
       "      <td>46617.000000</td>\n",
       "      <td>106.000000</td>\n",
       "    </tr>\n",
       "    <tr>\n",
       "      <th>Male</th>\n",
       "      <td>24.500000</td>\n",
       "      <td>3.500000</td>\n",
       "      <td>2.750000</td>\n",
       "      <td>40932.000000</td>\n",
       "      <td>87.250000</td>\n",
       "    </tr>\n",
       "    <tr>\n",
       "      <th rowspan=\"2\" valign=\"top\">14</th>\n",
       "      <th>Female</th>\n",
       "      <td>25.833333</td>\n",
       "      <td>2.833333</td>\n",
       "      <td>2.833333</td>\n",
       "      <td>43736.600000</td>\n",
       "      <td>79.966667</td>\n",
       "    </tr>\n",
       "    <tr>\n",
       "      <th>Male</th>\n",
       "      <td>25.440000</td>\n",
       "      <td>3.280000</td>\n",
       "      <td>3.160000</td>\n",
       "      <td>46132.640000</td>\n",
       "      <td>102.560000</td>\n",
       "    </tr>\n",
       "    <tr>\n",
       "      <th rowspan=\"2\" valign=\"top\">15</th>\n",
       "      <th>Female</th>\n",
       "      <td>22.000000</td>\n",
       "      <td>2.000000</td>\n",
       "      <td>2.500000</td>\n",
       "      <td>35815.500000</td>\n",
       "      <td>61.500000</td>\n",
       "    </tr>\n",
       "    <tr>\n",
       "      <th>Male</th>\n",
       "      <td>24.666667</td>\n",
       "      <td>3.333333</td>\n",
       "      <td>3.333333</td>\n",
       "      <td>44722.000000</td>\n",
       "      <td>100.333333</td>\n",
       "    </tr>\n",
       "    <tr>\n",
       "      <th rowspan=\"2\" valign=\"top\">16</th>\n",
       "      <th>Female</th>\n",
       "      <td>31.085714</td>\n",
       "      <td>3.342857</td>\n",
       "      <td>3.057143</td>\n",
       "      <td>51552.400000</td>\n",
       "      <td>92.942857</td>\n",
       "    </tr>\n",
       "    <tr>\n",
       "      <th>Male</th>\n",
       "      <td>30.760000</td>\n",
       "      <td>3.480000</td>\n",
       "      <td>3.460000</td>\n",
       "      <td>55656.080000</td>\n",
       "      <td>107.260000</td>\n",
       "    </tr>\n",
       "    <tr>\n",
       "      <th rowspan=\"2\" valign=\"top\">18</th>\n",
       "      <th>Female</th>\n",
       "      <td>29.714286</td>\n",
       "      <td>4.000000</td>\n",
       "      <td>3.857143</td>\n",
       "      <td>68942.285714</td>\n",
       "      <td>122.857143</td>\n",
       "    </tr>\n",
       "    <tr>\n",
       "      <th>Male</th>\n",
       "      <td>31.062500</td>\n",
       "      <td>4.812500</td>\n",
       "      <td>4.437500</td>\n",
       "      <td>80576.312500</td>\n",
       "      <td>153.437500</td>\n",
       "    </tr>\n",
       "    <tr>\n",
       "      <th>20</th>\n",
       "      <th>Male</th>\n",
       "      <td>25.000000</td>\n",
       "      <td>4.000000</td>\n",
       "      <td>5.000000</td>\n",
       "      <td>74701.000000</td>\n",
       "      <td>170.000000</td>\n",
       "    </tr>\n",
       "    <tr>\n",
       "      <th rowspan=\"2\" valign=\"top\">21</th>\n",
       "      <th>Female</th>\n",
       "      <td>26.000000</td>\n",
       "      <td>4.000000</td>\n",
       "      <td>3.000000</td>\n",
       "      <td>69721.000000</td>\n",
       "      <td>100.000000</td>\n",
       "    </tr>\n",
       "    <tr>\n",
       "      <th>Male</th>\n",
       "      <td>33.500000</td>\n",
       "      <td>5.000000</td>\n",
       "      <td>4.500000</td>\n",
       "      <td>87151.000000</td>\n",
       "      <td>150.000000</td>\n",
       "    </tr>\n",
       "  </tbody>\n",
       "</table>\n",
       "</div>"
      ],
      "text/plain": [
       "                        Age     Usage   Fitness        Income       Miles\n",
       "Education Gender                                                         \n",
       "12        Male    25.333333  3.000000  2.666667  36763.000000   77.333333\n",
       "13        Female  30.000000  4.000000  3.000000  46617.000000  106.000000\n",
       "          Male    24.500000  3.500000  2.750000  40932.000000   87.250000\n",
       "14        Female  25.833333  2.833333  2.833333  43736.600000   79.966667\n",
       "          Male    25.440000  3.280000  3.160000  46132.640000  102.560000\n",
       "15        Female  22.000000  2.000000  2.500000  35815.500000   61.500000\n",
       "          Male    24.666667  3.333333  3.333333  44722.000000  100.333333\n",
       "16        Female  31.085714  3.342857  3.057143  51552.400000   92.942857\n",
       "          Male    30.760000  3.480000  3.460000  55656.080000  107.260000\n",
       "18        Female  29.714286  4.000000  3.857143  68942.285714  122.857143\n",
       "          Male    31.062500  4.812500  4.437500  80576.312500  153.437500\n",
       "20        Male    25.000000  4.000000  5.000000  74701.000000  170.000000\n",
       "21        Female  26.000000  4.000000  3.000000  69721.000000  100.000000\n",
       "          Male    33.500000  5.000000  4.500000  87151.000000  150.000000"
      ]
     },
     "execution_count": 122,
     "metadata": {},
     "output_type": "execute_result"
    }
   ],
   "source": [
    "cardio.groupby([\"Education\",\"Gender\"]).mean()"
   ]
  },
  {
   "cell_type": "markdown",
   "id": "fc607003",
   "metadata": {},
   "source": [
    "---\n",
    "## Exercise 7:\n",
    "    Calculate the covariance matrix;\n",
    "\n",
    "    Calculate the correlation matrix."
   ]
  },
  {
   "cell_type": "code",
   "execution_count": 123,
   "id": "0ea893dd",
   "metadata": {},
   "outputs": [
    {
     "data": {
      "text/html": [
       "<div>\n",
       "<style scoped>\n",
       "    .dataframe tbody tr th:only-of-type {\n",
       "        vertical-align: middle;\n",
       "    }\n",
       "\n",
       "    .dataframe tbody tr th {\n",
       "        vertical-align: top;\n",
       "    }\n",
       "\n",
       "    .dataframe thead th {\n",
       "        text-align: right;\n",
       "    }\n",
       "</style>\n",
       "<table border=\"1\" class=\"dataframe\">\n",
       "  <thead>\n",
       "    <tr style=\"text-align: right;\">\n",
       "      <th></th>\n",
       "      <th>Age</th>\n",
       "      <th>Education</th>\n",
       "      <th>Usage</th>\n",
       "      <th>Fitness</th>\n",
       "      <th>Income</th>\n",
       "      <th>Miles</th>\n",
       "    </tr>\n",
       "  </thead>\n",
       "  <tbody>\n",
       "    <tr>\n",
       "      <th>Age</th>\n",
       "      <td>1.000000</td>\n",
       "      <td>0.280496</td>\n",
       "      <td>0.015064</td>\n",
       "      <td>0.061105</td>\n",
       "      <td>0.513414</td>\n",
       "      <td>0.036618</td>\n",
       "    </tr>\n",
       "    <tr>\n",
       "      <th>Education</th>\n",
       "      <td>0.280496</td>\n",
       "      <td>1.000000</td>\n",
       "      <td>0.395155</td>\n",
       "      <td>0.410581</td>\n",
       "      <td>0.625827</td>\n",
       "      <td>0.307284</td>\n",
       "    </tr>\n",
       "    <tr>\n",
       "      <th>Usage</th>\n",
       "      <td>0.015064</td>\n",
       "      <td>0.395155</td>\n",
       "      <td>1.000000</td>\n",
       "      <td>0.668606</td>\n",
       "      <td>0.519537</td>\n",
       "      <td>0.759130</td>\n",
       "    </tr>\n",
       "    <tr>\n",
       "      <th>Fitness</th>\n",
       "      <td>0.061105</td>\n",
       "      <td>0.410581</td>\n",
       "      <td>0.668606</td>\n",
       "      <td>1.000000</td>\n",
       "      <td>0.535005</td>\n",
       "      <td>0.785702</td>\n",
       "    </tr>\n",
       "    <tr>\n",
       "      <th>Income</th>\n",
       "      <td>0.513414</td>\n",
       "      <td>0.625827</td>\n",
       "      <td>0.519537</td>\n",
       "      <td>0.535005</td>\n",
       "      <td>1.000000</td>\n",
       "      <td>0.543473</td>\n",
       "    </tr>\n",
       "    <tr>\n",
       "      <th>Miles</th>\n",
       "      <td>0.036618</td>\n",
       "      <td>0.307284</td>\n",
       "      <td>0.759130</td>\n",
       "      <td>0.785702</td>\n",
       "      <td>0.543473</td>\n",
       "      <td>1.000000</td>\n",
       "    </tr>\n",
       "  </tbody>\n",
       "</table>\n",
       "</div>"
      ],
      "text/plain": [
       "                Age  Education     Usage   Fitness    Income     Miles\n",
       "Age        1.000000   0.280496  0.015064  0.061105  0.513414  0.036618\n",
       "Education  0.280496   1.000000  0.395155  0.410581  0.625827  0.307284\n",
       "Usage      0.015064   0.395155  1.000000  0.668606  0.519537  0.759130\n",
       "Fitness    0.061105   0.410581  0.668606  1.000000  0.535005  0.785702\n",
       "Income     0.513414   0.625827  0.519537  0.535005  1.000000  0.543473\n",
       "Miles      0.036618   0.307284  0.759130  0.785702  0.543473  1.000000"
      ]
     },
     "execution_count": 123,
     "metadata": {},
     "output_type": "execute_result"
    }
   ],
   "source": [
    "cardio.corr()"
   ]
  },
  {
   "cell_type": "code",
   "execution_count": 124,
   "id": "f495a1b4",
   "metadata": {},
   "outputs": [
    {
     "data": {
      "text/html": [
       "<div>\n",
       "<style scoped>\n",
       "    .dataframe tbody tr th:only-of-type {\n",
       "        vertical-align: middle;\n",
       "    }\n",
       "\n",
       "    .dataframe tbody tr th {\n",
       "        vertical-align: top;\n",
       "    }\n",
       "\n",
       "    .dataframe thead th {\n",
       "        text-align: right;\n",
       "    }\n",
       "</style>\n",
       "<table border=\"1\" class=\"dataframe\">\n",
       "  <thead>\n",
       "    <tr style=\"text-align: right;\">\n",
       "      <th></th>\n",
       "      <th>Age</th>\n",
       "      <th>Education</th>\n",
       "      <th>Usage</th>\n",
       "      <th>Fitness</th>\n",
       "      <th>Income</th>\n",
       "      <th>Miles</th>\n",
       "    </tr>\n",
       "  </thead>\n",
       "  <tbody>\n",
       "    <tr>\n",
       "      <th>Age</th>\n",
       "      <td>48.212166</td>\n",
       "      <td>3.149410</td>\n",
       "      <td>0.113470</td>\n",
       "      <td>0.406828</td>\n",
       "      <td>5.884446e+04</td>\n",
       "      <td>13.186530</td>\n",
       "    </tr>\n",
       "    <tr>\n",
       "      <th>Education</th>\n",
       "      <td>3.149410</td>\n",
       "      <td>2.614867</td>\n",
       "      <td>0.693172</td>\n",
       "      <td>0.636623</td>\n",
       "      <td>1.670472e+04</td>\n",
       "      <td>25.770795</td>\n",
       "    </tr>\n",
       "    <tr>\n",
       "      <th>Usage</th>\n",
       "      <td>0.113470</td>\n",
       "      <td>0.693172</td>\n",
       "      <td>1.176785</td>\n",
       "      <td>0.695469</td>\n",
       "      <td>9.303043e+03</td>\n",
       "      <td>42.709808</td>\n",
       "    </tr>\n",
       "    <tr>\n",
       "      <th>Fitness</th>\n",
       "      <td>0.406828</td>\n",
       "      <td>0.636623</td>\n",
       "      <td>0.695469</td>\n",
       "      <td>0.919429</td>\n",
       "      <td>8.467925e+03</td>\n",
       "      <td>39.073246</td>\n",
       "    </tr>\n",
       "    <tr>\n",
       "      <th>Income</th>\n",
       "      <td>58844.463439</td>\n",
       "      <td>16704.717815</td>\n",
       "      <td>9303.042582</td>\n",
       "      <td>8467.925388</td>\n",
       "      <td>2.724706e+08</td>\n",
       "      <td>465265.361887</td>\n",
       "    </tr>\n",
       "    <tr>\n",
       "      <th>Miles</th>\n",
       "      <td>13.186530</td>\n",
       "      <td>25.770795</td>\n",
       "      <td>42.709808</td>\n",
       "      <td>39.073246</td>\n",
       "      <td>4.652654e+05</td>\n",
       "      <td>2689.833489</td>\n",
       "    </tr>\n",
       "  </tbody>\n",
       "</table>\n",
       "</div>"
      ],
      "text/plain": [
       "                    Age     Education        Usage      Fitness        Income  \\\n",
       "Age           48.212166      3.149410     0.113470     0.406828  5.884446e+04   \n",
       "Education      3.149410      2.614867     0.693172     0.636623  1.670472e+04   \n",
       "Usage          0.113470      0.693172     1.176785     0.695469  9.303043e+03   \n",
       "Fitness        0.406828      0.636623     0.695469     0.919429  8.467925e+03   \n",
       "Income     58844.463439  16704.717815  9303.042582  8467.925388  2.724706e+08   \n",
       "Miles         13.186530     25.770795    42.709808    39.073246  4.652654e+05   \n",
       "\n",
       "                   Miles  \n",
       "Age            13.186530  \n",
       "Education      25.770795  \n",
       "Usage          42.709808  \n",
       "Fitness        39.073246  \n",
       "Income     465265.361887  \n",
       "Miles        2689.833489  "
      ]
     },
     "execution_count": 124,
     "metadata": {},
     "output_type": "execute_result"
    }
   ],
   "source": [
    "cardio.cov()"
   ]
  },
  {
   "cell_type": "markdown",
   "id": "81ca5867",
   "metadata": {},
   "source": [
    "---\n",
    "## Exercise 8:\n",
    "    Generate a histogram for the age column;\n",
    "\n",
    "    Generate a histogram for all columns in the dataset;\n",
    "\n",
    "    Generate a pie chart for the gender column."
   ]
  },
  {
   "cell_type": "code",
   "execution_count": 126,
   "id": "772612cd",
   "metadata": {},
   "outputs": [
    {
     "data": {
      "text/plain": [
       "<AxesSubplot:xlabel='Age', ylabel='Count'>"
      ]
     },
     "execution_count": 126,
     "metadata": {},
     "output_type": "execute_result"
    },
    {
     "data": {
      "image/png": "[encoded data removed]",
      "text/plain": [
       "<Figure size 432x288 with 1 Axes>"
      ]
     },
     "metadata": {
      "needs_background": "light"
     },
     "output_type": "display_data"
    }
   ],
   "source": [
    "sns.histplot(cardio,x = \"Age\")"
   ]
  },
  {
   "cell_type": "code",
   "execution_count": 145,
   "id": "cd6ba8ac",
   "metadata": {},
   "outputs": [
    {
     "data": {
      "image/png": "[encoded data removed]",
      "text/plain": [
       "<Figure size 432x288 with 1 Axes>"
      ]
     },
     "metadata": {
      "needs_background": "light"
     },
     "output_type": "display_data"
    },
    {
     "data": {
      "image/png": "[encoded data removed]",
      "text/plain": [
       "<Figure size 432x288 with 1 Axes>"
      ]
     },
     "metadata": {
      "needs_background": "light"
     },
     "output_type": "display_data"
    },
    {
     "data": {
      "image/png": "[encoded data removed]",
      "text/plain": [
       "<Figure size 432x288 with 1 Axes>"
      ]
     },
     "metadata": {
      "needs_background": "light"
     },
     "output_type": "display_data"
    },
    {
     "data": {
      "image/png": "[encoded data removed]",
      "text/plain": [
       "<Figure size 432x288 with 1 Axes>"
      ]
     },
     "metadata": {
      "needs_background": "light"
     },
     "output_type": "display_data"
    },
    {
     "data": {
      "image/png": "[encoded data removed]",
      "text/plain": [
       "<Figure size 432x288 with 1 Axes>"
      ]
     },
     "metadata": {
      "needs_background": "light"
     },
     "output_type": "display_data"
    },
    {
     "data": {
      "image/png": "[encoded data removed]",
      "text/plain": [
       "<Figure size 432x288 with 1 Axes>"
      ]
     },
     "metadata": {
      "needs_background": "light"
     },
     "output_type": "display_data"
    },
    {
     "data": {
      "image/png": "[encoded data removed]",
      "text/plain": [
       "<Figure size 432x288 with 1 Axes>"
      ]
     },
     "metadata": {
      "needs_background": "light"
     },
     "output_type": "display_data"
    },
    {
     "data": {
      "image/png": "[encoded data removed]",
      "text/plain": [
       "<Figure size 432x288 with 1 Axes>"
      ]
     },
     "metadata": {
      "needs_background": "light"
     },
     "output_type": "display_data"
    },
    {
     "data": {
      "image/png": "[encoded data removed]",
      "text/plain": [
       "<Figure size 432x288 with 1 Axes>"
      ]
     },
     "metadata": {
      "needs_background": "light"
     },
     "output_type": "display_data"
    }
   ],
   "source": [
    "for col in cardio.columns:\n",
    "    sns.histplot(cardio,x = col)\n",
    "    plt.show()"
   ]
  },
  {
   "cell_type": "code",
   "execution_count": 143,
   "id": "936af80a",
   "metadata": {},
   "outputs": [
    {
     "data": {
      "text/plain": [
       "([<matplotlib.patches.Wedge at 0x2d6e1e246d0>,\n",
       "  <matplotlib.patches.Wedge at 0x2d6e1e24e20>],\n",
       " [Text(-0.2661141695451412, 1.0673252778639228, 'Male'),\n",
       "  Text(0.26611426947534417, -1.0673252529485115, 'Female')],\n",
       " [Text(-0.14515318338825883, 0.5821774242894124, '57.8%'),\n",
       "  Text(0.14515323789564225, -0.582177410699188, '42.2%')])"
      ]
     },
     "execution_count": 143,
     "metadata": {},
     "output_type": "execute_result"
    },
    {
     "data": {
      "image/png": "[encoded data removed]",
      "text/plain": [
       "<Figure size 432x288 with 1 Axes>"
      ]
     },
     "metadata": {},
     "output_type": "display_data"
    }
   ],
   "source": [
    "plt.pie(cardio[\"Gender\"].value_counts(),\n",
    "        labels = cardio[\"Gender\"].value_counts().index,\n",
    "        autopct=\"%.1f%%\"\n",
    "       )"
   ]
  },
  {
   "cell_type": "code",
   "execution_count": 141,
   "id": "51272d26",
   "metadata": {},
   "outputs": [
    {
     "data": {
      "text/plain": [
       "Index(['Male', 'Female'], dtype='object')"
      ]
     },
     "execution_count": 141,
     "metadata": {},
     "output_type": "execute_result"
    }
   ],
   "source": [
    "cardio[\"Gender\"].value_counts().index"
   ]
  },
  {
   "cell_type": "code",
   "execution_count": null,
   "id": "c632e730",
   "metadata": {},
   "outputs": [],
   "source": []
  }
 ],
 "metadata": {
  "kernelspec": {
   "display_name": "Python 3",
   "language": "python",
   "name": "python3"
  },
  "language_info": {
   "codemirror_mode": {
    "name": "ipython",
    "version": 3
   },
   "file_extension": ".py",
   "mimetype": "text/x-python",
   "name": "python",
   "nbconvert_exporter": "python",
   "pygments_lexer": "ipython3",
   "version": "3.8.8"
  }
 },
 "nbformat": 4,
 "nbformat_minor": 5
}
