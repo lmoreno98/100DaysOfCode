{
 "cells": [
  {
   "cell_type": "code",
   "execution_count": 14,
   "id": "dce64eb7",
   "metadata": {},
   "outputs": [],
   "source": [
    "from numpy import random\n",
    "import pandas as pd"
   ]
  },
  {
   "cell_type": "markdown",
   "id": "d714dfcc",
   "metadata": {},
   "source": [
    "---\n",
    "## Exercise 1:\n",
    "Generate a normal random distribution of order 4 x 5.\n",
    "\n",
    "Store the result in a variable."
   ]
  },
  {
   "cell_type": "code",
   "execution_count": 10,
   "id": "8a8e5840",
   "metadata": {},
   "outputs": [],
   "source": [
    "ex1 = random.normal(size = (4,5))"
   ]
  },
  {
   "cell_type": "code",
   "execution_count": 11,
   "id": "fe2597f4",
   "metadata": {},
   "outputs": [
    {
     "data": {
      "text/plain": [
       "array([[ 0.2392618 , -1.12275836, -1.46747822, -1.7551793 ,  1.15149802],\n",
       "       [ 1.4608173 , -0.87251325,  2.20042073,  1.25367583,  0.76822904],\n",
       "       [ 1.06604734,  0.58359605,  0.39261431, -0.44717765,  1.12514195],\n",
       "       [ 1.37103433, -1.02785128,  0.36728227, -0.83805609, -0.1103206 ]])"
      ]
     },
     "execution_count": 11,
     "metadata": {},
     "output_type": "execute_result"
    }
   ],
   "source": [
    "ex1"
   ]
  },
  {
   "cell_type": "markdown",
   "id": "b18edc4f",
   "metadata": {},
   "source": [
    "---\n",
    "## Exercise 2:\n",
    "Generate a normal random distribution of order 20 x 5, with a mean of 10 and standard deviation 3. Store the result in a variable. Then create a DataFrame from the data created."
   ]
  },
  {
   "cell_type": "code",
   "execution_count": 12,
   "id": "4b95e1d0",
   "metadata": {},
   "outputs": [],
   "source": [
    "ex2 = random.normal(loc = 10, scale = 3, size = (20,5))"
   ]
  },
  {
   "cell_type": "code",
   "execution_count": 18,
   "id": "bac3ac67",
   "metadata": {
    "scrolled": true
   },
   "outputs": [
    {
     "data": {
      "text/html": [
       "<div>\n",
       "<style scoped>\n",
       "    .dataframe tbody tr th:only-of-type {\n",
       "        vertical-align: middle;\n",
       "    }\n",
       "\n",
       "    .dataframe tbody tr th {\n",
       "        vertical-align: top;\n",
       "    }\n",
       "\n",
       "    .dataframe thead th {\n",
       "        text-align: right;\n",
       "    }\n",
       "</style>\n",
       "<table border=\"1\" class=\"dataframe\">\n",
       "  <thead>\n",
       "    <tr style=\"text-align: right;\">\n",
       "      <th></th>\n",
       "      <th>A</th>\n",
       "      <th>B</th>\n",
       "      <th>C</th>\n",
       "      <th>D</th>\n",
       "      <th>E</th>\n",
       "    </tr>\n",
       "  </thead>\n",
       "  <tbody>\n",
       "    <tr>\n",
       "      <th>1</th>\n",
       "      <td>6.585820</td>\n",
       "      <td>11.886480</td>\n",
       "      <td>10.145970</td>\n",
       "      <td>11.329862</td>\n",
       "      <td>11.970994</td>\n",
       "    </tr>\n",
       "    <tr>\n",
       "      <th>2</th>\n",
       "      <td>6.705795</td>\n",
       "      <td>4.167932</td>\n",
       "      <td>11.845691</td>\n",
       "      <td>13.272936</td>\n",
       "      <td>19.669908</td>\n",
       "    </tr>\n",
       "    <tr>\n",
       "      <th>3</th>\n",
       "      <td>10.056197</td>\n",
       "      <td>16.916555</td>\n",
       "      <td>7.907981</td>\n",
       "      <td>11.120712</td>\n",
       "      <td>8.000647</td>\n",
       "    </tr>\n",
       "    <tr>\n",
       "      <th>4</th>\n",
       "      <td>11.526348</td>\n",
       "      <td>12.137378</td>\n",
       "      <td>6.301598</td>\n",
       "      <td>7.594233</td>\n",
       "      <td>9.821345</td>\n",
       "    </tr>\n",
       "    <tr>\n",
       "      <th>5</th>\n",
       "      <td>7.813767</td>\n",
       "      <td>3.653024</td>\n",
       "      <td>11.658504</td>\n",
       "      <td>10.062449</td>\n",
       "      <td>8.308742</td>\n",
       "    </tr>\n",
       "    <tr>\n",
       "      <th>6</th>\n",
       "      <td>11.106155</td>\n",
       "      <td>13.459044</td>\n",
       "      <td>10.812832</td>\n",
       "      <td>7.458940</td>\n",
       "      <td>13.353366</td>\n",
       "    </tr>\n",
       "    <tr>\n",
       "      <th>7</th>\n",
       "      <td>10.191274</td>\n",
       "      <td>11.537549</td>\n",
       "      <td>7.572599</td>\n",
       "      <td>11.470684</td>\n",
       "      <td>9.384513</td>\n",
       "    </tr>\n",
       "    <tr>\n",
       "      <th>8</th>\n",
       "      <td>7.858160</td>\n",
       "      <td>12.213828</td>\n",
       "      <td>9.998059</td>\n",
       "      <td>9.887386</td>\n",
       "      <td>12.000642</td>\n",
       "    </tr>\n",
       "    <tr>\n",
       "      <th>9</th>\n",
       "      <td>13.288284</td>\n",
       "      <td>9.344878</td>\n",
       "      <td>12.334832</td>\n",
       "      <td>6.899167</td>\n",
       "      <td>9.910320</td>\n",
       "    </tr>\n",
       "    <tr>\n",
       "      <th>10</th>\n",
       "      <td>13.307345</td>\n",
       "      <td>5.445207</td>\n",
       "      <td>13.437331</td>\n",
       "      <td>11.459715</td>\n",
       "      <td>12.183084</td>\n",
       "    </tr>\n",
       "    <tr>\n",
       "      <th>11</th>\n",
       "      <td>11.227538</td>\n",
       "      <td>10.738265</td>\n",
       "      <td>7.578637</td>\n",
       "      <td>13.263872</td>\n",
       "      <td>7.954272</td>\n",
       "    </tr>\n",
       "    <tr>\n",
       "      <th>12</th>\n",
       "      <td>11.630823</td>\n",
       "      <td>9.649188</td>\n",
       "      <td>9.042913</td>\n",
       "      <td>19.554144</td>\n",
       "      <td>10.622432</td>\n",
       "    </tr>\n",
       "    <tr>\n",
       "      <th>13</th>\n",
       "      <td>8.135230</td>\n",
       "      <td>8.755104</td>\n",
       "      <td>8.775448</td>\n",
       "      <td>14.966943</td>\n",
       "      <td>15.006938</td>\n",
       "    </tr>\n",
       "    <tr>\n",
       "      <th>14</th>\n",
       "      <td>7.502151</td>\n",
       "      <td>17.979479</td>\n",
       "      <td>8.156695</td>\n",
       "      <td>9.225574</td>\n",
       "      <td>14.962128</td>\n",
       "    </tr>\n",
       "    <tr>\n",
       "      <th>15</th>\n",
       "      <td>11.782764</td>\n",
       "      <td>8.356127</td>\n",
       "      <td>13.182498</td>\n",
       "      <td>10.371896</td>\n",
       "      <td>8.660052</td>\n",
       "    </tr>\n",
       "    <tr>\n",
       "      <th>16</th>\n",
       "      <td>6.567038</td>\n",
       "      <td>13.182078</td>\n",
       "      <td>7.720349</td>\n",
       "      <td>7.281573</td>\n",
       "      <td>5.943824</td>\n",
       "    </tr>\n",
       "    <tr>\n",
       "      <th>17</th>\n",
       "      <td>9.080088</td>\n",
       "      <td>9.605508</td>\n",
       "      <td>11.924944</td>\n",
       "      <td>7.926962</td>\n",
       "      <td>6.476373</td>\n",
       "    </tr>\n",
       "    <tr>\n",
       "      <th>18</th>\n",
       "      <td>13.029776</td>\n",
       "      <td>11.993555</td>\n",
       "      <td>10.276132</td>\n",
       "      <td>14.912265</td>\n",
       "      <td>14.635552</td>\n",
       "    </tr>\n",
       "    <tr>\n",
       "      <th>19</th>\n",
       "      <td>10.619315</td>\n",
       "      <td>7.058690</td>\n",
       "      <td>11.604221</td>\n",
       "      <td>7.382164</td>\n",
       "      <td>11.738596</td>\n",
       "    </tr>\n",
       "    <tr>\n",
       "      <th>20</th>\n",
       "      <td>11.798826</td>\n",
       "      <td>6.688134</td>\n",
       "      <td>11.128416</td>\n",
       "      <td>7.927495</td>\n",
       "      <td>14.881359</td>\n",
       "    </tr>\n",
       "  </tbody>\n",
       "</table>\n",
       "</div>"
      ],
      "text/plain": [
       "            A          B          C          D          E\n",
       "1    6.585820  11.886480  10.145970  11.329862  11.970994\n",
       "2    6.705795   4.167932  11.845691  13.272936  19.669908\n",
       "3   10.056197  16.916555   7.907981  11.120712   8.000647\n",
       "4   11.526348  12.137378   6.301598   7.594233   9.821345\n",
       "5    7.813767   3.653024  11.658504  10.062449   8.308742\n",
       "6   11.106155  13.459044  10.812832   7.458940  13.353366\n",
       "7   10.191274  11.537549   7.572599  11.470684   9.384513\n",
       "8    7.858160  12.213828   9.998059   9.887386  12.000642\n",
       "9   13.288284   9.344878  12.334832   6.899167   9.910320\n",
       "10  13.307345   5.445207  13.437331  11.459715  12.183084\n",
       "11  11.227538  10.738265   7.578637  13.263872   7.954272\n",
       "12  11.630823   9.649188   9.042913  19.554144  10.622432\n",
       "13   8.135230   8.755104   8.775448  14.966943  15.006938\n",
       "14   7.502151  17.979479   8.156695   9.225574  14.962128\n",
       "15  11.782764   8.356127  13.182498  10.371896   8.660052\n",
       "16   6.567038  13.182078   7.720349   7.281573   5.943824\n",
       "17   9.080088   9.605508  11.924944   7.926962   6.476373\n",
       "18  13.029776  11.993555  10.276132  14.912265  14.635552\n",
       "19  10.619315   7.058690  11.604221   7.382164  11.738596\n",
       "20  11.798826   6.688134  11.128416   7.927495  14.881359"
      ]
     },
     "execution_count": 18,
     "metadata": {},
     "output_type": "execute_result"
    }
   ],
   "source": [
    "pd.DataFrame(ex2,columns = list('ABCDE'), index = range(1, ex2.shape[0]+1))"
   ]
  },
  {
   "cell_type": "markdown",
   "id": "c805bff4",
   "metadata": {},
   "source": [
    "---\n",
    "## Exercise 3:\n",
    "Generate a standard normal distribution and use the Seaborn module to build a visualization of the data. The sample must contain 3000 numbers. Use the Seaborn module's distplot() function and also import."
   ]
  },
  {
   "cell_type": "code",
   "execution_count": 19,
   "id": "d2792ab4",
   "metadata": {},
   "outputs": [],
   "source": [
    "import seaborn as sns"
   ]
  },
  {
   "cell_type": "code",
   "execution_count": 28,
   "id": "686bc723",
   "metadata": {},
   "outputs": [
    {
     "data": {
      "text/plain": [
       "<seaborn.axisgrid.FacetGrid at 0x1ba4d2fea90>"
      ]
     },
     "execution_count": 28,
     "metadata": {},
     "output_type": "execute_result"
    },
    {
     "data": {
      "image/png": "[encoded data removed]",
      "text/plain": [
       "<Figure size 360x360 with 1 Axes>"
      ]
     },
     "metadata": {
      "needs_background": "light"
     },
     "output_type": "display_data"
    }
   ],
   "source": [
    "ex3 = random.normal(size = 3000)\n",
    "sns.displot(ex3)"
   ]
  },
  {
   "cell_type": "markdown",
   "id": "6a4755b0",
   "metadata": {},
   "source": [
    "---\n",
    "## Exercise 4:\n",
    "The binomial distribution is a discrete probability distribution and describes binary results, such as success and failure or heads and tails, for example. We can create random data for this distribution with the function np.random.binomial().\n",
    "\n",
    "    n: number of attempts;\n",
    "\n",
    "    p: probability of occurrence of each attempt;\n",
    "\n",
    "    size: size of the returned vector (shape).\n",
    "\n",
    "Based on this information:\n",
    "\n",
    "    Generate random numbers following a binomial distribution, with 6 attempts, where the probability of each attempt is 0.5, and size 100. Store the data in a variable, 'data1'.\n",
    "\n",
    "    Generate random numbers following a binomial distribution, with 2 attempts, where the probability of occurrence of each attempt is 0.8, and size 1000. Store the data in a variable, 'data2'."
   ]
  },
  {
   "cell_type": "code",
   "execution_count": 25,
   "id": "0e2b2726",
   "metadata": {},
   "outputs": [
    {
     "data": {
      "text/plain": [
       "array([0, 1, 5, 5, 4, 3, 1, 3, 2, 2, 3, 2, 3, 4, 5, 2, 1, 3, 3, 3, 3, 4,\n",
       "       3, 3, 1, 4, 3, 4, 5, 4, 3, 3, 4, 2, 3, 2, 2, 3, 2, 3, 1, 3, 5, 4,\n",
       "       4, 2, 2, 3, 4, 4, 0, 2, 3, 3, 1, 3, 2, 3, 6, 4, 2, 4, 1, 3, 2, 3,\n",
       "       5, 4, 1, 4, 3, 4, 2, 3, 2, 3, 3, 4, 3, 3, 4, 5, 3, 5, 4, 3, 2, 1,\n",
       "       2, 2, 3, 1, 3, 4, 2, 3, 1, 2, 3, 1])"
      ]
     },
     "execution_count": 25,
     "metadata": {},
     "output_type": "execute_result"
    }
   ],
   "source": [
    "ex4A = random.binomial(n = 6, p = 0.5, size = 100)\n",
    "ex4A"
   ]
  },
  {
   "cell_type": "code",
   "execution_count": 26,
   "id": "bd4009da",
   "metadata": {
    "scrolled": true
   },
   "outputs": [
    {
     "data": {
      "text/plain": [
       "array([2, 1, 2, 2, 2, 2, 1, 2, 2, 1, 2, 1, 1, 1, 1, 2, 2, 1, 2, 1, 2, 1,\n",
       "       2, 2, 2, 2, 1, 1, 0, 1, 2, 1, 2, 1, 1, 1, 1, 2, 1, 2, 2, 2, 2, 1,\n",
       "       1, 1, 1, 2, 1, 2, 1, 1, 2, 1, 2, 2, 2, 1, 2, 2, 0, 2, 2, 2, 2, 2,\n",
       "       2, 1, 2, 2, 1, 1, 1, 2, 2, 2, 2, 2, 1, 1, 1, 2, 2, 2, 2, 2, 2, 1,\n",
       "       2, 2, 1, 2, 1, 1, 1, 1, 2, 2, 2, 1, 2, 2, 2, 1, 2, 1, 1, 2, 1, 2,\n",
       "       1, 2, 1, 2, 2, 2, 2, 2, 1, 1, 1, 2, 2, 2, 2, 2, 2, 2, 2, 1, 2, 1,\n",
       "       1, 2, 1, 2, 1, 1, 2, 1, 2, 1, 2, 1, 2, 2, 2, 2, 1, 2, 1, 1, 0, 2,\n",
       "       2, 2, 1, 2, 2, 1, 2, 2, 2, 2, 2, 1, 2, 1, 2, 1, 2, 1, 1, 1, 1, 2,\n",
       "       2, 2, 1, 2, 1, 2, 0, 2, 2, 2, 2, 1, 1, 1, 2, 2, 2, 2, 2, 2, 2, 2,\n",
       "       2, 2, 1, 1, 0, 1, 2, 1, 2, 2, 1, 1, 2, 2, 1, 0, 2, 0, 2, 2, 2, 2,\n",
       "       1, 2, 2, 2, 2, 2, 1, 2, 2, 1, 2, 2, 2, 2, 1, 2, 2, 2, 1, 2, 2, 2,\n",
       "       2, 2, 1, 1, 2, 2, 1, 1, 2, 1, 2, 1, 2, 2, 2, 1, 1, 2, 2, 1, 1, 1,\n",
       "       1, 2, 2, 2, 2, 1, 2, 2, 2, 1, 2, 1, 2, 1, 2, 2, 2, 2, 2, 1, 2, 2,\n",
       "       1, 2, 1, 1, 2, 2, 2, 2, 2, 2, 1, 2, 2, 1, 2, 2, 1, 2, 2, 1, 1, 2,\n",
       "       2, 1, 2, 2, 2, 1, 2, 2, 1, 2, 2, 2, 0, 2, 2, 1, 2, 2, 2, 1, 1, 2,\n",
       "       2, 2, 2, 2, 1, 1, 2, 2, 2, 1, 2, 2, 0, 2, 2, 1, 2, 2, 2, 2, 2, 2,\n",
       "       1, 2, 1, 1, 1, 1, 2, 1, 1, 2, 2, 1, 1, 0, 1, 2, 2, 2, 2, 2, 1, 2,\n",
       "       2, 1, 2, 2, 2, 2, 1, 2, 2, 1, 2, 2, 2, 1, 1, 0, 1, 2, 2, 1, 2, 2,\n",
       "       2, 1, 2, 1, 2, 0, 1, 2, 2, 2, 2, 2, 2, 2, 2, 2, 1, 2, 2, 1, 2, 1,\n",
       "       2, 2, 2, 2, 2, 2, 2, 2, 2, 0, 2, 2, 2, 0, 2, 2, 0, 1, 2, 2, 2, 2,\n",
       "       2, 2, 2, 2, 1, 0, 1, 1, 2, 2, 2, 1, 1, 1, 2, 2, 0, 2, 1, 2, 1, 2,\n",
       "       2, 2, 1, 0, 2, 1, 2, 2, 2, 2, 2, 2, 0, 1, 1, 1, 1, 2, 2, 1, 2, 2,\n",
       "       2, 2, 2, 2, 2, 1, 1, 2, 2, 1, 2, 1, 2, 2, 1, 2, 2, 2, 2, 2, 1, 2,\n",
       "       1, 2, 1, 2, 1, 1, 2, 2, 1, 1, 1, 1, 2, 2, 1, 0, 2, 2, 1, 1, 2, 2,\n",
       "       2, 1, 2, 2, 1, 2, 2, 1, 2, 2, 2, 2, 2, 1, 2, 2, 1, 2, 1, 1, 2, 2,\n",
       "       1, 2, 2, 2, 2, 1, 2, 1, 2, 2, 2, 2, 2, 2, 2, 2, 2, 2, 2, 2, 2, 1,\n",
       "       2, 2, 2, 2, 1, 0, 2, 2, 2, 2, 1, 2, 2, 1, 2, 2, 2, 2, 2, 2, 2, 2,\n",
       "       2, 2, 1, 2, 1, 1, 2, 2, 2, 2, 2, 2, 2, 1, 1, 1, 1, 2, 1, 2, 2, 2,\n",
       "       0, 2, 2, 1, 2, 2, 1, 2, 2, 2, 1, 1, 2, 2, 2, 2, 2, 1, 2, 2, 2, 2,\n",
       "       2, 2, 2, 2, 2, 1, 1, 2, 1, 1, 2, 2, 2, 2, 0, 1, 2, 2, 2, 1, 1, 2,\n",
       "       0, 2, 1, 2, 2, 2, 2, 2, 2, 1, 2, 2, 2, 2, 0, 2, 2, 2, 2, 2, 2, 1,\n",
       "       1, 1, 1, 2, 2, 1, 1, 2, 2, 2, 1, 2, 2, 1, 2, 2, 1, 1, 2, 2, 2, 0,\n",
       "       2, 2, 2, 2, 2, 2, 1, 2, 2, 2, 2, 2, 2, 2, 1, 1, 1, 2, 1, 2, 1, 2,\n",
       "       2, 2, 2, 1, 0, 2, 2, 2, 2, 2, 2, 2, 2, 2, 1, 2, 2, 2, 2, 2, 2, 2,\n",
       "       2, 2, 2, 2, 1, 2, 2, 1, 2, 2, 2, 2, 2, 2, 2, 2, 1, 2, 1, 2, 2, 2,\n",
       "       2, 2, 2, 2, 1, 2, 2, 2, 1, 1, 2, 1, 2, 2, 2, 1, 2, 1, 1, 2, 2, 2,\n",
       "       2, 1, 1, 2, 1, 2, 2, 1, 1, 1, 1, 2, 2, 2, 1, 1, 1, 2, 1, 1, 2, 1,\n",
       "       2, 2, 2, 2, 2, 1, 2, 1, 2, 2, 2, 1, 2, 1, 1, 1, 2, 1, 2, 2, 1, 1,\n",
       "       1, 2, 2, 1, 1, 2, 1, 2, 1, 1, 2, 2, 2, 2, 0, 1, 1, 2, 2, 2, 2, 2,\n",
       "       1, 2, 2, 2, 2, 1, 2, 2, 2, 2, 2, 1, 1, 2, 1, 2, 1, 1, 1, 2, 2, 1,\n",
       "       2, 2, 2, 2, 2, 1, 2, 2, 2, 2, 2, 2, 2, 1, 1, 2, 2, 2, 2, 2, 2, 2,\n",
       "       0, 1, 1, 1, 2, 2, 0, 2, 1, 0, 2, 1, 2, 2, 2, 2, 1, 2, 2, 2, 2, 1,\n",
       "       2, 2, 1, 2, 2, 2, 1, 1, 1, 2, 1, 2, 0, 2, 2, 1, 2, 2, 2, 2, 2, 1,\n",
       "       2, 1, 1, 2, 2, 1, 1, 2, 1, 2, 2, 2, 2, 0, 1, 2, 2, 2, 1, 2, 2, 1,\n",
       "       2, 1, 2, 2, 1, 1, 1, 1, 2, 1, 2, 0, 1, 0, 2, 2, 2, 2, 2, 2, 2, 2,\n",
       "       1, 2, 2, 1, 2, 2, 2, 2, 1, 2])"
      ]
     },
     "execution_count": 26,
     "metadata": {},
     "output_type": "execute_result"
    }
   ],
   "source": [
    "ex4B = random.binomial(n = 2, p = 0.8, size = 1000)\n",
    "ex4B"
   ]
  },
  {
   "cell_type": "markdown",
   "id": "d27da50b",
   "metadata": {},
   "source": [
    "---\n",
    "## Exercise 5:\n",
    "Use the Seaborn module to visualize the distribution of random numbers from a binomial distribution, with 6 trials, probability 0.5 and size 3000."
   ]
  },
  {
   "cell_type": "code",
   "execution_count": 29,
   "id": "93fd0649",
   "metadata": {},
   "outputs": [
    {
     "data": {
      "text/plain": [
       "<seaborn.axisgrid.FacetGrid at 0x1ba4d4d23a0>"
      ]
     },
     "execution_count": 29,
     "metadata": {},
     "output_type": "execute_result"
    },
    {
     "data": {
      "image/png": "[encoded data removed]",
      "text/plain": [
       "<Figure size 360x360 with 1 Axes>"
      ]
     },
     "metadata": {
      "needs_background": "light"
     },
     "output_type": "display_data"
    }
   ],
   "source": [
    "ex5 = random.binomial(n = 6, p = 0.5, size = 3000)\n",
    "sns.displot(ex5)"
   ]
  },
  {
   "cell_type": "markdown",
   "id": "2e9c8524",
   "metadata": {},
   "source": [
    "---\n",
    "## Exericse 6:\n",
    "The uniform distribution is a continuous distribution of probability, with important applications in statistics. Generate a sample of the uniform 3 x 3 shape distribution.\n",
    "Tip: np.random.uniform()."
   ]
  },
  {
   "cell_type": "code",
   "execution_count": 31,
   "id": "aabdb057",
   "metadata": {},
   "outputs": [
    {
     "data": {
      "text/plain": [
       "array([[0.7396239 , 0.74068233, 0.23961575],\n",
       "       [0.4405575 , 0.65591753, 0.34442694],\n",
       "       [0.30168323, 0.6630187 , 0.82437195]])"
      ]
     },
     "execution_count": 31,
     "metadata": {},
     "output_type": "execute_result"
    }
   ],
   "source": [
    "ex6 = random.uniform(size = (3,3))\n",
    "ex6"
   ]
  },
  {
   "cell_type": "markdown",
   "id": "88f70912",
   "metadata": {},
   "source": [
    "---\n",
    "## Exercise 7:\n",
    "Use the Seaborn module to visualize the distribution of random numbers from a uniform distribution, size 1000."
   ]
  },
  {
   "cell_type": "code",
   "execution_count": 34,
   "id": "8e23b40a",
   "metadata": {},
   "outputs": [
    {
     "data": {
      "text/plain": [
       "<seaborn.axisgrid.FacetGrid at 0x1ba4d98e670>"
      ]
     },
     "execution_count": 34,
     "metadata": {},
     "output_type": "execute_result"
    },
    {
     "data": {
      "image/png": "[encoded data removed]",
      "text/plain": [
       "<Figure size 360x360 with 1 Axes>"
      ]
     },
     "metadata": {
      "needs_background": "light"
     },
     "output_type": "display_data"
    }
   ],
   "source": [
    "ex7 = random.uniform(size = 1000)\n",
    "sns.displot(ex7)"
   ]
  },
  {
   "cell_type": "markdown",
   "id": "bd579a40",
   "metadata": {},
   "source": [
    "---\n",
    "## Exercise 8:\n",
    "Generate an array with random numbers between -1000 and 3000, of shape (30, 5).\n",
    "Tip: np.random.randint()."
   ]
  },
  {
   "cell_type": "code",
   "execution_count": 36,
   "id": "ab5f7f89",
   "metadata": {
    "scrolled": true
   },
   "outputs": [
    {
     "data": {
      "text/plain": [
       "array([[  -97,  -740,  1693,  -984,   863],\n",
       "       [ 1156,  1683,  1688,  -286,  1195],\n",
       "       [ 2665,  1540,  -556,   175,  1934],\n",
       "       [ 1195,   477,  -487,   883,   -81],\n",
       "       [  927,  1030,  2184,  2981,   991],\n",
       "       [  551,  2483,  1220,  1018,   894],\n",
       "       [  180,   797,  1669,  1170,   739],\n",
       "       [ 1914,  2464,  1120,  -816,  1729],\n",
       "       [ 1673,  1453,   512,  2733,  -679],\n",
       "       [ 1773,  1629,  1901,   657,  -527],\n",
       "       [ 1019,  2648,   -95,  2589,  2061],\n",
       "       [  907,   219,  -244,  -818,  2254],\n",
       "       [ 1700,   -79,  2545,  2796,   527],\n",
       "       [ -716,  1503,   584,  1047,   529],\n",
       "       [  921,   523,  -527,   550,  2945],\n",
       "       [ 2852,  -491,  2605,  2301,   737],\n",
       "       [ 1835,  -536,   336,  2806,  -759],\n",
       "       [ 1987,  1312,   827,   -91,    87],\n",
       "       [ -397,  -289,  2665,   450,  2178],\n",
       "       [ 1356,  -834,  -976,  -601,  1804],\n",
       "       [  843,  2951,  -277,  2811,  -877],\n",
       "       [ 2238,   133,  -442,  1625,  -250],\n",
       "       [ -704,   -16,  -309,  1873,  1988],\n",
       "       [ 1615,   268,  -942,  1507,   783],\n",
       "       [ 2029,  2525,  1020,  1652,  2564],\n",
       "       [ 2927,  2056,   422, -1000,   574],\n",
       "       [ 1369,  2680,  2754,   242,  2772],\n",
       "       [  308,   441,  -233,   372,  2455],\n",
       "       [  722,  -301,  2848,  1120,  1372],\n",
       "       [ 2516,   935,  1881,  1360,  1237]])"
      ]
     },
     "execution_count": 36,
     "metadata": {},
     "output_type": "execute_result"
    }
   ],
   "source": [
    "ex8 = random.randint(-1000,3000,(30,5))\n",
    "ex8"
   ]
  },
  {
   "cell_type": "markdown",
   "id": "88b7eedb",
   "metadata": {},
   "source": [
    "---\n",
    "## Exercise 9:\n",
    "Generate a 30 x 5 shape array with numbers between 0 and 4.\n",
    "Tip: np.random.randint()."
   ]
  },
  {
   "cell_type": "code",
   "execution_count": 39,
   "id": "e883e6c4",
   "metadata": {
    "scrolled": true
   },
   "outputs": [
    {
     "data": {
      "text/plain": [
       "array([[2, 2, 3, 3, 0],\n",
       "       [2, 3, 2, 1, 2],\n",
       "       [3, 1, 3, 1, 2],\n",
       "       [0, 0, 1, 0, 2],\n",
       "       [2, 2, 0, 2, 1],\n",
       "       [3, 3, 1, 1, 0],\n",
       "       [0, 2, 2, 3, 3],\n",
       "       [0, 0, 0, 3, 0],\n",
       "       [2, 1, 3, 0, 2],\n",
       "       [3, 1, 2, 0, 1],\n",
       "       [2, 0, 3, 3, 2],\n",
       "       [1, 0, 0, 1, 1],\n",
       "       [2, 2, 3, 3, 1],\n",
       "       [1, 0, 1, 1, 1],\n",
       "       [1, 2, 3, 3, 0],\n",
       "       [3, 1, 2, 2, 3],\n",
       "       [2, 0, 2, 1, 3],\n",
       "       [0, 1, 2, 3, 0],\n",
       "       [1, 3, 0, 2, 1],\n",
       "       [2, 1, 3, 0, 0],\n",
       "       [2, 0, 1, 0, 3],\n",
       "       [2, 0, 0, 1, 2],\n",
       "       [3, 1, 0, 0, 0],\n",
       "       [2, 1, 2, 3, 3],\n",
       "       [0, 2, 2, 2, 1],\n",
       "       [0, 1, 0, 0, 2],\n",
       "       [0, 2, 0, 1, 3],\n",
       "       [2, 1, 3, 1, 0],\n",
       "       [0, 0, 0, 3, 0],\n",
       "       [3, 0, 1, 0, 1]])"
      ]
     },
     "execution_count": 39,
     "metadata": {},
     "output_type": "execute_result"
    }
   ],
   "source": [
    "ex8 = random.randint(0,4,(30,5))\n",
    "ex8"
   ]
  },
  {
   "cell_type": "markdown",
   "id": "3e6a1d72",
   "metadata": {},
   "source": [
    "---\n",
    "## Exercise 10:\n",
    "Generate an array of integer number with different upper limits (100, 300, 50, 10000), but with a minimum value of 10.\n",
    "Tip: np.random.randint()."
   ]
  },
  {
   "cell_type": "code",
   "execution_count": 40,
   "id": "753370cc",
   "metadata": {},
   "outputs": [
    {
     "data": {
      "text/plain": [
       "array([  31,  187,   32, 8659])"
      ]
     },
     "execution_count": 40,
     "metadata": {},
     "output_type": "execute_result"
    }
   ],
   "source": [
    "ex10 = random.randint(low = 10, high = [100,300,50,10000])\n",
    "ex10"
   ]
  },
  {
   "cell_type": "code",
   "execution_count": null,
   "id": "c5c4387b",
   "metadata": {},
   "outputs": [],
   "source": []
  }
 ],
 "metadata": {
  "kernelspec": {
   "display_name": "Python 3",
   "language": "python",
   "name": "python3"
  },
  "language_info": {
   "codemirror_mode": {
    "name": "ipython",
    "version": 3
   },
   "file_extension": ".py",
   "mimetype": "text/x-python",
   "name": "python",
   "nbconvert_exporter": "python",
   "pygments_lexer": "ipython3",
   "version": "3.8.8"
  }
 },
 "nbformat": 4,
 "nbformat_minor": 5
}
