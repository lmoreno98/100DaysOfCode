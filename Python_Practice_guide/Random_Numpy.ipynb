{
 "cells": [
  {
   "cell_type": "code",
   "execution_count": 1,
   "id": "dce64eb7",
   "metadata": {},
   "outputs": [],
   "source": [
    "from numpy import random\n",
    "import pandas as pd"
   ]
  },
  {
   "cell_type": "markdown",
   "id": "d714dfcc",
   "metadata": {},
   "source": [
    "---\n",
    "## Exercise 1:\n",
    "Generate a normal random distribution of order 4 x 5.\n",
    "\n",
    "Store the result in a variable."
   ]
  },
  {
   "cell_type": "code",
   "execution_count": 2,
   "id": "8a8e5840",
   "metadata": {},
   "outputs": [],
   "source": [
    "ex1 = random.normal(size = (4,5))"
   ]
  },
  {
   "cell_type": "code",
   "execution_count": 3,
   "id": "fe2597f4",
   "metadata": {},
   "outputs": [
    {
     "data": {
      "text/plain": [
       "array([[-2.10659592e-01,  1.51810192e+00,  3.00872084e-01,\n",
       "         2.12200369e+00,  6.38240093e-01],\n",
       "       [-3.72947073e-01, -1.10387123e+00, -7.58014322e-01,\n",
       "        -1.19817855e+00,  1.28959020e+00],\n",
       "       [-7.68576399e-01,  2.15129015e-01, -2.27178612e-01,\n",
       "         8.49707343e-04,  5.23867350e-01],\n",
       "       [ 1.18231154e-01, -4.45589657e-01, -4.74174143e-01,\n",
       "         1.63952796e-01,  1.82097912e+00]])"
      ]
     },
     "execution_count": 3,
     "metadata": {},
     "output_type": "execute_result"
    }
   ],
   "source": [
    "ex1"
   ]
  },
  {
   "cell_type": "markdown",
   "id": "b18edc4f",
   "metadata": {},
   "source": [
    "---\n",
    "## Exercise 2:\n",
    "Generate a normal random distribution of order 20 x 5, with a mean of 10 and standard deviation 3. Store the result in a variable. Then create a DataFrame from the data created."
   ]
  },
  {
   "cell_type": "code",
   "execution_count": 4,
   "id": "4b95e1d0",
   "metadata": {},
   "outputs": [],
   "source": [
    "ex2 = random.normal(loc = 10, scale = 3, size = (20,5))"
   ]
  },
  {
   "cell_type": "code",
   "execution_count": 5,
   "id": "bac3ac67",
   "metadata": {
    "scrolled": true
   },
   "outputs": [
    {
     "data": {
      "text/html": [
       "<div>\n",
       "<style scoped>\n",
       "    .dataframe tbody tr th:only-of-type {\n",
       "        vertical-align: middle;\n",
       "    }\n",
       "\n",
       "    .dataframe tbody tr th {\n",
       "        vertical-align: top;\n",
       "    }\n",
       "\n",
       "    .dataframe thead th {\n",
       "        text-align: right;\n",
       "    }\n",
       "</style>\n",
       "<table border=\"1\" class=\"dataframe\">\n",
       "  <thead>\n",
       "    <tr style=\"text-align: right;\">\n",
       "      <th></th>\n",
       "      <th>A</th>\n",
       "      <th>B</th>\n",
       "      <th>C</th>\n",
       "      <th>D</th>\n",
       "      <th>E</th>\n",
       "    </tr>\n",
       "  </thead>\n",
       "  <tbody>\n",
       "    <tr>\n",
       "      <th>1</th>\n",
       "      <td>10.740426</td>\n",
       "      <td>9.157745</td>\n",
       "      <td>10.487644</td>\n",
       "      <td>11.589377</td>\n",
       "      <td>9.255537</td>\n",
       "    </tr>\n",
       "    <tr>\n",
       "      <th>2</th>\n",
       "      <td>9.459862</td>\n",
       "      <td>9.341786</td>\n",
       "      <td>8.106241</td>\n",
       "      <td>13.358561</td>\n",
       "      <td>12.621603</td>\n",
       "    </tr>\n",
       "    <tr>\n",
       "      <th>3</th>\n",
       "      <td>12.364793</td>\n",
       "      <td>10.140335</td>\n",
       "      <td>11.477546</td>\n",
       "      <td>6.841145</td>\n",
       "      <td>4.553485</td>\n",
       "    </tr>\n",
       "    <tr>\n",
       "      <th>4</th>\n",
       "      <td>11.571709</td>\n",
       "      <td>8.537226</td>\n",
       "      <td>1.862676</td>\n",
       "      <td>5.347024</td>\n",
       "      <td>15.196904</td>\n",
       "    </tr>\n",
       "    <tr>\n",
       "      <th>5</th>\n",
       "      <td>8.372450</td>\n",
       "      <td>13.952588</td>\n",
       "      <td>11.985185</td>\n",
       "      <td>11.660639</td>\n",
       "      <td>11.825546</td>\n",
       "    </tr>\n",
       "    <tr>\n",
       "      <th>6</th>\n",
       "      <td>9.955374</td>\n",
       "      <td>15.107573</td>\n",
       "      <td>9.883450</td>\n",
       "      <td>9.652605</td>\n",
       "      <td>8.253404</td>\n",
       "    </tr>\n",
       "    <tr>\n",
       "      <th>7</th>\n",
       "      <td>12.057795</td>\n",
       "      <td>13.012211</td>\n",
       "      <td>9.852833</td>\n",
       "      <td>11.041128</td>\n",
       "      <td>11.420579</td>\n",
       "    </tr>\n",
       "    <tr>\n",
       "      <th>8</th>\n",
       "      <td>13.917621</td>\n",
       "      <td>8.859357</td>\n",
       "      <td>15.646092</td>\n",
       "      <td>11.477869</td>\n",
       "      <td>6.800940</td>\n",
       "    </tr>\n",
       "    <tr>\n",
       "      <th>9</th>\n",
       "      <td>9.365153</td>\n",
       "      <td>12.930714</td>\n",
       "      <td>9.927370</td>\n",
       "      <td>4.830140</td>\n",
       "      <td>13.279641</td>\n",
       "    </tr>\n",
       "    <tr>\n",
       "      <th>10</th>\n",
       "      <td>10.002494</td>\n",
       "      <td>7.516790</td>\n",
       "      <td>10.413513</td>\n",
       "      <td>12.288879</td>\n",
       "      <td>10.060830</td>\n",
       "    </tr>\n",
       "    <tr>\n",
       "      <th>11</th>\n",
       "      <td>8.419753</td>\n",
       "      <td>11.489366</td>\n",
       "      <td>13.328911</td>\n",
       "      <td>9.299401</td>\n",
       "      <td>7.129503</td>\n",
       "    </tr>\n",
       "    <tr>\n",
       "      <th>12</th>\n",
       "      <td>8.700839</td>\n",
       "      <td>12.539269</td>\n",
       "      <td>12.483181</td>\n",
       "      <td>12.228021</td>\n",
       "      <td>12.531283</td>\n",
       "    </tr>\n",
       "    <tr>\n",
       "      <th>13</th>\n",
       "      <td>11.814768</td>\n",
       "      <td>10.563703</td>\n",
       "      <td>9.461209</td>\n",
       "      <td>13.846837</td>\n",
       "      <td>10.430971</td>\n",
       "    </tr>\n",
       "    <tr>\n",
       "      <th>14</th>\n",
       "      <td>9.537540</td>\n",
       "      <td>8.853170</td>\n",
       "      <td>5.636320</td>\n",
       "      <td>6.323964</td>\n",
       "      <td>7.214443</td>\n",
       "    </tr>\n",
       "    <tr>\n",
       "      <th>15</th>\n",
       "      <td>9.647315</td>\n",
       "      <td>3.461817</td>\n",
       "      <td>5.085732</td>\n",
       "      <td>12.023013</td>\n",
       "      <td>9.304846</td>\n",
       "    </tr>\n",
       "    <tr>\n",
       "      <th>16</th>\n",
       "      <td>12.044890</td>\n",
       "      <td>11.251456</td>\n",
       "      <td>10.679807</td>\n",
       "      <td>8.391707</td>\n",
       "      <td>10.839022</td>\n",
       "    </tr>\n",
       "    <tr>\n",
       "      <th>17</th>\n",
       "      <td>13.531457</td>\n",
       "      <td>7.497441</td>\n",
       "      <td>7.394822</td>\n",
       "      <td>10.332392</td>\n",
       "      <td>12.318626</td>\n",
       "    </tr>\n",
       "    <tr>\n",
       "      <th>18</th>\n",
       "      <td>7.430364</td>\n",
       "      <td>6.762242</td>\n",
       "      <td>6.475715</td>\n",
       "      <td>6.443759</td>\n",
       "      <td>17.744583</td>\n",
       "    </tr>\n",
       "    <tr>\n",
       "      <th>19</th>\n",
       "      <td>11.858199</td>\n",
       "      <td>13.452477</td>\n",
       "      <td>13.017571</td>\n",
       "      <td>7.347306</td>\n",
       "      <td>3.913337</td>\n",
       "    </tr>\n",
       "    <tr>\n",
       "      <th>20</th>\n",
       "      <td>4.085327</td>\n",
       "      <td>1.469234</td>\n",
       "      <td>8.780661</td>\n",
       "      <td>10.031596</td>\n",
       "      <td>9.039825</td>\n",
       "    </tr>\n",
       "  </tbody>\n",
       "</table>\n",
       "</div>"
      ],
      "text/plain": [
       "            A          B          C          D          E\n",
       "1   10.740426   9.157745  10.487644  11.589377   9.255537\n",
       "2    9.459862   9.341786   8.106241  13.358561  12.621603\n",
       "3   12.364793  10.140335  11.477546   6.841145   4.553485\n",
       "4   11.571709   8.537226   1.862676   5.347024  15.196904\n",
       "5    8.372450  13.952588  11.985185  11.660639  11.825546\n",
       "6    9.955374  15.107573   9.883450   9.652605   8.253404\n",
       "7   12.057795  13.012211   9.852833  11.041128  11.420579\n",
       "8   13.917621   8.859357  15.646092  11.477869   6.800940\n",
       "9    9.365153  12.930714   9.927370   4.830140  13.279641\n",
       "10  10.002494   7.516790  10.413513  12.288879  10.060830\n",
       "11   8.419753  11.489366  13.328911   9.299401   7.129503\n",
       "12   8.700839  12.539269  12.483181  12.228021  12.531283\n",
       "13  11.814768  10.563703   9.461209  13.846837  10.430971\n",
       "14   9.537540   8.853170   5.636320   6.323964   7.214443\n",
       "15   9.647315   3.461817   5.085732  12.023013   9.304846\n",
       "16  12.044890  11.251456  10.679807   8.391707  10.839022\n",
       "17  13.531457   7.497441   7.394822  10.332392  12.318626\n",
       "18   7.430364   6.762242   6.475715   6.443759  17.744583\n",
       "19  11.858199  13.452477  13.017571   7.347306   3.913337\n",
       "20   4.085327   1.469234   8.780661  10.031596   9.039825"
      ]
     },
     "execution_count": 5,
     "metadata": {},
     "output_type": "execute_result"
    }
   ],
   "source": [
    "pd.DataFrame(ex2,columns = list('ABCDE'), index = range(1, ex2.shape[0]+1))"
   ]
  },
  {
   "cell_type": "markdown",
   "id": "c805bff4",
   "metadata": {},
   "source": [
    "---\n",
    "## Exercise 3:\n",
    "Generate a standard normal distribution and use the Seaborn module to build a visualization of the data. The sample must contain 3000 numbers. Use the Seaborn module's distplot() function and also import."
   ]
  },
  {
   "cell_type": "code",
   "execution_count": 6,
   "id": "d2792ab4",
   "metadata": {},
   "outputs": [],
   "source": [
    "import seaborn as sns"
   ]
  },
  {
   "cell_type": "code",
   "execution_count": 7,
   "id": "686bc723",
   "metadata": {},
   "outputs": [
    {
     "data": {
      "text/plain": [
       "<seaborn.axisgrid.FacetGrid at 0x18cc7914970>"
      ]
     },
     "execution_count": 7,
     "metadata": {},
     "output_type": "execute_result"
    },
    {
     "data": {
      "image/png": "[encoded data removed]",
      "text/plain": [
       "<Figure size 360x360 with 1 Axes>"
      ]
     },
     "metadata": {
      "needs_background": "light"
     },
     "output_type": "display_data"
    }
   ],
   "source": [
    "ex3 = random.normal(size = 3000)\n",
    "sns.displot(ex3)"
   ]
  },
  {
   "cell_type": "markdown",
   "id": "6a4755b0",
   "metadata": {},
   "source": [
    "---\n",
    "## Exercise 4:\n",
    "The binomial distribution is a discrete probability distribution and describes binary results, such as success and failure or heads and tails, for example. We can create random data for this distribution with the function np.random.binomial().\n",
    "\n",
    "    n: number of attempts;\n",
    "\n",
    "    p: probability of occurrence of each attempt;\n",
    "\n",
    "    size: size of the returned vector (shape).\n",
    "\n",
    "Based on this information:\n",
    "\n",
    "    Generate random numbers following a binomial distribution, with 6 attempts, where the probability of each attempt is 0.5, and size 100. Store the data in a variable, 'data1'.\n",
    "\n",
    "    Generate random numbers following a binomial distribution, with 2 attempts, where the probability of occurrence of each attempt is 0.8, and size 1000. Store the data in a variable, 'data2'."
   ]
  },
  {
   "cell_type": "code",
   "execution_count": 8,
   "id": "0e2b2726",
   "metadata": {},
   "outputs": [
    {
     "data": {
      "text/plain": [
       "array([1, 3, 3, 3, 3, 3, 2, 4, 3, 3, 2, 3, 3, 3, 2, 3, 2, 1, 2, 4, 1, 4,\n",
       "       2, 3, 1, 0, 2, 3, 4, 3, 5, 4, 2, 3, 3, 4, 2, 2, 0, 1, 2, 5, 4, 3,\n",
       "       3, 4, 2, 3, 4, 2, 1, 2, 3, 3, 4, 3, 1, 2, 4, 4, 2, 4, 4, 4, 5, 2,\n",
       "       4, 2, 4, 2, 2, 3, 5, 2, 4, 4, 4, 4, 4, 4, 4, 3, 3, 3, 4, 1, 2, 3,\n",
       "       3, 4, 2, 3, 4, 2, 2, 3, 3, 4, 5, 3])"
      ]
     },
     "execution_count": 8,
     "metadata": {},
     "output_type": "execute_result"
    }
   ],
   "source": [
    "ex4A = random.binomial(n = 6, p = 0.5, size = 100)\n",
    "ex4A"
   ]
  },
  {
   "cell_type": "code",
   "execution_count": 9,
   "id": "bd4009da",
   "metadata": {
    "scrolled": true
   },
   "outputs": [
    {
     "data": {
      "text/plain": [
       "array([2, 1, 2, 1, 1, 2, 2, 2, 2, 2, 1, 2, 2, 1, 2, 1, 2, 2, 2, 1, 2, 2,\n",
       "       2, 1, 1, 2, 2, 2, 1, 2, 1, 2, 1, 1, 2, 2, 2, 2, 1, 1, 2, 2, 2, 2,\n",
       "       2, 2, 0, 2, 2, 1, 2, 0, 2, 2, 1, 2, 2, 2, 1, 2, 2, 2, 2, 0, 2, 2,\n",
       "       0, 1, 2, 2, 2, 2, 2, 2, 2, 1, 2, 1, 2, 1, 0, 2, 1, 1, 2, 2, 1, 1,\n",
       "       1, 1, 2, 1, 1, 2, 2, 2, 1, 2, 2, 1, 0, 2, 2, 1, 1, 2, 1, 2, 2, 0,\n",
       "       1, 1, 2, 2, 2, 2, 2, 2, 2, 2, 2, 2, 2, 2, 1, 2, 1, 1, 2, 2, 0, 2,\n",
       "       1, 1, 2, 2, 1, 2, 2, 2, 2, 2, 2, 2, 2, 1, 2, 1, 2, 2, 2, 2, 2, 2,\n",
       "       2, 2, 2, 2, 1, 2, 1, 2, 2, 2, 2, 2, 2, 2, 1, 2, 1, 2, 2, 2, 2, 1,\n",
       "       1, 1, 2, 2, 2, 2, 1, 1, 2, 1, 2, 2, 0, 1, 2, 2, 2, 2, 1, 1, 2, 1,\n",
       "       2, 1, 2, 1, 2, 2, 2, 1, 2, 2, 2, 2, 1, 2, 2, 2, 1, 1, 2, 2, 2, 2,\n",
       "       2, 2, 2, 2, 2, 2, 2, 1, 1, 2, 2, 2, 2, 1, 2, 1, 1, 2, 1, 2, 1, 2,\n",
       "       1, 1, 2, 2, 2, 2, 2, 1, 2, 2, 1, 2, 2, 1, 1, 2, 2, 2, 2, 2, 2, 2,\n",
       "       2, 2, 1, 1, 2, 2, 1, 1, 0, 2, 1, 1, 2, 2, 0, 1, 1, 1, 2, 1, 2, 2,\n",
       "       2, 2, 2, 2, 2, 2, 2, 2, 2, 2, 1, 1, 1, 1, 2, 2, 1, 1, 2, 2, 1, 2,\n",
       "       1, 2, 2, 1, 1, 1, 2, 1, 2, 2, 0, 2, 2, 2, 2, 2, 2, 1, 2, 2, 1, 1,\n",
       "       1, 1, 2, 1, 2, 2, 1, 2, 2, 2, 1, 2, 2, 2, 2, 1, 0, 1, 1, 2, 1, 2,\n",
       "       2, 2, 2, 2, 2, 2, 2, 2, 1, 2, 2, 2, 1, 2, 0, 0, 2, 2, 2, 2, 2, 2,\n",
       "       2, 1, 1, 1, 2, 2, 2, 1, 2, 0, 1, 1, 1, 1, 2, 0, 2, 2, 2, 2, 2, 2,\n",
       "       2, 2, 1, 2, 2, 2, 2, 2, 2, 1, 2, 1, 1, 2, 1, 1, 1, 2, 2, 2, 2, 2,\n",
       "       2, 2, 2, 1, 2, 2, 2, 2, 2, 2, 2, 1, 2, 2, 2, 1, 2, 2, 2, 1, 2, 1,\n",
       "       2, 1, 2, 2, 2, 1, 1, 1, 2, 1, 2, 2, 2, 2, 2, 1, 1, 2, 1, 2, 1, 2,\n",
       "       2, 2, 2, 2, 1, 1, 2, 1, 2, 2, 2, 0, 2, 2, 2, 2, 1, 2, 1, 2, 1, 0,\n",
       "       2, 2, 0, 2, 2, 2, 2, 2, 2, 2, 2, 1, 1, 2, 1, 2, 1, 2, 2, 2, 2, 2,\n",
       "       2, 2, 1, 1, 1, 1, 2, 2, 1, 2, 2, 1, 2, 2, 2, 2, 2, 2, 2, 2, 1, 2,\n",
       "       2, 2, 1, 2, 1, 2, 1, 2, 2, 2, 2, 2, 2, 2, 2, 2, 2, 2, 1, 1, 2, 1,\n",
       "       2, 2, 2, 2, 2, 2, 2, 2, 2, 1, 2, 1, 1, 2, 2, 2, 1, 0, 1, 2, 2, 2,\n",
       "       2, 2, 1, 1, 1, 2, 1, 1, 1, 1, 1, 2, 2, 2, 1, 1, 1, 2, 2, 1, 2, 1,\n",
       "       2, 2, 2, 1, 1, 2, 2, 2, 1, 2, 1, 1, 1, 2, 2, 2, 2, 1, 2, 2, 2, 1,\n",
       "       0, 2, 0, 1, 0, 2, 2, 2, 1, 2, 2, 1, 2, 2, 2, 2, 2, 2, 2, 0, 1, 1,\n",
       "       2, 2, 2, 2, 0, 2, 2, 2, 2, 2, 1, 2, 2, 2, 2, 1, 2, 2, 1, 1, 2, 2,\n",
       "       1, 1, 2, 1, 1, 2, 2, 1, 1, 2, 1, 1, 2, 1, 1, 2, 2, 1, 1, 2, 1, 2,\n",
       "       2, 2, 2, 0, 2, 2, 1, 1, 2, 1, 1, 2, 2, 2, 2, 2, 1, 2, 2, 2, 2, 2,\n",
       "       2, 2, 1, 1, 2, 2, 2, 2, 1, 2, 2, 1, 2, 1, 2, 2, 1, 2, 2, 1, 1, 1,\n",
       "       2, 2, 2, 2, 1, 1, 2, 2, 1, 1, 1, 1, 2, 2, 2, 2, 2, 1, 2, 2, 2, 1,\n",
       "       2, 1, 2, 2, 1, 2, 2, 1, 1, 2, 1, 1, 2, 1, 2, 2, 2, 2, 2, 2, 1, 2,\n",
       "       1, 2, 1, 2, 1, 2, 2, 2, 2, 2, 2, 2, 2, 2, 2, 2, 1, 2, 2, 2, 1, 2,\n",
       "       1, 2, 1, 2, 1, 1, 2, 2, 2, 2, 2, 2, 2, 1, 2, 2, 2, 2, 2, 2, 2, 2,\n",
       "       2, 1, 1, 1, 1, 0, 2, 2, 1, 2, 1, 2, 2, 2, 2, 1, 1, 2, 2, 2, 1, 2,\n",
       "       2, 1, 2, 2, 2, 2, 2, 1, 2, 1, 1, 1, 2, 1, 1, 2, 2, 1, 2, 2, 1, 2,\n",
       "       2, 2, 0, 2, 2, 2, 2, 2, 1, 2, 2, 2, 2, 1, 2, 1, 1, 2, 2, 1, 1, 2,\n",
       "       2, 2, 2, 2, 1, 2, 1, 1, 1, 2, 2, 0, 1, 2, 2, 1, 1, 2, 1, 2, 2, 0,\n",
       "       1, 2, 1, 2, 2, 2, 2, 2, 1, 2, 1, 2, 2, 2, 2, 2, 2, 0, 1, 2, 2, 1,\n",
       "       1, 1, 2, 2, 2, 2, 2, 2, 2, 2, 1, 2, 2, 2, 0, 1, 1, 1, 1, 0, 0, 2,\n",
       "       2, 2, 2, 2, 2, 2, 1, 1, 2, 0, 1, 2, 2, 2, 0, 2, 2, 1, 2, 2, 2, 2,\n",
       "       2, 1, 2, 1, 2, 1, 2, 2, 2, 2, 2, 2, 2, 2, 2, 2, 2, 2, 1, 2, 2, 1,\n",
       "       2, 2, 2, 2, 2, 1, 2, 1, 2, 2])"
      ]
     },
     "execution_count": 9,
     "metadata": {},
     "output_type": "execute_result"
    }
   ],
   "source": [
    "ex4B = random.binomial(n = 2, p = 0.8, size = 1000)\n",
    "ex4B"
   ]
  },
  {
   "cell_type": "markdown",
   "id": "d27da50b",
   "metadata": {},
   "source": [
    "---\n",
    "## Exercise 5:\n",
    "Use the Seaborn module to visualize the distribution of random numbers from a binomial distribution, with 6 trials, probability 0.5 and size 3000."
   ]
  },
  {
   "cell_type": "code",
   "execution_count": 10,
   "id": "93fd0649",
   "metadata": {},
   "outputs": [
    {
     "data": {
      "text/plain": [
       "<seaborn.axisgrid.FacetGrid at 0x18cc79142b0>"
      ]
     },
     "execution_count": 10,
     "metadata": {},
     "output_type": "execute_result"
    },
    {
     "data": {
      "image/png": "[encoded data removed]",
      "text/plain": [
       "<Figure size 360x360 with 1 Axes>"
      ]
     },
     "metadata": {
      "needs_background": "light"
     },
     "output_type": "display_data"
    }
   ],
   "source": [
    "ex5 = random.binomial(n = 6, p = 0.5, size = 3000)\n",
    "sns.displot(ex5)"
   ]
  },
  {
   "cell_type": "markdown",
   "id": "2e9c8524",
   "metadata": {},
   "source": [
    "---\n",
    "## Exericse 6:\n",
    "The uniform distribution is a continuous distribution of probability, with important applications in statistics. Generate a sample of the uniform 3 x 3 shape distribution.\n",
    "Tip: np.random.uniform()."
   ]
  },
  {
   "cell_type": "code",
   "execution_count": 11,
   "id": "aabdb057",
   "metadata": {},
   "outputs": [
    {
     "data": {
      "text/plain": [
       "array([[0.92389178, 0.32089197, 0.70945676],\n",
       "       [0.1857427 , 0.985552  , 0.17516693],\n",
       "       [0.67250495, 0.44537468, 0.77404975]])"
      ]
     },
     "execution_count": 11,
     "metadata": {},
     "output_type": "execute_result"
    }
   ],
   "source": [
    "ex6 = random.uniform(size = (3,3))\n",
    "ex6"
   ]
  },
  {
   "cell_type": "markdown",
   "id": "88f70912",
   "metadata": {},
   "source": [
    "---\n",
    "## Exercise 7:\n",
    "Use the Seaborn module to visualize the distribution of random numbers from a uniform distribution, size 1000."
   ]
  },
  {
   "cell_type": "code",
   "execution_count": 12,
   "id": "8e23b40a",
   "metadata": {},
   "outputs": [
    {
     "data": {
      "text/plain": [
       "<seaborn.axisgrid.FacetGrid at 0x18cca755910>"
      ]
     },
     "execution_count": 12,
     "metadata": {},
     "output_type": "execute_result"
    },
    {
     "data": {
      "image/png": "[encoded data removed]",
      "text/plain": [
       "<Figure size 360x360 with 1 Axes>"
      ]
     },
     "metadata": {
      "needs_background": "light"
     },
     "output_type": "display_data"
    }
   ],
   "source": [
    "ex7 = random.uniform(size = 1000)\n",
    "sns.displot(ex7)"
   ]
  },
  {
   "cell_type": "markdown",
   "id": "bd579a40",
   "metadata": {},
   "source": [
    "---\n",
    "## Exercise 8:\n",
    "Generate an array with random numbers between -1000 and 3000, of shape (30, 5).\n",
    "Tip: np.random.randint()."
   ]
  },
  {
   "cell_type": "code",
   "execution_count": 13,
   "id": "ab5f7f89",
   "metadata": {
    "scrolled": true
   },
   "outputs": [
    {
     "data": {
      "text/plain": [
       "array([[1201, 1893, 2104,  825, 2239],\n",
       "       [-103,  818, -309,  344, -423],\n",
       "       [ 273, 1068, 1571, 1948, -217],\n",
       "       [ 642,  179, 1086, -697, 2428],\n",
       "       [2003, -629, -469, 1431, -275],\n",
       "       [-143, 1858,  -64, 2488,  994],\n",
       "       [1272,  110, 2811, 1526, -609],\n",
       "       [1741,  862,  790, 2966, -460],\n",
       "       [2939,  749, 1644, -376, 2651],\n",
       "       [ 631,  880,  -91, 2112,  -86],\n",
       "       [ 570, 2235, 2185,  314, 1117],\n",
       "       [1817, 1892,  824, 1721,  132],\n",
       "       [2427, 2238,  621, -528, 2250],\n",
       "       [ 331, -905, 1322, -903,  795],\n",
       "       [-605, 2345, -497, 2339, 2219],\n",
       "       [2977, 2954, 2350, 1534,  977],\n",
       "       [-742, 2765, -195, -652, 2100],\n",
       "       [ 556,  262, 2776, 1138, 2154],\n",
       "       [1583, 2677, 2163,  469, 2313],\n",
       "       [-137, -629, 1185, 1393, 1166],\n",
       "       [ -31, 1161, -145, -294, 2211],\n",
       "       [2925, 2923,  619, 2748, -893],\n",
       "       [ 936, 2346, 2137,  -23, -192],\n",
       "       [ 865, 1296,  -52, 2807, -371],\n",
       "       [-783, 1467, 1260, 1127, 1680],\n",
       "       [1297,  191,  636, 1373,   -7],\n",
       "       [1329, 1281, 1880, 2386,  211],\n",
       "       [2554,  328, 2651, 1051, 2055],\n",
       "       [1667, 1729,  345, 2977, -981],\n",
       "       [1198,  825, 2666, 2814, -143]])"
      ]
     },
     "execution_count": 13,
     "metadata": {},
     "output_type": "execute_result"
    }
   ],
   "source": [
    "ex8 = random.randint(-1000,3000,(30,5))\n",
    "ex8"
   ]
  },
  {
   "cell_type": "markdown",
   "id": "88b7eedb",
   "metadata": {},
   "source": [
    "---\n",
    "## Exercise 9:\n",
    "Generate a 30 x 5 shape array with numbers between 0 and 4.\n",
    "Tip: np.random.randint()."
   ]
  },
  {
   "cell_type": "code",
   "execution_count": 14,
   "id": "e883e6c4",
   "metadata": {
    "scrolled": true
   },
   "outputs": [
    {
     "data": {
      "text/plain": [
       "array([[2, 1, 3, 0, 0],\n",
       "       [3, 0, 3, 2, 1],\n",
       "       [1, 0, 2, 3, 1],\n",
       "       [1, 2, 0, 2, 3],\n",
       "       [0, 1, 0, 2, 3],\n",
       "       [1, 1, 0, 0, 1],\n",
       "       [0, 3, 2, 1, 1],\n",
       "       [1, 3, 3, 1, 2],\n",
       "       [3, 1, 1, 1, 3],\n",
       "       [0, 2, 0, 3, 0],\n",
       "       [3, 3, 0, 0, 1],\n",
       "       [3, 3, 3, 0, 1],\n",
       "       [3, 1, 1, 2, 1],\n",
       "       [1, 2, 0, 1, 1],\n",
       "       [3, 1, 1, 0, 1],\n",
       "       [1, 2, 2, 3, 3],\n",
       "       [1, 2, 3, 2, 0],\n",
       "       [0, 3, 2, 1, 0],\n",
       "       [3, 1, 3, 2, 1],\n",
       "       [0, 0, 3, 2, 0],\n",
       "       [2, 3, 2, 2, 0],\n",
       "       [0, 3, 0, 1, 2],\n",
       "       [3, 2, 3, 2, 3],\n",
       "       [2, 3, 1, 3, 0],\n",
       "       [3, 2, 1, 1, 1],\n",
       "       [2, 3, 0, 0, 1],\n",
       "       [3, 0, 3, 0, 2],\n",
       "       [1, 3, 1, 2, 0],\n",
       "       [0, 1, 2, 3, 2],\n",
       "       [2, 1, 0, 2, 1]])"
      ]
     },
     "execution_count": 14,
     "metadata": {},
     "output_type": "execute_result"
    }
   ],
   "source": [
    "ex8 = random.randint(0,4,(30,5))\n",
    "ex8"
   ]
  },
  {
   "cell_type": "markdown",
   "id": "3e6a1d72",
   "metadata": {},
   "source": [
    "---\n",
    "## Exercise 10:\n",
    "Generate an array of integer number with different upper limits (100, 300, 50, 10000), but with a minimum value of 10.\n",
    "Tip: np.random.randint()."
   ]
  },
  {
   "cell_type": "code",
   "execution_count": 15,
   "id": "753370cc",
   "metadata": {},
   "outputs": [
    {
     "data": {
      "text/plain": [
       "array([  69,  183,   30, 9554])"
      ]
     },
     "execution_count": 15,
     "metadata": {},
     "output_type": "execute_result"
    }
   ],
   "source": [
    "ex10 = random.randint(low = 10, high = [100,300,50,10000])\n",
    "ex10"
   ]
  },
  {
   "cell_type": "markdown",
   "id": "2898fc83",
   "metadata": {},
   "source": [
    "---\n",
    "## Exercise 11:\n",
    "Use the np.random.rand() function to generate a 10 x 5 array. Remember that this function generates random numbers according to a uniform distribution in the range [0.1). Then, show the average, standard deviation and median of the generated array."
   ]
  },
  {
   "cell_type": "code",
   "execution_count": 19,
   "id": "1e90dafa",
   "metadata": {},
   "outputs": [],
   "source": [
    "import numpy as np"
   ]
  },
  {
   "cell_type": "code",
   "execution_count": 17,
   "id": "af26ac5e",
   "metadata": {},
   "outputs": [
    {
     "data": {
      "text/plain": [
       "array([[0.84666772, 0.64581751, 0.21994673, 0.77234335, 0.77091291],\n",
       "       [0.65164345, 0.33609174, 0.269112  , 0.52589009, 0.61436574],\n",
       "       [0.20953403, 0.15343017, 0.23022831, 0.88222681, 0.69255366],\n",
       "       [0.27430968, 0.01532634, 0.91221723, 0.39739731, 0.63939723],\n",
       "       [0.79271561, 0.98936659, 0.82847941, 0.07073033, 0.86094001],\n",
       "       [0.01390165, 0.69995184, 0.35166894, 0.62567123, 0.1451232 ],\n",
       "       [0.88646963, 0.00805743, 0.20157567, 0.03820301, 0.26051501],\n",
       "       [0.00321867, 0.97519656, 0.85495796, 0.33978509, 0.9535178 ],\n",
       "       [0.59345625, 0.72204469, 0.49508415, 0.1774609 , 0.75131829],\n",
       "       [0.9132268 , 0.67970452, 0.95735425, 0.40588148, 0.39365576]])"
      ]
     },
     "execution_count": 17,
     "metadata": {},
     "output_type": "execute_result"
    }
   ],
   "source": [
    "ex11 = random.rand(10,5)\n",
    "ex11"
   ]
  },
  {
   "cell_type": "code",
   "execution_count": 20,
   "id": "8c9529bb",
   "metadata": {},
   "outputs": [
    {
     "name": "stdout",
     "output_type": "stream",
     "text": [
      "Mean : 0.5209728947993714\n",
      "Median : 0.6039109961708875\n",
      "Standart Deviation : 0.3109585794959807\n"
     ]
    }
   ],
   "source": [
    "print(f\"Mean : {ex11.mean()}\")\n",
    "print(f\"Median : {np.median(ex11)}\")\n",
    "print(f\"Standart Deviation : {ex11.std()}\")\n"
   ]
  },
  {
   "cell_type": "markdown",
   "id": "d8c102b0",
   "metadata": {},
   "source": [
    "---\n",
    "## Exercise 12:\n",
    "Use the np.random.randn() function to generate an array with random numbers from a normal standard distribution, with the shape 30 x 3. Next, create a DataFrame with the data created and generate a visualization of the probability distribution of each column with the Seaborn module."
   ]
  },
  {
   "cell_type": "code",
   "execution_count": 25,
   "id": "b8a3eeee",
   "metadata": {
    "scrolled": true
   },
   "outputs": [
    {
     "data": {
      "text/html": [
       "<div>\n",
       "<style scoped>\n",
       "    .dataframe tbody tr th:only-of-type {\n",
       "        vertical-align: middle;\n",
       "    }\n",
       "\n",
       "    .dataframe tbody tr th {\n",
       "        vertical-align: top;\n",
       "    }\n",
       "\n",
       "    .dataframe thead th {\n",
       "        text-align: right;\n",
       "    }\n",
       "</style>\n",
       "<table border=\"1\" class=\"dataframe\">\n",
       "  <thead>\n",
       "    <tr style=\"text-align: right;\">\n",
       "      <th></th>\n",
       "      <th>A</th>\n",
       "      <th>B</th>\n",
       "      <th>C</th>\n",
       "    </tr>\n",
       "  </thead>\n",
       "  <tbody>\n",
       "    <tr>\n",
       "      <th>0</th>\n",
       "      <td>0.087370</td>\n",
       "      <td>-0.126456</td>\n",
       "      <td>2.817581</td>\n",
       "    </tr>\n",
       "    <tr>\n",
       "      <th>1</th>\n",
       "      <td>-1.265862</td>\n",
       "      <td>1.846807</td>\n",
       "      <td>0.092854</td>\n",
       "    </tr>\n",
       "    <tr>\n",
       "      <th>2</th>\n",
       "      <td>1.463401</td>\n",
       "      <td>-1.257146</td>\n",
       "      <td>-1.013111</td>\n",
       "    </tr>\n",
       "    <tr>\n",
       "      <th>3</th>\n",
       "      <td>0.067724</td>\n",
       "      <td>-1.853804</td>\n",
       "      <td>0.742637</td>\n",
       "    </tr>\n",
       "    <tr>\n",
       "      <th>4</th>\n",
       "      <td>0.402640</td>\n",
       "      <td>1.213343</td>\n",
       "      <td>0.305596</td>\n",
       "    </tr>\n",
       "    <tr>\n",
       "      <th>5</th>\n",
       "      <td>-0.304255</td>\n",
       "      <td>-1.412019</td>\n",
       "      <td>-0.005166</td>\n",
       "    </tr>\n",
       "    <tr>\n",
       "      <th>6</th>\n",
       "      <td>-0.516977</td>\n",
       "      <td>-1.946221</td>\n",
       "      <td>-0.448505</td>\n",
       "    </tr>\n",
       "    <tr>\n",
       "      <th>7</th>\n",
       "      <td>0.848325</td>\n",
       "      <td>0.809766</td>\n",
       "      <td>0.966004</td>\n",
       "    </tr>\n",
       "    <tr>\n",
       "      <th>8</th>\n",
       "      <td>-1.750747</td>\n",
       "      <td>-0.583456</td>\n",
       "      <td>0.383495</td>\n",
       "    </tr>\n",
       "    <tr>\n",
       "      <th>9</th>\n",
       "      <td>1.277544</td>\n",
       "      <td>2.153571</td>\n",
       "      <td>-1.356623</td>\n",
       "    </tr>\n",
       "    <tr>\n",
       "      <th>10</th>\n",
       "      <td>1.042488</td>\n",
       "      <td>0.521923</td>\n",
       "      <td>-0.358601</td>\n",
       "    </tr>\n",
       "    <tr>\n",
       "      <th>11</th>\n",
       "      <td>-0.219617</td>\n",
       "      <td>-0.644595</td>\n",
       "      <td>0.155647</td>\n",
       "    </tr>\n",
       "    <tr>\n",
       "      <th>12</th>\n",
       "      <td>-0.276628</td>\n",
       "      <td>0.523215</td>\n",
       "      <td>1.168573</td>\n",
       "    </tr>\n",
       "    <tr>\n",
       "      <th>13</th>\n",
       "      <td>-0.631916</td>\n",
       "      <td>0.431570</td>\n",
       "      <td>2.217635</td>\n",
       "    </tr>\n",
       "    <tr>\n",
       "      <th>14</th>\n",
       "      <td>-2.068408</td>\n",
       "      <td>0.414964</td>\n",
       "      <td>0.191824</td>\n",
       "    </tr>\n",
       "    <tr>\n",
       "      <th>15</th>\n",
       "      <td>-0.020261</td>\n",
       "      <td>0.313900</td>\n",
       "      <td>0.256778</td>\n",
       "    </tr>\n",
       "    <tr>\n",
       "      <th>16</th>\n",
       "      <td>-1.352886</td>\n",
       "      <td>0.409209</td>\n",
       "      <td>-0.514711</td>\n",
       "    </tr>\n",
       "    <tr>\n",
       "      <th>17</th>\n",
       "      <td>1.250333</td>\n",
       "      <td>-0.722055</td>\n",
       "      <td>0.054874</td>\n",
       "    </tr>\n",
       "    <tr>\n",
       "      <th>18</th>\n",
       "      <td>1.559525</td>\n",
       "      <td>0.169244</td>\n",
       "      <td>0.543193</td>\n",
       "    </tr>\n",
       "    <tr>\n",
       "      <th>19</th>\n",
       "      <td>0.320255</td>\n",
       "      <td>1.558027</td>\n",
       "      <td>1.004369</td>\n",
       "    </tr>\n",
       "    <tr>\n",
       "      <th>20</th>\n",
       "      <td>-2.521258</td>\n",
       "      <td>0.027068</td>\n",
       "      <td>-1.760147</td>\n",
       "    </tr>\n",
       "    <tr>\n",
       "      <th>21</th>\n",
       "      <td>1.330064</td>\n",
       "      <td>0.149011</td>\n",
       "      <td>-0.520378</td>\n",
       "    </tr>\n",
       "    <tr>\n",
       "      <th>22</th>\n",
       "      <td>0.224332</td>\n",
       "      <td>0.464374</td>\n",
       "      <td>-0.530207</td>\n",
       "    </tr>\n",
       "    <tr>\n",
       "      <th>23</th>\n",
       "      <td>1.004059</td>\n",
       "      <td>-0.550333</td>\n",
       "      <td>0.071562</td>\n",
       "    </tr>\n",
       "    <tr>\n",
       "      <th>24</th>\n",
       "      <td>-0.982197</td>\n",
       "      <td>-0.436060</td>\n",
       "      <td>-0.780294</td>\n",
       "    </tr>\n",
       "    <tr>\n",
       "      <th>25</th>\n",
       "      <td>0.209129</td>\n",
       "      <td>0.076291</td>\n",
       "      <td>0.630814</td>\n",
       "    </tr>\n",
       "    <tr>\n",
       "      <th>26</th>\n",
       "      <td>0.625866</td>\n",
       "      <td>-0.121458</td>\n",
       "      <td>0.158018</td>\n",
       "    </tr>\n",
       "    <tr>\n",
       "      <th>27</th>\n",
       "      <td>0.825026</td>\n",
       "      <td>1.003123</td>\n",
       "      <td>-0.080095</td>\n",
       "    </tr>\n",
       "    <tr>\n",
       "      <th>28</th>\n",
       "      <td>-0.149819</td>\n",
       "      <td>0.679002</td>\n",
       "      <td>1.397085</td>\n",
       "    </tr>\n",
       "    <tr>\n",
       "      <th>29</th>\n",
       "      <td>-0.553765</td>\n",
       "      <td>0.014582</td>\n",
       "      <td>1.643152</td>\n",
       "    </tr>\n",
       "  </tbody>\n",
       "</table>\n",
       "</div>"
      ],
      "text/plain": [
       "           A         B         C\n",
       "0   0.087370 -0.126456  2.817581\n",
       "1  -1.265862  1.846807  0.092854\n",
       "2   1.463401 -1.257146 -1.013111\n",
       "3   0.067724 -1.853804  0.742637\n",
       "4   0.402640  1.213343  0.305596\n",
       "5  -0.304255 -1.412019 -0.005166\n",
       "6  -0.516977 -1.946221 -0.448505\n",
       "7   0.848325  0.809766  0.966004\n",
       "8  -1.750747 -0.583456  0.383495\n",
       "9   1.277544  2.153571 -1.356623\n",
       "10  1.042488  0.521923 -0.358601\n",
       "11 -0.219617 -0.644595  0.155647\n",
       "12 -0.276628  0.523215  1.168573\n",
       "13 -0.631916  0.431570  2.217635\n",
       "14 -2.068408  0.414964  0.191824\n",
       "15 -0.020261  0.313900  0.256778\n",
       "16 -1.352886  0.409209 -0.514711\n",
       "17  1.250333 -0.722055  0.054874\n",
       "18  1.559525  0.169244  0.543193\n",
       "19  0.320255  1.558027  1.004369\n",
       "20 -2.521258  0.027068 -1.760147\n",
       "21  1.330064  0.149011 -0.520378\n",
       "22  0.224332  0.464374 -0.530207\n",
       "23  1.004059 -0.550333  0.071562\n",
       "24 -0.982197 -0.436060 -0.780294\n",
       "25  0.209129  0.076291  0.630814\n",
       "26  0.625866 -0.121458  0.158018\n",
       "27  0.825026  1.003123 -0.080095\n",
       "28 -0.149819  0.679002  1.397085\n",
       "29 -0.553765  0.014582  1.643152"
      ]
     },
     "execution_count": 25,
     "metadata": {},
     "output_type": "execute_result"
    }
   ],
   "source": [
    "ex11 = pd.DataFrame(random.randn(30,3),columns = list('ABC'))\n",
    "ex11"
   ]
  },
  {
   "cell_type": "code",
   "execution_count": 26,
   "id": "e9e03af5",
   "metadata": {},
   "outputs": [
    {
     "data": {
      "text/plain": [
       "<seaborn.axisgrid.FacetGrid at 0x18ccbbdc7f0>"
      ]
     },
     "execution_count": 26,
     "metadata": {},
     "output_type": "execute_result"
    },
    {
     "data": {
      "image/png": "[encoded data removed]",
      "text/plain": [
       "<Figure size 402.875x360 with 1 Axes>"
      ]
     },
     "metadata": {
      "needs_background": "light"
     },
     "output_type": "display_data"
    }
   ],
   "source": [
    "sns.displot(ex11)"
   ]
  },
  {
   "cell_type": "markdown",
   "id": "3e38c377",
   "metadata": {},
   "source": [
    "---\n",
    "## Exercise 13:\n",
    "Generate an array with 800 random numbers according to a standard exponential distribution. Use the np.random.standard_exponential() function."
   ]
  },
  {
   "cell_type": "code",
   "execution_count": 27,
   "id": "9aac3a94",
   "metadata": {},
   "outputs": [
    {
     "data": {
      "text/plain": [
       "array([6.28417858e-01, 1.19133694e+00, 2.14234187e+00, 1.44314739e+00,\n",
       "       7.28330910e-01, 1.83299868e+00, 1.74579650e+00, 1.30615750e-01,\n",
       "       9.35471694e-01, 5.24662624e-01, 2.50711506e+00, 5.65412237e-01,\n",
       "       2.24309543e+00, 2.62852640e+00, 9.42401140e-01, 1.32972638e-01,\n",
       "       1.07021557e+00, 1.15771910e+00, 8.80113189e-01, 3.21148259e-01,\n",
       "       1.22120077e+00, 1.18805438e+00, 2.48405020e+00, 2.13357581e+00,\n",
       "       9.51226413e-01, 1.91432297e+00, 3.97949460e-01, 9.30520528e-01,\n",
       "       7.04196387e-01, 5.71016863e-02, 7.35361306e-01, 8.13189223e-01,\n",
       "       1.73199139e-01, 1.86592596e+00, 1.21425608e+00, 9.21657582e-01,\n",
       "       9.92924377e-01, 2.54759434e+00, 1.59765336e+00, 9.54181688e-01,\n",
       "       2.87047221e-01, 2.34936850e-01, 2.28010632e+00, 1.50598814e-01,\n",
       "       1.24248409e+00, 3.69535520e-01, 2.71153972e+00, 6.60909422e-01,\n",
       "       1.59313278e+00, 1.23769213e-02, 7.91524011e-01, 6.97021646e-01,\n",
       "       4.92290288e-01, 1.51948342e+00, 6.33390718e-01, 5.51057908e-01,\n",
       "       5.37402488e-01, 3.39542335e+00, 1.63665267e+00, 3.31234010e+00,\n",
       "       1.33578484e+00, 2.62110316e+00, 1.23594073e+00, 1.18446269e+00,\n",
       "       2.18611817e+00, 1.11877732e+00, 2.50993453e-01, 1.17770105e+00,\n",
       "       1.97090934e+00, 4.27618155e-01, 1.29785815e+00, 3.58765741e-01,\n",
       "       4.35561284e+00, 8.60311790e-01, 2.18523912e-01, 5.84350470e-02,\n",
       "       8.69518921e-01, 6.92739654e-01, 4.47507977e-01, 9.08473251e-01,\n",
       "       1.13591975e+00, 1.39090323e+00, 4.50324403e-01, 9.38198246e-01,\n",
       "       1.04466051e+00, 5.89350491e-01, 4.13280999e-01, 2.34820090e-01,\n",
       "       3.49056583e+00, 3.21106142e+00, 1.56072290e-01, 1.69304456e-01,\n",
       "       6.44437497e-01, 3.33514848e-01, 1.47710796e+00, 2.94756189e+00,\n",
       "       9.00649884e-01, 6.35215129e-02, 6.03932459e-01, 1.59959342e+00,\n",
       "       1.91489869e+00, 1.28689427e+00, 2.64523165e-01, 1.52667111e+00,\n",
       "       1.10865048e-01, 4.27908495e-01, 5.02552145e-01, 1.35280775e+00,\n",
       "       1.73229361e+00, 4.86587338e+00, 3.60034048e-01, 3.81399149e-01,\n",
       "       7.24365115e-03, 6.36514225e-01, 1.36773788e+00, 1.27742544e-02,\n",
       "       9.51050270e-01, 6.88782243e-01, 6.05103308e-01, 1.69592605e-01,\n",
       "       7.48778448e-01, 3.30104706e-01, 6.17138749e-01, 2.07901376e-02,\n",
       "       4.41929743e-02, 1.45912410e+00, 1.67222154e-01, 2.85395328e+00,\n",
       "       3.62276400e-01, 2.32958794e+00, 2.91910025e-01, 1.63753747e+00,\n",
       "       4.18257268e-02, 1.14319362e+00, 1.76892163e-01, 2.84375578e+00,\n",
       "       5.73275198e-01, 5.66158153e-01, 4.28051113e-01, 1.44916561e+00,\n",
       "       4.80220150e-01, 7.50915013e-01, 6.85931604e-01, 1.08210797e-01,\n",
       "       5.21056923e-02, 3.58124075e+00, 9.42890726e-01, 8.07708587e-01,\n",
       "       8.63308297e-01, 9.25456096e-01, 7.26215768e-01, 6.84136952e-01,\n",
       "       1.95652378e-01, 1.80764107e+00, 4.43014082e-01, 4.21118162e-01,\n",
       "       1.16892508e+00, 1.11335483e-01, 5.53532840e-01, 3.41889492e+00,\n",
       "       6.44307150e-01, 9.56308347e-01, 2.81949712e-02, 2.44734773e+00,\n",
       "       1.36430378e+00, 2.18351253e+00, 1.73026758e+00, 2.10402009e-02,\n",
       "       9.02694712e-01, 1.23342999e-01, 7.85528245e-02, 1.37996821e+00,\n",
       "       1.19623965e+00, 1.51503528e-01, 6.35238289e+00, 2.48538830e-01,\n",
       "       1.25228106e+00, 5.71078409e-02, 6.21802376e-01, 1.46040855e+00,\n",
       "       2.08177697e+00, 1.63056648e+00, 5.36193350e-02, 1.06735505e+00,\n",
       "       1.63657182e-01, 1.86992340e+00, 2.25417127e+00, 6.13051011e-01,\n",
       "       4.91472189e-01, 5.23873786e-01, 2.02472734e+00, 1.99310061e+00,\n",
       "       5.73931027e-01, 1.57035208e-01, 4.26712167e-02, 9.76935666e-01,\n",
       "       2.52286173e-01, 2.48775374e-01, 2.91816853e-02, 4.49115049e+00,\n",
       "       1.10947774e+00, 1.16191519e+00, 7.43456313e-02, 2.44602155e-01,\n",
       "       1.20011786e+00, 5.72469230e-01, 5.12854148e-02, 3.72649950e-01,\n",
       "       1.66629902e-01, 2.61617329e+00, 1.61247871e-02, 6.81213697e-01,\n",
       "       6.46264867e-01, 1.84821555e+00, 8.13522865e-01, 5.34472962e-01,\n",
       "       4.02768316e-01, 6.76568346e-01, 1.46526469e+00, 6.77868818e-02,\n",
       "       8.58230228e-01, 2.63073131e+00, 7.66768093e-01, 1.90250549e-01,\n",
       "       5.81484096e-02, 1.20388489e+00, 6.03250761e-01, 1.39695681e+00,\n",
       "       2.67459679e+00, 5.15773301e-01, 1.18976902e-01, 6.92579106e-01,\n",
       "       9.93896405e-02, 2.16021428e-01, 5.71850192e-01, 1.40899554e+00,\n",
       "       2.75564384e-01, 1.41386299e+00, 2.84033373e+00, 8.01360250e-01,\n",
       "       3.74477200e-01, 1.58264630e-01, 5.79596266e-01, 6.75350572e-01,\n",
       "       4.29995822e+00, 2.59747660e+00, 4.28392637e+00, 1.25416915e+00,\n",
       "       5.25897978e-02, 2.31496596e-01, 4.95560822e-01, 5.08246979e-01,\n",
       "       8.43480305e-01, 1.06412270e-01, 1.00367613e+00, 1.76684752e-02,\n",
       "       5.96167977e-01, 1.09302232e+00, 2.50191995e-01, 2.60752255e-01,\n",
       "       7.08169631e-01, 2.59278469e+00, 7.68850386e-02, 5.03405212e-01,\n",
       "       8.02280978e-01, 1.81856490e-03, 1.02490473e+00, 3.90100165e+00,\n",
       "       2.65391358e-02, 8.73342205e-01, 3.26592717e-01, 2.08607334e-01,\n",
       "       2.66870828e+00, 2.98276068e-01, 4.36106804e-01, 7.79014970e-01,\n",
       "       7.74791716e-01, 1.44525535e+00, 2.31211778e+00, 1.41314270e-01,\n",
       "       3.56123273e-01, 2.58607125e+00, 4.96164321e-01, 1.38087468e-01,\n",
       "       2.02925296e+00, 1.28649111e+00, 1.66186731e-01, 2.86684950e+00,\n",
       "       1.86566161e+00, 6.25409998e-01, 1.12330966e+00, 2.11163945e-02,\n",
       "       1.64212584e-01, 6.88021852e-01, 2.32682300e+00, 1.21316832e+00,\n",
       "       9.81320333e-02, 6.67770581e-01, 1.69884458e-01, 5.73693006e-01,\n",
       "       6.65888800e-02, 2.64221113e-01, 6.52046373e-01, 2.45571502e-01,\n",
       "       1.82992351e-01, 2.10517866e+00, 1.59586303e+00, 2.58114152e+00,\n",
       "       2.34177303e+00, 5.62414291e-01, 4.65034876e-02, 1.77724083e-01,\n",
       "       1.60643027e-01, 1.30955026e+00, 4.64608677e-01, 1.13402165e+00,\n",
       "       6.57494587e-03, 1.26323808e+00, 1.34615167e+00, 2.46791025e+00,\n",
       "       3.29853325e-01, 1.72354703e+00, 4.04272405e+00, 2.61652559e+00,\n",
       "       8.12719335e-02, 4.13679352e-03, 2.44764340e-01, 5.56839044e-02,\n",
       "       1.21556029e+00, 5.61601898e-01, 1.06252003e+00, 3.06413220e+00,\n",
       "       1.44463917e+00, 2.09192744e+00, 9.34195480e-02, 3.30249523e-01,\n",
       "       1.53558211e+00, 1.87570524e+00, 2.86763192e-01, 5.70409664e-01,\n",
       "       4.79219408e-01, 1.29220045e-01, 7.63056225e-01, 3.68277104e-01,\n",
       "       9.87313866e-01, 1.31999764e+00, 2.46266268e+00, 7.76025140e-02,\n",
       "       4.58416809e-01, 4.00907923e+00, 4.69867729e-01, 1.51001560e+00,\n",
       "       3.00961132e-01, 8.85729933e-01, 6.75766216e-01, 1.74144641e+00,\n",
       "       4.31035915e-01, 2.27360965e+00, 3.22919662e+00, 2.85358481e+00,\n",
       "       2.32469393e+00, 5.90332730e-01, 1.65563786e+00, 6.00053151e-02,\n",
       "       3.47974237e-01, 2.54281687e+00, 9.13905896e-01, 3.32755550e+00,\n",
       "       1.47737194e+00, 3.30741377e-02, 7.81821041e-01, 1.09473838e+00,\n",
       "       7.09534168e-01, 2.07524828e-01, 1.45677564e+00, 1.98472432e+00,\n",
       "       6.78454141e-02, 1.12026517e+00, 1.19360163e+00, 2.52267259e+00,\n",
       "       2.40274855e-01, 2.69503010e+00, 4.96562018e-01, 1.60267340e+00,\n",
       "       3.84309347e-02, 2.04245027e+00, 1.12313016e+00, 5.22451776e-02,\n",
       "       1.53115706e+00, 1.16869350e+00, 2.68161291e-01, 1.11186524e-01,\n",
       "       8.19510299e-01, 3.47280206e+00, 5.81038654e-01, 2.28233052e-01,\n",
       "       2.59654164e-01, 5.89293166e-01, 6.78845502e-01, 2.06218988e-01,\n",
       "       4.71893974e-01, 2.23520784e+00, 1.45805311e+00, 9.09852534e-03,\n",
       "       9.01863949e-01, 3.44478829e-01, 1.46772331e+00, 1.56878232e-01,\n",
       "       1.92157669e+00, 4.00637834e-01, 2.05998584e+00, 3.14868855e-01,\n",
       "       4.43429044e-02, 3.11428154e-01, 1.18835573e-01, 1.34224115e-01,\n",
       "       3.03540441e-02, 6.15781959e-01, 4.08780842e-01, 1.80151208e-01,\n",
       "       7.74531967e-01, 1.48028272e-03, 5.64020683e-01, 8.02431082e-01,\n",
       "       1.96277598e+00, 7.55219796e-02, 3.18261561e-01, 2.40482970e-01,\n",
       "       2.16345677e+00, 2.26968324e+00, 1.11697820e+00, 3.82670405e+00,\n",
       "       8.68046497e-01, 9.86039241e-02, 5.77195478e-01, 2.43688917e+00,\n",
       "       6.53777773e-01, 1.39936333e-01, 1.11762397e-01, 1.81075085e+00,\n",
       "       2.44653913e-01, 1.50718325e-01, 8.31325596e-02, 2.93278416e+00,\n",
       "       1.56966424e+00, 5.67746858e-01, 1.33769210e-01, 3.96374009e-02,\n",
       "       1.54366766e+00, 2.18357998e-02, 5.87128654e-02, 9.50429033e-01,\n",
       "       1.21285038e+00, 3.53947478e-01, 3.32312524e-02, 8.63517999e-01,\n",
       "       7.20955565e-01, 1.45907851e+00, 9.52537351e-02, 3.36626312e+00,\n",
       "       6.99440917e-02, 1.11808606e-01, 8.48460490e-01, 1.01078236e+00,\n",
       "       7.78757670e-02, 3.22804221e-01, 9.01565971e-01, 1.55395376e-01,\n",
       "       1.63830805e-01, 5.68148556e-02, 3.47555510e-01, 2.05314233e-01,\n",
       "       9.37514795e-01, 4.95052835e-01, 1.08908807e+00, 2.24933869e-01,\n",
       "       4.42521759e-01, 2.28193715e+00, 1.20663343e+00, 8.47392907e-01,\n",
       "       1.16698085e+00, 3.63564441e-01, 2.39611969e+00, 5.98343507e-01,\n",
       "       2.62669643e+00, 3.30591787e-01, 1.34287561e+00, 1.04949826e+00,\n",
       "       4.71051927e-01, 5.74907828e+00, 1.29181955e-01, 6.25606034e-02,\n",
       "       6.21480972e-01, 4.76931993e-01, 7.27633179e-01, 6.02146568e-01,\n",
       "       9.11589121e-01, 7.05122557e-03, 3.18071739e+00, 6.73497987e-01,\n",
       "       1.03546252e+00, 6.69065046e-01, 1.82536655e-01, 2.04470599e+00,\n",
       "       5.65840086e-01, 3.51348452e+00, 1.14103449e-01, 9.75514638e-01,\n",
       "       9.73949742e-01, 4.27043499e-01, 6.37376435e-01, 5.12362307e-01,\n",
       "       9.01777756e-01, 4.49171503e-01, 9.36948176e-02, 5.98421863e-01,\n",
       "       5.03995124e+00, 9.29931175e-01, 7.92591605e-01, 7.56291685e-02,\n",
       "       1.04805832e+00, 2.97758437e-01, 7.45730239e-01, 2.16675220e+00,\n",
       "       1.46027483e-01, 2.62444459e+00, 1.36383551e+00, 2.32413472e-01,\n",
       "       6.74025543e-01, 2.22623801e-01, 1.33612677e+00, 4.09868946e-01,\n",
       "       2.10477152e-01, 5.37870527e-01, 7.90503484e-01, 3.73688952e-01,\n",
       "       6.92048232e-01, 2.55510699e-01, 7.20491632e-01, 1.16188354e-01,\n",
       "       6.84178277e-01, 2.09400872e+00, 1.34743363e+00, 2.81108041e-01,\n",
       "       4.12718049e-01, 6.71589212e-02, 3.79753495e+00, 4.29983579e-01,\n",
       "       3.41514698e-01, 1.79380220e+00, 1.00130088e+00, 1.66952242e-01,\n",
       "       1.06693845e+00, 2.04721312e+00, 1.38422947e+00, 1.39439554e+00,\n",
       "       5.38123068e-01, 1.68031261e+00, 1.52153124e-01, 1.34809702e-01,\n",
       "       5.98422227e-01, 1.06097175e+00, 1.44065674e+00, 8.20703586e-01,\n",
       "       4.30387045e-01, 2.33131580e+00, 3.48237934e-01, 2.78323015e+00,\n",
       "       7.98090957e-01, 1.12676697e+00, 5.62870488e-01, 5.79193954e-01,\n",
       "       2.97267053e-01, 3.27574930e+00, 3.09194561e+00, 3.02493292e-01,\n",
       "       7.22137669e-02, 8.19763191e-01, 9.81156357e-01, 2.95828785e-01,\n",
       "       1.95892815e+00, 3.30240669e+00, 3.08288978e-02, 2.06854929e+00,\n",
       "       1.07063417e+00, 5.24405685e+00, 2.30082285e+00, 5.40854227e-01,\n",
       "       6.72987915e-01, 1.15065239e-01, 5.81567660e-01, 3.88354074e-01,\n",
       "       9.64215669e-01, 2.30383554e-01, 2.19125041e-01, 2.94058775e-01,\n",
       "       3.33526549e-02, 3.00050431e-01, 2.98148002e-01, 6.07707687e-01,\n",
       "       2.33303456e+00, 1.05032062e-01, 6.18446000e-01, 6.96414563e-01,\n",
       "       1.56053531e+00, 8.02319063e-01, 4.45060064e+00, 3.02368813e-01,\n",
       "       6.63334378e-02, 6.59088138e-01, 2.61262327e-01, 1.56774545e-01,\n",
       "       1.30897354e+00, 2.21686765e+00, 3.51772199e-01, 2.89202138e+00,\n",
       "       5.29526097e-02, 2.39484150e+00, 5.17197232e-02, 7.79327391e-02,\n",
       "       1.08811895e-01, 9.62088875e-01, 1.31351909e+00, 4.35174314e-01,\n",
       "       1.48938280e-01, 2.80492188e+00, 9.15786797e-02, 1.63773425e-03,\n",
       "       6.31202792e-01, 2.15252911e+00, 1.04096332e+00, 3.90508781e-01,\n",
       "       1.28287914e+00, 1.33756742e+00, 7.11493346e-01, 1.21518324e+00,\n",
       "       4.32675077e-01, 1.11961819e+00, 7.04326387e-01, 3.03210124e-01,\n",
       "       1.12041374e+00, 6.30597729e-01, 1.69554602e+00, 3.44473408e+00,\n",
       "       2.58626389e+00, 3.75371540e-01, 3.84427856e-01, 3.03920407e-01,\n",
       "       1.72764512e+00, 4.83444863e-01, 1.17874798e+00, 1.02859712e+00,\n",
       "       4.31018932e-01, 5.20490873e-02, 6.68629064e+00, 5.91301088e-01,\n",
       "       1.11920691e-01, 1.26868120e+00, 1.81053024e-01, 1.30432525e-01,\n",
       "       1.22200705e-01, 1.56453001e+00, 3.52708381e-01, 1.23191328e+00,\n",
       "       2.94652339e-01, 2.23911272e-01, 2.17663809e+00, 1.07392427e+00,\n",
       "       6.30502138e-03, 1.01896732e+00, 1.09042995e-01, 1.03083463e+00,\n",
       "       8.29661396e-01, 2.10439210e+00, 3.57644064e-01, 4.08136422e+00,\n",
       "       4.84518772e+00, 1.63075118e+00, 6.35829399e-01, 1.66854996e-01,\n",
       "       2.08864792e+00, 1.58416798e-01, 1.37494654e+00, 5.22314218e-01,\n",
       "       1.71708360e+00, 3.33154489e-01, 8.10091810e-01, 7.83018347e-01,\n",
       "       2.05676767e+00, 3.60199185e-01, 7.57525719e-02, 2.17137402e+00,\n",
       "       2.71831546e+00, 1.36701656e-01, 1.18787453e+00, 3.93271557e-01,\n",
       "       1.77506352e-01, 6.65067875e-01, 2.88173166e-01, 1.60683212e+00,\n",
       "       5.10832359e-01, 4.11943898e-01, 1.38890769e-01, 2.55555184e-01,\n",
       "       8.54222897e-02, 1.19334170e+00, 6.13482670e-01, 1.72815588e-01,\n",
       "       3.97603204e-02, 2.42265687e-01, 1.68384832e+00, 1.19649556e+00,\n",
       "       5.60237042e-01, 4.67659296e-01, 1.13586147e-01, 4.17997597e-01,\n",
       "       2.02059525e-02, 2.88791366e+00, 1.09792626e+00, 6.07763119e-01,\n",
       "       5.08137887e+00, 8.25505637e-01, 8.98789370e-01, 1.64232216e-01,\n",
       "       1.23080904e-01, 5.70112705e-01, 1.10253063e-01, 9.45636452e-01,\n",
       "       2.47722828e-01, 6.86761818e-01, 2.20665441e-01, 5.77501611e-01,\n",
       "       9.49229213e-01, 2.14113246e+00, 1.40659939e+00, 7.82637744e-01,\n",
       "       2.49751118e-02, 5.77342481e-01, 3.34053992e-01, 1.64732897e-01,\n",
       "       7.34296826e-01, 1.53727524e-01, 1.04660333e+00, 7.54904542e-01,\n",
       "       1.28380857e+00, 4.37268437e-01, 1.54399019e+00, 6.44742292e-01,\n",
       "       2.54117228e-01, 1.75226232e-01, 7.62121267e-01, 3.73159632e-01,\n",
       "       8.66445099e-01, 6.06851587e-01, 9.65414551e-01, 1.33868423e-01,\n",
       "       2.08521280e-01, 9.78321657e-01, 4.74175410e-01, 5.20811463e-02,\n",
       "       1.23757557e-01, 1.86193920e+00, 1.16315330e-01, 1.48032051e+00,\n",
       "       1.53346806e-01, 3.41010681e+00, 9.93974304e-01, 1.22346079e+00,\n",
       "       3.68223941e-01, 4.73020517e-02, 8.71953134e-02, 6.86655209e-02,\n",
       "       1.95724668e+00, 1.25804097e+00, 1.84722341e-01, 1.88066161e-01,\n",
       "       2.52309952e+00, 1.26076777e+00, 2.37512155e-01, 1.49278498e+00,\n",
       "       3.21737457e-01, 5.15448922e-01, 9.79935031e-01, 1.62763125e+00,\n",
       "       8.84318987e-01, 1.28770416e+00, 1.43347595e+00, 5.54051451e-01,\n",
       "       9.34060967e-01, 3.88475131e-01, 2.07757140e-01, 7.23793108e-01,\n",
       "       2.55334231e-01, 6.55668570e+00, 4.01704682e-01, 7.89314263e-01,\n",
       "       1.28072205e+00, 7.92735737e-01, 2.53172888e+00, 3.13611355e-01])"
      ]
     },
     "execution_count": 27,
     "metadata": {},
     "output_type": "execute_result"
    }
   ],
   "source": [
    "random.standard_exponential(800)"
   ]
  },
  {
   "cell_type": "markdown",
   "id": "97af4700",
   "metadata": {},
   "source": [
    "---\n",
    "## Exercise14:\n",
    "The Poisson distribution is a discrete probability distribution. This distribution describes how many times a given event can occur at a specified time. The NumPy library allows you to generate random numbers from this distribution with the np.random.poisson() function. Generate a 50 x 3 random shape distribution, with a known number of occurrences equal to 5."
   ]
  },
  {
   "cell_type": "code",
   "execution_count": 28,
   "id": "ae3b8725",
   "metadata": {
    "scrolled": true
   },
   "outputs": [
    {
     "data": {
      "text/plain": [
       "array([[ 1,  7,  5],\n",
       "       [ 8,  0,  5],\n",
       "       [ 4,  8,  7],\n",
       "       [ 3,  2,  5],\n",
       "       [ 3,  5,  8],\n",
       "       [ 1,  3,  8],\n",
       "       [ 6,  8,  6],\n",
       "       [ 6,  4,  4],\n",
       "       [ 8,  4,  6],\n",
       "       [ 6,  6,  3],\n",
       "       [12,  5,  1],\n",
       "       [12,  3,  1],\n",
       "       [ 4,  8,  5],\n",
       "       [ 5,  5,  4],\n",
       "       [ 6,  4,  5],\n",
       "       [10,  5,  5],\n",
       "       [ 7,  3,  2],\n",
       "       [ 3,  4,  6],\n",
       "       [ 4,  5,  5],\n",
       "       [ 4,  4,  5],\n",
       "       [ 3,  6,  7],\n",
       "       [ 6,  6,  6],\n",
       "       [ 6,  3,  2],\n",
       "       [ 4,  3,  5],\n",
       "       [ 5,  1,  9],\n",
       "       [ 2,  7,  7],\n",
       "       [ 3,  1,  6],\n",
       "       [ 6,  5,  4],\n",
       "       [11,  2,  5],\n",
       "       [ 3,  1,  4],\n",
       "       [ 5,  7,  1],\n",
       "       [ 3,  3,  3],\n",
       "       [ 6,  5, 10],\n",
       "       [ 6,  3,  8],\n",
       "       [ 6,  1,  7],\n",
       "       [10,  4,  4],\n",
       "       [ 5,  5,  3],\n",
       "       [ 1,  5,  5],\n",
       "       [ 4,  4,  5],\n",
       "       [ 4,  3,  4],\n",
       "       [ 6,  6,  5],\n",
       "       [ 4,  9,  3],\n",
       "       [ 5,  5,  3],\n",
       "       [ 6,  6,  5],\n",
       "       [ 3,  2,  5],\n",
       "       [ 2,  6,  3],\n",
       "       [ 8,  2,  0],\n",
       "       [10,  4,  8],\n",
       "       [ 2,  5,  3],\n",
       "       [ 6,  2,  5]])"
      ]
     },
     "execution_count": 28,
     "metadata": {},
     "output_type": "execute_result"
    }
   ],
   "source": [
    "random.poisson(5, size = (50,3))"
   ]
  },
  {
   "cell_type": "markdown",
   "id": "ff02e6ef",
   "metadata": {},
   "source": [
    "---\n",
    "## Exercise 15:\n",
    "Generate a random Poisson distribution with 10,000 samples, where the known number of occurrences is equal to 3. Store the data in a Pandas Series object."
   ]
  },
  {
   "cell_type": "code",
   "execution_count": 29,
   "id": "76c3a7a3",
   "metadata": {},
   "outputs": [
    {
     "data": {
      "text/plain": [
       "0       4\n",
       "1       4\n",
       "2       1\n",
       "3       4\n",
       "4       4\n",
       "       ..\n",
       "9995    3\n",
       "9996    2\n",
       "9997    2\n",
       "9998    3\n",
       "9999    3\n",
       "Length: 10000, dtype: int32"
      ]
     },
     "execution_count": 29,
     "metadata": {},
     "output_type": "execute_result"
    }
   ],
   "source": [
    "ex15 = pd.Series(random.poisson(3,10000))\n",
    "ex15"
   ]
  },
  {
   "cell_type": "code",
   "execution_count": 30,
   "id": "0b610d38",
   "metadata": {},
   "outputs": [
    {
     "data": {
      "text/plain": [
       "<AxesSubplot:ylabel='Count'>"
      ]
     },
     "execution_count": 30,
     "metadata": {},
     "output_type": "execute_result"
    },
    {
     "data": {
      "image/png": "[encoded data removed]",
      "text/plain": [
       "<Figure size 432x288 with 1 Axes>"
      ]
     },
     "metadata": {
      "needs_background": "light"
     },
     "output_type": "display_data"
    }
   ],
   "source": [
    "sns.histplot(ex15)"
   ]
  },
  {
   "cell_type": "markdown",
   "id": "581ce55c",
   "metadata": {},
   "source": [
    "---\n",
    "## Exercise 16:\n",
    "The np.random.choice() function generates a random sample from a one-dimensional array. Generate a random sample of size 10, from the letters 'a', 'b', 'c', 'd'."
   ]
  },
  {
   "cell_type": "code",
   "execution_count": 31,
   "id": "dddb7728",
   "metadata": {},
   "outputs": [
    {
     "data": {
      "text/plain": [
       "array(['c', 'b,', 'b,', 'c', 'd', 'c', 'c', 'a', 'b,', 'c'], dtype='<U2')"
      ]
     },
     "execution_count": 31,
     "metadata": {},
     "output_type": "execute_result"
    }
   ],
   "source": [
    "random.choice(['a','b,','c','d'],10)"
   ]
  },
  {
   "cell_type": "markdown",
   "id": "f00ae0b5",
   "metadata": {},
   "source": [
    "---\n",
    "## Exercise 17:\n",
    "Generate a DataFrame with 7 columns and 100 rows, with the following characteristics:\n",
    "\n",
    "    column 'A' follows a standard normal distribution;\n",
    "\n",
    "    column 'B' follows a uniform distribution;\n",
    "\n",
    "    column 'C' follows a binomial distribution, with 6 attempts and probability of success 0.6;\n",
    "\n",
    "    column 'D' follows a standard exponential distribution;\n",
    "\n",
    "    column 'E' follows a Poisson distribution with a known number of occurrences equal to 10;\n",
    "\n",
    "    column 'F' follows a normal distribution of mean 100 and standard deviation 15;\n",
    "\n",
    "    column 'G'  has random integers between 50 and 3000.\n",
    "    "
   ]
  },
  {
   "cell_type": "code",
   "execution_count": 37,
   "id": "515dd053",
   "metadata": {},
   "outputs": [],
   "source": [
    "data = {\n",
    "    'A' : random.normal(size = 100),\n",
    "    'B' : random.uniform(size = 100),\n",
    "    'C' : random.binomial(6, 0.6, size = 100),\n",
    "    'D' : random.exponential(size = 100),\n",
    "    'E' : random.poisson(10, size = 100),\n",
    "    'F' : random.normal(100, 15, size = 100),\n",
    "    'G' : random.randint(50,3000,size = 100)}"
   ]
  },
  {
   "cell_type": "code",
   "execution_count": 38,
   "id": "778ed1bc",
   "metadata": {},
   "outputs": [
    {
     "data": {
      "text/html": [
       "<div>\n",
       "<style scoped>\n",
       "    .dataframe tbody tr th:only-of-type {\n",
       "        vertical-align: middle;\n",
       "    }\n",
       "\n",
       "    .dataframe tbody tr th {\n",
       "        vertical-align: top;\n",
       "    }\n",
       "\n",
       "    .dataframe thead th {\n",
       "        text-align: right;\n",
       "    }\n",
       "</style>\n",
       "<table border=\"1\" class=\"dataframe\">\n",
       "  <thead>\n",
       "    <tr style=\"text-align: right;\">\n",
       "      <th></th>\n",
       "      <th>A</th>\n",
       "      <th>B</th>\n",
       "      <th>C</th>\n",
       "      <th>D</th>\n",
       "      <th>E</th>\n",
       "      <th>F</th>\n",
       "      <th>G</th>\n",
       "    </tr>\n",
       "  </thead>\n",
       "  <tbody>\n",
       "    <tr>\n",
       "      <th>0</th>\n",
       "      <td>-0.062906</td>\n",
       "      <td>0.093618</td>\n",
       "      <td>3</td>\n",
       "      <td>0.356506</td>\n",
       "      <td>9</td>\n",
       "      <td>122.475966</td>\n",
       "      <td>2923</td>\n",
       "    </tr>\n",
       "    <tr>\n",
       "      <th>1</th>\n",
       "      <td>1.267668</td>\n",
       "      <td>0.752496</td>\n",
       "      <td>3</td>\n",
       "      <td>0.478274</td>\n",
       "      <td>5</td>\n",
       "      <td>69.380546</td>\n",
       "      <td>1298</td>\n",
       "    </tr>\n",
       "    <tr>\n",
       "      <th>2</th>\n",
       "      <td>0.109693</td>\n",
       "      <td>0.228573</td>\n",
       "      <td>6</td>\n",
       "      <td>0.213675</td>\n",
       "      <td>16</td>\n",
       "      <td>80.095169</td>\n",
       "      <td>2325</td>\n",
       "    </tr>\n",
       "    <tr>\n",
       "      <th>3</th>\n",
       "      <td>-0.385401</td>\n",
       "      <td>0.748699</td>\n",
       "      <td>3</td>\n",
       "      <td>0.018707</td>\n",
       "      <td>12</td>\n",
       "      <td>104.035167</td>\n",
       "      <td>1874</td>\n",
       "    </tr>\n",
       "    <tr>\n",
       "      <th>4</th>\n",
       "      <td>-0.445934</td>\n",
       "      <td>0.123411</td>\n",
       "      <td>5</td>\n",
       "      <td>0.735923</td>\n",
       "      <td>5</td>\n",
       "      <td>114.338004</td>\n",
       "      <td>1504</td>\n",
       "    </tr>\n",
       "    <tr>\n",
       "      <th>...</th>\n",
       "      <td>...</td>\n",
       "      <td>...</td>\n",
       "      <td>...</td>\n",
       "      <td>...</td>\n",
       "      <td>...</td>\n",
       "      <td>...</td>\n",
       "      <td>...</td>\n",
       "    </tr>\n",
       "    <tr>\n",
       "      <th>95</th>\n",
       "      <td>-1.876932</td>\n",
       "      <td>0.626066</td>\n",
       "      <td>4</td>\n",
       "      <td>0.343256</td>\n",
       "      <td>12</td>\n",
       "      <td>132.176648</td>\n",
       "      <td>1907</td>\n",
       "    </tr>\n",
       "    <tr>\n",
       "      <th>96</th>\n",
       "      <td>0.584554</td>\n",
       "      <td>0.008221</td>\n",
       "      <td>3</td>\n",
       "      <td>0.136568</td>\n",
       "      <td>9</td>\n",
       "      <td>114.974027</td>\n",
       "      <td>623</td>\n",
       "    </tr>\n",
       "    <tr>\n",
       "      <th>97</th>\n",
       "      <td>1.114821</td>\n",
       "      <td>0.878084</td>\n",
       "      <td>5</td>\n",
       "      <td>0.067156</td>\n",
       "      <td>6</td>\n",
       "      <td>92.402350</td>\n",
       "      <td>2172</td>\n",
       "    </tr>\n",
       "    <tr>\n",
       "      <th>98</th>\n",
       "      <td>-0.309711</td>\n",
       "      <td>0.555220</td>\n",
       "      <td>5</td>\n",
       "      <td>0.528270</td>\n",
       "      <td>7</td>\n",
       "      <td>90.569087</td>\n",
       "      <td>654</td>\n",
       "    </tr>\n",
       "    <tr>\n",
       "      <th>99</th>\n",
       "      <td>0.113889</td>\n",
       "      <td>0.533340</td>\n",
       "      <td>2</td>\n",
       "      <td>1.008610</td>\n",
       "      <td>8</td>\n",
       "      <td>113.362748</td>\n",
       "      <td>1463</td>\n",
       "    </tr>\n",
       "  </tbody>\n",
       "</table>\n",
       "<p>100 rows × 7 columns</p>\n",
       "</div>"
      ],
      "text/plain": [
       "           A         B  C         D   E           F     G\n",
       "0  -0.062906  0.093618  3  0.356506   9  122.475966  2923\n",
       "1   1.267668  0.752496  3  0.478274   5   69.380546  1298\n",
       "2   0.109693  0.228573  6  0.213675  16   80.095169  2325\n",
       "3  -0.385401  0.748699  3  0.018707  12  104.035167  1874\n",
       "4  -0.445934  0.123411  5  0.735923   5  114.338004  1504\n",
       "..       ...       ... ..       ...  ..         ...   ...\n",
       "95 -1.876932  0.626066  4  0.343256  12  132.176648  1907\n",
       "96  0.584554  0.008221  3  0.136568   9  114.974027   623\n",
       "97  1.114821  0.878084  5  0.067156   6   92.402350  2172\n",
       "98 -0.309711  0.555220  5  0.528270   7   90.569087   654\n",
       "99  0.113889  0.533340  2  1.008610   8  113.362748  1463\n",
       "\n",
       "[100 rows x 7 columns]"
      ]
     },
     "execution_count": 38,
     "metadata": {},
     "output_type": "execute_result"
    }
   ],
   "source": [
    "pd.DataFrame(data = data)"
   ]
  },
  {
   "cell_type": "markdown",
   "id": "fdea7c74",
   "metadata": {},
   "source": [
    "---\n",
    "## Exercise 18:\n",
    "    Generate a sample of the Chi-Square distribution with 3 degrees of freedom and a 5 x 5 shape;\n",
    "\n",
    "    Generate a sample of the Chi-Square distribution with 2 degrees of freedom and size 2,000 and plot a graph to visualize the generated probability distribution;\n",
    "\n",
    "    Generate a sample of an Exponential distribution with scale 5 and 2 x 2 shape."
   ]
  },
  {
   "cell_type": "code",
   "execution_count": 40,
   "id": "f53781e2",
   "metadata": {},
   "outputs": [
    {
     "data": {
      "text/plain": [
       "array([[ 4.90461352,  1.54121201,  5.15511936,  3.64927308,  7.72974159],\n",
       "       [ 0.35862038,  5.51985837,  0.30365973,  2.57488848,  2.70799648],\n",
       "       [12.80450348,  2.01548945,  1.67569868,  4.69039566,  3.91831732],\n",
       "       [ 1.83935222,  1.96432792,  1.39818836,  0.46383471,  0.46047112],\n",
       "       [12.42389672,  0.26600632,  3.60174895,  2.78564405,  7.67628208]])"
      ]
     },
     "execution_count": 40,
     "metadata": {},
     "output_type": "execute_result"
    }
   ],
   "source": [
    "ex18A = random.chisquare(3,(5,5))\n",
    "ex18A"
   ]
  },
  {
   "cell_type": "code",
   "execution_count": 41,
   "id": "ba639ffd",
   "metadata": {},
   "outputs": [
    {
     "data": {
      "text/plain": [
       "<seaborn.axisgrid.FacetGrid at 0x18cccf4b310>"
      ]
     },
     "execution_count": 41,
     "metadata": {},
     "output_type": "execute_result"
    },
    {
     "data": {
      "image/png": "[encoded data removed]",
      "text/plain": [
       "<Figure size 360x360 with 1 Axes>"
      ]
     },
     "metadata": {
      "needs_background": "light"
     },
     "output_type": "display_data"
    }
   ],
   "source": [
    "ex18B = random.chisquare(2,2000)\n",
    "sns.displot(ex18B)"
   ]
  },
  {
   "cell_type": "code",
   "execution_count": 43,
   "id": "75a1fe63",
   "metadata": {},
   "outputs": [
    {
     "data": {
      "text/plain": [
       "array([[ 3.38964008, 16.40010694],\n",
       "       [ 6.06019182,  3.84596858]])"
      ]
     },
     "execution_count": 43,
     "metadata": {},
     "output_type": "execute_result"
    }
   ],
   "source": [
    "ex18C = random.exponential(5,(2,2))\n",
    "ex18C"
   ]
  },
  {
   "cell_type": "markdown",
   "id": "c6e04511",
   "metadata": {},
   "source": [
    "---\n",
    "## Exercise 19:\n",
    "Generate a vector with random numbers from a sample of size 100, generated by means of logistic distribution with mean 5 and standard deviation 0.9."
   ]
  },
  {
   "cell_type": "code",
   "execution_count": 44,
   "id": "627375ba",
   "metadata": {},
   "outputs": [
    {
     "data": {
      "text/plain": [
       "array([2.54613315, 5.91814932, 6.41035442, 6.08072467, 4.26670965,\n",
       "       8.14940619, 3.07596718, 5.02251603, 7.80100557, 4.89195266,\n",
       "       6.58173824, 5.72189618, 3.72829336, 6.34154665, 5.49091032,\n",
       "       4.09880971, 4.48109515, 5.27415749, 6.91628502, 2.83857265,\n",
       "       5.55411426, 6.74310469, 0.08663806, 7.29886251, 4.25769277,\n",
       "       5.17512585, 3.99666062, 5.58777736, 4.58663234, 2.36288238,\n",
       "       0.95681353, 7.38249421, 3.24019385, 5.474263  , 5.07280057,\n",
       "       3.18507054, 5.46350605, 6.09667544, 5.38523263, 5.07590483,\n",
       "       5.45536041, 5.31866213, 3.45460073, 9.09462851, 5.89118167,\n",
       "       5.3965781 , 5.75465386, 4.95871654, 5.08156891, 1.85861816,\n",
       "       4.69406985, 7.67063488, 4.74841647, 3.01491692, 6.45388619,\n",
       "       2.61554794, 5.27991078, 4.55245845, 3.85411451, 5.02138923,\n",
       "       4.44188451, 5.36813691, 4.19295825, 7.27390012, 5.00939891,\n",
       "       6.04958864, 4.84392029, 5.73463098, 6.355694  , 6.89846707,\n",
       "       7.55001493, 3.67357602, 5.59278176, 4.94652684, 3.86842246,\n",
       "       6.11428513, 7.19024281, 5.50902928, 4.85795944, 7.15753092,\n",
       "       4.40793618, 5.78579683, 4.49700686, 4.84601794, 5.90029675,\n",
       "       8.44552783, 5.73245835, 3.88973385, 5.33701213, 6.37964585,\n",
       "       5.64769457, 5.38987112, 2.58405813, 3.87721761, 4.95684719,\n",
       "       5.05163129, 3.68044688, 5.29812606, 5.6096453 , 1.7692036 ])"
      ]
     },
     "execution_count": 44,
     "metadata": {},
     "output_type": "execute_result"
    }
   ],
   "source": [
    "random.logistic(5,0.9,100)"
   ]
  },
  {
   "cell_type": "markdown",
   "id": "dfa30b26",
   "metadata": {},
   "source": [
    "---\n",
    "## Exercise 20:\n",
    "Construct two vectors of size 100, with a mean of 1 and standard deviation of 0.5, the first one follows a normal distribution, while the second vector follows a logistic distribution. Then build a DataFrame with the random numbers created and generate a single graph that shows both generated random distributions."
   ]
  },
  {
   "cell_type": "code",
   "execution_count": 46,
   "id": "5963e11c",
   "metadata": {},
   "outputs": [],
   "source": [
    "size = 100\n",
    "mean = 1\n",
    "std = 0.5\n",
    "ex20A = {\n",
    "    'A' : random.normal(mean,std,size),\n",
    "    'B' : random.logistic(mean,std,size)\n",
    "}"
   ]
  },
  {
   "cell_type": "code",
   "execution_count": 48,
   "id": "cb208501",
   "metadata": {},
   "outputs": [
    {
     "data": {
      "text/html": [
       "<div>\n",
       "<style scoped>\n",
       "    .dataframe tbody tr th:only-of-type {\n",
       "        vertical-align: middle;\n",
       "    }\n",
       "\n",
       "    .dataframe tbody tr th {\n",
       "        vertical-align: top;\n",
       "    }\n",
       "\n",
       "    .dataframe thead th {\n",
       "        text-align: right;\n",
       "    }\n",
       "</style>\n",
       "<table border=\"1\" class=\"dataframe\">\n",
       "  <thead>\n",
       "    <tr style=\"text-align: right;\">\n",
       "      <th></th>\n",
       "      <th>A</th>\n",
       "      <th>B</th>\n",
       "    </tr>\n",
       "  </thead>\n",
       "  <tbody>\n",
       "    <tr>\n",
       "      <th>0</th>\n",
       "      <td>0.540695</td>\n",
       "      <td>0.117555</td>\n",
       "    </tr>\n",
       "    <tr>\n",
       "      <th>1</th>\n",
       "      <td>1.441961</td>\n",
       "      <td>3.329161</td>\n",
       "    </tr>\n",
       "    <tr>\n",
       "      <th>2</th>\n",
       "      <td>0.232959</td>\n",
       "      <td>0.745614</td>\n",
       "    </tr>\n",
       "    <tr>\n",
       "      <th>3</th>\n",
       "      <td>0.797024</td>\n",
       "      <td>0.654424</td>\n",
       "    </tr>\n",
       "    <tr>\n",
       "      <th>4</th>\n",
       "      <td>-0.382211</td>\n",
       "      <td>1.946625</td>\n",
       "    </tr>\n",
       "    <tr>\n",
       "      <th>...</th>\n",
       "      <td>...</td>\n",
       "      <td>...</td>\n",
       "    </tr>\n",
       "    <tr>\n",
       "      <th>95</th>\n",
       "      <td>1.406783</td>\n",
       "      <td>1.016433</td>\n",
       "    </tr>\n",
       "    <tr>\n",
       "      <th>96</th>\n",
       "      <td>1.239548</td>\n",
       "      <td>1.923704</td>\n",
       "    </tr>\n",
       "    <tr>\n",
       "      <th>97</th>\n",
       "      <td>2.090328</td>\n",
       "      <td>3.151645</td>\n",
       "    </tr>\n",
       "    <tr>\n",
       "      <th>98</th>\n",
       "      <td>0.887319</td>\n",
       "      <td>-0.277663</td>\n",
       "    </tr>\n",
       "    <tr>\n",
       "      <th>99</th>\n",
       "      <td>0.775270</td>\n",
       "      <td>2.509306</td>\n",
       "    </tr>\n",
       "  </tbody>\n",
       "</table>\n",
       "<p>100 rows × 2 columns</p>\n",
       "</div>"
      ],
      "text/plain": [
       "           A         B\n",
       "0   0.540695  0.117555\n",
       "1   1.441961  3.329161\n",
       "2   0.232959  0.745614\n",
       "3   0.797024  0.654424\n",
       "4  -0.382211  1.946625\n",
       "..       ...       ...\n",
       "95  1.406783  1.016433\n",
       "96  1.239548  1.923704\n",
       "97  2.090328  3.151645\n",
       "98  0.887319 -0.277663\n",
       "99  0.775270  2.509306\n",
       "\n",
       "[100 rows x 2 columns]"
      ]
     },
     "execution_count": 48,
     "metadata": {},
     "output_type": "execute_result"
    }
   ],
   "source": [
    "ex20B = pd.DataFrame(ex20A)\n",
    "ex20B"
   ]
  },
  {
   "cell_type": "code",
   "execution_count": 49,
   "id": "b592642f",
   "metadata": {},
   "outputs": [
    {
     "data": {
      "text/plain": [
       "<seaborn.axisgrid.FacetGrid at 0x18ccb91ac70>"
      ]
     },
     "execution_count": 49,
     "metadata": {},
     "output_type": "execute_result"
    },
    {
     "data": {
      "image/png": "[encoded data removed]",
      "text/plain": [
       "<Figure size 402.875x360 with 1 Axes>"
      ]
     },
     "metadata": {
      "needs_background": "light"
     },
     "output_type": "display_data"
    }
   ],
   "source": [
    "sns.displot(ex20B)"
   ]
  },
  {
   "cell_type": "code",
   "execution_count": null,
   "id": "a893c164",
   "metadata": {},
   "outputs": [],
   "source": []
  }
 ],
 "metadata": {
  "kernelspec": {
   "display_name": "Python 3",
   "language": "python",
   "name": "python3"
  },
  "language_info": {
   "codemirror_mode": {
    "name": "ipython",
    "version": 3
   },
   "file_extension": ".py",
   "mimetype": "text/x-python",
   "name": "python",
   "nbconvert_exporter": "python",
   "pygments_lexer": "ipython3",
   "version": "3.8.8"
  }
 },
 "nbformat": 4,
 "nbformat_minor": 5
}
