{
 "cells": [
  {
   "cell_type": "code",
   "execution_count": 30,
   "id": "0e015dcd",
   "metadata": {},
   "outputs": [],
   "source": [
    "import pandas as pd\n",
    "import numpy as np\n",
    "import matplotlib.pyplot as plt\n",
    "import seaborn as sns"
   ]
  },
  {
   "cell_type": "markdown",
   "id": "2e06de7b",
   "metadata": {},
   "source": [
    "## Exercise 1: \n",
    "A Series (one-dimensional array) from the Pandas library can be created using the constructor:\n",
    "\n",
    "\n",
    "    pd.Series (data, index, dtype, copy)\n",
    "\n",
    "Then, we can create Series objects from arrays, dictionaries, scalars and iterables. Based on this information, answer the following questions.\n",
    "\n",
    "\n",
    "a) From the list below create an object of type Series.\n",
    "\n",
    "\n",
    "    data = ['a', 'b', 'c', 'd']\n",
    "\n",
    "\n",
    "Expected result:\n",
    "\n",
    "\n",
    "    0    a\n",
    "    1    b\n",
    "    2    c\n",
    "    3    d\n",
    "    dtype: object\n",
    "\n",
    "\n",
    "b) From the previous list, obtain:\n",
    "\n",
    "\n",
    "    10    a\n",
    "    11    b\n",
    "    12    c\n",
    "    13    d\n",
    "    dtype: object\n",
    "\n",
    "\n",
    "Tip: Change the index argument.\n",
    "\n",
    "\n",
    "c) Obtain the Series below:\n",
    "\n",
    "\n",
    "    0    10\n",
    "    1    10\n",
    "    2    10\n",
    "    3    10\n",
    "    dtype: int64\n",
    "\n",
    "\n",
    "d) From the array,\n",
    "\n",
    "\n",
    "    import numpy as np\n",
    "    array = np.arange(10,20,2)\n",
    "\n",
    "\n",
    "Obtain the Series below:\n",
    "\n",
    "\n",
    "    1    10.0\n",
    "    2    12.0\n",
    "    3    14.0\n",
    "    4    16.0\n",
    "    5    18.0\n",
    "    dtype: float64"
   ]
  },
  {
   "cell_type": "code",
   "execution_count": 2,
   "id": "b7226d4c",
   "metadata": {},
   "outputs": [
    {
     "data": {
      "text/plain": [
       "0    A\n",
       "1    B\n",
       "2    C\n",
       "3    D\n",
       "dtype: object"
      ]
     },
     "execution_count": 2,
     "metadata": {},
     "output_type": "execute_result"
    }
   ],
   "source": [
    "data =['A','B','C','D']\n",
    "ex1A = pd.Series(data)\n",
    "ex1A"
   ]
  },
  {
   "cell_type": "code",
   "execution_count": 3,
   "id": "ef4b0a32",
   "metadata": {},
   "outputs": [
    {
     "data": {
      "text/plain": [
       "10    A\n",
       "11    B\n",
       "12    C\n",
       "13    D\n",
       "dtype: object"
      ]
     },
     "execution_count": 3,
     "metadata": {},
     "output_type": "execute_result"
    }
   ],
   "source": [
    "index = [10,11,12,13]\n",
    "ex1B = pd.Series(data,index)\n",
    "ex1B"
   ]
  },
  {
   "cell_type": "code",
   "execution_count": 4,
   "id": "c2eea73c",
   "metadata": {},
   "outputs": [
    {
     "data": {
      "text/plain": [
       "0    10\n",
       "1    10\n",
       "2    10\n",
       "3    10\n",
       "dtype: int32"
      ]
     },
     "execution_count": 4,
     "metadata": {},
     "output_type": "execute_result"
    }
   ],
   "source": [
    "data_10 = np.ones(4,int)*10\n",
    "ex1C = pd.Series(data_10)\n",
    "ex1C"
   ]
  },
  {
   "cell_type": "code",
   "execution_count": 5,
   "id": "ae7b7330",
   "metadata": {},
   "outputs": [
    {
     "data": {
      "text/plain": [
       "1    10\n",
       "2    12\n",
       "3    14\n",
       "4    16\n",
       "5    18\n",
       "dtype: int32"
      ]
     },
     "execution_count": 5,
     "metadata": {},
     "output_type": "execute_result"
    }
   ],
   "source": [
    "data = np.arange(10,19,2)\n",
    "index = np.arange(1,6)\n",
    "ex1D = pd.Series(data,index)\n",
    "ex1D"
   ]
  },
  {
   "cell_type": "markdown",
   "id": "25405c7d",
   "metadata": {},
   "source": [
    "---\n",
    "## Exercise 2:\n",
    "A Series (one-dimensional array) from the Pandas library can be created using the constructor:\n",
    "\n",
    "\n",
    "    pd.Series (data, index, dtype, copy)\n",
    "\n",
    "\n",
    "Then, we can create Series objects from arrays, dictionaries, scalars and iterables. Based on this information, answer the following questions.\n",
    "\n",
    "\n",
    "a) From the list below create an object of type Series.\n",
    "\n",
    "    data = ['k','w','z','y']\n",
    "\n",
    "\n",
    "Expected result:\n",
    "\n",
    "\n",
    "    0    k\n",
    "    1    w\n",
    "    2    z\n",
    "    3    y\n",
    "    dtype: object\n",
    "\n",
    "\n",
    "b) From the dictionary below create an object of type Series.\n",
    "\n",
    "\n",
    "    dic = {'a':10,'b':30,'c':15,'d':12}\n",
    "\n",
    "\n",
    "Expected result:\n",
    "\n",
    "\n",
    "    a    10\n",
    "    b    30\n",
    "    c    15\n",
    "    d    12\n",
    "    dtype: int64\n",
    "\n",
    "\n",
    "c) Convert to a list the Series objects created previously.\n",
    "\n",
    "\n",
    "Tip: use the pandas to_list() method.\n",
    "\n",
    "\n",
    "d) Convert Series objects created in letters a) and b) to DataFrame. Enter a name for the columns. Use the pd.DataFrame() constructor.\n",
    "\n",
    "\n",
    "Expected Results:\n",
    "\n",
    "\n",
    "    \tLetters\n",
    "    0\tk\n",
    "    1\tw\n",
    "    2\tz\n",
    "    3\ty\n",
    "\n",
    "\n",
    "        Values\n",
    "    a\t10\n",
    "    b\t30\n",
    "    c\t15\n",
    "    d\t12\n",
    "\n",
    "\n"
   ]
  },
  {
   "cell_type": "code",
   "execution_count": 6,
   "id": "d06090da",
   "metadata": {},
   "outputs": [
    {
     "data": {
      "text/plain": [
       "0    k\n",
       "1    w\n",
       "2    z\n",
       "3    y\n",
       "dtype: object"
      ]
     },
     "execution_count": 6,
     "metadata": {},
     "output_type": "execute_result"
    }
   ],
   "source": [
    "ex2A = ['k','w','z','y']\n",
    "pd.Series(ex2A)"
   ]
  },
  {
   "cell_type": "code",
   "execution_count": 7,
   "id": "db0d1577",
   "metadata": {},
   "outputs": [
    {
     "data": {
      "text/plain": [
       "a    10\n",
       "b    30\n",
       "c    15\n",
       "d    12\n",
       "dtype: int64"
      ]
     },
     "execution_count": 7,
     "metadata": {},
     "output_type": "execute_result"
    }
   ],
   "source": [
    "ex2B = {'a':10,'b':30,'c':15,'d':12}\n",
    "pd.Series(ex2B)"
   ]
  },
  {
   "cell_type": "code",
   "execution_count": 8,
   "id": "4dc09ef2",
   "metadata": {},
   "outputs": [
    {
     "data": {
      "text/plain": [
       "[10, 30, 15, 12]"
      ]
     },
     "execution_count": 8,
     "metadata": {},
     "output_type": "execute_result"
    }
   ],
   "source": [
    "ex2C = pd.Series(ex2B).to_list()\n",
    "ex2C"
   ]
  },
  {
   "cell_type": "code",
   "execution_count": 9,
   "id": "e10934b1",
   "metadata": {},
   "outputs": [
    {
     "data": {
      "text/html": [
       "<div>\n",
       "<style scoped>\n",
       "    .dataframe tbody tr th:only-of-type {\n",
       "        vertical-align: middle;\n",
       "    }\n",
       "\n",
       "    .dataframe tbody tr th {\n",
       "        vertical-align: top;\n",
       "    }\n",
       "\n",
       "    .dataframe thead th {\n",
       "        text-align: right;\n",
       "    }\n",
       "</style>\n",
       "<table border=\"1\" class=\"dataframe\">\n",
       "  <thead>\n",
       "    <tr style=\"text-align: right;\">\n",
       "      <th></th>\n",
       "      <th>Letters</th>\n",
       "    </tr>\n",
       "  </thead>\n",
       "  <tbody>\n",
       "    <tr>\n",
       "      <th>0</th>\n",
       "      <td>k</td>\n",
       "    </tr>\n",
       "    <tr>\n",
       "      <th>1</th>\n",
       "      <td>w</td>\n",
       "    </tr>\n",
       "    <tr>\n",
       "      <th>2</th>\n",
       "      <td>z</td>\n",
       "    </tr>\n",
       "    <tr>\n",
       "      <th>3</th>\n",
       "      <td>y</td>\n",
       "    </tr>\n",
       "  </tbody>\n",
       "</table>\n",
       "</div>"
      ],
      "text/plain": [
       "  Letters\n",
       "0       k\n",
       "1       w\n",
       "2       z\n",
       "3       y"
      ]
     },
     "execution_count": 9,
     "metadata": {},
     "output_type": "execute_result"
    }
   ],
   "source": [
    "pd.DataFrame((ex2A), columns=['Letters'])"
   ]
  },
  {
   "cell_type": "code",
   "execution_count": 10,
   "id": "eec46b70",
   "metadata": {},
   "outputs": [
    {
     "data": {
      "text/html": [
       "<div>\n",
       "<style scoped>\n",
       "    .dataframe tbody tr th:only-of-type {\n",
       "        vertical-align: middle;\n",
       "    }\n",
       "\n",
       "    .dataframe tbody tr th {\n",
       "        vertical-align: top;\n",
       "    }\n",
       "\n",
       "    .dataframe thead th {\n",
       "        text-align: right;\n",
       "    }\n",
       "</style>\n",
       "<table border=\"1\" class=\"dataframe\">\n",
       "  <thead>\n",
       "    <tr style=\"text-align: right;\">\n",
       "      <th></th>\n",
       "      <th>Numbers</th>\n",
       "    </tr>\n",
       "  </thead>\n",
       "  <tbody>\n",
       "    <tr>\n",
       "      <th>0</th>\n",
       "      <td>10</td>\n",
       "    </tr>\n",
       "    <tr>\n",
       "      <th>1</th>\n",
       "      <td>30</td>\n",
       "    </tr>\n",
       "    <tr>\n",
       "      <th>2</th>\n",
       "      <td>15</td>\n",
       "    </tr>\n",
       "    <tr>\n",
       "      <th>3</th>\n",
       "      <td>12</td>\n",
       "    </tr>\n",
       "  </tbody>\n",
       "</table>\n",
       "</div>"
      ],
      "text/plain": [
       "   Numbers\n",
       "0       10\n",
       "1       30\n",
       "2       15\n",
       "3       12"
      ]
     },
     "execution_count": 10,
     "metadata": {},
     "output_type": "execute_result"
    }
   ],
   "source": [
    "pd.DataFrame((ex2C), columns=['Numbers'])"
   ]
  },
  {
   "cell_type": "markdown",
   "id": "c72c3dc3",
   "metadata": {},
   "source": [
    "---\n",
    "## Exercise 3: \n",
    "Use the NumPy library to create the following Series object.\n",
    "\n",
    "\n",
    "    25     1.0\n",
    "    26     3.0\n",
    "    27     5.0\n",
    "    28     7.0\n",
    "    29     9.0\n",
    "    30    11.0\n",
    "    31    13.0\n",
    "    32    15.0\n",
    "    33    17.0\n",
    "    34    19.0\n",
    "    35    21.0\n",
    "    36    23.0\n",
    "    37    25.0\n",
    "    38    27.0\n",
    "    39    29.0\n",
    "    40    31.0\n",
    "    41    33.0\n",
    "    42    35.0\n",
    "    43    37.0\n",
    "    44    39.0\n",
    "    45    41.0\n",
    "    46    43.0\n",
    "    47    45.0\n",
    "    48    47.0\n",
    "    49    49.0\n",
    "    Name: Serie, dtype: float64"
   ]
  },
  {
   "cell_type": "code",
   "execution_count": 11,
   "id": "4918116e",
   "metadata": {},
   "outputs": [
    {
     "data": {
      "text/plain": [
       "25     1.0\n",
       "26     3.0\n",
       "27     5.0\n",
       "28     7.0\n",
       "29     9.0\n",
       "30    11.0\n",
       "31    13.0\n",
       "32    15.0\n",
       "33    17.0\n",
       "34    19.0\n",
       "35    21.0\n",
       "36    23.0\n",
       "37    25.0\n",
       "38    27.0\n",
       "39    29.0\n",
       "40    31.0\n",
       "41    33.0\n",
       "42    35.0\n",
       "43    37.0\n",
       "44    39.0\n",
       "45    41.0\n",
       "46    43.0\n",
       "47    45.0\n",
       "48    47.0\n",
       "49    49.0\n",
       "dtype: float64"
      ]
     },
     "execution_count": 11,
     "metadata": {},
     "output_type": "execute_result"
    }
   ],
   "source": [
    "pd.Series(data = np.arange(1,50,2),index = np.arange(25,50), dtype= float)"
   ]
  },
  {
   "cell_type": "markdown",
   "id": "bd66a01b",
   "metadata": {},
   "source": [
    "---\n",
    "## Exercise 4:\n",
    "a) From the list below, create an object of type Series with pandas.\n",
    "\n",
    "\n",
    "    data = ['ITUB4', 'BBDC4', 'BBAS3', 'BPAC11', 'SANB11']\n",
    "\n",
    "\n",
    "Expected result:\n",
    "\n",
    "    1     ITUB4\n",
    "    2     BBDC4\n",
    "    3     BBAS3\n",
    "    4    BPAC11\n",
    "    5    SANB11\n",
    "    Name: Prices, dtype: object\n",
    "\n",
    "\n",
    "b) Convert the Series to a dictionary.\n",
    "\n",
    "c) Convert the Series to a list.\n",
    "\n",
    "d) Convert the Series to a numpy.ndarray object."
   ]
  },
  {
   "cell_type": "code",
   "execution_count": 12,
   "id": "713ecd26",
   "metadata": {},
   "outputs": [
    {
     "data": {
      "text/plain": [
       "0     ITUB4\n",
       "1     BBDC4\n",
       "2     BBAS3\n",
       "3    BPAC11\n",
       "4    SANB11\n",
       "dtype: object"
      ]
     },
     "execution_count": 12,
     "metadata": {},
     "output_type": "execute_result"
    }
   ],
   "source": [
    "data = ['ITUB4', 'BBDC4', 'BBAS3', 'BPAC11', 'SANB11']\n",
    "ex4A = pd.Series(data)\n",
    "ex4A"
   ]
  },
  {
   "cell_type": "code",
   "execution_count": 13,
   "id": "8397e958",
   "metadata": {},
   "outputs": [
    {
     "data": {
      "text/plain": [
       "{0: 'ITUB4', 1: 'BBDC4', 2: 'BBAS3', 3: 'BPAC11', 4: 'SANB11'}"
      ]
     },
     "execution_count": 13,
     "metadata": {},
     "output_type": "execute_result"
    }
   ],
   "source": [
    "ex4B = ex4A.to_dict()\n",
    "ex4B"
   ]
  },
  {
   "cell_type": "code",
   "execution_count": 14,
   "id": "0eef7c2d",
   "metadata": {},
   "outputs": [
    {
     "data": {
      "text/plain": [
       "['ITUB4', 'BBDC4', 'BBAS3', 'BPAC11', 'SANB11']"
      ]
     },
     "execution_count": 14,
     "metadata": {},
     "output_type": "execute_result"
    }
   ],
   "source": [
    "ex4C = ex4A.to_list()\n",
    "ex4C"
   ]
  },
  {
   "cell_type": "code",
   "execution_count": 15,
   "id": "55fa32a0",
   "metadata": {},
   "outputs": [
    {
     "data": {
      "text/plain": [
       "array(['ITUB4', 'BBDC4', 'BBAS3', 'BPAC11', 'SANB11'], dtype=object)"
      ]
     },
     "execution_count": 15,
     "metadata": {},
     "output_type": "execute_result"
    }
   ],
   "source": [
    "ex4D = ex4A.to_numpy()\n",
    "ex4D"
   ]
  },
  {
   "cell_type": "markdown",
   "id": "d46724d1",
   "metadata": {},
   "source": [
    "---\n",
    "## Exercise 5:\n",
    "a) From the dictionary below, create an object of type Series and store it in a variable. Then, convert the created object to a list. Finally, create a DataFrame with the available data.\n",
    "\n",
    "\n",
    "    data = {\n",
    "        'ABEV3':12.85,\n",
    "        'AZUL4':22.55,\n",
    "        'BTOW3':115.08,\n",
    "        'RENT3':49.03,\n",
    "        'JBSS3':24.41,\n",
    "        }\n",
    "\n",
    "\n",
    "b) Add the new values to the created Series:\n",
    "\n",
    "\n",
    "    RAIL3: 18.93\n",
    "    SUZB3: 48.19\n",
    "    MGLU3: 25.59"
   ]
  },
  {
   "cell_type": "code",
   "execution_count": 16,
   "id": "5b8ff6e8",
   "metadata": {},
   "outputs": [
    {
     "data": {
      "text/plain": [
       "ABEV3     12.85\n",
       "AZUL4     22.55\n",
       "BTOW3    115.08\n",
       "RENT3     49.03\n",
       "JBSS3     24.41\n",
       "dtype: float64"
      ]
     },
     "execution_count": 16,
     "metadata": {},
     "output_type": "execute_result"
    }
   ],
   "source": [
    "data = {\n",
    "    'ABEV3':12.85,\n",
    "    'AZUL4':22.55,\n",
    "    'BTOW3':115.08,\n",
    "    'RENT3':49.03,\n",
    "    'JBSS3':24.41,\n",
    "    }\n",
    "ex5A_0 = pd.Series(data)\n",
    "ex5A_0"
   ]
  },
  {
   "cell_type": "code",
   "execution_count": 17,
   "id": "01b53e20",
   "metadata": {},
   "outputs": [
    {
     "data": {
      "text/plain": [
       "[12.85, 22.55, 115.08, 49.03, 24.41]"
      ]
     },
     "execution_count": 17,
     "metadata": {},
     "output_type": "execute_result"
    }
   ],
   "source": [
    "ex5A_1 = ex5A_0.to_list()\n",
    "ex5A_1"
   ]
  },
  {
   "cell_type": "code",
   "execution_count": 18,
   "id": "bb39cc6e",
   "metadata": {},
   "outputs": [
    {
     "data": {
      "text/html": [
       "<div>\n",
       "<style scoped>\n",
       "    .dataframe tbody tr th:only-of-type {\n",
       "        vertical-align: middle;\n",
       "    }\n",
       "\n",
       "    .dataframe tbody tr th {\n",
       "        vertical-align: top;\n",
       "    }\n",
       "\n",
       "    .dataframe thead th {\n",
       "        text-align: right;\n",
       "    }\n",
       "</style>\n",
       "<table border=\"1\" class=\"dataframe\">\n",
       "  <thead>\n",
       "    <tr style=\"text-align: right;\">\n",
       "      <th></th>\n",
       "      <th>Prices</th>\n",
       "    </tr>\n",
       "  </thead>\n",
       "  <tbody>\n",
       "    <tr>\n",
       "      <th>0</th>\n",
       "      <td>12.85</td>\n",
       "    </tr>\n",
       "    <tr>\n",
       "      <th>1</th>\n",
       "      <td>22.55</td>\n",
       "    </tr>\n",
       "    <tr>\n",
       "      <th>2</th>\n",
       "      <td>115.08</td>\n",
       "    </tr>\n",
       "    <tr>\n",
       "      <th>3</th>\n",
       "      <td>49.03</td>\n",
       "    </tr>\n",
       "    <tr>\n",
       "      <th>4</th>\n",
       "      <td>24.41</td>\n",
       "    </tr>\n",
       "  </tbody>\n",
       "</table>\n",
       "</div>"
      ],
      "text/plain": [
       "   Prices\n",
       "0   12.85\n",
       "1   22.55\n",
       "2  115.08\n",
       "3   49.03\n",
       "4   24.41"
      ]
     },
     "execution_count": 18,
     "metadata": {},
     "output_type": "execute_result"
    }
   ],
   "source": [
    "ex5A_2 = pd.DataFrame(ex5A_1, columns=['Prices'])\n",
    "ex5A_2"
   ]
  },
  {
   "cell_type": "code",
   "execution_count": 19,
   "id": "7dd28d0c",
   "metadata": {},
   "outputs": [
    {
     "data": {
      "text/plain": [
       "ABEV3     12.85\n",
       "AZUL4     22.55\n",
       "BTOW3    115.08\n",
       "RENT3     49.03\n",
       "JBSS3     24.41\n",
       "RAIL3     18.93\n",
       "SUZB3     48.19\n",
       "MGLU3     25.59\n",
       "dtype: float64"
      ]
     },
     "execution_count": 19,
     "metadata": {},
     "output_type": "execute_result"
    }
   ],
   "source": [
    "ex5A_0['RAIL3'] =  18.93\n",
    "ex5A_0['SUZB3'] =  48.19\n",
    "ex5A_0['MGLU3'] =  25.59\n",
    "ex5A_0"
   ]
  },
  {
   "cell_type": "markdown",
   "id": "5ffca8e0",
   "metadata": {},
   "source": [
    "---\n",
    "## Exercise 6:\n",
    "Add the three new values to the Series below.\n",
    "\n",
    "\n",
    "    PETR4:22,97;\n",
    "    NTCO3:50,60;\n",
    "    TIMP3:14,82.\n",
    "\n",
    "\n",
    "    data = {\n",
    "        'ABEV3':12.85,\n",
    "        'AZUL4':22.55,\n",
    "        'BTOW3':115.08,\n",
    "        'RENT3':49.03,\n",
    "        'JBSS3':24.41,\n",
    "        } \n",
    "     \n",
    "    serie = pd.Series(data)\n",
    "\n",
    "\n",
    "Expected result:\n",
    "\n",
    "\n",
    "    ABEV3     12.85\n",
    "    AZUL4     22.55\n",
    "    BTOW3    115.08\n",
    "    RENT3     49.03\n",
    "    JBSS3     24.41\n",
    "    PETR4     22.97\n",
    "    NTCO3     50.60\n",
    "    TIMP3     14.82\n",
    "    dtype: float64"
   ]
  },
  {
   "cell_type": "code",
   "execution_count": 20,
   "id": "81ea2773",
   "metadata": {},
   "outputs": [
    {
     "data": {
      "text/plain": [
       "ABEV3     12.85\n",
       "AZUL4     22.55\n",
       "BTOW3    115.08\n",
       "RENT3     49.03\n",
       "JBSS3     24.41\n",
       "dtype: float64"
      ]
     },
     "execution_count": 20,
     "metadata": {},
     "output_type": "execute_result"
    }
   ],
   "source": [
    "data = {\n",
    "    'ABEV3':12.85,\n",
    "    'AZUL4':22.55,\n",
    "    'BTOW3':115.08,\n",
    "    'RENT3':49.03,\n",
    "    'JBSS3':24.41,\n",
    "    } \n",
    "\n",
    "ex6A = pd.Series(data)\n",
    "ex6A"
   ]
  },
  {
   "cell_type": "code",
   "execution_count": 21,
   "id": "e658997d",
   "metadata": {},
   "outputs": [
    {
     "data": {
      "text/plain": [
       "ABEV3     12.85\n",
       "AZUL4     22.55\n",
       "BTOW3    115.08\n",
       "RENT3     49.03\n",
       "JBSS3     24.41\n",
       "PETR4     22.97\n",
       "NTCO3     50.60\n",
       "TIMP3     14.82\n",
       "dtype: float64"
      ]
     },
     "execution_count": 21,
     "metadata": {},
     "output_type": "execute_result"
    }
   ],
   "source": [
    "ex6A['PETR4'] = 22.97\n",
    "ex6A['NTCO3'] = 50.60\n",
    "ex6A['TIMP3'] = 14.82\n",
    "ex6A"
   ]
  },
  {
   "cell_type": "markdown",
   "id": "9e7e3ea0",
   "metadata": {},
   "source": [
    "---\n",
    "## Exercise 7: \n",
    "Create Series A and B below :\n",
    "\n",
    "A:\n",
    "\n",
    "    A     1\n",
    "    B     3\n",
    "    C     5\n",
    "    D     7\n",
    "    E     9\n",
    "    F    11\n",
    "    G    13\n",
    "    H    15\n",
    "    I    17\n",
    "    J    19\n",
    "    dtype: int64\n",
    "\n",
    "B:\n",
    "\n",
    "    F     5\n",
    "    G    10\n",
    "    H    15\n",
    "    I    20\n",
    "    J    25\n",
    "    K    30\n",
    "    L    35\n",
    "    M    40\n",
    "    N    45\n",
    "    dtype: int64"
   ]
  },
  {
   "cell_type": "code",
   "execution_count": 22,
   "id": "06eae48f",
   "metadata": {},
   "outputs": [
    {
     "data": {
      "text/plain": [
       "A     1\n",
       "B     3\n",
       "C     5\n",
       "D     7\n",
       "E     9\n",
       "F    11\n",
       "G    13\n",
       "H    15\n",
       "I    17\n",
       "J    19\n",
       "dtype: int32"
      ]
     },
     "execution_count": 22,
     "metadata": {},
     "output_type": "execute_result"
    }
   ],
   "source": [
    "pd.Series(data = np.arange(1,20,2), index= list('ABCDEFGHIJ'))"
   ]
  },
  {
   "cell_type": "code",
   "execution_count": 23,
   "id": "37cc3706",
   "metadata": {},
   "outputs": [
    {
     "data": {
      "text/plain": [
       "F     5\n",
       "G    10\n",
       "H    15\n",
       "I    20\n",
       "J    25\n",
       "K    30\n",
       "L    35\n",
       "M    40\n",
       "N    45\n",
       "dtype: int32"
      ]
     },
     "execution_count": 23,
     "metadata": {},
     "output_type": "execute_result"
    }
   ],
   "source": [
    "pd.Series(data = np.arange(5,46,5), index= list('FGHIJKLMN'))"
   ]
  },
  {
   "cell_type": "markdown",
   "id": "69d2c196",
   "metadata": {},
   "source": [
    "---\n",
    "## Exercise 8: \n",
    "Build the Series object below and use the .plot () method to generate a graph of the created object.\n",
    "\n",
    "\n",
    "    2020    2197\n",
    "    2010    1728\n",
    "    2000    1331\n",
    "    1990    1000\n",
    "    1980     729\n",
    "    1970     512\n",
    "    1960     343\n",
    "    1950     216\n",
    "    1940     125\n",
    "    1930      64\n",
    "    1920      27\n",
    "    1910       8\n",
    "    1900       1\n",
    "    Name: Crescimento no tempo, dtype: int64\n",
    "\n",
    "\n",
    "The growth rate over time:\n",
    "<img src = https://img-c.udemycdn.com/redactor/raw/article_lecture/2021-01-13_02-00-44-85e527b94d681d66935773a6e2c80226.png>"
   ]
  },
  {
   "cell_type": "code",
   "execution_count": 28,
   "id": "c1a8cadd",
   "metadata": {},
   "outputs": [
    {
     "data": {
      "text/plain": [
       "2020    2197\n",
       "2010    1728\n",
       "2000    1331\n",
       "1990    1000\n",
       "1980     729\n",
       "1970     512\n",
       "1960     343\n",
       "1950     216\n",
       "1940     125\n",
       "1930      64\n",
       "1920      27\n",
       "1910       8\n",
       "1900       1\n",
       "dtype: int64"
      ]
     },
     "execution_count": 28,
     "metadata": {},
     "output_type": "execute_result"
    }
   ],
   "source": [
    "ex8 = pd.Series(data = [i**3 for i in range(1, 14)][::-1], index= np.arange(2020,1899,-10))\n",
    "ex8"
   ]
  },
  {
   "cell_type": "code",
   "execution_count": 32,
   "id": "8bb09105",
   "metadata": {},
   "outputs": [
    {
     "data": {
      "text/plain": [
       "Text(0.5, 1.0, 'Grow Rate Over Time')"
      ]
     },
     "execution_count": 32,
     "metadata": {},
     "output_type": "execute_result"
    },
    {
     "data": {
      "image/png": "[encoded data removed]",
      "text/plain": [
       "<Figure size 432x288 with 1 Axes>"
      ]
     },
     "metadata": {
      "needs_background": "light"
     },
     "output_type": "display_data"
    }
   ],
   "source": [
    "ex8.plot()\n",
    "plt.xlabel(\"Years\")\n",
    "plt.ylabel(\"Grow\")\n",
    "plt.title(\"Grow Rate Over Time\")"
   ]
  },
  {
   "cell_type": "markdown",
   "id": "be42f0fb",
   "metadata": {},
   "source": [
    "---\n",
    "## Exercise 9:\n",
    "Based on the Series below,\n",
    "\n",
    "\n",
    "    import pandas as pd\n",
    "    s = pd.Series([1, 2, 3, 4, 5, 6], index = ['a', 'b', 'c', 'd', 'e', 'f'])\n",
    "\n",
    "\n",
    "Do:\n",
    "\n",
    "a) show the first element;\n",
    "\n",
    "b) show the third element;\n",
    "\n",
    "c) show the first three elements;\n",
    "\n",
    "d) show the last three elements;\n",
    "\n",
    "e) show the last element."
   ]
  },
  {
   "cell_type": "code",
   "execution_count": 33,
   "id": "9f01261b",
   "metadata": {},
   "outputs": [],
   "source": [
    "ex9 = pd.Series([1, 2, 3, 4, 5, 6], index = ['a', 'b', 'c', 'd', 'e', 'f'])"
   ]
  },
  {
   "cell_type": "code",
   "execution_count": 46,
   "id": "705245cd",
   "metadata": {},
   "outputs": [
    {
     "name": "stdout",
     "output_type": "stream",
     "text": [
      "First Element: 1\n",
      "Third Element: 3\n",
      "Last Element: 6\n"
     ]
    }
   ],
   "source": [
    "print(f\"First Element: {ex9.iloc[0]}\")\n",
    "print(f\"Third Element: {ex9.iloc[2]}\")\n",
    "print(f\"Last Element: {ex9.iloc[-1]}\")"
   ]
  },
  {
   "cell_type": "code",
   "execution_count": 47,
   "id": "c2193516",
   "metadata": {},
   "outputs": [
    {
     "name": "stdout",
     "output_type": "stream",
     "text": [
      "First Three Element: \n",
      "a    1\n",
      "b    2\n",
      "c    3\n",
      "dtype: int64\n"
     ]
    }
   ],
   "source": [
    "print(f\"\"\"First Three Element: \n",
    "{ex9.iloc[0:3]}\"\"\")"
   ]
  },
  {
   "cell_type": "code",
   "execution_count": 55,
   "id": "c3b78189",
   "metadata": {},
   "outputs": [
    {
     "name": "stdout",
     "output_type": "stream",
     "text": [
      "First Three Element: \n",
      "d    4\n",
      "e    5\n",
      "f    6\n",
      "dtype: int64\n"
     ]
    }
   ],
   "source": [
    "print(f\"\"\"First Three Element: \n",
    "{ex9.iloc[-3:]}\"\"\")"
   ]
  },
  {
   "cell_type": "markdown",
   "id": "a6548b99",
   "metadata": {},
   "source": [
    "---\n",
    "## Exercise 10: \n",
    "Create a Series and access the following attributes: axes, dtype, empty, ndim, size and values.\n",
    "\n",
    "\n",
    "Being that:\n",
    "\n",
    "    pd.Series(). axes: returns a list with the Series indexes;\n",
    "\n",
    "    pd.Series(). empty: returns a Boolean value, informing whether the object is empty or not;\n",
    "\n",
    "    pd.Series(). ndim: returns the number of dimensions of the object;\n",
    "\n",
    "    pd.Series(). size: returns the size of the Series;\n",
    "\n",
    "    pd.Series(). values: returns the data in a NumPy object (ndarray)"
   ]
  },
  {
   "cell_type": "code",
   "execution_count": 56,
   "id": "ff66f52b",
   "metadata": {},
   "outputs": [],
   "source": [
    "ex10 = pd.Series([1, 2, 3, 4, 5, 6], index = ['a', 'b', 'c', 'd', 'e', 'f'])"
   ]
  },
  {
   "cell_type": "code",
   "execution_count": 59,
   "id": "f8b4d039",
   "metadata": {},
   "outputs": [
    {
     "data": {
      "text/plain": [
       "[Index(['a', 'b', 'c', 'd', 'e', 'f'], dtype='object')]"
      ]
     },
     "execution_count": 59,
     "metadata": {},
     "output_type": "execute_result"
    }
   ],
   "source": [
    "ex10.axes"
   ]
  },
  {
   "cell_type": "code",
   "execution_count": 60,
   "id": "a09e0abe",
   "metadata": {},
   "outputs": [
    {
     "data": {
      "text/plain": [
       "False"
      ]
     },
     "execution_count": 60,
     "metadata": {},
     "output_type": "execute_result"
    }
   ],
   "source": [
    "ex10.empty"
   ]
  },
  {
   "cell_type": "code",
   "execution_count": 61,
   "id": "49a06bfd",
   "metadata": {},
   "outputs": [
    {
     "data": {
      "text/plain": [
       "1"
      ]
     },
     "execution_count": 61,
     "metadata": {},
     "output_type": "execute_result"
    }
   ],
   "source": [
    "ex10.ndim"
   ]
  },
  {
   "cell_type": "code",
   "execution_count": 62,
   "id": "578c209e",
   "metadata": {},
   "outputs": [
    {
     "data": {
      "text/plain": [
       "6"
      ]
     },
     "execution_count": 62,
     "metadata": {},
     "output_type": "execute_result"
    }
   ],
   "source": [
    "ex10.size"
   ]
  },
  {
   "cell_type": "code",
   "execution_count": 63,
   "id": "6ce8ee93",
   "metadata": {},
   "outputs": [
    {
     "data": {
      "text/plain": [
       "array([1, 2, 3, 4, 5, 6], dtype=int64)"
      ]
     },
     "execution_count": 63,
     "metadata": {},
     "output_type": "execute_result"
    }
   ],
   "source": [
    "ex10.values"
   ]
  },
  {
   "cell_type": "markdown",
   "id": "28fe023e",
   "metadata": {},
   "source": [
    "---\n",
    "## Exercise 11:\n",
    "Build the DataFrame below and store it in a variable.\n",
    "\n",
    "\n",
    "    \tA\n",
    "    0\t10\n",
    "    1\t22\n",
    "    2\t3\n",
    "    3\t11\n",
    "    4\t17\n",
    "    5\t22\n",
    "    6\t9\n",
    "    7\t4\n",
    "    8\t29\n",
    "    9\t31"
   ]
  },
  {
   "cell_type": "code",
   "execution_count": 67,
   "id": "44e15f61",
   "metadata": {},
   "outputs": [
    {
     "data": {
      "text/html": [
       "<div>\n",
       "<style scoped>\n",
       "    .dataframe tbody tr th:only-of-type {\n",
       "        vertical-align: middle;\n",
       "    }\n",
       "\n",
       "    .dataframe tbody tr th {\n",
       "        vertical-align: top;\n",
       "    }\n",
       "\n",
       "    .dataframe thead th {\n",
       "        text-align: right;\n",
       "    }\n",
       "</style>\n",
       "<table border=\"1\" class=\"dataframe\">\n",
       "  <thead>\n",
       "    <tr style=\"text-align: right;\">\n",
       "      <th></th>\n",
       "      <th>A</th>\n",
       "    </tr>\n",
       "  </thead>\n",
       "  <tbody>\n",
       "    <tr>\n",
       "      <th>0</th>\n",
       "      <td>10</td>\n",
       "    </tr>\n",
       "    <tr>\n",
       "      <th>1</th>\n",
       "      <td>22</td>\n",
       "    </tr>\n",
       "    <tr>\n",
       "      <th>2</th>\n",
       "      <td>3</td>\n",
       "    </tr>\n",
       "    <tr>\n",
       "      <th>3</th>\n",
       "      <td>11</td>\n",
       "    </tr>\n",
       "    <tr>\n",
       "      <th>4</th>\n",
       "      <td>17</td>\n",
       "    </tr>\n",
       "    <tr>\n",
       "      <th>5</th>\n",
       "      <td>22</td>\n",
       "    </tr>\n",
       "    <tr>\n",
       "      <th>6</th>\n",
       "      <td>9</td>\n",
       "    </tr>\n",
       "    <tr>\n",
       "      <th>7</th>\n",
       "      <td>4</td>\n",
       "    </tr>\n",
       "    <tr>\n",
       "      <th>8</th>\n",
       "      <td>29</td>\n",
       "    </tr>\n",
       "    <tr>\n",
       "      <th>9</th>\n",
       "      <td>31</td>\n",
       "    </tr>\n",
       "  </tbody>\n",
       "</table>\n",
       "</div>"
      ],
      "text/plain": [
       "    A\n",
       "0  10\n",
       "1  22\n",
       "2   3\n",
       "3  11\n",
       "4  17\n",
       "5  22\n",
       "6   9\n",
       "7   4\n",
       "8  29\n",
       "9  31"
      ]
     },
     "execution_count": 67,
     "metadata": {},
     "output_type": "execute_result"
    }
   ],
   "source": [
    "ex11 = pd.DataFrame(data = {'A':[10,22,3,11,17,22,9,4,29,31]})\n",
    "ex11"
   ]
  },
  {
   "cell_type": "markdown",
   "id": "00203f28",
   "metadata": {},
   "source": [
    "---\n",
    "## Exercise 12:\n",
    "Build an object of type DataFrame with the structure below and store it in a variable. Put the data in a Python dictionary.\n",
    "\n",
    "\n",
    "        A  B    C\n",
    "    0  11  1  130\n",
    "    1  33  2  144\n",
    "    2  11  3  111\n",
    "    3  -1  4  104\n",
    "    4   0  5  199"
   ]
  },
  {
   "cell_type": "code",
   "execution_count": 69,
   "id": "9c13ff80",
   "metadata": {},
   "outputs": [],
   "source": [
    "data = {'A':[11,33,11,-1,0],\n",
    "        'B':np.arange(1,6),\n",
    "        'C':[130,144,111,104,199]}"
   ]
  },
  {
   "cell_type": "code",
   "execution_count": 72,
   "id": "7af0f4be",
   "metadata": {},
   "outputs": [
    {
     "data": {
      "text/html": [
       "<div>\n",
       "<style scoped>\n",
       "    .dataframe tbody tr th:only-of-type {\n",
       "        vertical-align: middle;\n",
       "    }\n",
       "\n",
       "    .dataframe tbody tr th {\n",
       "        vertical-align: top;\n",
       "    }\n",
       "\n",
       "    .dataframe thead th {\n",
       "        text-align: right;\n",
       "    }\n",
       "</style>\n",
       "<table border=\"1\" class=\"dataframe\">\n",
       "  <thead>\n",
       "    <tr style=\"text-align: right;\">\n",
       "      <th></th>\n",
       "      <th>A</th>\n",
       "      <th>B</th>\n",
       "      <th>C</th>\n",
       "    </tr>\n",
       "  </thead>\n",
       "  <tbody>\n",
       "    <tr>\n",
       "      <th>0</th>\n",
       "      <td>11</td>\n",
       "      <td>1</td>\n",
       "      <td>130</td>\n",
       "    </tr>\n",
       "    <tr>\n",
       "      <th>1</th>\n",
       "      <td>33</td>\n",
       "      <td>2</td>\n",
       "      <td>144</td>\n",
       "    </tr>\n",
       "    <tr>\n",
       "      <th>2</th>\n",
       "      <td>11</td>\n",
       "      <td>3</td>\n",
       "      <td>111</td>\n",
       "    </tr>\n",
       "    <tr>\n",
       "      <th>3</th>\n",
       "      <td>-1</td>\n",
       "      <td>4</td>\n",
       "      <td>104</td>\n",
       "    </tr>\n",
       "    <tr>\n",
       "      <th>4</th>\n",
       "      <td>0</td>\n",
       "      <td>5</td>\n",
       "      <td>199</td>\n",
       "    </tr>\n",
       "  </tbody>\n",
       "</table>\n",
       "</div>"
      ],
      "text/plain": [
       "    A  B    C\n",
       "0  11  1  130\n",
       "1  33  2  144\n",
       "2  11  3  111\n",
       "3  -1  4  104\n",
       "4   0  5  199"
      ]
     },
     "execution_count": 72,
     "metadata": {},
     "output_type": "execute_result"
    }
   ],
   "source": [
    "pd.DataFrame(data = data)"
   ]
  },
  {
   "cell_type": "markdown",
   "id": "d134ec30",
   "metadata": {},
   "source": [
    "---\n",
    "## Exercise 13: \n",
    "Build an object of type DataFrame with the structure below and store it in a variable. Note that column A corresponds to all even numbers between [1.20] and column B to the cube of each odd number in the same range.\n",
    "\n",
    "Put the data in a Python dictionary and use List Comprehension to build the columns.\n",
    "\n",
    "\n",
    "        A     B\n",
    "    1    2     1\n",
    "    2    4    27\n",
    "    3    6   125\n",
    "    4    8   343\n",
    "    5   10   729\n",
    "    6   12  1331\n",
    "    7   14  2197\n",
    "    8   16  3375\n",
    "    9   18  4913\n",
    "    10  20  6859"
   ]
  },
  {
   "cell_type": "code",
   "execution_count": 79,
   "id": "6b31cf8c",
   "metadata": {},
   "outputs": [],
   "source": [
    "dic = {'A' : np.arange(2,21,2),\n",
    "    'B' : [i**3 for i in range(1, 20,2)]}"
   ]
  },
  {
   "cell_type": "code",
   "execution_count": 82,
   "id": "d0cdf11c",
   "metadata": {},
   "outputs": [
    {
     "data": {
      "text/html": [
       "<div>\n",
       "<style scoped>\n",
       "    .dataframe tbody tr th:only-of-type {\n",
       "        vertical-align: middle;\n",
       "    }\n",
       "\n",
       "    .dataframe tbody tr th {\n",
       "        vertical-align: top;\n",
       "    }\n",
       "\n",
       "    .dataframe thead th {\n",
       "        text-align: right;\n",
       "    }\n",
       "</style>\n",
       "<table border=\"1\" class=\"dataframe\">\n",
       "  <thead>\n",
       "    <tr style=\"text-align: right;\">\n",
       "      <th></th>\n",
       "      <th>A</th>\n",
       "      <th>B</th>\n",
       "    </tr>\n",
       "  </thead>\n",
       "  <tbody>\n",
       "    <tr>\n",
       "      <th>0</th>\n",
       "      <td>2</td>\n",
       "      <td>1</td>\n",
       "    </tr>\n",
       "    <tr>\n",
       "      <th>1</th>\n",
       "      <td>4</td>\n",
       "      <td>27</td>\n",
       "    </tr>\n",
       "    <tr>\n",
       "      <th>2</th>\n",
       "      <td>6</td>\n",
       "      <td>125</td>\n",
       "    </tr>\n",
       "    <tr>\n",
       "      <th>3</th>\n",
       "      <td>8</td>\n",
       "      <td>343</td>\n",
       "    </tr>\n",
       "    <tr>\n",
       "      <th>4</th>\n",
       "      <td>10</td>\n",
       "      <td>729</td>\n",
       "    </tr>\n",
       "    <tr>\n",
       "      <th>5</th>\n",
       "      <td>12</td>\n",
       "      <td>1331</td>\n",
       "    </tr>\n",
       "    <tr>\n",
       "      <th>6</th>\n",
       "      <td>14</td>\n",
       "      <td>2197</td>\n",
       "    </tr>\n",
       "    <tr>\n",
       "      <th>7</th>\n",
       "      <td>16</td>\n",
       "      <td>3375</td>\n",
       "    </tr>\n",
       "    <tr>\n",
       "      <th>8</th>\n",
       "      <td>18</td>\n",
       "      <td>4913</td>\n",
       "    </tr>\n",
       "    <tr>\n",
       "      <th>9</th>\n",
       "      <td>20</td>\n",
       "      <td>6859</td>\n",
       "    </tr>\n",
       "  </tbody>\n",
       "</table>\n",
       "</div>"
      ],
      "text/plain": [
       "    A     B\n",
       "0   2     1\n",
       "1   4    27\n",
       "2   6   125\n",
       "3   8   343\n",
       "4  10   729\n",
       "5  12  1331\n",
       "6  14  2197\n",
       "7  16  3375\n",
       "8  18  4913\n",
       "9  20  6859"
      ]
     },
     "execution_count": 82,
     "metadata": {},
     "output_type": "execute_result"
    }
   ],
   "source": [
    "ex13 = pd.DataFrame(data = dic)\n",
    "ex13"
   ]
  },
  {
   "cell_type": "markdown",
   "id": "763129b5",
   "metadata": {},
   "source": [
    "---\n",
    "## Exercise 14: \n",
    "For the previous DataFrame, plot a line graph and add a new column with the square of each odd number in the range [1.20]. To do so, use: df.plot()."
   ]
  },
  {
   "cell_type": "code",
   "execution_count": 87,
   "id": "0725cb83",
   "metadata": {},
   "outputs": [
    {
     "data": {
      "text/plain": [
       "<AxesSubplot:>"
      ]
     },
     "execution_count": 87,
     "metadata": {},
     "output_type": "execute_result"
    },
    {
     "data": {
      "image/png": "[encoded data removed]",
      "text/plain": [
       "<Figure size 432x288 with 1 Axes>"
      ]
     },
     "metadata": {
      "needs_background": "light"
     },
     "output_type": "display_data"
    }
   ],
   "source": [
    "ex14A = ex13\n",
    "ex14B = [i**2 for i in range(1, 20,2)]\n",
    "ex14A[\"C\"] = ex14B\n",
    "ex14A.plot()"
   ]
  },
  {
   "cell_type": "markdown",
   "id": "1687e62a",
   "metadata": {},
   "source": [
    "---\n",
    "## Exercise 15: \n",
    "Build the DataFrame below that represents the prices registered for four products between 2010 to 2019, generate a visualization with the method previously seen. Use NumPy to generate prices (random numbers), according to a normal distribution of mean 800 and standard deviation 30, for the respective columns. To do so, use the np.random.normal() function. \n",
    "<img src = https://img-c.udemycdn.com/redactor/raw/article_lecture/2021-05-18_13-21-15-836e91f4a2ba3da09dd1619fa582d1fa.png>\n",
    "Expected visualization:\n",
    "<img src = https://img-c.udemycdn.com/redactor/raw/article_lecture/2021-05-18_13-23-05-f809d890d745f624710ae533624a1009.png>"
   ]
  },
  {
   "cell_type": "code",
   "execution_count": 105,
   "id": "6592ae1b",
   "metadata": {},
   "outputs": [
    {
     "data": {
      "text/html": [
       "<div>\n",
       "<style scoped>\n",
       "    .dataframe tbody tr th:only-of-type {\n",
       "        vertical-align: middle;\n",
       "    }\n",
       "\n",
       "    .dataframe tbody tr th {\n",
       "        vertical-align: top;\n",
       "    }\n",
       "\n",
       "    .dataframe thead th {\n",
       "        text-align: right;\n",
       "    }\n",
       "</style>\n",
       "<table border=\"1\" class=\"dataframe\">\n",
       "  <thead>\n",
       "    <tr style=\"text-align: right;\">\n",
       "      <th>Products</th>\n",
       "      <th>A</th>\n",
       "      <th>B</th>\n",
       "      <th>C</th>\n",
       "      <th>D</th>\n",
       "    </tr>\n",
       "  </thead>\n",
       "  <tbody>\n",
       "    <tr>\n",
       "      <th>2010</th>\n",
       "      <td>846.705925</td>\n",
       "      <td>767.840476</td>\n",
       "      <td>794.155376</td>\n",
       "      <td>812.019994</td>\n",
       "    </tr>\n",
       "    <tr>\n",
       "      <th>2011</th>\n",
       "      <td>770.613153</td>\n",
       "      <td>787.937115</td>\n",
       "      <td>731.885316</td>\n",
       "      <td>781.888205</td>\n",
       "    </tr>\n",
       "    <tr>\n",
       "      <th>2012</th>\n",
       "      <td>786.472250</td>\n",
       "      <td>781.260812</td>\n",
       "      <td>821.810727</td>\n",
       "      <td>794.119010</td>\n",
       "    </tr>\n",
       "    <tr>\n",
       "      <th>2013</th>\n",
       "      <td>835.840035</td>\n",
       "      <td>840.111224</td>\n",
       "      <td>761.239985</td>\n",
       "      <td>840.265122</td>\n",
       "    </tr>\n",
       "    <tr>\n",
       "      <th>2014</th>\n",
       "      <td>788.523088</td>\n",
       "      <td>820.900032</td>\n",
       "      <td>749.481738</td>\n",
       "      <td>823.237996</td>\n",
       "    </tr>\n",
       "    <tr>\n",
       "      <th>2015</th>\n",
       "      <td>841.890445</td>\n",
       "      <td>729.362738</td>\n",
       "      <td>797.259770</td>\n",
       "      <td>789.364383</td>\n",
       "    </tr>\n",
       "    <tr>\n",
       "      <th>2016</th>\n",
       "      <td>826.510059</td>\n",
       "      <td>790.365170</td>\n",
       "      <td>792.807168</td>\n",
       "      <td>813.313868</td>\n",
       "    </tr>\n",
       "    <tr>\n",
       "      <th>2017</th>\n",
       "      <td>830.759201</td>\n",
       "      <td>763.600933</td>\n",
       "      <td>815.241711</td>\n",
       "      <td>803.198157</td>\n",
       "    </tr>\n",
       "    <tr>\n",
       "      <th>2018</th>\n",
       "      <td>794.794127</td>\n",
       "      <td>845.429414</td>\n",
       "      <td>800.354927</td>\n",
       "      <td>802.426081</td>\n",
       "    </tr>\n",
       "    <tr>\n",
       "      <th>2019</th>\n",
       "      <td>815.326524</td>\n",
       "      <td>758.339755</td>\n",
       "      <td>795.295538</td>\n",
       "      <td>858.819780</td>\n",
       "    </tr>\n",
       "  </tbody>\n",
       "</table>\n",
       "</div>"
      ],
      "text/plain": [
       "Products           A           B           C           D\n",
       "2010      846.705925  767.840476  794.155376  812.019994\n",
       "2011      770.613153  787.937115  731.885316  781.888205\n",
       "2012      786.472250  781.260812  821.810727  794.119010\n",
       "2013      835.840035  840.111224  761.239985  840.265122\n",
       "2014      788.523088  820.900032  749.481738  823.237996\n",
       "2015      841.890445  729.362738  797.259770  789.364383\n",
       "2016      826.510059  790.365170  792.807168  813.313868\n",
       "2017      830.759201  763.600933  815.241711  803.198157\n",
       "2018      794.794127  845.429414  800.354927  802.426081\n",
       "2019      815.326524  758.339755  795.295538  858.819780"
      ]
     },
     "execution_count": 105,
     "metadata": {},
     "output_type": "execute_result"
    }
   ],
   "source": [
    "ex15 = pd.DataFrame(data = np.random.normal(800,30,(10,4)), index = np.arange(2010,2020), columns=list(\"ABCD\"))\n",
    "ex15.columns.name = \"Products\"\n",
    "ex15"
   ]
  },
  {
   "cell_type": "code",
   "execution_count": 106,
   "id": "e4abdf1c",
   "metadata": {},
   "outputs": [
    {
     "data": {
      "text/plain": [
       "Text(0.5, 0, 'Years')"
      ]
     },
     "execution_count": 106,
     "metadata": {},
     "output_type": "execute_result"
    },
    {
     "data": {
      "image/png": "[encoded data removed]",
      "text/plain": [
       "<Figure size 432x288 with 1 Axes>"
      ]
     },
     "metadata": {
      "needs_background": "light"
     },
     "output_type": "display_data"
    }
   ],
   "source": [
    "ex15.plot()\n",
    "plt.xlabel(\"Years\")"
   ]
  },
  {
   "cell_type": "code",
   "execution_count": null,
   "id": "90b4bbd2",
   "metadata": {},
   "outputs": [],
   "source": []
  }
 ],
 "metadata": {
  "kernelspec": {
   "display_name": "Python 3",
   "language": "python",
   "name": "python3"
  },
  "language_info": {
   "codemirror_mode": {
    "name": "ipython",
    "version": 3
   },
   "file_extension": ".py",
   "mimetype": "text/x-python",
   "name": "python",
   "nbconvert_exporter": "python",
   "pygments_lexer": "ipython3",
   "version": "3.8.8"
  }
 },
 "nbformat": 4,
 "nbformat_minor": 5
}
