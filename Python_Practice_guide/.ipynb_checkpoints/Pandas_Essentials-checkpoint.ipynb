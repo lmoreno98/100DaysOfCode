{
 "cells": [
  {
   "cell_type": "code",
   "execution_count": 12,
   "id": "0e015dcd",
   "metadata": {},
   "outputs": [],
   "source": [
    "import pandas as pd\n",
    "import numpy as np"
   ]
  },
  {
   "cell_type": "markdown",
   "id": "2e06de7b",
   "metadata": {},
   "source": [
    "## Exercise 1: \n",
    "A Series (one-dimensional array) from the Pandas library can be created using the constructor:\n",
    "\n",
    "\n",
    "    pd.Series (data, index, dtype, copy)\n",
    "\n",
    "Then, we can create Series objects from arrays, dictionaries, scalars and iterables. Based on this information, answer the following questions.\n",
    "\n",
    "\n",
    "a) From the list below create an object of type Series.\n",
    "\n",
    "\n",
    "    data = ['a', 'b', 'c', 'd']\n",
    "\n",
    "\n",
    "Expected result:\n",
    "\n",
    "\n",
    "    0    a\n",
    "    1    b\n",
    "    2    c\n",
    "    3    d\n",
    "    dtype: object\n",
    "\n",
    "\n",
    "b) From the previous list, obtain:\n",
    "\n",
    "\n",
    "    10    a\n",
    "    11    b\n",
    "    12    c\n",
    "    13    d\n",
    "    dtype: object\n",
    "\n",
    "\n",
    "Tip: Change the index argument.\n",
    "\n",
    "\n",
    "c) Obtain the Series below:\n",
    "\n",
    "\n",
    "    0    10\n",
    "    1    10\n",
    "    2    10\n",
    "    3    10\n",
    "    dtype: int64\n",
    "\n",
    "\n",
    "d) From the array,\n",
    "\n",
    "\n",
    "    import numpy as np\n",
    "    array = np.arange(10,20,2)\n",
    "\n",
    "\n",
    "Obtain the Series below:\n",
    "\n",
    "\n",
    "    1    10.0\n",
    "    2    12.0\n",
    "    3    14.0\n",
    "    4    16.0\n",
    "    5    18.0\n",
    "    dtype: float64"
   ]
  },
  {
   "cell_type": "code",
   "execution_count": 10,
   "id": "b7226d4c",
   "metadata": {},
   "outputs": [
    {
     "data": {
      "text/plain": [
       "0    A\n",
       "1    B\n",
       "2    C\n",
       "3    D\n",
       "dtype: object"
      ]
     },
     "execution_count": 10,
     "metadata": {},
     "output_type": "execute_result"
    }
   ],
   "source": [
    "data =['A','B','C','D']\n",
    "ex1A = pd.Series(data)\n",
    "ex1A"
   ]
  },
  {
   "cell_type": "code",
   "execution_count": 11,
   "id": "ef4b0a32",
   "metadata": {},
   "outputs": [
    {
     "data": {
      "text/plain": [
       "10    A\n",
       "11    B\n",
       "12    C\n",
       "13    D\n",
       "dtype: object"
      ]
     },
     "execution_count": 11,
     "metadata": {},
     "output_type": "execute_result"
    }
   ],
   "source": [
    "index = [10,11,12,13]\n",
    "ex1B = pd.Series(data,index)\n",
    "ex1B"
   ]
  },
  {
   "cell_type": "code",
   "execution_count": 18,
   "id": "c2eea73c",
   "metadata": {},
   "outputs": [
    {
     "data": {
      "text/plain": [
       "0    10\n",
       "1    10\n",
       "2    10\n",
       "3    10\n",
       "dtype: int32"
      ]
     },
     "execution_count": 18,
     "metadata": {},
     "output_type": "execute_result"
    }
   ],
   "source": [
    "data_10 = np.ones(4,int)*10\n",
    "ex1C = pd.Series(data_10)\n",
    "ex1C"
   ]
  },
  {
   "cell_type": "code",
   "execution_count": 21,
   "id": "ae7b7330",
   "metadata": {},
   "outputs": [
    {
     "data": {
      "text/plain": [
       "1    10\n",
       "2    12\n",
       "3    14\n",
       "4    16\n",
       "5    18\n",
       "dtype: int32"
      ]
     },
     "execution_count": 21,
     "metadata": {},
     "output_type": "execute_result"
    }
   ],
   "source": [
    "data = np.arange(10,19,2)\n",
    "index = np.arange(1,6)\n",
    "ex1D = pd.Series(data,index)\n",
    "ex1D"
   ]
  },
  {
   "cell_type": "markdown",
   "id": "25405c7d",
   "metadata": {},
   "source": [
    "---\n",
    "## Exercise 2:\n",
    "A Series (one-dimensional array) from the Pandas library can be created using the constructor:\n",
    "\n",
    "\n",
    "    pd.Series (data, index, dtype, copy)\n",
    "\n",
    "\n",
    "Then, we can create Series objects from arrays, dictionaries, scalars and iterables. Based on this information, answer the following questions.\n",
    "\n",
    "\n",
    "a) From the list below create an object of type Series.\n",
    "\n",
    "    data = ['k','w','z','y']\n",
    "\n",
    "\n",
    "Expected result:\n",
    "\n",
    "\n",
    "    0    k\n",
    "    1    w\n",
    "    2    z\n",
    "    3    y\n",
    "    dtype: object\n",
    "\n",
    "\n",
    "b) From the dictionary below create an object of type Series.\n",
    "\n",
    "\n",
    "    dic = {'a':10,'b':30,'c':15,'d':12}\n",
    "\n",
    "\n",
    "Expected result:\n",
    "\n",
    "\n",
    "    a    10\n",
    "    b    30\n",
    "    c    15\n",
    "    d    12\n",
    "    dtype: int64\n",
    "\n",
    "\n",
    "c) Convert to a list the Series objects created previously.\n",
    "\n",
    "\n",
    "Tip: use the pandas to_list() method.\n",
    "\n",
    "\n",
    "d) Convert Series objects created in letters a) and b) to DataFrame. Enter a name for the columns. Use the pd.DataFrame() constructor.\n",
    "\n",
    "\n",
    "Expected Results:\n",
    "\n",
    "\n",
    "    \tLetters\n",
    "    0\tk\n",
    "    1\tw\n",
    "    2\tz\n",
    "    3\ty\n",
    "\n",
    "\n",
    "        Values\n",
    "    a\t10\n",
    "    b\t30\n",
    "    c\t15\n",
    "    d\t12\n",
    "\n",
    "\n"
   ]
  },
  {
   "cell_type": "code",
   "execution_count": 22,
   "id": "d06090da",
   "metadata": {},
   "outputs": [
    {
     "data": {
      "text/plain": [
       "0    k\n",
       "1    w\n",
       "2    z\n",
       "3    y\n",
       "dtype: object"
      ]
     },
     "execution_count": 22,
     "metadata": {},
     "output_type": "execute_result"
    }
   ],
   "source": [
    "ex2A = ['k','w','z','y']\n",
    "pd.Series(ex2A)"
   ]
  },
  {
   "cell_type": "code",
   "execution_count": 23,
   "id": "db0d1577",
   "metadata": {},
   "outputs": [
    {
     "data": {
      "text/plain": [
       "a    10\n",
       "b    30\n",
       "c    15\n",
       "d    12\n",
       "dtype: int64"
      ]
     },
     "execution_count": 23,
     "metadata": {},
     "output_type": "execute_result"
    }
   ],
   "source": [
    "ex2B = {'a':10,'b':30,'c':15,'d':12}\n",
    "pd.Series(ex2B)"
   ]
  },
  {
   "cell_type": "code",
   "execution_count": 25,
   "id": "4dc09ef2",
   "metadata": {},
   "outputs": [
    {
     "data": {
      "text/plain": [
       "[10, 30, 15, 12]"
      ]
     },
     "execution_count": 25,
     "metadata": {},
     "output_type": "execute_result"
    }
   ],
   "source": [
    "ex2C = pd.Series(ex2B).to_list()\n",
    "ex2C"
   ]
  },
  {
   "cell_type": "code",
   "execution_count": 34,
   "id": "e10934b1",
   "metadata": {},
   "outputs": [
    {
     "data": {
      "text/html": [
       "<div>\n",
       "<style scoped>\n",
       "    .dataframe tbody tr th:only-of-type {\n",
       "        vertical-align: middle;\n",
       "    }\n",
       "\n",
       "    .dataframe tbody tr th {\n",
       "        vertical-align: top;\n",
       "    }\n",
       "\n",
       "    .dataframe thead th {\n",
       "        text-align: right;\n",
       "    }\n",
       "</style>\n",
       "<table border=\"1\" class=\"dataframe\">\n",
       "  <thead>\n",
       "    <tr style=\"text-align: right;\">\n",
       "      <th></th>\n",
       "      <th>Letters</th>\n",
       "    </tr>\n",
       "  </thead>\n",
       "  <tbody>\n",
       "    <tr>\n",
       "      <th>0</th>\n",
       "      <td>k</td>\n",
       "    </tr>\n",
       "    <tr>\n",
       "      <th>1</th>\n",
       "      <td>w</td>\n",
       "    </tr>\n",
       "    <tr>\n",
       "      <th>2</th>\n",
       "      <td>z</td>\n",
       "    </tr>\n",
       "    <tr>\n",
       "      <th>3</th>\n",
       "      <td>y</td>\n",
       "    </tr>\n",
       "  </tbody>\n",
       "</table>\n",
       "</div>"
      ],
      "text/plain": [
       "  Letters\n",
       "0       k\n",
       "1       w\n",
       "2       z\n",
       "3       y"
      ]
     },
     "execution_count": 34,
     "metadata": {},
     "output_type": "execute_result"
    }
   ],
   "source": [
    "pd.DataFrame((ex2A), columns=['Letters'])"
   ]
  },
  {
   "cell_type": "code",
   "execution_count": 36,
   "id": "eec46b70",
   "metadata": {},
   "outputs": [
    {
     "data": {
      "text/html": [
       "<div>\n",
       "<style scoped>\n",
       "    .dataframe tbody tr th:only-of-type {\n",
       "        vertical-align: middle;\n",
       "    }\n",
       "\n",
       "    .dataframe tbody tr th {\n",
       "        vertical-align: top;\n",
       "    }\n",
       "\n",
       "    .dataframe thead th {\n",
       "        text-align: right;\n",
       "    }\n",
       "</style>\n",
       "<table border=\"1\" class=\"dataframe\">\n",
       "  <thead>\n",
       "    <tr style=\"text-align: right;\">\n",
       "      <th></th>\n",
       "      <th>Numbers</th>\n",
       "    </tr>\n",
       "  </thead>\n",
       "  <tbody>\n",
       "    <tr>\n",
       "      <th>0</th>\n",
       "      <td>10</td>\n",
       "    </tr>\n",
       "    <tr>\n",
       "      <th>1</th>\n",
       "      <td>30</td>\n",
       "    </tr>\n",
       "    <tr>\n",
       "      <th>2</th>\n",
       "      <td>15</td>\n",
       "    </tr>\n",
       "    <tr>\n",
       "      <th>3</th>\n",
       "      <td>12</td>\n",
       "    </tr>\n",
       "  </tbody>\n",
       "</table>\n",
       "</div>"
      ],
      "text/plain": [
       "   Numbers\n",
       "0       10\n",
       "1       30\n",
       "2       15\n",
       "3       12"
      ]
     },
     "execution_count": 36,
     "metadata": {},
     "output_type": "execute_result"
    }
   ],
   "source": [
    "pd.DataFrame((ex2C), columns=['Numbers'])"
   ]
  },
  {
   "cell_type": "markdown",
   "id": "c72c3dc3",
   "metadata": {},
   "source": [
    "---\n",
    "## Exercise 3: \n",
    "Use the NumPy library to create the following Series object.\n",
    "\n",
    "\n",
    "    25     1.0\n",
    "    26     3.0\n",
    "    27     5.0\n",
    "    28     7.0\n",
    "    29     9.0\n",
    "    30    11.0\n",
    "    31    13.0\n",
    "    32    15.0\n",
    "    33    17.0\n",
    "    34    19.0\n",
    "    35    21.0\n",
    "    36    23.0\n",
    "    37    25.0\n",
    "    38    27.0\n",
    "    39    29.0\n",
    "    40    31.0\n",
    "    41    33.0\n",
    "    42    35.0\n",
    "    43    37.0\n",
    "    44    39.0\n",
    "    45    41.0\n",
    "    46    43.0\n",
    "    47    45.0\n",
    "    48    47.0\n",
    "    49    49.0\n",
    "    Name: Serie, dtype: float64"
   ]
  },
  {
   "cell_type": "code",
   "execution_count": 41,
   "id": "4918116e",
   "metadata": {},
   "outputs": [
    {
     "data": {
      "text/plain": [
       "25     1.0\n",
       "26     3.0\n",
       "27     5.0\n",
       "28     7.0\n",
       "29     9.0\n",
       "30    11.0\n",
       "31    13.0\n",
       "32    15.0\n",
       "33    17.0\n",
       "34    19.0\n",
       "35    21.0\n",
       "36    23.0\n",
       "37    25.0\n",
       "38    27.0\n",
       "39    29.0\n",
       "40    31.0\n",
       "41    33.0\n",
       "42    35.0\n",
       "43    37.0\n",
       "44    39.0\n",
       "45    41.0\n",
       "46    43.0\n",
       "47    45.0\n",
       "48    47.0\n",
       "49    49.0\n",
       "dtype: float64"
      ]
     },
     "execution_count": 41,
     "metadata": {},
     "output_type": "execute_result"
    }
   ],
   "source": [
    "pd.Series(data = np.arange(1,50,2),index = np.arange(25,50), dtype= float)"
   ]
  },
  {
   "cell_type": "markdown",
   "id": "bd66a01b",
   "metadata": {},
   "source": [
    "---\n",
    "## Exercise 4:\n",
    "a) From the list below, create an object of type Series with pandas.\n",
    "\n",
    "\n",
    "    data = ['ITUB4', 'BBDC4', 'BBAS3', 'BPAC11', 'SANB11']\n",
    "\n",
    "\n",
    "Expected result:\n",
    "\n",
    "    1     ITUB4\n",
    "    2     BBDC4\n",
    "    3     BBAS3\n",
    "    4    BPAC11\n",
    "    5    SANB11\n",
    "    Name: Prices, dtype: object\n",
    "\n",
    "\n",
    "b) Convert the Series to a dictionary.\n",
    "\n",
    "c) Convert the Series to a list.\n",
    "\n",
    "d) Convert the Series to a numpy.ndarray object."
   ]
  },
  {
   "cell_type": "code",
   "execution_count": 44,
   "id": "713ecd26",
   "metadata": {},
   "outputs": [
    {
     "data": {
      "text/plain": [
       "0     ITUB4\n",
       "1     BBDC4\n",
       "2     BBAS3\n",
       "3    BPAC11\n",
       "4    SANB11\n",
       "dtype: object"
      ]
     },
     "execution_count": 44,
     "metadata": {},
     "output_type": "execute_result"
    }
   ],
   "source": [
    "data = ['ITUB4', 'BBDC4', 'BBAS3', 'BPAC11', 'SANB11']\n",
    "ex4A = pd.Series(data)\n",
    "ex4A"
   ]
  },
  {
   "cell_type": "code",
   "execution_count": 47,
   "id": "8397e958",
   "metadata": {},
   "outputs": [
    {
     "data": {
      "text/plain": [
       "{0: 'ITUB4', 1: 'BBDC4', 2: 'BBAS3', 3: 'BPAC11', 4: 'SANB11'}"
      ]
     },
     "execution_count": 47,
     "metadata": {},
     "output_type": "execute_result"
    }
   ],
   "source": [
    "ex4B = ex4A.to_dict()\n",
    "ex4B"
   ]
  },
  {
   "cell_type": "code",
   "execution_count": 48,
   "id": "0eef7c2d",
   "metadata": {},
   "outputs": [
    {
     "data": {
      "text/plain": [
       "['ITUB4', 'BBDC4', 'BBAS3', 'BPAC11', 'SANB11']"
      ]
     },
     "execution_count": 48,
     "metadata": {},
     "output_type": "execute_result"
    }
   ],
   "source": [
    "ex4C = ex4A.to_list()\n",
    "ex4C"
   ]
  },
  {
   "cell_type": "code",
   "execution_count": 50,
   "id": "55fa32a0",
   "metadata": {},
   "outputs": [
    {
     "data": {
      "text/plain": [
       "array(['ITUB4', 'BBDC4', 'BBAS3', 'BPAC11', 'SANB11'], dtype=object)"
      ]
     },
     "execution_count": 50,
     "metadata": {},
     "output_type": "execute_result"
    }
   ],
   "source": [
    "ex4D = ex4A.to_numpy()\n",
    "ex4D"
   ]
  },
  {
   "cell_type": "markdown",
   "id": "d46724d1",
   "metadata": {},
   "source": [
    "---\n",
    "## Exercise 5:\n",
    "a) From the dictionary below, create an object of type Series and store it in a variable. Then, convert the created object to a list. Finally, create a DataFrame with the available data.\n",
    "\n",
    "\n",
    "    data = {\n",
    "        'ABEV3':12.85,\n",
    "        'AZUL4':22.55,\n",
    "        'BTOW3':115.08,\n",
    "        'RENT3':49.03,\n",
    "        'JBSS3':24.41,\n",
    "        }\n",
    "\n",
    "\n",
    "b) Add the new values to the created Series:\n",
    "\n",
    "\n",
    "    RAIL3: 18.93\n",
    "    SUZB3: 48.19\n",
    "    MGLU3: 25.59"
   ]
  },
  {
   "cell_type": "code",
   "execution_count": 58,
   "id": "5b8ff6e8",
   "metadata": {},
   "outputs": [
    {
     "data": {
      "text/plain": [
       "ABEV3     12.85\n",
       "AZUL4     22.55\n",
       "BTOW3    115.08\n",
       "RENT3     49.03\n",
       "JBSS3     24.41\n",
       "dtype: float64"
      ]
     },
     "execution_count": 58,
     "metadata": {},
     "output_type": "execute_result"
    }
   ],
   "source": [
    "data = {\n",
    "    'ABEV3':12.85,\n",
    "    'AZUL4':22.55,\n",
    "    'BTOW3':115.08,\n",
    "    'RENT3':49.03,\n",
    "    'JBSS3':24.41,\n",
    "    }\n",
    "ex5A_0 = pd.Series(data)\n",
    "ex5A_0"
   ]
  },
  {
   "cell_type": "code",
   "execution_count": 59,
   "id": "01b53e20",
   "metadata": {},
   "outputs": [
    {
     "data": {
      "text/plain": [
       "[12.85, 22.55, 115.08, 49.03, 24.41]"
      ]
     },
     "execution_count": 59,
     "metadata": {},
     "output_type": "execute_result"
    }
   ],
   "source": [
    "ex5A_1 = ex5A_0.to_list()\n",
    "ex5A_1"
   ]
  },
  {
   "cell_type": "code",
   "execution_count": 60,
   "id": "bb39cc6e",
   "metadata": {},
   "outputs": [
    {
     "data": {
      "text/html": [
       "<div>\n",
       "<style scoped>\n",
       "    .dataframe tbody tr th:only-of-type {\n",
       "        vertical-align: middle;\n",
       "    }\n",
       "\n",
       "    .dataframe tbody tr th {\n",
       "        vertical-align: top;\n",
       "    }\n",
       "\n",
       "    .dataframe thead th {\n",
       "        text-align: right;\n",
       "    }\n",
       "</style>\n",
       "<table border=\"1\" class=\"dataframe\">\n",
       "  <thead>\n",
       "    <tr style=\"text-align: right;\">\n",
       "      <th></th>\n",
       "      <th>Prices</th>\n",
       "    </tr>\n",
       "  </thead>\n",
       "  <tbody>\n",
       "    <tr>\n",
       "      <th>0</th>\n",
       "      <td>12.85</td>\n",
       "    </tr>\n",
       "    <tr>\n",
       "      <th>1</th>\n",
       "      <td>22.55</td>\n",
       "    </tr>\n",
       "    <tr>\n",
       "      <th>2</th>\n",
       "      <td>115.08</td>\n",
       "    </tr>\n",
       "    <tr>\n",
       "      <th>3</th>\n",
       "      <td>49.03</td>\n",
       "    </tr>\n",
       "    <tr>\n",
       "      <th>4</th>\n",
       "      <td>24.41</td>\n",
       "    </tr>\n",
       "  </tbody>\n",
       "</table>\n",
       "</div>"
      ],
      "text/plain": [
       "   Prices\n",
       "0   12.85\n",
       "1   22.55\n",
       "2  115.08\n",
       "3   49.03\n",
       "4   24.41"
      ]
     },
     "execution_count": 60,
     "metadata": {},
     "output_type": "execute_result"
    }
   ],
   "source": [
    "ex5A_2 = pd.DataFrame(ex5A_1, columns=['Prices'])\n",
    "ex5A_2"
   ]
  },
  {
   "cell_type": "code",
   "execution_count": 61,
   "id": "7dd28d0c",
   "metadata": {},
   "outputs": [
    {
     "data": {
      "text/plain": [
       "ABEV3     12.85\n",
       "AZUL4     22.55\n",
       "BTOW3    115.08\n",
       "RENT3     49.03\n",
       "JBSS3     24.41\n",
       "RAIL3     18.93\n",
       "SUZB3     48.19\n",
       "MGLU3     25.59\n",
       "dtype: float64"
      ]
     },
     "execution_count": 61,
     "metadata": {},
     "output_type": "execute_result"
    }
   ],
   "source": [
    "ex5A_0['RAIL3'] =  18.93\n",
    "ex5A_0['SUZB3'] =  48.19\n",
    "ex5A_0['MGLU3'] =  25.59\n",
    "ex5A_0"
   ]
  },
  {
   "cell_type": "markdown",
   "id": "5ffca8e0",
   "metadata": {},
   "source": [
    "---\n",
    "## Exercise 6:\n",
    "Add the three new values to the Series below.\n",
    "\n",
    "\n",
    "    PETR4:22,97;\n",
    "    NTCO3:50,60;\n",
    "    TIMP3:14,82.\n",
    "\n",
    "\n",
    "    data = {\n",
    "        'ABEV3':12.85,\n",
    "        'AZUL4':22.55,\n",
    "        'BTOW3':115.08,\n",
    "        'RENT3':49.03,\n",
    "        'JBSS3':24.41,\n",
    "        } \n",
    "     \n",
    "    serie = pd.Series(data)\n",
    "\n",
    "\n",
    "Expected result:\n",
    "\n",
    "\n",
    "    ABEV3     12.85\n",
    "    AZUL4     22.55\n",
    "    BTOW3    115.08\n",
    "    RENT3     49.03\n",
    "    JBSS3     24.41\n",
    "    PETR4     22.97\n",
    "    NTCO3     50.60\n",
    "    TIMP3     14.82\n",
    "    dtype: float64"
   ]
  },
  {
   "cell_type": "code",
   "execution_count": 65,
   "id": "81ea2773",
   "metadata": {},
   "outputs": [
    {
     "data": {
      "text/plain": [
       "ABEV3     12.85\n",
       "AZUL4     22.55\n",
       "BTOW3    115.08\n",
       "RENT3     49.03\n",
       "JBSS3     24.41\n",
       "dtype: float64"
      ]
     },
     "execution_count": 65,
     "metadata": {},
     "output_type": "execute_result"
    }
   ],
   "source": [
    "data = {\n",
    "    'ABEV3':12.85,\n",
    "    'AZUL4':22.55,\n",
    "    'BTOW3':115.08,\n",
    "    'RENT3':49.03,\n",
    "    'JBSS3':24.41,\n",
    "    } \n",
    "\n",
    "ex6A = pd.Series(data)\n",
    "ex6A"
   ]
  },
  {
   "cell_type": "code",
   "execution_count": 66,
   "id": "e658997d",
   "metadata": {},
   "outputs": [
    {
     "data": {
      "text/plain": [
       "ABEV3     12.85\n",
       "AZUL4     22.55\n",
       "BTOW3    115.08\n",
       "RENT3     49.03\n",
       "JBSS3     24.41\n",
       "PETR4     22.97\n",
       "NTCO3     50.60\n",
       "TIMP3     14.82\n",
       "dtype: float64"
      ]
     },
     "execution_count": 66,
     "metadata": {},
     "output_type": "execute_result"
    }
   ],
   "source": [
    "ex6A['PETR4'] = 22.97\n",
    "ex6A['NTCO3'] = 50.60\n",
    "ex6A['TIMP3'] = 14.82\n",
    "ex6A"
   ]
  },
  {
   "cell_type": "markdown",
   "id": "9e7e3ea0",
   "metadata": {},
   "source": [
    "---\n",
    "## Exercise 7: \n",
    "Create Series A and B below :\n",
    "\n",
    "A:\n",
    "\n",
    "    A     1\n",
    "    B     3\n",
    "    C     5\n",
    "    D     7\n",
    "    E     9\n",
    "    F    11\n",
    "    G    13\n",
    "    H    15\n",
    "    I    17\n",
    "    J    19\n",
    "    dtype: int64\n",
    "\n",
    "B:\n",
    "\n",
    "    F     5\n",
    "    G    10\n",
    "    H    15\n",
    "    I    20\n",
    "    J    25\n",
    "    K    30\n",
    "    L    35\n",
    "    M    40\n",
    "    N    45\n",
    "    dtype: int64"
   ]
  },
  {
   "cell_type": "code",
   "execution_count": 70,
   "id": "06eae48f",
   "metadata": {},
   "outputs": [
    {
     "data": {
      "text/plain": [
       "A     1\n",
       "B     3\n",
       "C     5\n",
       "D     7\n",
       "E     9\n",
       "F    11\n",
       "G    13\n",
       "H    15\n",
       "I    17\n",
       "J    19\n",
       "dtype: int32"
      ]
     },
     "execution_count": 70,
     "metadata": {},
     "output_type": "execute_result"
    }
   ],
   "source": [
    "pd.Series(data = np.arange(1,20,2), index= list('ABCDEFGHIJ'))"
   ]
  },
  {
   "cell_type": "code",
   "execution_count": 71,
   "id": "37cc3706",
   "metadata": {},
   "outputs": [
    {
     "data": {
      "text/plain": [
       "F     5\n",
       "G    10\n",
       "H    15\n",
       "I    20\n",
       "J    25\n",
       "K    30\n",
       "L    35\n",
       "M    40\n",
       "N    45\n",
       "dtype: int32"
      ]
     },
     "execution_count": 71,
     "metadata": {},
     "output_type": "execute_result"
    }
   ],
   "source": [
    "pd.Series(data = np.arange(5,46,5), index= list('FGHIJKLMN'))"
   ]
  },
  {
   "cell_type": "code",
   "execution_count": null,
   "id": "11037753",
   "metadata": {},
   "outputs": [],
   "source": []
  }
 ],
 "metadata": {
  "kernelspec": {
   "display_name": "Python 3",
   "language": "python",
   "name": "python3"
  },
  "language_info": {
   "codemirror_mode": {
    "name": "ipython",
    "version": 3
   },
   "file_extension": ".py",
   "mimetype": "text/x-python",
   "name": "python",
   "nbconvert_exporter": "python",
   "pygments_lexer": "ipython3",
   "version": "3.8.8"
  }
 },
 "nbformat": 4,
 "nbformat_minor": 5
}
