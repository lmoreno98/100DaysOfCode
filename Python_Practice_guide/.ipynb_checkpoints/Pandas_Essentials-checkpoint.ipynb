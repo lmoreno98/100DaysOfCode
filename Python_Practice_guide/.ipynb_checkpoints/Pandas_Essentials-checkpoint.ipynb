{
 "cells": [
  {
   "cell_type": "code",
   "execution_count": 1,
   "id": "0e015dcd",
   "metadata": {},
   "outputs": [],
   "source": [
    "import pandas as pd\n",
    "import numpy as np\n",
    "import matplotlib.pyplot as plt\n",
    "import seaborn as sns"
   ]
  },
  {
   "cell_type": "markdown",
   "id": "2e06de7b",
   "metadata": {},
   "source": [
    "## Exercise 1: \n",
    "A Series (one-dimensional array) from the Pandas library can be created using the constructor:\n",
    "\n",
    "\n",
    "    pd.Series (data, index, dtype, copy)\n",
    "\n",
    "Then, we can create Series objects from arrays, dictionaries, scalars and iterables. Based on this information, answer the following questions.\n",
    "\n",
    "\n",
    "a) From the list below create an object of type Series.\n",
    "\n",
    "\n",
    "    data = ['a', 'b', 'c', 'd']\n",
    "\n",
    "\n",
    "Expected result:\n",
    "\n",
    "\n",
    "    0    a\n",
    "    1    b\n",
    "    2    c\n",
    "    3    d\n",
    "    dtype: object\n",
    "\n",
    "\n",
    "b) From the previous list, obtain:\n",
    "\n",
    "\n",
    "    10    a\n",
    "    11    b\n",
    "    12    c\n",
    "    13    d\n",
    "    dtype: object\n",
    "\n",
    "\n",
    "Tip: Change the index argument.\n",
    "\n",
    "\n",
    "c) Obtain the Series below:\n",
    "\n",
    "\n",
    "    0    10\n",
    "    1    10\n",
    "    2    10\n",
    "    3    10\n",
    "    dtype: int64\n",
    "\n",
    "\n",
    "d) From the array,\n",
    "\n",
    "\n",
    "    import numpy as np\n",
    "    array = np.arange(10,20,2)\n",
    "\n",
    "\n",
    "Obtain the Series below:\n",
    "\n",
    "\n",
    "    1    10.0\n",
    "    2    12.0\n",
    "    3    14.0\n",
    "    4    16.0\n",
    "    5    18.0\n",
    "    dtype: float64"
   ]
  },
  {
   "cell_type": "code",
   "execution_count": 2,
   "id": "b7226d4c",
   "metadata": {},
   "outputs": [
    {
     "data": {
      "text/plain": [
       "0    A\n",
       "1    B\n",
       "2    C\n",
       "3    D\n",
       "dtype: object"
      ]
     },
     "execution_count": 2,
     "metadata": {},
     "output_type": "execute_result"
    }
   ],
   "source": [
    "data =['A','B','C','D']\n",
    "ex1A = pd.Series(data)\n",
    "ex1A"
   ]
  },
  {
   "cell_type": "code",
   "execution_count": 3,
   "id": "ef4b0a32",
   "metadata": {},
   "outputs": [
    {
     "data": {
      "text/plain": [
       "10    A\n",
       "11    B\n",
       "12    C\n",
       "13    D\n",
       "dtype: object"
      ]
     },
     "execution_count": 3,
     "metadata": {},
     "output_type": "execute_result"
    }
   ],
   "source": [
    "index = [10,11,12,13]\n",
    "ex1B = pd.Series(data,index)\n",
    "ex1B"
   ]
  },
  {
   "cell_type": "code",
   "execution_count": 4,
   "id": "c2eea73c",
   "metadata": {},
   "outputs": [
    {
     "data": {
      "text/plain": [
       "0    10\n",
       "1    10\n",
       "2    10\n",
       "3    10\n",
       "dtype: int32"
      ]
     },
     "execution_count": 4,
     "metadata": {},
     "output_type": "execute_result"
    }
   ],
   "source": [
    "data_10 = np.ones(4,int)*10\n",
    "ex1C = pd.Series(data_10)\n",
    "ex1C"
   ]
  },
  {
   "cell_type": "code",
   "execution_count": 5,
   "id": "ae7b7330",
   "metadata": {},
   "outputs": [
    {
     "data": {
      "text/plain": [
       "1    10\n",
       "2    12\n",
       "3    14\n",
       "4    16\n",
       "5    18\n",
       "dtype: int32"
      ]
     },
     "execution_count": 5,
     "metadata": {},
     "output_type": "execute_result"
    }
   ],
   "source": [
    "data = np.arange(10,19,2)\n",
    "index = np.arange(1,6)\n",
    "ex1D = pd.Series(data,index)\n",
    "ex1D"
   ]
  },
  {
   "cell_type": "markdown",
   "id": "25405c7d",
   "metadata": {},
   "source": [
    "---\n",
    "## Exercise 2:\n",
    "A Series (one-dimensional array) from the Pandas library can be created using the constructor:\n",
    "\n",
    "\n",
    "    pd.Series (data, index, dtype, copy)\n",
    "\n",
    "\n",
    "Then, we can create Series objects from arrays, dictionaries, scalars and iterables. Based on this information, answer the following questions.\n",
    "\n",
    "\n",
    "a) From the list below create an object of type Series.\n",
    "\n",
    "    data = ['k','w','z','y']\n",
    "\n",
    "\n",
    "Expected result:\n",
    "\n",
    "\n",
    "    0    k\n",
    "    1    w\n",
    "    2    z\n",
    "    3    y\n",
    "    dtype: object\n",
    "\n",
    "\n",
    "b) From the dictionary below create an object of type Series.\n",
    "\n",
    "\n",
    "    dic = {'a':10,'b':30,'c':15,'d':12}\n",
    "\n",
    "\n",
    "Expected result:\n",
    "\n",
    "\n",
    "    a    10\n",
    "    b    30\n",
    "    c    15\n",
    "    d    12\n",
    "    dtype: int64\n",
    "\n",
    "\n",
    "c) Convert to a list the Series objects created previously.\n",
    "\n",
    "\n",
    "Tip: use the pandas to_list() method.\n",
    "\n",
    "\n",
    "d) Convert Series objects created in letters a) and b) to DataFrame. Enter a name for the columns. Use the pd.DataFrame() constructor.\n",
    "\n",
    "\n",
    "Expected Results:\n",
    "\n",
    "\n",
    "    \tLetters\n",
    "    0\tk\n",
    "    1\tw\n",
    "    2\tz\n",
    "    3\ty\n",
    "\n",
    "\n",
    "        Values\n",
    "    a\t10\n",
    "    b\t30\n",
    "    c\t15\n",
    "    d\t12\n",
    "\n",
    "\n"
   ]
  },
  {
   "cell_type": "code",
   "execution_count": 6,
   "id": "d06090da",
   "metadata": {},
   "outputs": [
    {
     "data": {
      "text/plain": [
       "0    k\n",
       "1    w\n",
       "2    z\n",
       "3    y\n",
       "dtype: object"
      ]
     },
     "execution_count": 6,
     "metadata": {},
     "output_type": "execute_result"
    }
   ],
   "source": [
    "ex2A = ['k','w','z','y']\n",
    "pd.Series(ex2A)"
   ]
  },
  {
   "cell_type": "code",
   "execution_count": 7,
   "id": "db0d1577",
   "metadata": {},
   "outputs": [
    {
     "data": {
      "text/plain": [
       "a    10\n",
       "b    30\n",
       "c    15\n",
       "d    12\n",
       "dtype: int64"
      ]
     },
     "execution_count": 7,
     "metadata": {},
     "output_type": "execute_result"
    }
   ],
   "source": [
    "ex2B = {'a':10,'b':30,'c':15,'d':12}\n",
    "pd.Series(ex2B)"
   ]
  },
  {
   "cell_type": "code",
   "execution_count": 8,
   "id": "4dc09ef2",
   "metadata": {},
   "outputs": [
    {
     "data": {
      "text/plain": [
       "[10, 30, 15, 12]"
      ]
     },
     "execution_count": 8,
     "metadata": {},
     "output_type": "execute_result"
    }
   ],
   "source": [
    "ex2C = pd.Series(ex2B).to_list()\n",
    "ex2C"
   ]
  },
  {
   "cell_type": "code",
   "execution_count": 9,
   "id": "e10934b1",
   "metadata": {},
   "outputs": [
    {
     "data": {
      "text/html": [
       "<div>\n",
       "<style scoped>\n",
       "    .dataframe tbody tr th:only-of-type {\n",
       "        vertical-align: middle;\n",
       "    }\n",
       "\n",
       "    .dataframe tbody tr th {\n",
       "        vertical-align: top;\n",
       "    }\n",
       "\n",
       "    .dataframe thead th {\n",
       "        text-align: right;\n",
       "    }\n",
       "</style>\n",
       "<table border=\"1\" class=\"dataframe\">\n",
       "  <thead>\n",
       "    <tr style=\"text-align: right;\">\n",
       "      <th></th>\n",
       "      <th>Letters</th>\n",
       "    </tr>\n",
       "  </thead>\n",
       "  <tbody>\n",
       "    <tr>\n",
       "      <th>0</th>\n",
       "      <td>k</td>\n",
       "    </tr>\n",
       "    <tr>\n",
       "      <th>1</th>\n",
       "      <td>w</td>\n",
       "    </tr>\n",
       "    <tr>\n",
       "      <th>2</th>\n",
       "      <td>z</td>\n",
       "    </tr>\n",
       "    <tr>\n",
       "      <th>3</th>\n",
       "      <td>y</td>\n",
       "    </tr>\n",
       "  </tbody>\n",
       "</table>\n",
       "</div>"
      ],
      "text/plain": [
       "  Letters\n",
       "0       k\n",
       "1       w\n",
       "2       z\n",
       "3       y"
      ]
     },
     "execution_count": 9,
     "metadata": {},
     "output_type": "execute_result"
    }
   ],
   "source": [
    "pd.DataFrame((ex2A), columns=['Letters'])"
   ]
  },
  {
   "cell_type": "code",
   "execution_count": 10,
   "id": "eec46b70",
   "metadata": {},
   "outputs": [
    {
     "data": {
      "text/html": [
       "<div>\n",
       "<style scoped>\n",
       "    .dataframe tbody tr th:only-of-type {\n",
       "        vertical-align: middle;\n",
       "    }\n",
       "\n",
       "    .dataframe tbody tr th {\n",
       "        vertical-align: top;\n",
       "    }\n",
       "\n",
       "    .dataframe thead th {\n",
       "        text-align: right;\n",
       "    }\n",
       "</style>\n",
       "<table border=\"1\" class=\"dataframe\">\n",
       "  <thead>\n",
       "    <tr style=\"text-align: right;\">\n",
       "      <th></th>\n",
       "      <th>Numbers</th>\n",
       "    </tr>\n",
       "  </thead>\n",
       "  <tbody>\n",
       "    <tr>\n",
       "      <th>0</th>\n",
       "      <td>10</td>\n",
       "    </tr>\n",
       "    <tr>\n",
       "      <th>1</th>\n",
       "      <td>30</td>\n",
       "    </tr>\n",
       "    <tr>\n",
       "      <th>2</th>\n",
       "      <td>15</td>\n",
       "    </tr>\n",
       "    <tr>\n",
       "      <th>3</th>\n",
       "      <td>12</td>\n",
       "    </tr>\n",
       "  </tbody>\n",
       "</table>\n",
       "</div>"
      ],
      "text/plain": [
       "   Numbers\n",
       "0       10\n",
       "1       30\n",
       "2       15\n",
       "3       12"
      ]
     },
     "execution_count": 10,
     "metadata": {},
     "output_type": "execute_result"
    }
   ],
   "source": [
    "pd.DataFrame((ex2C), columns=['Numbers'])"
   ]
  },
  {
   "cell_type": "markdown",
   "id": "c72c3dc3",
   "metadata": {},
   "source": [
    "---\n",
    "## Exercise 3: \n",
    "Use the NumPy library to create the following Series object.\n",
    "\n",
    "\n",
    "    25     1.0\n",
    "    26     3.0\n",
    "    27     5.0\n",
    "    28     7.0\n",
    "    29     9.0\n",
    "    30    11.0\n",
    "    31    13.0\n",
    "    32    15.0\n",
    "    33    17.0\n",
    "    34    19.0\n",
    "    35    21.0\n",
    "    36    23.0\n",
    "    37    25.0\n",
    "    38    27.0\n",
    "    39    29.0\n",
    "    40    31.0\n",
    "    41    33.0\n",
    "    42    35.0\n",
    "    43    37.0\n",
    "    44    39.0\n",
    "    45    41.0\n",
    "    46    43.0\n",
    "    47    45.0\n",
    "    48    47.0\n",
    "    49    49.0\n",
    "    Name: Serie, dtype: float64"
   ]
  },
  {
   "cell_type": "code",
   "execution_count": 11,
   "id": "4918116e",
   "metadata": {},
   "outputs": [
    {
     "data": {
      "text/plain": [
       "25     1.0\n",
       "26     3.0\n",
       "27     5.0\n",
       "28     7.0\n",
       "29     9.0\n",
       "30    11.0\n",
       "31    13.0\n",
       "32    15.0\n",
       "33    17.0\n",
       "34    19.0\n",
       "35    21.0\n",
       "36    23.0\n",
       "37    25.0\n",
       "38    27.0\n",
       "39    29.0\n",
       "40    31.0\n",
       "41    33.0\n",
       "42    35.0\n",
       "43    37.0\n",
       "44    39.0\n",
       "45    41.0\n",
       "46    43.0\n",
       "47    45.0\n",
       "48    47.0\n",
       "49    49.0\n",
       "dtype: float64"
      ]
     },
     "execution_count": 11,
     "metadata": {},
     "output_type": "execute_result"
    }
   ],
   "source": [
    "pd.Series(data = np.arange(1,50,2),index = np.arange(25,50), dtype= float)"
   ]
  },
  {
   "cell_type": "markdown",
   "id": "bd66a01b",
   "metadata": {},
   "source": [
    "---\n",
    "## Exercise 4:\n",
    "a) From the list below, create an object of type Series with pandas.\n",
    "\n",
    "\n",
    "    data = ['ITUB4', 'BBDC4', 'BBAS3', 'BPAC11', 'SANB11']\n",
    "\n",
    "\n",
    "Expected result:\n",
    "\n",
    "    1     ITUB4\n",
    "    2     BBDC4\n",
    "    3     BBAS3\n",
    "    4    BPAC11\n",
    "    5    SANB11\n",
    "    Name: Prices, dtype: object\n",
    "\n",
    "\n",
    "b) Convert the Series to a dictionary.\n",
    "\n",
    "c) Convert the Series to a list.\n",
    "\n",
    "d) Convert the Series to a numpy.ndarray object."
   ]
  },
  {
   "cell_type": "code",
   "execution_count": 12,
   "id": "713ecd26",
   "metadata": {},
   "outputs": [
    {
     "data": {
      "text/plain": [
       "0     ITUB4\n",
       "1     BBDC4\n",
       "2     BBAS3\n",
       "3    BPAC11\n",
       "4    SANB11\n",
       "dtype: object"
      ]
     },
     "execution_count": 12,
     "metadata": {},
     "output_type": "execute_result"
    }
   ],
   "source": [
    "data = ['ITUB4', 'BBDC4', 'BBAS3', 'BPAC11', 'SANB11']\n",
    "ex4A = pd.Series(data)\n",
    "ex4A"
   ]
  },
  {
   "cell_type": "code",
   "execution_count": 13,
   "id": "8397e958",
   "metadata": {},
   "outputs": [
    {
     "data": {
      "text/plain": [
       "{0: 'ITUB4', 1: 'BBDC4', 2: 'BBAS3', 3: 'BPAC11', 4: 'SANB11'}"
      ]
     },
     "execution_count": 13,
     "metadata": {},
     "output_type": "execute_result"
    }
   ],
   "source": [
    "ex4B = ex4A.to_dict()\n",
    "ex4B"
   ]
  },
  {
   "cell_type": "code",
   "execution_count": 14,
   "id": "0eef7c2d",
   "metadata": {},
   "outputs": [
    {
     "data": {
      "text/plain": [
       "['ITUB4', 'BBDC4', 'BBAS3', 'BPAC11', 'SANB11']"
      ]
     },
     "execution_count": 14,
     "metadata": {},
     "output_type": "execute_result"
    }
   ],
   "source": [
    "ex4C = ex4A.to_list()\n",
    "ex4C"
   ]
  },
  {
   "cell_type": "code",
   "execution_count": 15,
   "id": "55fa32a0",
   "metadata": {},
   "outputs": [
    {
     "data": {
      "text/plain": [
       "array(['ITUB4', 'BBDC4', 'BBAS3', 'BPAC11', 'SANB11'], dtype=object)"
      ]
     },
     "execution_count": 15,
     "metadata": {},
     "output_type": "execute_result"
    }
   ],
   "source": [
    "ex4D = ex4A.to_numpy()\n",
    "ex4D"
   ]
  },
  {
   "cell_type": "markdown",
   "id": "d46724d1",
   "metadata": {},
   "source": [
    "---\n",
    "## Exercise 5:\n",
    "a) From the dictionary below, create an object of type Series and store it in a variable. Then, convert the created object to a list. Finally, create a DataFrame with the available data.\n",
    "\n",
    "\n",
    "    data = {\n",
    "        'ABEV3':12.85,\n",
    "        'AZUL4':22.55,\n",
    "        'BTOW3':115.08,\n",
    "        'RENT3':49.03,\n",
    "        'JBSS3':24.41,\n",
    "        }\n",
    "\n",
    "\n",
    "b) Add the new values to the created Series:\n",
    "\n",
    "\n",
    "    RAIL3: 18.93\n",
    "    SUZB3: 48.19\n",
    "    MGLU3: 25.59"
   ]
  },
  {
   "cell_type": "code",
   "execution_count": 16,
   "id": "5b8ff6e8",
   "metadata": {},
   "outputs": [
    {
     "data": {
      "text/plain": [
       "ABEV3     12.85\n",
       "AZUL4     22.55\n",
       "BTOW3    115.08\n",
       "RENT3     49.03\n",
       "JBSS3     24.41\n",
       "dtype: float64"
      ]
     },
     "execution_count": 16,
     "metadata": {},
     "output_type": "execute_result"
    }
   ],
   "source": [
    "data = {\n",
    "    'ABEV3':12.85,\n",
    "    'AZUL4':22.55,\n",
    "    'BTOW3':115.08,\n",
    "    'RENT3':49.03,\n",
    "    'JBSS3':24.41,\n",
    "    }\n",
    "ex5A_0 = pd.Series(data)\n",
    "ex5A_0"
   ]
  },
  {
   "cell_type": "code",
   "execution_count": 17,
   "id": "01b53e20",
   "metadata": {},
   "outputs": [
    {
     "data": {
      "text/plain": [
       "[12.85, 22.55, 115.08, 49.03, 24.41]"
      ]
     },
     "execution_count": 17,
     "metadata": {},
     "output_type": "execute_result"
    }
   ],
   "source": [
    "ex5A_1 = ex5A_0.to_list()\n",
    "ex5A_1"
   ]
  },
  {
   "cell_type": "code",
   "execution_count": 18,
   "id": "bb39cc6e",
   "metadata": {},
   "outputs": [
    {
     "data": {
      "text/html": [
       "<div>\n",
       "<style scoped>\n",
       "    .dataframe tbody tr th:only-of-type {\n",
       "        vertical-align: middle;\n",
       "    }\n",
       "\n",
       "    .dataframe tbody tr th {\n",
       "        vertical-align: top;\n",
       "    }\n",
       "\n",
       "    .dataframe thead th {\n",
       "        text-align: right;\n",
       "    }\n",
       "</style>\n",
       "<table border=\"1\" class=\"dataframe\">\n",
       "  <thead>\n",
       "    <tr style=\"text-align: right;\">\n",
       "      <th></th>\n",
       "      <th>Prices</th>\n",
       "    </tr>\n",
       "  </thead>\n",
       "  <tbody>\n",
       "    <tr>\n",
       "      <th>0</th>\n",
       "      <td>12.85</td>\n",
       "    </tr>\n",
       "    <tr>\n",
       "      <th>1</th>\n",
       "      <td>22.55</td>\n",
       "    </tr>\n",
       "    <tr>\n",
       "      <th>2</th>\n",
       "      <td>115.08</td>\n",
       "    </tr>\n",
       "    <tr>\n",
       "      <th>3</th>\n",
       "      <td>49.03</td>\n",
       "    </tr>\n",
       "    <tr>\n",
       "      <th>4</th>\n",
       "      <td>24.41</td>\n",
       "    </tr>\n",
       "  </tbody>\n",
       "</table>\n",
       "</div>"
      ],
      "text/plain": [
       "   Prices\n",
       "0   12.85\n",
       "1   22.55\n",
       "2  115.08\n",
       "3   49.03\n",
       "4   24.41"
      ]
     },
     "execution_count": 18,
     "metadata": {},
     "output_type": "execute_result"
    }
   ],
   "source": [
    "ex5A_2 = pd.DataFrame(ex5A_1, columns=['Prices'])\n",
    "ex5A_2"
   ]
  },
  {
   "cell_type": "code",
   "execution_count": 19,
   "id": "7dd28d0c",
   "metadata": {},
   "outputs": [
    {
     "data": {
      "text/plain": [
       "ABEV3     12.85\n",
       "AZUL4     22.55\n",
       "BTOW3    115.08\n",
       "RENT3     49.03\n",
       "JBSS3     24.41\n",
       "RAIL3     18.93\n",
       "SUZB3     48.19\n",
       "MGLU3     25.59\n",
       "dtype: float64"
      ]
     },
     "execution_count": 19,
     "metadata": {},
     "output_type": "execute_result"
    }
   ],
   "source": [
    "ex5A_0['RAIL3'] =  18.93\n",
    "ex5A_0['SUZB3'] =  48.19\n",
    "ex5A_0['MGLU3'] =  25.59\n",
    "ex5A_0"
   ]
  },
  {
   "cell_type": "markdown",
   "id": "5ffca8e0",
   "metadata": {},
   "source": [
    "---\n",
    "## Exercise 6:\n",
    "Add the three new values to the Series below.\n",
    "\n",
    "\n",
    "    PETR4:22,97;\n",
    "    NTCO3:50,60;\n",
    "    TIMP3:14,82.\n",
    "\n",
    "\n",
    "    data = {\n",
    "        'ABEV3':12.85,\n",
    "        'AZUL4':22.55,\n",
    "        'BTOW3':115.08,\n",
    "        'RENT3':49.03,\n",
    "        'JBSS3':24.41,\n",
    "        } \n",
    "     \n",
    "    serie = pd.Series(data)\n",
    "\n",
    "\n",
    "Expected result:\n",
    "\n",
    "\n",
    "    ABEV3     12.85\n",
    "    AZUL4     22.55\n",
    "    BTOW3    115.08\n",
    "    RENT3     49.03\n",
    "    JBSS3     24.41\n",
    "    PETR4     22.97\n",
    "    NTCO3     50.60\n",
    "    TIMP3     14.82\n",
    "    dtype: float64"
   ]
  },
  {
   "cell_type": "code",
   "execution_count": 20,
   "id": "81ea2773",
   "metadata": {},
   "outputs": [
    {
     "data": {
      "text/plain": [
       "ABEV3     12.85\n",
       "AZUL4     22.55\n",
       "BTOW3    115.08\n",
       "RENT3     49.03\n",
       "JBSS3     24.41\n",
       "dtype: float64"
      ]
     },
     "execution_count": 20,
     "metadata": {},
     "output_type": "execute_result"
    }
   ],
   "source": [
    "data = {\n",
    "    'ABEV3':12.85,\n",
    "    'AZUL4':22.55,\n",
    "    'BTOW3':115.08,\n",
    "    'RENT3':49.03,\n",
    "    'JBSS3':24.41,\n",
    "    } \n",
    "\n",
    "ex6A = pd.Series(data)\n",
    "ex6A"
   ]
  },
  {
   "cell_type": "code",
   "execution_count": 21,
   "id": "e658997d",
   "metadata": {},
   "outputs": [
    {
     "data": {
      "text/plain": [
       "ABEV3     12.85\n",
       "AZUL4     22.55\n",
       "BTOW3    115.08\n",
       "RENT3     49.03\n",
       "JBSS3     24.41\n",
       "PETR4     22.97\n",
       "NTCO3     50.60\n",
       "TIMP3     14.82\n",
       "dtype: float64"
      ]
     },
     "execution_count": 21,
     "metadata": {},
     "output_type": "execute_result"
    }
   ],
   "source": [
    "ex6A['PETR4'] = 22.97\n",
    "ex6A['NTCO3'] = 50.60\n",
    "ex6A['TIMP3'] = 14.82\n",
    "ex6A"
   ]
  },
  {
   "cell_type": "markdown",
   "id": "9e7e3ea0",
   "metadata": {},
   "source": [
    "---\n",
    "## Exercise 7: \n",
    "Create Series A and B below :\n",
    "\n",
    "A:\n",
    "\n",
    "    A     1\n",
    "    B     3\n",
    "    C     5\n",
    "    D     7\n",
    "    E     9\n",
    "    F    11\n",
    "    G    13\n",
    "    H    15\n",
    "    I    17\n",
    "    J    19\n",
    "    dtype: int64\n",
    "\n",
    "B:\n",
    "\n",
    "    F     5\n",
    "    G    10\n",
    "    H    15\n",
    "    I    20\n",
    "    J    25\n",
    "    K    30\n",
    "    L    35\n",
    "    M    40\n",
    "    N    45\n",
    "    dtype: int64"
   ]
  },
  {
   "cell_type": "code",
   "execution_count": 22,
   "id": "06eae48f",
   "metadata": {},
   "outputs": [
    {
     "data": {
      "text/plain": [
       "A     1\n",
       "B     3\n",
       "C     5\n",
       "D     7\n",
       "E     9\n",
       "F    11\n",
       "G    13\n",
       "H    15\n",
       "I    17\n",
       "J    19\n",
       "dtype: int32"
      ]
     },
     "execution_count": 22,
     "metadata": {},
     "output_type": "execute_result"
    }
   ],
   "source": [
    "pd.Series(data = np.arange(1,20,2), index= list('ABCDEFGHIJ'))"
   ]
  },
  {
   "cell_type": "code",
   "execution_count": 23,
   "id": "37cc3706",
   "metadata": {},
   "outputs": [
    {
     "data": {
      "text/plain": [
       "F     5\n",
       "G    10\n",
       "H    15\n",
       "I    20\n",
       "J    25\n",
       "K    30\n",
       "L    35\n",
       "M    40\n",
       "N    45\n",
       "dtype: int32"
      ]
     },
     "execution_count": 23,
     "metadata": {},
     "output_type": "execute_result"
    }
   ],
   "source": [
    "pd.Series(data = np.arange(5,46,5), index= list('FGHIJKLMN'))"
   ]
  },
  {
   "cell_type": "markdown",
   "id": "d75211e9",
   "metadata": {},
   "source": [
    "---\n",
    "## Exercise 8: \n",
    "Build the Series object below and use the .plot () method to generate a graph of the created object.\n",
    "\n",
    "\n",
    "    2020    2197\n",
    "    2010    1728\n",
    "    2000    1331\n",
    "    1990    1000\n",
    "    1980     729\n",
    "    1970     512\n",
    "    1960     343\n",
    "    1950     216\n",
    "    1940     125\n",
    "    1930      64\n",
    "    1920      27\n",
    "    1910       8\n",
    "    1900       1\n",
    "    Name: Crescimento no tempo, dtype: int64\n",
    "\n",
    "\n",
    "The growth rate over time:\n",
    "<img src = https://img-c.udemycdn.com/redactor/raw/article_lecture/2021-01-13_02-00-44-85e527b94d681d66935773a6e2c80226.png>"
   ]
  },
  {
   "cell_type": "code",
   "execution_count": 24,
   "id": "a04810df",
   "metadata": {},
   "outputs": [
    {
     "data": {
      "text/plain": [
       "2020    2197\n",
       "2010    1728\n",
       "2000    1331\n",
       "1990    1000\n",
       "1980     729\n",
       "1970     512\n",
       "1960     343\n",
       "1950     216\n",
       "1940     125\n",
       "1930      64\n",
       "1920      27\n",
       "1910       8\n",
       "1900       1\n",
       "dtype: int64"
      ]
     },
     "execution_count": 24,
     "metadata": {},
     "output_type": "execute_result"
    }
   ],
   "source": [
    "ex8 = pd.Series(data = [i**3 for i in range(1, 14)][::-1], index= np.arange(2020,1899,-10))\n",
    "ex8"
   ]
  },
  {
   "cell_type": "code",
   "execution_count": 25,
   "id": "1a93b5c8",
   "metadata": {},
   "outputs": [
    {
     "data": {
      "text/plain": [
       "Text(0.5, 1.0, 'Grow Rate Over Time')"
      ]
     },
     "execution_count": 25,
     "metadata": {},
     "output_type": "execute_result"
    },
    {
     "data": {
      "image/png": "[encoded data removed]",
      "text/plain": [
       "<Figure size 432x288 with 1 Axes>"
      ]
     },
     "metadata": {
      "needs_background": "light"
     },
     "output_type": "display_data"
    }
   ],
   "source": [
    "ex8.plot()\n",
    "plt.xlabel(\"Years\")\n",
    "plt.ylabel(\"Grow\")\n",
    "plt.title(\"Grow Rate Over Time\")"
   ]
  },
  {
   "cell_type": "markdown",
   "id": "d2777ac1",
   "metadata": {},
   "source": [
    "---\n",
    "## Exercise 9:\n",
    "Based on the Series below,\n",
    "\n",
    "\n",
    "    import pandas as pd\n",
    "    s = pd.Series([1, 2, 3, 4, 5, 6], index = ['a', 'b', 'c', 'd', 'e', 'f'])\n",
    "\n",
    "\n",
    "Do:\n",
    "\n",
    "a) show the first element;\n",
    "\n",
    "b) show the third element;\n",
    "\n",
    "c) show the first three elements;\n",
    "\n",
    "d) show the last three elements;\n",
    "\n",
    "e) show the last element."
   ]
  },
  {
   "cell_type": "code",
   "execution_count": 26,
   "id": "167ba192",
   "metadata": {},
   "outputs": [],
   "source": [
    "ex9 = pd.Series([1, 2, 3, 4, 5, 6], index = ['a', 'b', 'c', 'd', 'e', 'f'])"
   ]
  },
  {
   "cell_type": "code",
   "execution_count": 27,
   "id": "aa36b467",
   "metadata": {},
   "outputs": [
    {
     "name": "stdout",
     "output_type": "stream",
     "text": [
      "First Element: 1\n",
      "Third Element: 3\n",
      "Last Element: 6\n"
     ]
    }
   ],
   "source": [
    "print(f\"First Element: {ex9.iloc[0]}\")\n",
    "print(f\"Third Element: {ex9.iloc[2]}\")\n",
    "print(f\"Last Element: {ex9.iloc[-1]}\")"
   ]
  },
  {
   "cell_type": "code",
   "execution_count": 28,
   "id": "bf295a84",
   "metadata": {},
   "outputs": [
    {
     "name": "stdout",
     "output_type": "stream",
     "text": [
      "First Three Element: \n",
      "a    1\n",
      "b    2\n",
      "c    3\n",
      "dtype: int64\n"
     ]
    }
   ],
   "source": [
    "print(f\"\"\"First Three Element: \n",
    "{ex9.iloc[0:3]}\"\"\")"
   ]
  },
  {
   "cell_type": "code",
   "execution_count": 29,
   "id": "fb609253",
   "metadata": {},
   "outputs": [
    {
     "name": "stdout",
     "output_type": "stream",
     "text": [
      "First Three Element: \n",
      "d    4\n",
      "e    5\n",
      "f    6\n",
      "dtype: int64\n"
     ]
    }
   ],
   "source": [
    "print(f\"\"\"First Three Element: \n",
    "{ex9.iloc[-3:]}\"\"\")"
   ]
  },
  {
   "cell_type": "markdown",
   "id": "d89e10cf",
   "metadata": {},
   "source": [
    "---\n",
    "## Exercise 10: \n",
    "Create a Series and access the following attributes: axes, dtype, empty, ndim, size and values.\n",
    "\n",
    "\n",
    "Being that:\n",
    "\n",
    "    pd.Series(). axes: returns a list with the Series indexes;\n",
    "\n",
    "    pd.Series(). empty: returns a Boolean value, informing whether the object is empty or not;\n",
    "\n",
    "    pd.Series(). ndim: returns the number of dimensions of the object;\n",
    "\n",
    "    pd.Series(). size: returns the size of the Series;\n",
    "\n",
    "    pd.Series(). values: returns the data in a NumPy object (ndarray)"
   ]
  },
  {
   "cell_type": "code",
   "execution_count": 30,
   "id": "a94a47d9",
   "metadata": {},
   "outputs": [],
   "source": [
    "ex10 = pd.Series([1, 2, 3, 4, 5, 6], index = ['a', 'b', 'c', 'd', 'e', 'f'])"
   ]
  },
  {
   "cell_type": "code",
   "execution_count": 31,
   "id": "6b15b9b9",
   "metadata": {},
   "outputs": [
    {
     "data": {
      "text/plain": [
       "[Index(['a', 'b', 'c', 'd', 'e', 'f'], dtype='object')]"
      ]
     },
     "execution_count": 31,
     "metadata": {},
     "output_type": "execute_result"
    }
   ],
   "source": [
    "ex10.axes"
   ]
  },
  {
   "cell_type": "code",
   "execution_count": 32,
   "id": "cf8b04ed",
   "metadata": {},
   "outputs": [
    {
     "data": {
      "text/plain": [
       "False"
      ]
     },
     "execution_count": 32,
     "metadata": {},
     "output_type": "execute_result"
    }
   ],
   "source": [
    "ex10.empty"
   ]
  },
  {
   "cell_type": "code",
   "execution_count": 33,
   "id": "0e888fd8",
   "metadata": {},
   "outputs": [
    {
     "data": {
      "text/plain": [
       "1"
      ]
     },
     "execution_count": 33,
     "metadata": {},
     "output_type": "execute_result"
    }
   ],
   "source": [
    "ex10.ndim"
   ]
  },
  {
   "cell_type": "code",
   "execution_count": 34,
   "id": "1d9d8dd7",
   "metadata": {},
   "outputs": [
    {
     "data": {
      "text/plain": [
       "6"
      ]
     },
     "execution_count": 34,
     "metadata": {},
     "output_type": "execute_result"
    }
   ],
   "source": [
    "ex10.size"
   ]
  },
  {
   "cell_type": "code",
   "execution_count": 35,
   "id": "3cd48883",
   "metadata": {},
   "outputs": [
    {
     "data": {
      "text/plain": [
       "array([1, 2, 3, 4, 5, 6], dtype=int64)"
      ]
     },
     "execution_count": 35,
     "metadata": {},
     "output_type": "execute_result"
    }
   ],
   "source": [
    "ex10.values"
   ]
  },
  {
   "cell_type": "markdown",
   "id": "c673dc4f",
   "metadata": {},
   "source": [
    "---\n",
    "## Exercise 11:\n",
    "Build the DataFrame below and store it in a variable.\n",
    "\n",
    "\n",
    "    \tA\n",
    "    0\t10\n",
    "    1\t22\n",
    "    2\t3\n",
    "    3\t11\n",
    "    4\t17\n",
    "    5\t22\n",
    "    6\t9\n",
    "    7\t4\n",
    "    8\t29\n",
    "    9\t31"
   ]
  },
  {
   "cell_type": "code",
   "execution_count": 36,
   "id": "5a4519f1",
   "metadata": {},
   "outputs": [
    {
     "data": {
      "text/html": [
       "<div>\n",
       "<style scoped>\n",
       "    .dataframe tbody tr th:only-of-type {\n",
       "        vertical-align: middle;\n",
       "    }\n",
       "\n",
       "    .dataframe tbody tr th {\n",
       "        vertical-align: top;\n",
       "    }\n",
       "\n",
       "    .dataframe thead th {\n",
       "        text-align: right;\n",
       "    }\n",
       "</style>\n",
       "<table border=\"1\" class=\"dataframe\">\n",
       "  <thead>\n",
       "    <tr style=\"text-align: right;\">\n",
       "      <th></th>\n",
       "      <th>A</th>\n",
       "    </tr>\n",
       "  </thead>\n",
       "  <tbody>\n",
       "    <tr>\n",
       "      <th>0</th>\n",
       "      <td>10</td>\n",
       "    </tr>\n",
       "    <tr>\n",
       "      <th>1</th>\n",
       "      <td>22</td>\n",
       "    </tr>\n",
       "    <tr>\n",
       "      <th>2</th>\n",
       "      <td>3</td>\n",
       "    </tr>\n",
       "    <tr>\n",
       "      <th>3</th>\n",
       "      <td>11</td>\n",
       "    </tr>\n",
       "    <tr>\n",
       "      <th>4</th>\n",
       "      <td>17</td>\n",
       "    </tr>\n",
       "    <tr>\n",
       "      <th>5</th>\n",
       "      <td>22</td>\n",
       "    </tr>\n",
       "    <tr>\n",
       "      <th>6</th>\n",
       "      <td>9</td>\n",
       "    </tr>\n",
       "    <tr>\n",
       "      <th>7</th>\n",
       "      <td>4</td>\n",
       "    </tr>\n",
       "    <tr>\n",
       "      <th>8</th>\n",
       "      <td>29</td>\n",
       "    </tr>\n",
       "    <tr>\n",
       "      <th>9</th>\n",
       "      <td>31</td>\n",
       "    </tr>\n",
       "  </tbody>\n",
       "</table>\n",
       "</div>"
      ],
      "text/plain": [
       "    A\n",
       "0  10\n",
       "1  22\n",
       "2   3\n",
       "3  11\n",
       "4  17\n",
       "5  22\n",
       "6   9\n",
       "7   4\n",
       "8  29\n",
       "9  31"
      ]
     },
     "execution_count": 36,
     "metadata": {},
     "output_type": "execute_result"
    }
   ],
   "source": [
    "ex11 = pd.DataFrame(data = {'A':[10,22,3,11,17,22,9,4,29,31]})\n",
    "ex11"
   ]
  },
  {
   "cell_type": "markdown",
   "id": "385a0ff8",
   "metadata": {},
   "source": [
    "---\n",
    "## Exercise 12:\n",
    "Build an object of type DataFrame with the structure below and store it in a variable. Put the data in a Python dictionary.\n",
    "\n",
    "\n",
    "        A  B    C\n",
    "    0  11  1  130\n",
    "    1  33  2  144\n",
    "    2  11  3  111\n",
    "    3  -1  4  104\n",
    "    4   0  5  199"
   ]
  },
  {
   "cell_type": "code",
   "execution_count": 37,
   "id": "9fa08869",
   "metadata": {},
   "outputs": [],
   "source": [
    "data = {'A':[11,33,11,-1,0],\n",
    "        'B':np.arange(1,6),\n",
    "        'C':[130,144,111,104,199]}"
   ]
  },
  {
   "cell_type": "code",
   "execution_count": 38,
   "id": "e4d8b5e9",
   "metadata": {},
   "outputs": [
    {
     "data": {
      "text/html": [
       "<div>\n",
       "<style scoped>\n",
       "    .dataframe tbody tr th:only-of-type {\n",
       "        vertical-align: middle;\n",
       "    }\n",
       "\n",
       "    .dataframe tbody tr th {\n",
       "        vertical-align: top;\n",
       "    }\n",
       "\n",
       "    .dataframe thead th {\n",
       "        text-align: right;\n",
       "    }\n",
       "</style>\n",
       "<table border=\"1\" class=\"dataframe\">\n",
       "  <thead>\n",
       "    <tr style=\"text-align: right;\">\n",
       "      <th></th>\n",
       "      <th>A</th>\n",
       "      <th>B</th>\n",
       "      <th>C</th>\n",
       "    </tr>\n",
       "  </thead>\n",
       "  <tbody>\n",
       "    <tr>\n",
       "      <th>0</th>\n",
       "      <td>11</td>\n",
       "      <td>1</td>\n",
       "      <td>130</td>\n",
       "    </tr>\n",
       "    <tr>\n",
       "      <th>1</th>\n",
       "      <td>33</td>\n",
       "      <td>2</td>\n",
       "      <td>144</td>\n",
       "    </tr>\n",
       "    <tr>\n",
       "      <th>2</th>\n",
       "      <td>11</td>\n",
       "      <td>3</td>\n",
       "      <td>111</td>\n",
       "    </tr>\n",
       "    <tr>\n",
       "      <th>3</th>\n",
       "      <td>-1</td>\n",
       "      <td>4</td>\n",
       "      <td>104</td>\n",
       "    </tr>\n",
       "    <tr>\n",
       "      <th>4</th>\n",
       "      <td>0</td>\n",
       "      <td>5</td>\n",
       "      <td>199</td>\n",
       "    </tr>\n",
       "  </tbody>\n",
       "</table>\n",
       "</div>"
      ],
      "text/plain": [
       "    A  B    C\n",
       "0  11  1  130\n",
       "1  33  2  144\n",
       "2  11  3  111\n",
       "3  -1  4  104\n",
       "4   0  5  199"
      ]
     },
     "execution_count": 38,
     "metadata": {},
     "output_type": "execute_result"
    }
   ],
   "source": [
    "pd.DataFrame(data = data)"
   ]
  },
  {
   "cell_type": "markdown",
   "id": "0934878d",
   "metadata": {},
   "source": [
    "---\n",
    "## Exercise 13: \n",
    "Build an object of type DataFrame with the structure below and store it in a variable. Note that column A corresponds to all even numbers between [1.20] and column B to the cube of each odd number in the same range.\n",
    "\n",
    "Put the data in a Python dictionary and use List Comprehension to build the columns.\n",
    "\n",
    "\n",
    "        A     B\n",
    "    1    2     1\n",
    "    2    4    27\n",
    "    3    6   125\n",
    "    4    8   343\n",
    "    5   10   729\n",
    "    6   12  1331\n",
    "    7   14  2197\n",
    "    8   16  3375\n",
    "    9   18  4913\n",
    "    10  20  6859"
   ]
  },
  {
   "cell_type": "code",
   "execution_count": 39,
   "id": "dbf19b49",
   "metadata": {},
   "outputs": [],
   "source": [
    "dic = {'A' : np.arange(2,21,2),\n",
    "    'B' : [i**3 for i in range(1, 20,2)]}"
   ]
  },
  {
   "cell_type": "code",
   "execution_count": 40,
   "id": "7b085218",
   "metadata": {},
   "outputs": [
    {
     "data": {
      "text/html": [
       "<div>\n",
       "<style scoped>\n",
       "    .dataframe tbody tr th:only-of-type {\n",
       "        vertical-align: middle;\n",
       "    }\n",
       "\n",
       "    .dataframe tbody tr th {\n",
       "        vertical-align: top;\n",
       "    }\n",
       "\n",
       "    .dataframe thead th {\n",
       "        text-align: right;\n",
       "    }\n",
       "</style>\n",
       "<table border=\"1\" class=\"dataframe\">\n",
       "  <thead>\n",
       "    <tr style=\"text-align: right;\">\n",
       "      <th></th>\n",
       "      <th>A</th>\n",
       "      <th>B</th>\n",
       "    </tr>\n",
       "  </thead>\n",
       "  <tbody>\n",
       "    <tr>\n",
       "      <th>0</th>\n",
       "      <td>2</td>\n",
       "      <td>1</td>\n",
       "    </tr>\n",
       "    <tr>\n",
       "      <th>1</th>\n",
       "      <td>4</td>\n",
       "      <td>27</td>\n",
       "    </tr>\n",
       "    <tr>\n",
       "      <th>2</th>\n",
       "      <td>6</td>\n",
       "      <td>125</td>\n",
       "    </tr>\n",
       "    <tr>\n",
       "      <th>3</th>\n",
       "      <td>8</td>\n",
       "      <td>343</td>\n",
       "    </tr>\n",
       "    <tr>\n",
       "      <th>4</th>\n",
       "      <td>10</td>\n",
       "      <td>729</td>\n",
       "    </tr>\n",
       "    <tr>\n",
       "      <th>5</th>\n",
       "      <td>12</td>\n",
       "      <td>1331</td>\n",
       "    </tr>\n",
       "    <tr>\n",
       "      <th>6</th>\n",
       "      <td>14</td>\n",
       "      <td>2197</td>\n",
       "    </tr>\n",
       "    <tr>\n",
       "      <th>7</th>\n",
       "      <td>16</td>\n",
       "      <td>3375</td>\n",
       "    </tr>\n",
       "    <tr>\n",
       "      <th>8</th>\n",
       "      <td>18</td>\n",
       "      <td>4913</td>\n",
       "    </tr>\n",
       "    <tr>\n",
       "      <th>9</th>\n",
       "      <td>20</td>\n",
       "      <td>6859</td>\n",
       "    </tr>\n",
       "  </tbody>\n",
       "</table>\n",
       "</div>"
      ],
      "text/plain": [
       "    A     B\n",
       "0   2     1\n",
       "1   4    27\n",
       "2   6   125\n",
       "3   8   343\n",
       "4  10   729\n",
       "5  12  1331\n",
       "6  14  2197\n",
       "7  16  3375\n",
       "8  18  4913\n",
       "9  20  6859"
      ]
     },
     "execution_count": 40,
     "metadata": {},
     "output_type": "execute_result"
    }
   ],
   "source": [
    "ex13 = pd.DataFrame(data = dic)\n",
    "ex13"
   ]
  },
  {
   "cell_type": "markdown",
   "id": "75315b87",
   "metadata": {},
   "source": [
    "---\n",
    "## Exercise 14: \n",
    "For the previous DataFrame, plot a line graph and add a new column with the square of each odd number in the range [1.20]. To do so, use: df.plot()."
   ]
  },
  {
   "cell_type": "code",
   "execution_count": 41,
   "id": "2d689eb9",
   "metadata": {},
   "outputs": [
    {
     "data": {
      "text/plain": [
       "<AxesSubplot:>"
      ]
     },
     "execution_count": 41,
     "metadata": {},
     "output_type": "execute_result"
    },
    {
     "data": {
      "image/png": "[encoded data removed]",
      "text/plain": [
       "<Figure size 432x288 with 1 Axes>"
      ]
     },
     "metadata": {
      "needs_background": "light"
     },
     "output_type": "display_data"
    }
   ],
   "source": [
    "ex14A = ex13\n",
    "ex14B = [i**2 for i in range(1, 20,2)]\n",
    "ex14A[\"C\"] = ex14B\n",
    "ex14A.plot()"
   ]
  },
  {
   "cell_type": "markdown",
   "id": "70ec98c0",
   "metadata": {},
   "source": [
    "---\n",
    "## Exercise 15: \n",
    "Build the DataFrame below that represents the prices registered for four products between 2010 to 2019, generate a visualization with the method previously seen. Use NumPy to generate prices (random numbers), according to a normal distribution of mean 800 and standard deviation 30, for the respective columns. To do so, use the np.random.normal() function. \n",
    "<img src = https://img-c.udemycdn.com/redactor/raw/article_lecture/2021-05-18_13-21-15-836e91f4a2ba3da09dd1619fa582d1fa.png>\n",
    "Expected visualization:\n",
    "<img src = https://img-c.udemycdn.com/redactor/raw/article_lecture/2021-05-18_13-23-05-f809d890d745f624710ae533624a1009.png>"
   ]
  },
  {
   "cell_type": "code",
   "execution_count": 42,
   "id": "43639c2a",
   "metadata": {},
   "outputs": [
    {
     "data": {
      "text/html": [
       "<div>\n",
       "<style scoped>\n",
       "    .dataframe tbody tr th:only-of-type {\n",
       "        vertical-align: middle;\n",
       "    }\n",
       "\n",
       "    .dataframe tbody tr th {\n",
       "        vertical-align: top;\n",
       "    }\n",
       "\n",
       "    .dataframe thead th {\n",
       "        text-align: right;\n",
       "    }\n",
       "</style>\n",
       "<table border=\"1\" class=\"dataframe\">\n",
       "  <thead>\n",
       "    <tr style=\"text-align: right;\">\n",
       "      <th>Products</th>\n",
       "      <th>A</th>\n",
       "      <th>B</th>\n",
       "      <th>C</th>\n",
       "      <th>D</th>\n",
       "    </tr>\n",
       "  </thead>\n",
       "  <tbody>\n",
       "    <tr>\n",
       "      <th>2010</th>\n",
       "      <td>844.958466</td>\n",
       "      <td>814.901692</td>\n",
       "      <td>802.821084</td>\n",
       "      <td>772.404189</td>\n",
       "    </tr>\n",
       "    <tr>\n",
       "      <th>2011</th>\n",
       "      <td>776.613023</td>\n",
       "      <td>845.766584</td>\n",
       "      <td>785.833612</td>\n",
       "      <td>754.032092</td>\n",
       "    </tr>\n",
       "    <tr>\n",
       "      <th>2012</th>\n",
       "      <td>793.259402</td>\n",
       "      <td>764.606806</td>\n",
       "      <td>801.896225</td>\n",
       "      <td>801.119066</td>\n",
       "    </tr>\n",
       "    <tr>\n",
       "      <th>2013</th>\n",
       "      <td>787.073675</td>\n",
       "      <td>831.166788</td>\n",
       "      <td>745.364592</td>\n",
       "      <td>848.581975</td>\n",
       "    </tr>\n",
       "    <tr>\n",
       "      <th>2014</th>\n",
       "      <td>749.561852</td>\n",
       "      <td>796.728696</td>\n",
       "      <td>782.107922</td>\n",
       "      <td>785.261270</td>\n",
       "    </tr>\n",
       "    <tr>\n",
       "      <th>2015</th>\n",
       "      <td>749.425388</td>\n",
       "      <td>805.660533</td>\n",
       "      <td>763.774089</td>\n",
       "      <td>794.316828</td>\n",
       "    </tr>\n",
       "    <tr>\n",
       "      <th>2016</th>\n",
       "      <td>795.177280</td>\n",
       "      <td>802.507532</td>\n",
       "      <td>788.982939</td>\n",
       "      <td>785.344822</td>\n",
       "    </tr>\n",
       "    <tr>\n",
       "      <th>2017</th>\n",
       "      <td>787.975877</td>\n",
       "      <td>792.101098</td>\n",
       "      <td>798.556083</td>\n",
       "      <td>804.123941</td>\n",
       "    </tr>\n",
       "    <tr>\n",
       "      <th>2018</th>\n",
       "      <td>821.119678</td>\n",
       "      <td>839.911376</td>\n",
       "      <td>833.373804</td>\n",
       "      <td>769.784441</td>\n",
       "    </tr>\n",
       "    <tr>\n",
       "      <th>2019</th>\n",
       "      <td>804.339210</td>\n",
       "      <td>767.192284</td>\n",
       "      <td>841.481224</td>\n",
       "      <td>805.566600</td>\n",
       "    </tr>\n",
       "  </tbody>\n",
       "</table>\n",
       "</div>"
      ],
      "text/plain": [
       "Products           A           B           C           D\n",
       "2010      844.958466  814.901692  802.821084  772.404189\n",
       "2011      776.613023  845.766584  785.833612  754.032092\n",
       "2012      793.259402  764.606806  801.896225  801.119066\n",
       "2013      787.073675  831.166788  745.364592  848.581975\n",
       "2014      749.561852  796.728696  782.107922  785.261270\n",
       "2015      749.425388  805.660533  763.774089  794.316828\n",
       "2016      795.177280  802.507532  788.982939  785.344822\n",
       "2017      787.975877  792.101098  798.556083  804.123941\n",
       "2018      821.119678  839.911376  833.373804  769.784441\n",
       "2019      804.339210  767.192284  841.481224  805.566600"
      ]
     },
     "execution_count": 42,
     "metadata": {},
     "output_type": "execute_result"
    }
   ],
   "source": [
    "ex15 = pd.DataFrame(data = np.random.normal(800,30,(10,4)), index = np.arange(2010,2020), columns=list(\"ABCD\"))\n",
    "ex15.columns.name = \"Products\"\n",
    "ex15"
   ]
  },
  {
   "cell_type": "code",
   "execution_count": 43,
   "id": "9575eef2",
   "metadata": {},
   "outputs": [
    {
     "data": {
      "text/plain": [
       "Text(0.5, 0, 'Years')"
      ]
     },
     "execution_count": 43,
     "metadata": {},
     "output_type": "execute_result"
    },
    {
     "data": {
      "image/png": "[encoded data removed]",
      "text/plain": [
       "<Figure size 432x288 with 1 Axes>"
      ]
     },
     "metadata": {
      "needs_background": "light"
     },
     "output_type": "display_data"
    }
   ],
   "source": [
    "ex15.plot()\n",
    "plt.xlabel(\"Years\")"
   ]
  },
  {
   "cell_type": "markdown",
   "id": "a6037d45",
   "metadata": {},
   "source": [
    "---\n",
    "## Exercise 16:\n",
    "Build a DataFrame type object with the structure below, which represents a price, quantity, and total cost table for a set of products.\n",
    "<img src = https://img-c.udemycdn.com/redactor/raw/article_lecture/2021-01-12_19-06-09-cfe8264b4f70f930424fd9404194b39d.png>"
   ]
  },
  {
   "cell_type": "code",
   "execution_count": 48,
   "id": "3115c831",
   "metadata": {},
   "outputs": [
    {
     "data": {
      "text/html": [
       "<div>\n",
       "<style scoped>\n",
       "    .dataframe tbody tr th:only-of-type {\n",
       "        vertical-align: middle;\n",
       "    }\n",
       "\n",
       "    .dataframe tbody tr th {\n",
       "        vertical-align: top;\n",
       "    }\n",
       "\n",
       "    .dataframe thead th {\n",
       "        text-align: right;\n",
       "    }\n",
       "</style>\n",
       "<table border=\"1\" class=\"dataframe\">\n",
       "  <thead>\n",
       "    <tr style=\"text-align: right;\">\n",
       "      <th></th>\n",
       "      <th>Price</th>\n",
       "      <th>Unit</th>\n",
       "      <th>Total Cost</th>\n",
       "    </tr>\n",
       "  </thead>\n",
       "  <tbody>\n",
       "    <tr>\n",
       "      <th>Product 1</th>\n",
       "      <td>20.3</td>\n",
       "      <td>10</td>\n",
       "      <td>100.00</td>\n",
       "    </tr>\n",
       "    <tr>\n",
       "      <th>Product 2</th>\n",
       "      <td>31.2</td>\n",
       "      <td>33</td>\n",
       "      <td>568.70</td>\n",
       "    </tr>\n",
       "    <tr>\n",
       "      <th>Product 3</th>\n",
       "      <td>44.7</td>\n",
       "      <td>45</td>\n",
       "      <td>205.20</td>\n",
       "    </tr>\n",
       "    <tr>\n",
       "      <th>Product 4</th>\n",
       "      <td>30.5</td>\n",
       "      <td>51</td>\n",
       "      <td>507.10</td>\n",
       "    </tr>\n",
       "    <tr>\n",
       "      <th>Product 5</th>\n",
       "      <td>19.8</td>\n",
       "      <td>11</td>\n",
       "      <td>250.12</td>\n",
       "    </tr>\n",
       "    <tr>\n",
       "      <th>Product 6</th>\n",
       "      <td>11.2</td>\n",
       "      <td>8</td>\n",
       "      <td>55.30</td>\n",
       "    </tr>\n",
       "    <tr>\n",
       "      <th>Product 7</th>\n",
       "      <td>15.7</td>\n",
       "      <td>91</td>\n",
       "      <td>1579.00</td>\n",
       "    </tr>\n",
       "    <tr>\n",
       "      <th>Product 8</th>\n",
       "      <td>17.3</td>\n",
       "      <td>8</td>\n",
       "      <td>130.00</td>\n",
       "    </tr>\n",
       "  </tbody>\n",
       "</table>\n",
       "</div>"
      ],
      "text/plain": [
       "           Price  Unit  Total Cost\n",
       "Product 1   20.3    10      100.00\n",
       "Product 2   31.2    33      568.70\n",
       "Product 3   44.7    45      205.20\n",
       "Product 4   30.5    51      507.10\n",
       "Product 5   19.8    11      250.12\n",
       "Product 6   11.2     8       55.30\n",
       "Product 7   15.7    91     1579.00\n",
       "Product 8   17.3     8      130.00"
      ]
     },
     "execution_count": 48,
     "metadata": {},
     "output_type": "execute_result"
    }
   ],
   "source": [
    "ex16_dic = {\"Price\": [20.3,31.2,44.7,30.5,19.8,11.2,15.7,17.3], \n",
    "            \"Unit\": [10,33,45,51,11,8,91,8],\n",
    "            \"Total Cost\" : [100.00,568.70,205.20,507.10,250.12,55.30,1579.00,130]}\n",
    "index = [\"Product 1\",\"Product 2\",\"Product 3\",\"Product 4\",\"Product 5\",\"Product 6\",\"Product 7\",\"Product 8\"]\n",
    "ex16  = pd.DataFrame(ex16_dic, index)\n",
    "ex16"
   ]
  },
  {
   "cell_type": "markdown",
   "id": "f1b2e826",
   "metadata": {},
   "source": [
    "---\n",
    "## Exercise 17:\n",
    "Considering the previous exercise: (1) add a new column 'Total Revenue' (TR) to the DataFrame, which corresponds to the product between the price (p) and the quantity (q), that is, TR = p x q; (2) add a new column 'Total Profit' (TP), which corresponds to the difference between Total Revenue and Total Cost (TC), that is, TP = TR - TC.\n",
    "\n",
    "Expected result:\n",
    "<img src = https://img-c.udemycdn.com/redactor/raw/article_lecture/2021-01-12_19-11-47-b3a3f469edfa3c719031122234062964.png>"
   ]
  },
  {
   "cell_type": "code",
   "execution_count": 52,
   "id": "7b739409",
   "metadata": {},
   "outputs": [
    {
     "data": {
      "text/html": [
       "<div>\n",
       "<style scoped>\n",
       "    .dataframe tbody tr th:only-of-type {\n",
       "        vertical-align: middle;\n",
       "    }\n",
       "\n",
       "    .dataframe tbody tr th {\n",
       "        vertical-align: top;\n",
       "    }\n",
       "\n",
       "    .dataframe thead th {\n",
       "        text-align: right;\n",
       "    }\n",
       "</style>\n",
       "<table border=\"1\" class=\"dataframe\">\n",
       "  <thead>\n",
       "    <tr style=\"text-align: right;\">\n",
       "      <th></th>\n",
       "      <th>Price</th>\n",
       "      <th>Unit</th>\n",
       "      <th>Total Cost</th>\n",
       "      <th>Total Revenue</th>\n",
       "      <th>Total Profit</th>\n",
       "    </tr>\n",
       "  </thead>\n",
       "  <tbody>\n",
       "    <tr>\n",
       "      <th>Product 1</th>\n",
       "      <td>20.3</td>\n",
       "      <td>10</td>\n",
       "      <td>100.00</td>\n",
       "      <td>203.0</td>\n",
       "      <td>103.00</td>\n",
       "    </tr>\n",
       "    <tr>\n",
       "      <th>Product 2</th>\n",
       "      <td>31.2</td>\n",
       "      <td>33</td>\n",
       "      <td>568.70</td>\n",
       "      <td>1029.6</td>\n",
       "      <td>460.90</td>\n",
       "    </tr>\n",
       "    <tr>\n",
       "      <th>Product 3</th>\n",
       "      <td>44.7</td>\n",
       "      <td>45</td>\n",
       "      <td>205.20</td>\n",
       "      <td>2011.5</td>\n",
       "      <td>1806.30</td>\n",
       "    </tr>\n",
       "    <tr>\n",
       "      <th>Product 4</th>\n",
       "      <td>30.5</td>\n",
       "      <td>51</td>\n",
       "      <td>507.10</td>\n",
       "      <td>1555.5</td>\n",
       "      <td>1048.40</td>\n",
       "    </tr>\n",
       "    <tr>\n",
       "      <th>Product 5</th>\n",
       "      <td>19.8</td>\n",
       "      <td>11</td>\n",
       "      <td>250.12</td>\n",
       "      <td>217.8</td>\n",
       "      <td>-32.32</td>\n",
       "    </tr>\n",
       "    <tr>\n",
       "      <th>Product 6</th>\n",
       "      <td>11.2</td>\n",
       "      <td>8</td>\n",
       "      <td>55.30</td>\n",
       "      <td>89.6</td>\n",
       "      <td>34.30</td>\n",
       "    </tr>\n",
       "    <tr>\n",
       "      <th>Product 7</th>\n",
       "      <td>15.7</td>\n",
       "      <td>91</td>\n",
       "      <td>1579.00</td>\n",
       "      <td>1428.7</td>\n",
       "      <td>-150.30</td>\n",
       "    </tr>\n",
       "    <tr>\n",
       "      <th>Product 8</th>\n",
       "      <td>17.3</td>\n",
       "      <td>8</td>\n",
       "      <td>130.00</td>\n",
       "      <td>138.4</td>\n",
       "      <td>8.40</td>\n",
       "    </tr>\n",
       "  </tbody>\n",
       "</table>\n",
       "</div>"
      ],
      "text/plain": [
       "           Price  Unit  Total Cost  Total Revenue  Total Profit\n",
       "Product 1   20.3    10      100.00          203.0        103.00\n",
       "Product 2   31.2    33      568.70         1029.6        460.90\n",
       "Product 3   44.7    45      205.20         2011.5       1806.30\n",
       "Product 4   30.5    51      507.10         1555.5       1048.40\n",
       "Product 5   19.8    11      250.12          217.8        -32.32\n",
       "Product 6   11.2     8       55.30           89.6         34.30\n",
       "Product 7   15.7    91     1579.00         1428.7       -150.30\n",
       "Product 8   17.3     8      130.00          138.4          8.40"
      ]
     },
     "execution_count": 52,
     "metadata": {},
     "output_type": "execute_result"
    }
   ],
   "source": [
    "ex17 = ex16\n",
    "ex17[\"Total Revenue\"] = ex17[\"Price\"]*ex17[\"Unit\"]\n",
    "ex17[\"Total Profit\"] = ex17[\"Total Revenue\"] - ex17[\"Total Cost\"] \n",
    "ex17"
   ]
  },
  {
   "cell_type": "markdown",
   "id": "22ed8a06",
   "metadata": {},
   "source": [
    "---\n",
    "## Exercise 18:\n",
    "Build a DataFrame type object with the structure below. Use np.random.random () to generate random numbers.\n",
    "\n",
    "\n",
    "Expected result:\n",
    "<img src = https://img-c.udemycdn.com/redactor/raw/article_lecture/2020-12-21_17-50-43-2c319851d1b31b83e7f51adeeda3e278.png>"
   ]
  },
  {
   "cell_type": "code",
   "execution_count": 58,
   "id": "681642fc",
   "metadata": {},
   "outputs": [
    {
     "data": {
      "text/html": [
       "<div>\n",
       "<style scoped>\n",
       "    .dataframe tbody tr th:only-of-type {\n",
       "        vertical-align: middle;\n",
       "    }\n",
       "\n",
       "    .dataframe tbody tr th {\n",
       "        vertical-align: top;\n",
       "    }\n",
       "\n",
       "    .dataframe thead th {\n",
       "        text-align: right;\n",
       "    }\n",
       "</style>\n",
       "<table border=\"1\" class=\"dataframe\">\n",
       "  <thead>\n",
       "    <tr style=\"text-align: right;\">\n",
       "      <th></th>\n",
       "      <th>A</th>\n",
       "      <th>B</th>\n",
       "      <th>C</th>\n",
       "      <th>D</th>\n",
       "      <th>E</th>\n",
       "    </tr>\n",
       "  </thead>\n",
       "  <tbody>\n",
       "    <tr>\n",
       "      <th>1</th>\n",
       "      <td>0.338132</td>\n",
       "      <td>0.034914</td>\n",
       "      <td>0.470375</td>\n",
       "      <td>0.616775</td>\n",
       "      <td>0.644628</td>\n",
       "    </tr>\n",
       "    <tr>\n",
       "      <th>2</th>\n",
       "      <td>0.232245</td>\n",
       "      <td>0.223511</td>\n",
       "      <td>0.384312</td>\n",
       "      <td>0.256025</td>\n",
       "      <td>0.605204</td>\n",
       "    </tr>\n",
       "    <tr>\n",
       "      <th>3</th>\n",
       "      <td>0.670562</td>\n",
       "      <td>0.306795</td>\n",
       "      <td>0.201216</td>\n",
       "      <td>0.671486</td>\n",
       "      <td>0.933874</td>\n",
       "    </tr>\n",
       "    <tr>\n",
       "      <th>4</th>\n",
       "      <td>0.582220</td>\n",
       "      <td>0.758883</td>\n",
       "      <td>0.391971</td>\n",
       "      <td>0.042056</td>\n",
       "      <td>0.293049</td>\n",
       "    </tr>\n",
       "    <tr>\n",
       "      <th>5</th>\n",
       "      <td>0.923005</td>\n",
       "      <td>0.059612</td>\n",
       "      <td>0.992333</td>\n",
       "      <td>0.479413</td>\n",
       "      <td>0.981226</td>\n",
       "    </tr>\n",
       "    <tr>\n",
       "      <th>6</th>\n",
       "      <td>0.130199</td>\n",
       "      <td>0.871801</td>\n",
       "      <td>0.270716</td>\n",
       "      <td>0.937105</td>\n",
       "      <td>0.275207</td>\n",
       "    </tr>\n",
       "    <tr>\n",
       "      <th>7</th>\n",
       "      <td>0.678744</td>\n",
       "      <td>0.618484</td>\n",
       "      <td>0.148429</td>\n",
       "      <td>0.851270</td>\n",
       "      <td>0.430028</td>\n",
       "    </tr>\n",
       "    <tr>\n",
       "      <th>8</th>\n",
       "      <td>0.331397</td>\n",
       "      <td>0.925196</td>\n",
       "      <td>0.153775</td>\n",
       "      <td>0.970264</td>\n",
       "      <td>0.081757</td>\n",
       "    </tr>\n",
       "    <tr>\n",
       "      <th>9</th>\n",
       "      <td>0.272700</td>\n",
       "      <td>0.877065</td>\n",
       "      <td>0.852353</td>\n",
       "      <td>0.223672</td>\n",
       "      <td>0.120355</td>\n",
       "    </tr>\n",
       "    <tr>\n",
       "      <th>10</th>\n",
       "      <td>0.823479</td>\n",
       "      <td>0.858898</td>\n",
       "      <td>0.527378</td>\n",
       "      <td>0.296280</td>\n",
       "      <td>0.487709</td>\n",
       "    </tr>\n",
       "  </tbody>\n",
       "</table>\n",
       "</div>"
      ],
      "text/plain": [
       "           A         B         C         D         E\n",
       "1   0.338132  0.034914  0.470375  0.616775  0.644628\n",
       "2   0.232245  0.223511  0.384312  0.256025  0.605204\n",
       "3   0.670562  0.306795  0.201216  0.671486  0.933874\n",
       "4   0.582220  0.758883  0.391971  0.042056  0.293049\n",
       "5   0.923005  0.059612  0.992333  0.479413  0.981226\n",
       "6   0.130199  0.871801  0.270716  0.937105  0.275207\n",
       "7   0.678744  0.618484  0.148429  0.851270  0.430028\n",
       "8   0.331397  0.925196  0.153775  0.970264  0.081757\n",
       "9   0.272700  0.877065  0.852353  0.223672  0.120355\n",
       "10  0.823479  0.858898  0.527378  0.296280  0.487709"
      ]
     },
     "execution_count": 58,
     "metadata": {},
     "output_type": "execute_result"
    }
   ],
   "source": [
    "ex18 = np.random.random((10,5))\n",
    "ex18A = pd.DataFrame(ex18, index = range(1,11), columns = list(\"ABCDE\"))\n",
    "ex18A"
   ]
  },
  {
   "cell_type": "markdown",
   "id": "2099e8bd",
   "metadata": {},
   "source": [
    "---\n",
    "## Exercise 19:\n",
    "Use a nested dict data structure to create the following DataFrame.\n",
    "<img src = https://img-c.udemycdn.com/redactor/raw/article_lecture/2021-01-12_19-15-16-bb1569ba2eeee1ffc9d2687a080918c2.png>"
   ]
  },
  {
   "cell_type": "code",
   "execution_count": 67,
   "id": "e53eab6a",
   "metadata": {},
   "outputs": [
    {
     "data": {
      "text/html": [
       "<div>\n",
       "<style scoped>\n",
       "    .dataframe tbody tr th:only-of-type {\n",
       "        vertical-align: middle;\n",
       "    }\n",
       "\n",
       "    .dataframe tbody tr th {\n",
       "        vertical-align: top;\n",
       "    }\n",
       "\n",
       "    .dataframe thead th {\n",
       "        text-align: right;\n",
       "    }\n",
       "</style>\n",
       "<table border=\"1\" class=\"dataframe\">\n",
       "  <thead>\n",
       "    <tr style=\"text-align: right;\">\n",
       "      <th>Products</th>\n",
       "      <th>Product1</th>\n",
       "      <th>Product2</th>\n",
       "      <th>Product3</th>\n",
       "      <th>Product4</th>\n",
       "    </tr>\n",
       "    <tr>\n",
       "      <th>Year</th>\n",
       "      <th></th>\n",
       "      <th></th>\n",
       "      <th></th>\n",
       "      <th></th>\n",
       "    </tr>\n",
       "  </thead>\n",
       "  <tbody>\n",
       "    <tr>\n",
       "      <th>2008</th>\n",
       "      <td>7</td>\n",
       "      <td>14</td>\n",
       "      <td>5</td>\n",
       "      <td>4</td>\n",
       "    </tr>\n",
       "    <tr>\n",
       "      <th>2009</th>\n",
       "      <td>9</td>\n",
       "      <td>13</td>\n",
       "      <td>11</td>\n",
       "      <td>2</td>\n",
       "    </tr>\n",
       "    <tr>\n",
       "      <th>2010</th>\n",
       "      <td>10</td>\n",
       "      <td>7</td>\n",
       "      <td>3</td>\n",
       "      <td>3</td>\n",
       "    </tr>\n",
       "    <tr>\n",
       "      <th>2011</th>\n",
       "      <td>15</td>\n",
       "      <td>13</td>\n",
       "      <td>45</td>\n",
       "      <td>45</td>\n",
       "    </tr>\n",
       "    <tr>\n",
       "      <th>2012</th>\n",
       "      <td>50</td>\n",
       "      <td>77</td>\n",
       "      <td>21</td>\n",
       "      <td>21</td>\n",
       "    </tr>\n",
       "    <tr>\n",
       "      <th>2013</th>\n",
       "      <td>47</td>\n",
       "      <td>94</td>\n",
       "      <td>33</td>\n",
       "      <td>33</td>\n",
       "    </tr>\n",
       "  </tbody>\n",
       "</table>\n",
       "</div>"
      ],
      "text/plain": [
       "Products  Product1  Product2  Product3  Product4\n",
       "Year                                            \n",
       "2008             7        14         5         4\n",
       "2009             9        13        11         2\n",
       "2010            10         7         3         3\n",
       "2011            15        13        45        45\n",
       "2012            50        77        21        21\n",
       "2013            47        94        33        33"
      ]
     },
     "execution_count": 67,
     "metadata": {},
     "output_type": "execute_result"
    }
   ],
   "source": [
    "ex19_dic = {\n",
    "    \"Product1\": {2008:7, 2009:9, 2010:10, 2011:15, 2012:50, 2013:47},\n",
    "    \"Product2\": {2008:14 ,2009:13, 2010:7, 2011:13, 2012:77, 2013:94},\n",
    "    \"Product3\": {2008:5, 2009:11, 2010:3, 2011:45, 2012:21, 2013:33},\n",
    "    \"Product4\": {2008:4, 2009:2, 2010:3, 2011:45, 2012:21, 2013:33}\n",
    "}\n",
    "ex19 = pd.DataFrame(ex19_dic)\n",
    "ex19.index.name = \"Year\"\n",
    "ex19.columns.name = \"Products\"\n",
    "ex19"
   ]
  },
  {
   "cell_type": "markdown",
   "id": "ee4b83e1",
   "metadata": {},
   "source": [
    "---\n",
    "## Exercise 20: \n",
    "Build the DataFrame below and perform the following operations:\n",
    "    data = {\n",
    "        'Customers': ['Adrian', 'Carl', 'Eliza', 'Albert', 'Fred', 'Oswald', 'Grace', 'John'],\n",
    "        'Age': [36, 39, 33, 32, 27, 35, 28, 18],\n",
    "        'Rating': [6.2, 2.17, 6.56, 8.32, 9.15, 1.34, 0.57, 1.66] \n",
    "    }\n",
    "\n",
    "\n",
    "a) Read the first 5 lines with the df.head() method;\n",
    "\n",
    "b) Read the first 3 lines with the df.head method(n = 10);\n",
    "\n",
    "c) Read the last 5 lines with the df.tail() method;\n",
    "\n",
    "d) Read the last 2 lines with the df.tail method(n = 2).\n",
    "<img src = https://img-c.udemycdn.com/redactor/raw/article_lecture/2021-01-12_19-19-23-ccd4b3fbe498fdf188ca1c4ddb5967a4.png>"
   ]
  },
  {
   "cell_type": "code",
   "execution_count": 69,
   "id": "7e557a06",
   "metadata": {
    "scrolled": true
   },
   "outputs": [
    {
     "data": {
      "text/html": [
       "<div>\n",
       "<style scoped>\n",
       "    .dataframe tbody tr th:only-of-type {\n",
       "        vertical-align: middle;\n",
       "    }\n",
       "\n",
       "    .dataframe tbody tr th {\n",
       "        vertical-align: top;\n",
       "    }\n",
       "\n",
       "    .dataframe thead th {\n",
       "        text-align: right;\n",
       "    }\n",
       "</style>\n",
       "<table border=\"1\" class=\"dataframe\">\n",
       "  <thead>\n",
       "    <tr style=\"text-align: right;\">\n",
       "      <th></th>\n",
       "      <th>Customers</th>\n",
       "      <th>Age</th>\n",
       "      <th>Rating</th>\n",
       "    </tr>\n",
       "  </thead>\n",
       "  <tbody>\n",
       "    <tr>\n",
       "      <th>0</th>\n",
       "      <td>Adrian</td>\n",
       "      <td>36</td>\n",
       "      <td>6.20</td>\n",
       "    </tr>\n",
       "    <tr>\n",
       "      <th>1</th>\n",
       "      <td>Carl</td>\n",
       "      <td>39</td>\n",
       "      <td>2.17</td>\n",
       "    </tr>\n",
       "    <tr>\n",
       "      <th>2</th>\n",
       "      <td>Eliza</td>\n",
       "      <td>33</td>\n",
       "      <td>6.56</td>\n",
       "    </tr>\n",
       "    <tr>\n",
       "      <th>3</th>\n",
       "      <td>Albert</td>\n",
       "      <td>32</td>\n",
       "      <td>8.32</td>\n",
       "    </tr>\n",
       "    <tr>\n",
       "      <th>4</th>\n",
       "      <td>Fred</td>\n",
       "      <td>27</td>\n",
       "      <td>9.15</td>\n",
       "    </tr>\n",
       "    <tr>\n",
       "      <th>5</th>\n",
       "      <td>Oswald</td>\n",
       "      <td>35</td>\n",
       "      <td>1.34</td>\n",
       "    </tr>\n",
       "    <tr>\n",
       "      <th>6</th>\n",
       "      <td>Grace</td>\n",
       "      <td>28</td>\n",
       "      <td>0.57</td>\n",
       "    </tr>\n",
       "    <tr>\n",
       "      <th>7</th>\n",
       "      <td>John</td>\n",
       "      <td>18</td>\n",
       "      <td>1.66</td>\n",
       "    </tr>\n",
       "  </tbody>\n",
       "</table>\n",
       "</div>"
      ],
      "text/plain": [
       "  Customers  Age  Rating\n",
       "0    Adrian   36    6.20\n",
       "1      Carl   39    2.17\n",
       "2     Eliza   33    6.56\n",
       "3    Albert   32    8.32\n",
       "4      Fred   27    9.15\n",
       "5    Oswald   35    1.34\n",
       "6     Grace   28    0.57\n",
       "7      John   18    1.66"
      ]
     },
     "execution_count": 69,
     "metadata": {},
     "output_type": "execute_result"
    }
   ],
   "source": [
    "ex20 = { 'Customers': ['Adrian', 'Carl', 'Eliza', 'Albert', 'Fred', 'Oswald', 'Grace', 'John'], \n",
    "        'Age': [36, 39, 33, 32, 27, 35, 28, 18], \n",
    "        'Rating': [6.2, 2.17, 6.56, 8.32, 9.15, 1.34, 0.57, 1.66] }\n",
    "ex20A = pd.DataFrame(ex20)\n",
    "ex20A"
   ]
  },
  {
   "cell_type": "code",
   "execution_count": 73,
   "id": "1efdde84",
   "metadata": {},
   "outputs": [
    {
     "name": "stdout",
     "output_type": "stream",
     "text": [
      " ----------A------------\n"
     ]
    },
    {
     "data": {
      "text/html": [
       "<div>\n",
       "<style scoped>\n",
       "    .dataframe tbody tr th:only-of-type {\n",
       "        vertical-align: middle;\n",
       "    }\n",
       "\n",
       "    .dataframe tbody tr th {\n",
       "        vertical-align: top;\n",
       "    }\n",
       "\n",
       "    .dataframe thead th {\n",
       "        text-align: right;\n",
       "    }\n",
       "</style>\n",
       "<table border=\"1\" class=\"dataframe\">\n",
       "  <thead>\n",
       "    <tr style=\"text-align: right;\">\n",
       "      <th></th>\n",
       "      <th>Customers</th>\n",
       "      <th>Age</th>\n",
       "      <th>Rating</th>\n",
       "    </tr>\n",
       "  </thead>\n",
       "  <tbody>\n",
       "    <tr>\n",
       "      <th>0</th>\n",
       "      <td>Adrian</td>\n",
       "      <td>36</td>\n",
       "      <td>6.20</td>\n",
       "    </tr>\n",
       "    <tr>\n",
       "      <th>1</th>\n",
       "      <td>Carl</td>\n",
       "      <td>39</td>\n",
       "      <td>2.17</td>\n",
       "    </tr>\n",
       "    <tr>\n",
       "      <th>2</th>\n",
       "      <td>Eliza</td>\n",
       "      <td>33</td>\n",
       "      <td>6.56</td>\n",
       "    </tr>\n",
       "    <tr>\n",
       "      <th>3</th>\n",
       "      <td>Albert</td>\n",
       "      <td>32</td>\n",
       "      <td>8.32</td>\n",
       "    </tr>\n",
       "    <tr>\n",
       "      <th>4</th>\n",
       "      <td>Fred</td>\n",
       "      <td>27</td>\n",
       "      <td>9.15</td>\n",
       "    </tr>\n",
       "  </tbody>\n",
       "</table>\n",
       "</div>"
      ],
      "text/plain": [
       "  Customers  Age  Rating\n",
       "0    Adrian   36    6.20\n",
       "1      Carl   39    2.17\n",
       "2     Eliza   33    6.56\n",
       "3    Albert   32    8.32\n",
       "4      Fred   27    9.15"
      ]
     },
     "execution_count": 73,
     "metadata": {},
     "output_type": "execute_result"
    }
   ],
   "source": [
    "print(\" ----------A-------------\")\n",
    "ex20A.head()"
   ]
  },
  {
   "cell_type": "code",
   "execution_count": 74,
   "id": "cf4f7720",
   "metadata": {},
   "outputs": [
    {
     "name": "stdout",
     "output_type": "stream",
     "text": [
      " ----------B-------------\n"
     ]
    },
    {
     "data": {
      "text/html": [
       "<div>\n",
       "<style scoped>\n",
       "    .dataframe tbody tr th:only-of-type {\n",
       "        vertical-align: middle;\n",
       "    }\n",
       "\n",
       "    .dataframe tbody tr th {\n",
       "        vertical-align: top;\n",
       "    }\n",
       "\n",
       "    .dataframe thead th {\n",
       "        text-align: right;\n",
       "    }\n",
       "</style>\n",
       "<table border=\"1\" class=\"dataframe\">\n",
       "  <thead>\n",
       "    <tr style=\"text-align: right;\">\n",
       "      <th></th>\n",
       "      <th>Customers</th>\n",
       "      <th>Age</th>\n",
       "      <th>Rating</th>\n",
       "    </tr>\n",
       "  </thead>\n",
       "  <tbody>\n",
       "    <tr>\n",
       "      <th>0</th>\n",
       "      <td>Adrian</td>\n",
       "      <td>36</td>\n",
       "      <td>6.20</td>\n",
       "    </tr>\n",
       "    <tr>\n",
       "      <th>1</th>\n",
       "      <td>Carl</td>\n",
       "      <td>39</td>\n",
       "      <td>2.17</td>\n",
       "    </tr>\n",
       "    <tr>\n",
       "      <th>2</th>\n",
       "      <td>Eliza</td>\n",
       "      <td>33</td>\n",
       "      <td>6.56</td>\n",
       "    </tr>\n",
       "  </tbody>\n",
       "</table>\n",
       "</div>"
      ],
      "text/plain": [
       "  Customers  Age  Rating\n",
       "0    Adrian   36    6.20\n",
       "1      Carl   39    2.17\n",
       "2     Eliza   33    6.56"
      ]
     },
     "execution_count": 74,
     "metadata": {},
     "output_type": "execute_result"
    }
   ],
   "source": [
    "print(\" ----------B-------------\")\n",
    "ex20A.head(n = 3)"
   ]
  },
  {
   "cell_type": "code",
   "execution_count": 75,
   "id": "7eadcb54",
   "metadata": {},
   "outputs": [
    {
     "name": "stdout",
     "output_type": "stream",
     "text": [
      " ----------C-------------\n"
     ]
    },
    {
     "data": {
      "text/html": [
       "<div>\n",
       "<style scoped>\n",
       "    .dataframe tbody tr th:only-of-type {\n",
       "        vertical-align: middle;\n",
       "    }\n",
       "\n",
       "    .dataframe tbody tr th {\n",
       "        vertical-align: top;\n",
       "    }\n",
       "\n",
       "    .dataframe thead th {\n",
       "        text-align: right;\n",
       "    }\n",
       "</style>\n",
       "<table border=\"1\" class=\"dataframe\">\n",
       "  <thead>\n",
       "    <tr style=\"text-align: right;\">\n",
       "      <th></th>\n",
       "      <th>Customers</th>\n",
       "      <th>Age</th>\n",
       "      <th>Rating</th>\n",
       "    </tr>\n",
       "  </thead>\n",
       "  <tbody>\n",
       "    <tr>\n",
       "      <th>3</th>\n",
       "      <td>Albert</td>\n",
       "      <td>32</td>\n",
       "      <td>8.32</td>\n",
       "    </tr>\n",
       "    <tr>\n",
       "      <th>4</th>\n",
       "      <td>Fred</td>\n",
       "      <td>27</td>\n",
       "      <td>9.15</td>\n",
       "    </tr>\n",
       "    <tr>\n",
       "      <th>5</th>\n",
       "      <td>Oswald</td>\n",
       "      <td>35</td>\n",
       "      <td>1.34</td>\n",
       "    </tr>\n",
       "    <tr>\n",
       "      <th>6</th>\n",
       "      <td>Grace</td>\n",
       "      <td>28</td>\n",
       "      <td>0.57</td>\n",
       "    </tr>\n",
       "    <tr>\n",
       "      <th>7</th>\n",
       "      <td>John</td>\n",
       "      <td>18</td>\n",
       "      <td>1.66</td>\n",
       "    </tr>\n",
       "  </tbody>\n",
       "</table>\n",
       "</div>"
      ],
      "text/plain": [
       "  Customers  Age  Rating\n",
       "3    Albert   32    8.32\n",
       "4      Fred   27    9.15\n",
       "5    Oswald   35    1.34\n",
       "6     Grace   28    0.57\n",
       "7      John   18    1.66"
      ]
     },
     "execution_count": 75,
     "metadata": {},
     "output_type": "execute_result"
    }
   ],
   "source": [
    "print(\" ----------C-------------\")\n",
    "ex20A.tail()"
   ]
  },
  {
   "cell_type": "code",
   "execution_count": 76,
   "id": "95b6cd5e",
   "metadata": {},
   "outputs": [
    {
     "name": "stdout",
     "output_type": "stream",
     "text": [
      " ----------D-------------\n"
     ]
    },
    {
     "data": {
      "text/html": [
       "<div>\n",
       "<style scoped>\n",
       "    .dataframe tbody tr th:only-of-type {\n",
       "        vertical-align: middle;\n",
       "    }\n",
       "\n",
       "    .dataframe tbody tr th {\n",
       "        vertical-align: top;\n",
       "    }\n",
       "\n",
       "    .dataframe thead th {\n",
       "        text-align: right;\n",
       "    }\n",
       "</style>\n",
       "<table border=\"1\" class=\"dataframe\">\n",
       "  <thead>\n",
       "    <tr style=\"text-align: right;\">\n",
       "      <th></th>\n",
       "      <th>Customers</th>\n",
       "      <th>Age</th>\n",
       "      <th>Rating</th>\n",
       "    </tr>\n",
       "  </thead>\n",
       "  <tbody>\n",
       "    <tr>\n",
       "      <th>6</th>\n",
       "      <td>Grace</td>\n",
       "      <td>28</td>\n",
       "      <td>0.57</td>\n",
       "    </tr>\n",
       "    <tr>\n",
       "      <th>7</th>\n",
       "      <td>John</td>\n",
       "      <td>18</td>\n",
       "      <td>1.66</td>\n",
       "    </tr>\n",
       "  </tbody>\n",
       "</table>\n",
       "</div>"
      ],
      "text/plain": [
       "  Customers  Age  Rating\n",
       "6     Grace   28    0.57\n",
       "7      John   18    1.66"
      ]
     },
     "execution_count": 76,
     "metadata": {},
     "output_type": "execute_result"
    }
   ],
   "source": [
    "print(\" ----------D-------------\")\n",
    "ex20A.tail(n = 2)"
   ]
  },
  {
   "cell_type": "markdown",
   "id": "b8a91c64",
   "metadata": {},
   "source": [
    "---\n",
    "## Exercise 21: \n",
    "Build the DataFrame below. Use List Comprehension to create the 'Result' column (Tip: 'Yes' if Score>=7). Use the info() function to display information from the dataset.\n",
    "\n",
    "    names = ['Oswald', 'Richard', 'Victor', 'Walter', 'Ronald', 'Rebecca', 'Maurice', 'Margaret']\n",
    "    scores = [7, 8 , 4.7, 10, 9.5, 6, 5, 7.7]\n",
    "<img src = https://img-c.udemycdn.com/redactor/raw/article_lecture/2021-01-12_19-23-55-0d570195e5e20738a6bd7e5ff067227a.png>"
   ]
  },
  {
   "cell_type": "code",
   "execution_count": 78,
   "id": "e3c4ba88",
   "metadata": {},
   "outputs": [],
   "source": [
    "ex21_names = ['Oswald', 'Richard', 'Victor', 'Walter', 'Ronald', 'Rebecca', 'Maurice', 'Margaret']\n",
    "ex21_scores = [7, 8 , 4.7, 10, 9.5, 6, 5, 7.7]\n",
    "ex21_result = [\"Yes\" if score >= 7 else \"No\" for score in ex21_scores]"
   ]
  },
  {
   "cell_type": "code",
   "execution_count": 79,
   "id": "e4fea98a",
   "metadata": {},
   "outputs": [
    {
     "data": {
      "text/html": [
       "<div>\n",
       "<style scoped>\n",
       "    .dataframe tbody tr th:only-of-type {\n",
       "        vertical-align: middle;\n",
       "    }\n",
       "\n",
       "    .dataframe tbody tr th {\n",
       "        vertical-align: top;\n",
       "    }\n",
       "\n",
       "    .dataframe thead th {\n",
       "        text-align: right;\n",
       "    }\n",
       "</style>\n",
       "<table border=\"1\" class=\"dataframe\">\n",
       "  <thead>\n",
       "    <tr style=\"text-align: right;\">\n",
       "      <th></th>\n",
       "      <th>Name</th>\n",
       "      <th>Score</th>\n",
       "      <th>Result</th>\n",
       "    </tr>\n",
       "  </thead>\n",
       "  <tbody>\n",
       "    <tr>\n",
       "      <th>0</th>\n",
       "      <td>Oswald</td>\n",
       "      <td>7.0</td>\n",
       "      <td>Yes</td>\n",
       "    </tr>\n",
       "    <tr>\n",
       "      <th>1</th>\n",
       "      <td>Richard</td>\n",
       "      <td>8.0</td>\n",
       "      <td>Yes</td>\n",
       "    </tr>\n",
       "    <tr>\n",
       "      <th>2</th>\n",
       "      <td>Victor</td>\n",
       "      <td>4.7</td>\n",
       "      <td>No</td>\n",
       "    </tr>\n",
       "    <tr>\n",
       "      <th>3</th>\n",
       "      <td>Walter</td>\n",
       "      <td>10.0</td>\n",
       "      <td>Yes</td>\n",
       "    </tr>\n",
       "    <tr>\n",
       "      <th>4</th>\n",
       "      <td>Ronald</td>\n",
       "      <td>9.5</td>\n",
       "      <td>Yes</td>\n",
       "    </tr>\n",
       "    <tr>\n",
       "      <th>5</th>\n",
       "      <td>Rebecca</td>\n",
       "      <td>6.0</td>\n",
       "      <td>No</td>\n",
       "    </tr>\n",
       "    <tr>\n",
       "      <th>6</th>\n",
       "      <td>Maurice</td>\n",
       "      <td>5.0</td>\n",
       "      <td>No</td>\n",
       "    </tr>\n",
       "    <tr>\n",
       "      <th>7</th>\n",
       "      <td>Margaret</td>\n",
       "      <td>7.7</td>\n",
       "      <td>Yes</td>\n",
       "    </tr>\n",
       "  </tbody>\n",
       "</table>\n",
       "</div>"
      ],
      "text/plain": [
       "       Name  Score Result\n",
       "0    Oswald    7.0    Yes\n",
       "1   Richard    8.0    Yes\n",
       "2    Victor    4.7     No\n",
       "3    Walter   10.0    Yes\n",
       "4    Ronald    9.5    Yes\n",
       "5   Rebecca    6.0     No\n",
       "6   Maurice    5.0     No\n",
       "7  Margaret    7.7    Yes"
      ]
     },
     "execution_count": 79,
     "metadata": {},
     "output_type": "execute_result"
    }
   ],
   "source": [
    "ex21_A = {\"Name\": ex21_names,\n",
    "         \"Score\": ex21_scores,\n",
    "         \"Result\": ex21_result}\n",
    "ex21_B = pd.DataFrame(ex21_A)\n",
    "ex21_B"
   ]
  },
  {
   "cell_type": "markdown",
   "id": "58b67451",
   "metadata": {},
   "source": [
    "---\n",
    "## Exercise 22: \n",
    "Based on the previous exercise:\n",
    "\n",
    "\n",
    "a) apply the describe () method to obtain descriptive statistics from the numerical columns;\n",
    "\n",
    "b) print the student who got the highest score;\n",
    "\n",
    "c) print the student who got the minimum score;\n",
    "\n",
    "d) select only approved students and store them in a variable."
   ]
  },
  {
   "cell_type": "code",
   "execution_count": 80,
   "id": "baba735d",
   "metadata": {},
   "outputs": [
    {
     "data": {
      "text/html": [
       "<div>\n",
       "<style scoped>\n",
       "    .dataframe tbody tr th:only-of-type {\n",
       "        vertical-align: middle;\n",
       "    }\n",
       "\n",
       "    .dataframe tbody tr th {\n",
       "        vertical-align: top;\n",
       "    }\n",
       "\n",
       "    .dataframe thead th {\n",
       "        text-align: right;\n",
       "    }\n",
       "</style>\n",
       "<table border=\"1\" class=\"dataframe\">\n",
       "  <thead>\n",
       "    <tr style=\"text-align: right;\">\n",
       "      <th></th>\n",
       "      <th>Score</th>\n",
       "    </tr>\n",
       "  </thead>\n",
       "  <tbody>\n",
       "    <tr>\n",
       "      <th>count</th>\n",
       "      <td>8.00000</td>\n",
       "    </tr>\n",
       "    <tr>\n",
       "      <th>mean</th>\n",
       "      <td>7.23750</td>\n",
       "    </tr>\n",
       "    <tr>\n",
       "      <th>std</th>\n",
       "      <td>1.94858</td>\n",
       "    </tr>\n",
       "    <tr>\n",
       "      <th>min</th>\n",
       "      <td>4.70000</td>\n",
       "    </tr>\n",
       "    <tr>\n",
       "      <th>25%</th>\n",
       "      <td>5.75000</td>\n",
       "    </tr>\n",
       "    <tr>\n",
       "      <th>50%</th>\n",
       "      <td>7.35000</td>\n",
       "    </tr>\n",
       "    <tr>\n",
       "      <th>75%</th>\n",
       "      <td>8.37500</td>\n",
       "    </tr>\n",
       "    <tr>\n",
       "      <th>max</th>\n",
       "      <td>10.00000</td>\n",
       "    </tr>\n",
       "  </tbody>\n",
       "</table>\n",
       "</div>"
      ],
      "text/plain": [
       "          Score\n",
       "count   8.00000\n",
       "mean    7.23750\n",
       "std     1.94858\n",
       "min     4.70000\n",
       "25%     5.75000\n",
       "50%     7.35000\n",
       "75%     8.37500\n",
       "max    10.00000"
      ]
     },
     "execution_count": 80,
     "metadata": {},
     "output_type": "execute_result"
    }
   ],
   "source": [
    "ex21_B.describe()"
   ]
  },
  {
   "cell_type": "code",
   "execution_count": 83,
   "id": "94bfdf42",
   "metadata": {},
   "outputs": [
    {
     "data": {
      "text/plain": [
       "Name      Walter\n",
       "Score       10.0\n",
       "Result       Yes\n",
       "dtype: object"
      ]
     },
     "execution_count": 83,
     "metadata": {},
     "output_type": "execute_result"
    }
   ],
   "source": [
    "ex21_B.max()"
   ]
  },
  {
   "cell_type": "code",
   "execution_count": 84,
   "id": "3123cd23",
   "metadata": {},
   "outputs": [
    {
     "data": {
      "text/plain": [
       "Name      Margaret\n",
       "Score          4.7\n",
       "Result          No\n",
       "dtype: object"
      ]
     },
     "execution_count": 84,
     "metadata": {},
     "output_type": "execute_result"
    }
   ],
   "source": [
    "ex21_B.min()"
   ]
  },
  {
   "cell_type": "code",
   "execution_count": 96,
   "id": "ffbe670e",
   "metadata": {},
   "outputs": [],
   "source": [
    "ex22 = ex21_B[\"Result\"] == \"Yes\""
   ]
  },
  {
   "cell_type": "code",
   "execution_count": 97,
   "id": "b233f346",
   "metadata": {},
   "outputs": [
    {
     "data": {
      "text/html": [
       "<div>\n",
       "<style scoped>\n",
       "    .dataframe tbody tr th:only-of-type {\n",
       "        vertical-align: middle;\n",
       "    }\n",
       "\n",
       "    .dataframe tbody tr th {\n",
       "        vertical-align: top;\n",
       "    }\n",
       "\n",
       "    .dataframe thead th {\n",
       "        text-align: right;\n",
       "    }\n",
       "</style>\n",
       "<table border=\"1\" class=\"dataframe\">\n",
       "  <thead>\n",
       "    <tr style=\"text-align: right;\">\n",
       "      <th></th>\n",
       "      <th>Name</th>\n",
       "      <th>Score</th>\n",
       "      <th>Result</th>\n",
       "    </tr>\n",
       "  </thead>\n",
       "  <tbody>\n",
       "    <tr>\n",
       "      <th>0</th>\n",
       "      <td>Oswald</td>\n",
       "      <td>7.0</td>\n",
       "      <td>Yes</td>\n",
       "    </tr>\n",
       "    <tr>\n",
       "      <th>1</th>\n",
       "      <td>Richard</td>\n",
       "      <td>8.0</td>\n",
       "      <td>Yes</td>\n",
       "    </tr>\n",
       "    <tr>\n",
       "      <th>3</th>\n",
       "      <td>Walter</td>\n",
       "      <td>10.0</td>\n",
       "      <td>Yes</td>\n",
       "    </tr>\n",
       "    <tr>\n",
       "      <th>4</th>\n",
       "      <td>Ronald</td>\n",
       "      <td>9.5</td>\n",
       "      <td>Yes</td>\n",
       "    </tr>\n",
       "    <tr>\n",
       "      <th>7</th>\n",
       "      <td>Margaret</td>\n",
       "      <td>7.7</td>\n",
       "      <td>Yes</td>\n",
       "    </tr>\n",
       "  </tbody>\n",
       "</table>\n",
       "</div>"
      ],
      "text/plain": [
       "       Name  Score Result\n",
       "0    Oswald    7.0    Yes\n",
       "1   Richard    8.0    Yes\n",
       "3    Walter   10.0    Yes\n",
       "4    Ronald    9.5    Yes\n",
       "7  Margaret    7.7    Yes"
      ]
     },
     "execution_count": 97,
     "metadata": {},
     "output_type": "execute_result"
    }
   ],
   "source": [
    "ex21_B.loc[ex22]"
   ]
  },
  {
   "cell_type": "markdown",
   "id": "49f3385f",
   "metadata": {},
   "source": [
    "---\n",
    "## Exercise 23:\n",
    "Based on the DataFrame below,\n",
    "\n",
    "\n",
    "    import pandas as pd\n",
    "    import numpy as np \n",
    "     \n",
    "    data = np.random.uniform(low = 0, high = 5, size = (100,5))\n",
    "    df = pd.DataFrame(data, \n",
    "                      index = range(1,data.shape[0]+1), \n",
    "                      columns = list('ABCDE'))   \n",
    "\n",
    "\n",
    "Show on-screen the following information:\n",
    "\n",
    "a) number of lines;\n",
    "\n",
    "b) number of columns;\n",
    "\n",
    "c) shape;\n",
    "\n",
    "d) the total number of elements;\n",
    "\n",
    "e) number of dimensions;\n",
    "\n",
    "f) dataset information with the info () function;\n",
    "\n",
    "g) the data type  (dtype) of each column;\n",
    "\n",
    "h) descriptive statistics for each column."
   ]
  },
  {
   "cell_type": "code",
   "execution_count": 98,
   "id": "520f3d90",
   "metadata": {},
   "outputs": [
    {
     "data": {
      "text/html": [
       "<div>\n",
       "<style scoped>\n",
       "    .dataframe tbody tr th:only-of-type {\n",
       "        vertical-align: middle;\n",
       "    }\n",
       "\n",
       "    .dataframe tbody tr th {\n",
       "        vertical-align: top;\n",
       "    }\n",
       "\n",
       "    .dataframe thead th {\n",
       "        text-align: right;\n",
       "    }\n",
       "</style>\n",
       "<table border=\"1\" class=\"dataframe\">\n",
       "  <thead>\n",
       "    <tr style=\"text-align: right;\">\n",
       "      <th></th>\n",
       "      <th>A</th>\n",
       "      <th>B</th>\n",
       "      <th>C</th>\n",
       "      <th>D</th>\n",
       "      <th>E</th>\n",
       "    </tr>\n",
       "  </thead>\n",
       "  <tbody>\n",
       "    <tr>\n",
       "      <th>1</th>\n",
       "      <td>2.082278</td>\n",
       "      <td>1.427780</td>\n",
       "      <td>4.395752</td>\n",
       "      <td>1.577751</td>\n",
       "      <td>1.248138</td>\n",
       "    </tr>\n",
       "    <tr>\n",
       "      <th>2</th>\n",
       "      <td>0.727686</td>\n",
       "      <td>1.235873</td>\n",
       "      <td>3.223276</td>\n",
       "      <td>2.636822</td>\n",
       "      <td>0.261840</td>\n",
       "    </tr>\n",
       "    <tr>\n",
       "      <th>3</th>\n",
       "      <td>2.103738</td>\n",
       "      <td>3.972428</td>\n",
       "      <td>4.643456</td>\n",
       "      <td>1.214672</td>\n",
       "      <td>4.490142</td>\n",
       "    </tr>\n",
       "    <tr>\n",
       "      <th>4</th>\n",
       "      <td>4.457503</td>\n",
       "      <td>0.999359</td>\n",
       "      <td>0.121708</td>\n",
       "      <td>3.057191</td>\n",
       "      <td>3.126940</td>\n",
       "    </tr>\n",
       "    <tr>\n",
       "      <th>5</th>\n",
       "      <td>2.239880</td>\n",
       "      <td>2.973753</td>\n",
       "      <td>3.042026</td>\n",
       "      <td>2.490757</td>\n",
       "      <td>4.403872</td>\n",
       "    </tr>\n",
       "    <tr>\n",
       "      <th>...</th>\n",
       "      <td>...</td>\n",
       "      <td>...</td>\n",
       "      <td>...</td>\n",
       "      <td>...</td>\n",
       "      <td>...</td>\n",
       "    </tr>\n",
       "    <tr>\n",
       "      <th>96</th>\n",
       "      <td>2.807394</td>\n",
       "      <td>0.116203</td>\n",
       "      <td>4.341054</td>\n",
       "      <td>0.489478</td>\n",
       "      <td>0.963243</td>\n",
       "    </tr>\n",
       "    <tr>\n",
       "      <th>97</th>\n",
       "      <td>0.512221</td>\n",
       "      <td>4.651772</td>\n",
       "      <td>1.499198</td>\n",
       "      <td>1.455553</td>\n",
       "      <td>3.794567</td>\n",
       "    </tr>\n",
       "    <tr>\n",
       "      <th>98</th>\n",
       "      <td>4.355856</td>\n",
       "      <td>0.519526</td>\n",
       "      <td>4.295493</td>\n",
       "      <td>2.125675</td>\n",
       "      <td>0.139452</td>\n",
       "    </tr>\n",
       "    <tr>\n",
       "      <th>99</th>\n",
       "      <td>2.206538</td>\n",
       "      <td>0.747282</td>\n",
       "      <td>2.001103</td>\n",
       "      <td>1.375574</td>\n",
       "      <td>3.560555</td>\n",
       "    </tr>\n",
       "    <tr>\n",
       "      <th>100</th>\n",
       "      <td>1.890109</td>\n",
       "      <td>0.383270</td>\n",
       "      <td>4.071711</td>\n",
       "      <td>4.893664</td>\n",
       "      <td>2.906323</td>\n",
       "    </tr>\n",
       "  </tbody>\n",
       "</table>\n",
       "<p>100 rows × 5 columns</p>\n",
       "</div>"
      ],
      "text/plain": [
       "            A         B         C         D         E\n",
       "1    2.082278  1.427780  4.395752  1.577751  1.248138\n",
       "2    0.727686  1.235873  3.223276  2.636822  0.261840\n",
       "3    2.103738  3.972428  4.643456  1.214672  4.490142\n",
       "4    4.457503  0.999359  0.121708  3.057191  3.126940\n",
       "5    2.239880  2.973753  3.042026  2.490757  4.403872\n",
       "..        ...       ...       ...       ...       ...\n",
       "96   2.807394  0.116203  4.341054  0.489478  0.963243\n",
       "97   0.512221  4.651772  1.499198  1.455553  3.794567\n",
       "98   4.355856  0.519526  4.295493  2.125675  0.139452\n",
       "99   2.206538  0.747282  2.001103  1.375574  3.560555\n",
       "100  1.890109  0.383270  4.071711  4.893664  2.906323\n",
       "\n",
       "[100 rows x 5 columns]"
      ]
     },
     "execution_count": 98,
     "metadata": {},
     "output_type": "execute_result"
    }
   ],
   "source": [
    "data = np.random.uniform(low = 0, high = 5, size = (100,5))\n",
    "ex23 = pd.DataFrame(data, \n",
    "                  index = range(1,data.shape[0]+1), \n",
    "                  columns = list('ABCDE'))  \n",
    "ex23"
   ]
  },
  {
   "cell_type": "code",
   "execution_count": 119,
   "id": "82fc8f7e",
   "metadata": {},
   "outputs": [
    {
     "name": "stdout",
     "output_type": "stream",
     "text": [
      "Number of lines: 100\n",
      "Number of columns: 5\n",
      "Shape: (100, 5)\n",
      "Total number of elements: 500\n",
      "Number of dimensions: 2\n",
      "Data types: A    float64\n",
      "B    float64\n",
      "C    float64\n",
      "D    float64\n",
      "E    float64\n",
      "dtype: object\n"
     ]
    }
   ],
   "source": [
    "print(f\"Number of lines: {len(ex23.index)}\")\n",
    "print(f\"Number of columns: {len(ex23.columns)}\")\n",
    "print(f\"Shape: {ex23.shape}\")\n",
    "print(f\"Total number of elements: {ex23.size}\")\n",
    "print(f\"Number of dimensions: {ex23.ndim}\")\n",
    "print(f\"Data types: {ex23.dtypes}\")"
   ]
  },
  {
   "cell_type": "code",
   "execution_count": 115,
   "id": "9291989b",
   "metadata": {},
   "outputs": [
    {
     "name": "stdout",
     "output_type": "stream",
     "text": [
      "<class 'pandas.core.frame.DataFrame'>\n",
      "RangeIndex: 100 entries, 1 to 100\n",
      "Data columns (total 5 columns):\n",
      " #   Column  Non-Null Count  Dtype  \n",
      "---  ------  --------------  -----  \n",
      " 0   A       100 non-null    float64\n",
      " 1   B       100 non-null    float64\n",
      " 2   C       100 non-null    float64\n",
      " 3   D       100 non-null    float64\n",
      " 4   E       100 non-null    float64\n",
      "dtypes: float64(5)\n",
      "memory usage: 4.0 KB\n"
     ]
    }
   ],
   "source": [
    "ex23.info()"
   ]
  },
  {
   "cell_type": "code",
   "execution_count": 116,
   "id": "4c1e7a4a",
   "metadata": {},
   "outputs": [
    {
     "data": {
      "text/html": [
       "<div>\n",
       "<style scoped>\n",
       "    .dataframe tbody tr th:only-of-type {\n",
       "        vertical-align: middle;\n",
       "    }\n",
       "\n",
       "    .dataframe tbody tr th {\n",
       "        vertical-align: top;\n",
       "    }\n",
       "\n",
       "    .dataframe thead th {\n",
       "        text-align: right;\n",
       "    }\n",
       "</style>\n",
       "<table border=\"1\" class=\"dataframe\">\n",
       "  <thead>\n",
       "    <tr style=\"text-align: right;\">\n",
       "      <th></th>\n",
       "      <th>A</th>\n",
       "      <th>B</th>\n",
       "      <th>C</th>\n",
       "      <th>D</th>\n",
       "      <th>E</th>\n",
       "    </tr>\n",
       "  </thead>\n",
       "  <tbody>\n",
       "    <tr>\n",
       "      <th>count</th>\n",
       "      <td>100.000000</td>\n",
       "      <td>100.000000</td>\n",
       "      <td>100.000000</td>\n",
       "      <td>100.000000</td>\n",
       "      <td>100.000000</td>\n",
       "    </tr>\n",
       "    <tr>\n",
       "      <th>mean</th>\n",
       "      <td>2.441570</td>\n",
       "      <td>2.319335</td>\n",
       "      <td>2.674760</td>\n",
       "      <td>2.543519</td>\n",
       "      <td>2.443720</td>\n",
       "    </tr>\n",
       "    <tr>\n",
       "      <th>std</th>\n",
       "      <td>1.422139</td>\n",
       "      <td>1.588258</td>\n",
       "      <td>1.563658</td>\n",
       "      <td>1.383763</td>\n",
       "      <td>1.339749</td>\n",
       "    </tr>\n",
       "    <tr>\n",
       "      <th>min</th>\n",
       "      <td>0.033834</td>\n",
       "      <td>0.039397</td>\n",
       "      <td>0.028173</td>\n",
       "      <td>0.145215</td>\n",
       "      <td>0.030417</td>\n",
       "    </tr>\n",
       "    <tr>\n",
       "      <th>25%</th>\n",
       "      <td>1.196937</td>\n",
       "      <td>0.917028</td>\n",
       "      <td>1.071666</td>\n",
       "      <td>1.435558</td>\n",
       "      <td>1.270117</td>\n",
       "    </tr>\n",
       "    <tr>\n",
       "      <th>50%</th>\n",
       "      <td>2.228005</td>\n",
       "      <td>2.123686</td>\n",
       "      <td>2.861745</td>\n",
       "      <td>2.458587</td>\n",
       "      <td>2.603074</td>\n",
       "    </tr>\n",
       "    <tr>\n",
       "      <th>75%</th>\n",
       "      <td>3.805602</td>\n",
       "      <td>3.846869</td>\n",
       "      <td>4.117535</td>\n",
       "      <td>3.770079</td>\n",
       "      <td>3.410151</td>\n",
       "    </tr>\n",
       "    <tr>\n",
       "      <th>max</th>\n",
       "      <td>4.842509</td>\n",
       "      <td>4.952737</td>\n",
       "      <td>4.899042</td>\n",
       "      <td>4.980193</td>\n",
       "      <td>4.901023</td>\n",
       "    </tr>\n",
       "  </tbody>\n",
       "</table>\n",
       "</div>"
      ],
      "text/plain": [
       "                A           B           C           D           E\n",
       "count  100.000000  100.000000  100.000000  100.000000  100.000000\n",
       "mean     2.441570    2.319335    2.674760    2.543519    2.443720\n",
       "std      1.422139    1.588258    1.563658    1.383763    1.339749\n",
       "min      0.033834    0.039397    0.028173    0.145215    0.030417\n",
       "25%      1.196937    0.917028    1.071666    1.435558    1.270117\n",
       "50%      2.228005    2.123686    2.861745    2.458587    2.603074\n",
       "75%      3.805602    3.846869    4.117535    3.770079    3.410151\n",
       "max      4.842509    4.952737    4.899042    4.980193    4.901023"
      ]
     },
     "execution_count": 116,
     "metadata": {},
     "output_type": "execute_result"
    }
   ],
   "source": [
    "ex23.describe()"
   ]
  },
  {
   "cell_type": "markdown",
   "id": "14c227ee",
   "metadata": {},
   "source": [
    "---\n",
    "## Exercise 24: \n",
    "Build the DataFrame below and do:\n",
    "<img src = https://img-c.udemycdn.com/redactor/raw/article_lecture/2020-12-21_19-02-05-c2eb6aed7d8a635cea547dc4c496693f.png>\n",
    "\n",
    "a) display the data type of each column;\n",
    "\n",
    "b) convert the dtype of columns 'C' and 'E' to category (Tip: df['columns'].astype('category'));\n",
    "\n",
    "c) select and print only the columns from the category type (Tip: df.select_dtypes('category'));\n",
    "\n",
    "d) select and print only the columns from the bool type;\n",
    "\n",
    "f) select and print only the numeric columns;\n",
    "\n",
    "g) print descriptive statistics for each column, including categorical columns.\n",
    "\n",
    "\n",
    "    dic = {\n",
    "        'A': [11, 3, 7, 99, 100, 130, 150],\n",
    "        'B': [1.2, 0.5, 1.2, 3.2, 0.9, 1.7, 9.5],\n",
    "        'C': ['A', 'Z', 'W', 'K', 'A', 'Z', 'Z'],\n",
    "        'D': [True, False, True, False, True, False, True],    \n",
    "        'E': ['A', 'A', 'B', 'B', 'A', 'A', 'B'],\n",
    "        'F': [True, True, False, False, True, False, True],}"
   ]
  },
  {
   "cell_type": "code",
   "execution_count": 121,
   "id": "84d167e2",
   "metadata": {},
   "outputs": [
    {
     "data": {
      "text/html": [
       "<div>\n",
       "<style scoped>\n",
       "    .dataframe tbody tr th:only-of-type {\n",
       "        vertical-align: middle;\n",
       "    }\n",
       "\n",
       "    .dataframe tbody tr th {\n",
       "        vertical-align: top;\n",
       "    }\n",
       "\n",
       "    .dataframe thead th {\n",
       "        text-align: right;\n",
       "    }\n",
       "</style>\n",
       "<table border=\"1\" class=\"dataframe\">\n",
       "  <thead>\n",
       "    <tr style=\"text-align: right;\">\n",
       "      <th></th>\n",
       "      <th>A</th>\n",
       "      <th>B</th>\n",
       "      <th>C</th>\n",
       "      <th>D</th>\n",
       "      <th>E</th>\n",
       "      <th>F</th>\n",
       "    </tr>\n",
       "  </thead>\n",
       "  <tbody>\n",
       "    <tr>\n",
       "      <th>10</th>\n",
       "      <td>11</td>\n",
       "      <td>1.2</td>\n",
       "      <td>A</td>\n",
       "      <td>True</td>\n",
       "      <td>A</td>\n",
       "      <td>True</td>\n",
       "    </tr>\n",
       "    <tr>\n",
       "      <th>20</th>\n",
       "      <td>3</td>\n",
       "      <td>0.5</td>\n",
       "      <td>Z</td>\n",
       "      <td>False</td>\n",
       "      <td>A</td>\n",
       "      <td>True</td>\n",
       "    </tr>\n",
       "    <tr>\n",
       "      <th>30</th>\n",
       "      <td>7</td>\n",
       "      <td>1.2</td>\n",
       "      <td>W</td>\n",
       "      <td>True</td>\n",
       "      <td>B</td>\n",
       "      <td>False</td>\n",
       "    </tr>\n",
       "    <tr>\n",
       "      <th>40</th>\n",
       "      <td>99</td>\n",
       "      <td>3.2</td>\n",
       "      <td>K</td>\n",
       "      <td>False</td>\n",
       "      <td>B</td>\n",
       "      <td>False</td>\n",
       "    </tr>\n",
       "    <tr>\n",
       "      <th>50</th>\n",
       "      <td>100</td>\n",
       "      <td>0.9</td>\n",
       "      <td>A</td>\n",
       "      <td>True</td>\n",
       "      <td>A</td>\n",
       "      <td>True</td>\n",
       "    </tr>\n",
       "    <tr>\n",
       "      <th>60</th>\n",
       "      <td>130</td>\n",
       "      <td>1.7</td>\n",
       "      <td>Z</td>\n",
       "      <td>False</td>\n",
       "      <td>A</td>\n",
       "      <td>False</td>\n",
       "    </tr>\n",
       "    <tr>\n",
       "      <th>70</th>\n",
       "      <td>150</td>\n",
       "      <td>9.5</td>\n",
       "      <td>Z</td>\n",
       "      <td>True</td>\n",
       "      <td>B</td>\n",
       "      <td>True</td>\n",
       "    </tr>\n",
       "  </tbody>\n",
       "</table>\n",
       "</div>"
      ],
      "text/plain": [
       "      A    B  C      D  E      F\n",
       "10   11  1.2  A   True  A   True\n",
       "20    3  0.5  Z  False  A   True\n",
       "30    7  1.2  W   True  B  False\n",
       "40   99  3.2  K  False  B  False\n",
       "50  100  0.9  A   True  A   True\n",
       "60  130  1.7  Z  False  A  False\n",
       "70  150  9.5  Z   True  B   True"
      ]
     },
     "execution_count": 121,
     "metadata": {},
     "output_type": "execute_result"
    }
   ],
   "source": [
    "ex24_dic = {\n",
    "    'A': [11, 3, 7, 99, 100, 130, 150],\n",
    "    'B': [1.2, 0.5, 1.2, 3.2, 0.9, 1.7, 9.5],\n",
    "    'C': ['A', 'Z', 'W', 'K', 'A', 'Z', 'Z'],\n",
    "    'D': [True, False, True, False, True, False, True],    \n",
    "    'E': ['A', 'A', 'B', 'B', 'A', 'A', 'B'],\n",
    "    'F': [True, True, False, False, True, False, True],}\n",
    "ex24 = pd.DataFrame(ex24_dic, index = range(10,71,10), columns=list(\"ABCDEF\"))\n",
    "ex24"
   ]
  },
  {
   "cell_type": "code",
   "execution_count": 122,
   "id": "71135f34",
   "metadata": {},
   "outputs": [
    {
     "data": {
      "text/plain": [
       "A      int64\n",
       "B    float64\n",
       "C     object\n",
       "D       bool\n",
       "E     object\n",
       "F       bool\n",
       "dtype: object"
      ]
     },
     "execution_count": 122,
     "metadata": {},
     "output_type": "execute_result"
    }
   ],
   "source": [
    "ex24.dtypes"
   ]
  },
  {
   "cell_type": "code",
   "execution_count": 131,
   "id": "e30069e0",
   "metadata": {},
   "outputs": [
    {
     "data": {
      "text/plain": [
       "A       int64\n",
       "B     float64\n",
       "C    category\n",
       "D        bool\n",
       "E    category\n",
       "F        bool\n",
       "dtype: object"
      ]
     },
     "execution_count": 131,
     "metadata": {},
     "output_type": "execute_result"
    }
   ],
   "source": [
    "ex24[[\"C\",\"E\"]] = ex24[[\"C\",\"E\"]].astype(\"category\")\n",
    "ex24.dtypes"
   ]
  },
  {
   "cell_type": "code",
   "execution_count": 133,
   "id": "128e79c9",
   "metadata": {},
   "outputs": [
    {
     "data": {
      "text/html": [
       "<div>\n",
       "<style scoped>\n",
       "    .dataframe tbody tr th:only-of-type {\n",
       "        vertical-align: middle;\n",
       "    }\n",
       "\n",
       "    .dataframe tbody tr th {\n",
       "        vertical-align: top;\n",
       "    }\n",
       "\n",
       "    .dataframe thead th {\n",
       "        text-align: right;\n",
       "    }\n",
       "</style>\n",
       "<table border=\"1\" class=\"dataframe\">\n",
       "  <thead>\n",
       "    <tr style=\"text-align: right;\">\n",
       "      <th></th>\n",
       "      <th>C</th>\n",
       "      <th>E</th>\n",
       "    </tr>\n",
       "  </thead>\n",
       "  <tbody>\n",
       "    <tr>\n",
       "      <th>10</th>\n",
       "      <td>A</td>\n",
       "      <td>A</td>\n",
       "    </tr>\n",
       "    <tr>\n",
       "      <th>20</th>\n",
       "      <td>Z</td>\n",
       "      <td>A</td>\n",
       "    </tr>\n",
       "    <tr>\n",
       "      <th>30</th>\n",
       "      <td>W</td>\n",
       "      <td>B</td>\n",
       "    </tr>\n",
       "    <tr>\n",
       "      <th>40</th>\n",
       "      <td>K</td>\n",
       "      <td>B</td>\n",
       "    </tr>\n",
       "    <tr>\n",
       "      <th>50</th>\n",
       "      <td>A</td>\n",
       "      <td>A</td>\n",
       "    </tr>\n",
       "    <tr>\n",
       "      <th>60</th>\n",
       "      <td>Z</td>\n",
       "      <td>A</td>\n",
       "    </tr>\n",
       "    <tr>\n",
       "      <th>70</th>\n",
       "      <td>Z</td>\n",
       "      <td>B</td>\n",
       "    </tr>\n",
       "  </tbody>\n",
       "</table>\n",
       "</div>"
      ],
      "text/plain": [
       "    C  E\n",
       "10  A  A\n",
       "20  Z  A\n",
       "30  W  B\n",
       "40  K  B\n",
       "50  A  A\n",
       "60  Z  A\n",
       "70  Z  B"
      ]
     },
     "execution_count": 133,
     "metadata": {},
     "output_type": "execute_result"
    }
   ],
   "source": [
    "ex24.select_dtypes('category')"
   ]
  },
  {
   "cell_type": "code",
   "execution_count": 136,
   "id": "c558b795",
   "metadata": {},
   "outputs": [
    {
     "data": {
      "text/html": [
       "<div>\n",
       "<style scoped>\n",
       "    .dataframe tbody tr th:only-of-type {\n",
       "        vertical-align: middle;\n",
       "    }\n",
       "\n",
       "    .dataframe tbody tr th {\n",
       "        vertical-align: top;\n",
       "    }\n",
       "\n",
       "    .dataframe thead th {\n",
       "        text-align: right;\n",
       "    }\n",
       "</style>\n",
       "<table border=\"1\" class=\"dataframe\">\n",
       "  <thead>\n",
       "    <tr style=\"text-align: right;\">\n",
       "      <th></th>\n",
       "      <th>D</th>\n",
       "      <th>F</th>\n",
       "    </tr>\n",
       "  </thead>\n",
       "  <tbody>\n",
       "    <tr>\n",
       "      <th>10</th>\n",
       "      <td>True</td>\n",
       "      <td>True</td>\n",
       "    </tr>\n",
       "    <tr>\n",
       "      <th>20</th>\n",
       "      <td>False</td>\n",
       "      <td>True</td>\n",
       "    </tr>\n",
       "    <tr>\n",
       "      <th>30</th>\n",
       "      <td>True</td>\n",
       "      <td>False</td>\n",
       "    </tr>\n",
       "    <tr>\n",
       "      <th>40</th>\n",
       "      <td>False</td>\n",
       "      <td>False</td>\n",
       "    </tr>\n",
       "    <tr>\n",
       "      <th>50</th>\n",
       "      <td>True</td>\n",
       "      <td>True</td>\n",
       "    </tr>\n",
       "    <tr>\n",
       "      <th>60</th>\n",
       "      <td>False</td>\n",
       "      <td>False</td>\n",
       "    </tr>\n",
       "    <tr>\n",
       "      <th>70</th>\n",
       "      <td>True</td>\n",
       "      <td>True</td>\n",
       "    </tr>\n",
       "  </tbody>\n",
       "</table>\n",
       "</div>"
      ],
      "text/plain": [
       "        D      F\n",
       "10   True   True\n",
       "20  False   True\n",
       "30   True  False\n",
       "40  False  False\n",
       "50   True   True\n",
       "60  False  False\n",
       "70   True   True"
      ]
     },
     "execution_count": 136,
     "metadata": {},
     "output_type": "execute_result"
    }
   ],
   "source": [
    "ex24.select_dtypes('bool')"
   ]
  },
  {
   "cell_type": "code",
   "execution_count": 140,
   "id": "866969b1",
   "metadata": {},
   "outputs": [
    {
     "data": {
      "text/html": [
       "<div>\n",
       "<style scoped>\n",
       "    .dataframe tbody tr th:only-of-type {\n",
       "        vertical-align: middle;\n",
       "    }\n",
       "\n",
       "    .dataframe tbody tr th {\n",
       "        vertical-align: top;\n",
       "    }\n",
       "\n",
       "    .dataframe thead th {\n",
       "        text-align: right;\n",
       "    }\n",
       "</style>\n",
       "<table border=\"1\" class=\"dataframe\">\n",
       "  <thead>\n",
       "    <tr style=\"text-align: right;\">\n",
       "      <th></th>\n",
       "      <th>A</th>\n",
       "      <th>B</th>\n",
       "    </tr>\n",
       "  </thead>\n",
       "  <tbody>\n",
       "    <tr>\n",
       "      <th>10</th>\n",
       "      <td>11</td>\n",
       "      <td>1.2</td>\n",
       "    </tr>\n",
       "    <tr>\n",
       "      <th>20</th>\n",
       "      <td>3</td>\n",
       "      <td>0.5</td>\n",
       "    </tr>\n",
       "    <tr>\n",
       "      <th>30</th>\n",
       "      <td>7</td>\n",
       "      <td>1.2</td>\n",
       "    </tr>\n",
       "    <tr>\n",
       "      <th>40</th>\n",
       "      <td>99</td>\n",
       "      <td>3.2</td>\n",
       "    </tr>\n",
       "    <tr>\n",
       "      <th>50</th>\n",
       "      <td>100</td>\n",
       "      <td>0.9</td>\n",
       "    </tr>\n",
       "    <tr>\n",
       "      <th>60</th>\n",
       "      <td>130</td>\n",
       "      <td>1.7</td>\n",
       "    </tr>\n",
       "    <tr>\n",
       "      <th>70</th>\n",
       "      <td>150</td>\n",
       "      <td>9.5</td>\n",
       "    </tr>\n",
       "  </tbody>\n",
       "</table>\n",
       "</div>"
      ],
      "text/plain": [
       "      A    B\n",
       "10   11  1.2\n",
       "20    3  0.5\n",
       "30    7  1.2\n",
       "40   99  3.2\n",
       "50  100  0.9\n",
       "60  130  1.7\n",
       "70  150  9.5"
      ]
     },
     "execution_count": 140,
     "metadata": {},
     "output_type": "execute_result"
    }
   ],
   "source": [
    "ex24.select_dtypes([\"int64\",\"float64\"])"
   ]
  },
  {
   "cell_type": "code",
   "execution_count": 145,
   "id": "7c9adbef",
   "metadata": {},
   "outputs": [
    {
     "data": {
      "text/html": [
       "<div>\n",
       "<style scoped>\n",
       "    .dataframe tbody tr th:only-of-type {\n",
       "        vertical-align: middle;\n",
       "    }\n",
       "\n",
       "    .dataframe tbody tr th {\n",
       "        vertical-align: top;\n",
       "    }\n",
       "\n",
       "    .dataframe thead th {\n",
       "        text-align: right;\n",
       "    }\n",
       "</style>\n",
       "<table border=\"1\" class=\"dataframe\">\n",
       "  <thead>\n",
       "    <tr style=\"text-align: right;\">\n",
       "      <th></th>\n",
       "      <th>A</th>\n",
       "      <th>B</th>\n",
       "      <th>C</th>\n",
       "      <th>D</th>\n",
       "      <th>E</th>\n",
       "      <th>F</th>\n",
       "    </tr>\n",
       "  </thead>\n",
       "  <tbody>\n",
       "    <tr>\n",
       "      <th>count</th>\n",
       "      <td>7.000000</td>\n",
       "      <td>7.000000</td>\n",
       "      <td>7</td>\n",
       "      <td>7</td>\n",
       "      <td>7</td>\n",
       "      <td>7</td>\n",
       "    </tr>\n",
       "    <tr>\n",
       "      <th>unique</th>\n",
       "      <td>NaN</td>\n",
       "      <td>NaN</td>\n",
       "      <td>4</td>\n",
       "      <td>2</td>\n",
       "      <td>2</td>\n",
       "      <td>2</td>\n",
       "    </tr>\n",
       "    <tr>\n",
       "      <th>top</th>\n",
       "      <td>NaN</td>\n",
       "      <td>NaN</td>\n",
       "      <td>Z</td>\n",
       "      <td>True</td>\n",
       "      <td>A</td>\n",
       "      <td>True</td>\n",
       "    </tr>\n",
       "    <tr>\n",
       "      <th>freq</th>\n",
       "      <td>NaN</td>\n",
       "      <td>NaN</td>\n",
       "      <td>3</td>\n",
       "      <td>4</td>\n",
       "      <td>4</td>\n",
       "      <td>4</td>\n",
       "    </tr>\n",
       "    <tr>\n",
       "      <th>mean</th>\n",
       "      <td>71.428571</td>\n",
       "      <td>2.600000</td>\n",
       "      <td>NaN</td>\n",
       "      <td>NaN</td>\n",
       "      <td>NaN</td>\n",
       "      <td>NaN</td>\n",
       "    </tr>\n",
       "    <tr>\n",
       "      <th>std</th>\n",
       "      <td>62.803549</td>\n",
       "      <td>3.162278</td>\n",
       "      <td>NaN</td>\n",
       "      <td>NaN</td>\n",
       "      <td>NaN</td>\n",
       "      <td>NaN</td>\n",
       "    </tr>\n",
       "    <tr>\n",
       "      <th>min</th>\n",
       "      <td>3.000000</td>\n",
       "      <td>0.500000</td>\n",
       "      <td>NaN</td>\n",
       "      <td>NaN</td>\n",
       "      <td>NaN</td>\n",
       "      <td>NaN</td>\n",
       "    </tr>\n",
       "    <tr>\n",
       "      <th>25%</th>\n",
       "      <td>9.000000</td>\n",
       "      <td>1.050000</td>\n",
       "      <td>NaN</td>\n",
       "      <td>NaN</td>\n",
       "      <td>NaN</td>\n",
       "      <td>NaN</td>\n",
       "    </tr>\n",
       "    <tr>\n",
       "      <th>50%</th>\n",
       "      <td>99.000000</td>\n",
       "      <td>1.200000</td>\n",
       "      <td>NaN</td>\n",
       "      <td>NaN</td>\n",
       "      <td>NaN</td>\n",
       "      <td>NaN</td>\n",
       "    </tr>\n",
       "    <tr>\n",
       "      <th>75%</th>\n",
       "      <td>115.000000</td>\n",
       "      <td>2.450000</td>\n",
       "      <td>NaN</td>\n",
       "      <td>NaN</td>\n",
       "      <td>NaN</td>\n",
       "      <td>NaN</td>\n",
       "    </tr>\n",
       "    <tr>\n",
       "      <th>max</th>\n",
       "      <td>150.000000</td>\n",
       "      <td>9.500000</td>\n",
       "      <td>NaN</td>\n",
       "      <td>NaN</td>\n",
       "      <td>NaN</td>\n",
       "      <td>NaN</td>\n",
       "    </tr>\n",
       "  </tbody>\n",
       "</table>\n",
       "</div>"
      ],
      "text/plain": [
       "                 A         B    C     D    E     F\n",
       "count     7.000000  7.000000    7     7    7     7\n",
       "unique         NaN       NaN    4     2    2     2\n",
       "top            NaN       NaN    Z  True    A  True\n",
       "freq           NaN       NaN    3     4    4     4\n",
       "mean     71.428571  2.600000  NaN   NaN  NaN   NaN\n",
       "std      62.803549  3.162278  NaN   NaN  NaN   NaN\n",
       "min       3.000000  0.500000  NaN   NaN  NaN   NaN\n",
       "25%       9.000000  1.050000  NaN   NaN  NaN   NaN\n",
       "50%      99.000000  1.200000  NaN   NaN  NaN   NaN\n",
       "75%     115.000000  2.450000  NaN   NaN  NaN   NaN\n",
       "max     150.000000  9.500000  NaN   NaN  NaN   NaN"
      ]
     },
     "execution_count": 145,
     "metadata": {},
     "output_type": "execute_result"
    }
   ],
   "source": [
    "ex24.describe(include= \"all\")"
   ]
  },
  {
   "cell_type": "markdown",
   "id": "14954218",
   "metadata": {},
   "source": [
    "---\n",
    "## Ecercise 25: \n",
    "Build the DataFrame below. Use NumPy to construct the column data, with the np.random.normal() function, consider a distribution with a mean of 10 and a standard deviation of 0.5. Use List Comprehension to configure indexes and columns.\n",
    "<img src = https://img-c.udemycdn.com/redactor/raw/article_lecture/2020-12-21_19-11-24-1f686ebebfcd9e467454b1a55a120c33.png>"
   ]
  },
  {
   "cell_type": "code",
   "execution_count": 154,
   "id": "abb5d190",
   "metadata": {},
   "outputs": [],
   "source": [
    "ex25_data = np.random.normal(10,0.5,(10,10))\n",
    "ex25_cols = list(\"ABCDEFGHIJ\")\n",
    "ex25_index = [col + str(i) for i, col in zip(range(1,11), ex25_cols)]"
   ]
  },
  {
   "cell_type": "code",
   "execution_count": 156,
   "id": "e5d3a419",
   "metadata": {},
   "outputs": [
    {
     "data": {
      "text/html": [
       "<div>\n",
       "<style scoped>\n",
       "    .dataframe tbody tr th:only-of-type {\n",
       "        vertical-align: middle;\n",
       "    }\n",
       "\n",
       "    .dataframe tbody tr th {\n",
       "        vertical-align: top;\n",
       "    }\n",
       "\n",
       "    .dataframe thead th {\n",
       "        text-align: right;\n",
       "    }\n",
       "</style>\n",
       "<table border=\"1\" class=\"dataframe\">\n",
       "  <thead>\n",
       "    <tr style=\"text-align: right;\">\n",
       "      <th></th>\n",
       "      <th>A</th>\n",
       "      <th>B</th>\n",
       "      <th>C</th>\n",
       "      <th>D</th>\n",
       "      <th>E</th>\n",
       "      <th>F</th>\n",
       "      <th>G</th>\n",
       "      <th>H</th>\n",
       "      <th>I</th>\n",
       "      <th>J</th>\n",
       "    </tr>\n",
       "  </thead>\n",
       "  <tbody>\n",
       "    <tr>\n",
       "      <th>A1</th>\n",
       "      <td>8.719068</td>\n",
       "      <td>9.203685</td>\n",
       "      <td>9.472036</td>\n",
       "      <td>9.579921</td>\n",
       "      <td>8.973867</td>\n",
       "      <td>9.089124</td>\n",
       "      <td>9.396348</td>\n",
       "      <td>9.952827</td>\n",
       "      <td>9.322706</td>\n",
       "      <td>10.310613</td>\n",
       "    </tr>\n",
       "    <tr>\n",
       "      <th>B2</th>\n",
       "      <td>8.871163</td>\n",
       "      <td>9.755773</td>\n",
       "      <td>9.987404</td>\n",
       "      <td>9.478188</td>\n",
       "      <td>10.050214</td>\n",
       "      <td>9.725658</td>\n",
       "      <td>9.278581</td>\n",
       "      <td>9.252132</td>\n",
       "      <td>9.737578</td>\n",
       "      <td>10.496038</td>\n",
       "    </tr>\n",
       "    <tr>\n",
       "      <th>C3</th>\n",
       "      <td>10.030842</td>\n",
       "      <td>10.174340</td>\n",
       "      <td>9.739176</td>\n",
       "      <td>9.650808</td>\n",
       "      <td>10.127756</td>\n",
       "      <td>11.363567</td>\n",
       "      <td>9.511175</td>\n",
       "      <td>9.637201</td>\n",
       "      <td>9.416449</td>\n",
       "      <td>10.621740</td>\n",
       "    </tr>\n",
       "    <tr>\n",
       "      <th>D4</th>\n",
       "      <td>9.888806</td>\n",
       "      <td>9.713942</td>\n",
       "      <td>9.991053</td>\n",
       "      <td>9.909787</td>\n",
       "      <td>9.624097</td>\n",
       "      <td>9.647432</td>\n",
       "      <td>10.366156</td>\n",
       "      <td>10.462037</td>\n",
       "      <td>9.327204</td>\n",
       "      <td>10.674297</td>\n",
       "    </tr>\n",
       "    <tr>\n",
       "      <th>E5</th>\n",
       "      <td>10.143671</td>\n",
       "      <td>10.321495</td>\n",
       "      <td>9.452408</td>\n",
       "      <td>9.370065</td>\n",
       "      <td>9.851665</td>\n",
       "      <td>9.898241</td>\n",
       "      <td>10.147860</td>\n",
       "      <td>10.051863</td>\n",
       "      <td>9.932915</td>\n",
       "      <td>9.762392</td>\n",
       "    </tr>\n",
       "    <tr>\n",
       "      <th>F6</th>\n",
       "      <td>10.146971</td>\n",
       "      <td>10.379142</td>\n",
       "      <td>10.523551</td>\n",
       "      <td>9.128028</td>\n",
       "      <td>9.963354</td>\n",
       "      <td>9.429603</td>\n",
       "      <td>10.111319</td>\n",
       "      <td>11.117146</td>\n",
       "      <td>9.870804</td>\n",
       "      <td>9.455233</td>\n",
       "    </tr>\n",
       "    <tr>\n",
       "      <th>G7</th>\n",
       "      <td>10.444743</td>\n",
       "      <td>9.798570</td>\n",
       "      <td>10.955143</td>\n",
       "      <td>8.898516</td>\n",
       "      <td>9.134292</td>\n",
       "      <td>9.381896</td>\n",
       "      <td>10.387834</td>\n",
       "      <td>10.415598</td>\n",
       "      <td>9.698439</td>\n",
       "      <td>10.061904</td>\n",
       "    </tr>\n",
       "    <tr>\n",
       "      <th>H8</th>\n",
       "      <td>10.570605</td>\n",
       "      <td>10.122274</td>\n",
       "      <td>9.711744</td>\n",
       "      <td>9.532529</td>\n",
       "      <td>10.141822</td>\n",
       "      <td>9.537766</td>\n",
       "      <td>10.171020</td>\n",
       "      <td>9.560554</td>\n",
       "      <td>10.408980</td>\n",
       "      <td>9.834526</td>\n",
       "    </tr>\n",
       "    <tr>\n",
       "      <th>I9</th>\n",
       "      <td>9.445401</td>\n",
       "      <td>9.701742</td>\n",
       "      <td>10.057999</td>\n",
       "      <td>10.023089</td>\n",
       "      <td>10.504552</td>\n",
       "      <td>10.653934</td>\n",
       "      <td>10.092903</td>\n",
       "      <td>9.992266</td>\n",
       "      <td>9.811777</td>\n",
       "      <td>10.450201</td>\n",
       "    </tr>\n",
       "    <tr>\n",
       "      <th>J10</th>\n",
       "      <td>10.243478</td>\n",
       "      <td>9.819590</td>\n",
       "      <td>10.140007</td>\n",
       "      <td>10.420912</td>\n",
       "      <td>9.985452</td>\n",
       "      <td>10.568806</td>\n",
       "      <td>10.336325</td>\n",
       "      <td>10.144731</td>\n",
       "      <td>9.784838</td>\n",
       "      <td>9.945643</td>\n",
       "    </tr>\n",
       "  </tbody>\n",
       "</table>\n",
       "</div>"
      ],
      "text/plain": [
       "             A          B          C          D          E          F  \\\n",
       "A1    8.719068   9.203685   9.472036   9.579921   8.973867   9.089124   \n",
       "B2    8.871163   9.755773   9.987404   9.478188  10.050214   9.725658   \n",
       "C3   10.030842  10.174340   9.739176   9.650808  10.127756  11.363567   \n",
       "D4    9.888806   9.713942   9.991053   9.909787   9.624097   9.647432   \n",
       "E5   10.143671  10.321495   9.452408   9.370065   9.851665   9.898241   \n",
       "F6   10.146971  10.379142  10.523551   9.128028   9.963354   9.429603   \n",
       "G7   10.444743   9.798570  10.955143   8.898516   9.134292   9.381896   \n",
       "H8   10.570605  10.122274   9.711744   9.532529  10.141822   9.537766   \n",
       "I9    9.445401   9.701742  10.057999  10.023089  10.504552  10.653934   \n",
       "J10  10.243478   9.819590  10.140007  10.420912   9.985452  10.568806   \n",
       "\n",
       "             G          H          I          J  \n",
       "A1    9.396348   9.952827   9.322706  10.310613  \n",
       "B2    9.278581   9.252132   9.737578  10.496038  \n",
       "C3    9.511175   9.637201   9.416449  10.621740  \n",
       "D4   10.366156  10.462037   9.327204  10.674297  \n",
       "E5   10.147860  10.051863   9.932915   9.762392  \n",
       "F6   10.111319  11.117146   9.870804   9.455233  \n",
       "G7   10.387834  10.415598   9.698439  10.061904  \n",
       "H8   10.171020   9.560554  10.408980   9.834526  \n",
       "I9   10.092903   9.992266   9.811777  10.450201  \n",
       "J10  10.336325  10.144731   9.784838   9.945643  "
      ]
     },
     "execution_count": 156,
     "metadata": {},
     "output_type": "execute_result"
    }
   ],
   "source": [
    "ex25 = pd.DataFrame(ex25_data,index= ex25_index, columns = ex25_cols)\n",
    "ex25"
   ]
  },
  {
   "cell_type": "markdown",
   "id": "f1053ca6",
   "metadata": {},
   "source": [
    "---\n",
    "## Exercise 26:\n",
    "Based on the following DataFrame obtain:\n",
    "\n",
    "<img src = https://img-c.udemycdn.com/redactor/raw/article_lecture/2021-01-12_19-52-41-3919e1713b9f053e528703e34575c939.png>\n",
    "\n",
    "a) select the 'Name' column and store it in a variable;\n",
    "\n",
    "b) select the 'Result' column and store it in a variable;\n",
    "\n",
    "c) select and print the 'Name' and 'Result' columns;\n",
    "\n",
    "d) select the line 6 of the DataFrame;\n",
    "\n",
    "e) select the DataFrame lines 3 to 5."
   ]
  },
  {
   "cell_type": "code",
   "execution_count": 158,
   "id": "a679a392",
   "metadata": {},
   "outputs": [
    {
     "data": {
      "text/html": [
       "<div>\n",
       "<style scoped>\n",
       "    .dataframe tbody tr th:only-of-type {\n",
       "        vertical-align: middle;\n",
       "    }\n",
       "\n",
       "    .dataframe tbody tr th {\n",
       "        vertical-align: top;\n",
       "    }\n",
       "\n",
       "    .dataframe thead th {\n",
       "        text-align: right;\n",
       "    }\n",
       "</style>\n",
       "<table border=\"1\" class=\"dataframe\">\n",
       "  <thead>\n",
       "    <tr style=\"text-align: right;\">\n",
       "      <th></th>\n",
       "      <th>Name</th>\n",
       "      <th>Score</th>\n",
       "      <th>Result</th>\n",
       "    </tr>\n",
       "  </thead>\n",
       "  <tbody>\n",
       "    <tr>\n",
       "      <th>0</th>\n",
       "      <td>Carl</td>\n",
       "      <td>7.0</td>\n",
       "      <td>Yes</td>\n",
       "    </tr>\n",
       "    <tr>\n",
       "      <th>1</th>\n",
       "      <td>Margaret</td>\n",
       "      <td>8.0</td>\n",
       "      <td>Yes</td>\n",
       "    </tr>\n",
       "    <tr>\n",
       "      <th>2</th>\n",
       "      <td>Maurice</td>\n",
       "      <td>4.7</td>\n",
       "      <td>No</td>\n",
       "    </tr>\n",
       "    <tr>\n",
       "      <th>3</th>\n",
       "      <td>Oscar</td>\n",
       "      <td>10.0</td>\n",
       "      <td>Yes</td>\n",
       "    </tr>\n",
       "    <tr>\n",
       "      <th>4</th>\n",
       "      <td>Peter</td>\n",
       "      <td>9.5</td>\n",
       "      <td>Yes</td>\n",
       "    </tr>\n",
       "    <tr>\n",
       "      <th>5</th>\n",
       "      <td>Oswald</td>\n",
       "      <td>6.0</td>\n",
       "      <td>No</td>\n",
       "    </tr>\n",
       "    <tr>\n",
       "      <th>6</th>\n",
       "      <td>Paul</td>\n",
       "      <td>5.0</td>\n",
       "      <td>No</td>\n",
       "    </tr>\n",
       "    <tr>\n",
       "      <th>7</th>\n",
       "      <td>Ronald</td>\n",
       "      <td>7.7</td>\n",
       "      <td>Yes</td>\n",
       "    </tr>\n",
       "  </tbody>\n",
       "</table>\n",
       "</div>"
      ],
      "text/plain": [
       "       Name  Score Result\n",
       "0      Carl    7.0    Yes\n",
       "1  Margaret    8.0    Yes\n",
       "2   Maurice    4.7     No\n",
       "3     Oscar   10.0    Yes\n",
       "4     Peter    9.5    Yes\n",
       "5    Oswald    6.0     No\n",
       "6      Paul    5.0     No\n",
       "7    Ronald    7.7    Yes"
      ]
     },
     "execution_count": 158,
     "metadata": {},
     "output_type": "execute_result"
    }
   ],
   "source": [
    "ex26_names = ['Carl', 'Margaret', 'Maurice', 'Oscar', 'Peter', 'Oswald', 'Paul', 'Ronald']\n",
    "ex26_scores = [7, 8 , 4.7, 10, 9.5, 6, 5, 7.7]\n",
    "ex26_result = [\"Yes\" if score >= 7 else \"No\" for score in ex21_scores]\n",
    "ex26_dic = {\"Name\": ex26_names,\n",
    "         \"Score\": ex26_scores,\n",
    "         \"Result\": ex26_result}\n",
    "ex26 = pd.DataFrame(ex26_dic)\n",
    "ex26"
   ]
  },
  {
   "cell_type": "code",
   "execution_count": 161,
   "id": "62313f1a",
   "metadata": {},
   "outputs": [
    {
     "data": {
      "text/plain": [
       "0        Carl\n",
       "1    Margaret\n",
       "2     Maurice\n",
       "3       Oscar\n",
       "4       Peter\n",
       "5      Oswald\n",
       "6        Paul\n",
       "7      Ronald\n",
       "Name: Name, dtype: object"
      ]
     },
     "execution_count": 161,
     "metadata": {},
     "output_type": "execute_result"
    }
   ],
   "source": [
    "ex26A = ex26[\"Name\"]\n",
    "ex26A"
   ]
  },
  {
   "cell_type": "code",
   "execution_count": 162,
   "id": "cd1765f2",
   "metadata": {},
   "outputs": [
    {
     "data": {
      "text/plain": [
       "0    Yes\n",
       "1    Yes\n",
       "2     No\n",
       "3    Yes\n",
       "4    Yes\n",
       "5     No\n",
       "6     No\n",
       "7    Yes\n",
       "Name: Result, dtype: object"
      ]
     },
     "execution_count": 162,
     "metadata": {},
     "output_type": "execute_result"
    }
   ],
   "source": [
    "ex26B = ex26[\"Result\"]\n",
    "ex26B"
   ]
  },
  {
   "cell_type": "code",
   "execution_count": 163,
   "id": "f8b0d50a",
   "metadata": {},
   "outputs": [
    {
     "data": {
      "text/html": [
       "<div>\n",
       "<style scoped>\n",
       "    .dataframe tbody tr th:only-of-type {\n",
       "        vertical-align: middle;\n",
       "    }\n",
       "\n",
       "    .dataframe tbody tr th {\n",
       "        vertical-align: top;\n",
       "    }\n",
       "\n",
       "    .dataframe thead th {\n",
       "        text-align: right;\n",
       "    }\n",
       "</style>\n",
       "<table border=\"1\" class=\"dataframe\">\n",
       "  <thead>\n",
       "    <tr style=\"text-align: right;\">\n",
       "      <th></th>\n",
       "      <th>Name</th>\n",
       "      <th>Result</th>\n",
       "    </tr>\n",
       "  </thead>\n",
       "  <tbody>\n",
       "    <tr>\n",
       "      <th>0</th>\n",
       "      <td>Carl</td>\n",
       "      <td>Yes</td>\n",
       "    </tr>\n",
       "    <tr>\n",
       "      <th>1</th>\n",
       "      <td>Margaret</td>\n",
       "      <td>Yes</td>\n",
       "    </tr>\n",
       "    <tr>\n",
       "      <th>2</th>\n",
       "      <td>Maurice</td>\n",
       "      <td>No</td>\n",
       "    </tr>\n",
       "    <tr>\n",
       "      <th>3</th>\n",
       "      <td>Oscar</td>\n",
       "      <td>Yes</td>\n",
       "    </tr>\n",
       "    <tr>\n",
       "      <th>4</th>\n",
       "      <td>Peter</td>\n",
       "      <td>Yes</td>\n",
       "    </tr>\n",
       "    <tr>\n",
       "      <th>5</th>\n",
       "      <td>Oswald</td>\n",
       "      <td>No</td>\n",
       "    </tr>\n",
       "    <tr>\n",
       "      <th>6</th>\n",
       "      <td>Paul</td>\n",
       "      <td>No</td>\n",
       "    </tr>\n",
       "    <tr>\n",
       "      <th>7</th>\n",
       "      <td>Ronald</td>\n",
       "      <td>Yes</td>\n",
       "    </tr>\n",
       "  </tbody>\n",
       "</table>\n",
       "</div>"
      ],
      "text/plain": [
       "       Name Result\n",
       "0      Carl    Yes\n",
       "1  Margaret    Yes\n",
       "2   Maurice     No\n",
       "3     Oscar    Yes\n",
       "4     Peter    Yes\n",
       "5    Oswald     No\n",
       "6      Paul     No\n",
       "7    Ronald    Yes"
      ]
     },
     "execution_count": 163,
     "metadata": {},
     "output_type": "execute_result"
    }
   ],
   "source": [
    "ex26[[\"Name\",\"Result\"]]"
   ]
  },
  {
   "cell_type": "code",
   "execution_count": 166,
   "id": "3f59180b",
   "metadata": {},
   "outputs": [
    {
     "data": {
      "text/plain": [
       "Name      Oswald\n",
       "Score        6.0\n",
       "Result        No\n",
       "Name: 5, dtype: object"
      ]
     },
     "execution_count": 166,
     "metadata": {},
     "output_type": "execute_result"
    }
   ],
   "source": [
    "ex26.loc[5]"
   ]
  },
  {
   "cell_type": "code",
   "execution_count": 168,
   "id": "8a9e004b",
   "metadata": {},
   "outputs": [
    {
     "data": {
      "text/html": [
       "<div>\n",
       "<style scoped>\n",
       "    .dataframe tbody tr th:only-of-type {\n",
       "        vertical-align: middle;\n",
       "    }\n",
       "\n",
       "    .dataframe tbody tr th {\n",
       "        vertical-align: top;\n",
       "    }\n",
       "\n",
       "    .dataframe thead th {\n",
       "        text-align: right;\n",
       "    }\n",
       "</style>\n",
       "<table border=\"1\" class=\"dataframe\">\n",
       "  <thead>\n",
       "    <tr style=\"text-align: right;\">\n",
       "      <th></th>\n",
       "      <th>Name</th>\n",
       "      <th>Score</th>\n",
       "      <th>Result</th>\n",
       "    </tr>\n",
       "  </thead>\n",
       "  <tbody>\n",
       "    <tr>\n",
       "      <th>2</th>\n",
       "      <td>Maurice</td>\n",
       "      <td>4.7</td>\n",
       "      <td>No</td>\n",
       "    </tr>\n",
       "    <tr>\n",
       "      <th>3</th>\n",
       "      <td>Oscar</td>\n",
       "      <td>10.0</td>\n",
       "      <td>Yes</td>\n",
       "    </tr>\n",
       "    <tr>\n",
       "      <th>4</th>\n",
       "      <td>Peter</td>\n",
       "      <td>9.5</td>\n",
       "      <td>Yes</td>\n",
       "    </tr>\n",
       "  </tbody>\n",
       "</table>\n",
       "</div>"
      ],
      "text/plain": [
       "      Name  Score Result\n",
       "2  Maurice    4.7     No\n",
       "3    Oscar   10.0    Yes\n",
       "4    Peter    9.5    Yes"
      ]
     },
     "execution_count": 168,
     "metadata": {},
     "output_type": "execute_result"
    }
   ],
   "source": [
    "ex26.loc[2:4]"
   ]
  },
  {
   "cell_type": "markdown",
   "id": "64934fcf",
   "metadata": {},
   "source": [
    "---\n",
    "## Exercise 27: \n",
    "Also based on the DataFramefrom the previous exercise:\n",
    "\n",
    "\n",
    "a) select the names 'Margaret', 'Maurice' and 'Oscar' and store them in a list;\n",
    "\n",
    "b) select the names 'Carl', 'Maurice', and 'Ronald' and store them in a list;\n",
    "\n",
    "c) select the name 'Carl';\n",
    "\n",
    "d) select the score 7.7."
   ]
  },
  {
   "cell_type": "code",
   "execution_count": 180,
   "id": "4061b0e3",
   "metadata": {},
   "outputs": [
    {
     "data": {
      "text/html": [
       "<div>\n",
       "<style scoped>\n",
       "    .dataframe tbody tr th:only-of-type {\n",
       "        vertical-align: middle;\n",
       "    }\n",
       "\n",
       "    .dataframe tbody tr th {\n",
       "        vertical-align: top;\n",
       "    }\n",
       "\n",
       "    .dataframe thead th {\n",
       "        text-align: right;\n",
       "    }\n",
       "</style>\n",
       "<table border=\"1\" class=\"dataframe\">\n",
       "  <thead>\n",
       "    <tr style=\"text-align: right;\">\n",
       "      <th></th>\n",
       "      <th>Name</th>\n",
       "      <th>Score</th>\n",
       "      <th>Result</th>\n",
       "    </tr>\n",
       "  </thead>\n",
       "  <tbody>\n",
       "    <tr>\n",
       "      <th>1</th>\n",
       "      <td>Margaret</td>\n",
       "      <td>8.0</td>\n",
       "      <td>Yes</td>\n",
       "    </tr>\n",
       "    <tr>\n",
       "      <th>2</th>\n",
       "      <td>Maurice</td>\n",
       "      <td>4.7</td>\n",
       "      <td>No</td>\n",
       "    </tr>\n",
       "    <tr>\n",
       "      <th>3</th>\n",
       "      <td>Oscar</td>\n",
       "      <td>10.0</td>\n",
       "      <td>Yes</td>\n",
       "    </tr>\n",
       "  </tbody>\n",
       "</table>\n",
       "</div>"
      ],
      "text/plain": [
       "       Name  Score Result\n",
       "1  Margaret    8.0    Yes\n",
       "2   Maurice    4.7     No\n",
       "3     Oscar   10.0    Yes"
      ]
     },
     "execution_count": 180,
     "metadata": {},
     "output_type": "execute_result"
    }
   ],
   "source": [
    "ex26.loc[[1,2,3]]"
   ]
  },
  {
   "cell_type": "code",
   "execution_count": 182,
   "id": "ecc4d189",
   "metadata": {},
   "outputs": [
    {
     "data": {
      "text/html": [
       "<div>\n",
       "<style scoped>\n",
       "    .dataframe tbody tr th:only-of-type {\n",
       "        vertical-align: middle;\n",
       "    }\n",
       "\n",
       "    .dataframe tbody tr th {\n",
       "        vertical-align: top;\n",
       "    }\n",
       "\n",
       "    .dataframe thead th {\n",
       "        text-align: right;\n",
       "    }\n",
       "</style>\n",
       "<table border=\"1\" class=\"dataframe\">\n",
       "  <thead>\n",
       "    <tr style=\"text-align: right;\">\n",
       "      <th></th>\n",
       "      <th>Name</th>\n",
       "      <th>Score</th>\n",
       "      <th>Result</th>\n",
       "    </tr>\n",
       "  </thead>\n",
       "  <tbody>\n",
       "    <tr>\n",
       "      <th>0</th>\n",
       "      <td>Carl</td>\n",
       "      <td>7.0</td>\n",
       "      <td>Yes</td>\n",
       "    </tr>\n",
       "    <tr>\n",
       "      <th>2</th>\n",
       "      <td>Maurice</td>\n",
       "      <td>4.7</td>\n",
       "      <td>No</td>\n",
       "    </tr>\n",
       "    <tr>\n",
       "      <th>7</th>\n",
       "      <td>Ronald</td>\n",
       "      <td>7.7</td>\n",
       "      <td>Yes</td>\n",
       "    </tr>\n",
       "  </tbody>\n",
       "</table>\n",
       "</div>"
      ],
      "text/plain": [
       "      Name  Score Result\n",
       "0     Carl    7.0    Yes\n",
       "2  Maurice    4.7     No\n",
       "7   Ronald    7.7    Yes"
      ]
     },
     "execution_count": 182,
     "metadata": {},
     "output_type": "execute_result"
    }
   ],
   "source": [
    "ex26.loc[[0,2,7]]"
   ]
  },
  {
   "cell_type": "code",
   "execution_count": 183,
   "id": "73bc3da8",
   "metadata": {},
   "outputs": [
    {
     "data": {
      "text/plain": [
       "'Carl'"
      ]
     },
     "execution_count": 183,
     "metadata": {},
     "output_type": "execute_result"
    }
   ],
   "source": [
    "ex26.loc[0][0]"
   ]
  },
  {
   "cell_type": "code",
   "execution_count": 187,
   "id": "cc94eb1a",
   "metadata": {},
   "outputs": [
    {
     "data": {
      "text/plain": [
       "7.7"
      ]
     },
     "execution_count": 187,
     "metadata": {},
     "output_type": "execute_result"
    }
   ],
   "source": [
    "ex26.loc[7][1]"
   ]
  },
  {
   "cell_type": "code",
   "execution_count": null,
   "id": "2cdb047c",
   "metadata": {},
   "outputs": [],
   "source": []
  }
 ],
 "metadata": {
  "kernelspec": {
   "display_name": "Python 3",
   "language": "python",
   "name": "python3"
  },
  "language_info": {
   "codemirror_mode": {
    "name": "ipython",
    "version": 3
   },
   "file_extension": ".py",
   "mimetype": "text/x-python",
   "name": "python",
   "nbconvert_exporter": "python",
   "pygments_lexer": "ipython3",
   "version": "3.8.8"
  }
 },
 "nbformat": 4,
 "nbformat_minor": 5
}
