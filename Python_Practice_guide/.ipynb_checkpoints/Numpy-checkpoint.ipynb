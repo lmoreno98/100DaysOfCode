{
 "cells": [
  {
   "cell_type": "code",
   "execution_count": 102,
   "id": "ac4aa4d9",
   "metadata": {},
   "outputs": [],
   "source": [
    "import numpy as np\n",
    "import string"
   ]
  },
  {
   "cell_type": "markdown",
   "id": "8f98f237",
   "metadata": {},
   "source": [
    "## Exercise 1:\n",
    "A numpy object has attributes and methods inherited from the class (numpy.ndarray). Creat an array and inspect the following attributes:\n",
    "\n",
    "\n",
    "Shape: A tuple containing a number of elements (size) in each dimension of the array;\n",
    "\n",
    "Size: Total number of elements in the array;\n",
    "\n",
    "ndim: Number of dimensions (axes);\n",
    "\n",
    "nbytes: Number of bytes used to store the data;\n",
    "\n",
    "dtype: The data type of the elements in the array;\n",
    "\n",
    "\n",
    "Implementation example:\n",
    "\n",
    "    import numpy as np\n",
    "    array = np.array([1, 2, 3, 4])\n",
    "    print('Shape: ', array.shape)"
   ]
  },
  {
   "cell_type": "code",
   "execution_count": 1,
   "id": "7b73b0d9",
   "metadata": {},
   "outputs": [
    {
     "name": "stdout",
     "output_type": "stream",
     "text": [
      "Shape: (4,)\n",
      "Size: 4\n",
      "Dimension: 1\n",
      "Number of bytes: 16\n",
      "Data type: int32\n"
     ]
    }
   ],
   "source": [
    "ex1 = np.array([1, 2, 3, 4])\n",
    "\n",
    "print(f\"Shape: {ex1.shape}\")\n",
    "print(f\"Size: {ex1.size}\")\n",
    "print(f\"Dimension: {ex1.ndim}\")\n",
    "print(f\"Number of bytes: {ex1.nbytes}\")\n",
    "print(f\"Data type: {ex1.dtype}\")"
   ]
  },
  {
   "cell_type": "markdown",
   "id": "e430240d",
   "metadata": {},
   "source": [
    "----------------------------------------------------------------------------------------------------------------------------\n",
    "## Exercise 2:   \n",
    "Based on the previous exercise, create a function that can receive an array and shows on the screen its attributes. Check if the insert argument is, indeed, a numpy object. You can also use a built-in type () function to verify the object' class"
   ]
  },
  {
   "cell_type": "code",
   "execution_count": 2,
   "id": "5f88c350",
   "metadata": {},
   "outputs": [],
   "source": [
    "def attributes(array):\n",
    "    if type(array) == type(np.array(0)):\n",
    "        print(f\"Shape: {array.shape}\")\n",
    "        print(f\"Size: {array.size}\")\n",
    "        print(f\"Dimension: {array.ndim}\")\n",
    "        print(f\"Number of bytes: {array.nbytes}\")\n",
    "        print(f\"Data type: {array.dtype}\")\n",
    "    else:\n",
    "        print(\"The value inserted is not a numpy array\")"
   ]
  },
  {
   "cell_type": "code",
   "execution_count": 3,
   "id": "5febb6d5",
   "metadata": {},
   "outputs": [
    {
     "name": "stdout",
     "output_type": "stream",
     "text": [
      "Shape: (4,)\n",
      "Size: 4\n",
      "Dimension: 1\n",
      "Number of bytes: 16\n",
      "Data type: int32\n"
     ]
    }
   ],
   "source": [
    "attributes(np.array([1, 2, 3, 4]))"
   ]
  },
  {
   "cell_type": "code",
   "execution_count": 4,
   "id": "d262f272",
   "metadata": {},
   "outputs": [
    {
     "name": "stdout",
     "output_type": "stream",
     "text": [
      "The value inserted is not a numpy array\n"
     ]
    }
   ],
   "source": [
    "attributes([1, 2, 3, 4])"
   ]
  },
  {
   "cell_type": "markdown",
   "id": "1132e674",
   "metadata": {},
   "source": [
    "----------------------------------------------------------------------------------------------------------------------------\n",
    "\n",
    "## Exercise 3: \n",
    "Use the np.array() function to creat the one-dimensioned arrays listed below:\n",
    "\n",
    "\n",
    "a) Use a list as an argument and obtain:\n",
    "\n",
    "    array([-1,  4,  7,  9])\n",
    "\n",
    "\n",
    "b) Use the range() function and obtain:\n",
    "\n",
    "    array([ 1,  2,  3,  4,  5,  6,  7,  8,  9, 10])\n",
    "\n",
    "\n",
    "Use a tuple as an argument and obtain:\n",
    "\n",
    "    array([10, 11, 12, 13, 14])\n",
    "\n",
    "\n",
    "d) Use the range() function and obtain:\n",
    "\n",
    "    array([1990, 1995, 2000, 2005, 2010, 2015, 2020])\n",
    "\n",
    "\n",
    "e) Use the range() function and obtain:\n",
    "\n",
    "    array([2020, 2010, 2000, 1990, 1980, 1970, 1960, 1950, 1940, 1930, 1920, 1910, 1900])\n",
    "\n",
    "\n",
    "f) Obtain:\n",
    "\n",
    "\n",
    "    array(100)"
   ]
  },
  {
   "cell_type": "code",
   "execution_count": 5,
   "id": "87a90e98",
   "metadata": {},
   "outputs": [
    {
     "name": "stdout",
     "output_type": "stream",
     "text": [
      "[-1  4  7  9]\n"
     ]
    }
   ],
   "source": [
    "lista = [-1, 4, 7, 9]\n",
    "ex3_A = np.array(lista)\n",
    "print(ex3_A)"
   ]
  },
  {
   "cell_type": "code",
   "execution_count": 6,
   "id": "a9520be1",
   "metadata": {},
   "outputs": [
    {
     "name": "stdout",
     "output_type": "stream",
     "text": [
      "[ 1  2  3  4  5  6  7  8  9 10]\n"
     ]
    }
   ],
   "source": [
    "ex3_B = np.array(list(range(1,11)))\n",
    "print(ex3_B)"
   ]
  },
  {
   "cell_type": "code",
   "execution_count": 7,
   "id": "3dda834f",
   "metadata": {},
   "outputs": [
    {
     "name": "stdout",
     "output_type": "stream",
     "text": [
      "[10 11 12 13 14]\n"
     ]
    }
   ],
   "source": [
    "tupple = (10,11,12,13,14)\n",
    "ex3_C = np.array(tupple)\n",
    "print(ex3_C)"
   ]
  },
  {
   "cell_type": "code",
   "execution_count": 8,
   "id": "8c05aa50",
   "metadata": {},
   "outputs": [
    {
     "name": "stdout",
     "output_type": "stream",
     "text": [
      "[1990 1995 2000 2005 2010 2015 2020]\n"
     ]
    }
   ],
   "source": [
    "ex3_D = np.array(list(range(1990,2021,5)))\n",
    "print(ex3_D)"
   ]
  },
  {
   "cell_type": "code",
   "execution_count": 9,
   "id": "db835d58",
   "metadata": {},
   "outputs": [
    {
     "name": "stdout",
     "output_type": "stream",
     "text": [
      "[2020 2010 2000 1990 1980 1970 1960 1950 1940 1930 1920 1910 1900]\n"
     ]
    }
   ],
   "source": [
    "ex3_E = np.array(list(range(2020,1899,-10)))\n",
    "print(ex3_E)"
   ]
  },
  {
   "cell_type": "code",
   "execution_count": 10,
   "id": "194a7961",
   "metadata": {},
   "outputs": [
    {
     "name": "stdout",
     "output_type": "stream",
     "text": [
      "100\n"
     ]
    }
   ],
   "source": [
    "ex3_F = np.array(100)\n",
    "print(ex3_F)"
   ]
  },
  {
   "cell_type": "markdown",
   "id": "ef600867",
   "metadata": {},
   "source": [
    "----------------------------------------------------------------------------------------------------------------------------\n",
    "\n",
    "## Exercise 4:\n",
    "The np.ones() function allows you to create an array filled with the number 1 in all your entries. We can specify as arguments the shape and the kind of dtype of the array. Use this function to create the following arrays:\n",
    "\n",
    "a)\n",
    "\n",
    "\n",
    "    array([1., 1., 1., 1., 1., 1., 1., 1., 1., 1.])\n",
    "\n",
    "\n",
    "b)\n",
    "\n",
    "\n",
    "    array([[1., 1., 1., 1.],\n",
    "           [1., 1., 1., 1.],\n",
    "           [1., 1., 1., 1.],\n",
    "           [1., 1., 1., 1.]])\n",
    "\n",
    "\n",
    "c)\n",
    "\n",
    "\n",
    "    array([[1., 1.],\n",
    "           [1., 1.],\n",
    "           [1., 1.]])\n",
    "\n",
    "\n"
   ]
  },
  {
   "cell_type": "code",
   "execution_count": 11,
   "id": "5e6d2ffd",
   "metadata": {},
   "outputs": [
    {
     "name": "stdout",
     "output_type": "stream",
     "text": [
      "[1. 1. 1. 1. 1. 1. 1. 1. 1. 1.]\n"
     ]
    }
   ],
   "source": [
    "ex4_A = np.ones(10)\n",
    "print(ex4_A)"
   ]
  },
  {
   "cell_type": "code",
   "execution_count": 12,
   "id": "d708153a",
   "metadata": {},
   "outputs": [
    {
     "name": "stdout",
     "output_type": "stream",
     "text": [
      "[[1. 1. 1. 1.]\n",
      " [1. 1. 1. 1.]\n",
      " [1. 1. 1. 1.]\n",
      " [1. 1. 1. 1.]]\n"
     ]
    }
   ],
   "source": [
    "ex4_B = np.ones((4,4))\n",
    "print(ex4_B)"
   ]
  },
  {
   "cell_type": "code",
   "execution_count": 13,
   "id": "be2bb6ff",
   "metadata": {},
   "outputs": [
    {
     "name": "stdout",
     "output_type": "stream",
     "text": [
      "[[1. 1.]\n",
      " [1. 1.]\n",
      " [1. 1.]]\n"
     ]
    }
   ],
   "source": [
    "ex4_C = np.ones((3,2))\n",
    "print(ex4_C)"
   ]
  },
  {
   "cell_type": "markdown",
   "id": "fcb43084",
   "metadata": {},
   "source": [
    "----------------------------------------------------------------------------------------------------------------------------\n",
    "\n",
    "## Exercise 5: \n",
    "The np.zeros() function allows you to create an array filled with the number 0 in all your entries. We can specify as arguments the shape and the kind of dtype of the array (default is the float). Use this function to create the following arrays:\n",
    "\n",
    "a)\n",
    "\n",
    "    array([0., 0., 0., 0., 0., 0., 0., 0., 0., 0.])\n",
    "\n",
    "\n",
    "b)\n",
    "\n",
    "    array([[0., 0.],       \n",
    "          [0., 0.]])  \n",
    "\n",
    "\n",
    "c)\n",
    "\n",
    "    array([[0., 0., 0., 0., 0., 0.],\n",
    "           [0., 0., 0., 0., 0., 0.],\n",
    "           [0., 0., 0., 0., 0., 0.],\n",
    "           [0., 0., 0., 0., 0., 0.]])"
   ]
  },
  {
   "cell_type": "code",
   "execution_count": 14,
   "id": "c4a0c54f",
   "metadata": {},
   "outputs": [
    {
     "name": "stdout",
     "output_type": "stream",
     "text": [
      "[0. 0. 0. 0. 0. 0. 0. 0. 0. 0.]\n"
     ]
    }
   ],
   "source": [
    "ex5_A = np.zeros(10)\n",
    "print(ex5_A)"
   ]
  },
  {
   "cell_type": "code",
   "execution_count": 15,
   "id": "b1592f61",
   "metadata": {},
   "outputs": [
    {
     "name": "stdout",
     "output_type": "stream",
     "text": [
      "[[0. 0.]\n",
      " [0. 0.]]\n"
     ]
    }
   ],
   "source": [
    "ex5_B = np.zeros((2,2))\n",
    "print(ex5_B)"
   ]
  },
  {
   "cell_type": "code",
   "execution_count": 16,
   "id": "509e47c5",
   "metadata": {},
   "outputs": [
    {
     "name": "stdout",
     "output_type": "stream",
     "text": [
      "[[0. 0. 0. 0. 0. 0.]\n",
      " [0. 0. 0. 0. 0. 0.]\n",
      " [0. 0. 0. 0. 0. 0.]\n",
      " [0. 0. 0. 0. 0. 0.]]\n"
     ]
    }
   ],
   "source": [
    "ex5_C = np.zeros((4,6))\n",
    "print(ex5_C)"
   ]
  },
  {
   "cell_type": "markdown",
   "id": "405a3bd5",
   "metadata": {},
   "source": [
    "----------------------------------------------------------------------------------------------------------------------------\n",
    "\n",
    "## Exercise 6:\n",
    "Create the following arrays:\n",
    "\n",
    "\n",
    "a)\n",
    "\n",
    "    array([[10],\n",
    "           [15],\n",
    "           [20],\n",
    "           [25],\n",
    "           [30],\n",
    "           [35],\n",
    "           [40],\n",
    "           [45]])\n",
    "\n",
    "\n",
    "b)\n",
    "\n",
    "\n",
    "    array([-50, -45, -40, -35, -30, -25, -20, -15, -10,  -5])\n",
    "\n",
    "\n",
    "c)\n",
    "\n",
    "\n",
    "    array([[ 50,  52,  54,  56,  58,  60,  62,  64,  66,  68],\n",
    "           [ 70,  72,  74,  76,  78,  80,  82,  84,  86,  88],\n",
    "           [ 90,  92,  94,  96,  98, 100, 102, 104, 106, 108],\n",
    "           [110, 112, 114, 116, 118, 120, 122, 124, 126, 128],\n",
    "           [130, 132, 134, 136, 138, 140, 142, 144, 146, 148]])\n",
    "\n",
    "\n",
    "Tip: use np.arange() or np.array(range())."
   ]
  },
  {
   "cell_type": "code",
   "execution_count": 17,
   "id": "336b9395",
   "metadata": {},
   "outputs": [
    {
     "name": "stdout",
     "output_type": "stream",
     "text": [
      "[[10]\n",
      " [15]\n",
      " [20]\n",
      " [25]\n",
      " [30]\n",
      " [35]\n",
      " [40]\n",
      " [45]]\n"
     ]
    }
   ],
   "source": [
    "ex6_A = np.arange(10,46,5).reshape(8,1)\n",
    "print(ex6_A)"
   ]
  },
  {
   "cell_type": "code",
   "execution_count": 18,
   "id": "5a5034ae",
   "metadata": {},
   "outputs": [
    {
     "name": "stdout",
     "output_type": "stream",
     "text": [
      "[-50 -45 -40 -35 -30 -25 -20 -15 -10  -5]\n"
     ]
    }
   ],
   "source": [
    "ex6_B = np.arange(-50,-4,5)\n",
    "print(ex6_B)"
   ]
  },
  {
   "cell_type": "code",
   "execution_count": 19,
   "id": "49952ea6",
   "metadata": {},
   "outputs": [
    {
     "name": "stdout",
     "output_type": "stream",
     "text": [
      "[[ 50  52  54  56  58  60  62  64  66  68]\n",
      " [ 70  72  74  76  78  80  82  84  86  88]\n",
      " [ 90  92  94  96  98 100 102 104 106 108]\n",
      " [110 112 114 116 118 120 122 124 126 128]\n",
      " [130 132 134 136 138 140 142 144 146 148]]\n"
     ]
    }
   ],
   "source": [
    "ex6_B = np.arange(50,149,2).reshape(5,10)\n",
    "print(ex6_B)"
   ]
  },
  {
   "cell_type": "markdown",
   "id": "ccfa311b",
   "metadata": {},
   "source": [
    "----------------------------------------------------------------------------------------------------------------------------\n",
    "\n",
    "## Exercise 7: \n",
    "Use the np.full(shape, fill_value, dtype) function to create the following arrays. This function allows you to create an array with a user-defined shape and dtype, filled with a certain value.\n",
    "\n",
    "a)\n",
    "\n",
    "\n",
    "    array([5., 5., 5., 5., 5., 5., 5., 5., 5., 5.])\n",
    "\n",
    "\n",
    "b)\n",
    "\n",
    "\n",
    "    array([[-5., -5., -5., -5.],\n",
    "           [-5., -5., -5., -5.],\n",
    "           [-5., -5., -5., -5.],\n",
    "           [-5., -5., -5., -5.]])\n",
    "\n",
    "\n",
    "c)\n",
    "\n",
    "\n",
    "    array([[3, 3, 3],\n",
    "           [3, 3, 3],\n",
    "           [3, 3, 3]])\n",
    "\n",
    "\n",
    "d)\n",
    "\n",
    "\n",
    "    array([[50, 50, 50, 50, 50, 50, 50, 50, 50, 50],\n",
    "           [50, 50, 50, 50, 50, 50, 50, 50, 50, 50],\n",
    "           [50, 50, 50, 50, 50, 50, 50, 50, 50, 50],\n",
    "           [50, 50, 50, 50, 50, 50, 50, 50, 50, 50],\n",
    "           [50, 50, 50, 50, 50, 50, 50, 50, 50, 50],\n",
    "           [50, 50, 50, 50, 50, 50, 50, 50, 50, 50],\n",
    "           [50, 50, 50, 50, 50, 50, 50, 50, 50, 50],\n",
    "           [50, 50, 50, 50, 50, 50, 50, 50, 50, 50],\n",
    "           [50, 50, 50, 50, 50, 50, 50, 50, 50, 50],\n",
    "           [50, 50, 50, 50, 50, 50, 50, 50, 50, 50]])\n",
    "\n",
    "\n",
    "Tip: Another possibility would be to obtain the arrays with a different operation, by mutiplying a matrix filled with the number 1 by a certain value."
   ]
  },
  {
   "cell_type": "code",
   "execution_count": 20,
   "id": "d56c51a2",
   "metadata": {},
   "outputs": [
    {
     "name": "stdout",
     "output_type": "stream",
     "text": [
      "[[5 5 5 5 5 5 5 5 5 5]]\n"
     ]
    }
   ],
   "source": [
    "ex7_A = np.full((1,10), 5)\n",
    "print(ex7_A)"
   ]
  },
  {
   "cell_type": "code",
   "execution_count": 21,
   "id": "b37d2c41",
   "metadata": {},
   "outputs": [
    {
     "name": "stdout",
     "output_type": "stream",
     "text": [
      "[[-5 -5 -5 -5]\n",
      " [-5 -5 -5 -5]\n",
      " [-5 -5 -5 -5]\n",
      " [-5 -5 -5 -5]]\n"
     ]
    }
   ],
   "source": [
    "ex7_B = np.full((4,4), -5)\n",
    "print(ex7_B)"
   ]
  },
  {
   "cell_type": "code",
   "execution_count": 22,
   "id": "5dcbb03c",
   "metadata": {},
   "outputs": [
    {
     "name": "stdout",
     "output_type": "stream",
     "text": [
      "[[3 3 3]\n",
      " [3 3 3]\n",
      " [3 3 3]]\n"
     ]
    }
   ],
   "source": [
    "ex7_C = np.full((3,3), 3)\n",
    "print(ex7_C)"
   ]
  },
  {
   "cell_type": "code",
   "execution_count": 23,
   "id": "c34ee743",
   "metadata": {},
   "outputs": [
    {
     "name": "stdout",
     "output_type": "stream",
     "text": [
      "[[50 50 50 50 50 50 50 50 50 50]\n",
      " [50 50 50 50 50 50 50 50 50 50]\n",
      " [50 50 50 50 50 50 50 50 50 50]\n",
      " [50 50 50 50 50 50 50 50 50 50]\n",
      " [50 50 50 50 50 50 50 50 50 50]\n",
      " [50 50 50 50 50 50 50 50 50 50]\n",
      " [50 50 50 50 50 50 50 50 50 50]\n",
      " [50 50 50 50 50 50 50 50 50 50]\n",
      " [50 50 50 50 50 50 50 50 50 50]\n",
      " [50 50 50 50 50 50 50 50 50 50]]\n"
     ]
    }
   ],
   "source": [
    "ex7_D = np.full((10,10), 50)\n",
    "print(ex7_D)"
   ]
  },
  {
   "cell_type": "markdown",
   "id": "0434788c",
   "metadata": {},
   "source": [
    "----------------------------------------------------------------------------------------------------------------------------\n",
    "\n",
    "## Exercise 8: \n",
    "Define the K array and check for missing data. Use the np.isnan() function.\n",
    "\n",
    "\n",
    "    array([[ nan,   1.,  10.,   0.],\n",
    "           [ nan,  nan,  nan,  nan],\n",
    "           [100.,  50.,  nan, -25.],\n",
    "           [ 30.,  nan,  nan, 130.]])"
   ]
  },
  {
   "cell_type": "code",
   "execution_count": 24,
   "id": "e998ab9a",
   "metadata": {},
   "outputs": [
    {
     "name": "stdout",
     "output_type": "stream",
     "text": [
      "[[ True False False False]\n",
      " [ True  True  True  True]\n",
      " [False False  True False]\n",
      " [False  True  True False]]\n"
     ]
    }
   ],
   "source": [
    "ex_8 = np.array([[ np.nan,   1.,  10.,   0.],\n",
    "     [ np.nan,  np.nan,  np.nan,  np.nan],\n",
    "     [100.,  50.,  np.nan, -25.],\n",
    "     [ 30.,  np.nan,  np.nan, 130.]])\n",
    "print(np.isnan(ex_8))"
   ]
  },
  {
   "cell_type": "markdown",
   "id": "fcf71cd3",
   "metadata": {},
   "source": [
    "----------------------------------------------------------------------------------------------------------------------------\n",
    "\n",
    "## Exercise 9:\n",
    "\n",
    "The np.linspace () function returns an array of evenly spaced numbers within a defined range. Create an array with numbers within the range [1,21] in 5 parts.\n",
    "\n",
    "\n",
    "Expected return:\n",
    "\n",
    "    array([ 1.,  6., 11., 16., 21.])"
   ]
  },
  {
   "cell_type": "code",
   "execution_count": 25,
   "id": "3e41dbc4",
   "metadata": {},
   "outputs": [
    {
     "name": "stdout",
     "output_type": "stream",
     "text": [
      "[ 1.  6. 11. 16. 21.]\n"
     ]
    }
   ],
   "source": [
    "ex9 = np.linspace(1,21,5)\n",
    "print(ex9)"
   ]
  },
  {
   "cell_type": "markdown",
   "id": "fd6ba056",
   "metadata": {},
   "source": [
    "----------------------------------------------------------------------------------------------------------------------------\n",
    "\n",
    "## Exercise 10: \n",
    "\n",
    "The np.logspace () function returns evenly spaced numbers on a logarithmic scale. Create an array with numbers within the range [1,51] in 10 parts with the np.logspace() function.\n",
    "\n",
    "\n",
    "Expected return:\n",
    "\n",
    "    array([[1.00000000e+01],\n",
    "           [3.59381366e+06],\n",
    "           [1.29154967e+12],\n",
    "           [4.64158883e+17],\n",
    "           [1.66810054e+23],\n",
    "           [5.99484250e+28],\n",
    "           [2.15443469e+34],\n",
    "           [7.74263683e+39],\n",
    "           [2.78255940e+45],\n",
    "           [1.00000000e+51]])"
   ]
  },
  {
   "cell_type": "code",
   "execution_count": 26,
   "id": "3470f40d",
   "metadata": {},
   "outputs": [
    {
     "name": "stdout",
     "output_type": "stream",
     "text": [
      "[[1.00000000e+01]\n",
      " [3.59381366e+06]\n",
      " [1.29154967e+12]\n",
      " [4.64158883e+17]\n",
      " [1.66810054e+23]\n",
      " [5.99484250e+28]\n",
      " [2.15443469e+34]\n",
      " [7.74263683e+39]\n",
      " [2.78255940e+45]\n",
      " [1.00000000e+51]]\n"
     ]
    }
   ],
   "source": [
    "ex10 = np.logspace(1,51,10)\n",
    "print(ex10.reshape(10,1))"
   ]
  },
  {
   "cell_type": "markdown",
   "id": "a03ab3db",
   "metadata": {},
   "source": [
    "----------------------------------------------------------------------------------------------------------------------------\n",
    "## Exercise 11: \n",
    "Use the np.diag() function to build the following array:\n",
    "\n",
    "\n",
    "    array([[ 5,  0,  0,  0,  0,  0],\n",
    "           [ 0, 10,  0,  0,  0,  0],\n",
    "           [ 0,  0, 15,  0,  0,  0],\n",
    "           [ 0,  0,  0, 20,  0,  0],\n",
    "           [ 0,  0,  0,  0, 25,  0],\n",
    "           [ 0,  0,  0,  0,  0, 30]])"
   ]
  },
  {
   "cell_type": "code",
   "execution_count": 58,
   "id": "23e6ef75",
   "metadata": {},
   "outputs": [],
   "source": [
    "ex11 = np.ones((6,6))\n",
    "f = 0\n",
    "for i in range(5,31,5):\n",
    "    ex11[f] = ex11[f]*i\n",
    "    f += 1"
   ]
  },
  {
   "cell_type": "code",
   "execution_count": 61,
   "id": "3c91f1dd",
   "metadata": {},
   "outputs": [
    {
     "name": "stdout",
     "output_type": "stream",
     "text": [
      "[[ 5.  0.  0.  0.  0.  0.]\n",
      " [ 0. 10.  0.  0.  0.  0.]\n",
      " [ 0.  0. 15.  0.  0.  0.]\n",
      " [ 0.  0.  0. 20.  0.  0.]\n",
      " [ 0.  0.  0.  0. 25.  0.]\n",
      " [ 0.  0.  0.  0.  0. 30.]]\n"
     ]
    }
   ],
   "source": [
    "print(np.diag(np.diag(ex11)))"
   ]
  },
  {
   "cell_type": "markdown",
   "id": "e9dc0bfc",
   "metadata": {},
   "source": [
    "----------------------------------------------------------------------------------------------------------------------------\n",
    "## Exercise 12: \n",
    "Use the np.eye() function (or even np.identity()) to obtain the following array.\n",
    "\n",
    "\n",
    "    array([[1., 0., 0., 0., 0., 0., 0., 0., 0., 0.],\n",
    "           [0., 1., 0., 0., 0., 0., 0., 0., 0., 0.],\n",
    "           [0., 0., 1., 0., 0., 0., 0., 0., 0., 0.],\n",
    "           [0., 0., 0., 1., 0., 0., 0., 0., 0., 0.],\n",
    "           [0., 0., 0., 0., 1., 0., 0., 0., 0., 0.],\n",
    "           [0., 0., 0., 0., 0., 1., 0., 0., 0., 0.],\n",
    "           [0., 0., 0., 0., 0., 0., 1., 0., 0., 0.],\n",
    "           [0., 0., 0., 0., 0., 0., 0., 1., 0., 0.],\n",
    "           [0., 0., 0., 0., 0., 0., 0., 0., 1., 0.],\n",
    "           [0., 0., 0., 0., 0., 0., 0., 0., 0., 1.]])\n",
    "\n",
    "\n",
    "Tip: this matrix is ​​defined as an identity matrix, in this case of order 10, and it assumes great relevance in several computational calculations, as we will see later."
   ]
  },
  {
   "cell_type": "code",
   "execution_count": 67,
   "id": "d15409ca",
   "metadata": {},
   "outputs": [
    {
     "data": {
      "text/plain": [
       "array([[1., 0., 0., 0., 0., 0., 0., 0., 0., 0.],\n",
       "       [0., 1., 0., 0., 0., 0., 0., 0., 0., 0.],\n",
       "       [0., 0., 1., 0., 0., 0., 0., 0., 0., 0.],\n",
       "       [0., 0., 0., 1., 0., 0., 0., 0., 0., 0.],\n",
       "       [0., 0., 0., 0., 1., 0., 0., 0., 0., 0.],\n",
       "       [0., 0., 0., 0., 0., 1., 0., 0., 0., 0.],\n",
       "       [0., 0., 0., 0., 0., 0., 1., 0., 0., 0.],\n",
       "       [0., 0., 0., 0., 0., 0., 0., 1., 0., 0.],\n",
       "       [0., 0., 0., 0., 0., 0., 0., 0., 1., 0.],\n",
       "       [0., 0., 0., 0., 0., 0., 0., 0., 0., 1.]])"
      ]
     },
     "execution_count": 67,
     "metadata": {},
     "output_type": "execute_result"
    }
   ],
   "source": [
    "np.eye(10, dtype = float)"
   ]
  },
  {
   "cell_type": "markdown",
   "id": "12e8254c",
   "metadata": {},
   "source": [
    "----------------------------------------------------------------------------------------------------------------------------\n",
    "## Exercise 13: \n",
    "Obtain the sum of the elements of each array below. Use the np.sum () function. Implement a solution with \"loop for\", to do so, store the vectors in a list.\n",
    "\n",
    "\n",
    "    import numpy as np\n",
    "    array1 = np.arange(1,11)\n",
    "    array2 = np.linspace(1,50,10)\n",
    "    array3 = np.array(range(51))\n",
    "    array4 = np.logspace(1,10,5)\n",
    "    array5 = np.diag(range(5,31,5))\n",
    "\n",
    "\n",
    "Expected return:\n",
    "\n",
    "\n",
    "    Sum of the elements of array 1:  55\n",
    "    Sum of the elements of array 2:  255.0\n",
    "    Sum of the elements of array 3:  1275\n",
    "    Sum of the elements of array 4:  10056552148.564463\n",
    "    Sum of the elements of array 5:  105"
   ]
  },
  {
   "cell_type": "code",
   "execution_count": 71,
   "id": "c670bb42",
   "metadata": {},
   "outputs": [],
   "source": [
    "ex13A = np.arange(1,11)\n",
    "ex13B = np.linspace(1,50,10)\n",
    "ex13C = np.array(range(51))\n",
    "ex13D = np.logspace(1,10,5)\n",
    "ex13E = np.diag(range(5,31,5))"
   ]
  },
  {
   "cell_type": "code",
   "execution_count": 106,
   "id": "0d7e36e8",
   "metadata": {},
   "outputs": [],
   "source": [
    "indexs = [ex13A,ex13B,ex13C,ex13D,ex13E]"
   ]
  },
  {
   "cell_type": "code",
   "execution_count": 109,
   "id": "843934a1",
   "metadata": {},
   "outputs": [
    {
     "name": "stdout",
     "output_type": "stream",
     "text": [
      "Sum of the elements of the ex13A: 55\n",
      "Sum of the elements of the ex13B: 255.0\n",
      "Sum of the elements of the ex13C: 1275\n",
      "Sum of the elements of the ex13D: 10056552148.564463\n",
      "Sum of the elements of the ex13E: 105\n"
     ]
    }
   ],
   "source": [
    "for index, letter in zip(indexs, string.ascii_uppercase):\n",
    "    print(f\"Sum of the elements of the ex13{letter}: {np.sum(index)}\")"
   ]
  },
  {
   "cell_type": "markdown",
   "id": "5513b935",
   "metadata": {},
   "source": [
    "----------------------------------------------------------------------------------------------------------------------------\n",
    "## Exercise 14:\n",
    "From the matrix defined below, obtain:\n",
    "\n",
    "    a) total sum of the elements;\n",
    "\n",
    "    b) sum of the lines;\n",
    "\n",
    "    c) sum of columns.\n",
    "\n",
    "\n",
    "    import numpy as np\n",
    "    matrix = np.array(np.random.randint(1,100,15)).reshape(5,3)"
   ]
  },
  {
   "cell_type": "code",
   "execution_count": 89,
   "id": "424cadb5",
   "metadata": {},
   "outputs": [],
   "source": [
    "ex14 = np.array(np.random.randint(1,100,15)).reshape(5,3)"
   ]
  },
  {
   "cell_type": "code",
   "execution_count": 97,
   "id": "c7dcc9df",
   "metadata": {},
   "outputs": [
    {
     "name": "stdout",
     "output_type": "stream",
     "text": [
      "Total sum of the elements:  798\n",
      "Sum of the lines:  [ 82  89 134 278 215]\n",
      "Sum of the columns:  [235 291 272]\n"
     ]
    }
   ],
   "source": [
    "print(\"Total sum of the elements: \", np.sum(ex14))\n",
    "print(\"Sum of the lines: \", np.sum(ex14, axis= 1))\n",
    "print(\"Sum of the columns: \", np.sum(ex14, axis= 0))"
   ]
  },
  {
   "cell_type": "markdown",
   "id": "fe75c58c",
   "metadata": {},
   "source": [
    "----------------------------------------------------------------------------------------------------------------------------\n",
    "## Exercise 15:\n",
    "Obtain the maximum and minimum value of each array below. Implement a solution with a \"loop for\".\n",
    "\n",
    "\n",
    "    import numpy as np\n",
    "    array1 = np.array([-1, 10, 3, 4, 7, 27])\n",
    "    array2 = np.random.randint(-100,300,30)\n",
    "    array3 = np.random.randn(10)\n",
    "    array4 = np.array(range(50,10,-2))\n",
    "\n",
    "\n",
    "Tip: To obtain the maximum and minimium value of an array, we can use array.max() and array.min() (or max(array) and min(array))."
   ]
  },
  {
   "cell_type": "code",
   "execution_count": 110,
   "id": "760a236d",
   "metadata": {},
   "outputs": [],
   "source": [
    "ex15A = np.array([-1, 10, 3, 4, 7, 27])\n",
    "ex15B = np.random.randint(-100,300,30)\n",
    "ex15C = np.random.randn(10)\n",
    "ex15D = np.array(range(50,10,-2))\n",
    "indexs = [ex15A,ex15B,ex15C,ex15D]"
   ]
  },
  {
   "cell_type": "code",
   "execution_count": 113,
   "id": "3fdd7867",
   "metadata": {},
   "outputs": [
    {
     "name": "stdout",
     "output_type": "stream",
     "text": [
      "ex15A | Maximum = 27 | Minimum = -1\n",
      "ex15B | Maximum = 296 | Minimum = -87\n",
      "ex15C | Maximum = 1.59 | Minimum = -1\n",
      "ex15D | Maximum = 50 | Minimum = 12\n"
     ]
    }
   ],
   "source": [
    "for index, letter in zip(indexs, string.ascii_uppercase):\n",
    "    print(f\"ex15{letter} | Maximum = {round(index.max(),2)} | Minimum = {round(index.min())}\")"
   ]
  },
  {
   "cell_type": "markdown",
   "id": "2a224bdc",
   "metadata": {},
   "source": [
    "----------------------------------------------------------------------------------------------------------------------------\n",
    "## Exercise 16: \n",
    "Create a function that receives a matrix as input and calculate:\n",
    "\n",
    "\n",
    "a) Maximum value of the matrix;\n",
    "\n",
    "b) Maximum value per column;\n",
    "\n",
    "c) Maximum value per line;\n",
    "\n",
    "d) Minimum value of the matrix;\n",
    "\n",
    "e) Minimum value per column;\n",
    "\n",
    "f) Minimum value per line.\n",
    "\n",
    "\n",
    "Example of return for the matrix defined below:\n",
    "\n",
    "\n",
    "Input:\n",
    "\n",
    "    matrix = np.random.randint(-1000,1000,50).reshape(10,5)\n",
    "    info_array(array)\n",
    "\n",
    "Output:\n",
    "\n",
    "    Maximum value of the matrix:  987\n",
    "    Maximum value per column:  [959 987 597 748 719]\n",
    "    Maximum value per line:  [ 987  312  982  204  719  689  101  793 -460  959]\n",
    "    Minimum value of the matrix:  -969\n",
    "    Minimum value per column:  [-878 -966 -969 -884 -881]\n",
    "    Minimum value per line:  [  30 -878 -335 -863  -40 -289 -660 -239 -969 -966]"
   ]
  },
  {
   "cell_type": "code",
   "execution_count": 117,
   "id": "be8cb7e4",
   "metadata": {},
   "outputs": [],
   "source": [
    "def info_matrix(matrix):\n",
    "    if type(matrix) == type(np.array(0)):\n",
    "        print(f\"Maximum value of the matrix: {matrix.max()}\")\n",
    "        print(f\"Maximum value per column: {matrix.max(axis = 0)}\")\n",
    "        print(f\"Maximum value per line: {matrix.max(axis = 1)}\")\n",
    "        print(f\"Minimum value of the matrix: {matrix.min()}\")\n",
    "        print(f\"Minimum value per column: {matrix.min(axis = 0)}\")\n",
    "        print(f\"Minimum value per line: {matrix.min(axis = 1)}\")\n",
    "    else:\n",
    "        print(\"This isn't a matrix\")"
   ]
  },
  {
   "cell_type": "code",
   "execution_count": 118,
   "id": "c4be285f",
   "metadata": {},
   "outputs": [
    {
     "name": "stdout",
     "output_type": "stream",
     "text": [
      "Maximum value of the matrix: 980\n",
      "Maximum value per column: [836 980 977 781 794]\n",
      "Maximum value per line: [794 796 781 744 977 980 853 756 980 787]\n",
      "Minimum value of the matrix: -967\n",
      "Minimum value per column: [-967 -948 -607 -906 -927]\n",
      "Minimum value per line: [-948 -245   40 -607 -832 -546 -906 -967 -735 -936]\n"
     ]
    }
   ],
   "source": [
    "ex16 = np.random.randint(-1000,1000,50).reshape(10,5)\n",
    "info_matrix(ex16)"
   ]
  },
  {
   "cell_type": "code",
   "execution_count": 119,
   "id": "e9950b4b",
   "metadata": {},
   "outputs": [
    {
     "name": "stdout",
     "output_type": "stream",
     "text": [
      "This isn't a matrix\n"
     ]
    }
   ],
   "source": [
    "info_matrix([22,3,4,5,])"
   ]
  },
  {
   "cell_type": "markdown",
   "id": "2fa1bbb0",
   "metadata": {},
   "source": [
    "----------------------------------------------------------------------------------------------------------------------------\n",
    "## Exercise 17:\n",
    "Based on the array defined below, obtain your average, median, variance, and standard deviation.\n",
    "\n",
    "    import numpy as np\n",
    "    arr = np.random.normal(40,0.5,size = (300))\n",
    "    \n",
    "    Average: np.mean();\n",
    "\n",
    "    Median: np.median();\n",
    "\n",
    "    Standard deviation: np.std();\n",
    "\n",
    "    Variance: np.var()."
   ]
  },
  {
   "cell_type": "code",
   "execution_count": 129,
   "id": "c6ea1de3",
   "metadata": {},
   "outputs": [],
   "source": [
    "ex17 = np.random.normal(40,0.5,size = (300))"
   ]
  },
  {
   "cell_type": "code",
   "execution_count": 130,
   "id": "cfc9f6f5",
   "metadata": {},
   "outputs": [
    {
     "name": "stdout",
     "output_type": "stream",
     "text": [
      "Average: 39.95961312412804\n",
      "Median: 39.99326985708161\n",
      "Variance: 0.2142054259426366\n",
      "Standard deviation: 0.4628233204394919\n"
     ]
    }
   ],
   "source": [
    "print(f\"Average: {np.mean(ex17)}\")\n",
    "print(f\"Median: {np.median(ex17)}\")\n",
    "print(f\"Variance: {np.var(ex17)}\")\n",
    "print(f\"Standard deviation: {np.std(ex17)}\")"
   ]
  },
  {
   "cell_type": "markdown",
   "id": "19023b05",
   "metadata": {},
   "source": [
    "----------------------------------------------------------------------------------------------------------------------------\n",
    "## Exercise 18:\n",
    "Based on the arrays defined below, obtain the covariance matrix and the correlation matrix.\n",
    "\n",
    "    import numpy as np\n",
    "    x = np.random.rand(100)\n",
    "    y = np.random.uniform(size=100)\n",
    "\n",
    "\n",
    "Tip: use np.corrcoef() and np.cov()."
   ]
  },
  {
   "cell_type": "code",
   "execution_count": 134,
   "id": "923f262f",
   "metadata": {},
   "outputs": [],
   "source": [
    "ex18X = np.random.rand(100)\n",
    "ex18Y = np.random.uniform(size=100)"
   ]
  },
  {
   "cell_type": "code",
   "execution_count": 137,
   "id": "a3d10021",
   "metadata": {},
   "outputs": [
    {
     "name": "stdout",
     "output_type": "stream",
     "text": [
      "Covariance: [[ 0.08769635 -0.00893483]\n",
      " [-0.00893483  0.07969743]]\n",
      "\n",
      "Correlation matrix: [[ 1.         -0.10687436]\n",
      " [-0.10687436  1.        ]]\n"
     ]
    }
   ],
   "source": [
    "print(f\"Covariance: {np.cov(ex18X, ex18Y)}\")\n",
    "print()\n",
    "print(f\"Correlation matrix: {np.corrcoef(ex18X, ex18Y)}\")"
   ]
  },
  {
   "cell_type": "markdown",
   "id": "d4fb565a",
   "metadata": {},
   "source": [
    "----------------------------------------------------------------------------------------------------------------------------\n",
    "## Exercise 19: \n",
    "Get the index of the maximum value of array A.\n",
    "\n",
    "    A = np.array([[11, 15, 33, 105],\n",
    "                  [1, 140, 45, 90],\n",
    "                  [67, 230, 78, 99]])\n",
    "\n",
    "\n",
    "Tip: use np.argmax() or array.argmax()."
   ]
  },
  {
   "cell_type": "code",
   "execution_count": 138,
   "id": "21290df4",
   "metadata": {},
   "outputs": [],
   "source": [
    "ex19 = np.array([[11, 15, 33, 105],\n",
    "              [1, 140, 45, 90],\n",
    "              [67, 230, 78, 99]])"
   ]
  },
  {
   "cell_type": "code",
   "execution_count": 139,
   "id": "c5be0815",
   "metadata": {},
   "outputs": [
    {
     "data": {
      "text/plain": [
       "9"
      ]
     },
     "execution_count": 139,
     "metadata": {},
     "output_type": "execute_result"
    }
   ],
   "source": [
    "ex19.argmax()"
   ]
  },
  {
   "cell_type": "markdown",
   "id": "47fd8a37",
   "metadata": {},
   "source": [
    "----------------------------------------------------------------------------------------------------------------------------\n",
    "## Exercise 20:\n",
    "Get the index of the minimum value of array B.\n",
    "\n",
    "\n",
    "    B = np.array([\n",
    "        [73, 22, 20, 62,  3],\n",
    "        [68, 84, 27, 59, 93],\n",
    "        [48, 52,  4, 55, 50],\n",
    "        [42, 23, 63, 67,  4],\n",
    "        [44, 30, 41, 31, 29]])\n",
    "\n",
    "\n",
    "Tip: use np.argmin() or array.argmin()."
   ]
  },
  {
   "cell_type": "code",
   "execution_count": 140,
   "id": "c5b2ecf9",
   "metadata": {},
   "outputs": [],
   "source": [
    "ex20 = np.array([\n",
    "    [73, 22, 20, 62,  3],\n",
    "    [68, 84, 27, 59, 93],\n",
    "    [48, 52,  4, 55, 50],\n",
    "    [42, 23, 63, 67,  4],\n",
    "    [44, 30, 41, 31, 29]])"
   ]
  },
  {
   "cell_type": "code",
   "execution_count": 141,
   "id": "ecf80770",
   "metadata": {},
   "outputs": [
    {
     "data": {
      "text/plain": [
       "4"
      ]
     },
     "execution_count": 141,
     "metadata": {},
     "output_type": "execute_result"
    }
   ],
   "source": [
    "ex20.argmin()"
   ]
  },
  {
   "cell_type": "code",
   "execution_count": null,
   "id": "98d3b63f",
   "metadata": {},
   "outputs": [],
   "source": []
  }
 ],
 "metadata": {
  "kernelspec": {
   "display_name": "Python 3",
   "language": "python",
   "name": "python3"
  },
  "language_info": {
   "codemirror_mode": {
    "name": "ipython",
    "version": 3
   },
   "file_extension": ".py",
   "mimetype": "text/x-python",
   "name": "python",
   "nbconvert_exporter": "python",
   "pygments_lexer": "ipython3",
   "version": "3.8.8"
  }
 },
 "nbformat": 4,
 "nbformat_minor": 5
}
