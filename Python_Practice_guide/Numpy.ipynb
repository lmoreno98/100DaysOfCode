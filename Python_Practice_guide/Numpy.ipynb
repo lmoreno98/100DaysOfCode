{
 "cells": [
  {
   "cell_type": "code",
   "execution_count": 1,
   "id": "ac4aa4d9",
   "metadata": {},
   "outputs": [],
   "source": [
    "import numpy as np\n",
    "import string"
   ]
  },
  {
   "cell_type": "markdown",
   "id": "8f98f237",
   "metadata": {},
   "source": [
    "## Exercise 1:\n",
    "A numpy object has attributes and methods inherited from the class (numpy.ndarray). Creat an array and inspect the following attributes:\n",
    "\n",
    "\n",
    "Shape: A tuple containing a number of elements (size) in each dimension of the array;\n",
    "\n",
    "Size: Total number of elements in the array;\n",
    "\n",
    "ndim: Number of dimensions (axes);\n",
    "\n",
    "nbytes: Number of bytes used to store the data;\n",
    "\n",
    "dtype: The data type of the elements in the array;\n",
    "\n",
    "\n",
    "Implementation example:\n",
    "\n",
    "    import numpy as np\n",
    "    array = np.array([1, 2, 3, 4])\n",
    "    print('Shape: ', array.shape)"
   ]
  },
  {
   "cell_type": "code",
   "execution_count": 2,
   "id": "7b73b0d9",
   "metadata": {},
   "outputs": [
    {
     "name": "stdout",
     "output_type": "stream",
     "text": [
      "Shape: (4,)\n",
      "Size: 4\n",
      "Dimension: 1\n",
      "Number of bytes: 16\n",
      "Data type: int32\n"
     ]
    }
   ],
   "source": [
    "ex1 = np.array([1, 2, 3, 4])\n",
    "\n",
    "print(f\"Shape: {ex1.shape}\")\n",
    "print(f\"Size: {ex1.size}\")\n",
    "print(f\"Dimension: {ex1.ndim}\")\n",
    "print(f\"Number of bytes: {ex1.nbytes}\")\n",
    "print(f\"Data type: {ex1.dtype}\")"
   ]
  },
  {
   "cell_type": "markdown",
   "id": "e430240d",
   "metadata": {},
   "source": [
    "----------------------------------------------------------------------------------------------------------------------------\n",
    "## Exercise 2:   \n",
    "Based on the previous exercise, create a function that can receive an array and shows on the screen its attributes. Check if the insert argument is, indeed, a numpy object. You can also use a built-in type () function to verify the object' class"
   ]
  },
  {
   "cell_type": "code",
   "execution_count": 3,
   "id": "5f88c350",
   "metadata": {},
   "outputs": [],
   "source": [
    "def attributes(array):\n",
    "    if type(array) == type(np.array(0)):\n",
    "        print(f\"Shape: {array.shape}\")\n",
    "        print(f\"Size: {array.size}\")\n",
    "        print(f\"Dimension: {array.ndim}\")\n",
    "        print(f\"Number of bytes: {array.nbytes}\")\n",
    "        print(f\"Data type: {array.dtype}\")\n",
    "    else:\n",
    "        print(\"The value inserted is not a numpy array\")"
   ]
  },
  {
   "cell_type": "code",
   "execution_count": 4,
   "id": "5febb6d5",
   "metadata": {},
   "outputs": [
    {
     "name": "stdout",
     "output_type": "stream",
     "text": [
      "Shape: (4,)\n",
      "Size: 4\n",
      "Dimension: 1\n",
      "Number of bytes: 16\n",
      "Data type: int32\n"
     ]
    }
   ],
   "source": [
    "attributes(np.array([1, 2, 3, 4]))"
   ]
  },
  {
   "cell_type": "code",
   "execution_count": 5,
   "id": "d262f272",
   "metadata": {},
   "outputs": [
    {
     "name": "stdout",
     "output_type": "stream",
     "text": [
      "The value inserted is not a numpy array\n"
     ]
    }
   ],
   "source": [
    "attributes([1, 2, 3, 4])"
   ]
  },
  {
   "cell_type": "markdown",
   "id": "1132e674",
   "metadata": {},
   "source": [
    "----------------------------------------------------------------------------------------------------------------------------\n",
    "\n",
    "## Exercise 3: \n",
    "Use the np.array() function to creat the one-dimensioned arrays listed below:\n",
    "\n",
    "\n",
    "a) Use a list as an argument and obtain:\n",
    "\n",
    "    array([-1,  4,  7,  9])\n",
    "\n",
    "\n",
    "b) Use the range() function and obtain:\n",
    "\n",
    "    array([ 1,  2,  3,  4,  5,  6,  7,  8,  9, 10])\n",
    "\n",
    "\n",
    "Use a tuple as an argument and obtain:\n",
    "\n",
    "    array([10, 11, 12, 13, 14])\n",
    "\n",
    "\n",
    "d) Use the range() function and obtain:\n",
    "\n",
    "    array([1990, 1995, 2000, 2005, 2010, 2015, 2020])\n",
    "\n",
    "\n",
    "e) Use the range() function and obtain:\n",
    "\n",
    "    array([2020, 2010, 2000, 1990, 1980, 1970, 1960, 1950, 1940, 1930, 1920, 1910, 1900])\n",
    "\n",
    "\n",
    "f) Obtain:\n",
    "\n",
    "\n",
    "    array(100)"
   ]
  },
  {
   "cell_type": "code",
   "execution_count": 6,
   "id": "87a90e98",
   "metadata": {},
   "outputs": [
    {
     "name": "stdout",
     "output_type": "stream",
     "text": [
      "[-1  4  7  9]\n"
     ]
    }
   ],
   "source": [
    "lista = [-1, 4, 7, 9]\n",
    "ex3_A = np.array(lista)\n",
    "print(ex3_A)"
   ]
  },
  {
   "cell_type": "code",
   "execution_count": 7,
   "id": "a9520be1",
   "metadata": {},
   "outputs": [
    {
     "name": "stdout",
     "output_type": "stream",
     "text": [
      "[ 1  2  3  4  5  6  7  8  9 10]\n"
     ]
    }
   ],
   "source": [
    "ex3_B = np.array(list(range(1,11)))\n",
    "print(ex3_B)"
   ]
  },
  {
   "cell_type": "code",
   "execution_count": 8,
   "id": "3dda834f",
   "metadata": {},
   "outputs": [
    {
     "name": "stdout",
     "output_type": "stream",
     "text": [
      "[10 11 12 13 14]\n"
     ]
    }
   ],
   "source": [
    "tupple = (10,11,12,13,14)\n",
    "ex3_C = np.array(tupple)\n",
    "print(ex3_C)"
   ]
  },
  {
   "cell_type": "code",
   "execution_count": 9,
   "id": "8c05aa50",
   "metadata": {},
   "outputs": [
    {
     "name": "stdout",
     "output_type": "stream",
     "text": [
      "[1990 1995 2000 2005 2010 2015 2020]\n"
     ]
    }
   ],
   "source": [
    "ex3_D = np.array(list(range(1990,2021,5)))\n",
    "print(ex3_D)"
   ]
  },
  {
   "cell_type": "code",
   "execution_count": 10,
   "id": "db835d58",
   "metadata": {},
   "outputs": [
    {
     "name": "stdout",
     "output_type": "stream",
     "text": [
      "[2020 2010 2000 1990 1980 1970 1960 1950 1940 1930 1920 1910 1900]\n"
     ]
    }
   ],
   "source": [
    "ex3_E = np.array(list(range(2020,1899,-10)))\n",
    "print(ex3_E)"
   ]
  },
  {
   "cell_type": "code",
   "execution_count": 11,
   "id": "194a7961",
   "metadata": {},
   "outputs": [
    {
     "name": "stdout",
     "output_type": "stream",
     "text": [
      "100\n"
     ]
    }
   ],
   "source": [
    "ex3_F = np.array(100)\n",
    "print(ex3_F)"
   ]
  },
  {
   "cell_type": "markdown",
   "id": "ef600867",
   "metadata": {},
   "source": [
    "----------------------------------------------------------------------------------------------------------------------------\n",
    "\n",
    "## Exercise 4:\n",
    "The np.ones() function allows you to create an array filled with the number 1 in all your entries. We can specify as arguments the shape and the kind of dtype of the array. Use this function to create the following arrays:\n",
    "\n",
    "a)\n",
    "\n",
    "\n",
    "    array([1., 1., 1., 1., 1., 1., 1., 1., 1., 1.])\n",
    "\n",
    "\n",
    "b)\n",
    "\n",
    "\n",
    "    array([[1., 1., 1., 1.],\n",
    "           [1., 1., 1., 1.],\n",
    "           [1., 1., 1., 1.],\n",
    "           [1., 1., 1., 1.]])\n",
    "\n",
    "\n",
    "c)\n",
    "\n",
    "\n",
    "    array([[1., 1.],\n",
    "           [1., 1.],\n",
    "           [1., 1.]])\n",
    "\n",
    "\n"
   ]
  },
  {
   "cell_type": "code",
   "execution_count": 12,
   "id": "5e6d2ffd",
   "metadata": {},
   "outputs": [
    {
     "name": "stdout",
     "output_type": "stream",
     "text": [
      "[1. 1. 1. 1. 1. 1. 1. 1. 1. 1.]\n"
     ]
    }
   ],
   "source": [
    "ex4_A = np.ones(10)\n",
    "print(ex4_A)"
   ]
  },
  {
   "cell_type": "code",
   "execution_count": 13,
   "id": "d708153a",
   "metadata": {},
   "outputs": [
    {
     "name": "stdout",
     "output_type": "stream",
     "text": [
      "[[1. 1. 1. 1.]\n",
      " [1. 1. 1. 1.]\n",
      " [1. 1. 1. 1.]\n",
      " [1. 1. 1. 1.]]\n"
     ]
    }
   ],
   "source": [
    "ex4_B = np.ones((4,4))\n",
    "print(ex4_B)"
   ]
  },
  {
   "cell_type": "code",
   "execution_count": 14,
   "id": "be2bb6ff",
   "metadata": {},
   "outputs": [
    {
     "name": "stdout",
     "output_type": "stream",
     "text": [
      "[[1. 1.]\n",
      " [1. 1.]\n",
      " [1. 1.]]\n"
     ]
    }
   ],
   "source": [
    "ex4_C = np.ones((3,2))\n",
    "print(ex4_C)"
   ]
  },
  {
   "cell_type": "markdown",
   "id": "fcb43084",
   "metadata": {},
   "source": [
    "----------------------------------------------------------------------------------------------------------------------------\n",
    "\n",
    "## Exercise 5: \n",
    "The np.zeros() function allows you to create an array filled with the number 0 in all your entries. We can specify as arguments the shape and the kind of dtype of the array (default is the float). Use this function to create the following arrays:\n",
    "\n",
    "a)\n",
    "\n",
    "    array([0., 0., 0., 0., 0., 0., 0., 0., 0., 0.])\n",
    "\n",
    "\n",
    "b)\n",
    "\n",
    "    array([[0., 0.],       \n",
    "          [0., 0.]])  \n",
    "\n",
    "\n",
    "c)\n",
    "\n",
    "    array([[0., 0., 0., 0., 0., 0.],\n",
    "           [0., 0., 0., 0., 0., 0.],\n",
    "           [0., 0., 0., 0., 0., 0.],\n",
    "           [0., 0., 0., 0., 0., 0.]])"
   ]
  },
  {
   "cell_type": "code",
   "execution_count": 15,
   "id": "c4a0c54f",
   "metadata": {},
   "outputs": [
    {
     "name": "stdout",
     "output_type": "stream",
     "text": [
      "[0. 0. 0. 0. 0. 0. 0. 0. 0. 0.]\n"
     ]
    }
   ],
   "source": [
    "ex5_A = np.zeros(10)\n",
    "print(ex5_A)"
   ]
  },
  {
   "cell_type": "code",
   "execution_count": 16,
   "id": "b1592f61",
   "metadata": {},
   "outputs": [
    {
     "name": "stdout",
     "output_type": "stream",
     "text": [
      "[[0. 0.]\n",
      " [0. 0.]]\n"
     ]
    }
   ],
   "source": [
    "ex5_B = np.zeros((2,2))\n",
    "print(ex5_B)"
   ]
  },
  {
   "cell_type": "code",
   "execution_count": 17,
   "id": "509e47c5",
   "metadata": {},
   "outputs": [
    {
     "name": "stdout",
     "output_type": "stream",
     "text": [
      "[[0. 0. 0. 0. 0. 0.]\n",
      " [0. 0. 0. 0. 0. 0.]\n",
      " [0. 0. 0. 0. 0. 0.]\n",
      " [0. 0. 0. 0. 0. 0.]]\n"
     ]
    }
   ],
   "source": [
    "ex5_C = np.zeros((4,6))\n",
    "print(ex5_C)"
   ]
  },
  {
   "cell_type": "markdown",
   "id": "405a3bd5",
   "metadata": {},
   "source": [
    "----------------------------------------------------------------------------------------------------------------------------\n",
    "\n",
    "## Exercise 6:\n",
    "Create the following arrays:\n",
    "\n",
    "\n",
    "a)\n",
    "\n",
    "    array([[10],\n",
    "           [15],\n",
    "           [20],\n",
    "           [25],\n",
    "           [30],\n",
    "           [35],\n",
    "           [40],\n",
    "           [45]])\n",
    "\n",
    "\n",
    "b)\n",
    "\n",
    "\n",
    "    array([-50, -45, -40, -35, -30, -25, -20, -15, -10,  -5])\n",
    "\n",
    "\n",
    "c)\n",
    "\n",
    "\n",
    "    array([[ 50,  52,  54,  56,  58,  60,  62,  64,  66,  68],\n",
    "           [ 70,  72,  74,  76,  78,  80,  82,  84,  86,  88],\n",
    "           [ 90,  92,  94,  96,  98, 100, 102, 104, 106, 108],\n",
    "           [110, 112, 114, 116, 118, 120, 122, 124, 126, 128],\n",
    "           [130, 132, 134, 136, 138, 140, 142, 144, 146, 148]])\n",
    "\n",
    "\n",
    "Tip: use np.arange() or np.array(range())."
   ]
  },
  {
   "cell_type": "code",
   "execution_count": 18,
   "id": "336b9395",
   "metadata": {},
   "outputs": [
    {
     "name": "stdout",
     "output_type": "stream",
     "text": [
      "[[10]\n",
      " [15]\n",
      " [20]\n",
      " [25]\n",
      " [30]\n",
      " [35]\n",
      " [40]\n",
      " [45]]\n"
     ]
    }
   ],
   "source": [
    "ex6_A = np.arange(10,46,5).reshape(8,1)\n",
    "print(ex6_A)"
   ]
  },
  {
   "cell_type": "code",
   "execution_count": 19,
   "id": "5a5034ae",
   "metadata": {},
   "outputs": [
    {
     "name": "stdout",
     "output_type": "stream",
     "text": [
      "[-50 -45 -40 -35 -30 -25 -20 -15 -10  -5]\n"
     ]
    }
   ],
   "source": [
    "ex6_B = np.arange(-50,-4,5)\n",
    "print(ex6_B)"
   ]
  },
  {
   "cell_type": "code",
   "execution_count": 20,
   "id": "49952ea6",
   "metadata": {},
   "outputs": [
    {
     "name": "stdout",
     "output_type": "stream",
     "text": [
      "[[ 50  52  54  56  58  60  62  64  66  68]\n",
      " [ 70  72  74  76  78  80  82  84  86  88]\n",
      " [ 90  92  94  96  98 100 102 104 106 108]\n",
      " [110 112 114 116 118 120 122 124 126 128]\n",
      " [130 132 134 136 138 140 142 144 146 148]]\n"
     ]
    }
   ],
   "source": [
    "ex6_B = np.arange(50,149,2).reshape(5,10)\n",
    "print(ex6_B)"
   ]
  },
  {
   "cell_type": "markdown",
   "id": "ccfa311b",
   "metadata": {},
   "source": [
    "----------------------------------------------------------------------------------------------------------------------------\n",
    "\n",
    "## Exercise 7: \n",
    "Use the np.full(shape, fill_value, dtype) function to create the following arrays. This function allows you to create an array with a user-defined shape and dtype, filled with a certain value.\n",
    "\n",
    "a)\n",
    "\n",
    "\n",
    "    array([5., 5., 5., 5., 5., 5., 5., 5., 5., 5.])\n",
    "\n",
    "\n",
    "b)\n",
    "\n",
    "\n",
    "    array([[-5., -5., -5., -5.],\n",
    "           [-5., -5., -5., -5.],\n",
    "           [-5., -5., -5., -5.],\n",
    "           [-5., -5., -5., -5.]])\n",
    "\n",
    "\n",
    "c)\n",
    "\n",
    "\n",
    "    array([[3, 3, 3],\n",
    "           [3, 3, 3],\n",
    "           [3, 3, 3]])\n",
    "\n",
    "\n",
    "d)\n",
    "\n",
    "\n",
    "    array([[50, 50, 50, 50, 50, 50, 50, 50, 50, 50],\n",
    "           [50, 50, 50, 50, 50, 50, 50, 50, 50, 50],\n",
    "           [50, 50, 50, 50, 50, 50, 50, 50, 50, 50],\n",
    "           [50, 50, 50, 50, 50, 50, 50, 50, 50, 50],\n",
    "           [50, 50, 50, 50, 50, 50, 50, 50, 50, 50],\n",
    "           [50, 50, 50, 50, 50, 50, 50, 50, 50, 50],\n",
    "           [50, 50, 50, 50, 50, 50, 50, 50, 50, 50],\n",
    "           [50, 50, 50, 50, 50, 50, 50, 50, 50, 50],\n",
    "           [50, 50, 50, 50, 50, 50, 50, 50, 50, 50],\n",
    "           [50, 50, 50, 50, 50, 50, 50, 50, 50, 50]])\n",
    "\n",
    "\n",
    "Tip: Another possibility would be to obtain the arrays with a different operation, by mutiplying a matrix filled with the number 1 by a certain value."
   ]
  },
  {
   "cell_type": "code",
   "execution_count": 21,
   "id": "d56c51a2",
   "metadata": {},
   "outputs": [
    {
     "name": "stdout",
     "output_type": "stream",
     "text": [
      "[[5 5 5 5 5 5 5 5 5 5]]\n"
     ]
    }
   ],
   "source": [
    "ex7_A = np.full((1,10), 5)\n",
    "print(ex7_A)"
   ]
  },
  {
   "cell_type": "code",
   "execution_count": 22,
   "id": "b37d2c41",
   "metadata": {},
   "outputs": [
    {
     "name": "stdout",
     "output_type": "stream",
     "text": [
      "[[-5 -5 -5 -5]\n",
      " [-5 -5 -5 -5]\n",
      " [-5 -5 -5 -5]\n",
      " [-5 -5 -5 -5]]\n"
     ]
    }
   ],
   "source": [
    "ex7_B = np.full((4,4), -5)\n",
    "print(ex7_B)"
   ]
  },
  {
   "cell_type": "code",
   "execution_count": 23,
   "id": "5dcbb03c",
   "metadata": {},
   "outputs": [
    {
     "name": "stdout",
     "output_type": "stream",
     "text": [
      "[[3 3 3]\n",
      " [3 3 3]\n",
      " [3 3 3]]\n"
     ]
    }
   ],
   "source": [
    "ex7_C = np.full((3,3), 3)\n",
    "print(ex7_C)"
   ]
  },
  {
   "cell_type": "code",
   "execution_count": 24,
   "id": "c34ee743",
   "metadata": {},
   "outputs": [
    {
     "name": "stdout",
     "output_type": "stream",
     "text": [
      "[[50 50 50 50 50 50 50 50 50 50]\n",
      " [50 50 50 50 50 50 50 50 50 50]\n",
      " [50 50 50 50 50 50 50 50 50 50]\n",
      " [50 50 50 50 50 50 50 50 50 50]\n",
      " [50 50 50 50 50 50 50 50 50 50]\n",
      " [50 50 50 50 50 50 50 50 50 50]\n",
      " [50 50 50 50 50 50 50 50 50 50]\n",
      " [50 50 50 50 50 50 50 50 50 50]\n",
      " [50 50 50 50 50 50 50 50 50 50]\n",
      " [50 50 50 50 50 50 50 50 50 50]]\n"
     ]
    }
   ],
   "source": [
    "ex7_D = np.full((10,10), 50)\n",
    "print(ex7_D)"
   ]
  },
  {
   "cell_type": "markdown",
   "id": "0434788c",
   "metadata": {},
   "source": [
    "----------------------------------------------------------------------------------------------------------------------------\n",
    "\n",
    "## Exercise 8: \n",
    "Define the K array and check for missing data. Use the np.isnan() function.\n",
    "\n",
    "\n",
    "    array([[ nan,   1.,  10.,   0.],\n",
    "           [ nan,  nan,  nan,  nan],\n",
    "           [100.,  50.,  nan, -25.],\n",
    "           [ 30.,  nan,  nan, 130.]])"
   ]
  },
  {
   "cell_type": "code",
   "execution_count": 25,
   "id": "e998ab9a",
   "metadata": {},
   "outputs": [
    {
     "name": "stdout",
     "output_type": "stream",
     "text": [
      "[[ True False False False]\n",
      " [ True  True  True  True]\n",
      " [False False  True False]\n",
      " [False  True  True False]]\n"
     ]
    }
   ],
   "source": [
    "ex_8 = np.array([[ np.nan,   1.,  10.,   0.],\n",
    "     [ np.nan,  np.nan,  np.nan,  np.nan],\n",
    "     [100.,  50.,  np.nan, -25.],\n",
    "     [ 30.,  np.nan,  np.nan, 130.]])\n",
    "print(np.isnan(ex_8))"
   ]
  },
  {
   "cell_type": "markdown",
   "id": "fcf71cd3",
   "metadata": {},
   "source": [
    "----------------------------------------------------------------------------------------------------------------------------\n",
    "\n",
    "## Exercise 9:\n",
    "\n",
    "The np.linspace () function returns an array of evenly spaced numbers within a defined range. Create an array with numbers within the range [1,21] in 5 parts.\n",
    "\n",
    "\n",
    "Expected return:\n",
    "\n",
    "    array([ 1.,  6., 11., 16., 21.])"
   ]
  },
  {
   "cell_type": "code",
   "execution_count": 26,
   "id": "3e41dbc4",
   "metadata": {},
   "outputs": [
    {
     "name": "stdout",
     "output_type": "stream",
     "text": [
      "[ 1.  6. 11. 16. 21.]\n"
     ]
    }
   ],
   "source": [
    "ex9 = np.linspace(1,21,5)\n",
    "print(ex9)"
   ]
  },
  {
   "cell_type": "markdown",
   "id": "fd6ba056",
   "metadata": {},
   "source": [
    "----------------------------------------------------------------------------------------------------------------------------\n",
    "\n",
    "## Exercise 10: \n",
    "\n",
    "The np.logspace () function returns evenly spaced numbers on a logarithmic scale. Create an array with numbers within the range [1,51] in 10 parts with the np.logspace() function.\n",
    "\n",
    "\n",
    "Expected return:\n",
    "\n",
    "    array([[1.00000000e+01],\n",
    "           [3.59381366e+06],\n",
    "           [1.29154967e+12],\n",
    "           [4.64158883e+17],\n",
    "           [1.66810054e+23],\n",
    "           [5.99484250e+28],\n",
    "           [2.15443469e+34],\n",
    "           [7.74263683e+39],\n",
    "           [2.78255940e+45],\n",
    "           [1.00000000e+51]])"
   ]
  },
  {
   "cell_type": "code",
   "execution_count": 27,
   "id": "3470f40d",
   "metadata": {},
   "outputs": [
    {
     "name": "stdout",
     "output_type": "stream",
     "text": [
      "[[1.00000000e+01]\n",
      " [3.59381366e+06]\n",
      " [1.29154967e+12]\n",
      " [4.64158883e+17]\n",
      " [1.66810054e+23]\n",
      " [5.99484250e+28]\n",
      " [2.15443469e+34]\n",
      " [7.74263683e+39]\n",
      " [2.78255940e+45]\n",
      " [1.00000000e+51]]\n"
     ]
    }
   ],
   "source": [
    "ex10 = np.logspace(1,51,10)\n",
    "print(ex10.reshape(10,1))"
   ]
  },
  {
   "cell_type": "markdown",
   "id": "a03ab3db",
   "metadata": {},
   "source": [
    "----------------------------------------------------------------------------------------------------------------------------\n",
    "## Exercise 11: \n",
    "Use the np.diag() function to build the following array:\n",
    "\n",
    "\n",
    "    array([[ 5,  0,  0,  0,  0,  0],\n",
    "           [ 0, 10,  0,  0,  0,  0],\n",
    "           [ 0,  0, 15,  0,  0,  0],\n",
    "           [ 0,  0,  0, 20,  0,  0],\n",
    "           [ 0,  0,  0,  0, 25,  0],\n",
    "           [ 0,  0,  0,  0,  0, 30]])"
   ]
  },
  {
   "cell_type": "code",
   "execution_count": 28,
   "id": "23e6ef75",
   "metadata": {},
   "outputs": [],
   "source": [
    "ex11 = np.ones((6,6))\n",
    "f = 0\n",
    "for i in range(5,31,5):\n",
    "    ex11[f] = ex11[f]*i\n",
    "    f += 1"
   ]
  },
  {
   "cell_type": "code",
   "execution_count": 29,
   "id": "3c91f1dd",
   "metadata": {},
   "outputs": [
    {
     "name": "stdout",
     "output_type": "stream",
     "text": [
      "[[ 5.  0.  0.  0.  0.  0.]\n",
      " [ 0. 10.  0.  0.  0.  0.]\n",
      " [ 0.  0. 15.  0.  0.  0.]\n",
      " [ 0.  0.  0. 20.  0.  0.]\n",
      " [ 0.  0.  0.  0. 25.  0.]\n",
      " [ 0.  0.  0.  0.  0. 30.]]\n"
     ]
    }
   ],
   "source": [
    "print(np.diag(np.diag(ex11)))"
   ]
  },
  {
   "cell_type": "markdown",
   "id": "e9dc0bfc",
   "metadata": {},
   "source": [
    "----------------------------------------------------------------------------------------------------------------------------\n",
    "## Exercise 12: \n",
    "Use the np.eye() function (or even np.identity()) to obtain the following array.\n",
    "\n",
    "\n",
    "    array([[1., 0., 0., 0., 0., 0., 0., 0., 0., 0.],\n",
    "           [0., 1., 0., 0., 0., 0., 0., 0., 0., 0.],\n",
    "           [0., 0., 1., 0., 0., 0., 0., 0., 0., 0.],\n",
    "           [0., 0., 0., 1., 0., 0., 0., 0., 0., 0.],\n",
    "           [0., 0., 0., 0., 1., 0., 0., 0., 0., 0.],\n",
    "           [0., 0., 0., 0., 0., 1., 0., 0., 0., 0.],\n",
    "           [0., 0., 0., 0., 0., 0., 1., 0., 0., 0.],\n",
    "           [0., 0., 0., 0., 0., 0., 0., 1., 0., 0.],\n",
    "           [0., 0., 0., 0., 0., 0., 0., 0., 1., 0.],\n",
    "           [0., 0., 0., 0., 0., 0., 0., 0., 0., 1.]])\n",
    "\n",
    "\n",
    "Tip: this matrix is ​​defined as an identity matrix, in this case of order 10, and it assumes great relevance in several computational calculations, as we will see later."
   ]
  },
  {
   "cell_type": "code",
   "execution_count": 30,
   "id": "d15409ca",
   "metadata": {},
   "outputs": [
    {
     "data": {
      "text/plain": [
       "array([[1., 0., 0., 0., 0., 0., 0., 0., 0., 0.],\n",
       "       [0., 1., 0., 0., 0., 0., 0., 0., 0., 0.],\n",
       "       [0., 0., 1., 0., 0., 0., 0., 0., 0., 0.],\n",
       "       [0., 0., 0., 1., 0., 0., 0., 0., 0., 0.],\n",
       "       [0., 0., 0., 0., 1., 0., 0., 0., 0., 0.],\n",
       "       [0., 0., 0., 0., 0., 1., 0., 0., 0., 0.],\n",
       "       [0., 0., 0., 0., 0., 0., 1., 0., 0., 0.],\n",
       "       [0., 0., 0., 0., 0., 0., 0., 1., 0., 0.],\n",
       "       [0., 0., 0., 0., 0., 0., 0., 0., 1., 0.],\n",
       "       [0., 0., 0., 0., 0., 0., 0., 0., 0., 1.]])"
      ]
     },
     "execution_count": 30,
     "metadata": {},
     "output_type": "execute_result"
    }
   ],
   "source": [
    "np.eye(10, dtype = float)"
   ]
  },
  {
   "cell_type": "markdown",
   "id": "12e8254c",
   "metadata": {},
   "source": [
    "----------------------------------------------------------------------------------------------------------------------------\n",
    "## Exercise 13: \n",
    "Obtain the sum of the elements of each array below. Use the np.sum () function. Implement a solution with \"loop for\", to do so, store the vectors in a list.\n",
    "\n",
    "\n",
    "    import numpy as np\n",
    "    array1 = np.arange(1,11)\n",
    "    array2 = np.linspace(1,50,10)\n",
    "    array3 = np.array(range(51))\n",
    "    array4 = np.logspace(1,10,5)\n",
    "    array5 = np.diag(range(5,31,5))\n",
    "\n",
    "\n",
    "Expected return:\n",
    "\n",
    "\n",
    "    Sum of the elements of array 1:  55\n",
    "    Sum of the elements of array 2:  255.0\n",
    "    Sum of the elements of array 3:  1275\n",
    "    Sum of the elements of array 4:  10056552148.564463\n",
    "    Sum of the elements of array 5:  105"
   ]
  },
  {
   "cell_type": "code",
   "execution_count": 31,
   "id": "c670bb42",
   "metadata": {},
   "outputs": [],
   "source": [
    "ex13A = np.arange(1,11)\n",
    "ex13B = np.linspace(1,50,10)\n",
    "ex13C = np.array(range(51))\n",
    "ex13D = np.logspace(1,10,5)\n",
    "ex13E = np.diag(range(5,31,5))"
   ]
  },
  {
   "cell_type": "code",
   "execution_count": 32,
   "id": "0d7e36e8",
   "metadata": {},
   "outputs": [],
   "source": [
    "indexs = [ex13A,ex13B,ex13C,ex13D,ex13E]"
   ]
  },
  {
   "cell_type": "code",
   "execution_count": 33,
   "id": "843934a1",
   "metadata": {},
   "outputs": [
    {
     "name": "stdout",
     "output_type": "stream",
     "text": [
      "Sum of the elements of the ex13A: 55\n",
      "Sum of the elements of the ex13B: 255.0\n",
      "Sum of the elements of the ex13C: 1275\n",
      "Sum of the elements of the ex13D: 10056552148.564463\n",
      "Sum of the elements of the ex13E: 105\n"
     ]
    }
   ],
   "source": [
    "for index, letter in zip(indexs, string.ascii_uppercase):\n",
    "    print(f\"Sum of the elements of the ex13{letter}: {np.sum(index)}\")"
   ]
  },
  {
   "cell_type": "markdown",
   "id": "5513b935",
   "metadata": {},
   "source": [
    "----------------------------------------------------------------------------------------------------------------------------\n",
    "## Exercise 14:\n",
    "From the matrix defined below, obtain:\n",
    "\n",
    "    a) total sum of the elements;\n",
    "\n",
    "    b) sum of the lines;\n",
    "\n",
    "    c) sum of columns.\n",
    "\n",
    "\n",
    "    import numpy as np\n",
    "    matrix = np.array(np.random.randint(1,100,15)).reshape(5,3)"
   ]
  },
  {
   "cell_type": "code",
   "execution_count": 34,
   "id": "424cadb5",
   "metadata": {},
   "outputs": [],
   "source": [
    "ex14 = np.array(np.random.randint(1,100,15)).reshape(5,3)"
   ]
  },
  {
   "cell_type": "code",
   "execution_count": 35,
   "id": "c7dcc9df",
   "metadata": {},
   "outputs": [
    {
     "name": "stdout",
     "output_type": "stream",
     "text": [
      "Total sum of the elements:  783\n",
      "Sum of the lines:  [138 171 187 127 160]\n",
      "Sum of the columns:  [191 273 319]\n"
     ]
    }
   ],
   "source": [
    "print(\"Total sum of the elements: \", np.sum(ex14))\n",
    "print(\"Sum of the lines: \", np.sum(ex14, axis= 1))\n",
    "print(\"Sum of the columns: \", np.sum(ex14, axis= 0))"
   ]
  },
  {
   "cell_type": "markdown",
   "id": "fe75c58c",
   "metadata": {},
   "source": [
    "----------------------------------------------------------------------------------------------------------------------------\n",
    "## Exercise 15:\n",
    "Obtain the maximum and minimum value of each array below. Implement a solution with a \"loop for\".\n",
    "\n",
    "\n",
    "    import numpy as np\n",
    "    array1 = np.array([-1, 10, 3, 4, 7, 27])\n",
    "    array2 = np.random.randint(-100,300,30)\n",
    "    array3 = np.random.randn(10)\n",
    "    array4 = np.array(range(50,10,-2))\n",
    "\n",
    "\n",
    "Tip: To obtain the maximum and minimium value of an array, we can use array.max() and array.min() (or max(array) and min(array))."
   ]
  },
  {
   "cell_type": "code",
   "execution_count": 36,
   "id": "760a236d",
   "metadata": {},
   "outputs": [],
   "source": [
    "ex15A = np.array([-1, 10, 3, 4, 7, 27])\n",
    "ex15B = np.random.randint(-100,300,30)\n",
    "ex15C = np.random.randn(10)\n",
    "ex15D = np.array(range(50,10,-2))\n",
    "indexs = [ex15A,ex15B,ex15C,ex15D]"
   ]
  },
  {
   "cell_type": "code",
   "execution_count": 37,
   "id": "3fdd7867",
   "metadata": {},
   "outputs": [
    {
     "name": "stdout",
     "output_type": "stream",
     "text": [
      "ex15A | Maximum = 27 | Minimum = -1\n",
      "ex15B | Maximum = 285 | Minimum = -97\n",
      "ex15C | Maximum = 0.89 | Minimum = -2\n",
      "ex15D | Maximum = 50 | Minimum = 12\n"
     ]
    }
   ],
   "source": [
    "for index, letter in zip(indexs, string.ascii_uppercase):\n",
    "    print(f\"ex15{letter} | Maximum = {round(index.max(),2)} | Minimum = {round(index.min())}\")"
   ]
  },
  {
   "cell_type": "markdown",
   "id": "2a224bdc",
   "metadata": {},
   "source": [
    "----------------------------------------------------------------------------------------------------------------------------\n",
    "## Exercise 16: \n",
    "Create a function that receives a matrix as input and calculate:\n",
    "\n",
    "\n",
    "a) Maximum value of the matrix;\n",
    "\n",
    "b) Maximum value per column;\n",
    "\n",
    "c) Maximum value per line;\n",
    "\n",
    "d) Minimum value of the matrix;\n",
    "\n",
    "e) Minimum value per column;\n",
    "\n",
    "f) Minimum value per line.\n",
    "\n",
    "\n",
    "Example of return for the matrix defined below:\n",
    "\n",
    "\n",
    "Input:\n",
    "\n",
    "    matrix = np.random.randint(-1000,1000,50).reshape(10,5)\n",
    "    info_array(array)\n",
    "\n",
    "Output:\n",
    "\n",
    "    Maximum value of the matrix:  987\n",
    "    Maximum value per column:  [959 987 597 748 719]\n",
    "    Maximum value per line:  [ 987  312  982  204  719  689  101  793 -460  959]\n",
    "    Minimum value of the matrix:  -969\n",
    "    Minimum value per column:  [-878 -966 -969 -884 -881]\n",
    "    Minimum value per line:  [  30 -878 -335 -863  -40 -289 -660 -239 -969 -966]"
   ]
  },
  {
   "cell_type": "code",
   "execution_count": 38,
   "id": "be8cb7e4",
   "metadata": {},
   "outputs": [],
   "source": [
    "def info_matrix(matrix):\n",
    "    if type(matrix) == type(np.array(0)):\n",
    "        print(f\"Maximum value of the matrix: {matrix.max()}\")\n",
    "        print(f\"Maximum value per column: {matrix.max(axis = 0)}\")\n",
    "        print(f\"Maximum value per line: {matrix.max(axis = 1)}\")\n",
    "        print(f\"Minimum value of the matrix: {matrix.min()}\")\n",
    "        print(f\"Minimum value per column: {matrix.min(axis = 0)}\")\n",
    "        print(f\"Minimum value per line: {matrix.min(axis = 1)}\")\n",
    "    else:\n",
    "        print(\"This isn't a matrix\")"
   ]
  },
  {
   "cell_type": "code",
   "execution_count": 39,
   "id": "c4be285f",
   "metadata": {},
   "outputs": [
    {
     "name": "stdout",
     "output_type": "stream",
     "text": [
      "Maximum value of the matrix: 960\n",
      "Maximum value per column: [960 663 775 680 804]\n",
      "Maximum value per line: [-175  915  775  596  666  575  376  181  960  804]\n",
      "Minimum value of the matrix: -999\n",
      "Minimum value per column: [-568 -859 -999 -353 -876]\n",
      "Minimum value per line: [-876 -772 -568 -339 -497 -465 -410 -999 -322 -658]\n"
     ]
    }
   ],
   "source": [
    "ex16 = np.random.randint(-1000,1000,50).reshape(10,5)\n",
    "info_matrix(ex16)"
   ]
  },
  {
   "cell_type": "code",
   "execution_count": 40,
   "id": "e9950b4b",
   "metadata": {},
   "outputs": [
    {
     "name": "stdout",
     "output_type": "stream",
     "text": [
      "This isn't a matrix\n"
     ]
    }
   ],
   "source": [
    "info_matrix([22,3,4,5,])"
   ]
  },
  {
   "cell_type": "markdown",
   "id": "2fa1bbb0",
   "metadata": {},
   "source": [
    "----------------------------------------------------------------------------------------------------------------------------\n",
    "## Exercise 17:\n",
    "Based on the array defined below, obtain your average, median, variance, and standard deviation.\n",
    "\n",
    "    import numpy as np\n",
    "    arr = np.random.normal(40,0.5,size = (300))\n",
    "    \n",
    "    Average: np.mean();\n",
    "\n",
    "    Median: np.median();\n",
    "\n",
    "    Standard deviation: np.std();\n",
    "\n",
    "    Variance: np.var()."
   ]
  },
  {
   "cell_type": "code",
   "execution_count": 41,
   "id": "c6ea1de3",
   "metadata": {},
   "outputs": [],
   "source": [
    "ex17 = np.random.normal(40,0.5,size = (300))"
   ]
  },
  {
   "cell_type": "code",
   "execution_count": 42,
   "id": "cfc9f6f5",
   "metadata": {},
   "outputs": [
    {
     "name": "stdout",
     "output_type": "stream",
     "text": [
      "Average: 39.99860515100803\n",
      "Median: 40.025179513763305\n",
      "Variance: 0.24906888121147744\n",
      "Standard deviation: 0.49906801261098416\n"
     ]
    }
   ],
   "source": [
    "print(f\"Average: {np.mean(ex17)}\")\n",
    "print(f\"Median: {np.median(ex17)}\")\n",
    "print(f\"Variance: {np.var(ex17)}\")\n",
    "print(f\"Standard deviation: {np.std(ex17)}\")"
   ]
  },
  {
   "cell_type": "markdown",
   "id": "19023b05",
   "metadata": {},
   "source": [
    "----------------------------------------------------------------------------------------------------------------------------\n",
    "## Exercise 18:\n",
    "Based on the arrays defined below, obtain the covariance matrix and the correlation matrix.\n",
    "\n",
    "    import numpy as np\n",
    "    x = np.random.rand(100)\n",
    "    y = np.random.uniform(size=100)\n",
    "\n",
    "\n",
    "Tip: use np.corrcoef() and np.cov()."
   ]
  },
  {
   "cell_type": "code",
   "execution_count": 43,
   "id": "923f262f",
   "metadata": {},
   "outputs": [],
   "source": [
    "ex18X = np.random.rand(100)\n",
    "ex18Y = np.random.uniform(size=100)"
   ]
  },
  {
   "cell_type": "code",
   "execution_count": 44,
   "id": "a3d10021",
   "metadata": {},
   "outputs": [
    {
     "name": "stdout",
     "output_type": "stream",
     "text": [
      "Covariance: [[0.07984266 0.0023831 ]\n",
      " [0.0023831  0.06802713]]\n",
      "\n",
      "Correlation matrix: [[1.         0.03233583]\n",
      " [0.03233583 1.        ]]\n"
     ]
    }
   ],
   "source": [
    "print(f\"Covariance: {np.cov(ex18X, ex18Y)}\")\n",
    "print()\n",
    "print(f\"Correlation matrix: {np.corrcoef(ex18X, ex18Y)}\")"
   ]
  },
  {
   "cell_type": "markdown",
   "id": "d4fb565a",
   "metadata": {},
   "source": [
    "----------------------------------------------------------------------------------------------------------------------------\n",
    "## Exercise 19: \n",
    "Get the index of the maximum value of array A.\n",
    "\n",
    "    A = np.array([[11, 15, 33, 105],\n",
    "                  [1, 140, 45, 90],\n",
    "                  [67, 230, 78, 99]])\n",
    "\n",
    "\n",
    "Tip: use np.argmax() or array.argmax()."
   ]
  },
  {
   "cell_type": "code",
   "execution_count": 45,
   "id": "21290df4",
   "metadata": {},
   "outputs": [],
   "source": [
    "ex19 = np.array([[11, 15, 33, 105],\n",
    "              [1, 140, 45, 90],\n",
    "              [67, 230, 78, 99]])"
   ]
  },
  {
   "cell_type": "code",
   "execution_count": 46,
   "id": "c5be0815",
   "metadata": {},
   "outputs": [
    {
     "data": {
      "text/plain": [
       "9"
      ]
     },
     "execution_count": 46,
     "metadata": {},
     "output_type": "execute_result"
    }
   ],
   "source": [
    "ex19.argmax()"
   ]
  },
  {
   "cell_type": "markdown",
   "id": "47fd8a37",
   "metadata": {},
   "source": [
    "----------------------------------------------------------------------------------------------------------------------------\n",
    "## Exercise 20:\n",
    "Get the index of the minimum value of array B.\n",
    "\n",
    "\n",
    "    B = np.array([\n",
    "        [73, 22, 20, 62,  3],\n",
    "        [68, 84, 27, 59, 93],\n",
    "        [48, 52,  4, 55, 50],\n",
    "        [42, 23, 63, 67,  4],\n",
    "        [44, 30, 41, 31, 29]])\n",
    "\n",
    "\n",
    "Tip: use np.argmin() or array.argmin()."
   ]
  },
  {
   "cell_type": "code",
   "execution_count": 47,
   "id": "c5b2ecf9",
   "metadata": {},
   "outputs": [],
   "source": [
    "ex20 = np.array([\n",
    "    [73, 22, 20, 62,  3],\n",
    "    [68, 84, 27, 59, 93],\n",
    "    [48, 52,  4, 55, 50],\n",
    "    [42, 23, 63, 67,  4],\n",
    "    [44, 30, 41, 31, 29]])"
   ]
  },
  {
   "cell_type": "code",
   "execution_count": 48,
   "id": "ecf80770",
   "metadata": {},
   "outputs": [
    {
     "data": {
      "text/plain": [
       "4"
      ]
     },
     "execution_count": 48,
     "metadata": {},
     "output_type": "execute_result"
    }
   ],
   "source": [
    "ex20.argmin()"
   ]
  },
  {
   "cell_type": "markdown",
   "id": "cb6d2a25",
   "metadata": {},
   "source": [
    "----------------------------------------------------------------------------------------------------------------------------\n",
    "## Exercise 21:\n",
    "Write a function that receives a NumPy array and shows a set of descriptive statistics for this object on the screen.\n",
    "\n",
    "\n",
    "Expected result:\n",
    "\n",
    "Input\n",
    "\n",
    "    array = np.array([-57, 101, 270, 130, 144])\n",
    "    info_array(array)\n",
    "\n",
    "\n",
    "Output:\n",
    "\n",
    "    Max: 270\n",
    "    Min: -57\n",
    "    Mean: 117.6\n",
    "    Median: 130.0\n",
    "    Variance: 10967.439999999999\n",
    "    Standard deviation: 104.72554607162475"
   ]
  },
  {
   "cell_type": "code",
   "execution_count": 54,
   "id": "cdef35f3",
   "metadata": {},
   "outputs": [],
   "source": [
    "def info_matrix(matrix):\n",
    "    if type(matrix) == type(np.array(0)):\n",
    "        print(f\"Max: {np.max(matrix)}\")\n",
    "        print(f\"Min: {np.min(matrix)}\")\n",
    "        print(f\"Mean: {np.mean(matrix)}\")\n",
    "        print(f\"Median: {np.median(matrix)}\")\n",
    "        print(f\"Variance: {np.var(matrix)}\")\n",
    "        print(f\"Standad deviation: {np.std(matrix)}\")\n",
    "    else:\n",
    "        print(\"This isn't a matrix\")"
   ]
  },
  {
   "cell_type": "code",
   "execution_count": 55,
   "id": "486f8d1a",
   "metadata": {},
   "outputs": [
    {
     "name": "stdout",
     "output_type": "stream",
     "text": [
      "Max: 270\n",
      "Min: -57\n",
      "Mean: 117.6\n",
      "Median: 130.0\n",
      "Variance: 10967.439999999999\n",
      "Standad deviation: 104.72554607162475\n"
     ]
    }
   ],
   "source": [
    "ex21 = np.array([-57, 101, 270, 130, 144])\n",
    "info_matrix(ex21)"
   ]
  },
  {
   "cell_type": "markdown",
   "id": "4ae1a8f4",
   "metadata": {},
   "source": [
    "----------------------------------------------------------------------------------------------------------------------------\n",
    "## Exercise 22:\n",
    "Use the np.unique() function to obtain an array with the unique elements of the array below. To do so, store the new array in a variable.\n",
    "\n",
    "\n",
    "    A = np.array([\n",
    "        [1, 3, 3, 4, 5],\n",
    "        [4, 7, 11, 3, 5],\n",
    "        [1, 11, 4, 4, 11]])"
   ]
  },
  {
   "cell_type": "code",
   "execution_count": 56,
   "id": "b2421d4b",
   "metadata": {},
   "outputs": [
    {
     "data": {
      "text/plain": [
       "array([ 1,  3,  4,  5,  7, 11])"
      ]
     },
     "execution_count": 56,
     "metadata": {},
     "output_type": "execute_result"
    }
   ],
   "source": [
    "ex22 = np.array([\n",
    "                [1, 3, 3, 4, 5],\n",
    "                [4, 7, 11, 3, 5],\n",
    "                [1, 11, 4, 4, 11]])\n",
    "np.unique(ex22)"
   ]
  },
  {
   "cell_type": "markdown",
   "id": "12e88deb",
   "metadata": {},
   "source": [
    "----------------------------------------------------------------------------------------------------------------------------\n",
    "## Exercise 23:\n",
    "Considering the arrays below:\n",
    "\n",
    "\n",
    "    import numpy as np\n",
    "    array1 = np.array([10, 20, 30, 40])\n",
    "    array2 = np.array([100, 30, 5, 1, 40, 100, 20, 130, 155,170])\n",
    "\n",
    "\n",
    "Obtain:\n",
    "\n",
    "a) The first, the third, and the last element of each array;\n",
    "\n",
    "b) invert the array;\n",
    "\n",
    "c) Take the number 20 in both of the arrays and store the sum in a variable."
   ]
  },
  {
   "cell_type": "code",
   "execution_count": 57,
   "id": "1de77da6",
   "metadata": {},
   "outputs": [],
   "source": [
    "ex23A = np.array([10, 20, 30, 40])\n",
    "ex23B = np.array([100, 30, 5, 1, 40, 100, 20, 130, 155,170])"
   ]
  },
  {
   "cell_type": "code",
   "execution_count": 68,
   "id": "07cf2dff",
   "metadata": {},
   "outputs": [
    {
     "name": "stdout",
     "output_type": "stream",
     "text": [
      "                     Point A\n",
      "     |    First    |    Third    |    Last \n",
      "ex23A|     10      |     30      |     40 \n",
      "ex23A|    100      |     5       |    170 \n"
     ]
    }
   ],
   "source": [
    "print(\"                     Point A\")\n",
    "print(f\"     |    First    |    Third    |    Last \")\n",
    "print(f\"ex23A|     {ex23A[0]}      |     {ex23A[2]}      |     {ex23A[-1]} \")\n",
    "print(f\"ex23A|    {ex23B[0]}      |     {ex23B[2]}       |    {ex23B[-1]} \")"
   ]
  },
  {
   "cell_type": "code",
   "execution_count": 85,
   "id": "c5aed85e",
   "metadata": {},
   "outputs": [
    {
     "name": "stdout",
     "output_type": "stream",
     "text": [
      "                     Point B\n",
      "List ex23A inverted:   [40 30 20 10]\n",
      "List ex23B inverted:   [170 155 130  20 100  40   1   5  30 100]\n"
     ]
    }
   ],
   "source": [
    "print(\"                     Point B\")\n",
    "print(f\"List ex23A inverted:   {ex23A[::-1]}\")\n",
    "print(f\"List ex23B inverted:   {ex23B[::-1]}\")"
   ]
  },
  {
   "cell_type": "code",
   "execution_count": 84,
   "id": "94b03805",
   "metadata": {},
   "outputs": [
    {
     "data": {
      "text/plain": [
       "array([40, 30, 20, 10])"
      ]
     },
     "execution_count": 84,
     "metadata": {},
     "output_type": "execute_result"
    }
   ],
   "source": [
    "ex23A[::-1]"
   ]
  },
  {
   "cell_type": "code",
   "execution_count": 94,
   "id": "30aa61cc",
   "metadata": {},
   "outputs": [
    {
     "name": "stdout",
     "output_type": "stream",
     "text": [
      "                     Point C\n",
      "Sum between the 20 in the 2 matrix: 40\n"
     ]
    }
   ],
   "source": [
    "print(\"                     Point C\")\n",
    "sum23 = ex23A[1] + ex23B[6]\n",
    "print(f\"Sum between the 20 in the 2 matrix: {sum23}\")"
   ]
  },
  {
   "cell_type": "markdown",
   "id": "49b39085",
   "metadata": {},
   "source": [
    "----------------------------------------------------------------------------------------------------------------------------\n",
    "## Exercise 24:\n",
    "Access the numbers 9 and 90 of the array below.\n",
    "\n",
    "\n",
    "    import numpy as np\n",
    "    ar = np.array([[-1, 33, 44, 9, 1],[11, 1, 0, 90, 44]])"
   ]
  },
  {
   "cell_type": "code",
   "execution_count": 95,
   "id": "46038701",
   "metadata": {},
   "outputs": [],
   "source": [
    "ex24 = np.array([[-1, 33, 44, 9, 1],[11, 1, 0, 90, 44]])"
   ]
  },
  {
   "cell_type": "code",
   "execution_count": 98,
   "id": "93438f50",
   "metadata": {},
   "outputs": [
    {
     "name": "stdout",
     "output_type": "stream",
     "text": [
      "Coordinate of 9: [0,3] = 9 | Coordinate of 90: [1,3] = 90\n"
     ]
    }
   ],
   "source": [
    "print(f\"Coordinate of 9: [0,3] = {ex24[0,3]} | Coordinate of 90: [1,3] = {ex24[1,3]}\")"
   ]
  },
  {
   "cell_type": "markdown",
   "id": "3f10b17a",
   "metadata": {},
   "source": [
    "----------------------------------------------------------------------------------------------------------------------------\n",
    "## Exercise 25:\n",
    "3-D array indexing\n",
    "\n",
    "\n",
    "Access the number 5, 9, 3 and 21 from the array below\n",
    "\n",
    "\n",
    "    import numpy as np\n",
    "    ar = np.array([\n",
    "        [[1, 1, 5, 1],\n",
    "        [1, 1, 1, 9]],\n",
    "        [[1, 3, 1, 1],\n",
    "        [1, 1, 21, 1]]\n",
    "                    ])"
   ]
  },
  {
   "cell_type": "code",
   "execution_count": 108,
   "id": "13f597b6",
   "metadata": {},
   "outputs": [],
   "source": [
    "ex25 = np.array([\n",
    "    [[1, 1, 5, 1],\n",
    "    [1, 1, 1, 9]],\n",
    "    [[1, 3, 1, 1],\n",
    "    [1, 1, 21, 1]]\n",
    "                ])"
   ]
  },
  {
   "cell_type": "code",
   "execution_count": 112,
   "id": "02200738",
   "metadata": {},
   "outputs": [
    {
     "name": "stdout",
     "output_type": "stream",
     "text": [
      "Coordinate of 5:[0,0,2] = 5\n",
      "Coordinate of 9:[0,1,3] = 9\n",
      "Coordinate of 3:[1,0,1] = 3\n",
      "Coordinate of 21:[1,2,2] = 21\n"
     ]
    }
   ],
   "source": [
    "print(f\"Coordinate of 5:[0,0,2] = {ex25[0,0,2]}\")\n",
    "print(f\"Coordinate of 9:[0,1,3] = {ex25[0,1,3]}\")\n",
    "print(f\"Coordinate of 3:[1,0,1] = {ex25[1,0,1]}\")\n",
    "print(f\"Coordinate of 21:[1,2,2] = {ex25[1,1,2]}\")"
   ]
  },
  {
   "cell_type": "markdown",
   "id": "f0e3e0f5",
   "metadata": {},
   "source": [
    "----------------------------------------------------------------------------------------------------------------------------\n",
    "## Exercise 26: \n",
    "1-D Slicing\n",
    "\n",
    "Based on the array below, obtain the slice from index 2 to index 6.\n",
    "\n",
    "\n",
    "    import numpy as np\n",
    "    ar = np.array([1, 2, 3, 4, 5, 6, 7, 8, 9, 10])\n",
    "\n",
    "\n",
    "Tip: In Python, slicing means that we can select elements between specified indexes. Syntax: [start:end:pass].\n",
    "\n",
    "If we do not specify the start, the default value will be 0. If we do not define the step, the value 1 will be considered."
   ]
  },
  {
   "cell_type": "code",
   "execution_count": 113,
   "id": "3d7c8247",
   "metadata": {},
   "outputs": [],
   "source": [
    "ex26 = np.array([1, 2, 3, 4, 5, 6, 7, 8, 9, 10])"
   ]
  },
  {
   "cell_type": "code",
   "execution_count": 115,
   "id": "7e32d849",
   "metadata": {},
   "outputs": [
    {
     "data": {
      "text/plain": [
       "array([3, 4, 5, 6, 7])"
      ]
     },
     "execution_count": 115,
     "metadata": {},
     "output_type": "execute_result"
    }
   ],
   "source": [
    "ex26[2:7]"
   ]
  },
  {
   "cell_type": "code",
   "execution_count": null,
   "id": "1fcf046d",
   "metadata": {},
   "outputs": [],
   "source": []
  }
 ],
 "metadata": {
  "kernelspec": {
   "display_name": "Python 3",
   "language": "python",
   "name": "python3"
  },
  "language_info": {
   "codemirror_mode": {
    "name": "ipython",
    "version": 3
   },
   "file_extension": ".py",
   "mimetype": "text/x-python",
   "name": "python",
   "nbconvert_exporter": "python",
   "pygments_lexer": "ipython3",
   "version": "3.8.8"
  }
 },
 "nbformat": 4,
 "nbformat_minor": 5
}
