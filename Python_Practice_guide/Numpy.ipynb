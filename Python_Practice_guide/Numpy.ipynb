{
 "cells": [
  {
   "cell_type": "markdown",
   "id": "8f98f237",
   "metadata": {},
   "source": [
    "## Exercise 1:\n",
    "A numpy object has attributes and methods inherited from the class (numpy.ndarray). Creat an array and inspect the following attributes:\n",
    "\n",
    "\n",
    "Shape: A tuple containing a number of elements (size) in each dimension of the array;\n",
    "\n",
    "Size: Total number of elements in the array;\n",
    "\n",
    "ndim: Number of dimensions (axes);\n",
    "\n",
    "nbytes: Number of bytes used to store the data;\n",
    "\n",
    "dtype: The data type of the elements in the array;\n",
    "\n",
    "\n",
    "Implementation example:\n",
    "\n",
    "    import numpy as np\n",
    "    array = np.array([1, 2, 3, 4])\n",
    "    print('Shape: ', array.shape)"
   ]
  },
  {
   "cell_type": "code",
   "execution_count": 1,
   "id": "7b73b0d9",
   "metadata": {},
   "outputs": [
    {
     "name": "stdout",
     "output_type": "stream",
     "text": [
      "Shape: (4,)\n",
      "Size: 4\n",
      "Dimension: 1\n",
      "Number of bytes: 16\n",
      "Data type: int32\n"
     ]
    }
   ],
   "source": [
    "import numpy as np\n",
    "ex1 = np.array([1, 2, 3, 4])\n",
    "\n",
    "print(f\"Shape: {ex1.shape}\")\n",
    "print(f\"Size: {ex1.size}\")\n",
    "print(f\"Dimension: {ex1.ndim}\")\n",
    "print(f\"Number of bytes: {ex1.nbytes}\")\n",
    "print(f\"Data type: {ex1.dtype}\")"
   ]
  },
  {
   "cell_type": "markdown",
   "id": "e430240d",
   "metadata": {},
   "source": [
    "----------------------------------------------------------------------------------------------------------------------------\n",
    "## Exercise 2:   \n",
    "Based on the previous exercise, create a function that can receive an array and shows on the screen its attributes. Check if the insert argument is, indeed, a numpy object. You can also use a built-in type () function to verify the object' class"
   ]
  },
  {
   "cell_type": "code",
   "execution_count": 2,
   "id": "5f88c350",
   "metadata": {},
   "outputs": [],
   "source": [
    "def attributes(array):\n",
    "    if type(array) == type(np.array(0)):\n",
    "        print(f\"Shape: {array.shape}\")\n",
    "        print(f\"Size: {array.size}\")\n",
    "        print(f\"Dimension: {array.ndim}\")\n",
    "        print(f\"Number of bytes: {array.nbytes}\")\n",
    "        print(f\"Data type: {array.dtype}\")\n",
    "    else:\n",
    "        print(\"The value inserted is not a numpy array\")"
   ]
  },
  {
   "cell_type": "code",
   "execution_count": 3,
   "id": "5febb6d5",
   "metadata": {},
   "outputs": [
    {
     "name": "stdout",
     "output_type": "stream",
     "text": [
      "Shape: (4,)\n",
      "Size: 4\n",
      "Dimension: 1\n",
      "Number of bytes: 16\n",
      "Data type: int32\n"
     ]
    }
   ],
   "source": [
    "attributes(np.array([1, 2, 3, 4]))"
   ]
  },
  {
   "cell_type": "code",
   "execution_count": 4,
   "id": "d262f272",
   "metadata": {},
   "outputs": [
    {
     "name": "stdout",
     "output_type": "stream",
     "text": [
      "The value inserted is not a numpy array\n"
     ]
    }
   ],
   "source": [
    "attributes([1, 2, 3, 4])"
   ]
  },
  {
   "cell_type": "markdown",
   "id": "1132e674",
   "metadata": {},
   "source": [
    "----------------------------------------------------------------------------------------------------------------------------\n",
    "\n",
    "## Exercise 3: \n",
    "Use the np.array() function to creat the one-dimensioned arrays listed below:\n",
    "\n",
    "\n",
    "a) Use a list as an argument and obtain:\n",
    "\n",
    "    array([-1,  4,  7,  9])\n",
    "\n",
    "\n",
    "b) Use the range() function and obtain:\n",
    "\n",
    "    array([ 1,  2,  3,  4,  5,  6,  7,  8,  9, 10])\n",
    "\n",
    "\n",
    "Use a tuple as an argument and obtain:\n",
    "\n",
    "    array([10, 11, 12, 13, 14])\n",
    "\n",
    "\n",
    "d) Use the range() function and obtain:\n",
    "\n",
    "    array([1990, 1995, 2000, 2005, 2010, 2015, 2020])\n",
    "\n",
    "\n",
    "e) Use the range() function and obtain:\n",
    "\n",
    "    array([2020, 2010, 2000, 1990, 1980, 1970, 1960, 1950, 1940, 1930, 1920, 1910, 1900])\n",
    "\n",
    "\n",
    "f) Obtain:\n",
    "\n",
    "\n",
    "    array(100)"
   ]
  },
  {
   "cell_type": "code",
   "execution_count": 5,
   "id": "87a90e98",
   "metadata": {},
   "outputs": [
    {
     "name": "stdout",
     "output_type": "stream",
     "text": [
      "[-1  4  7  9]\n"
     ]
    }
   ],
   "source": [
    "lista = [-1, 4, 7, 9]\n",
    "ex3_A = np.array(lista)\n",
    "print(ex3_A)"
   ]
  },
  {
   "cell_type": "code",
   "execution_count": 6,
   "id": "a9520be1",
   "metadata": {},
   "outputs": [
    {
     "name": "stdout",
     "output_type": "stream",
     "text": [
      "[ 1  2  3  4  5  6  7  8  9 10]\n"
     ]
    }
   ],
   "source": [
    "ex3_B = np.array(list(range(1,11)))\n",
    "print(ex3_B)"
   ]
  },
  {
   "cell_type": "code",
   "execution_count": 7,
   "id": "3dda834f",
   "metadata": {},
   "outputs": [
    {
     "name": "stdout",
     "output_type": "stream",
     "text": [
      "[10 11 12 13 14]\n"
     ]
    }
   ],
   "source": [
    "tupple = (10,11,12,13,14)\n",
    "ex3_C = np.array(tupple)\n",
    "print(ex3_C)"
   ]
  },
  {
   "cell_type": "code",
   "execution_count": 8,
   "id": "8c05aa50",
   "metadata": {},
   "outputs": [
    {
     "name": "stdout",
     "output_type": "stream",
     "text": [
      "[1990 1995 2000 2005 2010 2015 2020]\n"
     ]
    }
   ],
   "source": [
    "ex3_D = np.array(list(range(1990,2021,5)))\n",
    "print(ex3_D)"
   ]
  },
  {
   "cell_type": "code",
   "execution_count": 9,
   "id": "db835d58",
   "metadata": {},
   "outputs": [
    {
     "name": "stdout",
     "output_type": "stream",
     "text": [
      "[2020 2010 2000 1990 1980 1970 1960 1950 1940 1930 1920 1910 1900]\n"
     ]
    }
   ],
   "source": [
    "ex3_E = np.array(list(range(2020,1899,-10)))\n",
    "print(ex3_E)"
   ]
  },
  {
   "cell_type": "code",
   "execution_count": 10,
   "id": "194a7961",
   "metadata": {},
   "outputs": [
    {
     "name": "stdout",
     "output_type": "stream",
     "text": [
      "100\n"
     ]
    }
   ],
   "source": [
    "ex3_F = np.array(100)\n",
    "print(ex3_F)"
   ]
  },
  {
   "cell_type": "markdown",
   "id": "ef600867",
   "metadata": {},
   "source": [
    "----------------------------------------------------------------------------------------------------------------------------\n",
    "\n",
    "## Exercise 4:\n",
    "The np.ones() function allows you to create an array filled with the number 1 in all your entries. We can specify as arguments the shape and the kind of dtype of the array. Use this function to create the following arrays:\n",
    "\n",
    "a)\n",
    "\n",
    "\n",
    "    array([1., 1., 1., 1., 1., 1., 1., 1., 1., 1.])\n",
    "\n",
    "\n",
    "b)\n",
    "\n",
    "\n",
    "    array([[1., 1., 1., 1.],\n",
    "           [1., 1., 1., 1.],\n",
    "           [1., 1., 1., 1.],\n",
    "           [1., 1., 1., 1.]])\n",
    "\n",
    "\n",
    "c)\n",
    "\n",
    "\n",
    "    array([[1., 1.],\n",
    "           [1., 1.],\n",
    "           [1., 1.]])\n",
    "\n",
    "\n"
   ]
  },
  {
   "cell_type": "code",
   "execution_count": 11,
   "id": "5e6d2ffd",
   "metadata": {},
   "outputs": [
    {
     "name": "stdout",
     "output_type": "stream",
     "text": [
      "[1. 1. 1. 1. 1. 1. 1. 1. 1. 1.]\n"
     ]
    }
   ],
   "source": [
    "ex4_A = np.ones(10)\n",
    "print(ex4_A)"
   ]
  },
  {
   "cell_type": "code",
   "execution_count": 12,
   "id": "d708153a",
   "metadata": {},
   "outputs": [
    {
     "name": "stdout",
     "output_type": "stream",
     "text": [
      "[[1. 1. 1. 1.]\n",
      " [1. 1. 1. 1.]\n",
      " [1. 1. 1. 1.]\n",
      " [1. 1. 1. 1.]]\n"
     ]
    }
   ],
   "source": [
    "ex4_B = np.ones((4,4))\n",
    "print(ex4_B)"
   ]
  },
  {
   "cell_type": "code",
   "execution_count": 13,
   "id": "be2bb6ff",
   "metadata": {},
   "outputs": [
    {
     "name": "stdout",
     "output_type": "stream",
     "text": [
      "[[1. 1.]\n",
      " [1. 1.]\n",
      " [1. 1.]]\n"
     ]
    }
   ],
   "source": [
    "ex4_C = np.ones((3,2))\n",
    "print(ex4_C)"
   ]
  },
  {
   "cell_type": "markdown",
   "id": "fcb43084",
   "metadata": {},
   "source": [
    "----------------------------------------------------------------------------------------------------------------------------\n",
    "\n",
    "## Exercise 5: \n",
    "The np.zeros() function allows you to create an array filled with the number 0 in all your entries. We can specify as arguments the shape and the kind of dtype of the array (default is the float). Use this function to create the following arrays:\n",
    "\n",
    "a)\n",
    "\n",
    "    array([0., 0., 0., 0., 0., 0., 0., 0., 0., 0.])\n",
    "\n",
    "\n",
    "b)\n",
    "\n",
    "    array([[0., 0.],       \n",
    "          [0., 0.]])  \n",
    "\n",
    "\n",
    "c)\n",
    "\n",
    "    array([[0., 0., 0., 0., 0., 0.],\n",
    "           [0., 0., 0., 0., 0., 0.],\n",
    "           [0., 0., 0., 0., 0., 0.],\n",
    "           [0., 0., 0., 0., 0., 0.]])"
   ]
  },
  {
   "cell_type": "code",
   "execution_count": 14,
   "id": "c4a0c54f",
   "metadata": {},
   "outputs": [
    {
     "name": "stdout",
     "output_type": "stream",
     "text": [
      "[0. 0. 0. 0. 0. 0. 0. 0. 0. 0.]\n"
     ]
    }
   ],
   "source": [
    "ex5_A = np.zeros(10)\n",
    "print(ex5_A)"
   ]
  },
  {
   "cell_type": "code",
   "execution_count": 15,
   "id": "b1592f61",
   "metadata": {},
   "outputs": [
    {
     "name": "stdout",
     "output_type": "stream",
     "text": [
      "[[0. 0.]\n",
      " [0. 0.]]\n"
     ]
    }
   ],
   "source": [
    "ex5_B = np.zeros((2,2))\n",
    "print(ex5_B)"
   ]
  },
  {
   "cell_type": "code",
   "execution_count": 16,
   "id": "509e47c5",
   "metadata": {},
   "outputs": [
    {
     "name": "stdout",
     "output_type": "stream",
     "text": [
      "[[0. 0. 0. 0. 0. 0.]\n",
      " [0. 0. 0. 0. 0. 0.]\n",
      " [0. 0. 0. 0. 0. 0.]\n",
      " [0. 0. 0. 0. 0. 0.]]\n"
     ]
    }
   ],
   "source": [
    "ex5_C = np.zeros((4,6))\n",
    "print(ex5_C)"
   ]
  },
  {
   "cell_type": "markdown",
   "id": "405a3bd5",
   "metadata": {},
   "source": [
    "----------------------------------------------------------------------------------------------------------------------------\n",
    "\n",
    "## Exercise 6:\n",
    "Create the following arrays:\n",
    "\n",
    "\n",
    "a)\n",
    "\n",
    "    array([[10],\n",
    "           [15],\n",
    "           [20],\n",
    "           [25],\n",
    "           [30],\n",
    "           [35],\n",
    "           [40],\n",
    "           [45]])\n",
    "\n",
    "\n",
    "b)\n",
    "\n",
    "\n",
    "    array([-50, -45, -40, -35, -30, -25, -20, -15, -10,  -5])\n",
    "\n",
    "\n",
    "c)\n",
    "\n",
    "\n",
    "    array([[ 50,  52,  54,  56,  58,  60,  62,  64,  66,  68],\n",
    "           [ 70,  72,  74,  76,  78,  80,  82,  84,  86,  88],\n",
    "           [ 90,  92,  94,  96,  98, 100, 102, 104, 106, 108],\n",
    "           [110, 112, 114, 116, 118, 120, 122, 124, 126, 128],\n",
    "           [130, 132, 134, 136, 138, 140, 142, 144, 146, 148]])\n",
    "\n",
    "\n",
    "Tip: use np.arange() or np.array(range())."
   ]
  },
  {
   "cell_type": "code",
   "execution_count": 24,
   "id": "336b9395",
   "metadata": {},
   "outputs": [
    {
     "name": "stdout",
     "output_type": "stream",
     "text": [
      "[[10]\n",
      " [15]\n",
      " [20]\n",
      " [25]\n",
      " [30]\n",
      " [35]\n",
      " [40]\n",
      " [45]]\n"
     ]
    }
   ],
   "source": [
    "ex6_A = np.arange(10,46,5).reshape(8,1)\n",
    "print(ex6_A)"
   ]
  },
  {
   "cell_type": "code",
   "execution_count": 25,
   "id": "5a5034ae",
   "metadata": {},
   "outputs": [
    {
     "name": "stdout",
     "output_type": "stream",
     "text": [
      "[-50 -45 -40 -35 -30 -25 -20 -15 -10  -5]\n"
     ]
    }
   ],
   "source": [
    "ex6_B = np.arange(-50,-4,5)\n",
    "print(ex6_B)"
   ]
  },
  {
   "cell_type": "code",
   "execution_count": 28,
   "id": "49952ea6",
   "metadata": {},
   "outputs": [
    {
     "name": "stdout",
     "output_type": "stream",
     "text": [
      "[[ 50  52  54  56  58  60  62  64  66  68]\n",
      " [ 70  72  74  76  78  80  82  84  86  88]\n",
      " [ 90  92  94  96  98 100 102 104 106 108]\n",
      " [110 112 114 116 118 120 122 124 126 128]\n",
      " [130 132 134 136 138 140 142 144 146 148]]\n"
     ]
    }
   ],
   "source": [
    "ex6_B = np.arange(50,149,2).reshape(5,10)\n",
    "print(ex6_B)"
   ]
  },
  {
   "cell_type": "markdown",
   "id": "ccfa311b",
   "metadata": {},
   "source": [
    "----------------------------------------------------------------------------------------------------------------------------\n",
    "\n",
    "## Exercise 7: \n",
    "Use the np.full(shape, fill_value, dtype) function to create the following arrays. This function allows you to create an array with a user-defined shape and dtype, filled with a certain value.\n",
    "\n",
    "a)\n",
    "\n",
    "\n",
    "    array([5., 5., 5., 5., 5., 5., 5., 5., 5., 5.])\n",
    "\n",
    "\n",
    "b)\n",
    "\n",
    "\n",
    "    array([[-5., -5., -5., -5.],\n",
    "           [-5., -5., -5., -5.],\n",
    "           [-5., -5., -5., -5.],\n",
    "           [-5., -5., -5., -5.]])\n",
    "\n",
    "\n",
    "c)\n",
    "\n",
    "\n",
    "    array([[3, 3, 3],\n",
    "           [3, 3, 3],\n",
    "           [3, 3, 3]])\n",
    "\n",
    "\n",
    "d)\n",
    "\n",
    "\n",
    "    array([[50, 50, 50, 50, 50, 50, 50, 50, 50, 50],\n",
    "           [50, 50, 50, 50, 50, 50, 50, 50, 50, 50],\n",
    "           [50, 50, 50, 50, 50, 50, 50, 50, 50, 50],\n",
    "           [50, 50, 50, 50, 50, 50, 50, 50, 50, 50],\n",
    "           [50, 50, 50, 50, 50, 50, 50, 50, 50, 50],\n",
    "           [50, 50, 50, 50, 50, 50, 50, 50, 50, 50],\n",
    "           [50, 50, 50, 50, 50, 50, 50, 50, 50, 50],\n",
    "           [50, 50, 50, 50, 50, 50, 50, 50, 50, 50],\n",
    "           [50, 50, 50, 50, 50, 50, 50, 50, 50, 50],\n",
    "           [50, 50, 50, 50, 50, 50, 50, 50, 50, 50]])\n",
    "\n",
    "\n",
    "Tip: Another possibility would be to obtain the arrays with a different operation, by mutiplying a matrix filled with the number 1 by a certain value."
   ]
  },
  {
   "cell_type": "code",
   "execution_count": 30,
   "id": "d56c51a2",
   "metadata": {},
   "outputs": [
    {
     "name": "stdout",
     "output_type": "stream",
     "text": [
      "[[5 5 5 5 5 5 5 5 5 5]]\n"
     ]
    }
   ],
   "source": [
    "ex7_A = np.full((1,10), 5)\n",
    "print(ex7_A)"
   ]
  },
  {
   "cell_type": "code",
   "execution_count": 32,
   "id": "b37d2c41",
   "metadata": {},
   "outputs": [
    {
     "name": "stdout",
     "output_type": "stream",
     "text": [
      "[[-5 -5 -5 -5]\n",
      " [-5 -5 -5 -5]\n",
      " [-5 -5 -5 -5]\n",
      " [-5 -5 -5 -5]]\n"
     ]
    }
   ],
   "source": [
    "ex7_B = np.full((4,4), -5)\n",
    "print(ex7_B)"
   ]
  },
  {
   "cell_type": "code",
   "execution_count": 33,
   "id": "5dcbb03c",
   "metadata": {},
   "outputs": [
    {
     "name": "stdout",
     "output_type": "stream",
     "text": [
      "[[3 3 3]\n",
      " [3 3 3]\n",
      " [3 3 3]]\n"
     ]
    }
   ],
   "source": [
    "ex7_C = np.full((3,3), 3)\n",
    "print(ex7_C)"
   ]
  },
  {
   "cell_type": "code",
   "execution_count": 34,
   "id": "c34ee743",
   "metadata": {},
   "outputs": [
    {
     "name": "stdout",
     "output_type": "stream",
     "text": [
      "[[50 50 50 50 50 50 50 50 50 50]\n",
      " [50 50 50 50 50 50 50 50 50 50]\n",
      " [50 50 50 50 50 50 50 50 50 50]\n",
      " [50 50 50 50 50 50 50 50 50 50]\n",
      " [50 50 50 50 50 50 50 50 50 50]\n",
      " [50 50 50 50 50 50 50 50 50 50]\n",
      " [50 50 50 50 50 50 50 50 50 50]\n",
      " [50 50 50 50 50 50 50 50 50 50]\n",
      " [50 50 50 50 50 50 50 50 50 50]\n",
      " [50 50 50 50 50 50 50 50 50 50]]\n"
     ]
    }
   ],
   "source": [
    "ex7_D = np.full((10,10), 50)\n",
    "print(ex7_D)"
   ]
  },
  {
   "cell_type": "markdown",
   "id": "0434788c",
   "metadata": {},
   "source": [
    "----------------------------------------------------------------------------------------------------------------------------\n",
    "\n",
    "## Exercise 8: \n",
    "Define the K array and check for missing data. Use the np.isnan() function.\n",
    "\n",
    "\n",
    "    array([[ nan,   1.,  10.,   0.],\n",
    "           [ nan,  nan,  nan,  nan],\n",
    "           [100.,  50.,  nan, -25.],\n",
    "           [ 30.,  nan,  nan, 130.]])"
   ]
  },
  {
   "cell_type": "code",
   "execution_count": 47,
   "id": "e998ab9a",
   "metadata": {},
   "outputs": [
    {
     "name": "stdout",
     "output_type": "stream",
     "text": [
      "[[ True False False False]\n",
      " [ True  True  True  True]\n",
      " [False False  True False]\n",
      " [False  True  True False]]\n"
     ]
    }
   ],
   "source": [
    "ex_8 = np.array([[ np.nan,   1.,  10.,   0.],\n",
    "     [ np.nan,  np.nan,  np.nan,  np.nan],\n",
    "     [100.,  50.,  np.nan, -25.],\n",
    "     [ 30.,  np.nan,  np.nan, 130.]])\n",
    "print(np.isnan(ex_8))"
   ]
  },
  {
   "cell_type": "markdown",
   "id": "fcf71cd3",
   "metadata": {},
   "source": [
    "----------------------------------------------------------------------------------------------------------------------------\n",
    "\n",
    "## Exercise 9:\n",
    "\n",
    "The np.linspace () function returns an array of evenly spaced numbers within a defined range. Create an array with numbers within the range [1,21] in 5 parts.\n",
    "\n",
    "\n",
    "Expected return:\n",
    "\n",
    "    array([ 1.,  6., 11., 16., 21.])"
   ]
  },
  {
   "cell_type": "code",
   "execution_count": 59,
   "id": "3e41dbc4",
   "metadata": {},
   "outputs": [
    {
     "name": "stdout",
     "output_type": "stream",
     "text": [
      "[ 1.  6. 11. 16. 21.]\n"
     ]
    }
   ],
   "source": [
    "ex9 = np.linspace(1,21,5)\n",
    "print(ex9)"
   ]
  },
  {
   "cell_type": "markdown",
   "id": "fd6ba056",
   "metadata": {},
   "source": [
    "----------------------------------------------------------------------------------------------------------------------------\n",
    "\n",
    "## Exercise 10: \n",
    "\n",
    "The np.logspace () function returns evenly spaced numbers on a logarithmic scale. Create an array with numbers within the range [1,51] in 10 parts with the np.logspace() function.\n",
    "\n",
    "\n",
    "Expected return:\n",
    "\n",
    "    array([[1.00000000e+01],\n",
    "           [3.59381366e+06],\n",
    "           [1.29154967e+12],\n",
    "           [4.64158883e+17],\n",
    "           [1.66810054e+23],\n",
    "           [5.99484250e+28],\n",
    "           [2.15443469e+34],\n",
    "           [7.74263683e+39],\n",
    "           [2.78255940e+45],\n",
    "           [1.00000000e+51]])"
   ]
  },
  {
   "cell_type": "code",
   "execution_count": 63,
   "id": "3470f40d",
   "metadata": {},
   "outputs": [
    {
     "name": "stdout",
     "output_type": "stream",
     "text": [
      "[[1.00000000e+01]\n",
      " [3.59381366e+06]\n",
      " [1.29154967e+12]\n",
      " [4.64158883e+17]\n",
      " [1.66810054e+23]\n",
      " [5.99484250e+28]\n",
      " [2.15443469e+34]\n",
      " [7.74263683e+39]\n",
      " [2.78255940e+45]\n",
      " [1.00000000e+51]]\n"
     ]
    }
   ],
   "source": [
    "ex10 = np.logspace(1,51,10)\n",
    "print(ex10.reshape(10,1))"
   ]
  },
  {
   "cell_type": "code",
   "execution_count": null,
   "id": "5592b566",
   "metadata": {},
   "outputs": [],
   "source": []
  }
 ],
 "metadata": {
  "kernelspec": {
   "display_name": "Python 3",
   "language": "python",
   "name": "python3"
  },
  "language_info": {
   "codemirror_mode": {
    "name": "ipython",
    "version": 3
   },
   "file_extension": ".py",
   "mimetype": "text/x-python",
   "name": "python",
   "nbconvert_exporter": "python",
   "pygments_lexer": "ipython3",
   "version": "3.8.8"
  }
 },
 "nbformat": 4,
 "nbformat_minor": 5
}
