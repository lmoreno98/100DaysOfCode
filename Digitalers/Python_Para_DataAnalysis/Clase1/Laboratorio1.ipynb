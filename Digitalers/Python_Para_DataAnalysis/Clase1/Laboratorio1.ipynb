{
 "cells": [
  {
   "cell_type": "markdown",
   "metadata": {},
   "source": [
    "# Laboratorio clase 1 - Resolución"
   ]
  },
  {
   "cell_type": "markdown",
   "metadata": {},
   "source": [
    "Dada una lista de números encontrar el promedio de sus elementos:\n",
    "\n",
    "1. Sin usar ninguna función\n",
    "2. Usando funciones incorporadas de Python"
   ]
  },
  {
   "cell_type": "code",
   "execution_count": 1,
   "metadata": {},
   "outputs": [
    {
     "data": {
      "text/plain": [
       "5.071428571428571"
      ]
     },
     "execution_count": 1,
     "metadata": {},
     "output_type": "execute_result"
    }
   ],
   "source": [
    "numeros = [6,3,2,5,4,8,4,5,9,6,8,5,1,5]\n",
    "\n",
    "suma = 0\n",
    "n = 0\n",
    "for num in numeros:\n",
    "    suma += num\n",
    "    n += 1\n",
    "\n",
    "suma/n"
   ]
  },
  {
   "cell_type": "code",
   "execution_count": 2,
   "metadata": {},
   "outputs": [
    {
     "data": {
      "text/plain": [
       "5.071428571428571"
      ]
     },
     "execution_count": 2,
     "metadata": {},
     "output_type": "execute_result"
    }
   ],
   "source": [
    "sum(numeros)/len(numeros)"
   ]
  },
  {
   "cell_type": "markdown",
   "metadata": {},
   "source": [
    "Dadas dos listas encontrar todos los elementos que tienen en común, de modo que aparezcan una vez:\n",
    "\n",
    "1. Usando bucles\n",
    "2. Usando conjuntos"
   ]
  },
  {
   "cell_type": "code",
   "execution_count": 3,
   "metadata": {},
   "outputs": [
    {
     "data": {
      "text/plain": [
       "[4, 5, 6]"
      ]
     },
     "execution_count": 3,
     "metadata": {},
     "output_type": "execute_result"
    }
   ],
   "source": [
    "lista1 = [0,1,2,3,4,5,6,4,5,6,4,4,6]\n",
    "lista2 = [4,5,6,6,6,7,8,9]\n",
    "\n",
    "elementos_comunes = []\n",
    "for item in lista1:\n",
    "    if item in lista2 and item not in elementos_comunes:\n",
    "        elementos_comunes.append(item)\n",
    "\n",
    "elementos_comunes"
   ]
  },
  {
   "cell_type": "code",
   "execution_count": 4,
   "metadata": {},
   "outputs": [
    {
     "data": {
      "text/plain": [
       "{4, 5, 6}"
      ]
     },
     "execution_count": 4,
     "metadata": {},
     "output_type": "execute_result"
    }
   ],
   "source": [
    "elementos_comunes = set(lista1).intersection(set(lista2))\n",
    "elementos_comunes"
   ]
  },
  {
   "cell_type": "markdown",
   "metadata": {},
   "source": [
    "Dadas dos listas, contar cuantas veces aparece en una de ellas los elementos que tienen en común"
   ]
  },
  {
   "cell_type": "code",
   "execution_count": 5,
   "metadata": {},
   "outputs": [
    {
     "data": {
      "text/plain": [
       "{4: 4, 5: 2, 6: 3}"
      ]
     },
     "execution_count": 5,
     "metadata": {},
     "output_type": "execute_result"
    }
   ],
   "source": [
    "lista1 = [0,1,2,3,4,5,6,4,5,6,4,4,6]\n",
    "lista2 = [4,5,6,6,6,7,8,9]\n",
    "\n",
    "frecuencias = {}\n",
    "for item in lista1:\n",
    "    if item in lista2:\n",
    "        if item in frecuencias:\n",
    "            frecuencias[item] += 1\n",
    "        else:\n",
    "            frecuencias[item] = 1\n",
    "                \n",
    "frecuencias"
   ]
  },
  {
   "cell_type": "markdown",
   "metadata": {},
   "source": [
    "Crear una lista con los primeros 10 múltiplos de 5:\n",
    "\n",
    "1. Usando bucles tradicionales\n",
    "2. Usando listas por comprensión"
   ]
  },
  {
   "cell_type": "code",
   "execution_count": 6,
   "metadata": {},
   "outputs": [
    {
     "data": {
      "text/plain": [
       "[0, 5, 10, 15, 20, 25, 30, 35, 40, 45]"
      ]
     },
     "execution_count": 6,
     "metadata": {},
     "output_type": "execute_result"
    }
   ],
   "source": [
    "multiplos = []\n",
    "\n",
    "for i in range(10):\n",
    "    multiplos.append(5 * i)\n",
    "\n",
    "multiplos"
   ]
  },
  {
   "cell_type": "code",
   "execution_count": 7,
   "metadata": {},
   "outputs": [
    {
     "data": {
      "text/plain": [
       "[0, 5, 10, 15, 20, 25, 30, 35, 40, 45]"
      ]
     },
     "execution_count": 7,
     "metadata": {},
     "output_type": "execute_result"
    }
   ],
   "source": [
    "multiplos = [5*i for i in range(10)]\n",
    "\n",
    "multiplos"
   ]
  },
  {
   "cell_type": "markdown",
   "metadata": {},
   "source": [
    "Dadas dos listas, crear otra que tenga los elementos que están en la primera y que no están en la segunda:\n",
    "\n",
    "1. Usando bucles tradicionales\n",
    "2. Usando listas por comprensión\n",
    "\n",
    "Cada elemento debe aparecer tantas veces como en la lista original"
   ]
  },
  {
   "cell_type": "code",
   "execution_count": 8,
   "metadata": {},
   "outputs": [
    {
     "data": {
      "text/plain": [
       "[0, 1, 2, 3, 2, 3, 1, 3]"
      ]
     },
     "execution_count": 8,
     "metadata": {},
     "output_type": "execute_result"
    }
   ],
   "source": [
    "lista1 = [0,1,2,3,2,3,1,5,4,5,4,6,3,5]\n",
    "lista2 = [4,5,6,7,8,9]\n",
    "\n",
    "resta = []\n",
    "for item in lista1:\n",
    "    if item not in lista2:\n",
    "        resta.append(item)\n",
    "\n",
    "resta"
   ]
  },
  {
   "cell_type": "code",
   "execution_count": 9,
   "metadata": {},
   "outputs": [
    {
     "data": {
      "text/plain": [
       "[0, 1, 2, 3, 2, 3, 1, 3]"
      ]
     },
     "execution_count": 9,
     "metadata": {},
     "output_type": "execute_result"
    }
   ],
   "source": [
    "resta = [item for item in lista1 if item not in lista2]\n",
    "resta"
   ]
  },
  {
   "cell_type": "markdown",
   "metadata": {},
   "source": [
    "Dada una lista de números encontrar el promedio de los que sean pares:\n",
    "\n",
    "1. Usando solamente estructuras de control\n",
    "2. Usando listas por comprensión y funciones incorporadas"
   ]
  },
  {
   "cell_type": "code",
   "execution_count": 10,
   "metadata": {},
   "outputs": [
    {
     "data": {
      "text/plain": [
       "4.0"
      ]
     },
     "execution_count": 10,
     "metadata": {},
     "output_type": "execute_result"
    }
   ],
   "source": [
    "numeros = [5,4,2,6,9,5,9,10,0,2,8,0,7,1,6,0,3,8,1,0,6,7] * 10000\n",
    "\n",
    "suma = 0\n",
    "n = 0\n",
    "\n",
    "for num in numeros:\n",
    "    if num%2==0:\n",
    "        suma += num\n",
    "        n += 1\n",
    "\n",
    "suma/n"
   ]
  },
  {
   "cell_type": "code",
   "execution_count": 11,
   "metadata": {},
   "outputs": [
    {
     "data": {
      "text/plain": [
       "4.0"
      ]
     },
     "execution_count": 11,
     "metadata": {},
     "output_type": "execute_result"
    }
   ],
   "source": [
    "pares = [num for num in numeros if num%2==0]\n",
    "sum(pares)/len(pares)"
   ]
  }
 ],
 "metadata": {
  "kernelspec": {
   "display_name": "Python 3",
   "language": "python",
   "name": "python3"
  },
  "language_info": {
   "codemirror_mode": {
    "name": "ipython",
    "version": 3
   },
   "file_extension": ".py",
   "mimetype": "text/x-python",
   "name": "python",
   "nbconvert_exporter": "python",
   "pygments_lexer": "ipython3",
   "version": "3.8.2"
  }
 },
 "nbformat": 4,
 "nbformat_minor": 4
}
