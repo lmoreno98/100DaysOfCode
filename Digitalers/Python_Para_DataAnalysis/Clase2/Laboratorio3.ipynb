{
  "nbformat": 4,
  "nbformat_minor": 0,
  "metadata": {
    "kernelspec": {
      "display_name": "Python 3",
      "language": "python",
      "name": "python3"
    },
    "language_info": {
      "codemirror_mode": {
        "name": "ipython",
        "version": 3
      },
      "file_extension": ".py",
      "mimetype": "text/x-python",
      "name": "python",
      "nbconvert_exporter": "python",
      "pygments_lexer": "ipython3",
      "version": "3.8.2"
    },
    "colab": {
      "name": "Laboratorio 3, Clase 2 - Resolución .ipynb",
      "provenance": []
    }
  },
  "cells": [
    {
      "cell_type": "markdown",
      "metadata": {
        "id": "SEN-lPdxNtkt"
      },
      "source": [
        "## Ejercicio 1\n",
        "\n",
        "Rehacer los ejercicios del laboratorio 2 usando funciones lambda."
      ]
    },
    {
      "cell_type": "code",
      "metadata": {
        "id": "Il92wgkUNtk3",
        "outputId": "6350af20-0e0f-4bea-c78c-e807b5f941c8"
      },
      "source": [
        "palabras = [\"caja\", \"fruta\", \"camión\", \"planeta\", \"mar\"]\n",
        "\n",
        "list(map(lambda x: (x, len(x)), palabras))"
      ],
      "execution_count": null,
      "outputs": [
        {
          "data": {
            "text/plain": [
              "[('caja', 4), ('fruta', 5), ('camión', 6), ('planeta', 7), ('mar', 3)]"
            ]
          },
          "execution_count": 1,
          "metadata": {},
          "output_type": "execute_result"
        }
      ]
    },
    {
      "cell_type": "code",
      "metadata": {
        "id": "yI3qb728Ntk_"
      },
      "source": [
        ""
      ],
      "execution_count": null,
      "outputs": []
    },
    {
      "cell_type": "code",
      "metadata": {
        "id": "mxOg6A7TNtlA",
        "outputId": "ea3ea42d-91b0-462d-e6cc-061798a58856"
      },
      "source": [
        "numeros = [5,1,9,12,48,23,16,24,11,7,10]\n",
        "\n",
        "list(filter(lambda x: 8<=x<=20 and x%2==0, numeros))"
      ],
      "execution_count": null,
      "outputs": [
        {
          "data": {
            "text/plain": [
              "[12, 16, 10]"
            ]
          },
          "execution_count": 2,
          "metadata": {},
          "output_type": "execute_result"
        }
      ]
    },
    {
      "cell_type": "markdown",
      "metadata": {
        "id": "taqSXzIyNtlD"
      },
      "source": [
        "## Ejercicio 2\n",
        "\n",
        "Dada una lista de strings, usar filter y lambda para seleccionar solamente los strings que tengan más de seis caracteres."
      ]
    },
    {
      "cell_type": "code",
      "metadata": {
        "id": "TOMOT-ayNtlD"
      },
      "source": [
        "animales = [\"jirafa\", \"elefante\", \"perro\", \"cocodrilo\", \"gato\", \"ratón\", \"murciélago\"]"
      ],
      "execution_count": null,
      "outputs": []
    },
    {
      "cell_type": "code",
      "metadata": {
        "id": "_luEwBNUNtlE",
        "outputId": "051ff3af-6103-4619-87b2-c77b7f671b3c"
      },
      "source": [
        "list(filter(lambda x: len(x)>6, animales))"
      ],
      "execution_count": null,
      "outputs": [
        {
          "data": {
            "text/plain": [
              "['elefante', 'cocodrilo', 'murciélago']"
            ]
          },
          "execution_count": 4,
          "metadata": {},
          "output_type": "execute_result"
        }
      ]
    },
    {
      "cell_type": "markdown",
      "metadata": {
        "id": "eDGHDPSBNtlE"
      },
      "source": [
        "## Ejercicio 3\n",
        "\n",
        "Supongamos que tenemos una lista de tuplas en donde cada una contiene el nombre de un producto y el precio correspondiente (por ejemplo: `[(\"Campera\", 3500), (\"Mochila\", 2400), (\"Zapatillas\", 5200), (\"Jean\", 1600)]`). Ordenar los productos según su precio de mayor a menor usando sorted, map y funciones lambda"
      ]
    },
    {
      "cell_type": "code",
      "metadata": {
        "id": "c3Efq_zXNtlF"
      },
      "source": [
        "productos = [(\"Campera\", 3500), (\"Mochila\", 2400), (\"Zapatillas\", 5200), (\"Jean\", 1600)]"
      ],
      "execution_count": null,
      "outputs": []
    },
    {
      "cell_type": "code",
      "metadata": {
        "id": "R_uRnJ1ZNtlG",
        "outputId": "4616481d-cc0b-43ac-fb36-bf769a74dffa"
      },
      "source": [
        "list(map(lambda x: x[0], sorted(productos, key=lambda x: x[1], reverse=True)))"
      ],
      "execution_count": null,
      "outputs": [
        {
          "data": {
            "text/plain": [
              "['Zapatillas', 'Campera', 'Mochila', 'Jean']"
            ]
          },
          "execution_count": 6,
          "metadata": {},
          "output_type": "execute_result"
        }
      ]
    },
    {
      "cell_type": "markdown",
      "metadata": {
        "id": "0nlKCFKZNtlH"
      },
      "source": [
        "Si resulta más cómodo puede dividirse en partes"
      ]
    },
    {
      "cell_type": "code",
      "metadata": {
        "id": "83En_dYdNtlH",
        "outputId": "9ebeed80-47a8-4dbd-ddad-049b26ba5f12"
      },
      "source": [
        "tuplas_ordenadas = sorted(productos, key=lambda x: x[1], reverse=True)\n",
        "productos_ordenados = list(map(lambda x: x[0], tuplas_ordenadas))\n",
        "productos_ordenados"
      ],
      "execution_count": null,
      "outputs": [
        {
          "data": {
            "text/plain": [
              "['Zapatillas', 'Campera', 'Mochila', 'Jean']"
            ]
          },
          "execution_count": 7,
          "metadata": {},
          "output_type": "execute_result"
        }
      ]
    },
    {
      "cell_type": "markdown",
      "metadata": {
        "id": "dkcYRKAsNtlI"
      },
      "source": [
        "También puede ordenarse la lista \"inplace\" a través del método `sort`"
      ]
    },
    {
      "cell_type": "code",
      "metadata": {
        "id": "H74cSrekNtlI",
        "outputId": "4f4d86a1-8ad5-4c00-94ea-3dd50eddca15"
      },
      "source": [
        "productos.sort( key=lambda x: x[1], reverse=True)\n",
        "list(map(lambda x: x[0], productos))"
      ],
      "execution_count": null,
      "outputs": [
        {
          "data": {
            "text/plain": [
              "['Zapatillas', 'Campera', 'Mochila', 'Jean']"
            ]
          },
          "execution_count": 8,
          "metadata": {},
          "output_type": "execute_result"
        }
      ]
    },
    {
      "cell_type": "code",
      "metadata": {
        "id": "Hh_vSQa5NtlK"
      },
      "source": [
        ""
      ],
      "execution_count": null,
      "outputs": []
    }
  ]
}