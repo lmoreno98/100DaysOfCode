{
  "nbformat": 4,
  "nbformat_minor": 0,
  "metadata": {
    "kernelspec": {
      "display_name": "Python 3",
      "language": "python",
      "name": "python3"
    },
    "language_info": {
      "codemirror_mode": {
        "name": "ipython",
        "version": 3
      },
      "file_extension": ".py",
      "mimetype": "text/x-python",
      "name": "python",
      "nbconvert_exporter": "python",
      "pygments_lexer": "ipython3",
      "version": "3.8.2"
    },
    "colab": {
      "name": "Laboratorio 2, clase 2 - resolución.ipynb",
      "provenance": [],
      "collapsed_sections": []
    }
  },
  "cells": [
    {
      "cell_type": "markdown",
      "metadata": {
        "id": "r_dda6bpFR1b"
      },
      "source": [
        "# Ejercicio1\n",
        "\n",
        "\n",
        "\n",
        "Crear una función que dado un string cree una tupla con el string y la cantidad de caracteres del string. Luego, dada una lista de strings, crear otra lista con el resultado de aplicar la función a cada string:\n",
        "\n",
        "- Usando bucles\n",
        "- Usando listas por comprensión\n",
        "- Usando la función map"
      ]
    },
    {
      "cell_type": "code",
      "metadata": {
        "id": "W8VFZ_nzFR1m"
      },
      "source": [
        "def f(s):\n",
        "    return (s, len(s))"
      ],
      "execution_count": null,
      "outputs": []
    },
    {
      "cell_type": "code",
      "metadata": {
        "id": "p8Qf6bxsFR1s"
      },
      "source": [
        "palabras = [\"caja\", \"fruta\", \"camión\", \"planeta\", \"mar\"]"
      ],
      "execution_count": null,
      "outputs": []
    },
    {
      "cell_type": "code",
      "metadata": {
        "id": "VzRy-GLfFR1t",
        "outputId": "d8a25e60-75a4-4ee0-a35a-9d6e462a224c"
      },
      "source": [
        "resultado = []\n",
        "for palabra in palabras:\n",
        "    resultado.append(f(palabra))\n",
        "resultado"
      ],
      "execution_count": null,
      "outputs": [
        {
          "data": {
            "text/plain": [
              "[('caja', 4), ('fruta', 5), ('camión', 6), ('planeta', 7), ('mar', 3)]"
            ]
          },
          "execution_count": 3,
          "metadata": {},
          "output_type": "execute_result"
        }
      ]
    },
    {
      "cell_type": "code",
      "metadata": {
        "id": "ehHL5LW6FR1v",
        "outputId": "f4ba4187-2497-455c-a69f-225ae75a1f29"
      },
      "source": [
        "[f(palabra) for palabra in palabras]"
      ],
      "execution_count": null,
      "outputs": [
        {
          "data": {
            "text/plain": [
              "[('caja', 4), ('fruta', 5), ('camión', 6), ('planeta', 7), ('mar', 3)]"
            ]
          },
          "execution_count": 4,
          "metadata": {},
          "output_type": "execute_result"
        }
      ]
    },
    {
      "cell_type": "code",
      "metadata": {
        "id": "gN1Dw7Q1FR1w",
        "outputId": "721e1146-7a23-400b-bfc2-86792aa4ca9a"
      },
      "source": [
        "list(map(f, palabras))"
      ],
      "execution_count": null,
      "outputs": [
        {
          "data": {
            "text/plain": [
              "[('caja', 4), ('fruta', 5), ('camión', 6), ('planeta', 7), ('mar', 3)]"
            ]
          },
          "execution_count": 5,
          "metadata": {},
          "output_type": "execute_result"
        }
      ]
    },
    {
      "cell_type": "markdown",
      "metadata": {
        "id": "Kx2NTERZFR1x"
      },
      "source": [
        "Dada una lista de números usar filter para seleccionar los números que estén en el rango [8,20] y sean pares.\n"
      ]
    },
    {
      "cell_type": "code",
      "metadata": {
        "id": "6JvzdXqZFR1y",
        "outputId": "bee8ecb3-54ba-4a4f-b624-d6074489c114"
      },
      "source": [
        "numeros = [5,1,9,12,48,23,16,24,11,7,10]\n",
        "\n",
        "def filtro(x):\n",
        "    return 8<=x<=20 and x%2==0\n",
        "\n",
        "list(filter(filtro, numeros))"
      ],
      "execution_count": null,
      "outputs": [
        {
          "data": {
            "text/plain": [
              "[12, 16, 10]"
            ]
          },
          "execution_count": 7,
          "metadata": {},
          "output_type": "execute_result"
        }
      ]
    },
    {
      "cell_type": "code",
      "metadata": {
        "id": "GErxGOzqFR1z"
      },
      "source": [
        ""
      ],
      "execution_count": null,
      "outputs": []
    }
  ]
}