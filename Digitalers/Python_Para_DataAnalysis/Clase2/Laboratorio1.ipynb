{
  "nbformat": 4,
  "nbformat_minor": 0,
  "metadata": {
    "colab": {
      "name": "Labo1.ipynb",
      "provenance": []
    },
    "kernelspec": {
      "name": "python3",
      "display_name": "Python 3"
    },
    "language_info": {
      "name": "python"
    }
  },
  "cells": [
    {
      "cell_type": "markdown",
      "metadata": {
        "id": "7Wzf2gg8ewxp"
      },
      "source": [
        "# Ejercicio 1\n",
        "Construir una función que dado un iterable, \n",
        "devuelva un diccionario con las frecuencias \n",
        "de sus elementos.\n"
      ]
    },
    {
      "cell_type": "code",
      "metadata": {
        "id": "zcujXshvesnQ"
      },
      "source": [
        "def iter(iterable):\n",
        "    contador = {}\n",
        "    for item in iterable:\n",
        "        if item in contador:\n",
        "            contador[item] += 1\n",
        "        else:\n",
        "            contador[item] = 1\n",
        "    return contador"
      ],
      "execution_count": 3,
      "outputs": []
    },
    {
      "cell_type": "code",
      "metadata": {
        "id": "ePIbX-uBfIDK",
        "colab": {
          "base_uri": "https://localhost:8080/"
        },
        "outputId": "60365be8-5091-4470-9685-6528defc9751"
      },
      "source": [
        "iter([1,2,3,4,1,2,1,2,1,8])"
      ],
      "execution_count": 4,
      "outputs": [
        {
          "output_type": "execute_result",
          "data": {
            "text/plain": [
              "{1: 4, 2: 3, 3: 1, 4: 1, 8: 1}"
            ]
          },
          "metadata": {},
          "execution_count": 4
        }
      ]
    },
    {
      "cell_type": "markdown",
      "metadata": {
        "id": "vzr0tZAyiLRd"
      },
      "source": [
        "\n",
        "\n",
        "# Ejercicio2 \n",
        "Construir una función que se llame suma_acotados. Esta función debe tomar un número arbitrario de argumentos posicionales y un keyword argument llamado cota que por defecto debe tener el valor None. Si el argumento cota es None, debe sumar todos los números, si no debe sumar los números que se encuentren entre –cota y cota.\n"
      ]
    },
    {
      "cell_type": "code",
      "metadata": {
        "id": "oiguz87ciIKQ"
      },
      "source": [
        "def suma(lista,cota = None):\n",
        "  sum_aux = 0\n",
        "  if cota == None:\n",
        "    for num in lista:\n",
        "      sum_aux += num\n",
        "    return sum_aux\n",
        "  else:\n",
        "    for num in lista:\n",
        "      if -cota <= num <= cota:\n",
        "        sum_aux += num\n",
        "    return sum_aux"
      ],
      "execution_count": 9,
      "outputs": []
    },
    {
      "cell_type": "code",
      "metadata": {
        "colab": {
          "base_uri": "https://localhost:8080/"
        },
        "id": "0lgjKlhjjKhC",
        "outputId": "f870a93d-fb05-4378-b630-960863d9ec17"
      },
      "source": [
        "suma([6,2,3,8,9,7,5,1,3,2,5,4,8])"
      ],
      "execution_count": 8,
      "outputs": [
        {
          "output_type": "execute_result",
          "data": {
            "text/plain": [
              "63"
            ]
          },
          "metadata": {},
          "execution_count": 8
        }
      ]
    },
    {
      "cell_type": "code",
      "metadata": {
        "colab": {
          "base_uri": "https://localhost:8080/"
        },
        "id": "5f2xVjycjPT9",
        "outputId": "6bd2b68d-27c7-4d90-f0e2-102cc620febe"
      },
      "source": [
        "suma([6,2,3,8,9,7,5,1,3,2,5,4,8],cota = 5)"
      ],
      "execution_count": 10,
      "outputs": [
        {
          "output_type": "execute_result",
          "data": {
            "text/plain": [
              "25"
            ]
          },
          "metadata": {},
          "execution_count": 10
        }
      ]
    },
    {
      "cell_type": "code",
      "metadata": {
        "id": "yMMVlEDhjmE7"
      },
      "source": [
        ""
      ],
      "execution_count": null,
      "outputs": []
    }
  ]
}