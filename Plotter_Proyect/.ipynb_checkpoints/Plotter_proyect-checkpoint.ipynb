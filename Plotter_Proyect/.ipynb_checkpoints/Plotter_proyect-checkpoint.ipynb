{
 "cells": [
  {
   "cell_type": "code",
   "execution_count": 1,
   "metadata": {},
   "outputs": [],
   "source": [
    "import pandas as pd\n",
    "import os\n",
    "import random\n",
    "import plotly as pl\n",
    "import cufflinks as cf\n",
    "import plotly.offline as po"
   ]
  },
  {
   "cell_type": "code",
   "execution_count": 2,
   "metadata": {},
   "outputs": [
    {
     "data": {
      "text/html": [
       "        <script type=\"text/javascript\">\n",
       "        window.PlotlyConfig = {MathJaxConfig: 'local'};\n",
       "        if (window.MathJax) {MathJax.Hub.Config({SVG: {font: \"STIX-Web\"}});}\n",
       "        if (typeof require !== 'undefined') {\n",
       "        require.undef(\"plotly\");\n",
       "        requirejs.config({\n",
       "            paths: {\n",
       "                'plotly': ['https://cdn.plot.ly/plotly-latest.min']\n",
       "            }\n",
       "        });\n",
       "        require(['plotly'], function(Plotly) {\n",
       "            window._Plotly = Plotly;\n",
       "        });\n",
       "        }\n",
       "        </script>\n",
       "        "
      ]
     },
     "metadata": {},
     "output_type": "display_data"
    },
    {
     "data": {
      "text/html": [
       "        <script type=\"text/javascript\">\n",
       "        window.PlotlyConfig = {MathJaxConfig: 'local'};\n",
       "        if (window.MathJax) {MathJax.Hub.Config({SVG: {font: \"STIX-Web\"}});}\n",
       "        if (typeof require !== 'undefined') {\n",
       "        require.undef(\"plotly\");\n",
       "        requirejs.config({\n",
       "            paths: {\n",
       "                'plotly': ['https://cdn.plot.ly/plotly-latest.min']\n",
       "            }\n",
       "        });\n",
       "        require(['plotly'], function(Plotly) {\n",
       "            window._Plotly = Plotly;\n",
       "        });\n",
       "        }\n",
       "        </script>\n",
       "        "
      ]
     },
     "metadata": {},
     "output_type": "display_data"
    }
   ],
   "source": [
    "po.init_notebook_mode(connected=True)\n",
    "cf.go_offline()"
   ]
  },
  {
   "cell_type": "code",
   "execution_count": 3,
   "metadata": {},
   "outputs": [],
   "source": [
    "def upload_data():\n",
    "    dirs = os.listdir()\n",
    "    choice = input(\"Do you want to see the files that you have Y or N: \").upper()\n",
    "    if choice == \"Y\":\n",
    "        for dir in dirs:\n",
    "            if(dir.endswith(\".csv\") or dir.endswith(\".json\") or dir.endswith(\".txt\")):\n",
    "                print(dir)\n",
    "    elif choice == \"N\":\n",
    "        pass\n",
    "    else:\n",
    "        print(\"Try again please select between Y or N\")\n",
    "        return False\n",
    "    path = input(\"Insert the name of the file: \")\n",
    "    \n",
    "    if path.endswith(\".csv\"):\n",
    "        dataframe = pd.read_csv(path)\n",
    "    elif path.endswith(\".json\"):\n",
    "        dataframe = pd.read_json(path)\n",
    "    elif path.endswith(\".txt\"):\n",
    "        dataframe = pd.read_csv(path)\n",
    "    return dataframe"
   ]
  },
  {
   "cell_type": "code",
   "execution_count": 4,
   "metadata": {},
   "outputs": [],
   "source": [
    "def random_data():\n",
    "    df = pd.DataFrame()\n",
    "    lista=[]\n",
    "    for i in range(100):    \n",
    "        lista.append(random.random())\n",
    "    df[\"A\"] = lista\n",
    "    lista=[]\n",
    "    for i in range(100):    \n",
    "        lista.append(random.random())\n",
    "    df[\"B\"] = lista\n",
    "    lista=[]\n",
    "    for i in range(100):    \n",
    "        lista.append(random.random())\n",
    "    df[\"C\"] = lista\n",
    "    lista=[]\n",
    "    for i in range(100):    \n",
    "        lista.append(random.random())\n",
    "    df[\"D\"] = lista\n",
    "    lista=[]\n",
    "    for i in range(100):    \n",
    "        lista.append(random.random())\n",
    "    df[\"E\"] = lista\n",
    "    return df"
   ]
  },
  {
   "cell_type": "code",
   "execution_count": 5,
   "metadata": {},
   "outputs": [],
   "source": [
    "def create_df():\n",
    "    df = pd.DataFrame()\n",
    "    lista = []\n",
    "    name = []\n",
    "    print(\"Enter the values for columns name\")\n",
    "    for i in range(5):\n",
    "        name.append(input(\"\"))\n",
    "    print(\"Enter the element of the first row\")\n",
    "    for i in range(5):\n",
    "        lista.append(input(\"\"))\n",
    "    df[name[0]] = lista\n",
    "    lista = []\n",
    "    print(\"Enter the element of the second row\")\n",
    "    for i in range(5):\n",
    "        lista.append(input(\"\"))\n",
    "    df[name[1]] = lista\n",
    "    lista = []\n",
    "    print(\"Enter the element of the third row\")\n",
    "    for i in range(5):\n",
    "        lista.append(input(\"\"))\n",
    "    df[name[2]] = lista\n",
    "    lista = []\n",
    "    print(\"Enter the element of the fourth row\")\n",
    "    for i in range(5):\n",
    "        lista.append(input(\"\"))\n",
    "    df[name[3]] = lista\n",
    "    return df"
   ]
  },
  {
   "cell_type": "code",
   "execution_count": 6,
   "metadata": {},
   "outputs": [],
   "source": [
    "def createdata(data):\n",
    "    if data == 1:\n",
    "        return random_data()\n",
    "    elif data == 2:\n",
    "        return create_df()\n",
    "    elif data == 3:\n",
    "        return upload_data()"
   ]
  },
  {
   "cell_type": "code",
   "execution_count": 7,
   "metadata": {},
   "outputs": [],
   "source": [
    "def plotter(plot):\n",
    "    if plot == 1:\n",
    "        df1.iplot(kind = \"line\")\n",
    "    elif plot == 2:\n",
    "        df1.iplot(kind = \"scatter\")\n",
    "    elif plot == 3:\n",
    "        df1.iplot(kind = \"bar\")\n",
    "    elif plot == 4:\n",
    "        df1.iplot(kind = \"histogram\")\n",
    "    elif plot == 5:\n",
    "        df1.iplot(kind = \"box\")\n",
    "    elif plot == 6:\n",
    "        df1.iplot(kind = \"surface\")"
   ]
  },
  {
   "cell_type": "code",
   "execution_count": 8,
   "metadata": {},
   "outputs": [],
   "source": [
    "def plotter2(plot):\n",
    "    if plot == 1:\n",
    "        ploter = \"line\"\n",
    "    elif plot == 2:\n",
    "        ploter = \"scatter\"\n",
    "    elif plot == 3:\n",
    "        ploter = \"bar\"\n",
    "    elif plot == 4:\n",
    "        ploter = \"histogram\"\n",
    "    elif plot == 5:\n",
    "        ploter = \"box\"\n",
    "    elif plot == 6:\n",
    "        ploter = \"surface\"\n",
    "    elif plot == 7:\n",
    "        ploter = \"bubble\"\n",
    "        \n",
    "    selection = int(input(\"How many columns you want to choose 1,2,3: \"))\n",
    "    if selection == 1:\n",
    "        x = input(\"Choose the column: \")\n",
    "        df1[x].iplot(kind = ploter)\n",
    "    \n",
    "    elif selection == 2:\n",
    "        x = input(\"Choose the first column: \")\n",
    "        y = input(\"Choose the second column: \")\n",
    "        df1[[x,y]].iplot(kind= ploter)\n",
    "        \n",
    "    elif selection == 3:\n",
    "        x = input(\"Choose the first column: \")\n",
    "        y = input(\"Choose the second column: \")\n",
    "        z = input(\"Choose the third column: \")\n",
    "        df1[[x,y,z]].iplot(kind= ploter)\n",
    "    "
   ]
  },
  {
   "cell_type": "code",
   "execution_count": 9,
   "metadata": {},
   "outputs": [],
   "source": [
    "def select_plot(plot):\n",
    "    if(plot == 1):\n",
    "        print('Select the type of plot you need to plot by writing 1 to 6')\n",
    "        print('1.Line plot')\n",
    "        print('2.Scatter plot')\n",
    "        print('3.Bar plot')\n",
    "        print('4.Histogram')\n",
    "        print('5.Box plot')\n",
    "        print('6.Surface plot')\n",
    "        plot = int(input())\n",
    "        output = plotter(plot)\n",
    "        \n",
    "    elif(plot == 2):\n",
    "        print('Select the type of plot you need to plot by writing 1 to 6')\n",
    "        print('1.Line plot')\n",
    "        print('2.Scatter plot')\n",
    "        print('3.Bar plot')\n",
    "        print('4.Histogram')\n",
    "        print('5.Box plot')\n",
    "        print('6.Surface plot')\n",
    "        print('7.Bubble plot')\n",
    "        plot = int(input())\n",
    "        output = plotter2(plot)\n",
    "    else:\n",
    "        print(\"Please select between 1 or 2\")"
   ]
  },
  {
   "cell_type": "code",
   "execution_count": 11,
   "metadata": {},
   "outputs": [
    {
     "name": "stdout",
     "output_type": "stream",
     "text": [
      "Select the type od data you want to enter(by writing 1,2 or 3)\n",
      "1.Random data with 100 rows and 5 columns\n",
      "2.Create customize Dataframe\n",
      "3.Upload csv/json/text file\n",
      "3\n",
      "Do you want to see the files that you have Y or N: n\n",
      "Insert the name of the file: pokemon.csv\n"
     ]
    }
   ],
   "source": [
    "print(\"Select the type od data you want to enter(by writing 1,2 or 3)\")\n",
    "print(\"1.Random data with 100 rows and 5 columns\")\n",
    "print(\"2.Create customize Dataframe\")\n",
    "print(\"3.Upload csv/json/text file\")\n",
    "choice = int(input(\"\"))\n",
    "df1 = createdata(choice)"
   ]
  },
  {
   "cell_type": "code",
   "execution_count": 12,
   "metadata": {},
   "outputs": [
    {
     "data": {
      "text/html": [
       "<div>\n",
       "<style scoped>\n",
       "    .dataframe tbody tr th:only-of-type {\n",
       "        vertical-align: middle;\n",
       "    }\n",
       "\n",
       "    .dataframe tbody tr th {\n",
       "        vertical-align: top;\n",
       "    }\n",
       "\n",
       "    .dataframe thead th {\n",
       "        text-align: right;\n",
       "    }\n",
       "</style>\n",
       "<table border=\"1\" class=\"dataframe\">\n",
       "  <thead>\n",
       "    <tr style=\"text-align: right;\">\n",
       "      <th></th>\n",
       "      <th>Pokemon</th>\n",
       "      <th>Type</th>\n",
       "    </tr>\n",
       "  </thead>\n",
       "  <tbody>\n",
       "    <tr>\n",
       "      <th>0</th>\n",
       "      <td>Bulbasaur</td>\n",
       "      <td>Grass</td>\n",
       "    </tr>\n",
       "    <tr>\n",
       "      <th>1</th>\n",
       "      <td>Ivysaur</td>\n",
       "      <td>Grass</td>\n",
       "    </tr>\n",
       "    <tr>\n",
       "      <th>2</th>\n",
       "      <td>Venusaur</td>\n",
       "      <td>Grass</td>\n",
       "    </tr>\n",
       "    <tr>\n",
       "      <th>3</th>\n",
       "      <td>Charmander</td>\n",
       "      <td>Fire</td>\n",
       "    </tr>\n",
       "    <tr>\n",
       "      <th>4</th>\n",
       "      <td>Charmeleon</td>\n",
       "      <td>Fire</td>\n",
       "    </tr>\n",
       "  </tbody>\n",
       "</table>\n",
       "</div>"
      ],
      "text/plain": [
       "      Pokemon   Type\n",
       "0   Bulbasaur  Grass\n",
       "1     Ivysaur  Grass\n",
       "2    Venusaur  Grass\n",
       "3  Charmander   Fire\n",
       "4  Charmeleon   Fire"
      ]
     },
     "execution_count": 12,
     "metadata": {},
     "output_type": "execute_result"
    }
   ],
   "source": [
    "df1.head()"
   ]
  },
  {
   "cell_type": "code",
   "execution_count": 14,
   "metadata": {},
   "outputs": [
    {
     "name": "stdout",
     "output_type": "stream",
     "text": [
      "What kind of plot you need , the complete data plot or columns plot\n",
      "Press 1 for plotting all columns or press 2 for specifying columns to plot2\n"
     ]
    }
   ],
   "source": [
    "print('What kind of plot you need , the complete data plot or columns plot')\n",
    "plot = input('Press 1 for plotting all columns or press 2 for specifying columns to plot')\n",
    "plot = int(plot)"
   ]
  },
  {
   "cell_type": "code",
   "execution_count": 16,
   "metadata": {},
   "outputs": [
    {
     "name": "stdout",
     "output_type": "stream",
     "text": [
      "Select the type of plot you need to plot by writing 1 to 6\n",
      "1.Line plot\n",
      "2.Scatter plot\n",
      "3.Bar plot\n",
      "4.Histogram\n",
      "5.Box plot\n",
      "6.Surface plot\n",
      "7.Bubble plot\n",
      "4\n",
      "How many columns you want to choose 1,2,3: 1\n",
      "Choose the column: Type\n"
     ]
    },
    {
     "data": {
      "application/vnd.plotly.v1+json": {
       "config": {
        "linkText": "Export to plot.ly",
        "plotlyServerURL": "https://plot.ly",
        "showLink": true
       },
       "data": [
        {
         "histfunc": "count",
         "histnorm": "",
         "marker": {
          "color": "rgba(255, 153, 51, 1.0)",
          "line": {
           "color": "#4D5663",
           "width": 1.3
          }
         },
         "name": "Type",
         "opacity": 0.8,
         "orientation": "v",
         "type": "histogram",
         "x": [
          "Grass",
          "Grass",
          "Grass",
          "Fire",
          "Fire",
          "Fire",
          "Water",
          "Water",
          "Water",
          "Bug",
          "Bug",
          "Bug",
          "Bug",
          "Bug",
          "Bug",
          "Normal",
          "Normal",
          "Normal",
          "Normal",
          "Normal",
          "Normal",
          "Normal",
          "Poison",
          "Poison",
          "Electric",
          "Electric",
          "Ground",
          "Ground",
          "Poison",
          "Poison",
          "Poison",
          "Poison",
          "Poison",
          "Poison",
          "Fairy",
          "Fairy",
          "Fire",
          "Fire",
          "Normal",
          "Normal",
          "Poison",
          "Poison",
          "Grass",
          "Grass",
          "Grass",
          "Bug",
          "Bug",
          "Bug",
          "Bug",
          "Ground",
          "Ground",
          "Normal",
          "Normal",
          "Water",
          "Water",
          "Fighting",
          "Fighting",
          "Fire",
          "Fire",
          "Water",
          "Water",
          "Water",
          "Psychic",
          "Psychic",
          "Psychic",
          "Fighting",
          "Fighting",
          "Fighting",
          "Grass",
          "Grass",
          "Grass",
          "Water",
          "Water",
          "Rock",
          "Rock",
          "Rock",
          "Fire",
          "Fire",
          "Water",
          "Water",
          "Electric",
          "Electric",
          "Normal",
          "Normal",
          "Normal",
          "Water",
          "Water",
          "Poison",
          "Poison",
          "Water",
          "Water",
          "Ghost",
          "Ghost",
          "Ghost",
          "Rock",
          "Psychic",
          "Psychic",
          "Water",
          "Water",
          "Electric",
          "Electric",
          "Grass",
          "Grass",
          "Ground",
          "Ground",
          "Fighting",
          "Fighting",
          "Normal",
          "Poison",
          "Poison",
          "Ground",
          "Ground",
          "Normal",
          "Grass",
          "Normal",
          "Water",
          "Water",
          "Water",
          "Water",
          "Water",
          "Water",
          "Psychic",
          "Bug",
          "Ice",
          "Electric",
          "Fire",
          "Bug",
          "Normal",
          "Water",
          "Water",
          "Water",
          "Normal",
          "Normal",
          "Water",
          "Electric",
          "Fire",
          "Normal",
          "Rock",
          "Rock",
          "Rock",
          "Rock",
          "Rock",
          "Normal",
          "Ice",
          "Electric",
          "Fire",
          "Dragon",
          "Dragon",
          "Dragon",
          "Psychic",
          "Psychic",
          "Grass",
          "Grass",
          "Grass",
          "Fire",
          "Fire",
          "Fire",
          "Water",
          "Water",
          "Water",
          "Normal",
          "Normal",
          "Normal",
          "Normal",
          "Bug",
          "Bug",
          "Bug",
          "Bug",
          "Poison",
          "Water",
          "Water",
          "Electric",
          "Fairy",
          "Normal",
          "Fairy",
          "Fairy",
          "Psychic",
          "Psychic",
          "Electric",
          "Electric",
          "Electric",
          "Grass",
          "Water",
          "Water",
          "Rock",
          "Water",
          "Grass",
          "Grass",
          "Grass",
          "Normal",
          "Grass",
          "Grass",
          "Bug",
          "Water",
          "Water",
          "Psychic",
          "Dark",
          "Dark",
          "Water",
          "Ghost",
          "Psychic",
          "Psychic",
          "Normal",
          "Bug",
          "Bug",
          "Normal",
          "Ground",
          "Steel",
          "Fairy",
          "Fairy",
          "Water",
          "Bug",
          "Bug",
          "Bug",
          "Dark",
          "Normal",
          "Normal",
          "Fire",
          "Fire",
          "Ice",
          "Ice",
          "Water",
          "Water",
          "Water",
          "Ice",
          "Water",
          "Steel",
          "Dark",
          "Dark",
          "Water",
          "Ground",
          "Ground",
          "Normal",
          "Normal",
          "Normal",
          "Fighting",
          "Fighting",
          "Ice",
          "Electric",
          "Fire",
          "Normal",
          "Normal",
          "Electric",
          "Fire",
          "Water",
          "Rock",
          "Rock",
          "Rock",
          "Psychic",
          "Fire",
          "Psychic",
          "Grass",
          "Grass",
          "Grass",
          "Fire",
          "Fire",
          "Fire",
          "Water",
          "Water",
          "Water",
          "Dark",
          "Dark",
          "Normal",
          "Normal",
          "Bug",
          "Bug",
          "Bug",
          "Bug",
          "Bug",
          "Water",
          "Water",
          "Water",
          "Grass",
          "Grass",
          "Grass",
          "Normal",
          "Normal",
          "Water",
          "Water",
          "Psychic",
          "Psychic",
          "Psychic",
          "Bug",
          "Bug",
          "Grass",
          "Grass",
          "Normal",
          "Normal",
          "Normal",
          "Bug",
          "Bug",
          "Bug",
          "Normal",
          "Normal",
          "Normal",
          "Fighting",
          "Fighting",
          "Normal",
          "Rock",
          "Normal",
          "Normal",
          "Dark",
          "Steel",
          "Steel",
          "Steel",
          "Steel",
          "Fighting",
          "Fighting",
          "Electric",
          "Electric",
          "Electric",
          "Electric",
          "Bug",
          "Bug",
          "Grass",
          "Poison",
          "Poison",
          "Water",
          "Water",
          "Water",
          "Water",
          "Fire",
          "Fire",
          "Fire",
          "Psychic",
          "Psychic",
          "Normal",
          "Ground",
          "Ground",
          "Ground",
          "Grass",
          "Grass",
          "Normal",
          "Dragon",
          "Normal",
          "Poison",
          "Rock",
          "Rock",
          "Water",
          "Water",
          "Water",
          "Water",
          "Ground",
          "Ground",
          "Rock",
          "Rock",
          "Rock",
          "Rock",
          "Water",
          "Water",
          "Normal",
          "Normal",
          "Ghost",
          "Ghost",
          "Ghost",
          "Ghost",
          "Grass",
          "Psychic",
          "Dark",
          "Psychic",
          "Ice",
          "Ice",
          "Ice",
          "Ice",
          "Ice",
          "Water",
          "Water",
          "Water",
          "Water",
          "Water",
          "Dragon",
          "Dragon",
          "Dragon",
          "Steel",
          "Steel",
          "Steel",
          "Rock",
          "Ice",
          "Steel",
          "Dragon",
          "Dragon",
          "Water",
          "Ground",
          "Dragon",
          "Steel",
          "Psychic",
          "Grass",
          "Grass",
          "Grass",
          "Fire",
          "Fire",
          "Fire",
          "Water",
          "Water",
          "Water",
          "Normal",
          "Normal",
          "Normal",
          "Normal",
          "Normal",
          "Bug",
          "Bug",
          "Electric",
          "Electric",
          "Electric",
          "Grass",
          "Grass",
          "Rock",
          "Rock",
          "Rock",
          "Rock",
          "Bug",
          "Bug",
          "Bug",
          "Bug",
          "Bug",
          "Electric",
          "Water",
          "Water",
          "Grass",
          "Grass",
          "Water",
          "Water",
          "Normal",
          "Ghost",
          "Ghost",
          "Normal",
          "Normal",
          "Ghost",
          "Dark",
          "Normal",
          "Normal",
          "Psychic",
          "Poison",
          "Poison",
          "Steel",
          "Steel",
          "Rock",
          "Psychic",
          "Normal",
          "Normal",
          "Ghost",
          "Dragon",
          "Dragon",
          "Dragon",
          "Normal",
          "Fighting",
          "Fighting",
          "Ground",
          "Ground",
          "Poison",
          "Poison",
          "Poison",
          "Poison",
          "Grass",
          "Water",
          "Water",
          "Water",
          "Grass",
          "Grass",
          "Dark",
          "Electric",
          "Normal",
          "Ground",
          "Grass",
          "Electric",
          "Fire",
          "Fairy",
          "Bug",
          "Grass",
          "Ice",
          "Ground",
          "Ice",
          "Normal",
          "Psychic",
          "Rock",
          "Ghost",
          "Ice",
          "Electric",
          "Psychic",
          "Psychic",
          "Psychic",
          "Steel",
          "Water",
          "Fire",
          "Normal",
          "Ghost",
          "Psychic",
          "Water",
          "Water",
          "Dark",
          "Grass",
          "Normal",
          "Psychic",
          "Grass",
          "Grass",
          "Grass",
          "Fire",
          "Fire",
          "Fire",
          "Water",
          "Water",
          "Water",
          "Normal",
          "Normal",
          "Normal",
          "Normal",
          "Normal",
          "Dark",
          "Dark",
          "Grass",
          "Grass",
          "Fire",
          "Fire",
          "Water",
          "Water",
          "Psychic",
          "Psychic",
          "Normal",
          "Normal",
          "Normal",
          "Electric",
          "Electric",
          "Rock",
          "Rock",
          "Rock",
          "Psychic",
          "Psychic",
          "Ground",
          "Ground",
          "Normal",
          "Fighting",
          "Fighting",
          "Fighting",
          "Water",
          "Water",
          "Water",
          "Fighting",
          "Fighting",
          "Bug",
          "Bug",
          "Bug",
          "Bug",
          "Bug",
          "Bug",
          "Grass",
          "Grass",
          "Grass",
          "Grass",
          "Water",
          "Ground",
          "Ground",
          "Ground",
          "Fire",
          "Fire",
          "Grass",
          "Bug",
          "Bug",
          "Dark",
          "Dark",
          "Psychic",
          "Ghost",
          "Ghost",
          "Water",
          "Water",
          "Rock",
          "Rock",
          "Poison",
          "Poison",
          "Dark",
          "Dark",
          "Normal",
          "Normal",
          "Psychic",
          "Psychic",
          "Psychic",
          "Psychic",
          "Psychic",
          "Psychic",
          "Water",
          "Water",
          "Ice",
          "Ice",
          "Ice",
          "Normal",
          "Normal",
          "Electric",
          "Bug",
          "Bug",
          "Grass",
          "Grass",
          "Water",
          "Water",
          "Water",
          "Bug",
          "Bug",
          "Grass",
          "Grass",
          "Steel",
          "Steel",
          "Steel",
          "Electric",
          "Electric",
          "Electric",
          "Psychic",
          "Psychic",
          "Ghost",
          "Ghost",
          "Ghost",
          "Dragon",
          "Dragon",
          "Dragon",
          "Ice",
          "Ice",
          "Ice",
          "Bug",
          "Bug",
          "Ground",
          "Fighting",
          "Fighting",
          "Dragon",
          "Ground",
          "Ground",
          "Dark",
          "Dark",
          "Normal",
          "Normal",
          "Normal",
          "Dark",
          "Dark",
          "Fire",
          "Bug",
          "Dark",
          "Dark",
          "Dark",
          "Bug",
          "Bug",
          "Steel",
          "Rock",
          "Grass",
          "Flying",
          "Electric",
          "Dragon",
          "Dragon",
          "Ground",
          "Dragon",
          "Water",
          "Normal",
          "Bug",
          "Grass",
          "Grass",
          "Grass",
          "Fire",
          "Fire",
          "Fire",
          "Water",
          "Water",
          "Water",
          "Normal",
          "Normal",
          "Normal",
          "Fire",
          "Fire",
          "Bug",
          "Bug",
          "Bug",
          "Fire",
          "Fire",
          "Fairy",
          "Fairy",
          "Fairy",
          "Grass",
          "Grass",
          "Fighting",
          "Fighting",
          "Normal",
          "Psychic",
          "Psychic",
          "Steel",
          "Steel",
          "Steel",
          "Fairy",
          "Fairy",
          "Fairy",
          "Fairy",
          "Dark",
          "Dark",
          "Rock",
          "Rock",
          "Poison",
          "Poison",
          "Water",
          "Water",
          "Electric",
          "Electric",
          "Rock",
          "Rock",
          "Rock",
          "Rock",
          "Fairy",
          "Fighting",
          "Electric",
          "Rock",
          "Dragon",
          "Dragon",
          "Dragon",
          "Steel",
          "Ghost",
          "Ghost",
          "Ghost",
          "Ghost",
          "Ice",
          "Ice",
          "Flying",
          "Flying",
          "Fairy",
          "Dark",
          "Dragon",
          "Rock",
          "Psychic",
          "Fire"
         ]
        }
       ],
       "layout": {
        "barmode": "overlay",
        "legend": {
         "bgcolor": "#F5F6F9",
         "font": {
          "color": "#4D5663"
         }
        },
        "paper_bgcolor": "#F5F6F9",
        "plot_bgcolor": "#F5F6F9",
        "template": {
         "data": {
          "bar": [
           {
            "error_x": {
             "color": "#2a3f5f"
            },
            "error_y": {
             "color": "#2a3f5f"
            },
            "marker": {
             "line": {
              "color": "#E5ECF6",
              "width": 0.5
             }
            },
            "type": "bar"
           }
          ],
          "barpolar": [
           {
            "marker": {
             "line": {
              "color": "#E5ECF6",
              "width": 0.5
             }
            },
            "type": "barpolar"
           }
          ],
          "carpet": [
           {
            "aaxis": {
             "endlinecolor": "#2a3f5f",
             "gridcolor": "white",
             "linecolor": "white",
             "minorgridcolor": "white",
             "startlinecolor": "#2a3f5f"
            },
            "baxis": {
             "endlinecolor": "#2a3f5f",
             "gridcolor": "white",
             "linecolor": "white",
             "minorgridcolor": "white",
             "startlinecolor": "#2a3f5f"
            },
            "type": "carpet"
           }
          ],
          "choropleth": [
           {
            "colorbar": {
             "outlinewidth": 0,
             "ticks": ""
            },
            "type": "choropleth"
           }
          ],
          "contour": [
           {
            "colorbar": {
             "outlinewidth": 0,
             "ticks": ""
            },
            "colorscale": [
             [
              0,
              "#0d0887"
             ],
             [
              0.1111111111111111,
              "#46039f"
             ],
             [
              0.2222222222222222,
              "#7201a8"
             ],
             [
              0.3333333333333333,
              "#9c179e"
             ],
             [
              0.4444444444444444,
              "#bd3786"
             ],
             [
              0.5555555555555556,
              "#d8576b"
             ],
             [
              0.6666666666666666,
              "#ed7953"
             ],
             [
              0.7777777777777778,
              "#fb9f3a"
             ],
             [
              0.8888888888888888,
              "#fdca26"
             ],
             [
              1,
              "#f0f921"
             ]
            ],
            "type": "contour"
           }
          ],
          "contourcarpet": [
           {
            "colorbar": {
             "outlinewidth": 0,
             "ticks": ""
            },
            "type": "contourcarpet"
           }
          ],
          "heatmap": [
           {
            "colorbar": {
             "outlinewidth": 0,
             "ticks": ""
            },
            "colorscale": [
             [
              0,
              "#0d0887"
             ],
             [
              0.1111111111111111,
              "#46039f"
             ],
             [
              0.2222222222222222,
              "#7201a8"
             ],
             [
              0.3333333333333333,
              "#9c179e"
             ],
             [
              0.4444444444444444,
              "#bd3786"
             ],
             [
              0.5555555555555556,
              "#d8576b"
             ],
             [
              0.6666666666666666,
              "#ed7953"
             ],
             [
              0.7777777777777778,
              "#fb9f3a"
             ],
             [
              0.8888888888888888,
              "#fdca26"
             ],
             [
              1,
              "#f0f921"
             ]
            ],
            "type": "heatmap"
           }
          ],
          "heatmapgl": [
           {
            "colorbar": {
             "outlinewidth": 0,
             "ticks": ""
            },
            "colorscale": [
             [
              0,
              "#0d0887"
             ],
             [
              0.1111111111111111,
              "#46039f"
             ],
             [
              0.2222222222222222,
              "#7201a8"
             ],
             [
              0.3333333333333333,
              "#9c179e"
             ],
             [
              0.4444444444444444,
              "#bd3786"
             ],
             [
              0.5555555555555556,
              "#d8576b"
             ],
             [
              0.6666666666666666,
              "#ed7953"
             ],
             [
              0.7777777777777778,
              "#fb9f3a"
             ],
             [
              0.8888888888888888,
              "#fdca26"
             ],
             [
              1,
              "#f0f921"
             ]
            ],
            "type": "heatmapgl"
           }
          ],
          "histogram": [
           {
            "marker": {
             "colorbar": {
              "outlinewidth": 0,
              "ticks": ""
             }
            },
            "type": "histogram"
           }
          ],
          "histogram2d": [
           {
            "colorbar": {
             "outlinewidth": 0,
             "ticks": ""
            },
            "colorscale": [
             [
              0,
              "#0d0887"
             ],
             [
              0.1111111111111111,
              "#46039f"
             ],
             [
              0.2222222222222222,
              "#7201a8"
             ],
             [
              0.3333333333333333,
              "#9c179e"
             ],
             [
              0.4444444444444444,
              "#bd3786"
             ],
             [
              0.5555555555555556,
              "#d8576b"
             ],
             [
              0.6666666666666666,
              "#ed7953"
             ],
             [
              0.7777777777777778,
              "#fb9f3a"
             ],
             [
              0.8888888888888888,
              "#fdca26"
             ],
             [
              1,
              "#f0f921"
             ]
            ],
            "type": "histogram2d"
           }
          ],
          "histogram2dcontour": [
           {
            "colorbar": {
             "outlinewidth": 0,
             "ticks": ""
            },
            "colorscale": [
             [
              0,
              "#0d0887"
             ],
             [
              0.1111111111111111,
              "#46039f"
             ],
             [
              0.2222222222222222,
              "#7201a8"
             ],
             [
              0.3333333333333333,
              "#9c179e"
             ],
             [
              0.4444444444444444,
              "#bd3786"
             ],
             [
              0.5555555555555556,
              "#d8576b"
             ],
             [
              0.6666666666666666,
              "#ed7953"
             ],
             [
              0.7777777777777778,
              "#fb9f3a"
             ],
             [
              0.8888888888888888,
              "#fdca26"
             ],
             [
              1,
              "#f0f921"
             ]
            ],
            "type": "histogram2dcontour"
           }
          ],
          "mesh3d": [
           {
            "colorbar": {
             "outlinewidth": 0,
             "ticks": ""
            },
            "type": "mesh3d"
           }
          ],
          "parcoords": [
           {
            "line": {
             "colorbar": {
              "outlinewidth": 0,
              "ticks": ""
             }
            },
            "type": "parcoords"
           }
          ],
          "pie": [
           {
            "automargin": true,
            "type": "pie"
           }
          ],
          "scatter": [
           {
            "marker": {
             "colorbar": {
              "outlinewidth": 0,
              "ticks": ""
             }
            },
            "type": "scatter"
           }
          ],
          "scatter3d": [
           {
            "line": {
             "colorbar": {
              "outlinewidth": 0,
              "ticks": ""
             }
            },
            "marker": {
             "colorbar": {
              "outlinewidth": 0,
              "ticks": ""
             }
            },
            "type": "scatter3d"
           }
          ],
          "scattercarpet": [
           {
            "marker": {
             "colorbar": {
              "outlinewidth": 0,
              "ticks": ""
             }
            },
            "type": "scattercarpet"
           }
          ],
          "scattergeo": [
           {
            "marker": {
             "colorbar": {
              "outlinewidth": 0,
              "ticks": ""
             }
            },
            "type": "scattergeo"
           }
          ],
          "scattergl": [
           {
            "marker": {
             "colorbar": {
              "outlinewidth": 0,
              "ticks": ""
             }
            },
            "type": "scattergl"
           }
          ],
          "scattermapbox": [
           {
            "marker": {
             "colorbar": {
              "outlinewidth": 0,
              "ticks": ""
             }
            },
            "type": "scattermapbox"
           }
          ],
          "scatterpolar": [
           {
            "marker": {
             "colorbar": {
              "outlinewidth": 0,
              "ticks": ""
             }
            },
            "type": "scatterpolar"
           }
          ],
          "scatterpolargl": [
           {
            "marker": {
             "colorbar": {
              "outlinewidth": 0,
              "ticks": ""
             }
            },
            "type": "scatterpolargl"
           }
          ],
          "scatterternary": [
           {
            "marker": {
             "colorbar": {
              "outlinewidth": 0,
              "ticks": ""
             }
            },
            "type": "scatterternary"
           }
          ],
          "surface": [
           {
            "colorbar": {
             "outlinewidth": 0,
             "ticks": ""
            },
            "colorscale": [
             [
              0,
              "#0d0887"
             ],
             [
              0.1111111111111111,
              "#46039f"
             ],
             [
              0.2222222222222222,
              "#7201a8"
             ],
             [
              0.3333333333333333,
              "#9c179e"
             ],
             [
              0.4444444444444444,
              "#bd3786"
             ],
             [
              0.5555555555555556,
              "#d8576b"
             ],
             [
              0.6666666666666666,
              "#ed7953"
             ],
             [
              0.7777777777777778,
              "#fb9f3a"
             ],
             [
              0.8888888888888888,
              "#fdca26"
             ],
             [
              1,
              "#f0f921"
             ]
            ],
            "type": "surface"
           }
          ],
          "table": [
           {
            "cells": {
             "fill": {
              "color": "#EBF0F8"
             },
             "line": {
              "color": "white"
             }
            },
            "header": {
             "fill": {
              "color": "#C8D4E3"
             },
             "line": {
              "color": "white"
             }
            },
            "type": "table"
           }
          ]
         },
         "layout": {
          "annotationdefaults": {
           "arrowcolor": "#2a3f5f",
           "arrowhead": 0,
           "arrowwidth": 1
          },
          "autotypenumbers": "strict",
          "coloraxis": {
           "colorbar": {
            "outlinewidth": 0,
            "ticks": ""
           }
          },
          "colorscale": {
           "diverging": [
            [
             0,
             "#8e0152"
            ],
            [
             0.1,
             "#c51b7d"
            ],
            [
             0.2,
             "#de77ae"
            ],
            [
             0.3,
             "#f1b6da"
            ],
            [
             0.4,
             "#fde0ef"
            ],
            [
             0.5,
             "#f7f7f7"
            ],
            [
             0.6,
             "#e6f5d0"
            ],
            [
             0.7,
             "#b8e186"
            ],
            [
             0.8,
             "#7fbc41"
            ],
            [
             0.9,
             "#4d9221"
            ],
            [
             1,
             "#276419"
            ]
           ],
           "sequential": [
            [
             0,
             "#0d0887"
            ],
            [
             0.1111111111111111,
             "#46039f"
            ],
            [
             0.2222222222222222,
             "#7201a8"
            ],
            [
             0.3333333333333333,
             "#9c179e"
            ],
            [
             0.4444444444444444,
             "#bd3786"
            ],
            [
             0.5555555555555556,
             "#d8576b"
            ],
            [
             0.6666666666666666,
             "#ed7953"
            ],
            [
             0.7777777777777778,
             "#fb9f3a"
            ],
            [
             0.8888888888888888,
             "#fdca26"
            ],
            [
             1,
             "#f0f921"
            ]
           ],
           "sequentialminus": [
            [
             0,
             "#0d0887"
            ],
            [
             0.1111111111111111,
             "#46039f"
            ],
            [
             0.2222222222222222,
             "#7201a8"
            ],
            [
             0.3333333333333333,
             "#9c179e"
            ],
            [
             0.4444444444444444,
             "#bd3786"
            ],
            [
             0.5555555555555556,
             "#d8576b"
            ],
            [
             0.6666666666666666,
             "#ed7953"
            ],
            [
             0.7777777777777778,
             "#fb9f3a"
            ],
            [
             0.8888888888888888,
             "#fdca26"
            ],
            [
             1,
             "#f0f921"
            ]
           ]
          },
          "colorway": [
           "#636efa",
           "#EF553B",
           "#00cc96",
           "#ab63fa",
           "#FFA15A",
           "#19d3f3",
           "#FF6692",
           "#B6E880",
           "#FF97FF",
           "#FECB52"
          ],
          "font": {
           "color": "#2a3f5f"
          },
          "geo": {
           "bgcolor": "white",
           "lakecolor": "white",
           "landcolor": "#E5ECF6",
           "showlakes": true,
           "showland": true,
           "subunitcolor": "white"
          },
          "hoverlabel": {
           "align": "left"
          },
          "hovermode": "closest",
          "mapbox": {
           "style": "light"
          },
          "paper_bgcolor": "white",
          "plot_bgcolor": "#E5ECF6",
          "polar": {
           "angularaxis": {
            "gridcolor": "white",
            "linecolor": "white",
            "ticks": ""
           },
           "bgcolor": "#E5ECF6",
           "radialaxis": {
            "gridcolor": "white",
            "linecolor": "white",
            "ticks": ""
           }
          },
          "scene": {
           "xaxis": {
            "backgroundcolor": "#E5ECF6",
            "gridcolor": "white",
            "gridwidth": 2,
            "linecolor": "white",
            "showbackground": true,
            "ticks": "",
            "zerolinecolor": "white"
           },
           "yaxis": {
            "backgroundcolor": "#E5ECF6",
            "gridcolor": "white",
            "gridwidth": 2,
            "linecolor": "white",
            "showbackground": true,
            "ticks": "",
            "zerolinecolor": "white"
           },
           "zaxis": {
            "backgroundcolor": "#E5ECF6",
            "gridcolor": "white",
            "gridwidth": 2,
            "linecolor": "white",
            "showbackground": true,
            "ticks": "",
            "zerolinecolor": "white"
           }
          },
          "shapedefaults": {
           "line": {
            "color": "#2a3f5f"
           }
          },
          "ternary": {
           "aaxis": {
            "gridcolor": "white",
            "linecolor": "white",
            "ticks": ""
           },
           "baxis": {
            "gridcolor": "white",
            "linecolor": "white",
            "ticks": ""
           },
           "bgcolor": "#E5ECF6",
           "caxis": {
            "gridcolor": "white",
            "linecolor": "white",
            "ticks": ""
           }
          },
          "title": {
           "x": 0.05
          },
          "xaxis": {
           "automargin": true,
           "gridcolor": "white",
           "linecolor": "white",
           "ticks": "",
           "title": {
            "standoff": 15
           },
           "zerolinecolor": "white",
           "zerolinewidth": 2
          },
          "yaxis": {
           "automargin": true,
           "gridcolor": "white",
           "linecolor": "white",
           "ticks": "",
           "title": {
            "standoff": 15
           },
           "zerolinecolor": "white",
           "zerolinewidth": 2
          }
         }
        },
        "title": {
         "font": {
          "color": "#4D5663"
         }
        },
        "xaxis": {
         "gridcolor": "#E1E5ED",
         "showgrid": true,
         "tickfont": {
          "color": "#4D5663"
         },
         "title": {
          "font": {
           "color": "#4D5663"
          },
          "text": ""
         },
         "zerolinecolor": "#E1E5ED"
        },
        "yaxis": {
         "gridcolor": "#E1E5ED",
         "showgrid": true,
         "tickfont": {
          "color": "#4D5663"
         },
         "title": {
          "font": {
           "color": "#4D5663"
          },
          "text": ""
         },
         "zerolinecolor": "#E1E5ED"
        }
       }
      },
      "text/html": [
       "<div>                            <div id=\"9f8204f9-446f-4018-9e5b-a8223f3dd37f\" class=\"plotly-graph-div\" style=\"height:525px; width:100%;\"></div>            <script type=\"text/javascript\">                require([\"plotly\"], function(Plotly) {                    window.PLOTLYENV=window.PLOTLYENV || {};\n",
       "                    window.PLOTLYENV.BASE_URL='https://plot.ly';                                    if (document.getElementById(\"9f8204f9-446f-4018-9e5b-a8223f3dd37f\")) {                    Plotly.newPlot(                        \"9f8204f9-446f-4018-9e5b-a8223f3dd37f\",                        [{\"histfunc\": \"count\", \"histnorm\": \"\", \"marker\": {\"color\": \"rgba(255, 153, 51, 1.0)\", \"line\": {\"color\": \"#4D5663\", \"width\": 1.3}}, \"name\": \"Type\", \"opacity\": 0.8, \"orientation\": \"v\", \"type\": \"histogram\", \"x\": [\"Grass\", \"Grass\", \"Grass\", \"Fire\", \"Fire\", \"Fire\", \"Water\", \"Water\", \"Water\", \"Bug\", \"Bug\", \"Bug\", \"Bug\", \"Bug\", \"Bug\", \"Normal\", \"Normal\", \"Normal\", \"Normal\", \"Normal\", \"Normal\", \"Normal\", \"Poison\", \"Poison\", \"Electric\", \"Electric\", \"Ground\", \"Ground\", \"Poison\", \"Poison\", \"Poison\", \"Poison\", \"Poison\", \"Poison\", \"Fairy\", \"Fairy\", \"Fire\", \"Fire\", \"Normal\", \"Normal\", \"Poison\", \"Poison\", \"Grass\", \"Grass\", \"Grass\", \"Bug\", \"Bug\", \"Bug\", \"Bug\", \"Ground\", \"Ground\", \"Normal\", \"Normal\", \"Water\", \"Water\", \"Fighting\", \"Fighting\", \"Fire\", \"Fire\", \"Water\", \"Water\", \"Water\", \"Psychic\", \"Psychic\", \"Psychic\", \"Fighting\", \"Fighting\", \"Fighting\", \"Grass\", \"Grass\", \"Grass\", \"Water\", \"Water\", \"Rock\", \"Rock\", \"Rock\", \"Fire\", \"Fire\", \"Water\", \"Water\", \"Electric\", \"Electric\", \"Normal\", \"Normal\", \"Normal\", \"Water\", \"Water\", \"Poison\", \"Poison\", \"Water\", \"Water\", \"Ghost\", \"Ghost\", \"Ghost\", \"Rock\", \"Psychic\", \"Psychic\", \"Water\", \"Water\", \"Electric\", \"Electric\", \"Grass\", \"Grass\", \"Ground\", \"Ground\", \"Fighting\", \"Fighting\", \"Normal\", \"Poison\", \"Poison\", \"Ground\", \"Ground\", \"Normal\", \"Grass\", \"Normal\", \"Water\", \"Water\", \"Water\", \"Water\", \"Water\", \"Water\", \"Psychic\", \"Bug\", \"Ice\", \"Electric\", \"Fire\", \"Bug\", \"Normal\", \"Water\", \"Water\", \"Water\", \"Normal\", \"Normal\", \"Water\", \"Electric\", \"Fire\", \"Normal\", \"Rock\", \"Rock\", \"Rock\", \"Rock\", \"Rock\", \"Normal\", \"Ice\", \"Electric\", \"Fire\", \"Dragon\", \"Dragon\", \"Dragon\", \"Psychic\", \"Psychic\", \"Grass\", \"Grass\", \"Grass\", \"Fire\", \"Fire\", \"Fire\", \"Water\", \"Water\", \"Water\", \"Normal\", \"Normal\", \"Normal\", \"Normal\", \"Bug\", \"Bug\", \"Bug\", \"Bug\", \"Poison\", \"Water\", \"Water\", \"Electric\", \"Fairy\", \"Normal\", \"Fairy\", \"Fairy\", \"Psychic\", \"Psychic\", \"Electric\", \"Electric\", \"Electric\", \"Grass\", \"Water\", \"Water\", \"Rock\", \"Water\", \"Grass\", \"Grass\", \"Grass\", \"Normal\", \"Grass\", \"Grass\", \"Bug\", \"Water\", \"Water\", \"Psychic\", \"Dark\", \"Dark\", \"Water\", \"Ghost\", \"Psychic\", \"Psychic\", \"Normal\", \"Bug\", \"Bug\", \"Normal\", \"Ground\", \"Steel\", \"Fairy\", \"Fairy\", \"Water\", \"Bug\", \"Bug\", \"Bug\", \"Dark\", \"Normal\", \"Normal\", \"Fire\", \"Fire\", \"Ice\", \"Ice\", \"Water\", \"Water\", \"Water\", \"Ice\", \"Water\", \"Steel\", \"Dark\", \"Dark\", \"Water\", \"Ground\", \"Ground\", \"Normal\", \"Normal\", \"Normal\", \"Fighting\", \"Fighting\", \"Ice\", \"Electric\", \"Fire\", \"Normal\", \"Normal\", \"Electric\", \"Fire\", \"Water\", \"Rock\", \"Rock\", \"Rock\", \"Psychic\", \"Fire\", \"Psychic\", \"Grass\", \"Grass\", \"Grass\", \"Fire\", \"Fire\", \"Fire\", \"Water\", \"Water\", \"Water\", \"Dark\", \"Dark\", \"Normal\", \"Normal\", \"Bug\", \"Bug\", \"Bug\", \"Bug\", \"Bug\", \"Water\", \"Water\", \"Water\", \"Grass\", \"Grass\", \"Grass\", \"Normal\", \"Normal\", \"Water\", \"Water\", \"Psychic\", \"Psychic\", \"Psychic\", \"Bug\", \"Bug\", \"Grass\", \"Grass\", \"Normal\", \"Normal\", \"Normal\", \"Bug\", \"Bug\", \"Bug\", \"Normal\", \"Normal\", \"Normal\", \"Fighting\", \"Fighting\", \"Normal\", \"Rock\", \"Normal\", \"Normal\", \"Dark\", \"Steel\", \"Steel\", \"Steel\", \"Steel\", \"Fighting\", \"Fighting\", \"Electric\", \"Electric\", \"Electric\", \"Electric\", \"Bug\", \"Bug\", \"Grass\", \"Poison\", \"Poison\", \"Water\", \"Water\", \"Water\", \"Water\", \"Fire\", \"Fire\", \"Fire\", \"Psychic\", \"Psychic\", \"Normal\", \"Ground\", \"Ground\", \"Ground\", \"Grass\", \"Grass\", \"Normal\", \"Dragon\", \"Normal\", \"Poison\", \"Rock\", \"Rock\", \"Water\", \"Water\", \"Water\", \"Water\", \"Ground\", \"Ground\", \"Rock\", \"Rock\", \"Rock\", \"Rock\", \"Water\", \"Water\", \"Normal\", \"Normal\", \"Ghost\", \"Ghost\", \"Ghost\", \"Ghost\", \"Grass\", \"Psychic\", \"Dark\", \"Psychic\", \"Ice\", \"Ice\", \"Ice\", \"Ice\", \"Ice\", \"Water\", \"Water\", \"Water\", \"Water\", \"Water\", \"Dragon\", \"Dragon\", \"Dragon\", \"Steel\", \"Steel\", \"Steel\", \"Rock\", \"Ice\", \"Steel\", \"Dragon\", \"Dragon\", \"Water\", \"Ground\", \"Dragon\", \"Steel\", \"Psychic\", \"Grass\", \"Grass\", \"Grass\", \"Fire\", \"Fire\", \"Fire\", \"Water\", \"Water\", \"Water\", \"Normal\", \"Normal\", \"Normal\", \"Normal\", \"Normal\", \"Bug\", \"Bug\", \"Electric\", \"Electric\", \"Electric\", \"Grass\", \"Grass\", \"Rock\", \"Rock\", \"Rock\", \"Rock\", \"Bug\", \"Bug\", \"Bug\", \"Bug\", \"Bug\", \"Electric\", \"Water\", \"Water\", \"Grass\", \"Grass\", \"Water\", \"Water\", \"Normal\", \"Ghost\", \"Ghost\", \"Normal\", \"Normal\", \"Ghost\", \"Dark\", \"Normal\", \"Normal\", \"Psychic\", \"Poison\", \"Poison\", \"Steel\", \"Steel\", \"Rock\", \"Psychic\", \"Normal\", \"Normal\", \"Ghost\", \"Dragon\", \"Dragon\", \"Dragon\", \"Normal\", \"Fighting\", \"Fighting\", \"Ground\", \"Ground\", \"Poison\", \"Poison\", \"Poison\", \"Poison\", \"Grass\", \"Water\", \"Water\", \"Water\", \"Grass\", \"Grass\", \"Dark\", \"Electric\", \"Normal\", \"Ground\", \"Grass\", \"Electric\", \"Fire\", \"Fairy\", \"Bug\", \"Grass\", \"Ice\", \"Ground\", \"Ice\", \"Normal\", \"Psychic\", \"Rock\", \"Ghost\", \"Ice\", \"Electric\", \"Psychic\", \"Psychic\", \"Psychic\", \"Steel\", \"Water\", \"Fire\", \"Normal\", \"Ghost\", \"Psychic\", \"Water\", \"Water\", \"Dark\", \"Grass\", \"Normal\", \"Psychic\", \"Grass\", \"Grass\", \"Grass\", \"Fire\", \"Fire\", \"Fire\", \"Water\", \"Water\", \"Water\", \"Normal\", \"Normal\", \"Normal\", \"Normal\", \"Normal\", \"Dark\", \"Dark\", \"Grass\", \"Grass\", \"Fire\", \"Fire\", \"Water\", \"Water\", \"Psychic\", \"Psychic\", \"Normal\", \"Normal\", \"Normal\", \"Electric\", \"Electric\", \"Rock\", \"Rock\", \"Rock\", \"Psychic\", \"Psychic\", \"Ground\", \"Ground\", \"Normal\", \"Fighting\", \"Fighting\", \"Fighting\", \"Water\", \"Water\", \"Water\", \"Fighting\", \"Fighting\", \"Bug\", \"Bug\", \"Bug\", \"Bug\", \"Bug\", \"Bug\", \"Grass\", \"Grass\", \"Grass\", \"Grass\", \"Water\", \"Ground\", \"Ground\", \"Ground\", \"Fire\", \"Fire\", \"Grass\", \"Bug\", \"Bug\", \"Dark\", \"Dark\", \"Psychic\", \"Ghost\", \"Ghost\", \"Water\", \"Water\", \"Rock\", \"Rock\", \"Poison\", \"Poison\", \"Dark\", \"Dark\", \"Normal\", \"Normal\", \"Psychic\", \"Psychic\", \"Psychic\", \"Psychic\", \"Psychic\", \"Psychic\", \"Water\", \"Water\", \"Ice\", \"Ice\", \"Ice\", \"Normal\", \"Normal\", \"Electric\", \"Bug\", \"Bug\", \"Grass\", \"Grass\", \"Water\", \"Water\", \"Water\", \"Bug\", \"Bug\", \"Grass\", \"Grass\", \"Steel\", \"Steel\", \"Steel\", \"Electric\", \"Electric\", \"Electric\", \"Psychic\", \"Psychic\", \"Ghost\", \"Ghost\", \"Ghost\", \"Dragon\", \"Dragon\", \"Dragon\", \"Ice\", \"Ice\", \"Ice\", \"Bug\", \"Bug\", \"Ground\", \"Fighting\", \"Fighting\", \"Dragon\", \"Ground\", \"Ground\", \"Dark\", \"Dark\", \"Normal\", \"Normal\", \"Normal\", \"Dark\", \"Dark\", \"Fire\", \"Bug\", \"Dark\", \"Dark\", \"Dark\", \"Bug\", \"Bug\", \"Steel\", \"Rock\", \"Grass\", \"Flying\", \"Electric\", \"Dragon\", \"Dragon\", \"Ground\", \"Dragon\", \"Water\", \"Normal\", \"Bug\", \"Grass\", \"Grass\", \"Grass\", \"Fire\", \"Fire\", \"Fire\", \"Water\", \"Water\", \"Water\", \"Normal\", \"Normal\", \"Normal\", \"Fire\", \"Fire\", \"Bug\", \"Bug\", \"Bug\", \"Fire\", \"Fire\", \"Fairy\", \"Fairy\", \"Fairy\", \"Grass\", \"Grass\", \"Fighting\", \"Fighting\", \"Normal\", \"Psychic\", \"Psychic\", \"Steel\", \"Steel\", \"Steel\", \"Fairy\", \"Fairy\", \"Fairy\", \"Fairy\", \"Dark\", \"Dark\", \"Rock\", \"Rock\", \"Poison\", \"Poison\", \"Water\", \"Water\", \"Electric\", \"Electric\", \"Rock\", \"Rock\", \"Rock\", \"Rock\", \"Fairy\", \"Fighting\", \"Electric\", \"Rock\", \"Dragon\", \"Dragon\", \"Dragon\", \"Steel\", \"Ghost\", \"Ghost\", \"Ghost\", \"Ghost\", \"Ice\", \"Ice\", \"Flying\", \"Flying\", \"Fairy\", \"Dark\", \"Dragon\", \"Rock\", \"Psychic\", \"Fire\"]}],                        {\"barmode\": \"overlay\", \"legend\": {\"bgcolor\": \"#F5F6F9\", \"font\": {\"color\": \"#4D5663\"}}, \"paper_bgcolor\": \"#F5F6F9\", \"plot_bgcolor\": \"#F5F6F9\", \"template\": {\"data\": {\"bar\": [{\"error_x\": {\"color\": \"#2a3f5f\"}, \"error_y\": {\"color\": \"#2a3f5f\"}, \"marker\": {\"line\": {\"color\": \"#E5ECF6\", \"width\": 0.5}}, \"type\": \"bar\"}], \"barpolar\": [{\"marker\": {\"line\": {\"color\": \"#E5ECF6\", \"width\": 0.5}}, \"type\": \"barpolar\"}], \"carpet\": [{\"aaxis\": {\"endlinecolor\": \"#2a3f5f\", \"gridcolor\": \"white\", \"linecolor\": \"white\", \"minorgridcolor\": \"white\", \"startlinecolor\": \"#2a3f5f\"}, \"baxis\": {\"endlinecolor\": \"#2a3f5f\", \"gridcolor\": \"white\", \"linecolor\": \"white\", \"minorgridcolor\": \"white\", \"startlinecolor\": \"#2a3f5f\"}, \"type\": \"carpet\"}], \"choropleth\": [{\"colorbar\": {\"outlinewidth\": 0, \"ticks\": \"\"}, \"type\": \"choropleth\"}], \"contour\": [{\"colorbar\": {\"outlinewidth\": 0, \"ticks\": \"\"}, \"colorscale\": [[0.0, \"#0d0887\"], [0.1111111111111111, \"#46039f\"], [0.2222222222222222, \"#7201a8\"], [0.3333333333333333, \"#9c179e\"], [0.4444444444444444, \"#bd3786\"], [0.5555555555555556, \"#d8576b\"], [0.6666666666666666, \"#ed7953\"], [0.7777777777777778, \"#fb9f3a\"], [0.8888888888888888, \"#fdca26\"], [1.0, \"#f0f921\"]], \"type\": \"contour\"}], \"contourcarpet\": [{\"colorbar\": {\"outlinewidth\": 0, \"ticks\": \"\"}, \"type\": \"contourcarpet\"}], \"heatmap\": [{\"colorbar\": {\"outlinewidth\": 0, \"ticks\": \"\"}, \"colorscale\": [[0.0, \"#0d0887\"], [0.1111111111111111, \"#46039f\"], [0.2222222222222222, \"#7201a8\"], [0.3333333333333333, \"#9c179e\"], [0.4444444444444444, \"#bd3786\"], [0.5555555555555556, \"#d8576b\"], [0.6666666666666666, \"#ed7953\"], [0.7777777777777778, \"#fb9f3a\"], [0.8888888888888888, \"#fdca26\"], [1.0, \"#f0f921\"]], \"type\": \"heatmap\"}], \"heatmapgl\": [{\"colorbar\": {\"outlinewidth\": 0, \"ticks\": \"\"}, \"colorscale\": [[0.0, \"#0d0887\"], [0.1111111111111111, \"#46039f\"], [0.2222222222222222, \"#7201a8\"], [0.3333333333333333, \"#9c179e\"], [0.4444444444444444, \"#bd3786\"], [0.5555555555555556, \"#d8576b\"], [0.6666666666666666, \"#ed7953\"], [0.7777777777777778, \"#fb9f3a\"], [0.8888888888888888, \"#fdca26\"], [1.0, \"#f0f921\"]], \"type\": \"heatmapgl\"}], \"histogram\": [{\"marker\": {\"colorbar\": {\"outlinewidth\": 0, \"ticks\": \"\"}}, \"type\": \"histogram\"}], \"histogram2d\": [{\"colorbar\": {\"outlinewidth\": 0, \"ticks\": \"\"}, \"colorscale\": [[0.0, \"#0d0887\"], [0.1111111111111111, \"#46039f\"], [0.2222222222222222, \"#7201a8\"], [0.3333333333333333, \"#9c179e\"], [0.4444444444444444, \"#bd3786\"], [0.5555555555555556, \"#d8576b\"], [0.6666666666666666, \"#ed7953\"], [0.7777777777777778, \"#fb9f3a\"], [0.8888888888888888, \"#fdca26\"], [1.0, \"#f0f921\"]], \"type\": \"histogram2d\"}], \"histogram2dcontour\": [{\"colorbar\": {\"outlinewidth\": 0, \"ticks\": \"\"}, \"colorscale\": [[0.0, \"#0d0887\"], [0.1111111111111111, \"#46039f\"], [0.2222222222222222, \"#7201a8\"], [0.3333333333333333, \"#9c179e\"], [0.4444444444444444, \"#bd3786\"], [0.5555555555555556, \"#d8576b\"], [0.6666666666666666, \"#ed7953\"], [0.7777777777777778, \"#fb9f3a\"], [0.8888888888888888, \"#fdca26\"], [1.0, \"#f0f921\"]], \"type\": \"histogram2dcontour\"}], \"mesh3d\": [{\"colorbar\": {\"outlinewidth\": 0, \"ticks\": \"\"}, \"type\": \"mesh3d\"}], \"parcoords\": [{\"line\": {\"colorbar\": {\"outlinewidth\": 0, \"ticks\": \"\"}}, \"type\": \"parcoords\"}], \"pie\": [{\"automargin\": true, \"type\": \"pie\"}], \"scatter\": [{\"marker\": {\"colorbar\": {\"outlinewidth\": 0, \"ticks\": \"\"}}, \"type\": \"scatter\"}], \"scatter3d\": [{\"line\": {\"colorbar\": {\"outlinewidth\": 0, \"ticks\": \"\"}}, \"marker\": {\"colorbar\": {\"outlinewidth\": 0, \"ticks\": \"\"}}, \"type\": \"scatter3d\"}], \"scattercarpet\": [{\"marker\": {\"colorbar\": {\"outlinewidth\": 0, \"ticks\": \"\"}}, \"type\": \"scattercarpet\"}], \"scattergeo\": [{\"marker\": {\"colorbar\": {\"outlinewidth\": 0, \"ticks\": \"\"}}, \"type\": \"scattergeo\"}], \"scattergl\": [{\"marker\": {\"colorbar\": {\"outlinewidth\": 0, \"ticks\": \"\"}}, \"type\": \"scattergl\"}], \"scattermapbox\": [{\"marker\": {\"colorbar\": {\"outlinewidth\": 0, \"ticks\": \"\"}}, \"type\": \"scattermapbox\"}], \"scatterpolar\": [{\"marker\": {\"colorbar\": {\"outlinewidth\": 0, \"ticks\": \"\"}}, \"type\": \"scatterpolar\"}], \"scatterpolargl\": [{\"marker\": {\"colorbar\": {\"outlinewidth\": 0, \"ticks\": \"\"}}, \"type\": \"scatterpolargl\"}], \"scatterternary\": [{\"marker\": {\"colorbar\": {\"outlinewidth\": 0, \"ticks\": \"\"}}, \"type\": \"scatterternary\"}], \"surface\": [{\"colorbar\": {\"outlinewidth\": 0, \"ticks\": \"\"}, \"colorscale\": [[0.0, \"#0d0887\"], [0.1111111111111111, \"#46039f\"], [0.2222222222222222, \"#7201a8\"], [0.3333333333333333, \"#9c179e\"], [0.4444444444444444, \"#bd3786\"], [0.5555555555555556, \"#d8576b\"], [0.6666666666666666, \"#ed7953\"], [0.7777777777777778, \"#fb9f3a\"], [0.8888888888888888, \"#fdca26\"], [1.0, \"#f0f921\"]], \"type\": \"surface\"}], \"table\": [{\"cells\": {\"fill\": {\"color\": \"#EBF0F8\"}, \"line\": {\"color\": \"white\"}}, \"header\": {\"fill\": {\"color\": \"#C8D4E3\"}, \"line\": {\"color\": \"white\"}}, \"type\": \"table\"}]}, \"layout\": {\"annotationdefaults\": {\"arrowcolor\": \"#2a3f5f\", \"arrowhead\": 0, \"arrowwidth\": 1}, \"autotypenumbers\": \"strict\", \"coloraxis\": {\"colorbar\": {\"outlinewidth\": 0, \"ticks\": \"\"}}, \"colorscale\": {\"diverging\": [[0, \"#8e0152\"], [0.1, \"#c51b7d\"], [0.2, \"#de77ae\"], [0.3, \"#f1b6da\"], [0.4, \"#fde0ef\"], [0.5, \"#f7f7f7\"], [0.6, \"#e6f5d0\"], [0.7, \"#b8e186\"], [0.8, \"#7fbc41\"], [0.9, \"#4d9221\"], [1, \"#276419\"]], \"sequential\": [[0.0, \"#0d0887\"], [0.1111111111111111, \"#46039f\"], [0.2222222222222222, \"#7201a8\"], [0.3333333333333333, \"#9c179e\"], [0.4444444444444444, \"#bd3786\"], [0.5555555555555556, \"#d8576b\"], [0.6666666666666666, \"#ed7953\"], [0.7777777777777778, \"#fb9f3a\"], [0.8888888888888888, \"#fdca26\"], [1.0, \"#f0f921\"]], \"sequentialminus\": [[0.0, \"#0d0887\"], [0.1111111111111111, \"#46039f\"], [0.2222222222222222, \"#7201a8\"], [0.3333333333333333, \"#9c179e\"], [0.4444444444444444, \"#bd3786\"], [0.5555555555555556, \"#d8576b\"], [0.6666666666666666, \"#ed7953\"], [0.7777777777777778, \"#fb9f3a\"], [0.8888888888888888, \"#fdca26\"], [1.0, \"#f0f921\"]]}, \"colorway\": [\"#636efa\", \"#EF553B\", \"#00cc96\", \"#ab63fa\", \"#FFA15A\", \"#19d3f3\", \"#FF6692\", \"#B6E880\", \"#FF97FF\", \"#FECB52\"], \"font\": {\"color\": \"#2a3f5f\"}, \"geo\": {\"bgcolor\": \"white\", \"lakecolor\": \"white\", \"landcolor\": \"#E5ECF6\", \"showlakes\": true, \"showland\": true, \"subunitcolor\": \"white\"}, \"hoverlabel\": {\"align\": \"left\"}, \"hovermode\": \"closest\", \"mapbox\": {\"style\": \"light\"}, \"paper_bgcolor\": \"white\", \"plot_bgcolor\": \"#E5ECF6\", \"polar\": {\"angularaxis\": {\"gridcolor\": \"white\", \"linecolor\": \"white\", \"ticks\": \"\"}, \"bgcolor\": \"#E5ECF6\", \"radialaxis\": {\"gridcolor\": \"white\", \"linecolor\": \"white\", \"ticks\": \"\"}}, \"scene\": {\"xaxis\": {\"backgroundcolor\": \"#E5ECF6\", \"gridcolor\": \"white\", \"gridwidth\": 2, \"linecolor\": \"white\", \"showbackground\": true, \"ticks\": \"\", \"zerolinecolor\": \"white\"}, \"yaxis\": {\"backgroundcolor\": \"#E5ECF6\", \"gridcolor\": \"white\", \"gridwidth\": 2, \"linecolor\": \"white\", \"showbackground\": true, \"ticks\": \"\", \"zerolinecolor\": \"white\"}, \"zaxis\": {\"backgroundcolor\": \"#E5ECF6\", \"gridcolor\": \"white\", \"gridwidth\": 2, \"linecolor\": \"white\", \"showbackground\": true, \"ticks\": \"\", \"zerolinecolor\": \"white\"}}, \"shapedefaults\": {\"line\": {\"color\": \"#2a3f5f\"}}, \"ternary\": {\"aaxis\": {\"gridcolor\": \"white\", \"linecolor\": \"white\", \"ticks\": \"\"}, \"baxis\": {\"gridcolor\": \"white\", \"linecolor\": \"white\", \"ticks\": \"\"}, \"bgcolor\": \"#E5ECF6\", \"caxis\": {\"gridcolor\": \"white\", \"linecolor\": \"white\", \"ticks\": \"\"}}, \"title\": {\"x\": 0.05}, \"xaxis\": {\"automargin\": true, \"gridcolor\": \"white\", \"linecolor\": \"white\", \"ticks\": \"\", \"title\": {\"standoff\": 15}, \"zerolinecolor\": \"white\", \"zerolinewidth\": 2}, \"yaxis\": {\"automargin\": true, \"gridcolor\": \"white\", \"linecolor\": \"white\", \"ticks\": \"\", \"title\": {\"standoff\": 15}, \"zerolinecolor\": \"white\", \"zerolinewidth\": 2}}}, \"title\": {\"font\": {\"color\": \"#4D5663\"}}, \"xaxis\": {\"gridcolor\": \"#E1E5ED\", \"showgrid\": true, \"tickfont\": {\"color\": \"#4D5663\"}, \"title\": {\"font\": {\"color\": \"#4D5663\"}, \"text\": \"\"}, \"zerolinecolor\": \"#E1E5ED\"}, \"yaxis\": {\"gridcolor\": \"#E1E5ED\", \"showgrid\": true, \"tickfont\": {\"color\": \"#4D5663\"}, \"title\": {\"font\": {\"color\": \"#4D5663\"}, \"text\": \"\"}, \"zerolinecolor\": \"#E1E5ED\"}},                        {\"showLink\": true, \"linkText\": \"Export to plot.ly\", \"plotlyServerURL\": \"https://plot.ly\", \"responsive\": true}                    ).then(function(){\n",
       "                            \n",
       "var gd = document.getElementById('9f8204f9-446f-4018-9e5b-a8223f3dd37f');\n",
       "var x = new MutationObserver(function (mutations, observer) {{\n",
       "        var display = window.getComputedStyle(gd).display;\n",
       "        if (!display || display === 'none') {{\n",
       "            console.log([gd, 'removed!']);\n",
       "            Plotly.purge(gd);\n",
       "            observer.disconnect();\n",
       "        }}\n",
       "}});\n",
       "\n",
       "// Listen for the removal of the full notebook cells\n",
       "var notebookContainer = gd.closest('#notebook-container');\n",
       "if (notebookContainer) {{\n",
       "    x.observe(notebookContainer, {childList: true});\n",
       "}}\n",
       "\n",
       "// Listen for the clearing of the current output cell\n",
       "var outputEl = gd.closest('.output');\n",
       "if (outputEl) {{\n",
       "    x.observe(outputEl, {childList: true});\n",
       "}}\n",
       "\n",
       "                        })                };                });            </script>        </div>"
      ]
     },
     "metadata": {},
     "output_type": "display_data"
    }
   ],
   "source": [
    "select_plot(plot)"
   ]
  },
  {
   "cell_type": "code",
   "execution_count": null,
   "metadata": {},
   "outputs": [],
   "source": []
  }
 ],
 "metadata": {
  "kernelspec": {
   "display_name": "Python 3",
   "language": "python",
   "name": "python3"
  },
  "language_info": {
   "codemirror_mode": {
    "name": "ipython",
    "version": 3
   },
   "file_extension": ".py",
   "mimetype": "text/x-python",
   "name": "python",
   "nbconvert_exporter": "python",
   "pygments_lexer": "ipython3",
   "version": "3.8.5"
  }
 },
 "nbformat": 4,
 "nbformat_minor": 4
}
