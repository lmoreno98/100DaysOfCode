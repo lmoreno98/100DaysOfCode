{
 "cells": [
  {
   "cell_type": "code",
   "execution_count": 1,
   "metadata": {},
   "outputs": [],
   "source": [
    "import random"
   ]
  },
  {
   "cell_type": "code",
   "execution_count": 2,
   "metadata": {},
   "outputs": [],
   "source": [
    "# Create the image of th dice\n",
    "dice = [\"\"\"\n",
    "------------\n",
    "|           |\n",
    "|     0     |\n",
    "|           |\n",
    "-------------\"\"\",\n",
    "\n",
    "\"\"\"\n",
    "------------\n",
    "|           |\n",
    "|  0    0   |\n",
    "|           |\n",
    "-------------\"\"\",\n",
    "\n",
    "\"\"\"\n",
    "------------\n",
    "|  0        |\n",
    "|     0     |\n",
    "|        0  |\n",
    "-------------\"\"\",\n",
    "\n",
    "\"\"\"\n",
    "------------\n",
    "|  0     0  |\n",
    "|           |\n",
    "|  0     0  |\n",
    "-------------\"\"\",\n",
    "\n",
    "\"\"\"\n",
    "------------\n",
    "|  0     0  |\n",
    "|     0     |\n",
    "|  0     0  |\n",
    "-------------\"\"\",\n",
    "\n",
    "\"\"\"\n",
    "------------\n",
    "|  0     0  |\n",
    "|  0     0  |\n",
    "|  0     0  |\n",
    "-------------\"\"\"\n",
    "]\n",
    "\n"
   ]
  },
  {
   "cell_type": "code",
   "execution_count": 34,
   "metadata": {},
   "outputs": [],
   "source": [
    "game = True\n",
    "choice = \"Y\""
   ]
  },
  {
   "cell_type": "code",
   "execution_count": 35,
   "metadata": {},
   "outputs": [
    {
     "name": "stdout",
     "output_type": "stream",
     "text": [
      "Welcome to dice game!!!\n",
      "\n",
      "------------\n",
      "|  0     0  |\n",
      "|  0     0  |\n",
      "|  0     0  |\n",
      "-------------\n",
      "Continue: Y or N  Y\n",
      "\n",
      "------------\n",
      "|  0        |\n",
      "|     0     |\n",
      "|        0  |\n",
      "-------------\n",
      "Continue: Y or N  Y\n",
      "\n",
      "------------\n",
      "|  0     0  |\n",
      "|           |\n",
      "|  0     0  |\n",
      "-------------\n",
      "Continue: Y or N  Y\n",
      "\n",
      "------------\n",
      "|           |\n",
      "|  0    0   |\n",
      "|           |\n",
      "-------------\n",
      "Continue: Y or N  N\n",
      "Thanks for play dice game\n"
     ]
    }
   ],
   "source": [
    "print(\"Welcome to dice game!!!\")\n",
    "while game == True:\n",
    "    if choice == \"Y\":\n",
    "        num = random.randint(0,5)\n",
    "        print(dice[num])\n",
    "        choice = input(\"Continue: Y or N  \")\n",
    "    elif choice == \"W\":\n",
    "        choice = input(\"Continue: Y or N  \")\n",
    "    elif choice == \"N\":\n",
    "        game = False\n",
    "    else:\n",
    "        print(\"Incorrect please enter Y or N\")\n",
    "        choice = \"W\"\n",
    "print(\"Thanks for play dice game\")"
   ]
  },
  {
   "cell_type": "code",
   "execution_count": null,
   "metadata": {},
   "outputs": [],
   "source": []
  },
  {
   "cell_type": "code",
   "execution_count": null,
   "metadata": {},
   "outputs": [],
   "source": []
  }
 ],
 "metadata": {
  "kernelspec": {
   "display_name": "Python 3",
   "language": "python",
   "name": "python3"
  },
  "language_info": {
   "codemirror_mode": {
    "name": "ipython",
    "version": 3
   },
   "file_extension": ".py",
   "mimetype": "text/x-python",
   "name": "python",
   "nbconvert_exporter": "python",
   "pygments_lexer": "ipython3",
   "version": "3.8.5"
  }
 },
 "nbformat": 4,
 "nbformat_minor": 4
}
