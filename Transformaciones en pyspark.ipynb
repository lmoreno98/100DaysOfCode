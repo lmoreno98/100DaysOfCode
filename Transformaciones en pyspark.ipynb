{
 "cells": [
  {
   "cell_type": "code",
   "execution_count": 1,
   "metadata": {},
   "outputs": [],
   "source": [
    "from pyspark import SparkConf, SparkContext\n",
    "from pyspark.sql.types import StringType\n",
    "from pyspark import SQLContext\n",
    "import numpy as np"
   ]
  },
  {
   "cell_type": "code",
   "execution_count": 2,
   "metadata": {},
   "outputs": [],
   "source": [
    "conf = SparkConf().setMaster(\"local\").setAppName(\"Mi programa\")\n",
    "sc = SparkContext(conf = conf)\n",
    "sqlContext = SQLContext(sc)\n",
    "\n",
    "\n",
    "dfspark = sqlContext.read.format(\"csv\").option(\"header\", \"true\").option(\"inferSchema\",\"true\").load(\"C:/Users/lucho/Desktop/Programacion/Python/Linkedin Data Science/base_datos_2008.csv\")\n",
    "dfspark = dfspark.sample(fraction = 0.001, withReplacement = False)\n",
    "dfspark = dfspark.withColumn(\"ArrDelay\",dfspark[\"ArrDelay\"].cast(\"integer\"))\n",
    "dfspark = dfspark.withColumn(\"DepDelay\",dfspark[\"DepDelay\"].cast(\"integer\"))"
   ]
  },
  {
   "cell_type": "code",
   "execution_count": 5,
   "metadata": {},
   "outputs": [],
   "source": [
    "df2 = dfspark.na.drop(subset=[\"ArrDelay\",\"DepDelay\",\"Distance\"])\n",
    "df2 = df2.filter(\"ArrDelay is not null\")\n",
    "df2 = df2.dropDuplicates()"
   ]
  },
  {
   "cell_type": "code",
   "execution_count": 7,
   "metadata": {},
   "outputs": [
    {
     "data": {
      "text/plain": [
       "[Row(ArrDelay=100),\n",
       " Row(ArrDelay=71),\n",
       " Row(ArrDelay=96),\n",
       " Row(ArrDelay=73),\n",
       " Row(ArrDelay=86)]"
      ]
     },
     "execution_count": 7,
     "metadata": {},
     "output_type": "execute_result"
    }
   ],
   "source": [
    "df2.select(\"ArrDelay\").filter(\"ArrDelay > 60\").take(5)"
   ]
  },
  {
   "cell_type": "code",
   "execution_count": 8,
   "metadata": {},
   "outputs": [
    {
     "data": {
      "text/plain": [
       "[Row(Year=2008, Month=2, DayofMonth=26, DayOfWeek=2, DepTime='1202', CRSDepTime=1015, ArrTime='1305', CRSArrTime=1125, UniqueCarrier='MQ', FlightNum=3985, TailNum='N690AE', ActualElapsedTime='63', CRSElapsedTime='70', AirTime='44', ArrDelay=100, DepDelay=107, Origin='ORD', Dest='RST', Distance=268, TaxiIn='4', TaxiOut='15', Cancelled=0, CancellationCode=None, Diverted=0, CarrierDelay='0', WeatherDelay='23', NASDelay='0', SecurityDelay='0', LateAircraftDelay='77'),\n",
       " Row(Year=2008, Month=5, DayofMonth=11, DayOfWeek=7, DepTime='718', CRSDepTime=600, ArrTime='1037', CRSArrTime=926, UniqueCarrier='9E', FlightNum=3756, TailNum='80209E', ActualElapsedTime='139', CRSElapsedTime='146', AirTime='101', ArrDelay=71, DepDelay=78, Origin='TUL', Dest='DTW', Distance=790, TaxiIn='21', TaxiOut='17', Cancelled=0, CancellationCode=None, Diverted=0, CarrierDelay='71', WeatherDelay='0', NASDelay='0', SecurityDelay='0', LateAircraftDelay='0'),\n",
       " Row(Year=2008, Month=6, DayofMonth=13, DayOfWeek=5, DepTime='1431', CRSDepTime=1355, ArrTime='1546', CRSArrTime=1410, UniqueCarrier='MQ', FlightNum=4506, TailNum='N656AE', ActualElapsedTime='135', CRSElapsedTime='75', AirTime='51', ArrDelay=96, DepDelay=36, Origin='DTW', Dest='ORD', Distance=235, TaxiIn='12', TaxiOut='72', Cancelled=0, CancellationCode=None, Diverted=0, CarrierDelay='0', WeatherDelay='0', NASDelay='85', SecurityDelay='0', LateAircraftDelay='11'),\n",
       " Row(Year=2008, Month=6, DayofMonth=15, DayOfWeek=7, DepTime='2148', CRSDepTime=2050, ArrTime='13', CRSArrTime=2300, UniqueCarrier='AA', FlightNum=1693, TailNum='N5EAAA', ActualElapsedTime='265', CRSElapsedTime='250', AirTime='233', ArrDelay=73, DepDelay=58, Origin='ORD', Dest='LAX', Distance=1745, TaxiIn='16', TaxiOut='16', Cancelled=0, CancellationCode=None, Diverted=0, CarrierDelay='0', WeatherDelay='0', NASDelay='15', SecurityDelay='0', LateAircraftDelay='58'),\n",
       " Row(Year=2008, Month=9, DayofMonth=8, DayOfWeek=1, DepTime='2028', CRSDepTime=1859, ArrTime='2225', CRSArrTime=2059, UniqueCarrier='FL', FlightNum=185, TailNum='N989AT', ActualElapsedTime='117', CRSElapsedTime='120', AirTime='85', ArrDelay=86, DepDelay=89, Origin='DCA', Dest='ATL', Distance=547, TaxiIn='14', TaxiOut='18', Cancelled=0, CancellationCode=None, Diverted=0, CarrierDelay='0', WeatherDelay='0', NASDelay='86', SecurityDelay='0', LateAircraftDelay='0')]"
      ]
     },
     "execution_count": 8,
     "metadata": {},
     "output_type": "execute_result"
    }
   ],
   "source": [
    "df2.filter(\"ArrDelay > 60\").take(5)"
   ]
  },
  {
   "cell_type": "code",
   "execution_count": 10,
   "metadata": {},
   "outputs": [
    {
     "data": {
      "text/plain": [
       "[array([0.65214766]),\n",
       " array([368.34988362]),\n",
       " array([368.34988362]),\n",
       " array([23.11260047]),\n",
       " array([14.49748727]),\n",
       " array([8428.62744905]),\n",
       " array([174.04056284]),\n",
       " array([14.49748727]),\n",
       " array([4.80680806]),\n",
       " array([51.73124205])]"
      ]
     },
     "execution_count": 10,
     "metadata": {},
     "output_type": "execute_result"
    }
   ],
   "source": [
    "media = np.mean(df2.select(\"ArrDelay\").collect())\n",
    "df2.select(\"ArrDelay\").rdd.map(lambda x: (x-media)**2).take(10)"
   ]
  },
  {
   "cell_type": "code",
   "execution_count": 12,
   "metadata": {},
   "outputs": [
    {
     "name": "stdout",
     "output_type": "stream",
     "text": [
      "+---------+-----+\n",
      "|DayOfWeek|count|\n",
      "+---------+-----+\n",
      "|        1|  996|\n",
      "|        6|  764|\n",
      "|        3| 1051|\n",
      "|        5| 1017|\n",
      "|        4| 1016|\n",
      "|        7|  921|\n",
      "|        2| 1037|\n",
      "+---------+-----+\n",
      "\n"
     ]
    }
   ],
   "source": [
    "df2.groupBy(\"DayOfWeek\").count().show()"
   ]
  },
  {
   "cell_type": "code",
   "execution_count": 14,
   "metadata": {},
   "outputs": [
    {
     "name": "stdout",
     "output_type": "stream",
     "text": [
      "+---------+------------------+\n",
      "|DayOfWeek|     avg(ArrDelay)|\n",
      "+---------+------------------+\n",
      "|        1| 7.833333333333333|\n",
      "|        6|3.9018324607329844|\n",
      "|        3| 6.902949571836347|\n",
      "|        5|10.731563421828909|\n",
      "|        4| 8.356299212598426|\n",
      "|        7|10.881650380021716|\n",
      "|        2|7.9662487945998075|\n",
      "+---------+------------------+\n",
      "\n"
     ]
    }
   ],
   "source": [
    "df2.groupBy(\"DayOfWeek\").mean(\"ArrDelay\").show()"
   ]
  },
  {
   "cell_type": "code",
   "execution_count": 17,
   "metadata": {},
   "outputs": [
    {
     "data": {
      "text/plain": [
       "[Row(Origin='PIT'),\n",
       " Row(Origin='FSM'),\n",
       " Row(Origin='SPI'),\n",
       " Row(Origin='SMF'),\n",
       " Row(Origin='DLH')]"
      ]
     },
     "execution_count": 17,
     "metadata": {},
     "output_type": "execute_result"
    }
   ],
   "source": [
    "df2.select(\"Origin\").rdd.distinct().take(5)"
   ]
  },
  {
   "cell_type": "code",
   "execution_count": null,
   "metadata": {},
   "outputs": [],
   "source": [
    "df2.select(\"Origin\").rdd.distinct().count()"
   ]
  },
  {
   "cell_type": "code",
   "execution_count": null,
   "metadata": {},
   "outputs": [],
   "source": []
  },
  {
   "cell_type": "code",
   "execution_count": null,
   "metadata": {},
   "outputs": [],
   "source": []
  },
  {
   "cell_type": "code",
   "execution_count": null,
   "metadata": {},
   "outputs": [],
   "source": []
  },
  {
   "cell_type": "code",
   "execution_count": null,
   "metadata": {},
   "outputs": [],
   "source": []
  }
 ],
 "metadata": {
  "kernelspec": {
   "display_name": "Python 3",
   "language": "python",
   "name": "python3"
  },
  "language_info": {
   "codemirror_mode": {
    "name": "ipython",
    "version": 3
   },
   "file_extension": ".py",
   "mimetype": "text/x-python",
   "name": "python",
   "nbconvert_exporter": "python",
   "pygments_lexer": "ipython3",
   "version": "3.8.5"
  }
 },
 "nbformat": 4,
 "nbformat_minor": 4
}
