{
 "cells": [
  {
   "cell_type": "code",
   "execution_count": 1,
   "metadata": {},
   "outputs": [],
   "source": [
    "import pandas as pd\n",
    "import seaborn as sns\n",
    "import numpy as np"
   ]
  },
  {
   "cell_type": "markdown",
   "metadata": {},
   "source": [
    "# Preprocessing data"
   ]
  },
  {
   "cell_type": "code",
   "execution_count": 2,
   "metadata": {},
   "outputs": [
    {
     "data": {
      "text/html": [
       "<div>\n",
       "<style scoped>\n",
       "    .dataframe tbody tr th:only-of-type {\n",
       "        vertical-align: middle;\n",
       "    }\n",
       "\n",
       "    .dataframe tbody tr th {\n",
       "        vertical-align: top;\n",
       "    }\n",
       "\n",
       "    .dataframe thead th {\n",
       "        text-align: right;\n",
       "    }\n",
       "</style>\n",
       "<table border=\"1\" class=\"dataframe\">\n",
       "  <thead>\n",
       "    <tr style=\"text-align: right;\">\n",
       "      <th></th>\n",
       "      <th>price</th>\n",
       "      <th>crime_rate</th>\n",
       "      <th>resid_area</th>\n",
       "      <th>air_qual</th>\n",
       "      <th>room_num</th>\n",
       "      <th>age</th>\n",
       "      <th>dist1</th>\n",
       "      <th>dist2</th>\n",
       "      <th>dist3</th>\n",
       "      <th>dist4</th>\n",
       "      <th>teachers</th>\n",
       "      <th>poor_prop</th>\n",
       "      <th>airport</th>\n",
       "      <th>n_hos_beds</th>\n",
       "      <th>n_hot_rooms</th>\n",
       "      <th>waterbody</th>\n",
       "      <th>rainfall</th>\n",
       "      <th>bus_ter</th>\n",
       "      <th>parks</th>\n",
       "    </tr>\n",
       "  </thead>\n",
       "  <tbody>\n",
       "    <tr>\n",
       "      <th>0</th>\n",
       "      <td>24.0</td>\n",
       "      <td>0.00632</td>\n",
       "      <td>32.31</td>\n",
       "      <td>0.538</td>\n",
       "      <td>6.575</td>\n",
       "      <td>65.2</td>\n",
       "      <td>4.35</td>\n",
       "      <td>3.81</td>\n",
       "      <td>4.18</td>\n",
       "      <td>4.01</td>\n",
       "      <td>24.7</td>\n",
       "      <td>4.98</td>\n",
       "      <td>YES</td>\n",
       "      <td>5.480</td>\n",
       "      <td>11.1920</td>\n",
       "      <td>River</td>\n",
       "      <td>23</td>\n",
       "      <td>YES</td>\n",
       "      <td>0.049347</td>\n",
       "    </tr>\n",
       "    <tr>\n",
       "      <th>1</th>\n",
       "      <td>21.6</td>\n",
       "      <td>0.02731</td>\n",
       "      <td>37.07</td>\n",
       "      <td>0.469</td>\n",
       "      <td>6.421</td>\n",
       "      <td>78.9</td>\n",
       "      <td>4.99</td>\n",
       "      <td>4.70</td>\n",
       "      <td>5.12</td>\n",
       "      <td>5.06</td>\n",
       "      <td>22.2</td>\n",
       "      <td>9.14</td>\n",
       "      <td>NO</td>\n",
       "      <td>7.332</td>\n",
       "      <td>12.1728</td>\n",
       "      <td>Lake</td>\n",
       "      <td>42</td>\n",
       "      <td>YES</td>\n",
       "      <td>0.046146</td>\n",
       "    </tr>\n",
       "    <tr>\n",
       "      <th>2</th>\n",
       "      <td>34.7</td>\n",
       "      <td>0.02729</td>\n",
       "      <td>37.07</td>\n",
       "      <td>0.469</td>\n",
       "      <td>7.185</td>\n",
       "      <td>61.1</td>\n",
       "      <td>5.03</td>\n",
       "      <td>4.86</td>\n",
       "      <td>5.01</td>\n",
       "      <td>4.97</td>\n",
       "      <td>22.2</td>\n",
       "      <td>4.03</td>\n",
       "      <td>NO</td>\n",
       "      <td>7.394</td>\n",
       "      <td>101.1200</td>\n",
       "      <td>None</td>\n",
       "      <td>38</td>\n",
       "      <td>YES</td>\n",
       "      <td>0.045764</td>\n",
       "    </tr>\n",
       "    <tr>\n",
       "      <th>3</th>\n",
       "      <td>33.4</td>\n",
       "      <td>0.03237</td>\n",
       "      <td>32.18</td>\n",
       "      <td>0.458</td>\n",
       "      <td>6.998</td>\n",
       "      <td>45.8</td>\n",
       "      <td>6.21</td>\n",
       "      <td>5.93</td>\n",
       "      <td>6.16</td>\n",
       "      <td>5.96</td>\n",
       "      <td>21.3</td>\n",
       "      <td>2.94</td>\n",
       "      <td>YES</td>\n",
       "      <td>9.268</td>\n",
       "      <td>11.2672</td>\n",
       "      <td>Lake</td>\n",
       "      <td>45</td>\n",
       "      <td>YES</td>\n",
       "      <td>0.047151</td>\n",
       "    </tr>\n",
       "    <tr>\n",
       "      <th>4</th>\n",
       "      <td>36.2</td>\n",
       "      <td>0.06905</td>\n",
       "      <td>32.18</td>\n",
       "      <td>0.458</td>\n",
       "      <td>7.147</td>\n",
       "      <td>54.2</td>\n",
       "      <td>6.16</td>\n",
       "      <td>5.86</td>\n",
       "      <td>6.37</td>\n",
       "      <td>5.86</td>\n",
       "      <td>21.3</td>\n",
       "      <td>5.33</td>\n",
       "      <td>NO</td>\n",
       "      <td>8.824</td>\n",
       "      <td>11.2896</td>\n",
       "      <td>Lake</td>\n",
       "      <td>55</td>\n",
       "      <td>YES</td>\n",
       "      <td>0.039474</td>\n",
       "    </tr>\n",
       "  </tbody>\n",
       "</table>\n",
       "</div>"
      ],
      "text/plain": [
       "   price  crime_rate  resid_area  air_qual  room_num   age  dist1  dist2  \\\n",
       "0   24.0     0.00632       32.31     0.538     6.575  65.2   4.35   3.81   \n",
       "1   21.6     0.02731       37.07     0.469     6.421  78.9   4.99   4.70   \n",
       "2   34.7     0.02729       37.07     0.469     7.185  61.1   5.03   4.86   \n",
       "3   33.4     0.03237       32.18     0.458     6.998  45.8   6.21   5.93   \n",
       "4   36.2     0.06905       32.18     0.458     7.147  54.2   6.16   5.86   \n",
       "\n",
       "   dist3  dist4  teachers  poor_prop airport  n_hos_beds  n_hot_rooms  \\\n",
       "0   4.18   4.01      24.7       4.98     YES       5.480      11.1920   \n",
       "1   5.12   5.06      22.2       9.14      NO       7.332      12.1728   \n",
       "2   5.01   4.97      22.2       4.03      NO       7.394     101.1200   \n",
       "3   6.16   5.96      21.3       2.94     YES       9.268      11.2672   \n",
       "4   6.37   5.86      21.3       5.33      NO       8.824      11.2896   \n",
       "\n",
       "  waterbody  rainfall bus_ter     parks  \n",
       "0     River        23     YES  0.049347  \n",
       "1      Lake        42     YES  0.046146  \n",
       "2      None        38     YES  0.045764  \n",
       "3      Lake        45     YES  0.047151  \n",
       "4      Lake        55     YES  0.039474  "
      ]
     },
     "execution_count": 2,
     "metadata": {},
     "output_type": "execute_result"
    }
   ],
   "source": [
    "df = pd.read_csv(\"c:/Users/lucho/Desktop/Programacion/Python/Github/100DaysOfCode/Machine_Learning_Python_R/Data Files/1. ST Academy - Crash course and Regression files/House_price.csv\")\n",
    "df.head()"
   ]
  },
  {
   "cell_type": "code",
   "execution_count": 3,
   "metadata": {},
   "outputs": [
    {
     "data": {
      "text/plain": [
       "(506, 19)"
      ]
     },
     "execution_count": 3,
     "metadata": {},
     "output_type": "execute_result"
    }
   ],
   "source": [
    "df.shape"
   ]
  },
  {
   "cell_type": "markdown",
   "metadata": {},
   "source": [
    "# EDD to describe data"
   ]
  },
  {
   "cell_type": "code",
   "execution_count": 4,
   "metadata": {},
   "outputs": [
    {
     "data": {
      "text/html": [
       "<div>\n",
       "<style scoped>\n",
       "    .dataframe tbody tr th:only-of-type {\n",
       "        vertical-align: middle;\n",
       "    }\n",
       "\n",
       "    .dataframe tbody tr th {\n",
       "        vertical-align: top;\n",
       "    }\n",
       "\n",
       "    .dataframe thead th {\n",
       "        text-align: right;\n",
       "    }\n",
       "</style>\n",
       "<table border=\"1\" class=\"dataframe\">\n",
       "  <thead>\n",
       "    <tr style=\"text-align: right;\">\n",
       "      <th></th>\n",
       "      <th>price</th>\n",
       "      <th>crime_rate</th>\n",
       "      <th>resid_area</th>\n",
       "      <th>air_qual</th>\n",
       "      <th>room_num</th>\n",
       "      <th>age</th>\n",
       "      <th>dist1</th>\n",
       "      <th>dist2</th>\n",
       "      <th>dist3</th>\n",
       "      <th>dist4</th>\n",
       "      <th>teachers</th>\n",
       "      <th>poor_prop</th>\n",
       "      <th>n_hos_beds</th>\n",
       "      <th>n_hot_rooms</th>\n",
       "      <th>rainfall</th>\n",
       "      <th>parks</th>\n",
       "    </tr>\n",
       "  </thead>\n",
       "  <tbody>\n",
       "    <tr>\n",
       "      <th>count</th>\n",
       "      <td>506.000000</td>\n",
       "      <td>506.000000</td>\n",
       "      <td>506.000000</td>\n",
       "      <td>506.000000</td>\n",
       "      <td>506.000000</td>\n",
       "      <td>506.000000</td>\n",
       "      <td>506.000000</td>\n",
       "      <td>506.000000</td>\n",
       "      <td>506.000000</td>\n",
       "      <td>506.000000</td>\n",
       "      <td>506.000000</td>\n",
       "      <td>506.000000</td>\n",
       "      <td>498.000000</td>\n",
       "      <td>506.000000</td>\n",
       "      <td>506.000000</td>\n",
       "      <td>506.000000</td>\n",
       "    </tr>\n",
       "    <tr>\n",
       "      <th>mean</th>\n",
       "      <td>22.528854</td>\n",
       "      <td>3.613524</td>\n",
       "      <td>41.136779</td>\n",
       "      <td>0.554695</td>\n",
       "      <td>6.284634</td>\n",
       "      <td>68.574901</td>\n",
       "      <td>3.971996</td>\n",
       "      <td>3.628775</td>\n",
       "      <td>3.960672</td>\n",
       "      <td>3.618972</td>\n",
       "      <td>21.544466</td>\n",
       "      <td>12.653063</td>\n",
       "      <td>7.899767</td>\n",
       "      <td>13.041605</td>\n",
       "      <td>39.181818</td>\n",
       "      <td>0.054454</td>\n",
       "    </tr>\n",
       "    <tr>\n",
       "      <th>std</th>\n",
       "      <td>9.182176</td>\n",
       "      <td>8.601545</td>\n",
       "      <td>6.860353</td>\n",
       "      <td>0.115878</td>\n",
       "      <td>0.702617</td>\n",
       "      <td>28.148861</td>\n",
       "      <td>2.108532</td>\n",
       "      <td>2.108580</td>\n",
       "      <td>2.119797</td>\n",
       "      <td>2.099203</td>\n",
       "      <td>2.164946</td>\n",
       "      <td>7.141062</td>\n",
       "      <td>1.476683</td>\n",
       "      <td>5.238957</td>\n",
       "      <td>12.513697</td>\n",
       "      <td>0.010632</td>\n",
       "    </tr>\n",
       "    <tr>\n",
       "      <th>min</th>\n",
       "      <td>5.000000</td>\n",
       "      <td>0.006320</td>\n",
       "      <td>30.460000</td>\n",
       "      <td>0.385000</td>\n",
       "      <td>3.561000</td>\n",
       "      <td>2.900000</td>\n",
       "      <td>1.130000</td>\n",
       "      <td>0.920000</td>\n",
       "      <td>1.150000</td>\n",
       "      <td>0.730000</td>\n",
       "      <td>18.000000</td>\n",
       "      <td>1.730000</td>\n",
       "      <td>5.268000</td>\n",
       "      <td>10.057600</td>\n",
       "      <td>3.000000</td>\n",
       "      <td>0.033292</td>\n",
       "    </tr>\n",
       "    <tr>\n",
       "      <th>25%</th>\n",
       "      <td>17.025000</td>\n",
       "      <td>0.082045</td>\n",
       "      <td>35.190000</td>\n",
       "      <td>0.449000</td>\n",
       "      <td>5.885500</td>\n",
       "      <td>45.025000</td>\n",
       "      <td>2.270000</td>\n",
       "      <td>1.940000</td>\n",
       "      <td>2.232500</td>\n",
       "      <td>1.940000</td>\n",
       "      <td>19.800000</td>\n",
       "      <td>6.950000</td>\n",
       "      <td>6.634500</td>\n",
       "      <td>11.189800</td>\n",
       "      <td>28.000000</td>\n",
       "      <td>0.046464</td>\n",
       "    </tr>\n",
       "    <tr>\n",
       "      <th>50%</th>\n",
       "      <td>21.200000</td>\n",
       "      <td>0.256510</td>\n",
       "      <td>39.690000</td>\n",
       "      <td>0.538000</td>\n",
       "      <td>6.208500</td>\n",
       "      <td>77.500000</td>\n",
       "      <td>3.385000</td>\n",
       "      <td>3.010000</td>\n",
       "      <td>3.375000</td>\n",
       "      <td>3.070000</td>\n",
       "      <td>20.950000</td>\n",
       "      <td>11.360000</td>\n",
       "      <td>7.999000</td>\n",
       "      <td>12.720000</td>\n",
       "      <td>39.000000</td>\n",
       "      <td>0.053507</td>\n",
       "    </tr>\n",
       "    <tr>\n",
       "      <th>75%</th>\n",
       "      <td>25.000000</td>\n",
       "      <td>3.677082</td>\n",
       "      <td>48.100000</td>\n",
       "      <td>0.624000</td>\n",
       "      <td>6.623500</td>\n",
       "      <td>94.075000</td>\n",
       "      <td>5.367500</td>\n",
       "      <td>4.992500</td>\n",
       "      <td>5.407500</td>\n",
       "      <td>4.985000</td>\n",
       "      <td>22.600000</td>\n",
       "      <td>16.955000</td>\n",
       "      <td>9.088000</td>\n",
       "      <td>14.170800</td>\n",
       "      <td>50.000000</td>\n",
       "      <td>0.061397</td>\n",
       "    </tr>\n",
       "    <tr>\n",
       "      <th>max</th>\n",
       "      <td>50.000000</td>\n",
       "      <td>88.976200</td>\n",
       "      <td>57.740000</td>\n",
       "      <td>0.871000</td>\n",
       "      <td>8.780000</td>\n",
       "      <td>100.000000</td>\n",
       "      <td>12.320000</td>\n",
       "      <td>11.930000</td>\n",
       "      <td>12.320000</td>\n",
       "      <td>11.940000</td>\n",
       "      <td>27.400000</td>\n",
       "      <td>37.970000</td>\n",
       "      <td>10.876000</td>\n",
       "      <td>101.120000</td>\n",
       "      <td>60.000000</td>\n",
       "      <td>0.086711</td>\n",
       "    </tr>\n",
       "  </tbody>\n",
       "</table>\n",
       "</div>"
      ],
      "text/plain": [
       "            price  crime_rate  resid_area    air_qual    room_num         age  \\\n",
       "count  506.000000  506.000000  506.000000  506.000000  506.000000  506.000000   \n",
       "mean    22.528854    3.613524   41.136779    0.554695    6.284634   68.574901   \n",
       "std      9.182176    8.601545    6.860353    0.115878    0.702617   28.148861   \n",
       "min      5.000000    0.006320   30.460000    0.385000    3.561000    2.900000   \n",
       "25%     17.025000    0.082045   35.190000    0.449000    5.885500   45.025000   \n",
       "50%     21.200000    0.256510   39.690000    0.538000    6.208500   77.500000   \n",
       "75%     25.000000    3.677082   48.100000    0.624000    6.623500   94.075000   \n",
       "max     50.000000   88.976200   57.740000    0.871000    8.780000  100.000000   \n",
       "\n",
       "            dist1       dist2       dist3       dist4    teachers   poor_prop  \\\n",
       "count  506.000000  506.000000  506.000000  506.000000  506.000000  506.000000   \n",
       "mean     3.971996    3.628775    3.960672    3.618972   21.544466   12.653063   \n",
       "std      2.108532    2.108580    2.119797    2.099203    2.164946    7.141062   \n",
       "min      1.130000    0.920000    1.150000    0.730000   18.000000    1.730000   \n",
       "25%      2.270000    1.940000    2.232500    1.940000   19.800000    6.950000   \n",
       "50%      3.385000    3.010000    3.375000    3.070000   20.950000   11.360000   \n",
       "75%      5.367500    4.992500    5.407500    4.985000   22.600000   16.955000   \n",
       "max     12.320000   11.930000   12.320000   11.940000   27.400000   37.970000   \n",
       "\n",
       "       n_hos_beds  n_hot_rooms    rainfall       parks  \n",
       "count  498.000000   506.000000  506.000000  506.000000  \n",
       "mean     7.899767    13.041605   39.181818    0.054454  \n",
       "std      1.476683     5.238957   12.513697    0.010632  \n",
       "min      5.268000    10.057600    3.000000    0.033292  \n",
       "25%      6.634500    11.189800   28.000000    0.046464  \n",
       "50%      7.999000    12.720000   39.000000    0.053507  \n",
       "75%      9.088000    14.170800   50.000000    0.061397  \n",
       "max     10.876000   101.120000   60.000000    0.086711  "
      ]
     },
     "execution_count": 4,
     "metadata": {},
     "output_type": "execute_result"
    }
   ],
   "source": [
    "df.describe()"
   ]
  },
  {
   "cell_type": "markdown",
   "metadata": {},
   "source": [
    "As we can see in the describing data we can know that:\n",
    "1. Data is missing in n_hot_rooms (We have 498.000000 and the others columns have 506.000000)\n",
    "2. Outliers in crime rate, n_hot_rooms and rainfall"
   ]
  },
  {
   "cell_type": "markdown",
   "metadata": {},
   "source": [
    "# Remove the column that is usseless"
   ]
  },
  {
   "cell_type": "code",
   "execution_count": 5,
   "metadata": {},
   "outputs": [
    {
     "data": {
      "text/plain": [
       "0      YES\n",
       "1      YES\n",
       "2      YES\n",
       "3      YES\n",
       "4      YES\n",
       "      ... \n",
       "501    YES\n",
       "502    YES\n",
       "503    YES\n",
       "504    YES\n",
       "505    YES\n",
       "Name: bus_ter, Length: 506, dtype: object"
      ]
     },
     "execution_count": 5,
     "metadata": {},
     "output_type": "execute_result"
    }
   ],
   "source": [
    "df.pop(\"bus_ter\")"
   ]
  },
  {
   "cell_type": "code",
   "execution_count": 6,
   "metadata": {},
   "outputs": [
    {
     "data": {
      "text/html": [
       "<div>\n",
       "<style scoped>\n",
       "    .dataframe tbody tr th:only-of-type {\n",
       "        vertical-align: middle;\n",
       "    }\n",
       "\n",
       "    .dataframe tbody tr th {\n",
       "        vertical-align: top;\n",
       "    }\n",
       "\n",
       "    .dataframe thead th {\n",
       "        text-align: right;\n",
       "    }\n",
       "</style>\n",
       "<table border=\"1\" class=\"dataframe\">\n",
       "  <thead>\n",
       "    <tr style=\"text-align: right;\">\n",
       "      <th></th>\n",
       "      <th>price</th>\n",
       "      <th>crime_rate</th>\n",
       "      <th>resid_area</th>\n",
       "      <th>air_qual</th>\n",
       "      <th>room_num</th>\n",
       "      <th>age</th>\n",
       "      <th>dist1</th>\n",
       "      <th>dist2</th>\n",
       "      <th>dist3</th>\n",
       "      <th>dist4</th>\n",
       "      <th>teachers</th>\n",
       "      <th>poor_prop</th>\n",
       "      <th>airport</th>\n",
       "      <th>n_hos_beds</th>\n",
       "      <th>n_hot_rooms</th>\n",
       "      <th>waterbody</th>\n",
       "      <th>rainfall</th>\n",
       "      <th>parks</th>\n",
       "    </tr>\n",
       "  </thead>\n",
       "  <tbody>\n",
       "    <tr>\n",
       "      <th>0</th>\n",
       "      <td>24.0</td>\n",
       "      <td>0.00632</td>\n",
       "      <td>32.31</td>\n",
       "      <td>0.538</td>\n",
       "      <td>6.575</td>\n",
       "      <td>65.2</td>\n",
       "      <td>4.35</td>\n",
       "      <td>3.81</td>\n",
       "      <td>4.18</td>\n",
       "      <td>4.01</td>\n",
       "      <td>24.7</td>\n",
       "      <td>4.98</td>\n",
       "      <td>YES</td>\n",
       "      <td>5.480</td>\n",
       "      <td>11.1920</td>\n",
       "      <td>River</td>\n",
       "      <td>23</td>\n",
       "      <td>0.049347</td>\n",
       "    </tr>\n",
       "    <tr>\n",
       "      <th>1</th>\n",
       "      <td>21.6</td>\n",
       "      <td>0.02731</td>\n",
       "      <td>37.07</td>\n",
       "      <td>0.469</td>\n",
       "      <td>6.421</td>\n",
       "      <td>78.9</td>\n",
       "      <td>4.99</td>\n",
       "      <td>4.70</td>\n",
       "      <td>5.12</td>\n",
       "      <td>5.06</td>\n",
       "      <td>22.2</td>\n",
       "      <td>9.14</td>\n",
       "      <td>NO</td>\n",
       "      <td>7.332</td>\n",
       "      <td>12.1728</td>\n",
       "      <td>Lake</td>\n",
       "      <td>42</td>\n",
       "      <td>0.046146</td>\n",
       "    </tr>\n",
       "    <tr>\n",
       "      <th>2</th>\n",
       "      <td>34.7</td>\n",
       "      <td>0.02729</td>\n",
       "      <td>37.07</td>\n",
       "      <td>0.469</td>\n",
       "      <td>7.185</td>\n",
       "      <td>61.1</td>\n",
       "      <td>5.03</td>\n",
       "      <td>4.86</td>\n",
       "      <td>5.01</td>\n",
       "      <td>4.97</td>\n",
       "      <td>22.2</td>\n",
       "      <td>4.03</td>\n",
       "      <td>NO</td>\n",
       "      <td>7.394</td>\n",
       "      <td>101.1200</td>\n",
       "      <td>None</td>\n",
       "      <td>38</td>\n",
       "      <td>0.045764</td>\n",
       "    </tr>\n",
       "    <tr>\n",
       "      <th>3</th>\n",
       "      <td>33.4</td>\n",
       "      <td>0.03237</td>\n",
       "      <td>32.18</td>\n",
       "      <td>0.458</td>\n",
       "      <td>6.998</td>\n",
       "      <td>45.8</td>\n",
       "      <td>6.21</td>\n",
       "      <td>5.93</td>\n",
       "      <td>6.16</td>\n",
       "      <td>5.96</td>\n",
       "      <td>21.3</td>\n",
       "      <td>2.94</td>\n",
       "      <td>YES</td>\n",
       "      <td>9.268</td>\n",
       "      <td>11.2672</td>\n",
       "      <td>Lake</td>\n",
       "      <td>45</td>\n",
       "      <td>0.047151</td>\n",
       "    </tr>\n",
       "    <tr>\n",
       "      <th>4</th>\n",
       "      <td>36.2</td>\n",
       "      <td>0.06905</td>\n",
       "      <td>32.18</td>\n",
       "      <td>0.458</td>\n",
       "      <td>7.147</td>\n",
       "      <td>54.2</td>\n",
       "      <td>6.16</td>\n",
       "      <td>5.86</td>\n",
       "      <td>6.37</td>\n",
       "      <td>5.86</td>\n",
       "      <td>21.3</td>\n",
       "      <td>5.33</td>\n",
       "      <td>NO</td>\n",
       "      <td>8.824</td>\n",
       "      <td>11.2896</td>\n",
       "      <td>Lake</td>\n",
       "      <td>55</td>\n",
       "      <td>0.039474</td>\n",
       "    </tr>\n",
       "  </tbody>\n",
       "</table>\n",
       "</div>"
      ],
      "text/plain": [
       "   price  crime_rate  resid_area  air_qual  room_num   age  dist1  dist2  \\\n",
       "0   24.0     0.00632       32.31     0.538     6.575  65.2   4.35   3.81   \n",
       "1   21.6     0.02731       37.07     0.469     6.421  78.9   4.99   4.70   \n",
       "2   34.7     0.02729       37.07     0.469     7.185  61.1   5.03   4.86   \n",
       "3   33.4     0.03237       32.18     0.458     6.998  45.8   6.21   5.93   \n",
       "4   36.2     0.06905       32.18     0.458     7.147  54.2   6.16   5.86   \n",
       "\n",
       "   dist3  dist4  teachers  poor_prop airport  n_hos_beds  n_hot_rooms  \\\n",
       "0   4.18   4.01      24.7       4.98     YES       5.480      11.1920   \n",
       "1   5.12   5.06      22.2       9.14      NO       7.332      12.1728   \n",
       "2   5.01   4.97      22.2       4.03      NO       7.394     101.1200   \n",
       "3   6.16   5.96      21.3       2.94     YES       9.268      11.2672   \n",
       "4   6.37   5.86      21.3       5.33      NO       8.824      11.2896   \n",
       "\n",
       "  waterbody  rainfall     parks  \n",
       "0     River        23  0.049347  \n",
       "1      Lake        42  0.046146  \n",
       "2      None        38  0.045764  \n",
       "3      Lake        45  0.047151  \n",
       "4      Lake        55  0.039474  "
      ]
     },
     "execution_count": 6,
     "metadata": {},
     "output_type": "execute_result"
    }
   ],
   "source": [
    "df.head()"
   ]
  },
  {
   "cell_type": "markdown",
   "metadata": {},
   "source": [
    "# Outlier treatment"
   ]
  },
  {
   "cell_type": "markdown",
   "metadata": {},
   "source": [
    "### For the n_hot_rooms that has upper outlier"
   ]
  },
  {
   "cell_type": "code",
   "execution_count": 7,
   "metadata": {},
   "outputs": [
    {
     "data": {
      "text/plain": [
       "15.399519999999999"
      ]
     },
     "execution_count": 7,
     "metadata": {},
     "output_type": "execute_result"
    }
   ],
   "source": [
    "# Look the value of the 99 percentile of the all table\n",
    "np.percentile(df.n_hot_rooms,[99])[0]"
   ]
  },
  {
   "cell_type": "code",
   "execution_count": 8,
   "metadata": {},
   "outputs": [],
   "source": [
    "uv = np.percentile(df.n_hot_rooms,[99])[0]"
   ]
  },
  {
   "cell_type": "code",
   "execution_count": 9,
   "metadata": {},
   "outputs": [
    {
     "name": "stderr",
     "output_type": "stream",
     "text": [
      "<ipython-input-9-4b3cba27422b>:1: SettingWithCopyWarning: \n",
      "A value is trying to be set on a copy of a slice from a DataFrame\n",
      "\n",
      "See the caveats in the documentation: https://pandas.pydata.org/pandas-docs/stable/user_guide/indexing.html#returning-a-view-versus-a-copy\n",
      "  df.n_hot_rooms[(df.n_hot_rooms > 3*uv)] = 3*uv\n"
     ]
    }
   ],
   "source": [
    "df.n_hot_rooms[(df.n_hot_rooms > 3*uv)] = 3*uv"
   ]
  },
  {
   "cell_type": "markdown",
   "metadata": {},
   "source": [
    "### For the rainfalls that has under outlier"
   ]
  },
  {
   "cell_type": "code",
   "execution_count": 10,
   "metadata": {},
   "outputs": [
    {
     "data": {
      "text/plain": [
       "20.0"
      ]
     },
     "execution_count": 10,
     "metadata": {},
     "output_type": "execute_result"
    }
   ],
   "source": [
    "lv = np.percentile(df.rainfall,[1])[0]\n",
    "lv"
   ]
  },
  {
   "cell_type": "code",
   "execution_count": 11,
   "metadata": {},
   "outputs": [
    {
     "name": "stderr",
     "output_type": "stream",
     "text": [
      "<ipython-input-11-0dd828a01160>:1: SettingWithCopyWarning: \n",
      "A value is trying to be set on a copy of a slice from a DataFrame\n",
      "\n",
      "See the caveats in the documentation: https://pandas.pydata.org/pandas-docs/stable/user_guide/indexing.html#returning-a-view-versus-a-copy\n",
      "  df.rainfall[(df.rainfall < 0.3*lv)] = 0.3*lv\n"
     ]
    }
   ],
   "source": [
    "df.rainfall[(df.rainfall < 0.3*lv)] = 0.3*lv"
   ]
  },
  {
   "cell_type": "markdown",
   "metadata": {},
   "source": [
    "### For the rainfalls "
   ]
  },
  {
   "cell_type": "code",
   "execution_count": 12,
   "metadata": {},
   "outputs": [
    {
     "data": {
      "text/plain": [
       "<seaborn.axisgrid.JointGrid at 0x2627c203850>"
      ]
     },
     "execution_count": 12,
     "metadata": {},
     "output_type": "execute_result"
    },
    {
     "data": {
      "image/png": "[encoded data removed]",
      "text/plain": [
       "<Figure size 432x432 with 3 Axes>"
      ]
     },
     "metadata": {
      "needs_background": "light"
     },
     "output_type": "display_data"
    }
   ],
   "source": [
    "sns.jointplot(x = \"crime_rate\", y = \"price\", data = df)"
   ]
  },
  {
   "cell_type": "markdown",
   "metadata": {},
   "source": [
    "As we can see in the graph we have a relationship between this to variables and for that we can say that we dont have an outlier"
   ]
  },
  {
   "cell_type": "markdown",
   "metadata": {},
   "source": [
    "# Remove nulls values"
   ]
  },
  {
   "cell_type": "code",
   "execution_count": 13,
   "metadata": {},
   "outputs": [],
   "source": [
    "df.n_hos_beds = df.n_hos_beds.fillna(df.n_hos_beds.mean())"
   ]
  },
  {
   "cell_type": "markdown",
   "metadata": {},
   "source": [
    "We remove the missing values changing with the mean"
   ]
  },
  {
   "cell_type": "code",
   "execution_count": 14,
   "metadata": {},
   "outputs": [
    {
     "name": "stdout",
     "output_type": "stream",
     "text": [
      "<class 'pandas.core.frame.DataFrame'>\n",
      "RangeIndex: 506 entries, 0 to 505\n",
      "Data columns (total 18 columns):\n",
      " #   Column       Non-Null Count  Dtype  \n",
      "---  ------       --------------  -----  \n",
      " 0   price        506 non-null    float64\n",
      " 1   crime_rate   506 non-null    float64\n",
      " 2   resid_area   506 non-null    float64\n",
      " 3   air_qual     506 non-null    float64\n",
      " 4   room_num     506 non-null    float64\n",
      " 5   age          506 non-null    float64\n",
      " 6   dist1        506 non-null    float64\n",
      " 7   dist2        506 non-null    float64\n",
      " 8   dist3        506 non-null    float64\n",
      " 9   dist4        506 non-null    float64\n",
      " 10  teachers     506 non-null    float64\n",
      " 11  poor_prop    506 non-null    float64\n",
      " 12  airport      506 non-null    object \n",
      " 13  n_hos_beds   506 non-null    float64\n",
      " 14  n_hot_rooms  506 non-null    float64\n",
      " 15  waterbody    506 non-null    object \n",
      " 16  rainfall     506 non-null    int64  \n",
      " 17  parks        506 non-null    float64\n",
      "dtypes: float64(15), int64(1), object(2)\n",
      "memory usage: 71.3+ KB\n"
     ]
    }
   ],
   "source": [
    "df.info()"
   ]
  },
  {
   "cell_type": "markdown",
   "metadata": {},
   "source": [
    "# Varaible transformation"
   ]
  },
  {
   "cell_type": "markdown",
   "metadata": {},
   "source": [
    "## crime rate"
   ]
  },
  {
   "cell_type": "code",
   "execution_count": 15,
   "metadata": {},
   "outputs": [],
   "source": [
    "df.crime_rate = np.log(1+df.crime_rate)"
   ]
  },
  {
   "cell_type": "markdown",
   "metadata": {},
   "source": [
    "transform the data of crime rate to ajust for look more the relationship"
   ]
  },
  {
   "cell_type": "markdown",
   "metadata": {},
   "source": [
    "## Distance of employeement"
   ]
  },
  {
   "cell_type": "code",
   "execution_count": 16,
   "metadata": {},
   "outputs": [],
   "source": [
    "df[\"avg_dist\"] = (df.dist1+df.dist2+df.dist3+df.dist4)/4"
   ]
  },
  {
   "cell_type": "markdown",
   "metadata": {},
   "source": [
    "Create a new column with the distance mean of all 4 distance and delete de 4 columns of distance"
   ]
  },
  {
   "cell_type": "code",
   "execution_count": 17,
   "metadata": {},
   "outputs": [],
   "source": [
    "del df[\"dist1\"]\n",
    "del df[\"dist2\"]\n",
    "del df[\"dist3\"]\n",
    "del df[\"dist4\"]"
   ]
  },
  {
   "cell_type": "markdown",
   "metadata": {},
   "source": [
    "# Dummy variables"
   ]
  },
  {
   "cell_type": "markdown",
   "metadata": {},
   "source": [
    "### Airport (2 categories) and Waterbody(4 categories)"
   ]
  },
  {
   "cell_type": "code",
   "execution_count": 18,
   "metadata": {},
   "outputs": [],
   "source": [
    "df = pd.get_dummies(df)"
   ]
  },
  {
   "cell_type": "code",
   "execution_count": 19,
   "metadata": {},
   "outputs": [],
   "source": [
    "del df[\"airport_NO\"]"
   ]
  },
  {
   "cell_type": "code",
   "execution_count": 20,
   "metadata": {},
   "outputs": [],
   "source": [
    "del df[\"waterbody_None\"]"
   ]
  },
  {
   "cell_type": "markdown",
   "metadata": {},
   "source": [
    "# Correlation matrix"
   ]
  },
  {
   "cell_type": "code",
   "execution_count": 21,
   "metadata": {},
   "outputs": [
    {
     "data": {
      "text/html": [
       "<div>\n",
       "<style scoped>\n",
       "    .dataframe tbody tr th:only-of-type {\n",
       "        vertical-align: middle;\n",
       "    }\n",
       "\n",
       "    .dataframe tbody tr th {\n",
       "        vertical-align: top;\n",
       "    }\n",
       "\n",
       "    .dataframe thead th {\n",
       "        text-align: right;\n",
       "    }\n",
       "</style>\n",
       "<table border=\"1\" class=\"dataframe\">\n",
       "  <thead>\n",
       "    <tr style=\"text-align: right;\">\n",
       "      <th></th>\n",
       "      <th>price</th>\n",
       "      <th>crime_rate</th>\n",
       "      <th>resid_area</th>\n",
       "      <th>air_qual</th>\n",
       "      <th>room_num</th>\n",
       "      <th>age</th>\n",
       "      <th>teachers</th>\n",
       "      <th>poor_prop</th>\n",
       "      <th>n_hos_beds</th>\n",
       "      <th>n_hot_rooms</th>\n",
       "      <th>rainfall</th>\n",
       "      <th>parks</th>\n",
       "      <th>avg_dist</th>\n",
       "      <th>airport_YES</th>\n",
       "      <th>waterbody_Lake</th>\n",
       "      <th>waterbody_Lake and River</th>\n",
       "      <th>waterbody_River</th>\n",
       "    </tr>\n",
       "  </thead>\n",
       "  <tbody>\n",
       "    <tr>\n",
       "      <th>price</th>\n",
       "      <td>1.000000</td>\n",
       "      <td>-0.466527</td>\n",
       "      <td>-0.484754</td>\n",
       "      <td>-0.429300</td>\n",
       "      <td>0.696304</td>\n",
       "      <td>-0.377999</td>\n",
       "      <td>0.505655</td>\n",
       "      <td>-0.740836</td>\n",
       "      <td>0.108880</td>\n",
       "      <td>0.017007</td>\n",
       "      <td>-0.047200</td>\n",
       "      <td>-0.391574</td>\n",
       "      <td>0.249289</td>\n",
       "      <td>0.182867</td>\n",
       "      <td>0.036233</td>\n",
       "      <td>-0.037497</td>\n",
       "      <td>0.071751</td>\n",
       "    </tr>\n",
       "    <tr>\n",
       "      <th>crime_rate</th>\n",
       "      <td>-0.466527</td>\n",
       "      <td>1.000000</td>\n",
       "      <td>0.660283</td>\n",
       "      <td>0.707587</td>\n",
       "      <td>-0.288784</td>\n",
       "      <td>0.559591</td>\n",
       "      <td>-0.390052</td>\n",
       "      <td>0.608970</td>\n",
       "      <td>-0.004089</td>\n",
       "      <td>0.056570</td>\n",
       "      <td>0.082151</td>\n",
       "      <td>0.638951</td>\n",
       "      <td>-0.586371</td>\n",
       "      <td>-0.134486</td>\n",
       "      <td>-0.025390</td>\n",
       "      <td>0.009076</td>\n",
       "      <td>-0.060099</td>\n",
       "    </tr>\n",
       "    <tr>\n",
       "      <th>resid_area</th>\n",
       "      <td>-0.484754</td>\n",
       "      <td>0.660283</td>\n",
       "      <td>1.000000</td>\n",
       "      <td>0.763651</td>\n",
       "      <td>-0.391676</td>\n",
       "      <td>0.644779</td>\n",
       "      <td>-0.383248</td>\n",
       "      <td>0.603800</td>\n",
       "      <td>0.005799</td>\n",
       "      <td>-0.003761</td>\n",
       "      <td>0.055845</td>\n",
       "      <td>0.707635</td>\n",
       "      <td>-0.708022</td>\n",
       "      <td>-0.115401</td>\n",
       "      <td>-0.026590</td>\n",
       "      <td>0.051649</td>\n",
       "      <td>-0.098976</td>\n",
       "    </tr>\n",
       "    <tr>\n",
       "      <th>air_qual</th>\n",
       "      <td>-0.429300</td>\n",
       "      <td>0.707587</td>\n",
       "      <td>0.763651</td>\n",
       "      <td>1.000000</td>\n",
       "      <td>-0.302188</td>\n",
       "      <td>0.731470</td>\n",
       "      <td>-0.188933</td>\n",
       "      <td>0.590879</td>\n",
       "      <td>-0.049553</td>\n",
       "      <td>0.007238</td>\n",
       "      <td>0.091956</td>\n",
       "      <td>0.915544</td>\n",
       "      <td>-0.769247</td>\n",
       "      <td>-0.073903</td>\n",
       "      <td>-0.046393</td>\n",
       "      <td>0.013849</td>\n",
       "      <td>-0.037772</td>\n",
       "    </tr>\n",
       "    <tr>\n",
       "      <th>room_num</th>\n",
       "      <td>0.696304</td>\n",
       "      <td>-0.288784</td>\n",
       "      <td>-0.391676</td>\n",
       "      <td>-0.302188</td>\n",
       "      <td>1.000000</td>\n",
       "      <td>-0.240265</td>\n",
       "      <td>0.355501</td>\n",
       "      <td>-0.613808</td>\n",
       "      <td>0.032009</td>\n",
       "      <td>0.014583</td>\n",
       "      <td>-0.064718</td>\n",
       "      <td>-0.282817</td>\n",
       "      <td>0.205241</td>\n",
       "      <td>0.163774</td>\n",
       "      <td>-0.004195</td>\n",
       "      <td>0.010554</td>\n",
       "      <td>0.046251</td>\n",
       "    </tr>\n",
       "    <tr>\n",
       "      <th>age</th>\n",
       "      <td>-0.377999</td>\n",
       "      <td>0.559591</td>\n",
       "      <td>0.644779</td>\n",
       "      <td>0.731470</td>\n",
       "      <td>-0.240265</td>\n",
       "      <td>1.000000</td>\n",
       "      <td>-0.261515</td>\n",
       "      <td>0.602339</td>\n",
       "      <td>-0.021012</td>\n",
       "      <td>0.013918</td>\n",
       "      <td>0.074684</td>\n",
       "      <td>0.673850</td>\n",
       "      <td>-0.747906</td>\n",
       "      <td>0.005101</td>\n",
       "      <td>0.003452</td>\n",
       "      <td>-0.004354</td>\n",
       "      <td>-0.088609</td>\n",
       "    </tr>\n",
       "    <tr>\n",
       "      <th>teachers</th>\n",
       "      <td>0.505655</td>\n",
       "      <td>-0.390052</td>\n",
       "      <td>-0.383248</td>\n",
       "      <td>-0.188933</td>\n",
       "      <td>0.355501</td>\n",
       "      <td>-0.261515</td>\n",
       "      <td>1.000000</td>\n",
       "      <td>-0.374044</td>\n",
       "      <td>-0.008056</td>\n",
       "      <td>-0.037007</td>\n",
       "      <td>-0.045928</td>\n",
       "      <td>-0.187004</td>\n",
       "      <td>0.232452</td>\n",
       "      <td>0.069437</td>\n",
       "      <td>0.048717</td>\n",
       "      <td>-0.046981</td>\n",
       "      <td>0.094256</td>\n",
       "    </tr>\n",
       "    <tr>\n",
       "      <th>poor_prop</th>\n",
       "      <td>-0.740836</td>\n",
       "      <td>0.608970</td>\n",
       "      <td>0.603800</td>\n",
       "      <td>0.590879</td>\n",
       "      <td>-0.613808</td>\n",
       "      <td>0.602339</td>\n",
       "      <td>-0.374044</td>\n",
       "      <td>1.000000</td>\n",
       "      <td>-0.066008</td>\n",
       "      <td>0.017036</td>\n",
       "      <td>0.061444</td>\n",
       "      <td>0.552310</td>\n",
       "      <td>-0.496967</td>\n",
       "      <td>-0.095054</td>\n",
       "      <td>0.003197</td>\n",
       "      <td>0.020620</td>\n",
       "      <td>-0.109004</td>\n",
       "    </tr>\n",
       "    <tr>\n",
       "      <th>n_hos_beds</th>\n",
       "      <td>0.108880</td>\n",
       "      <td>-0.004089</td>\n",
       "      <td>0.005799</td>\n",
       "      <td>-0.049553</td>\n",
       "      <td>0.032009</td>\n",
       "      <td>-0.021012</td>\n",
       "      <td>-0.008056</td>\n",
       "      <td>-0.066008</td>\n",
       "      <td>1.000000</td>\n",
       "      <td>-0.003130</td>\n",
       "      <td>0.058596</td>\n",
       "      <td>-0.071272</td>\n",
       "      <td>-0.027871</td>\n",
       "      <td>-0.006365</td>\n",
       "      <td>0.042278</td>\n",
       "      <td>0.059482</td>\n",
       "      <td>-0.074148</td>\n",
       "    </tr>\n",
       "    <tr>\n",
       "      <th>n_hot_rooms</th>\n",
       "      <td>0.017007</td>\n",
       "      <td>0.056570</td>\n",
       "      <td>-0.003761</td>\n",
       "      <td>0.007238</td>\n",
       "      <td>0.014583</td>\n",
       "      <td>0.013918</td>\n",
       "      <td>-0.037007</td>\n",
       "      <td>0.017036</td>\n",
       "      <td>-0.003130</td>\n",
       "      <td>1.000000</td>\n",
       "      <td>0.014869</td>\n",
       "      <td>0.023757</td>\n",
       "      <td>-0.020700</td>\n",
       "      <td>-0.055338</td>\n",
       "      <td>0.037925</td>\n",
       "      <td>0.014755</td>\n",
       "      <td>-0.064096</td>\n",
       "    </tr>\n",
       "    <tr>\n",
       "      <th>rainfall</th>\n",
       "      <td>-0.047200</td>\n",
       "      <td>0.082151</td>\n",
       "      <td>0.055845</td>\n",
       "      <td>0.091956</td>\n",
       "      <td>-0.064718</td>\n",
       "      <td>0.074684</td>\n",
       "      <td>-0.045928</td>\n",
       "      <td>0.061444</td>\n",
       "      <td>0.058596</td>\n",
       "      <td>0.014869</td>\n",
       "      <td>1.000000</td>\n",
       "      <td>0.078278</td>\n",
       "      <td>-0.037285</td>\n",
       "      <td>-0.013171</td>\n",
       "      <td>-0.016170</td>\n",
       "      <td>0.109234</td>\n",
       "      <td>-0.037016</td>\n",
       "    </tr>\n",
       "    <tr>\n",
       "      <th>parks</th>\n",
       "      <td>-0.391574</td>\n",
       "      <td>0.638951</td>\n",
       "      <td>0.707635</td>\n",
       "      <td>0.915544</td>\n",
       "      <td>-0.282817</td>\n",
       "      <td>0.673850</td>\n",
       "      <td>-0.187004</td>\n",
       "      <td>0.552310</td>\n",
       "      <td>-0.071272</td>\n",
       "      <td>0.023757</td>\n",
       "      <td>0.078278</td>\n",
       "      <td>1.000000</td>\n",
       "      <td>-0.707924</td>\n",
       "      <td>-0.052503</td>\n",
       "      <td>-0.034991</td>\n",
       "      <td>0.013265</td>\n",
       "      <td>-0.048862</td>\n",
       "    </tr>\n",
       "    <tr>\n",
       "      <th>avg_dist</th>\n",
       "      <td>0.249289</td>\n",
       "      <td>-0.586371</td>\n",
       "      <td>-0.708022</td>\n",
       "      <td>-0.769247</td>\n",
       "      <td>0.205241</td>\n",
       "      <td>-0.747906</td>\n",
       "      <td>0.232452</td>\n",
       "      <td>-0.496967</td>\n",
       "      <td>-0.027871</td>\n",
       "      <td>-0.020700</td>\n",
       "      <td>-0.037285</td>\n",
       "      <td>-0.707924</td>\n",
       "      <td>1.000000</td>\n",
       "      <td>0.021402</td>\n",
       "      <td>0.034890</td>\n",
       "      <td>-0.021320</td>\n",
       "      <td>0.032247</td>\n",
       "    </tr>\n",
       "    <tr>\n",
       "      <th>airport_YES</th>\n",
       "      <td>0.182867</td>\n",
       "      <td>-0.134486</td>\n",
       "      <td>-0.115401</td>\n",
       "      <td>-0.073903</td>\n",
       "      <td>0.163774</td>\n",
       "      <td>0.005101</td>\n",
       "      <td>0.069437</td>\n",
       "      <td>-0.095054</td>\n",
       "      <td>-0.006365</td>\n",
       "      <td>-0.055338</td>\n",
       "      <td>-0.013171</td>\n",
       "      <td>-0.052503</td>\n",
       "      <td>0.021402</td>\n",
       "      <td>1.000000</td>\n",
       "      <td>0.035491</td>\n",
       "      <td>-0.070341</td>\n",
       "      <td>0.017341</td>\n",
       "    </tr>\n",
       "    <tr>\n",
       "      <th>waterbody_Lake</th>\n",
       "      <td>0.036233</td>\n",
       "      <td>-0.025390</td>\n",
       "      <td>-0.026590</td>\n",
       "      <td>-0.046393</td>\n",
       "      <td>-0.004195</td>\n",
       "      <td>0.003452</td>\n",
       "      <td>0.048717</td>\n",
       "      <td>0.003197</td>\n",
       "      <td>0.042278</td>\n",
       "      <td>0.037925</td>\n",
       "      <td>-0.016170</td>\n",
       "      <td>-0.034991</td>\n",
       "      <td>0.034890</td>\n",
       "      <td>0.035491</td>\n",
       "      <td>1.000000</td>\n",
       "      <td>-0.196747</td>\n",
       "      <td>-0.366563</td>\n",
       "    </tr>\n",
       "    <tr>\n",
       "      <th>waterbody_Lake and River</th>\n",
       "      <td>-0.037497</td>\n",
       "      <td>0.009076</td>\n",
       "      <td>0.051649</td>\n",
       "      <td>0.013849</td>\n",
       "      <td>0.010554</td>\n",
       "      <td>-0.004354</td>\n",
       "      <td>-0.046981</td>\n",
       "      <td>0.020620</td>\n",
       "      <td>0.059482</td>\n",
       "      <td>0.014755</td>\n",
       "      <td>0.109234</td>\n",
       "      <td>0.013265</td>\n",
       "      <td>-0.021320</td>\n",
       "      <td>-0.070341</td>\n",
       "      <td>-0.196747</td>\n",
       "      <td>1.000000</td>\n",
       "      <td>-0.304095</td>\n",
       "    </tr>\n",
       "    <tr>\n",
       "      <th>waterbody_River</th>\n",
       "      <td>0.071751</td>\n",
       "      <td>-0.060099</td>\n",
       "      <td>-0.098976</td>\n",
       "      <td>-0.037772</td>\n",
       "      <td>0.046251</td>\n",
       "      <td>-0.088609</td>\n",
       "      <td>0.094256</td>\n",
       "      <td>-0.109004</td>\n",
       "      <td>-0.074148</td>\n",
       "      <td>-0.064096</td>\n",
       "      <td>-0.037016</td>\n",
       "      <td>-0.048862</td>\n",
       "      <td>0.032247</td>\n",
       "      <td>0.017341</td>\n",
       "      <td>-0.366563</td>\n",
       "      <td>-0.304095</td>\n",
       "      <td>1.000000</td>\n",
       "    </tr>\n",
       "  </tbody>\n",
       "</table>\n",
       "</div>"
      ],
      "text/plain": [
       "                             price  crime_rate  resid_area  air_qual  \\\n",
       "price                     1.000000   -0.466527   -0.484754 -0.429300   \n",
       "crime_rate               -0.466527    1.000000    0.660283  0.707587   \n",
       "resid_area               -0.484754    0.660283    1.000000  0.763651   \n",
       "air_qual                 -0.429300    0.707587    0.763651  1.000000   \n",
       "room_num                  0.696304   -0.288784   -0.391676 -0.302188   \n",
       "age                      -0.377999    0.559591    0.644779  0.731470   \n",
       "teachers                  0.505655   -0.390052   -0.383248 -0.188933   \n",
       "poor_prop                -0.740836    0.608970    0.603800  0.590879   \n",
       "n_hos_beds                0.108880   -0.004089    0.005799 -0.049553   \n",
       "n_hot_rooms               0.017007    0.056570   -0.003761  0.007238   \n",
       "rainfall                 -0.047200    0.082151    0.055845  0.091956   \n",
       "parks                    -0.391574    0.638951    0.707635  0.915544   \n",
       "avg_dist                  0.249289   -0.586371   -0.708022 -0.769247   \n",
       "airport_YES               0.182867   -0.134486   -0.115401 -0.073903   \n",
       "waterbody_Lake            0.036233   -0.025390   -0.026590 -0.046393   \n",
       "waterbody_Lake and River -0.037497    0.009076    0.051649  0.013849   \n",
       "waterbody_River           0.071751   -0.060099   -0.098976 -0.037772   \n",
       "\n",
       "                          room_num       age  teachers  poor_prop  n_hos_beds  \\\n",
       "price                     0.696304 -0.377999  0.505655  -0.740836    0.108880   \n",
       "crime_rate               -0.288784  0.559591 -0.390052   0.608970   -0.004089   \n",
       "resid_area               -0.391676  0.644779 -0.383248   0.603800    0.005799   \n",
       "air_qual                 -0.302188  0.731470 -0.188933   0.590879   -0.049553   \n",
       "room_num                  1.000000 -0.240265  0.355501  -0.613808    0.032009   \n",
       "age                      -0.240265  1.000000 -0.261515   0.602339   -0.021012   \n",
       "teachers                  0.355501 -0.261515  1.000000  -0.374044   -0.008056   \n",
       "poor_prop                -0.613808  0.602339 -0.374044   1.000000   -0.066008   \n",
       "n_hos_beds                0.032009 -0.021012 -0.008056  -0.066008    1.000000   \n",
       "n_hot_rooms               0.014583  0.013918 -0.037007   0.017036   -0.003130   \n",
       "rainfall                 -0.064718  0.074684 -0.045928   0.061444    0.058596   \n",
       "parks                    -0.282817  0.673850 -0.187004   0.552310   -0.071272   \n",
       "avg_dist                  0.205241 -0.747906  0.232452  -0.496967   -0.027871   \n",
       "airport_YES               0.163774  0.005101  0.069437  -0.095054   -0.006365   \n",
       "waterbody_Lake           -0.004195  0.003452  0.048717   0.003197    0.042278   \n",
       "waterbody_Lake and River  0.010554 -0.004354 -0.046981   0.020620    0.059482   \n",
       "waterbody_River           0.046251 -0.088609  0.094256  -0.109004   -0.074148   \n",
       "\n",
       "                          n_hot_rooms  rainfall     parks  avg_dist  \\\n",
       "price                        0.017007 -0.047200 -0.391574  0.249289   \n",
       "crime_rate                   0.056570  0.082151  0.638951 -0.586371   \n",
       "resid_area                  -0.003761  0.055845  0.707635 -0.708022   \n",
       "air_qual                     0.007238  0.091956  0.915544 -0.769247   \n",
       "room_num                     0.014583 -0.064718 -0.282817  0.205241   \n",
       "age                          0.013918  0.074684  0.673850 -0.747906   \n",
       "teachers                    -0.037007 -0.045928 -0.187004  0.232452   \n",
       "poor_prop                    0.017036  0.061444  0.552310 -0.496967   \n",
       "n_hos_beds                  -0.003130  0.058596 -0.071272 -0.027871   \n",
       "n_hot_rooms                  1.000000  0.014869  0.023757 -0.020700   \n",
       "rainfall                     0.014869  1.000000  0.078278 -0.037285   \n",
       "parks                        0.023757  0.078278  1.000000 -0.707924   \n",
       "avg_dist                    -0.020700 -0.037285 -0.707924  1.000000   \n",
       "airport_YES                 -0.055338 -0.013171 -0.052503  0.021402   \n",
       "waterbody_Lake               0.037925 -0.016170 -0.034991  0.034890   \n",
       "waterbody_Lake and River     0.014755  0.109234  0.013265 -0.021320   \n",
       "waterbody_River             -0.064096 -0.037016 -0.048862  0.032247   \n",
       "\n",
       "                          airport_YES  waterbody_Lake  \\\n",
       "price                        0.182867        0.036233   \n",
       "crime_rate                  -0.134486       -0.025390   \n",
       "resid_area                  -0.115401       -0.026590   \n",
       "air_qual                    -0.073903       -0.046393   \n",
       "room_num                     0.163774       -0.004195   \n",
       "age                          0.005101        0.003452   \n",
       "teachers                     0.069437        0.048717   \n",
       "poor_prop                   -0.095054        0.003197   \n",
       "n_hos_beds                  -0.006365        0.042278   \n",
       "n_hot_rooms                 -0.055338        0.037925   \n",
       "rainfall                    -0.013171       -0.016170   \n",
       "parks                       -0.052503       -0.034991   \n",
       "avg_dist                     0.021402        0.034890   \n",
       "airport_YES                  1.000000        0.035491   \n",
       "waterbody_Lake               0.035491        1.000000   \n",
       "waterbody_Lake and River    -0.070341       -0.196747   \n",
       "waterbody_River              0.017341       -0.366563   \n",
       "\n",
       "                          waterbody_Lake and River  waterbody_River  \n",
       "price                                    -0.037497         0.071751  \n",
       "crime_rate                                0.009076        -0.060099  \n",
       "resid_area                                0.051649        -0.098976  \n",
       "air_qual                                  0.013849        -0.037772  \n",
       "room_num                                  0.010554         0.046251  \n",
       "age                                      -0.004354        -0.088609  \n",
       "teachers                                 -0.046981         0.094256  \n",
       "poor_prop                                 0.020620        -0.109004  \n",
       "n_hos_beds                                0.059482        -0.074148  \n",
       "n_hot_rooms                               0.014755        -0.064096  \n",
       "rainfall                                  0.109234        -0.037016  \n",
       "parks                                     0.013265        -0.048862  \n",
       "avg_dist                                 -0.021320         0.032247  \n",
       "airport_YES                              -0.070341         0.017341  \n",
       "waterbody_Lake                           -0.196747        -0.366563  \n",
       "waterbody_Lake and River                  1.000000        -0.304095  \n",
       "waterbody_River                          -0.304095         1.000000  "
      ]
     },
     "execution_count": 21,
     "metadata": {},
     "output_type": "execute_result"
    }
   ],
   "source": [
    "df.corr()"
   ]
  },
  {
   "cell_type": "markdown",
   "metadata": {},
   "source": [
    "### Plot a heatmap to saw more efficient in the corr matrix"
   ]
  },
  {
   "cell_type": "code",
   "execution_count": 22,
   "metadata": {},
   "outputs": [
    {
     "data": {
      "text/plain": [
       "<AxesSubplot:>"
      ]
     },
     "execution_count": 22,
     "metadata": {},
     "output_type": "execute_result"
    },
    {
     "data": {
      "image/png": "[encoded data removed]",
      "text/plain": [
       "<Figure size 432x288 with 2 Axes>"
      ]
     },
     "metadata": {
      "needs_background": "light"
     },
     "output_type": "display_data"
    }
   ],
   "source": [
    "sns.heatmap(df.corr())"
   ]
  },
  {
   "cell_type": "markdown",
   "metadata": {},
   "source": [
    "We can see a correlation between parks and air_equal becouse of that we have to delete one of the two columns\n",
    "We can see thea air_equal have more correlation between the price for that we keep the column of air_equal"
   ]
  },
  {
   "cell_type": "code",
   "execution_count": 23,
   "metadata": {},
   "outputs": [],
   "source": [
    "del df[\"parks\"]"
   ]
  },
  {
   "cell_type": "markdown",
   "metadata": {},
   "source": [
    "# End of the preprocessing part"
   ]
  },
  {
   "cell_type": "markdown",
   "metadata": {},
   "source": [
    "# Machine learning part"
   ]
  },
  {
   "cell_type": "markdown",
   "metadata": {},
   "source": [
    "## Simple linear regression using statsmodels.api"
   ]
  },
  {
   "cell_type": "code",
   "execution_count": 24,
   "metadata": {},
   "outputs": [],
   "source": [
    "import statsmodels.api as sn"
   ]
  },
  {
   "cell_type": "code",
   "execution_count": 25,
   "metadata": {},
   "outputs": [],
   "source": [
    "X = sn.add_constant(df[\"room_num\"])"
   ]
  },
  {
   "cell_type": "code",
   "execution_count": 26,
   "metadata": {},
   "outputs": [],
   "source": [
    "lm = sn.OLS(df[\"price\"], X).fit()"
   ]
  },
  {
   "cell_type": "code",
   "execution_count": 27,
   "metadata": {},
   "outputs": [
    {
     "data": {
      "text/html": [
       "<table class=\"simpletable\">\n",
       "<caption>OLS Regression Results</caption>\n",
       "<tr>\n",
       "  <th>Dep. Variable:</th>          <td>price</td>      <th>  R-squared:         </th> <td>   0.485</td>\n",
       "</tr>\n",
       "<tr>\n",
       "  <th>Model:</th>                   <td>OLS</td>       <th>  Adj. R-squared:    </th> <td>   0.484</td>\n",
       "</tr>\n",
       "<tr>\n",
       "  <th>Method:</th>             <td>Least Squares</td>  <th>  F-statistic:       </th> <td>   474.3</td>\n",
       "</tr>\n",
       "<tr>\n",
       "  <th>Date:</th>             <td>Wed, 21 Apr 2021</td> <th>  Prob (F-statistic):</th> <td>1.31e-74</td>\n",
       "</tr>\n",
       "<tr>\n",
       "  <th>Time:</th>                 <td>17:45:12</td>     <th>  Log-Likelihood:    </th> <td> -1671.6</td>\n",
       "</tr>\n",
       "<tr>\n",
       "  <th>No. Observations:</th>      <td>   506</td>      <th>  AIC:               </th> <td>   3347.</td>\n",
       "</tr>\n",
       "<tr>\n",
       "  <th>Df Residuals:</th>          <td>   504</td>      <th>  BIC:               </th> <td>   3356.</td>\n",
       "</tr>\n",
       "<tr>\n",
       "  <th>Df Model:</th>              <td>     1</td>      <th>                     </th>     <td> </td>   \n",
       "</tr>\n",
       "<tr>\n",
       "  <th>Covariance Type:</th>      <td>nonrobust</td>    <th>                     </th>     <td> </td>   \n",
       "</tr>\n",
       "</table>\n",
       "<table class=\"simpletable\">\n",
       "<tr>\n",
       "      <td></td>        <th>coef</th>     <th>std err</th>      <th>t</th>      <th>P>|t|</th>  <th>[0.025</th>    <th>0.975]</th>  \n",
       "</tr>\n",
       "<tr>\n",
       "  <th>const</th>    <td>  -34.6592</td> <td>    2.642</td> <td>  -13.118</td> <td> 0.000</td> <td>  -39.850</td> <td>  -29.468</td>\n",
       "</tr>\n",
       "<tr>\n",
       "  <th>room_num</th> <td>    9.0997</td> <td>    0.418</td> <td>   21.779</td> <td> 0.000</td> <td>    8.279</td> <td>    9.921</td>\n",
       "</tr>\n",
       "</table>\n",
       "<table class=\"simpletable\">\n",
       "<tr>\n",
       "  <th>Omnibus:</th>       <td>103.753</td> <th>  Durbin-Watson:     </th> <td>   0.681</td> \n",
       "</tr>\n",
       "<tr>\n",
       "  <th>Prob(Omnibus):</th> <td> 0.000</td>  <th>  Jarque-Bera (JB):  </th> <td> 633.429</td> \n",
       "</tr>\n",
       "<tr>\n",
       "  <th>Skew:</th>          <td> 0.729</td>  <th>  Prob(JB):          </th> <td>2.84e-138</td>\n",
       "</tr>\n",
       "<tr>\n",
       "  <th>Kurtosis:</th>      <td> 8.284</td>  <th>  Cond. No.          </th> <td>    58.4</td> \n",
       "</tr>\n",
       "</table><br/><br/>Notes:<br/>[1] Standard Errors assume that the covariance matrix of the errors is correctly specified."
      ],
      "text/plain": [
       "<class 'statsmodels.iolib.summary.Summary'>\n",
       "\"\"\"\n",
       "                            OLS Regression Results                            \n",
       "==============================================================================\n",
       "Dep. Variable:                  price   R-squared:                       0.485\n",
       "Model:                            OLS   Adj. R-squared:                  0.484\n",
       "Method:                 Least Squares   F-statistic:                     474.3\n",
       "Date:                Wed, 21 Apr 2021   Prob (F-statistic):           1.31e-74\n",
       "Time:                        17:45:12   Log-Likelihood:                -1671.6\n",
       "No. Observations:                 506   AIC:                             3347.\n",
       "Df Residuals:                     504   BIC:                             3356.\n",
       "Df Model:                           1                                         \n",
       "Covariance Type:            nonrobust                                         \n",
       "==============================================================================\n",
       "                 coef    std err          t      P>|t|      [0.025      0.975]\n",
       "------------------------------------------------------------------------------\n",
       "const        -34.6592      2.642    -13.118      0.000     -39.850     -29.468\n",
       "room_num       9.0997      0.418     21.779      0.000       8.279       9.921\n",
       "==============================================================================\n",
       "Omnibus:                      103.753   Durbin-Watson:                   0.681\n",
       "Prob(Omnibus):                  0.000   Jarque-Bera (JB):              633.429\n",
       "Skew:                           0.729   Prob(JB):                    2.84e-138\n",
       "Kurtosis:                       8.284   Cond. No.                         58.4\n",
       "==============================================================================\n",
       "\n",
       "Notes:\n",
       "[1] Standard Errors assume that the covariance matrix of the errors is correctly specified.\n",
       "\"\"\""
      ]
     },
     "execution_count": 27,
     "metadata": {},
     "output_type": "execute_result"
    }
   ],
   "source": [
    "lm.summary()"
   ]
  },
  {
   "cell_type": "markdown",
   "metadata": {},
   "source": [
    "## Simple linear regression using sklearn"
   ]
  },
  {
   "cell_type": "code",
   "execution_count": 28,
   "metadata": {},
   "outputs": [],
   "source": [
    "from sklearn.linear_model import LinearRegression"
   ]
  },
  {
   "cell_type": "code",
   "execution_count": 29,
   "metadata": {},
   "outputs": [],
   "source": [
    "y = df[[\"price\"]]"
   ]
  },
  {
   "cell_type": "code",
   "execution_count": 30,
   "metadata": {},
   "outputs": [],
   "source": [
    "X = df[[\"room_num\"]]"
   ]
  },
  {
   "cell_type": "code",
   "execution_count": 31,
   "metadata": {},
   "outputs": [],
   "source": [
    "lm2 = LinearRegression()"
   ]
  },
  {
   "cell_type": "code",
   "execution_count": 32,
   "metadata": {},
   "outputs": [
    {
     "data": {
      "text/plain": [
       "LinearRegression()"
      ]
     },
     "execution_count": 32,
     "metadata": {},
     "output_type": "execute_result"
    }
   ],
   "source": [
    "lm2.fit(X,y)"
   ]
  },
  {
   "cell_type": "code",
   "execution_count": 33,
   "metadata": {},
   "outputs": [
    {
     "name": "stdout",
     "output_type": "stream",
     "text": [
      "[-34.65924312] [[9.09966966]]\n"
     ]
    }
   ],
   "source": [
    "print(lm2.intercept_, lm2.coef_)"
   ]
  },
  {
   "cell_type": "code",
   "execution_count": 34,
   "metadata": {},
   "outputs": [
    {
     "data": {
      "text/plain": [
       "array([[25.17108491],\n",
       "       [23.76973578],\n",
       "       [30.72188341],\n",
       "       [29.02024518],\n",
       "       [30.37609596],\n",
       "       [23.85163281],\n",
       "       [20.04797089],\n",
       "       [21.50391804],\n",
       "       [16.58099675],\n",
       "       [19.97517353],\n",
       "       [23.36935032],\n",
       "       [20.02067188],\n",
       "       [18.92871152],\n",
       "       [19.4746917 ],\n",
       "       [20.81234314],\n",
       "       [18.42822969],\n",
       "       [19.34729633],\n",
       "       [19.84777816],\n",
       "       [14.98855456],\n",
       "       [17.45456504],\n",
       "       [16.0259169 ],\n",
       "       [19.62028642],\n",
       "       [21.23092795],\n",
       "       [18.23713663],\n",
       "       [19.24719996],\n",
       "       [16.28980732],\n",
       "       [18.23713663],\n",
       "       [20.36645933],\n",
       "       [24.44311134],\n",
       "       [26.07195221],\n",
       "       [17.32716966],\n",
       "       [20.59395107],\n",
       "       [19.48379137],\n",
       "       [17.21797363],\n",
       "       [20.81234314],\n",
       "       [19.32909699],\n",
       "       [18.49192738],\n",
       "       [18.57382441],\n",
       "       [19.62938609],\n",
       "       [25.3530783 ],\n",
       "       [29.25683659],\n",
       "       [26.9455205 ],\n",
       "       [21.47661903],\n",
       "       [21.85880515],\n",
       "       [20.56665206],\n",
       "       [17.0450799 ],\n",
       "       [17.99144555],\n",
       "       [20.21176495],\n",
       "       [14.46987339],\n",
       "       [16.31710633],\n",
       "       [19.60208708],\n",
       "       [20.98523687],\n",
       "       [24.58870605],\n",
       "       [19.92057552],\n",
       "       [18.91961185],\n",
       "       [31.30426226],\n",
       "       [23.42394834],\n",
       "       [27.3641053 ],\n",
       "       [21.25822696],\n",
       "       [19.27449897],\n",
       "       [17.58196041],\n",
       "       [19.62938609],\n",
       "       [24.08822422],\n",
       "       [26.87272314],\n",
       "       [29.98481016],\n",
       "       [22.57767906],\n",
       "       [18.00054522],\n",
       "       [18.82861516],\n",
       "       [16.24430897],\n",
       "       [18.89231284],\n",
       "       [23.7333371 ],\n",
       "       [19.58388774],\n",
       "       [20.53025338],\n",
       "       [22.16819392],\n",
       "       [22.42298467],\n",
       "       [22.54128038],\n",
       "       [22.47758269],\n",
       "       [21.21272861],\n",
       "       [22.04989822],\n",
       "       [18.79221648],\n",
       "       [26.5542347 ],\n",
       "       [25.57147038],\n",
       "       [22.68687509],\n",
       "       [21.45841969],\n",
       "       [23.47854635],\n",
       "       [25.67156674],\n",
       "       [20.0752699 ],\n",
       "       [21.03983488],\n",
       "       [29.10214221],\n",
       "       [29.75731842],\n",
       "       [23.7333371 ],\n",
       "       [23.62414107],\n",
       "       [23.96082885],\n",
       "       [21.85880515],\n",
       "       [22.2045926 ],\n",
       "       [25.62606839],\n",
       "       [21.42202101],\n",
       "       [38.76599139],\n",
       "       [36.50017364],\n",
       "       [32.8239071 ],\n",
       "       [26.5542347 ],\n",
       "       [27.04561686],\n",
       "       [23.62414107],\n",
       "       [21.1854296 ],\n",
       "       [21.45841969],\n",
       "       [18.58292408],\n",
       "       [18.44642903],\n",
       "       [21.0944329 ],\n",
       "       [24.25201828],\n",
       "       [22.02259921],\n",
       "       [21.71321044],\n",
       "       [26.44503866],\n",
       "       [19.14710359],\n",
       "       [20.77594446],\n",
       "       [22.25009095],\n",
       "       [19.28359864],\n",
       "       [21.54031672],\n",
       "       [20.12986792],\n",
       "       [18.77401714],\n",
       "       [17.49096372],\n",
       "       [18.7558178 ],\n",
       "       [19.97517353],\n",
       "       [19.58388774],\n",
       "       [18.62842242],\n",
       "       [18.83771483],\n",
       "       [19.81137948],\n",
       "       [16.4172027 ],\n",
       "       [17.14517627],\n",
       "       [23.86073248],\n",
       "       [16.63559477],\n",
       "       [24.10642356],\n",
       "       [22.90526717],\n",
       "       [23.32385197],\n",
       "       [18.31903366],\n",
       "       [17.72755513],\n",
       "       [22.98716419],\n",
       "       [19.41099401],\n",
       "       [24.07002488],\n",
       "       [18.63752209],\n",
       "       [21.31282497],\n",
       "       [21.52211738],\n",
       "       [11.01199892],\n",
       "       [14.50627207],\n",
       "       [15.09775059],\n",
       "       [ 9.95643723],\n",
       "       [21.12173191],\n",
       "       [16.55369774],\n",
       "       [10.16572964],\n",
       "       [12.53164375],\n",
       "       [16.27160798],\n",
       "       [21.04893455],\n",
       "       [14.51537174],\n",
       "       [10.94830123],\n",
       "       [17.29077098],\n",
       "       [21.11263224],\n",
       "       [21.32192464],\n",
       "       [13.31421534],\n",
       "       [28.51976335],\n",
       "       [20.53935305],\n",
       "       [24.57960638],\n",
       "       [22.21369227],\n",
       "       [33.48818298],\n",
       "       [36.33637959],\n",
       "       [41.55049031],\n",
       "       [18.61022308],\n",
       "       [20.85784149],\n",
       "       [37.49203764],\n",
       "       [18.81951549],\n",
       "       [22.84156948],\n",
       "       [23.59684206],\n",
       "       [18.80131615],\n",
       "       [18.8468145 ],\n",
       "       [16.04411624],\n",
       "       [23.72423744],\n",
       "       [18.65572143],\n",
       "       [24.90719449],\n",
       "       [20.12076825],\n",
       "       [22.8051708 ],\n",
       "       [27.76449077],\n",
       "       [28.85645113],\n",
       "       [35.99969181],\n",
       "       [21.24912729],\n",
       "       [30.44889332],\n",
       "       [25.06188888],\n",
       "       [16.33530567],\n",
       "       [21.33102431],\n",
       "       [36.60027001],\n",
       "       [27.05471653],\n",
       "       [24.99819119],\n",
       "       [30.72188341],\n",
       "       [28.5925607 ],\n",
       "       [26.66343074],\n",
       "       [30.65818572],\n",
       "       [27.21851059],\n",
       "       [25.43497533],\n",
       "       [37.00065547],\n",
       "       [31.65004971],\n",
       "       [30.01210917],\n",
       "       [31.53175401],\n",
       "       [28.81095278],\n",
       "       [30.26689992],\n",
       "       [21.41292134],\n",
       "       [34.58924301],\n",
       "       [36.80046274],\n",
       "       [38.44750295],\n",
       "       [18.94691086],\n",
       "       [22.90526717],\n",
       "       [17.96414654],\n",
       "       [20.52115371],\n",
       "       [13.96939156],\n",
       "       [19.57478807],\n",
       "       [14.51537174],\n",
       "       [18.18253861],\n",
       "       [23.35115098],\n",
       "       [14.58816909],\n",
       "       [21.59491473],\n",
       "       [18.91961185],\n",
       "       [25.78076278],\n",
       "       [19.49289104],\n",
       "       [23.33295164],\n",
       "       [28.5925607 ],\n",
       "       [21.43112068],\n",
       "       [27.93738449],\n",
       "       [25.56237071],\n",
       "       [40.55862631],\n",
       "       [44.73537469],\n",
       "       [38.50210097],\n",
       "       [30.52169067],\n",
       "       [35.28081791],\n",
       "       [24.96179251],\n",
       "       [19.76588113],\n",
       "       [32.78750842],\n",
       "       [41.20470286],\n",
       "       [40.38573259],\n",
       "       [26.54513503],\n",
       "       [20.72134645],\n",
       "       [25.68066641],\n",
       "       [32.29612626],\n",
       "       [24.31571596],\n",
       "       [25.45317467],\n",
       "       [28.10117854],\n",
       "       [20.80324347],\n",
       "       [23.19645659],\n",
       "       [23.51494503],\n",
       "       [16.2352093 ],\n",
       "       [16.34440534],\n",
       "       [20.92153918],\n",
       "       [21.9953002 ],\n",
       "       [23.87893182],\n",
       "       [26.47233767],\n",
       "       [24.37031398],\n",
       "       [23.92443017],\n",
       "       [28.64715872],\n",
       "       [40.49492862],\n",
       "       [20.92153918],\n",
       "       [18.81041582],\n",
       "       [33.16969455],\n",
       "       [44.54428162],\n",
       "       [32.06863452],\n",
       "       [27.60069671],\n",
       "       [30.88567746],\n",
       "       [33.77027274],\n",
       "       [41.75978271],\n",
       "       [32.0140365 ],\n",
       "       [30.91297647],\n",
       "       [15.9349202 ],\n",
       "       [29.16583989],\n",
       "       [40.84071607],\n",
       "       [33.31528926],\n",
       "       [19.21080128],\n",
       "       [18.62842242],\n",
       "       [22.12269557],\n",
       "       [24.83439713],\n",
       "       [35.32631626],\n",
       "       [26.83632446],\n",
       "       [27.70989275],\n",
       "       [31.46805632],\n",
       "       [27.455102  ],\n",
       "       [24.32481563],\n",
       "       [27.32770662],\n",
       "       [36.50017364],\n",
       "       [28.74725509],\n",
       "       [34.90773145],\n",
       "       [37.43743962],\n",
       "       [29.83921545],\n",
       "       [24.06092521],\n",
       "       [22.03169888],\n",
       "       [21.84060581],\n",
       "       [22.8051708 ],\n",
       "       [25.08008821],\n",
       "       [27.77359044],\n",
       "       [30.38519563],\n",
       "       [25.67156674],\n",
       "       [21.0944329 ],\n",
       "       [20.02067188],\n",
       "       [26.10835089],\n",
       "       [24.9344935 ],\n",
       "       [18.02784423],\n",
       "       [23.07816089],\n",
       "       [29.41153097],\n",
       "       [27.86458713],\n",
       "       [25.30757996],\n",
       "       [24.44311134],\n",
       "       [28.87465046],\n",
       "       [31.18596656],\n",
       "       [25.54417137],\n",
       "       [32.86030578],\n",
       "       [27.6643944 ],\n",
       "       [25.71706509],\n",
       "       [19.6839841 ],\n",
       "       [10.59341411],\n",
       "       [21.04893455],\n",
       "       [20.14806726],\n",
       "       [22.35928699],\n",
       "       [25.09828755],\n",
       "       [17.2543723 ],\n",
       "       [19.15620326],\n",
       "       [17.95504687],\n",
       "       [23.41484867],\n",
       "       [20.96703753],\n",
       "       [23.81523413],\n",
       "       [23.36025065],\n",
       "       [20.31186131],\n",
       "       [17.28167131],\n",
       "       [23.71513777],\n",
       "       [23.86073248],\n",
       "       [22.77787179],\n",
       "       [20.69404744],\n",
       "       [18.73761846],\n",
       "       [22.96896485],\n",
       "       [21.24912729],\n",
       "       [17.26347197],\n",
       "       [20.22086461],\n",
       "       [22.81427047],\n",
       "       [22.75967245],\n",
       "       [20.27546263],\n",
       "       [18.74671813],\n",
       "       [18.98330954],\n",
       "       [20.47565537],\n",
       "       [19.80227981],\n",
       "       [19.64758543],\n",
       "       [31.23146491],\n",
       "       [24.85259647],\n",
       "       [26.27214494],\n",
       "       [27.89188614],\n",
       "       [20.06617023],\n",
       "       [19.01060855],\n",
       "       [24.6342044 ],\n",
       "       [25.71706509],\n",
       "       [28.48336467],\n",
       "       [24.39761299],\n",
       "       [25.20748359],\n",
       "       [18.88321317],\n",
       "       [26.56333437],\n",
       "       [16.87218618],\n",
       "       [19.356396  ],\n",
       "       [21.86790482],\n",
       "       [23.53314437],\n",
       "       [21.0944329 ],\n",
       "       [20.95793786],\n",
       "       [23.56044338],\n",
       "       [22.22279194],\n",
       "       [14.13318561],\n",
       "       [18.14613993],\n",
       "       [45.23585652],\n",
       "       [-2.25531945],\n",
       "       [10.50241741],\n",
       "       [ 0.49278079],\n",
       "       [10.5661151 ],\n",
       "       [26.15384924],\n",
       "       [29.18403923],\n",
       "       [21.9043035 ],\n",
       "       [18.80131615],\n",
       "       [ 9.98373624],\n",
       "       [ 2.99518994],\n",
       "       [31.88664112],\n",
       "       [25.84446047],\n",
       "       [27.16391257],\n",
       "       [23.39664933],\n",
       "       [21.96800119],\n",
       "       [28.74725509],\n",
       "       [24.89809482],\n",
       "       [15.71652813],\n",
       "       [15.57093342],\n",
       "       [ 5.08811397],\n",
       "       [13.35971369],\n",
       "       [ 7.67242015],\n",
       "       [10.83910519],\n",
       "       [ 9.74714483],\n",
       "       [14.38797636],\n",
       "       [17.32716966],\n",
       "       [20.40285801],\n",
       "       [11.1666933 ],\n",
       "       [21.6950111 ],\n",
       "       [18.91051218],\n",
       "       [24.22471927],\n",
       "       [23.62414107],\n",
       "       [17.63655843],\n",
       "       [14.96125555],\n",
       "       [18.59202375],\n",
       "       [19.82047915],\n",
       "       [23.05996155],\n",
       "       [23.6150414 ],\n",
       "       [14.0148899 ],\n",
       "       [15.67102978],\n",
       "       [17.05417957],\n",
       "       [ 2.99518994],\n",
       "       [16.37170435],\n",
       "       [16.45360137],\n",
       "       [27.69169341],\n",
       "       [17.72755513],\n",
       "       [25.91725782],\n",
       "       [ 7.45402808],\n",
       "       [12.24955399],\n",
       "       [ 6.46216408],\n",
       "       [23.88803149],\n",
       "       [27.05471653],\n",
       "       [13.60540477],\n",
       "       [19.54748906],\n",
       "       [27.43690266],\n",
       "       [23.67873909],\n",
       "       [19.99337287],\n",
       "       [16.73569113],\n",
       "       [20.87604083],\n",
       "       [15.98041855],\n",
       "       [18.99240921],\n",
       "       [18.4555287 ],\n",
       "       [21.77690813],\n",
       "       [21.6950111 ],\n",
       "       [23.39664933],\n",
       "       [23.1054599 ],\n",
       "       [27.51879968],\n",
       "       [23.80613446],\n",
       "       [23.90623083],\n",
       "       [21.83150615],\n",
       "       [25.66246707],\n",
       "       [24.13372257],\n",
       "       [21.32192464],\n",
       "       [19.34729633],\n",
       "       [16.54459807],\n",
       "       [18.28263498],\n",
       "       [23.63324074],\n",
       "       [21.93160251],\n",
       "       [24.35211464],\n",
       "       [18.61022308],\n",
       "       [24.11552323],\n",
       "       [23.04176221],\n",
       "       [22.22279194],\n",
       "       [21.62221374],\n",
       "       [23.7333371 ],\n",
       "       [26.75442743],\n",
       "       [25.89905848],\n",
       "       [22.64137675],\n",
       "       [32.6146147 ],\n",
       "       [26.56333437],\n",
       "       [24.71610143],\n",
       "       [19.72038278],\n",
       "       [19.356396  ],\n",
       "       [22.67777542],\n",
       "       [20.6758481 ],\n",
       "       [26.31764329],\n",
       "       [23.36025065],\n",
       "       [22.82337014],\n",
       "       [24.60690539],\n",
       "       [21.84060581],\n",
       "       [17.74575447],\n",
       "       [19.50199071],\n",
       "       [19.96607386],\n",
       "       [19.2653993 ],\n",
       "       [17.32716966],\n",
       "       [21.45841969],\n",
       "       [22.02259921],\n",
       "       [23.9153305 ],\n",
       "       [28.85645113],\n",
       "       [14.72466414],\n",
       "       [21.41292134],\n",
       "       [24.34301497],\n",
       "       [13.60540477],\n",
       "       [21.62221374],\n",
       "       [22.02259921],\n",
       "       [22.14089491],\n",
       "       [26.7635271 ],\n",
       "       [29.59352437],\n",
       "       [17.77305348],\n",
       "       [18.76491747],\n",
       "       [22.77787179],\n",
       "       [20.9761372 ],\n",
       "       [19.07430624],\n",
       "       [14.97035522],\n",
       "       [14.60636843],\n",
       "       [11.68537447],\n",
       "       [19.78408047],\n",
       "       [19.78408047],\n",
       "       [17.27257164],\n",
       "       [19.2653993 ],\n",
       "       [16.93588387],\n",
       "       [14.38797636],\n",
       "       [18.0642429 ],\n",
       "       [20.11166858],\n",
       "       [16.01681723],\n",
       "       [20.18446594],\n",
       "       [25.33487897],\n",
       "       [21.03073521],\n",
       "       [28.82005245],\n",
       "       [27.16391257],\n",
       "       [20.21176495]])"
      ]
     },
     "execution_count": 34,
     "metadata": {},
     "output_type": "execute_result"
    }
   ],
   "source": [
    "lm2.predict(X)"
   ]
  },
  {
   "cell_type": "code",
   "execution_count": 35,
   "metadata": {},
   "outputs": [
    {
     "data": {
      "text/plain": [
       "<seaborn.axisgrid.JointGrid at 0x2627df19c40>"
      ]
     },
     "execution_count": 35,
     "metadata": {},
     "output_type": "execute_result"
    },
    {
     "data": {
      "image/png": "[encoded data removed]",
      "text/plain": [
       "<Figure size 432x432 with 3 Axes>"
      ]
     },
     "metadata": {
      "needs_background": "light"
     },
     "output_type": "display_data"
    }
   ],
   "source": [
    "sns.jointplot(x = df[\"room_num\"] , y = df[\"price\"], kind=\"reg\")"
   ]
  },
  {
   "cell_type": "markdown",
   "metadata": {},
   "source": [
    "# Multiple Linear regression"
   ]
  },
  {
   "cell_type": "markdown",
   "metadata": {},
   "source": [
    "### With statsmodels"
   ]
  },
  {
   "cell_type": "code",
   "execution_count": 36,
   "metadata": {},
   "outputs": [],
   "source": [
    "import statsmodels.api as sn"
   ]
  },
  {
   "cell_type": "code",
   "execution_count": 37,
   "metadata": {},
   "outputs": [],
   "source": [
    "X_multi = df.drop(\"price\", axis=1)"
   ]
  },
  {
   "cell_type": "code",
   "execution_count": 38,
   "metadata": {},
   "outputs": [],
   "source": [
    "Y_multi = df[\"price\"]"
   ]
  },
  {
   "cell_type": "code",
   "execution_count": 39,
   "metadata": {},
   "outputs": [],
   "source": [
    "x_multi_cons = sn.add_constant(X_multi)"
   ]
  },
  {
   "cell_type": "code",
   "execution_count": 40,
   "metadata": {},
   "outputs": [
    {
     "data": {
      "text/html": [
       "<div>\n",
       "<style scoped>\n",
       "    .dataframe tbody tr th:only-of-type {\n",
       "        vertical-align: middle;\n",
       "    }\n",
       "\n",
       "    .dataframe tbody tr th {\n",
       "        vertical-align: top;\n",
       "    }\n",
       "\n",
       "    .dataframe thead th {\n",
       "        text-align: right;\n",
       "    }\n",
       "</style>\n",
       "<table border=\"1\" class=\"dataframe\">\n",
       "  <thead>\n",
       "    <tr style=\"text-align: right;\">\n",
       "      <th></th>\n",
       "      <th>const</th>\n",
       "      <th>crime_rate</th>\n",
       "      <th>resid_area</th>\n",
       "      <th>air_qual</th>\n",
       "      <th>room_num</th>\n",
       "      <th>age</th>\n",
       "      <th>teachers</th>\n",
       "      <th>poor_prop</th>\n",
       "      <th>n_hos_beds</th>\n",
       "      <th>n_hot_rooms</th>\n",
       "      <th>rainfall</th>\n",
       "      <th>avg_dist</th>\n",
       "      <th>airport_YES</th>\n",
       "      <th>waterbody_Lake</th>\n",
       "      <th>waterbody_Lake and River</th>\n",
       "      <th>waterbody_River</th>\n",
       "    </tr>\n",
       "  </thead>\n",
       "  <tbody>\n",
       "    <tr>\n",
       "      <th>0</th>\n",
       "      <td>1.0</td>\n",
       "      <td>0.006300</td>\n",
       "      <td>32.31</td>\n",
       "      <td>0.538</td>\n",
       "      <td>6.575</td>\n",
       "      <td>65.2</td>\n",
       "      <td>24.7</td>\n",
       "      <td>4.98</td>\n",
       "      <td>5.480</td>\n",
       "      <td>11.19200</td>\n",
       "      <td>23</td>\n",
       "      <td>4.0875</td>\n",
       "      <td>1</td>\n",
       "      <td>0</td>\n",
       "      <td>0</td>\n",
       "      <td>1</td>\n",
       "    </tr>\n",
       "    <tr>\n",
       "      <th>1</th>\n",
       "      <td>1.0</td>\n",
       "      <td>0.026944</td>\n",
       "      <td>37.07</td>\n",
       "      <td>0.469</td>\n",
       "      <td>6.421</td>\n",
       "      <td>78.9</td>\n",
       "      <td>22.2</td>\n",
       "      <td>9.14</td>\n",
       "      <td>7.332</td>\n",
       "      <td>12.17280</td>\n",
       "      <td>42</td>\n",
       "      <td>4.9675</td>\n",
       "      <td>0</td>\n",
       "      <td>1</td>\n",
       "      <td>0</td>\n",
       "      <td>0</td>\n",
       "    </tr>\n",
       "    <tr>\n",
       "      <th>2</th>\n",
       "      <td>1.0</td>\n",
       "      <td>0.026924</td>\n",
       "      <td>37.07</td>\n",
       "      <td>0.469</td>\n",
       "      <td>7.185</td>\n",
       "      <td>61.1</td>\n",
       "      <td>22.2</td>\n",
       "      <td>4.03</td>\n",
       "      <td>7.394</td>\n",
       "      <td>46.19856</td>\n",
       "      <td>38</td>\n",
       "      <td>4.9675</td>\n",
       "      <td>0</td>\n",
       "      <td>0</td>\n",
       "      <td>0</td>\n",
       "      <td>0</td>\n",
       "    </tr>\n",
       "    <tr>\n",
       "      <th>3</th>\n",
       "      <td>1.0</td>\n",
       "      <td>0.031857</td>\n",
       "      <td>32.18</td>\n",
       "      <td>0.458</td>\n",
       "      <td>6.998</td>\n",
       "      <td>45.8</td>\n",
       "      <td>21.3</td>\n",
       "      <td>2.94</td>\n",
       "      <td>9.268</td>\n",
       "      <td>11.26720</td>\n",
       "      <td>45</td>\n",
       "      <td>6.0650</td>\n",
       "      <td>1</td>\n",
       "      <td>1</td>\n",
       "      <td>0</td>\n",
       "      <td>0</td>\n",
       "    </tr>\n",
       "    <tr>\n",
       "      <th>4</th>\n",
       "      <td>1.0</td>\n",
       "      <td>0.066770</td>\n",
       "      <td>32.18</td>\n",
       "      <td>0.458</td>\n",
       "      <td>7.147</td>\n",
       "      <td>54.2</td>\n",
       "      <td>21.3</td>\n",
       "      <td>5.33</td>\n",
       "      <td>8.824</td>\n",
       "      <td>11.28960</td>\n",
       "      <td>55</td>\n",
       "      <td>6.0625</td>\n",
       "      <td>0</td>\n",
       "      <td>1</td>\n",
       "      <td>0</td>\n",
       "      <td>0</td>\n",
       "    </tr>\n",
       "    <tr>\n",
       "      <th>...</th>\n",
       "      <td>...</td>\n",
       "      <td>...</td>\n",
       "      <td>...</td>\n",
       "      <td>...</td>\n",
       "      <td>...</td>\n",
       "      <td>...</td>\n",
       "      <td>...</td>\n",
       "      <td>...</td>\n",
       "      <td>...</td>\n",
       "      <td>...</td>\n",
       "      <td>...</td>\n",
       "      <td>...</td>\n",
       "      <td>...</td>\n",
       "      <td>...</td>\n",
       "      <td>...</td>\n",
       "      <td>...</td>\n",
       "    </tr>\n",
       "    <tr>\n",
       "      <th>501</th>\n",
       "      <td>1.0</td>\n",
       "      <td>0.060747</td>\n",
       "      <td>41.93</td>\n",
       "      <td>0.573</td>\n",
       "      <td>6.593</td>\n",
       "      <td>69.1</td>\n",
       "      <td>19.0</td>\n",
       "      <td>9.67</td>\n",
       "      <td>9.348</td>\n",
       "      <td>12.17920</td>\n",
       "      <td>27</td>\n",
       "      <td>2.4775</td>\n",
       "      <td>0</td>\n",
       "      <td>0</td>\n",
       "      <td>1</td>\n",
       "      <td>0</td>\n",
       "    </tr>\n",
       "    <tr>\n",
       "      <th>502</th>\n",
       "      <td>1.0</td>\n",
       "      <td>0.044275</td>\n",
       "      <td>41.93</td>\n",
       "      <td>0.573</td>\n",
       "      <td>6.120</td>\n",
       "      <td>76.7</td>\n",
       "      <td>19.0</td>\n",
       "      <td>9.08</td>\n",
       "      <td>6.612</td>\n",
       "      <td>13.16480</td>\n",
       "      <td>20</td>\n",
       "      <td>2.2875</td>\n",
       "      <td>1</td>\n",
       "      <td>0</td>\n",
       "      <td>1</td>\n",
       "      <td>0</td>\n",
       "    </tr>\n",
       "    <tr>\n",
       "      <th>503</th>\n",
       "      <td>1.0</td>\n",
       "      <td>0.058986</td>\n",
       "      <td>41.93</td>\n",
       "      <td>0.573</td>\n",
       "      <td>6.976</td>\n",
       "      <td>91.0</td>\n",
       "      <td>19.0</td>\n",
       "      <td>5.64</td>\n",
       "      <td>5.478</td>\n",
       "      <td>12.19120</td>\n",
       "      <td>31</td>\n",
       "      <td>2.1675</td>\n",
       "      <td>0</td>\n",
       "      <td>0</td>\n",
       "      <td>0</td>\n",
       "      <td>0</td>\n",
       "    </tr>\n",
       "    <tr>\n",
       "      <th>504</th>\n",
       "      <td>1.0</td>\n",
       "      <td>0.103991</td>\n",
       "      <td>41.93</td>\n",
       "      <td>0.573</td>\n",
       "      <td>6.794</td>\n",
       "      <td>89.3</td>\n",
       "      <td>19.0</td>\n",
       "      <td>6.48</td>\n",
       "      <td>7.940</td>\n",
       "      <td>15.17600</td>\n",
       "      <td>47</td>\n",
       "      <td>2.3900</td>\n",
       "      <td>1</td>\n",
       "      <td>0</td>\n",
       "      <td>0</td>\n",
       "      <td>0</td>\n",
       "    </tr>\n",
       "    <tr>\n",
       "      <th>505</th>\n",
       "      <td>1.0</td>\n",
       "      <td>0.046320</td>\n",
       "      <td>41.93</td>\n",
       "      <td>0.573</td>\n",
       "      <td>6.030</td>\n",
       "      <td>80.8</td>\n",
       "      <td>19.0</td>\n",
       "      <td>7.88</td>\n",
       "      <td>10.280</td>\n",
       "      <td>10.15200</td>\n",
       "      <td>45</td>\n",
       "      <td>2.5050</td>\n",
       "      <td>1</td>\n",
       "      <td>0</td>\n",
       "      <td>0</td>\n",
       "      <td>0</td>\n",
       "    </tr>\n",
       "  </tbody>\n",
       "</table>\n",
       "<p>506 rows × 16 columns</p>\n",
       "</div>"
      ],
      "text/plain": [
       "     const  crime_rate  resid_area  air_qual  room_num   age  teachers  \\\n",
       "0      1.0    0.006300       32.31     0.538     6.575  65.2      24.7   \n",
       "1      1.0    0.026944       37.07     0.469     6.421  78.9      22.2   \n",
       "2      1.0    0.026924       37.07     0.469     7.185  61.1      22.2   \n",
       "3      1.0    0.031857       32.18     0.458     6.998  45.8      21.3   \n",
       "4      1.0    0.066770       32.18     0.458     7.147  54.2      21.3   \n",
       "..     ...         ...         ...       ...       ...   ...       ...   \n",
       "501    1.0    0.060747       41.93     0.573     6.593  69.1      19.0   \n",
       "502    1.0    0.044275       41.93     0.573     6.120  76.7      19.0   \n",
       "503    1.0    0.058986       41.93     0.573     6.976  91.0      19.0   \n",
       "504    1.0    0.103991       41.93     0.573     6.794  89.3      19.0   \n",
       "505    1.0    0.046320       41.93     0.573     6.030  80.8      19.0   \n",
       "\n",
       "     poor_prop  n_hos_beds  n_hot_rooms  rainfall  avg_dist  airport_YES  \\\n",
       "0         4.98       5.480     11.19200        23    4.0875            1   \n",
       "1         9.14       7.332     12.17280        42    4.9675            0   \n",
       "2         4.03       7.394     46.19856        38    4.9675            0   \n",
       "3         2.94       9.268     11.26720        45    6.0650            1   \n",
       "4         5.33       8.824     11.28960        55    6.0625            0   \n",
       "..         ...         ...          ...       ...       ...          ...   \n",
       "501       9.67       9.348     12.17920        27    2.4775            0   \n",
       "502       9.08       6.612     13.16480        20    2.2875            1   \n",
       "503       5.64       5.478     12.19120        31    2.1675            0   \n",
       "504       6.48       7.940     15.17600        47    2.3900            1   \n",
       "505       7.88      10.280     10.15200        45    2.5050            1   \n",
       "\n",
       "     waterbody_Lake  waterbody_Lake and River  waterbody_River  \n",
       "0                 0                         0                1  \n",
       "1                 1                         0                0  \n",
       "2                 0                         0                0  \n",
       "3                 1                         0                0  \n",
       "4                 1                         0                0  \n",
       "..              ...                       ...              ...  \n",
       "501               0                         1                0  \n",
       "502               0                         1                0  \n",
       "503               0                         0                0  \n",
       "504               0                         0                0  \n",
       "505               0                         0                0  \n",
       "\n",
       "[506 rows x 16 columns]"
      ]
     },
     "execution_count": 40,
     "metadata": {},
     "output_type": "execute_result"
    }
   ],
   "source": [
    "x_multi_cons"
   ]
  },
  {
   "cell_type": "code",
   "execution_count": 41,
   "metadata": {},
   "outputs": [],
   "source": [
    "lm_multi = sn.OLS(Y_multi, x_multi_cons).fit()"
   ]
  },
  {
   "cell_type": "code",
   "execution_count": 42,
   "metadata": {},
   "outputs": [
    {
     "data": {
      "text/html": [
       "<table class=\"simpletable\">\n",
       "<caption>OLS Regression Results</caption>\n",
       "<tr>\n",
       "  <th>Dep. Variable:</th>          <td>price</td>      <th>  R-squared:         </th> <td>   0.721</td> \n",
       "</tr>\n",
       "<tr>\n",
       "  <th>Model:</th>                   <td>OLS</td>       <th>  Adj. R-squared:    </th> <td>   0.712</td> \n",
       "</tr>\n",
       "<tr>\n",
       "  <th>Method:</th>             <td>Least Squares</td>  <th>  F-statistic:       </th> <td>   84.34</td> \n",
       "</tr>\n",
       "<tr>\n",
       "  <th>Date:</th>             <td>Wed, 21 Apr 2021</td> <th>  Prob (F-statistic):</th> <td>4.19e-125</td>\n",
       "</tr>\n",
       "<tr>\n",
       "  <th>Time:</th>                 <td>17:45:19</td>     <th>  Log-Likelihood:    </th> <td> -1516.6</td> \n",
       "</tr>\n",
       "<tr>\n",
       "  <th>No. Observations:</th>      <td>   506</td>      <th>  AIC:               </th> <td>   3065.</td> \n",
       "</tr>\n",
       "<tr>\n",
       "  <th>Df Residuals:</th>          <td>   490</td>      <th>  BIC:               </th> <td>   3133.</td> \n",
       "</tr>\n",
       "<tr>\n",
       "  <th>Df Model:</th>              <td>    15</td>      <th>                     </th>     <td> </td>    \n",
       "</tr>\n",
       "<tr>\n",
       "  <th>Covariance Type:</th>      <td>nonrobust</td>    <th>                     </th>     <td> </td>    \n",
       "</tr>\n",
       "</table>\n",
       "<table class=\"simpletable\">\n",
       "<tr>\n",
       "              <td></td>                <th>coef</th>     <th>std err</th>      <th>t</th>      <th>P>|t|</th>  <th>[0.025</th>    <th>0.975]</th>  \n",
       "</tr>\n",
       "<tr>\n",
       "  <th>const</th>                    <td>   -6.4986</td> <td>    5.264</td> <td>   -1.235</td> <td> 0.218</td> <td>  -16.842</td> <td>    3.844</td>\n",
       "</tr>\n",
       "<tr>\n",
       "  <th>crime_rate</th>               <td>    0.0097</td> <td>    0.348</td> <td>    0.028</td> <td> 0.978</td> <td>   -0.674</td> <td>    0.694</td>\n",
       "</tr>\n",
       "<tr>\n",
       "  <th>resid_area</th>               <td>   -0.0409</td> <td>    0.058</td> <td>   -0.710</td> <td> 0.478</td> <td>   -0.154</td> <td>    0.072</td>\n",
       "</tr>\n",
       "<tr>\n",
       "  <th>air_qual</th>                 <td>  -15.8974</td> <td>    4.004</td> <td>   -3.971</td> <td> 0.000</td> <td>  -23.764</td> <td>   -8.031</td>\n",
       "</tr>\n",
       "<tr>\n",
       "  <th>room_num</th>                 <td>    4.0190</td> <td>    0.427</td> <td>    9.421</td> <td> 0.000</td> <td>    3.181</td> <td>    4.857</td>\n",
       "</tr>\n",
       "<tr>\n",
       "  <th>age</th>                      <td>   -0.0057</td> <td>    0.014</td> <td>   -0.420</td> <td> 0.675</td> <td>   -0.032</td> <td>    0.021</td>\n",
       "</tr>\n",
       "<tr>\n",
       "  <th>teachers</th>                 <td>    1.0070</td> <td>    0.122</td> <td>    8.247</td> <td> 0.000</td> <td>    0.767</td> <td>    1.247</td>\n",
       "</tr>\n",
       "<tr>\n",
       "  <th>poor_prop</th>                <td>   -0.5773</td> <td>    0.053</td> <td>  -10.955</td> <td> 0.000</td> <td>   -0.681</td> <td>   -0.474</td>\n",
       "</tr>\n",
       "<tr>\n",
       "  <th>n_hos_beds</th>               <td>    0.3292</td> <td>    0.152</td> <td>    2.163</td> <td> 0.031</td> <td>    0.030</td> <td>    0.628</td>\n",
       "</tr>\n",
       "<tr>\n",
       "  <th>n_hot_rooms</th>              <td>    0.0919</td> <td>    0.082</td> <td>    1.118</td> <td> 0.264</td> <td>   -0.070</td> <td>    0.253</td>\n",
       "</tr>\n",
       "<tr>\n",
       "  <th>rainfall</th>                 <td>    0.0161</td> <td>    0.018</td> <td>    0.904</td> <td> 0.367</td> <td>   -0.019</td> <td>    0.051</td>\n",
       "</tr>\n",
       "<tr>\n",
       "  <th>avg_dist</th>                 <td>   -1.2186</td> <td>    0.189</td> <td>   -6.450</td> <td> 0.000</td> <td>   -1.590</td> <td>   -0.847</td>\n",
       "</tr>\n",
       "<tr>\n",
       "  <th>airport_YES</th>              <td>    1.1315</td> <td>    0.454</td> <td>    2.491</td> <td> 0.013</td> <td>    0.239</td> <td>    2.024</td>\n",
       "</tr>\n",
       "<tr>\n",
       "  <th>waterbody_Lake</th>           <td>    0.2641</td> <td>    0.642</td> <td>    0.411</td> <td> 0.681</td> <td>   -0.997</td> <td>    1.525</td>\n",
       "</tr>\n",
       "<tr>\n",
       "  <th>waterbody_Lake and River</th> <td>   -0.6876</td> <td>    0.714</td> <td>   -0.963</td> <td> 0.336</td> <td>   -2.090</td> <td>    0.715</td>\n",
       "</tr>\n",
       "<tr>\n",
       "  <th>waterbody_River</th>          <td>   -0.2913</td> <td>    0.547</td> <td>   -0.533</td> <td> 0.594</td> <td>   -1.365</td> <td>    0.783</td>\n",
       "</tr>\n",
       "</table>\n",
       "<table class=\"simpletable\">\n",
       "<tr>\n",
       "  <th>Omnibus:</th>       <td>182.596</td> <th>  Durbin-Watson:     </th> <td>   0.990</td> \n",
       "</tr>\n",
       "<tr>\n",
       "  <th>Prob(Omnibus):</th> <td> 0.000</td>  <th>  Jarque-Bera (JB):  </th> <td> 826.137</td> \n",
       "</tr>\n",
       "<tr>\n",
       "  <th>Skew:</th>          <td> 1.554</td>  <th>  Prob(JB):          </th> <td>4.04e-180</td>\n",
       "</tr>\n",
       "<tr>\n",
       "  <th>Kurtosis:</th>      <td> 8.434</td>  <th>  Cond. No.          </th> <td>2.37e+03</td> \n",
       "</tr>\n",
       "</table><br/><br/>Notes:<br/>[1] Standard Errors assume that the covariance matrix of the errors is correctly specified.<br/>[2] The condition number is large, 2.37e+03. This might indicate that there are<br/>strong multicollinearity or other numerical problems."
      ],
      "text/plain": [
       "<class 'statsmodels.iolib.summary.Summary'>\n",
       "\"\"\"\n",
       "                            OLS Regression Results                            \n",
       "==============================================================================\n",
       "Dep. Variable:                  price   R-squared:                       0.721\n",
       "Model:                            OLS   Adj. R-squared:                  0.712\n",
       "Method:                 Least Squares   F-statistic:                     84.34\n",
       "Date:                Wed, 21 Apr 2021   Prob (F-statistic):          4.19e-125\n",
       "Time:                        17:45:19   Log-Likelihood:                -1516.6\n",
       "No. Observations:                 506   AIC:                             3065.\n",
       "Df Residuals:                     490   BIC:                             3133.\n",
       "Df Model:                          15                                         \n",
       "Covariance Type:            nonrobust                                         \n",
       "============================================================================================\n",
       "                               coef    std err          t      P>|t|      [0.025      0.975]\n",
       "--------------------------------------------------------------------------------------------\n",
       "const                       -6.4986      5.264     -1.235      0.218     -16.842       3.844\n",
       "crime_rate                   0.0097      0.348      0.028      0.978      -0.674       0.694\n",
       "resid_area                  -0.0409      0.058     -0.710      0.478      -0.154       0.072\n",
       "air_qual                   -15.8974      4.004     -3.971      0.000     -23.764      -8.031\n",
       "room_num                     4.0190      0.427      9.421      0.000       3.181       4.857\n",
       "age                         -0.0057      0.014     -0.420      0.675      -0.032       0.021\n",
       "teachers                     1.0070      0.122      8.247      0.000       0.767       1.247\n",
       "poor_prop                   -0.5773      0.053    -10.955      0.000      -0.681      -0.474\n",
       "n_hos_beds                   0.3292      0.152      2.163      0.031       0.030       0.628\n",
       "n_hot_rooms                  0.0919      0.082      1.118      0.264      -0.070       0.253\n",
       "rainfall                     0.0161      0.018      0.904      0.367      -0.019       0.051\n",
       "avg_dist                    -1.2186      0.189     -6.450      0.000      -1.590      -0.847\n",
       "airport_YES                  1.1315      0.454      2.491      0.013       0.239       2.024\n",
       "waterbody_Lake               0.2641      0.642      0.411      0.681      -0.997       1.525\n",
       "waterbody_Lake and River    -0.6876      0.714     -0.963      0.336      -2.090       0.715\n",
       "waterbody_River             -0.2913      0.547     -0.533      0.594      -1.365       0.783\n",
       "==============================================================================\n",
       "Omnibus:                      182.596   Durbin-Watson:                   0.990\n",
       "Prob(Omnibus):                  0.000   Jarque-Bera (JB):              826.137\n",
       "Skew:                           1.554   Prob(JB):                    4.04e-180\n",
       "Kurtosis:                       8.434   Cond. No.                     2.37e+03\n",
       "==============================================================================\n",
       "\n",
       "Notes:\n",
       "[1] Standard Errors assume that the covariance matrix of the errors is correctly specified.\n",
       "[2] The condition number is large, 2.37e+03. This might indicate that there are\n",
       "strong multicollinearity or other numerical problems.\n",
       "\"\"\""
      ]
     },
     "execution_count": 42,
     "metadata": {},
     "output_type": "execute_result"
    }
   ],
   "source": [
    "lm_multi.summary()"
   ]
  },
  {
   "cell_type": "markdown",
   "metadata": {},
   "source": [
    "### With sklearn"
   ]
  },
  {
   "cell_type": "code",
   "execution_count": 43,
   "metadata": {},
   "outputs": [],
   "source": [
    "from sklearn.linear_model import LinearRegression"
   ]
  },
  {
   "cell_type": "code",
   "execution_count": 44,
   "metadata": {},
   "outputs": [
    {
     "data": {
      "text/html": [
       "<div>\n",
       "<style scoped>\n",
       "    .dataframe tbody tr th:only-of-type {\n",
       "        vertical-align: middle;\n",
       "    }\n",
       "\n",
       "    .dataframe tbody tr th {\n",
       "        vertical-align: top;\n",
       "    }\n",
       "\n",
       "    .dataframe thead th {\n",
       "        text-align: right;\n",
       "    }\n",
       "</style>\n",
       "<table border=\"1\" class=\"dataframe\">\n",
       "  <thead>\n",
       "    <tr style=\"text-align: right;\">\n",
       "      <th></th>\n",
       "      <th>crime_rate</th>\n",
       "      <th>resid_area</th>\n",
       "      <th>air_qual</th>\n",
       "      <th>room_num</th>\n",
       "      <th>age</th>\n",
       "      <th>teachers</th>\n",
       "      <th>poor_prop</th>\n",
       "      <th>n_hos_beds</th>\n",
       "      <th>n_hot_rooms</th>\n",
       "      <th>rainfall</th>\n",
       "      <th>avg_dist</th>\n",
       "      <th>airport_YES</th>\n",
       "      <th>waterbody_Lake</th>\n",
       "      <th>waterbody_Lake and River</th>\n",
       "      <th>waterbody_River</th>\n",
       "    </tr>\n",
       "  </thead>\n",
       "  <tbody>\n",
       "    <tr>\n",
       "      <th>0</th>\n",
       "      <td>0.006300</td>\n",
       "      <td>32.31</td>\n",
       "      <td>0.538</td>\n",
       "      <td>6.575</td>\n",
       "      <td>65.2</td>\n",
       "      <td>24.7</td>\n",
       "      <td>4.98</td>\n",
       "      <td>5.480</td>\n",
       "      <td>11.19200</td>\n",
       "      <td>23</td>\n",
       "      <td>4.0875</td>\n",
       "      <td>1</td>\n",
       "      <td>0</td>\n",
       "      <td>0</td>\n",
       "      <td>1</td>\n",
       "    </tr>\n",
       "    <tr>\n",
       "      <th>1</th>\n",
       "      <td>0.026944</td>\n",
       "      <td>37.07</td>\n",
       "      <td>0.469</td>\n",
       "      <td>6.421</td>\n",
       "      <td>78.9</td>\n",
       "      <td>22.2</td>\n",
       "      <td>9.14</td>\n",
       "      <td>7.332</td>\n",
       "      <td>12.17280</td>\n",
       "      <td>42</td>\n",
       "      <td>4.9675</td>\n",
       "      <td>0</td>\n",
       "      <td>1</td>\n",
       "      <td>0</td>\n",
       "      <td>0</td>\n",
       "    </tr>\n",
       "    <tr>\n",
       "      <th>2</th>\n",
       "      <td>0.026924</td>\n",
       "      <td>37.07</td>\n",
       "      <td>0.469</td>\n",
       "      <td>7.185</td>\n",
       "      <td>61.1</td>\n",
       "      <td>22.2</td>\n",
       "      <td>4.03</td>\n",
       "      <td>7.394</td>\n",
       "      <td>46.19856</td>\n",
       "      <td>38</td>\n",
       "      <td>4.9675</td>\n",
       "      <td>0</td>\n",
       "      <td>0</td>\n",
       "      <td>0</td>\n",
       "      <td>0</td>\n",
       "    </tr>\n",
       "    <tr>\n",
       "      <th>3</th>\n",
       "      <td>0.031857</td>\n",
       "      <td>32.18</td>\n",
       "      <td>0.458</td>\n",
       "      <td>6.998</td>\n",
       "      <td>45.8</td>\n",
       "      <td>21.3</td>\n",
       "      <td>2.94</td>\n",
       "      <td>9.268</td>\n",
       "      <td>11.26720</td>\n",
       "      <td>45</td>\n",
       "      <td>6.0650</td>\n",
       "      <td>1</td>\n",
       "      <td>1</td>\n",
       "      <td>0</td>\n",
       "      <td>0</td>\n",
       "    </tr>\n",
       "    <tr>\n",
       "      <th>4</th>\n",
       "      <td>0.066770</td>\n",
       "      <td>32.18</td>\n",
       "      <td>0.458</td>\n",
       "      <td>7.147</td>\n",
       "      <td>54.2</td>\n",
       "      <td>21.3</td>\n",
       "      <td>5.33</td>\n",
       "      <td>8.824</td>\n",
       "      <td>11.28960</td>\n",
       "      <td>55</td>\n",
       "      <td>6.0625</td>\n",
       "      <td>0</td>\n",
       "      <td>1</td>\n",
       "      <td>0</td>\n",
       "      <td>0</td>\n",
       "    </tr>\n",
       "  </tbody>\n",
       "</table>\n",
       "</div>"
      ],
      "text/plain": [
       "   crime_rate  resid_area  air_qual  room_num   age  teachers  poor_prop  \\\n",
       "0    0.006300       32.31     0.538     6.575  65.2      24.7       4.98   \n",
       "1    0.026944       37.07     0.469     6.421  78.9      22.2       9.14   \n",
       "2    0.026924       37.07     0.469     7.185  61.1      22.2       4.03   \n",
       "3    0.031857       32.18     0.458     6.998  45.8      21.3       2.94   \n",
       "4    0.066770       32.18     0.458     7.147  54.2      21.3       5.33   \n",
       "\n",
       "   n_hos_beds  n_hot_rooms  rainfall  avg_dist  airport_YES  waterbody_Lake  \\\n",
       "0       5.480     11.19200        23    4.0875            1               0   \n",
       "1       7.332     12.17280        42    4.9675            0               1   \n",
       "2       7.394     46.19856        38    4.9675            0               0   \n",
       "3       9.268     11.26720        45    6.0650            1               1   \n",
       "4       8.824     11.28960        55    6.0625            0               1   \n",
       "\n",
       "   waterbody_Lake and River  waterbody_River  \n",
       "0                         0                1  \n",
       "1                         0                0  \n",
       "2                         0                0  \n",
       "3                         0                0  \n",
       "4                         0                0  "
      ]
     },
     "execution_count": 44,
     "metadata": {},
     "output_type": "execute_result"
    }
   ],
   "source": [
    "X_multi.head()"
   ]
  },
  {
   "cell_type": "code",
   "execution_count": 45,
   "metadata": {},
   "outputs": [
    {
     "data": {
      "text/plain": [
       "0    24.0\n",
       "1    21.6\n",
       "2    34.7\n",
       "3    33.4\n",
       "4    36.2\n",
       "Name: price, dtype: float64"
      ]
     },
     "execution_count": 45,
     "metadata": {},
     "output_type": "execute_result"
    }
   ],
   "source": [
    "Y_multi.head()"
   ]
  },
  {
   "cell_type": "code",
   "execution_count": 46,
   "metadata": {},
   "outputs": [],
   "source": [
    "lm3 = LinearRegression()"
   ]
  },
  {
   "cell_type": "code",
   "execution_count": 47,
   "metadata": {},
   "outputs": [
    {
     "data": {
      "text/plain": [
       "LinearRegression()"
      ]
     },
     "execution_count": 47,
     "metadata": {},
     "output_type": "execute_result"
    }
   ],
   "source": [
    "lm3.fit(X_multi, Y_multi)"
   ]
  },
  {
   "cell_type": "code",
   "execution_count": 48,
   "metadata": {},
   "outputs": [
    {
     "name": "stdout",
     "output_type": "stream",
     "text": [
      "-6.498625198419852 [ 9.70998193e-03 -4.08746495e-02 -1.58973999e+01  4.01901676e+00\n",
      " -5.71475069e-03  1.00700068e+00 -5.77271243e-01  3.29221139e-01\n",
      "  9.18675603e-02  1.61185504e-02 -1.21863952e+00  1.13151586e+00\n",
      "  2.64086064e-01 -6.87555889e-01 -2.91318712e-01]\n"
     ]
    }
   ],
   "source": [
    "print(lm3.intercept_, lm3.coef_)"
   ]
  },
  {
   "cell_type": "markdown",
   "metadata": {},
   "source": [
    "## Train test"
   ]
  },
  {
   "cell_type": "code",
   "execution_count": 49,
   "metadata": {},
   "outputs": [],
   "source": [
    "from sklearn.model_selection import train_test_split"
   ]
  },
  {
   "cell_type": "code",
   "execution_count": 50,
   "metadata": {},
   "outputs": [],
   "source": [
    "X_train, X_test, y_train, y_test = train_test_split(X_multi,Y_multi, test_size = 0.2, random_state = 0)"
   ]
  },
  {
   "cell_type": "code",
   "execution_count": 51,
   "metadata": {},
   "outputs": [],
   "source": [
    "lm_a = LinearRegression()"
   ]
  },
  {
   "cell_type": "code",
   "execution_count": 52,
   "metadata": {},
   "outputs": [
    {
     "data": {
      "text/plain": [
       "LinearRegression()"
      ]
     },
     "execution_count": 52,
     "metadata": {},
     "output_type": "execute_result"
    }
   ],
   "source": [
    "lm_a.fit(X_train, y_train)"
   ]
  },
  {
   "cell_type": "code",
   "execution_count": 53,
   "metadata": {},
   "outputs": [],
   "source": [
    "y_test_a = lm_a.predict(X_test)"
   ]
  },
  {
   "cell_type": "code",
   "execution_count": 54,
   "metadata": {},
   "outputs": [],
   "source": [
    "y_train_a = lm_a.predict(X_train)"
   ]
  },
  {
   "cell_type": "markdown",
   "metadata": {},
   "source": [
    "## Accuracy"
   ]
  },
  {
   "cell_type": "code",
   "execution_count": 55,
   "metadata": {},
   "outputs": [],
   "source": [
    "from sklearn.metrics import r2_score"
   ]
  },
  {
   "cell_type": "code",
   "execution_count": 56,
   "metadata": {},
   "outputs": [
    {
     "data": {
      "text/plain": [
       "0.5496468288205675"
      ]
     },
     "execution_count": 56,
     "metadata": {},
     "output_type": "execute_result"
    }
   ],
   "source": [
    "r2_score(y_test,y_test_a)"
   ]
  },
  {
   "cell_type": "code",
   "execution_count": 57,
   "metadata": {},
   "outputs": [
    {
     "data": {
      "text/plain": [
       "0.756463540591123"
      ]
     },
     "execution_count": 57,
     "metadata": {},
     "output_type": "execute_result"
    }
   ],
   "source": [
    "r2_score(y_train,y_train_a)"
   ]
  },
  {
   "cell_type": "markdown",
   "metadata": {},
   "source": [
    "# Ridge-lasso"
   ]
  },
  {
   "cell_type": "markdown",
   "metadata": {},
   "source": [
    "## Standarize the variables"
   ]
  },
  {
   "cell_type": "code",
   "execution_count": 58,
   "metadata": {},
   "outputs": [],
   "source": [
    "from sklearn import preprocessing"
   ]
  },
  {
   "cell_type": "code",
   "execution_count": 59,
   "metadata": {},
   "outputs": [],
   "source": [
    "scaler = preprocessing.StandardScaler().fit(X_train)"
   ]
  },
  {
   "cell_type": "code",
   "execution_count": 60,
   "metadata": {},
   "outputs": [],
   "source": [
    "X_train_s = scaler.transform(X_train)"
   ]
  },
  {
   "cell_type": "code",
   "execution_count": 61,
   "metadata": {},
   "outputs": [],
   "source": [
    "X_test_s = scaler.transform(X_test)"
   ]
  },
  {
   "cell_type": "code",
   "execution_count": 62,
   "metadata": {},
   "outputs": [],
   "source": [
    "from sklearn.linear_model import Ridge"
   ]
  },
  {
   "cell_type": "code",
   "execution_count": 63,
   "metadata": {},
   "outputs": [],
   "source": [
    "lm_r = Ridge(alpha = 0.5)"
   ]
  },
  {
   "cell_type": "code",
   "execution_count": 64,
   "metadata": {},
   "outputs": [
    {
     "data": {
      "text/plain": [
       "Ridge(alpha=0.5)"
      ]
     },
     "execution_count": 64,
     "metadata": {},
     "output_type": "execute_result"
    }
   ],
   "source": [
    "lm_r.fit(X_train_s, y_train)"
   ]
  },
  {
   "cell_type": "code",
   "execution_count": 65,
   "metadata": {},
   "outputs": [
    {
     "data": {
      "text/plain": [
       "0.5494318046087934"
      ]
     },
     "execution_count": 65,
     "metadata": {},
     "output_type": "execute_result"
    }
   ],
   "source": [
    "r2_score(y_test, lm_r.predict(X_test_s))"
   ]
  },
  {
   "cell_type": "code",
   "execution_count": 90,
   "metadata": {},
   "outputs": [],
   "source": [
    "from sklearn.model_selection import validation_curve"
   ]
  },
  {
   "cell_type": "code",
   "execution_count": 91,
   "metadata": {},
   "outputs": [],
   "source": [
    "# Create 100 values \n",
    "param_range = np.logspace(-2,8-100)"
   ]
  },
  {
   "cell_type": "code",
   "execution_count": 92,
   "metadata": {},
   "outputs": [
    {
     "data": {
      "text/plain": [
       "array([1.00000000e-02, 1.45634848e-04, 2.12095089e-06, 3.08884360e-08,\n",
       "       4.49843267e-10, 6.55128557e-12, 9.54095476e-14, 1.38949549e-15,\n",
       "       2.02358965e-17, 2.94705170e-19, 4.29193426e-21, 6.25055193e-23,\n",
       "       9.10298178e-25, 1.32571137e-26, 1.93069773e-28, 2.81176870e-30,\n",
       "       4.09491506e-32, 5.96362332e-34, 8.68511374e-36, 1.26485522e-37,\n",
       "       1.84206997e-39, 2.68269580e-41, 3.90693994e-43, 5.68986603e-45,\n",
       "       8.28642773e-47, 1.20679264e-48, 1.75751062e-50, 2.55954792e-52,\n",
       "       3.72759372e-54, 5.42867544e-56, 7.90604321e-58, 1.15139540e-59,\n",
       "       1.67683294e-61, 2.44205309e-63, 3.55648031e-65, 5.17947468e-67,\n",
       "       7.54312006e-69, 1.09854114e-70, 1.59985872e-72, 2.32995181e-74,\n",
       "       3.39322177e-76, 4.94171336e-78, 7.19685673e-80, 1.04811313e-81,\n",
       "       1.52641797e-83, 2.22299648e-85, 3.23745754e-87, 4.71486636e-89,\n",
       "       6.86648845e-91, 1.00000000e-92])"
      ]
     },
     "execution_count": 92,
     "metadata": {},
     "output_type": "execute_result"
    }
   ],
   "source": [
    "# This are our lambda values\n",
    "param_range"
   ]
  },
  {
   "cell_type": "code",
   "execution_count": 96,
   "metadata": {},
   "outputs": [],
   "source": [
    "train_scores, test_scores = validation_curve(Ridge(),X_train_s, y_train, param_name=\"alpha\" , param_range= param_range, scoring=\"r2\")"
   ]
  },
  {
   "cell_type": "code",
   "execution_count": 97,
   "metadata": {
    "scrolled": true
   },
   "outputs": [
    {
     "name": "stdout",
     "output_type": "stream",
     "text": [
      "[[0.74930818 0.76259356 0.75261469 0.78222588 0.74587517]\n",
      " [0.74930818 0.76259356 0.75261469 0.78222588 0.74587517]\n",
      " [0.74930818 0.76259356 0.75261469 0.78222588 0.74587517]\n",
      " [0.74930818 0.76259356 0.75261469 0.78222588 0.74587517]\n",
      " [0.74930818 0.76259356 0.75261469 0.78222588 0.74587517]\n",
      " [0.74930818 0.76259356 0.75261469 0.78222588 0.74587517]\n",
      " [0.74930818 0.76259356 0.75261469 0.78222588 0.74587517]\n",
      " [0.74930818 0.76259356 0.75261469 0.78222588 0.74587517]\n",
      " [0.74930818 0.76259356 0.75261469 0.78222588 0.74587517]\n",
      " [0.74930818 0.76259356 0.75261469 0.78222588 0.74587517]\n",
      " [0.74930818 0.76259356 0.75261469 0.78222588 0.74587517]\n",
      " [0.74930818 0.76259356 0.75261469 0.78222588 0.74587517]\n",
      " [0.74930818 0.76259356 0.75261469 0.78222588 0.74587517]\n",
      " [0.74930818 0.76259356 0.75261469 0.78222588 0.74587517]\n",
      " [0.74930818 0.76259356 0.75261469 0.78222588 0.74587517]\n",
      " [0.74930818 0.76259356 0.75261469 0.78222588 0.74587517]\n",
      " [0.74930818 0.76259356 0.75261469 0.78222588 0.74587517]\n",
      " [0.74930818 0.76259356 0.75261469 0.78222588 0.74587517]\n",
      " [0.74930818 0.76259356 0.75261469 0.78222588 0.74587517]\n",
      " [0.74930818 0.76259356 0.75261469 0.78222588 0.74587517]\n",
      " [0.74930818 0.76259356 0.75261469 0.78222588 0.74587517]\n",
      " [0.74930818 0.76259356 0.75261469 0.78222588 0.74587517]\n",
      " [0.74930818 0.76259356 0.75261469 0.78222588 0.74587517]\n",
      " [0.74930818 0.76259356 0.75261469 0.78222588 0.74587517]\n",
      " [0.74930818 0.76259356 0.75261469 0.78222588 0.74587517]\n",
      " [0.74930818 0.76259356 0.75261469 0.78222588 0.74587517]\n",
      " [0.74930818 0.76259356 0.75261469 0.78222588 0.74587517]\n",
      " [0.74930818 0.76259356 0.75261469 0.78222588 0.74587517]\n",
      " [0.74930818 0.76259356 0.75261469 0.78222588 0.74587517]\n",
      " [0.74930818 0.76259356 0.75261469 0.78222588 0.74587517]\n",
      " [0.74930818 0.76259356 0.75261469 0.78222588 0.74587517]\n",
      " [0.74930818 0.76259356 0.75261469 0.78222588 0.74587517]\n",
      " [0.74930818 0.76259356 0.75261469 0.78222588 0.74587517]\n",
      " [0.74930818 0.76259356 0.75261469 0.78222588 0.74587517]\n",
      " [0.74930818 0.76259356 0.75261469 0.78222588 0.74587517]\n",
      " [0.74930818 0.76259356 0.75261469 0.78222588 0.74587517]\n",
      " [0.74930818 0.76259356 0.75261469 0.78222588 0.74587517]\n",
      " [0.74930818 0.76259356 0.75261469 0.78222588 0.74587517]\n",
      " [0.74930818 0.76259356 0.75261469 0.78222588 0.74587517]\n",
      " [0.74930818 0.76259356 0.75261469 0.78222588 0.74587517]\n",
      " [0.74930818 0.76259356 0.75261469 0.78222588 0.74587517]\n",
      " [0.74930818 0.76259356 0.75261469 0.78222588 0.74587517]\n",
      " [0.74930818 0.76259356 0.75261469 0.78222588 0.74587517]\n",
      " [0.74930818 0.76259356 0.75261469 0.78222588 0.74587517]\n",
      " [0.74930818 0.76259356 0.75261469 0.78222588 0.74587517]\n",
      " [0.74930818 0.76259356 0.75261469 0.78222588 0.74587517]\n",
      " [0.74930818 0.76259356 0.75261469 0.78222588 0.74587517]\n",
      " [0.74930818 0.76259356 0.75261469 0.78222588 0.74587517]\n",
      " [0.74930818 0.76259356 0.75261469 0.78222588 0.74587517]\n",
      " [0.74930818 0.76259356 0.75261469 0.78222588 0.74587517]]\n",
      "[[0.77129522 0.70926304 0.76546819 0.65969368 0.78241279]\n",
      " [0.77128447 0.70925843 0.76546901 0.65969789 0.7824139 ]\n",
      " [0.77128431 0.70925836 0.76546902 0.65969795 0.78241391]\n",
      " [0.77128431 0.70925836 0.76546902 0.65969796 0.78241391]\n",
      " [0.77128431 0.70925836 0.76546902 0.65969796 0.78241391]\n",
      " [0.77128431 0.70925836 0.76546902 0.65969796 0.78241391]\n",
      " [0.77128431 0.70925836 0.76546902 0.65969796 0.78241391]\n",
      " [0.77128431 0.70925836 0.76546902 0.65969796 0.78241391]\n",
      " [0.77128431 0.70925836 0.76546902 0.65969796 0.78241391]\n",
      " [0.77128431 0.70925836 0.76546902 0.65969796 0.78241391]\n",
      " [0.77128431 0.70925836 0.76546902 0.65969796 0.78241391]\n",
      " [0.77128431 0.70925836 0.76546902 0.65969796 0.78241391]\n",
      " [0.77128431 0.70925836 0.76546902 0.65969796 0.78241391]\n",
      " [0.77128431 0.70925836 0.76546902 0.65969796 0.78241391]\n",
      " [0.77128431 0.70925836 0.76546902 0.65969796 0.78241391]\n",
      " [0.77128431 0.70925836 0.76546902 0.65969796 0.78241391]\n",
      " [0.77128431 0.70925836 0.76546902 0.65969796 0.78241391]\n",
      " [0.77128431 0.70925836 0.76546902 0.65969796 0.78241391]\n",
      " [0.77128431 0.70925836 0.76546902 0.65969796 0.78241391]\n",
      " [0.77128431 0.70925836 0.76546902 0.65969796 0.78241391]\n",
      " [0.77128431 0.70925836 0.76546902 0.65969796 0.78241391]\n",
      " [0.77128431 0.70925836 0.76546902 0.65969796 0.78241391]\n",
      " [0.77128431 0.70925836 0.76546902 0.65969796 0.78241391]\n",
      " [0.77128431 0.70925836 0.76546902 0.65969796 0.78241391]\n",
      " [0.77128431 0.70925836 0.76546902 0.65969796 0.78241391]\n",
      " [0.77128431 0.70925836 0.76546902 0.65969796 0.78241391]\n",
      " [0.77128431 0.70925836 0.76546902 0.65969796 0.78241391]\n",
      " [0.77128431 0.70925836 0.76546902 0.65969796 0.78241391]\n",
      " [0.77128431 0.70925836 0.76546902 0.65969796 0.78241391]\n",
      " [0.77128431 0.70925836 0.76546902 0.65969796 0.78241391]\n",
      " [0.77128431 0.70925836 0.76546902 0.65969796 0.78241391]\n",
      " [0.77128431 0.70925836 0.76546902 0.65969796 0.78241391]\n",
      " [0.77128431 0.70925836 0.76546902 0.65969796 0.78241391]\n",
      " [0.77128431 0.70925836 0.76546902 0.65969796 0.78241391]\n",
      " [0.77128431 0.70925836 0.76546902 0.65969796 0.78241391]\n",
      " [0.77128431 0.70925836 0.76546902 0.65969796 0.78241391]\n",
      " [0.77128431 0.70925836 0.76546902 0.65969796 0.78241391]\n",
      " [0.77128431 0.70925836 0.76546902 0.65969796 0.78241391]\n",
      " [0.77128431 0.70925836 0.76546902 0.65969796 0.78241391]\n",
      " [0.77128431 0.70925836 0.76546902 0.65969796 0.78241391]\n",
      " [0.77128431 0.70925836 0.76546902 0.65969796 0.78241391]\n",
      " [0.77128431 0.70925836 0.76546902 0.65969796 0.78241391]\n",
      " [0.77128431 0.70925836 0.76546902 0.65969796 0.78241391]\n",
      " [0.77128431 0.70925836 0.76546902 0.65969796 0.78241391]\n",
      " [0.77128431 0.70925836 0.76546902 0.65969796 0.78241391]\n",
      " [0.77128431 0.70925836 0.76546902 0.65969796 0.78241391]\n",
      " [0.77128431 0.70925836 0.76546902 0.65969796 0.78241391]\n",
      " [0.77128431 0.70925836 0.76546902 0.65969796 0.78241391]\n",
      " [0.77128431 0.70925836 0.76546902 0.65969796 0.78241391]\n",
      " [0.77128431 0.70925836 0.76546902 0.65969796 0.78241391]]\n"
     ]
    }
   ],
   "source": [
    "print(train_scores)\n",
    "print(test_scores)"
   ]
  },
  {
   "cell_type": "code",
   "execution_count": 98,
   "metadata": {},
   "outputs": [],
   "source": [
    "train_mean = np.mean(train_scores,axis = 1)"
   ]
  },
  {
   "cell_type": "code",
   "execution_count": 99,
   "metadata": {},
   "outputs": [],
   "source": [
    "test_mean = np.mean(test_scores,axis=1)"
   ]
  },
  {
   "cell_type": "code",
   "execution_count": 100,
   "metadata": {},
   "outputs": [
    {
     "data": {
      "text/plain": [
       "array([0.7585235, 0.7585235, 0.7585235, 0.7585235, 0.7585235, 0.7585235,\n",
       "       0.7585235, 0.7585235, 0.7585235, 0.7585235, 0.7585235, 0.7585235,\n",
       "       0.7585235, 0.7585235, 0.7585235, 0.7585235, 0.7585235, 0.7585235,\n",
       "       0.7585235, 0.7585235, 0.7585235, 0.7585235, 0.7585235, 0.7585235,\n",
       "       0.7585235, 0.7585235, 0.7585235, 0.7585235, 0.7585235, 0.7585235,\n",
       "       0.7585235, 0.7585235, 0.7585235, 0.7585235, 0.7585235, 0.7585235,\n",
       "       0.7585235, 0.7585235, 0.7585235, 0.7585235, 0.7585235, 0.7585235,\n",
       "       0.7585235, 0.7585235, 0.7585235, 0.7585235, 0.7585235, 0.7585235,\n",
       "       0.7585235, 0.7585235])"
      ]
     },
     "execution_count": 100,
     "metadata": {},
     "output_type": "execute_result"
    }
   ],
   "source": [
    "train_mean"
   ]
  },
  {
   "cell_type": "code",
   "execution_count": 101,
   "metadata": {},
   "outputs": [
    {
     "data": {
      "text/plain": [
       "<seaborn.axisgrid.JointGrid at 0x262019f2670>"
      ]
     },
     "execution_count": 101,
     "metadata": {},
     "output_type": "execute_result"
    },
    {
     "data": {
      "image/png": "[encoded data removed]",
      "text/plain": [
       "<Figure size 432x432 with 3 Axes>"
      ]
     },
     "metadata": {
      "needs_background": "light"
     },
     "output_type": "display_data"
    }
   ],
   "source": [
    "sns.jointplot(x = np.log(param_range), y = test_mean)"
   ]
  },
  {
   "cell_type": "code",
   "execution_count": null,
   "metadata": {},
   "outputs": [],
   "source": [
    "lm_"
   ]
  }
 ],
 "metadata": {
  "kernelspec": {
   "display_name": "Python 3",
   "language": "python",
   "name": "python3"
  },
  "language_info": {
   "codemirror_mode": {
    "name": "ipython",
    "version": 3
   },
   "file_extension": ".py",
   "mimetype": "text/x-python",
   "name": "python",
   "nbconvert_exporter": "python",
   "pygments_lexer": "ipython3",
   "version": "3.8.5"
  }
 },
 "nbformat": 4,
 "nbformat_minor": 4
}
