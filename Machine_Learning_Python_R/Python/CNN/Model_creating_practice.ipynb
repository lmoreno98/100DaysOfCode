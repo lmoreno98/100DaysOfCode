{
 "cells": [
  {
   "cell_type": "code",
   "execution_count": 1,
   "metadata": {},
   "outputs": [],
   "source": [
    "import pandas as pd \n",
    "import numpy as np\n",
    "import seaborn as sns\n",
    "import matplotlib.pyplot as plt\n",
    "import tensorflow as tf\n",
    "from tensorflow import keras"
   ]
  },
  {
   "cell_type": "code",
   "execution_count": 2,
   "metadata": {},
   "outputs": [],
   "source": [
    "fashion_mnist = keras.datasets.fashion_mnist\n",
    "(X_train_full ,y_train_full), (X_test, y_test) = fashion_mnist.load_data()"
   ]
  },
  {
   "cell_type": "code",
   "execution_count": 3,
   "metadata": {},
   "outputs": [],
   "source": [
    "class_names = [\"T-shirt/top\", \"Trouser\", \"Pullover\", \"Dress\", \"Coat\",\n",
    "              \"Sandal\", \"Shirt\", \"Sneaker\", \"Bag\", \"Ankle Boot\"]"
   ]
  },
  {
   "cell_type": "markdown",
   "metadata": {},
   "source": [
    "# Data reshape"
   ]
  },
  {
   "cell_type": "code",
   "execution_count": 4,
   "metadata": {},
   "outputs": [],
   "source": [
    "X_train_full = X_train_full.reshape((60000,28,28,1))\n",
    "X_test = X_test.reshape((10000,28,28,1))"
   ]
  },
  {
   "cell_type": "markdown",
   "metadata": {},
   "source": [
    "# Data normalization"
   ]
  },
  {
   "cell_type": "code",
   "execution_count": 5,
   "metadata": {},
   "outputs": [],
   "source": [
    "X_train_n = X_train_full / 255.\n",
    "X_test_n = X_test / 255."
   ]
  },
  {
   "cell_type": "markdown",
   "metadata": {},
   "source": [
    "# Train Validation Test data sets"
   ]
  },
  {
   "cell_type": "code",
   "execution_count": 6,
   "metadata": {},
   "outputs": [],
   "source": [
    "X_valid, X_train = X_train_n[:5000], X_train_n[5000:]\n",
    "y_valid, y_train = y_train_full[:5000], y_train_full[5000:]\n",
    "X_test = X_test_n"
   ]
  },
  {
   "cell_type": "markdown",
   "metadata": {},
   "source": [
    "# Create the model architecture"
   ]
  },
  {
   "cell_type": "code",
   "execution_count": 7,
   "metadata": {},
   "outputs": [],
   "source": [
    "np.random.seed(42)\n",
    "tf.random.set_seed(42)"
   ]
  },
  {
   "cell_type": "code",
   "execution_count": 8,
   "metadata": {},
   "outputs": [],
   "source": [
    "model = keras.models.Sequential()\n",
    "model.add(keras.layers.Conv2D(filters = 32, kernel_size = (3,3), strides = 1 ,padding = \"valid\", activation = \"relu\", input_shape = (28,28,1)))\n",
    "model.add(keras.layers.MaxPooling2D((2,2)))\n",
    "\n",
    "model.add(keras.layers.Flatten(input_shape = [28,28]))\n",
    "model.add(keras.layers.Dense(300, activation = \"relu\"))\n",
    "model.add(keras.layers.Dense(100, activation = \"relu\"))\n",
    "model.add(keras.layers.Dense(10,activation = \"softmax\"))"
   ]
  },
  {
   "cell_type": "code",
   "execution_count": 9,
   "metadata": {},
   "outputs": [
    {
     "name": "stdout",
     "output_type": "stream",
     "text": [
      "Model: \"sequential\"\n",
      "_________________________________________________________________\n",
      "Layer (type)                 Output Shape              Param #   \n",
      "=================================================================\n",
      "conv2d (Conv2D)              (None, 26, 26, 32)        320       \n",
      "_________________________________________________________________\n",
      "max_pooling2d (MaxPooling2D) (None, 13, 13, 32)        0         \n",
      "_________________________________________________________________\n",
      "flatten (Flatten)            (None, 5408)              0         \n",
      "_________________________________________________________________\n",
      "dense (Dense)                (None, 300)               1622700   \n",
      "_________________________________________________________________\n",
      "dense_1 (Dense)              (None, 100)               30100     \n",
      "_________________________________________________________________\n",
      "dense_2 (Dense)              (None, 10)                1010      \n",
      "=================================================================\n",
      "Total params: 1,654,130\n",
      "Trainable params: 1,654,130\n",
      "Non-trainable params: 0\n",
      "_________________________________________________________________\n"
     ]
    }
   ],
   "source": [
    "model.summary()"
   ]
  },
  {
   "cell_type": "code",
   "execution_count": 10,
   "metadata": {},
   "outputs": [],
   "source": [
    "model.compile(loss = \"sparse_categorical_crossentropy\",\n",
    "             optimizer = \"sgd\",\n",
    "              metrics = [\"accuracy\"])"
   ]
  },
  {
   "cell_type": "code",
   "execution_count": 11,
   "metadata": {},
   "outputs": [],
   "source": [
    "checkpoint_cb = keras.callbacks.ModelCheckpoint(\"Best_Model.h5\", save_best_only=True)"
   ]
  },
  {
   "cell_type": "code",
   "execution_count": 12,
   "metadata": {},
   "outputs": [
    {
     "name": "stdout",
     "output_type": "stream",
     "text": [
      "Epoch 1/30\n",
      "860/860 [==============================] - 23s 26ms/step - loss: 1.2808 - accuracy: 0.5729 - val_loss: 0.7443 - val_accuracy: 0.7376\n",
      "Epoch 2/30\n",
      "860/860 [==============================] - 23s 26ms/step - loss: 0.5667 - accuracy: 0.7955 - val_loss: 0.4968 - val_accuracy: 0.8144\n",
      "Epoch 3/30\n",
      "860/860 [==============================] - 23s 27ms/step - loss: 0.4948 - accuracy: 0.8207 - val_loss: 0.9007 - val_accuracy: 0.7116\n",
      "Epoch 4/30\n",
      "860/860 [==============================] - 21s 25ms/step - loss: 0.4547 - accuracy: 0.8380 - val_loss: 0.4141 - val_accuracy: 0.8566\n",
      "Epoch 5/30\n",
      "860/860 [==============================] - 21s 24ms/step - loss: 0.4343 - accuracy: 0.8437 - val_loss: 0.4420 - val_accuracy: 0.8440\n",
      "Epoch 6/30\n",
      "860/860 [==============================] - 24s 28ms/step - loss: 0.3986 - accuracy: 0.8559 - val_loss: 0.3779 - val_accuracy: 0.8700\n",
      "Epoch 7/30\n",
      "860/860 [==============================] - 24s 27ms/step - loss: 0.3830 - accuracy: 0.8652 - val_loss: 0.4099 - val_accuracy: 0.8538\n",
      "Epoch 8/30\n",
      "860/860 [==============================] - 22s 25ms/step - loss: 0.3622 - accuracy: 0.8693 - val_loss: 0.5086 - val_accuracy: 0.8114\n",
      "Epoch 9/30\n",
      "860/860 [==============================] - 22s 25ms/step - loss: 0.3580 - accuracy: 0.8700 - val_loss: 0.3675 - val_accuracy: 0.8698\n",
      "Epoch 10/30\n",
      "860/860 [==============================] - 22s 25ms/step - loss: 0.3367 - accuracy: 0.8791 - val_loss: 0.3854 - val_accuracy: 0.8594\n",
      "Epoch 11/30\n",
      "860/860 [==============================] - 22s 25ms/step - loss: 0.3258 - accuracy: 0.8802 - val_loss: 0.3464 - val_accuracy: 0.8758\n",
      "Epoch 12/30\n",
      "860/860 [==============================] - 22s 25ms/step - loss: 0.3112 - accuracy: 0.8882 - val_loss: 0.3225 - val_accuracy: 0.8896\n",
      "Epoch 13/30\n",
      "860/860 [==============================] - 22s 25ms/step - loss: 0.3035 - accuracy: 0.8911 - val_loss: 0.3313 - val_accuracy: 0.8892\n",
      "Epoch 14/30\n",
      "860/860 [==============================] - 22s 25ms/step - loss: 0.2985 - accuracy: 0.8903 - val_loss: 0.3916 - val_accuracy: 0.8570\n",
      "Epoch 15/30\n",
      "860/860 [==============================] - 22s 25ms/step - loss: 0.2917 - accuracy: 0.8941 - val_loss: 0.3822 - val_accuracy: 0.8612\n",
      "Epoch 16/30\n",
      "860/860 [==============================] - 22s 25ms/step - loss: 0.2826 - accuracy: 0.8969 - val_loss: 0.2966 - val_accuracy: 0.8926\n",
      "Epoch 17/30\n",
      "860/860 [==============================] - 22s 26ms/step - loss: 0.2734 - accuracy: 0.9008 - val_loss: 0.4122 - val_accuracy: 0.8602\n",
      "Epoch 18/30\n",
      "860/860 [==============================] - 21s 25ms/step - loss: 0.2729 - accuracy: 0.9008 - val_loss: 0.3493 - val_accuracy: 0.8738\n",
      "Epoch 19/30\n",
      "860/860 [==============================] - 22s 25ms/step - loss: 0.2679 - accuracy: 0.9023 - val_loss: 0.3099 - val_accuracy: 0.8892\n",
      "Epoch 20/30\n",
      "860/860 [==============================] - 21s 25ms/step - loss: 0.2617 - accuracy: 0.9040 - val_loss: 0.3262 - val_accuracy: 0.8834\n",
      "Epoch 21/30\n",
      "860/860 [==============================] - 22s 25ms/step - loss: 0.2569 - accuracy: 0.9068 - val_loss: 0.2834 - val_accuracy: 0.9010\n",
      "Epoch 22/30\n",
      "860/860 [==============================] - 22s 25ms/step - loss: 0.2507 - accuracy: 0.9084 - val_loss: 0.2863 - val_accuracy: 0.8974\n",
      "Epoch 23/30\n",
      "860/860 [==============================] - 22s 25ms/step - loss: 0.2474 - accuracy: 0.9085 - val_loss: 0.2792 - val_accuracy: 0.9042\n",
      "Epoch 24/30\n",
      "860/860 [==============================] - 22s 25ms/step - loss: 0.2369 - accuracy: 0.9135 - val_loss: 0.2980 - val_accuracy: 0.8922\n",
      "Epoch 25/30\n",
      "860/860 [==============================] - 22s 26ms/step - loss: 0.2369 - accuracy: 0.9143 - val_loss: 0.2905 - val_accuracy: 0.8952\n",
      "Epoch 26/30\n",
      "860/860 [==============================] - 22s 25ms/step - loss: 0.2336 - accuracy: 0.9144 - val_loss: 0.2771 - val_accuracy: 0.9046\n",
      "Epoch 27/30\n",
      "860/860 [==============================] - 22s 26ms/step - loss: 0.2278 - accuracy: 0.9164 - val_loss: 0.2733 - val_accuracy: 0.8994\n",
      "Epoch 28/30\n",
      "860/860 [==============================] - 22s 25ms/step - loss: 0.2181 - accuracy: 0.9190 - val_loss: 0.3073 - val_accuracy: 0.8916\n",
      "Epoch 29/30\n",
      "860/860 [==============================] - 21s 25ms/step - loss: 0.2169 - accuracy: 0.9193 - val_loss: 0.2719 - val_accuracy: 0.9034\n",
      "Epoch 30/30\n",
      "860/860 [==============================] - 22s 25ms/step - loss: 0.2123 - accuracy: 0.9222 - val_loss: 0.2755 - val_accuracy: 0.9004\n"
     ]
    }
   ],
   "source": [
    "model_history = model.fit(X_train, y_train, epochs=30, batch_size = 64,\n",
    "                         validation_data = (X_valid,y_valid),\n",
    "                         callbacks=[checkpoint_cb])"
   ]
  },
  {
   "cell_type": "code",
   "execution_count": 13,
   "metadata": {},
   "outputs": [
    {
     "data": {
      "text/plain": [
       "(0.0, 1.0)"
      ]
     },
     "execution_count": 13,
     "metadata": {},
     "output_type": "execute_result"
    },
    {
     "data": {
      "image/png": "[encoded data removed]",
      "text/plain": [
       "<Figure size 576x360 with 1 Axes>"
      ]
     },
     "metadata": {
      "needs_background": "light"
     },
     "output_type": "display_data"
    }
   ],
   "source": [
    "import pandas as pd\n",
    "\n",
    "pd.DataFrame(model_history.history).plot(figsize = (8,5))\n",
    "plt.grid(True)\n",
    "plt.gca().set_ylim(0,1)"
   ]
  },
  {
   "cell_type": "code",
   "execution_count": 14,
   "metadata": {},
   "outputs": [
    {
     "name": "stdout",
     "output_type": "stream",
     "text": [
      "313/313 [==============================] - 2s 5ms/step - loss: 0.2856 - accuracy: 0.8988\n"
     ]
    }
   ],
   "source": [
    "ev = model.evaluate(X_test_n, y_test)"
   ]
  },
  {
   "cell_type": "code",
   "execution_count": 15,
   "metadata": {},
   "outputs": [
    {
     "data": {
      "text/plain": [
       "[0.2856121361255646, 0.8988000154495239]"
      ]
     },
     "execution_count": 15,
     "metadata": {},
     "output_type": "execute_result"
    }
   ],
   "source": [
    "ev"
   ]
  },
  {
   "cell_type": "code",
   "execution_count": 17,
   "metadata": {},
   "outputs": [
    {
     "data": {
      "text/plain": [
       "array([[[[0.],\n",
       "         [0.],\n",
       "         [0.],\n",
       "         ...,\n",
       "         [0.],\n",
       "         [0.],\n",
       "         [0.]],\n",
       "\n",
       "        [[0.],\n",
       "         [0.],\n",
       "         [0.],\n",
       "         ...,\n",
       "         [0.],\n",
       "         [0.],\n",
       "         [0.]],\n",
       "\n",
       "        [[0.],\n",
       "         [0.],\n",
       "         [0.],\n",
       "         ...,\n",
       "         [0.],\n",
       "         [0.],\n",
       "         [0.]],\n",
       "\n",
       "        ...,\n",
       "\n",
       "        [[0.],\n",
       "         [0.],\n",
       "         [0.],\n",
       "         ...,\n",
       "         [0.],\n",
       "         [0.],\n",
       "         [0.]],\n",
       "\n",
       "        [[0.],\n",
       "         [0.],\n",
       "         [0.],\n",
       "         ...,\n",
       "         [0.],\n",
       "         [0.],\n",
       "         [0.]],\n",
       "\n",
       "        [[0.],\n",
       "         [0.],\n",
       "         [0.],\n",
       "         ...,\n",
       "         [0.],\n",
       "         [0.],\n",
       "         [0.]]],\n",
       "\n",
       "\n",
       "       [[[0.],\n",
       "         [0.],\n",
       "         [0.],\n",
       "         ...,\n",
       "         [0.],\n",
       "         [0.],\n",
       "         [0.]],\n",
       "\n",
       "        [[0.],\n",
       "         [0.],\n",
       "         [0.],\n",
       "         ...,\n",
       "         [0.],\n",
       "         [0.],\n",
       "         [0.]],\n",
       "\n",
       "        [[0.],\n",
       "         [0.],\n",
       "         [0.],\n",
       "         ...,\n",
       "         [0.],\n",
       "         [0.],\n",
       "         [0.]],\n",
       "\n",
       "        ...,\n",
       "\n",
       "        [[0.],\n",
       "         [0.],\n",
       "         [0.],\n",
       "         ...,\n",
       "         [0.],\n",
       "         [0.],\n",
       "         [0.]],\n",
       "\n",
       "        [[0.],\n",
       "         [0.],\n",
       "         [0.],\n",
       "         ...,\n",
       "         [0.],\n",
       "         [0.],\n",
       "         [0.]],\n",
       "\n",
       "        [[0.],\n",
       "         [0.],\n",
       "         [0.],\n",
       "         ...,\n",
       "         [0.],\n",
       "         [0.],\n",
       "         [0.]]],\n",
       "\n",
       "\n",
       "       [[[0.],\n",
       "         [0.],\n",
       "         [0.],\n",
       "         ...,\n",
       "         [0.],\n",
       "         [0.],\n",
       "         [0.]],\n",
       "\n",
       "        [[0.],\n",
       "         [0.],\n",
       "         [0.],\n",
       "         ...,\n",
       "         [0.],\n",
       "         [0.],\n",
       "         [0.]],\n",
       "\n",
       "        [[0.],\n",
       "         [0.],\n",
       "         [0.],\n",
       "         ...,\n",
       "         [0.],\n",
       "         [0.],\n",
       "         [0.]],\n",
       "\n",
       "        ...,\n",
       "\n",
       "        [[0.],\n",
       "         [0.],\n",
       "         [0.],\n",
       "         ...,\n",
       "         [0.],\n",
       "         [0.],\n",
       "         [0.]],\n",
       "\n",
       "        [[0.],\n",
       "         [0.],\n",
       "         [0.],\n",
       "         ...,\n",
       "         [0.],\n",
       "         [0.],\n",
       "         [0.]],\n",
       "\n",
       "        [[0.],\n",
       "         [0.],\n",
       "         [0.],\n",
       "         ...,\n",
       "         [0.],\n",
       "         [0.],\n",
       "         [0.]]]])"
      ]
     },
     "execution_count": 17,
     "metadata": {},
     "output_type": "execute_result"
    }
   ],
   "source": [
    "X_new = X_test[:3]\n",
    "X_new"
   ]
  },
  {
   "cell_type": "code",
   "execution_count": 19,
   "metadata": {},
   "outputs": [
    {
     "data": {
      "text/plain": [
       "array([9, 2, 1], dtype=int64)"
      ]
     },
     "execution_count": 19,
     "metadata": {},
     "output_type": "execute_result"
    }
   ],
   "source": [
    "y_pred = model.predict_classes(X_new)\n",
    "y_pred"
   ]
  },
  {
   "cell_type": "code",
   "execution_count": 20,
   "metadata": {},
   "outputs": [
    {
     "data": {
      "text/plain": [
       "array([9, 2, 1], dtype=uint8)"
      ]
     },
     "execution_count": 20,
     "metadata": {},
     "output_type": "execute_result"
    }
   ],
   "source": [
    "y_test[:3]"
   ]
  },
  {
   "cell_type": "code",
   "execution_count": 23,
   "metadata": {},
   "outputs": [
    {
     "name": "stdout",
     "output_type": "stream",
     "text": [
      "AxesImage(54,36;334.8x217.44)\n"
     ]
    },
    {
     "data": {
      "image/png": "[encoded data removed]",
      "text/plain": [
       "<Figure size 432x288 with 1 Axes>"
      ]
     },
     "metadata": {
      "needs_background": "light"
     },
     "output_type": "display_data"
    }
   ],
   "source": [
    "print(plt.imshow(X_test[0].reshape(28,28)))"
   ]
  },
  {
   "cell_type": "code",
   "execution_count": 24,
   "metadata": {},
   "outputs": [
    {
     "data": {
      "text/plain": [
       "<function tensorflow.python.keras.backend.clear_session()>"
      ]
     },
     "execution_count": 24,
     "metadata": {},
     "output_type": "execute_result"
    }
   ],
   "source": [
    "keras.backend.clear_session"
   ]
  },
  {
   "cell_type": "code",
   "execution_count": 25,
   "metadata": {},
   "outputs": [],
   "source": [
    "del model"
   ]
  },
  {
   "cell_type": "code",
   "execution_count": null,
   "metadata": {},
   "outputs": [],
   "source": []
  }
 ],
 "metadata": {
  "kernelspec": {
   "display_name": "Python 3",
   "language": "python",
   "name": "python3"
  },
  "language_info": {
   "codemirror_mode": {
    "name": "ipython",
    "version": 3
   },
   "file_extension": ".py",
   "mimetype": "text/x-python",
   "name": "python",
   "nbconvert_exporter": "python",
   "pygments_lexer": "ipython3",
   "version": "3.8.5"
  }
 },
 "nbformat": 4,
 "nbformat_minor": 4
}
