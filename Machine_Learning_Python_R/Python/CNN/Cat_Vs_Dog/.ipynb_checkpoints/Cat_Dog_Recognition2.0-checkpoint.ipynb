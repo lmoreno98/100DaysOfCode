{
 "cells": [
  {
   "cell_type": "code",
   "execution_count": 34,
   "metadata": {},
   "outputs": [],
   "source": [
    "import pandas as pd \n",
    "import numpy as np\n",
    "import matplotlib.pyplot as plt\n",
    "import tensorflow as tf\n",
    "from tensorflow import keras\n",
    "import os"
   ]
  },
  {
   "cell_type": "markdown",
   "metadata": {},
   "source": [
    "# Data slit \n",
    "* 2000 img for train the model\n",
    "* 1000 img for validation the model\n",
    "* 1000 img for test the model"
   ]
  },
  {
   "cell_type": "code",
   "execution_count": 35,
   "metadata": {},
   "outputs": [],
   "source": [
    "train_dir = r'C:/Users/lucho/Desktop/Programacion/Python/Github/100DaysOfCode/Machine_Learning_Python_R/Python/CNN/Cat_Vs_Dog/train/'\n",
    "test_dir = r'C:/Users/lucho/Desktop/Programacion/Python/Github/100DaysOfCode/Machine_Learning_Python_R/Python/CNN/Cat_Vs_Dog/test/'\n",
    "validation_dir = r'C:/Users/lucho/Desktop/Programacion/Python/Github/100DaysOfCode/Machine_Learning_Python_R/Python/CNN/Cat_Vs_Dog/validation/'"
   ]
  },
  {
   "cell_type": "markdown",
   "metadata": {},
   "source": [
    "# Data preprosecing\n",
    "* Read the pictures\n",
    "* Decode the jpg content to RGB grid of pixel\n",
    "* Convert these into floating point tensors\n",
    "* Rescalate the pixel values (Between 0 and 255) to the (0,1) interval"
   ]
  },
  {
   "cell_type": "code",
   "execution_count": 36,
   "metadata": {},
   "outputs": [],
   "source": [
    "from tensorflow.keras.preprocessing.image import ImageDataGenerator"
   ]
  },
  {
   "cell_type": "markdown",
   "metadata": {},
   "source": [
    "# In this proyect in the first part to avoid the overfitting we transfor the img and make dummy varaibles"
   ]
  },
  {
   "cell_type": "code",
   "execution_count": 37,
   "metadata": {},
   "outputs": [],
   "source": [
    "train_datagen = ImageDataGenerator(\n",
    "    rescale=1./255,\n",
    "    rotation_range= 40,\n",
    "    width_shift_range=0.2,\n",
    "    height_shift_range=0.2,\n",
    "    shear_range= 0.2,\n",
    "    zoom_range= 0.2,\n",
    "    horizontal_flip=True,)\n",
    "\n",
    "test_datagen = ImageDataGenerator(rescale=1./255)"
   ]
  },
  {
   "cell_type": "code",
   "execution_count": 38,
   "metadata": {},
   "outputs": [
    {
     "name": "stdout",
     "output_type": "stream",
     "text": [
      "Found 2000 images belonging to 2 classes.\n",
      "Found 1000 images belonging to 2 classes.\n"
     ]
    }
   ],
   "source": [
    "train_generator = train_datagen.flow_from_directory(\n",
    "        train_dir,\n",
    "        target_size=(150,150),\n",
    "        batch_size= 32,\n",
    "        class_mode=\"binary\")\n",
    "\n",
    "valid_generator = test_datagen.flow_from_directory(\n",
    "        validation_dir,\n",
    "        target_size=(150,150),\n",
    "        batch_size= 32,\n",
    "        class_mode=\"binary\")"
   ]
  },
  {
   "cell_type": "code",
   "execution_count": 6,
   "metadata": {},
   "outputs": [],
   "source": [
    "from tensorflow.keras import layers\n",
    "from tensorflow.keras import models"
   ]
  },
  {
   "cell_type": "code",
   "execution_count": 7,
   "metadata": {},
   "outputs": [],
   "source": [
    "model = models.Sequential()\n",
    "model.add(layers.Conv2D(32, (3, 3), activation='relu',\n",
    "                        input_shape=(150, 150, 3)))\n",
    "model.add(layers.MaxPooling2D((2, 2)))\n",
    "model.add(layers.Conv2D(64, (3, 3), activation='relu'))\n",
    "model.add(layers.MaxPooling2D((2, 2)))\n",
    "model.add(layers.Conv2D(128, (3, 3), activation='relu'))\n",
    "model.add(layers.MaxPooling2D((2, 2)))\n",
    "model.add(layers.Conv2D(128, (3, 3), activation='relu'))\n",
    "model.add(layers.MaxPooling2D((2, 2)))\n",
    "model.add(layers.Flatten())\n",
    "model.add(layers.Dropout(0.5))\n",
    "model.add(layers.Dense(512, activation='relu'))\n",
    "model.add(layers.Dense(1, activation='sigmoid'))\n",
    "\n"
   ]
  },
  {
   "cell_type": "code",
   "execution_count": 8,
   "metadata": {},
   "outputs": [
    {
     "name": "stdout",
     "output_type": "stream",
     "text": [
      "Model: \"sequential\"\n",
      "_________________________________________________________________\n",
      "Layer (type)                 Output Shape              Param #   \n",
      "=================================================================\n",
      "conv2d (Conv2D)              (None, 148, 148, 32)      896       \n",
      "_________________________________________________________________\n",
      "max_pooling2d (MaxPooling2D) (None, 74, 74, 32)        0         \n",
      "_________________________________________________________________\n",
      "conv2d_1 (Conv2D)            (None, 72, 72, 64)        18496     \n",
      "_________________________________________________________________\n",
      "max_pooling2d_1 (MaxPooling2 (None, 36, 36, 64)        0         \n",
      "_________________________________________________________________\n",
      "conv2d_2 (Conv2D)            (None, 34, 34, 128)       73856     \n",
      "_________________________________________________________________\n",
      "max_pooling2d_2 (MaxPooling2 (None, 17, 17, 128)       0         \n",
      "_________________________________________________________________\n",
      "conv2d_3 (Conv2D)            (None, 15, 15, 128)       147584    \n",
      "_________________________________________________________________\n",
      "max_pooling2d_3 (MaxPooling2 (None, 7, 7, 128)         0         \n",
      "_________________________________________________________________\n",
      "flatten (Flatten)            (None, 6272)              0         \n",
      "_________________________________________________________________\n",
      "dropout (Dropout)            (None, 6272)              0         \n",
      "_________________________________________________________________\n",
      "dense (Dense)                (None, 512)               3211776   \n",
      "_________________________________________________________________\n",
      "dense_1 (Dense)              (None, 1)                 513       \n",
      "=================================================================\n",
      "Total params: 3,453,121\n",
      "Trainable params: 3,453,121\n",
      "Non-trainable params: 0\n",
      "_________________________________________________________________\n"
     ]
    }
   ],
   "source": [
    "model.summary()"
   ]
  },
  {
   "cell_type": "code",
   "execution_count": 9,
   "metadata": {},
   "outputs": [],
   "source": [
    "from tensorflow import optimizers"
   ]
  },
  {
   "cell_type": "code",
   "execution_count": 10,
   "metadata": {},
   "outputs": [],
   "source": [
    "model.compile(loss = \"binary_crossentropy\",\n",
    "             optimizer = optimizers.RMSprop(lr = 1e-4),\n",
    "             metrics = [\"acc\"])\n",
    "checkpoint_cb = keras.callbacks.ModelCheckpoint(\"Best_Model.h5\", save_best_only=True)"
   ]
  },
  {
   "cell_type": "code",
   "execution_count": 11,
   "metadata": {},
   "outputs": [
    {
     "name": "stdout",
     "output_type": "stream",
     "text": [
      "Epoch 1/100\n",
      "60/60 [==============================] - 74s 1s/step - loss: 0.6979 - acc: 0.5041 - val_loss: 0.7127 - val_acc: 0.5020\n",
      "Epoch 2/100\n",
      "60/60 [==============================] - 60s 1s/step - loss: 0.6959 - acc: 0.5122 - val_loss: 0.6860 - val_acc: 0.5474\n",
      "Epoch 3/100\n",
      "60/60 [==============================] - 59s 977ms/step - loss: 0.6843 - acc: 0.5692 - val_loss: 0.6710 - val_acc: 0.5706\n",
      "Epoch 4/100\n",
      "60/60 [==============================] - 59s 986ms/step - loss: 0.6725 - acc: 0.5837 - val_loss: 0.6522 - val_acc: 0.6079\n",
      "Epoch 5/100\n",
      "60/60 [==============================] - 60s 990ms/step - loss: 0.6685 - acc: 0.5940 - val_loss: 0.6510 - val_acc: 0.6159\n",
      "Epoch 6/100\n",
      "60/60 [==============================] - 59s 987ms/step - loss: 0.6526 - acc: 0.6110 - val_loss: 0.6705 - val_acc: 0.5514\n",
      "Epoch 7/100\n",
      "60/60 [==============================] - 59s 977ms/step - loss: 0.6683 - acc: 0.5957 - val_loss: 0.6316 - val_acc: 0.6361\n",
      "Epoch 8/100\n",
      "60/60 [==============================] - 59s 986ms/step - loss: 0.6392 - acc: 0.6457 - val_loss: 0.6124 - val_acc: 0.6532\n",
      "Epoch 9/100\n",
      "60/60 [==============================] - 62s 1s/step - loss: 0.6303 - acc: 0.6479 - val_loss: 0.6324 - val_acc: 0.6149\n",
      "Epoch 10/100\n",
      "60/60 [==============================] - 62s 1s/step - loss: 0.6162 - acc: 0.6481 - val_loss: 0.6020 - val_acc: 0.6784\n",
      "Epoch 11/100\n",
      "60/60 [==============================] - 60s 995ms/step - loss: 0.6189 - acc: 0.6585 - val_loss: 0.6148 - val_acc: 0.6421\n",
      "Epoch 12/100\n",
      "60/60 [==============================] - 61s 1s/step - loss: 0.6094 - acc: 0.6703 - val_loss: 0.5774 - val_acc: 0.6966\n",
      "Epoch 13/100\n",
      "60/60 [==============================] - 60s 997ms/step - loss: 0.5982 - acc: 0.6801 - val_loss: 0.6110 - val_acc: 0.6573\n",
      "Epoch 14/100\n",
      "60/60 [==============================] - 62s 1s/step - loss: 0.5798 - acc: 0.6896 - val_loss: 0.5634 - val_acc: 0.7167\n",
      "Epoch 15/100\n",
      "60/60 [==============================] - 60s 994ms/step - loss: 0.5876 - acc: 0.6756 - val_loss: 0.5709 - val_acc: 0.7016\n",
      "Epoch 16/100\n",
      "60/60 [==============================] - 59s 986ms/step - loss: 0.5947 - acc: 0.6751 - val_loss: 0.5445 - val_acc: 0.7228\n",
      "Epoch 17/100\n",
      "60/60 [==============================] - 59s 987ms/step - loss: 0.5912 - acc: 0.6826 - val_loss: 0.5485 - val_acc: 0.7117\n",
      "Epoch 18/100\n",
      "60/60 [==============================] - 59s 986ms/step - loss: 0.5740 - acc: 0.7089 - val_loss: 0.5526 - val_acc: 0.7177\n",
      "Epoch 19/100\n",
      "60/60 [==============================] - 59s 981ms/step - loss: 0.5778 - acc: 0.6879 - val_loss: 0.5417 - val_acc: 0.7198\n",
      "Epoch 20/100\n",
      "60/60 [==============================] - 59s 982ms/step - loss: 0.5880 - acc: 0.6814 - val_loss: 0.5276 - val_acc: 0.7379\n",
      "Epoch 21/100\n",
      "60/60 [==============================] - 59s 987ms/step - loss: 0.5467 - acc: 0.7166 - val_loss: 0.5586 - val_acc: 0.6925\n",
      "Epoch 22/100\n",
      "60/60 [==============================] - 59s 987ms/step - loss: 0.5671 - acc: 0.6799 - val_loss: 0.5370 - val_acc: 0.7319\n",
      "Epoch 23/100\n",
      "60/60 [==============================] - 59s 980ms/step - loss: 0.5644 - acc: 0.7042 - val_loss: 0.5376 - val_acc: 0.7339\n",
      "Epoch 24/100\n",
      "60/60 [==============================] - 60s 1s/step - loss: 0.5461 - acc: 0.7160 - val_loss: 0.5168 - val_acc: 0.7339\n",
      "Epoch 25/100\n",
      "60/60 [==============================] - 60s 994ms/step - loss: 0.5536 - acc: 0.7204 - val_loss: 0.5175 - val_acc: 0.7218\n",
      "Epoch 26/100\n",
      "60/60 [==============================] - 59s 990ms/step - loss: 0.5379 - acc: 0.7248 - val_loss: 0.5113 - val_acc: 0.7298\n",
      "Epoch 27/100\n",
      "60/60 [==============================] - 67s 1s/step - loss: 0.5426 - acc: 0.7264 - val_loss: 0.4954 - val_acc: 0.7490\n",
      "Epoch 28/100\n",
      "60/60 [==============================] - 58s 972ms/step - loss: 0.5519 - acc: 0.7230 - val_loss: 0.5284 - val_acc: 0.7389\n",
      "Epoch 29/100\n",
      "60/60 [==============================] - 59s 980ms/step - loss: 0.5583 - acc: 0.7076 - val_loss: 0.5036 - val_acc: 0.7429\n",
      "Epoch 30/100\n",
      "60/60 [==============================] - 59s 990ms/step - loss: 0.5302 - acc: 0.7281 - val_loss: 0.5685 - val_acc: 0.7097\n",
      "Epoch 31/100\n",
      "60/60 [==============================] - 59s 982ms/step - loss: 0.5378 - acc: 0.7205 - val_loss: 0.4952 - val_acc: 0.7480\n",
      "Epoch 32/100\n",
      "60/60 [==============================] - 59s 983ms/step - loss: 0.5454 - acc: 0.7208 - val_loss: 0.4892 - val_acc: 0.7591\n",
      "Epoch 33/100\n",
      "60/60 [==============================] - 59s 987ms/step - loss: 0.5396 - acc: 0.7461 - val_loss: 0.5434 - val_acc: 0.7157\n",
      "Epoch 34/100\n",
      "60/60 [==============================] - 59s 989ms/step - loss: 0.5089 - acc: 0.7461 - val_loss: 0.4908 - val_acc: 0.7540\n",
      "Epoch 35/100\n",
      "60/60 [==============================] - 59s 990ms/step - loss: 0.5349 - acc: 0.7165 - val_loss: 0.4848 - val_acc: 0.7540\n",
      "Epoch 36/100\n",
      "60/60 [==============================] - 59s 988ms/step - loss: 0.5277 - acc: 0.7372 - val_loss: 0.4788 - val_acc: 0.7641\n",
      "Epoch 37/100\n",
      "60/60 [==============================] - 60s 993ms/step - loss: 0.5181 - acc: 0.7474 - val_loss: 0.5919 - val_acc: 0.6996\n",
      "Epoch 38/100\n",
      "60/60 [==============================] - 60s 1s/step - loss: 0.5171 - acc: 0.7491 - val_loss: 0.4995 - val_acc: 0.7490\n",
      "Epoch 39/100\n",
      "60/60 [==============================] - 60s 998ms/step - loss: 0.5029 - acc: 0.7557 - val_loss: 0.4791 - val_acc: 0.7692\n",
      "Epoch 40/100\n",
      "60/60 [==============================] - 60s 1000ms/step - loss: 0.5158 - acc: 0.7461 - val_loss: 0.5272 - val_acc: 0.7208\n",
      "Epoch 41/100\n",
      "60/60 [==============================] - 60s 1s/step - loss: 0.5000 - acc: 0.7633 - val_loss: 0.4936 - val_acc: 0.7802\n",
      "Epoch 42/100\n",
      "60/60 [==============================] - 61s 1s/step - loss: 0.5204 - acc: 0.7379 - val_loss: 0.5310 - val_acc: 0.7359\n",
      "Epoch 43/100\n",
      "60/60 [==============================] - 60s 998ms/step - loss: 0.5087 - acc: 0.7432 - val_loss: 0.4942 - val_acc: 0.7500\n",
      "Epoch 44/100\n",
      "60/60 [==============================] - 60s 1s/step - loss: 0.4933 - acc: 0.7562 - val_loss: 0.5124 - val_acc: 0.7389\n",
      "Epoch 45/100\n",
      "60/60 [==============================] - 61s 1s/step - loss: 0.4763 - acc: 0.7597 - val_loss: 0.4844 - val_acc: 0.7520\n",
      "Epoch 46/100\n",
      "60/60 [==============================] - 61s 1s/step - loss: 0.5081 - acc: 0.7539 - val_loss: 0.4588 - val_acc: 0.7712\n",
      "Epoch 47/100\n",
      "60/60 [==============================] - 59s 984ms/step - loss: 0.4826 - acc: 0.7618 - val_loss: 0.4736 - val_acc: 0.7631\n",
      "Epoch 48/100\n",
      "60/60 [==============================] - 61s 1s/step - loss: 0.4790 - acc: 0.7741 - val_loss: 0.4913 - val_acc: 0.7510\n",
      "Epoch 49/100\n",
      "60/60 [==============================] - 59s 983ms/step - loss: 0.4990 - acc: 0.7592 - val_loss: 0.4746 - val_acc: 0.7722\n",
      "Epoch 50/100\n",
      "60/60 [==============================] - 59s 987ms/step - loss: 0.5014 - acc: 0.7579 - val_loss: 0.4586 - val_acc: 0.7742\n",
      "Epoch 51/100\n",
      "60/60 [==============================] - 59s 983ms/step - loss: 0.5015 - acc: 0.7579 - val_loss: 0.4881 - val_acc: 0.7450\n",
      "Epoch 52/100\n",
      "60/60 [==============================] - 59s 985ms/step - loss: 0.4747 - acc: 0.7567 - val_loss: 0.4616 - val_acc: 0.7712\n",
      "Epoch 53/100\n",
      "60/60 [==============================] - 59s 984ms/step - loss: 0.4877 - acc: 0.7671 - val_loss: 0.5754 - val_acc: 0.6976\n",
      "Epoch 54/100\n",
      "60/60 [==============================] - 59s 982ms/step - loss: 0.5088 - acc: 0.7506 - val_loss: 0.4621 - val_acc: 0.7712\n",
      "Epoch 55/100\n",
      "60/60 [==============================] - 60s 999ms/step - loss: 0.4754 - acc: 0.7727 - val_loss: 0.4501 - val_acc: 0.7873\n",
      "Epoch 56/100\n",
      "60/60 [==============================] - 59s 977ms/step - loss: 0.4750 - acc: 0.7807 - val_loss: 0.4751 - val_acc: 0.7621\n",
      "Epoch 57/100\n",
      "60/60 [==============================] - 60s 1s/step - loss: 0.4342 - acc: 0.7941 - val_loss: 0.4609 - val_acc: 0.7762\n",
      "Epoch 58/100\n",
      "60/60 [==============================] - 59s 989ms/step - loss: 0.4881 - acc: 0.7605 - val_loss: 0.4593 - val_acc: 0.7792\n",
      "Epoch 59/100\n",
      "60/60 [==============================] - 60s 1s/step - loss: 0.4616 - acc: 0.7879 - val_loss: 0.4596 - val_acc: 0.7843\n",
      "Epoch 60/100\n",
      "60/60 [==============================] - 59s 982ms/step - loss: 0.4810 - acc: 0.7617 - val_loss: 0.4514 - val_acc: 0.7863\n",
      "Epoch 61/100\n",
      "60/60 [==============================] - 59s 984ms/step - loss: 0.4619 - acc: 0.7852 - val_loss: 0.4636 - val_acc: 0.7702\n",
      "Epoch 62/100\n"
     ]
    },
    {
     "name": "stdout",
     "output_type": "stream",
     "text": [
      "60/60 [==============================] - 59s 986ms/step - loss: 0.4569 - acc: 0.7768 - val_loss: 0.4567 - val_acc: 0.7863\n",
      "Epoch 63/100\n",
      "60/60 [==============================] - 59s 980ms/step - loss: 0.4948 - acc: 0.7568 - val_loss: 0.4632 - val_acc: 0.7692\n",
      "Epoch 64/100\n",
      "60/60 [==============================] - 61s 1s/step - loss: 0.4624 - acc: 0.7690 - val_loss: 0.4812 - val_acc: 0.7651\n",
      "Epoch 65/100\n",
      "60/60 [==============================] - 60s 1s/step - loss: 0.4590 - acc: 0.7807 - val_loss: 0.4461 - val_acc: 0.7883\n",
      "Epoch 66/100\n",
      "60/60 [==============================] - 60s 994ms/step - loss: 0.4693 - acc: 0.7768 - val_loss: 0.4737 - val_acc: 0.7752\n",
      "Epoch 67/100\n",
      "60/60 [==============================] - 60s 996ms/step - loss: 0.4575 - acc: 0.7839 - val_loss: 0.4612 - val_acc: 0.7752\n",
      "Epoch 68/100\n",
      "60/60 [==============================] - 59s 988ms/step - loss: 0.4644 - acc: 0.7706 - val_loss: 0.4922 - val_acc: 0.7621\n",
      "Epoch 69/100\n",
      "60/60 [==============================] - 59s 982ms/step - loss: 0.4884 - acc: 0.7618 - val_loss: 0.4337 - val_acc: 0.7974\n",
      "Epoch 70/100\n",
      "60/60 [==============================] - 59s 979ms/step - loss: 0.4719 - acc: 0.7733 - val_loss: 0.5007 - val_acc: 0.7651\n",
      "Epoch 71/100\n",
      "60/60 [==============================] - 59s 979ms/step - loss: 0.4622 - acc: 0.7890 - val_loss: 0.4612 - val_acc: 0.7742\n",
      "Epoch 72/100\n",
      "60/60 [==============================] - 59s 986ms/step - loss: 0.4549 - acc: 0.7868 - val_loss: 0.4253 - val_acc: 0.8054\n",
      "Epoch 73/100\n",
      "60/60 [==============================] - 59s 982ms/step - loss: 0.4516 - acc: 0.7784 - val_loss: 0.4466 - val_acc: 0.7903\n",
      "Epoch 74/100\n",
      "60/60 [==============================] - 59s 983ms/step - loss: 0.4463 - acc: 0.7906 - val_loss: 0.4441 - val_acc: 0.7792\n",
      "Epoch 75/100\n",
      "60/60 [==============================] - 59s 980ms/step - loss: 0.4612 - acc: 0.7872 - val_loss: 0.4413 - val_acc: 0.7974\n",
      "Epoch 76/100\n",
      "60/60 [==============================] - 60s 992ms/step - loss: 0.4163 - acc: 0.8166 - val_loss: 0.5319 - val_acc: 0.7329\n",
      "Epoch 77/100\n",
      "60/60 [==============================] - 60s 997ms/step - loss: 0.4678 - acc: 0.7691 - val_loss: 0.5275 - val_acc: 0.7621\n",
      "Epoch 78/100\n",
      "60/60 [==============================] - 59s 989ms/step - loss: 0.4379 - acc: 0.7950 - val_loss: 0.4482 - val_acc: 0.7893\n",
      "Epoch 79/100\n",
      "60/60 [==============================] - 60s 1s/step - loss: 0.4312 - acc: 0.8006 - val_loss: 0.4519 - val_acc: 0.7812\n",
      "Epoch 80/100\n",
      "60/60 [==============================] - 59s 983ms/step - loss: 0.4382 - acc: 0.7893 - val_loss: 0.4435 - val_acc: 0.7883\n",
      "Epoch 81/100\n",
      "60/60 [==============================] - 61s 1s/step - loss: 0.4335 - acc: 0.7889 - val_loss: 0.4792 - val_acc: 0.7661\n",
      "Epoch 82/100\n",
      "60/60 [==============================] - 75s 1s/step - loss: 0.4194 - acc: 0.8038 - val_loss: 0.4983 - val_acc: 0.7540\n",
      "Epoch 83/100\n",
      "60/60 [==============================] - 61s 1s/step - loss: 0.4135 - acc: 0.8145 - val_loss: 0.4603 - val_acc: 0.7823\n",
      "Epoch 84/100\n",
      "60/60 [==============================] - 58s 974ms/step - loss: 0.4292 - acc: 0.7999 - val_loss: 0.4792 - val_acc: 0.7681\n",
      "Epoch 85/100\n",
      "60/60 [==============================] - 59s 978ms/step - loss: 0.4314 - acc: 0.7958 - val_loss: 0.4616 - val_acc: 0.7782\n",
      "Epoch 86/100\n",
      "60/60 [==============================] - 59s 988ms/step - loss: 0.4293 - acc: 0.8026 - val_loss: 0.4432 - val_acc: 0.7974\n",
      "Epoch 87/100\n",
      "60/60 [==============================] - 59s 988ms/step - loss: 0.4175 - acc: 0.8254 - val_loss: 0.4480 - val_acc: 0.7933\n",
      "Epoch 88/100\n",
      "60/60 [==============================] - 58s 972ms/step - loss: 0.4331 - acc: 0.7938 - val_loss: 0.4263 - val_acc: 0.8024\n",
      "Epoch 89/100\n",
      "60/60 [==============================] - 59s 975ms/step - loss: 0.4278 - acc: 0.8014 - val_loss: 0.4811 - val_acc: 0.7712\n",
      "Epoch 90/100\n",
      "60/60 [==============================] - 58s 972ms/step - loss: 0.4182 - acc: 0.8127 - val_loss: 0.4340 - val_acc: 0.7923\n",
      "Epoch 91/100\n",
      "60/60 [==============================] - 59s 975ms/step - loss: 0.4205 - acc: 0.8166 - val_loss: 0.4663 - val_acc: 0.7913\n",
      "Epoch 92/100\n",
      "60/60 [==============================] - 60s 1s/step - loss: 0.4127 - acc: 0.8152 - val_loss: 0.4486 - val_acc: 0.7923\n",
      "Epoch 93/100\n",
      "60/60 [==============================] - 59s 990ms/step - loss: 0.4324 - acc: 0.8129 - val_loss: 0.4620 - val_acc: 0.7923\n",
      "Epoch 94/100\n",
      "60/60 [==============================] - 64s 1s/step - loss: 0.4102 - acc: 0.8118 - val_loss: 0.4517 - val_acc: 0.8065\n",
      "Epoch 95/100\n",
      "60/60 [==============================] - 61s 1s/step - loss: 0.3719 - acc: 0.8366 - val_loss: 0.4285 - val_acc: 0.7954\n",
      "Epoch 96/100\n",
      "60/60 [==============================] - 62s 1s/step - loss: 0.4344 - acc: 0.8002 - val_loss: 0.4453 - val_acc: 0.7903\n",
      "Epoch 97/100\n",
      "60/60 [==============================] - 62s 1s/step - loss: 0.4177 - acc: 0.7991 - val_loss: 0.4321 - val_acc: 0.8065\n",
      "Epoch 98/100\n",
      "60/60 [==============================] - 59s 979ms/step - loss: 0.4137 - acc: 0.8185 - val_loss: 0.4161 - val_acc: 0.8085\n",
      "Epoch 99/100\n",
      "60/60 [==============================] - 62s 1s/step - loss: 0.4103 - acc: 0.8130 - val_loss: 0.4100 - val_acc: 0.8054\n",
      "Epoch 100/100\n",
      "60/60 [==============================] - 59s 983ms/step - loss: 0.4132 - acc: 0.8156 - val_loss: 0.4622 - val_acc: 0.7933\n"
     ]
    }
   ],
   "source": [
    "history = model.fit(\n",
    "        train_generator,\n",
    "        # steps_per_epoch is number of batch*steps_per_epoch = number of img in the folder\n",
    "        steps_per_epoch= 60,\n",
    "        epochs= 100,\n",
    "        validation_data= valid_generator,\n",
    "        validation_steps=31,\n",
    "        callbacks=[checkpoint_cb])"
   ]
  },
  {
   "cell_type": "code",
   "execution_count": 12,
   "metadata": {},
   "outputs": [
    {
     "data": {
      "text/plain": [
       "(0.0, 1.0)"
      ]
     },
     "execution_count": 12,
     "metadata": {},
     "output_type": "execute_result"
    },
    {
     "data": {
      "image/png": "[encoded data removed]",
      "text/plain": [
       "<Figure size 576x360 with 1 Axes>"
      ]
     },
     "metadata": {
      "needs_background": "light"
     },
     "output_type": "display_data"
    }
   ],
   "source": [
    "pd.DataFrame(history.history).plot(figsize = (8,5))\n",
    "plt.grid(True)\n",
    "plt.gca().set_ylim(0,1)"
   ]
  },
  {
   "cell_type": "code",
   "execution_count": 20,
   "metadata": {},
   "outputs": [],
   "source": [
    "model = keras.models.load_model(\"Best_Model.h5\")"
   ]
  },
  {
   "cell_type": "code",
   "execution_count": 21,
   "metadata": {},
   "outputs": [
    {
     "name": "stdout",
     "output_type": "stream",
     "text": [
      "Model: \"sequential\"\n",
      "_________________________________________________________________\n",
      "Layer (type)                 Output Shape              Param #   \n",
      "=================================================================\n",
      "conv2d (Conv2D)              (None, 148, 148, 32)      896       \n",
      "_________________________________________________________________\n",
      "max_pooling2d (MaxPooling2D) (None, 74, 74, 32)        0         \n",
      "_________________________________________________________________\n",
      "conv2d_1 (Conv2D)            (None, 72, 72, 64)        18496     \n",
      "_________________________________________________________________\n",
      "max_pooling2d_1 (MaxPooling2 (None, 36, 36, 64)        0         \n",
      "_________________________________________________________________\n",
      "conv2d_2 (Conv2D)            (None, 34, 34, 128)       73856     \n",
      "_________________________________________________________________\n",
      "max_pooling2d_2 (MaxPooling2 (None, 17, 17, 128)       0         \n",
      "_________________________________________________________________\n",
      "conv2d_3 (Conv2D)            (None, 15, 15, 128)       147584    \n",
      "_________________________________________________________________\n",
      "max_pooling2d_3 (MaxPooling2 (None, 7, 7, 128)         0         \n",
      "_________________________________________________________________\n",
      "flatten (Flatten)            (None, 6272)              0         \n",
      "_________________________________________________________________\n",
      "dropout (Dropout)            (None, 6272)              0         \n",
      "_________________________________________________________________\n",
      "dense (Dense)                (None, 512)               3211776   \n",
      "_________________________________________________________________\n",
      "dense_1 (Dense)              (None, 1)                 513       \n",
      "=================================================================\n",
      "Total params: 3,453,121\n",
      "Trainable params: 3,453,121\n",
      "Non-trainable params: 0\n",
      "_________________________________________________________________\n"
     ]
    }
   ],
   "source": [
    "model.summary()"
   ]
  },
  {
   "cell_type": "markdown",
   "metadata": {},
   "source": [
    "# Architecture for CNN models\n",
    "# VGG16"
   ]
  },
  {
   "cell_type": "code",
   "execution_count": 22,
   "metadata": {},
   "outputs": [],
   "source": [
    "del model\n",
    "keras.backend.clear_session()"
   ]
  },
  {
   "cell_type": "code",
   "execution_count": 30,
   "metadata": {},
   "outputs": [
    {
     "name": "stdout",
     "output_type": "stream",
     "text": [
      "Found 2000 images belonging to 2 classes.\n",
      "Found 1000 images belonging to 2 classes.\n"
     ]
    }
   ],
   "source": [
    "train_datagen = ImageDataGenerator(\n",
    "    rescale=1./255,\n",
    "    rotation_range= 40,\n",
    "    width_shift_range=0.2,\n",
    "    height_shift_range=0.2,\n",
    "    shear_range= 0.2,\n",
    "    zoom_range= 0.2,\n",
    "    horizontal_flip=True,)\n",
    "\n",
    "test_datagen = ImageDataGenerator(rescale=1./255)\n",
    "\n",
    "train_generator = train_datagen.flow_from_directory(\n",
    "        train_dir,\n",
    "        target_size=(150,150),\n",
    "        batch_size= 20,\n",
    "        class_mode=\"binary\")\n",
    "\n",
    "valid_generator = test_datagen.flow_from_directory(\n",
    "        validation_dir,\n",
    "        target_size=(150,150),\n",
    "        batch_size= 20,\n",
    "        class_mode=\"binary\")"
   ]
  },
  {
   "cell_type": "code",
   "execution_count": 24,
   "metadata": {},
   "outputs": [],
   "source": [
    "from tensorflow.keras.applications import VGG16"
   ]
  },
  {
   "cell_type": "code",
   "execution_count": 25,
   "metadata": {},
   "outputs": [
    {
     "name": "stdout",
     "output_type": "stream",
     "text": [
      "Downloading data from https://storage.googleapis.com/tensorflow/keras-applications/vgg16/vgg16_weights_tf_dim_ordering_tf_kernels_notop.h5\n",
      "58892288/58889256 [==============================] - 21s 0us/step\n"
     ]
    }
   ],
   "source": [
    "con_base = VGG16(weights=\"imagenet\",\n",
    "                include_top = False,\n",
    "                input_shape = (150,150,3))"
   ]
  },
  {
   "cell_type": "code",
   "execution_count": 26,
   "metadata": {},
   "outputs": [
    {
     "name": "stdout",
     "output_type": "stream",
     "text": [
      "Model: \"vgg16\"\n",
      "_________________________________________________________________\n",
      "Layer (type)                 Output Shape              Param #   \n",
      "=================================================================\n",
      "input_1 (InputLayer)         [(None, 150, 150, 3)]     0         \n",
      "_________________________________________________________________\n",
      "block1_conv1 (Conv2D)        (None, 150, 150, 64)      1792      \n",
      "_________________________________________________________________\n",
      "block1_conv2 (Conv2D)        (None, 150, 150, 64)      36928     \n",
      "_________________________________________________________________\n",
      "block1_pool (MaxPooling2D)   (None, 75, 75, 64)        0         \n",
      "_________________________________________________________________\n",
      "block2_conv1 (Conv2D)        (None, 75, 75, 128)       73856     \n",
      "_________________________________________________________________\n",
      "block2_conv2 (Conv2D)        (None, 75, 75, 128)       147584    \n",
      "_________________________________________________________________\n",
      "block2_pool (MaxPooling2D)   (None, 37, 37, 128)       0         \n",
      "_________________________________________________________________\n",
      "block3_conv1 (Conv2D)        (None, 37, 37, 256)       295168    \n",
      "_________________________________________________________________\n",
      "block3_conv2 (Conv2D)        (None, 37, 37, 256)       590080    \n",
      "_________________________________________________________________\n",
      "block3_conv3 (Conv2D)        (None, 37, 37, 256)       590080    \n",
      "_________________________________________________________________\n",
      "block3_pool (MaxPooling2D)   (None, 18, 18, 256)       0         \n",
      "_________________________________________________________________\n",
      "block4_conv1 (Conv2D)        (None, 18, 18, 512)       1180160   \n",
      "_________________________________________________________________\n",
      "block4_conv2 (Conv2D)        (None, 18, 18, 512)       2359808   \n",
      "_________________________________________________________________\n",
      "block4_conv3 (Conv2D)        (None, 18, 18, 512)       2359808   \n",
      "_________________________________________________________________\n",
      "block4_pool (MaxPooling2D)   (None, 9, 9, 512)         0         \n",
      "_________________________________________________________________\n",
      "block5_conv1 (Conv2D)        (None, 9, 9, 512)         2359808   \n",
      "_________________________________________________________________\n",
      "block5_conv2 (Conv2D)        (None, 9, 9, 512)         2359808   \n",
      "_________________________________________________________________\n",
      "block5_conv3 (Conv2D)        (None, 9, 9, 512)         2359808   \n",
      "_________________________________________________________________\n",
      "block5_pool (MaxPooling2D)   (None, 4, 4, 512)         0         \n",
      "=================================================================\n",
      "Total params: 14,714,688\n",
      "Trainable params: 14,714,688\n",
      "Non-trainable params: 0\n",
      "_________________________________________________________________\n"
     ]
    }
   ],
   "source": [
    "con_base.summary()"
   ]
  },
  {
   "cell_type": "code",
   "execution_count": 27,
   "metadata": {},
   "outputs": [],
   "source": [
    "from tensorflow.keras import models\n",
    "from tensorflow.keras import layers"
   ]
  },
  {
   "cell_type": "code",
   "execution_count": 28,
   "metadata": {},
   "outputs": [],
   "source": [
    "model = models.Sequential()\n",
    "model.add(con_base)\n",
    "model.add(layers.Flatten())\n",
    "model.add(layers.Dense(256,activation = \"relu\"))\n",
    "model.add(layers.Dense(1, activation = \"sigmoid\"))"
   ]
  },
  {
   "cell_type": "code",
   "execution_count": 29,
   "metadata": {},
   "outputs": [
    {
     "name": "stdout",
     "output_type": "stream",
     "text": [
      "Model: \"sequential\"\n",
      "_________________________________________________________________\n",
      "Layer (type)                 Output Shape              Param #   \n",
      "=================================================================\n",
      "vgg16 (Functional)           (None, 4, 4, 512)         14714688  \n",
      "_________________________________________________________________\n",
      "flatten (Flatten)            (None, 8192)              0         \n",
      "_________________________________________________________________\n",
      "dense (Dense)                (None, 256)               2097408   \n",
      "_________________________________________________________________\n",
      "dense_1 (Dense)              (None, 1)                 257       \n",
      "=================================================================\n",
      "Total params: 16,812,353\n",
      "Trainable params: 16,812,353\n",
      "Non-trainable params: 0\n",
      "_________________________________________________________________\n"
     ]
    }
   ],
   "source": [
    "model.summary()"
   ]
  },
  {
   "cell_type": "code",
   "execution_count": 31,
   "metadata": {},
   "outputs": [],
   "source": [
    "model.compile(loss = \"binary_crossentropy\",\n",
    "             optimizer = optimizers.RMSprop(lr = 2e-5),\n",
    "             metrics = [\"acc\"])\n",
    "checkpoint_cb = keras.callbacks.ModelCheckpoint(\"Best_Model_vgg.h5\", save_best_only=True)"
   ]
  },
  {
   "cell_type": "code",
   "execution_count": 32,
   "metadata": {},
   "outputs": [
    {
     "name": "stdout",
     "output_type": "stream",
     "text": [
      "Epoch 1/30\n",
      " 45/100 [============>.................] - ETA: 8:27 - loss: 0.7064 - acc: 0.5493"
     ]
    },
    {
     "ename": "KeyboardInterrupt",
     "evalue": "",
     "output_type": "error",
     "traceback": [
      "\u001b[1;31m---------------------------------------------------------------------------\u001b[0m",
      "\u001b[1;31mKeyboardInterrupt\u001b[0m                         Traceback (most recent call last)",
      "\u001b[1;32m<ipython-input-32-4aa546363223>\u001b[0m in \u001b[0;36m<module>\u001b[1;34m\u001b[0m\n\u001b[1;32m----> 1\u001b[1;33m history = model.fit(\n\u001b[0m\u001b[0;32m      2\u001b[0m         \u001b[0mtrain_generator\u001b[0m\u001b[1;33m,\u001b[0m\u001b[1;33m\u001b[0m\u001b[1;33m\u001b[0m\u001b[0m\n\u001b[0;32m      3\u001b[0m         \u001b[1;31m# steps_per_epoch is number of batch*steps_per_epoch = number of img in the folder\u001b[0m\u001b[1;33m\u001b[0m\u001b[1;33m\u001b[0m\u001b[1;33m\u001b[0m\u001b[0m\n\u001b[0;32m      4\u001b[0m         \u001b[0msteps_per_epoch\u001b[0m\u001b[1;33m=\u001b[0m \u001b[1;36m100\u001b[0m\u001b[1;33m,\u001b[0m\u001b[1;33m\u001b[0m\u001b[1;33m\u001b[0m\u001b[0m\n\u001b[0;32m      5\u001b[0m         \u001b[0mepochs\u001b[0m\u001b[1;33m=\u001b[0m \u001b[1;36m30\u001b[0m\u001b[1;33m,\u001b[0m\u001b[1;33m\u001b[0m\u001b[1;33m\u001b[0m\u001b[0m\n",
      "\u001b[1;32m~\\Anaconda3\\lib\\site-packages\\tensorflow\\python\\keras\\engine\\training.py\u001b[0m in \u001b[0;36mfit\u001b[1;34m(self, x, y, batch_size, epochs, verbose, callbacks, validation_split, validation_data, shuffle, class_weight, sample_weight, initial_epoch, steps_per_epoch, validation_steps, validation_batch_size, validation_freq, max_queue_size, workers, use_multiprocessing)\u001b[0m\n\u001b[0;32m   1098\u001b[0m                 _r=1):\n\u001b[0;32m   1099\u001b[0m               \u001b[0mcallbacks\u001b[0m\u001b[1;33m.\u001b[0m\u001b[0mon_train_batch_begin\u001b[0m\u001b[1;33m(\u001b[0m\u001b[0mstep\u001b[0m\u001b[1;33m)\u001b[0m\u001b[1;33m\u001b[0m\u001b[1;33m\u001b[0m\u001b[0m\n\u001b[1;32m-> 1100\u001b[1;33m               \u001b[0mtmp_logs\u001b[0m \u001b[1;33m=\u001b[0m \u001b[0mself\u001b[0m\u001b[1;33m.\u001b[0m\u001b[0mtrain_function\u001b[0m\u001b[1;33m(\u001b[0m\u001b[0miterator\u001b[0m\u001b[1;33m)\u001b[0m\u001b[1;33m\u001b[0m\u001b[1;33m\u001b[0m\u001b[0m\n\u001b[0m\u001b[0;32m   1101\u001b[0m               \u001b[1;32mif\u001b[0m \u001b[0mdata_handler\u001b[0m\u001b[1;33m.\u001b[0m\u001b[0mshould_sync\u001b[0m\u001b[1;33m:\u001b[0m\u001b[1;33m\u001b[0m\u001b[1;33m\u001b[0m\u001b[0m\n\u001b[0;32m   1102\u001b[0m                 \u001b[0mcontext\u001b[0m\u001b[1;33m.\u001b[0m\u001b[0masync_wait\u001b[0m\u001b[1;33m(\u001b[0m\u001b[1;33m)\u001b[0m\u001b[1;33m\u001b[0m\u001b[1;33m\u001b[0m\u001b[0m\n",
      "\u001b[1;32m~\\Anaconda3\\lib\\site-packages\\tensorflow\\python\\eager\\def_function.py\u001b[0m in \u001b[0;36m__call__\u001b[1;34m(self, *args, **kwds)\u001b[0m\n\u001b[0;32m    826\u001b[0m     \u001b[0mtracing_count\u001b[0m \u001b[1;33m=\u001b[0m \u001b[0mself\u001b[0m\u001b[1;33m.\u001b[0m\u001b[0mexperimental_get_tracing_count\u001b[0m\u001b[1;33m(\u001b[0m\u001b[1;33m)\u001b[0m\u001b[1;33m\u001b[0m\u001b[1;33m\u001b[0m\u001b[0m\n\u001b[0;32m    827\u001b[0m     \u001b[1;32mwith\u001b[0m \u001b[0mtrace\u001b[0m\u001b[1;33m.\u001b[0m\u001b[0mTrace\u001b[0m\u001b[1;33m(\u001b[0m\u001b[0mself\u001b[0m\u001b[1;33m.\u001b[0m\u001b[0m_name\u001b[0m\u001b[1;33m)\u001b[0m \u001b[1;32mas\u001b[0m \u001b[0mtm\u001b[0m\u001b[1;33m:\u001b[0m\u001b[1;33m\u001b[0m\u001b[1;33m\u001b[0m\u001b[0m\n\u001b[1;32m--> 828\u001b[1;33m       \u001b[0mresult\u001b[0m \u001b[1;33m=\u001b[0m \u001b[0mself\u001b[0m\u001b[1;33m.\u001b[0m\u001b[0m_call\u001b[0m\u001b[1;33m(\u001b[0m\u001b[1;33m*\u001b[0m\u001b[0margs\u001b[0m\u001b[1;33m,\u001b[0m \u001b[1;33m**\u001b[0m\u001b[0mkwds\u001b[0m\u001b[1;33m)\u001b[0m\u001b[1;33m\u001b[0m\u001b[1;33m\u001b[0m\u001b[0m\n\u001b[0m\u001b[0;32m    829\u001b[0m       \u001b[0mcompiler\u001b[0m \u001b[1;33m=\u001b[0m \u001b[1;34m\"xla\"\u001b[0m \u001b[1;32mif\u001b[0m \u001b[0mself\u001b[0m\u001b[1;33m.\u001b[0m\u001b[0m_experimental_compile\u001b[0m \u001b[1;32melse\u001b[0m \u001b[1;34m\"nonXla\"\u001b[0m\u001b[1;33m\u001b[0m\u001b[1;33m\u001b[0m\u001b[0m\n\u001b[0;32m    830\u001b[0m       \u001b[0mnew_tracing_count\u001b[0m \u001b[1;33m=\u001b[0m \u001b[0mself\u001b[0m\u001b[1;33m.\u001b[0m\u001b[0mexperimental_get_tracing_count\u001b[0m\u001b[1;33m(\u001b[0m\u001b[1;33m)\u001b[0m\u001b[1;33m\u001b[0m\u001b[1;33m\u001b[0m\u001b[0m\n",
      "\u001b[1;32m~\\Anaconda3\\lib\\site-packages\\tensorflow\\python\\eager\\def_function.py\u001b[0m in \u001b[0;36m_call\u001b[1;34m(self, *args, **kwds)\u001b[0m\n\u001b[0;32m    853\u001b[0m       \u001b[1;31m# In this case we have created variables on the first call, so we run the\u001b[0m\u001b[1;33m\u001b[0m\u001b[1;33m\u001b[0m\u001b[1;33m\u001b[0m\u001b[0m\n\u001b[0;32m    854\u001b[0m       \u001b[1;31m# defunned version which is guaranteed to never create variables.\u001b[0m\u001b[1;33m\u001b[0m\u001b[1;33m\u001b[0m\u001b[1;33m\u001b[0m\u001b[0m\n\u001b[1;32m--> 855\u001b[1;33m       \u001b[1;32mreturn\u001b[0m \u001b[0mself\u001b[0m\u001b[1;33m.\u001b[0m\u001b[0m_stateless_fn\u001b[0m\u001b[1;33m(\u001b[0m\u001b[1;33m*\u001b[0m\u001b[0margs\u001b[0m\u001b[1;33m,\u001b[0m \u001b[1;33m**\u001b[0m\u001b[0mkwds\u001b[0m\u001b[1;33m)\u001b[0m  \u001b[1;31m# pylint: disable=not-callable\u001b[0m\u001b[1;33m\u001b[0m\u001b[1;33m\u001b[0m\u001b[0m\n\u001b[0m\u001b[0;32m    856\u001b[0m     \u001b[1;32melif\u001b[0m \u001b[0mself\u001b[0m\u001b[1;33m.\u001b[0m\u001b[0m_stateful_fn\u001b[0m \u001b[1;32mis\u001b[0m \u001b[1;32mnot\u001b[0m \u001b[1;32mNone\u001b[0m\u001b[1;33m:\u001b[0m\u001b[1;33m\u001b[0m\u001b[1;33m\u001b[0m\u001b[0m\n\u001b[0;32m    857\u001b[0m       \u001b[1;31m# Release the lock early so that multiple threads can perform the call\u001b[0m\u001b[1;33m\u001b[0m\u001b[1;33m\u001b[0m\u001b[1;33m\u001b[0m\u001b[0m\n",
      "\u001b[1;32m~\\Anaconda3\\lib\\site-packages\\tensorflow\\python\\eager\\function.py\u001b[0m in \u001b[0;36m__call__\u001b[1;34m(self, *args, **kwargs)\u001b[0m\n\u001b[0;32m   2940\u001b[0m       (graph_function,\n\u001b[0;32m   2941\u001b[0m        filtered_flat_args) = self._maybe_define_function(args, kwargs)\n\u001b[1;32m-> 2942\u001b[1;33m     return graph_function._call_flat(\n\u001b[0m\u001b[0;32m   2943\u001b[0m         filtered_flat_args, captured_inputs=graph_function.captured_inputs)  # pylint: disable=protected-access\n\u001b[0;32m   2944\u001b[0m \u001b[1;33m\u001b[0m\u001b[0m\n",
      "\u001b[1;32m~\\Anaconda3\\lib\\site-packages\\tensorflow\\python\\eager\\function.py\u001b[0m in \u001b[0;36m_call_flat\u001b[1;34m(self, args, captured_inputs, cancellation_manager)\u001b[0m\n\u001b[0;32m   1916\u001b[0m         and executing_eagerly):\n\u001b[0;32m   1917\u001b[0m       \u001b[1;31m# No tape is watching; skip to running the function.\u001b[0m\u001b[1;33m\u001b[0m\u001b[1;33m\u001b[0m\u001b[1;33m\u001b[0m\u001b[0m\n\u001b[1;32m-> 1918\u001b[1;33m       return self._build_call_outputs(self._inference_function.call(\n\u001b[0m\u001b[0;32m   1919\u001b[0m           ctx, args, cancellation_manager=cancellation_manager))\n\u001b[0;32m   1920\u001b[0m     forward_backward = self._select_forward_and_backward_functions(\n",
      "\u001b[1;32m~\\Anaconda3\\lib\\site-packages\\tensorflow\\python\\eager\\function.py\u001b[0m in \u001b[0;36mcall\u001b[1;34m(self, ctx, args, cancellation_manager)\u001b[0m\n\u001b[0;32m    553\u001b[0m       \u001b[1;32mwith\u001b[0m \u001b[0m_InterpolateFunctionError\u001b[0m\u001b[1;33m(\u001b[0m\u001b[0mself\u001b[0m\u001b[1;33m)\u001b[0m\u001b[1;33m:\u001b[0m\u001b[1;33m\u001b[0m\u001b[1;33m\u001b[0m\u001b[0m\n\u001b[0;32m    554\u001b[0m         \u001b[1;32mif\u001b[0m \u001b[0mcancellation_manager\u001b[0m \u001b[1;32mis\u001b[0m \u001b[1;32mNone\u001b[0m\u001b[1;33m:\u001b[0m\u001b[1;33m\u001b[0m\u001b[1;33m\u001b[0m\u001b[0m\n\u001b[1;32m--> 555\u001b[1;33m           outputs = execute.execute(\n\u001b[0m\u001b[0;32m    556\u001b[0m               \u001b[0mstr\u001b[0m\u001b[1;33m(\u001b[0m\u001b[0mself\u001b[0m\u001b[1;33m.\u001b[0m\u001b[0msignature\u001b[0m\u001b[1;33m.\u001b[0m\u001b[0mname\u001b[0m\u001b[1;33m)\u001b[0m\u001b[1;33m,\u001b[0m\u001b[1;33m\u001b[0m\u001b[1;33m\u001b[0m\u001b[0m\n\u001b[0;32m    557\u001b[0m               \u001b[0mnum_outputs\u001b[0m\u001b[1;33m=\u001b[0m\u001b[0mself\u001b[0m\u001b[1;33m.\u001b[0m\u001b[0m_num_outputs\u001b[0m\u001b[1;33m,\u001b[0m\u001b[1;33m\u001b[0m\u001b[1;33m\u001b[0m\u001b[0m\n",
      "\u001b[1;32m~\\Anaconda3\\lib\\site-packages\\tensorflow\\python\\eager\\execute.py\u001b[0m in \u001b[0;36mquick_execute\u001b[1;34m(op_name, num_outputs, inputs, attrs, ctx, name)\u001b[0m\n\u001b[0;32m     57\u001b[0m   \u001b[1;32mtry\u001b[0m\u001b[1;33m:\u001b[0m\u001b[1;33m\u001b[0m\u001b[1;33m\u001b[0m\u001b[0m\n\u001b[0;32m     58\u001b[0m     \u001b[0mctx\u001b[0m\u001b[1;33m.\u001b[0m\u001b[0mensure_initialized\u001b[0m\u001b[1;33m(\u001b[0m\u001b[1;33m)\u001b[0m\u001b[1;33m\u001b[0m\u001b[1;33m\u001b[0m\u001b[0m\n\u001b[1;32m---> 59\u001b[1;33m     tensors = pywrap_tfe.TFE_Py_Execute(ctx._handle, device_name, op_name,\n\u001b[0m\u001b[0;32m     60\u001b[0m                                         inputs, attrs, num_outputs)\n\u001b[0;32m     61\u001b[0m   \u001b[1;32mexcept\u001b[0m \u001b[0mcore\u001b[0m\u001b[1;33m.\u001b[0m\u001b[0m_NotOkStatusException\u001b[0m \u001b[1;32mas\u001b[0m \u001b[0me\u001b[0m\u001b[1;33m:\u001b[0m\u001b[1;33m\u001b[0m\u001b[1;33m\u001b[0m\u001b[0m\n",
      "\u001b[1;31mKeyboardInterrupt\u001b[0m: "
     ]
    }
   ],
   "source": [
    "history = model.fit(\n",
    "        train_generator,\n",
    "        # steps_per_epoch is number of batch*steps_per_epoch = number of img in the folder\n",
    "        steps_per_epoch= 100,\n",
    "        epochs= 30,\n",
    "        validation_data= valid_generator,\n",
    "        validation_steps=50,\n",
    "        callbacks=[checkpoint_cb])"
   ]
  },
  {
   "cell_type": "code",
   "execution_count": 41,
   "metadata": {},
   "outputs": [
    {
     "name": "stdout",
     "output_type": "stream",
     "text": [
      "Found 1000 images belonging to 2 classes.\n"
     ]
    }
   ],
   "source": [
    "test_generator = test_datagen.flow_from_directory(\n",
    "        test_dir,\n",
    "        target_size=(150,150),\n",
    "        batch_size= 32,\n",
    "        class_mode=\"binary\")"
   ]
  }
 ],
 "metadata": {
  "kernelspec": {
   "display_name": "Python 3",
   "language": "python",
   "name": "python3"
  },
  "language_info": {
   "codemirror_mode": {
    "name": "ipython",
    "version": 3
   },
   "file_extension": ".py",
   "mimetype": "text/x-python",
   "name": "python",
   "nbconvert_exporter": "python",
   "pygments_lexer": "ipython3",
   "version": "3.8.5"
  }
 },
 "nbformat": 4,
 "nbformat_minor": 4
}
